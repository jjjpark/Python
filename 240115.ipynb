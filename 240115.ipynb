{
  "nbformat": 4,
  "nbformat_minor": 0,
  "metadata": {
    "colab": {
      "provenance": [],
      "authorship_tag": "ABX9TyMjr5sGFejupcaGLyrNZ04/",
      "include_colab_link": true
    },
    "kernelspec": {
      "name": "python3",
      "display_name": "Python 3"
    },
    "language_info": {
      "name": "python"
    }
  },
  "cells": [
    {
      "cell_type": "markdown",
      "metadata": {
        "id": "view-in-github",
        "colab_type": "text"
      },
      "source": [
        "<a href=\"https://colab.research.google.com/github/jjjpark/Python/blob/main/240115.ipynb\" target=\"_parent\"><img src=\"https://colab.research.google.com/assets/colab-badge.svg\" alt=\"Open In Colab\"/></a>"
      ]
    },
    {
      "cell_type": "code",
      "execution_count": 1,
      "metadata": {
        "colab": {
          "base_uri": "https://localhost:8080/"
        },
        "id": "g-iEJtYM5L7X",
        "outputId": "a23622c3-2b2c-4006-9b4d-699dd2bd0798"
      },
      "outputs": [
        {
          "output_type": "stream",
          "name": "stdout",
          "text": [
            "Mounted at /content/drive\n"
          ]
        }
      ],
      "source": [
        "import os,sys\n",
        "from google.colab import drive\n",
        "drive.mount('/content/drive')"
      ]
    },
    {
      "cell_type": "code",
      "source": [
        "import numpy as np\n",
        "import matplotlib.pylab as plt"
      ],
      "metadata": {
        "id": "JGky7FWm5lMj"
      },
      "execution_count": 2,
      "outputs": []
    },
    {
      "cell_type": "code",
      "source": [
        "x = np.array([1,2,3,4]) # 벡터\n",
        "y = np.array([1,0,1,0]) # 벡터"
      ],
      "metadata": {
        "id": "zTXxLYkc62y0"
      },
      "execution_count": 3,
      "outputs": []
    },
    {
      "cell_type": "code",
      "source": [
        "x"
      ],
      "metadata": {
        "colab": {
          "base_uri": "https://localhost:8080/"
        },
        "id": "PoSCw9PT621D",
        "outputId": "8c5b74df-2fab-4609-810a-c52f53fffccd"
      },
      "execution_count": 4,
      "outputs": [
        {
          "output_type": "execute_result",
          "data": {
            "text/plain": [
              "array([1, 2, 3, 4])"
            ]
          },
          "metadata": {},
          "execution_count": 4
        }
      ]
    },
    {
      "cell_type": "code",
      "source": [
        "y"
      ],
      "metadata": {
        "colab": {
          "base_uri": "https://localhost:8080/"
        },
        "id": "Mu6ezowK6229",
        "outputId": "f73086dd-15f5-43f9-a3b5-9ddb0e5e6737"
      },
      "execution_count": 5,
      "outputs": [
        {
          "output_type": "execute_result",
          "data": {
            "text/plain": [
              "array([1, 0, 1, 0])"
            ]
          },
          "metadata": {},
          "execution_count": 5
        }
      ]
    },
    {
      "cell_type": "code",
      "source": [
        "x.shape"
      ],
      "metadata": {
        "colab": {
          "base_uri": "https://localhost:8080/"
        },
        "id": "VxWVyVtX7DVa",
        "outputId": "7f638562-7c59-4192-e7d1-78096fe35bba"
      },
      "execution_count": 6,
      "outputs": [
        {
          "output_type": "execute_result",
          "data": {
            "text/plain": [
              "(4,)"
            ]
          },
          "metadata": {},
          "execution_count": 6
        }
      ]
    },
    {
      "cell_type": "code",
      "source": [
        "y.shape"
      ],
      "metadata": {
        "colab": {
          "base_uri": "https://localhost:8080/"
        },
        "id": "2-7GTZbc7DXk",
        "outputId": "7b39ba72-38e9-4e66-9c88-25c22d888d56"
      },
      "execution_count": 7,
      "outputs": [
        {
          "output_type": "execute_result",
          "data": {
            "text/plain": [
              "(4,)"
            ]
          },
          "metadata": {},
          "execution_count": 7
        }
      ]
    },
    {
      "cell_type": "code",
      "source": [
        "x+y"
      ],
      "metadata": {
        "colab": {
          "base_uri": "https://localhost:8080/"
        },
        "id": "EvGfOXBS7DY-",
        "outputId": "c925d0ce-a419-44c1-993b-80282f9bf530"
      },
      "execution_count": 8,
      "outputs": [
        {
          "output_type": "execute_result",
          "data": {
            "text/plain": [
              "array([2, 2, 4, 4])"
            ]
          },
          "metadata": {},
          "execution_count": 8
        }
      ]
    },
    {
      "cell_type": "code",
      "source": [
        "x"
      ],
      "metadata": {
        "colab": {
          "base_uri": "https://localhost:8080/"
        },
        "id": "7HHetpXS7liP",
        "outputId": "799f2d16-c7c8-463e-87a8-d2f85b922c0f"
      },
      "execution_count": 10,
      "outputs": [
        {
          "output_type": "execute_result",
          "data": {
            "text/plain": [
              "array([1, 2, 3, 4])"
            ]
          },
          "metadata": {},
          "execution_count": 10
        }
      ]
    },
    {
      "cell_type": "code",
      "source": [
        "a = 10 # 스칼라"
      ],
      "metadata": {
        "id": "iT6FbclJ7WjC"
      },
      "execution_count": 9,
      "outputs": []
    },
    {
      "cell_type": "code",
      "source": [
        "x * a # 브로드캐스팅"
      ],
      "metadata": {
        "colab": {
          "base_uri": "https://localhost:8080/"
        },
        "id": "KAc76ty77Wkl",
        "outputId": "adf1fd20-f5ae-481e-8ccf-abb42d1ae185"
      },
      "execution_count": 13,
      "outputs": [
        {
          "output_type": "execute_result",
          "data": {
            "text/plain": [
              "array([10, 20, 30, 40])"
            ]
          },
          "metadata": {},
          "execution_count": 13
        }
      ]
    },
    {
      "cell_type": "code",
      "source": [
        "x.T @ y # T = x 벡터를 자리 변환 후 y와 내적 연산"
      ],
      "metadata": {
        "colab": {
          "base_uri": "https://localhost:8080/"
        },
        "id": "B8aklCOB89vb",
        "outputId": "c59b872c-3eb9-4ee9-ecdf-e312a6f8fe31"
      },
      "execution_count": 15,
      "outputs": [
        {
          "output_type": "execute_result",
          "data": {
            "text/plain": [
              "array([1, 2, 3, 4])"
            ]
          },
          "metadata": {},
          "execution_count": 15
        }
      ]
    },
    {
      "cell_type": "code",
      "source": [
        "np.dot(x,y) # (4,1)*(4,1) -> (1,4)*(4,1) = (1,1) 스칼라 내적 값"
      ],
      "metadata": {
        "colab": {
          "base_uri": "https://localhost:8080/"
        },
        "id": "odfx1kzw7Wmc",
        "outputId": "e73c910e-8252-4ff2-9e4f-b98121f002a0"
      },
      "execution_count": 14,
      "outputs": [
        {
          "output_type": "execute_result",
          "data": {
            "text/plain": [
              "4"
            ]
          },
          "metadata": {},
          "execution_count": 14
        }
      ]
    },
    {
      "cell_type": "code",
      "source": [
        "import pandas as pd\n",
        "import requests\n",
        "from PIL import Image\n",
        "from io import BytesIO\n",
        "import cv2"
      ],
      "metadata": {
        "id": "3h1Ji9B38N8q"
      },
      "execution_count": 21,
      "outputs": []
    },
    {
      "cell_type": "code",
      "source": [
        "version_json = requests.get('https://ddragon.leagueoflegends.com/api/versions.json').json()"
      ],
      "metadata": {
        "id": "xxUYRSVu8N-S"
      },
      "execution_count": 22,
      "outputs": []
    },
    {
      "cell_type": "code",
      "source": [
        "version_json[0]"
      ],
      "metadata": {
        "colab": {
          "base_uri": "https://localhost:8080/",
          "height": 35
        },
        "id": "ky70V7pa7DbF",
        "outputId": "604c0b51-477f-4373-e759-4287b37f28a1"
      },
      "execution_count": 24,
      "outputs": [
        {
          "output_type": "execute_result",
          "data": {
            "text/plain": [
              "'14.1.1'"
            ],
            "application/vnd.google.colaboratory.intrinsic+json": {
              "type": "string"
            }
          },
          "metadata": {},
          "execution_count": 24
        }
      ]
    },
    {
      "cell_type": "code",
      "source": [
        "version_current = version_json[0]"
      ],
      "metadata": {
        "id": "2UW9lhau-7Tm"
      },
      "execution_count": 25,
      "outputs": []
    },
    {
      "cell_type": "code",
      "source": [
        "version_current"
      ],
      "metadata": {
        "colab": {
          "base_uri": "https://localhost:8080/",
          "height": 35
        },
        "id": "_K5FwjXH-7Vq",
        "outputId": "9bcf46e0-e183-4ea2-e39e-cc019467adf2"
      },
      "execution_count": 26,
      "outputs": [
        {
          "output_type": "execute_result",
          "data": {
            "text/plain": [
              "'14.1.1'"
            ],
            "application/vnd.google.colaboratory.intrinsic+json": {
              "type": "string"
            }
          },
          "metadata": {},
          "execution_count": 26
        }
      ]
    },
    {
      "cell_type": "code",
      "source": [
        "champion_url = f'https://ddragon.leagueoflegends.com/cdn/{version_current}/data/ko_KR/champion.json'\n",
        "champion_json = requests.get(champion_url).json()"
      ],
      "metadata": {
        "id": "k03RnGQm-7Xa"
      },
      "execution_count": 27,
      "outputs": []
    },
    {
      "cell_type": "code",
      "source": [
        "import requests\n",
        "\n",
        "champion_url = f'https://ddragon.leagueoflegends.com/cdn/{version_current}/data/ko_KR/champion.json'\n",
        "champion_json = requests.get(champion_url).json()"
      ],
      "metadata": {
        "id": "5WxKoMJ1-7ZW"
      },
      "execution_count": 28,
      "outputs": []
    },
    {
      "cell_type": "code",
      "source": [
        "champion_json['data'].keys()"
      ],
      "metadata": {
        "colab": {
          "base_uri": "https://localhost:8080/"
        },
        "id": "3OhPZR-W-7bF",
        "outputId": "ab1f3029-a2f4-4357-de71-006f2c7f8334"
      },
      "execution_count": 29,
      "outputs": [
        {
          "output_type": "execute_result",
          "data": {
            "text/plain": [
              "dict_keys(['Aatrox', 'Ahri', 'Akali', 'Akshan', 'Alistar', 'Amumu', 'Anivia', 'Annie', 'Aphelios', 'Ashe', 'AurelionSol', 'Azir', 'Bard', 'Belveth', 'Blitzcrank', 'Brand', 'Braum', 'Briar', 'Caitlyn', 'Camille', 'Cassiopeia', 'Chogath', 'Corki', 'Darius', 'Diana', 'Draven', 'DrMundo', 'Ekko', 'Elise', 'Evelynn', 'Ezreal', 'Fiddlesticks', 'Fiora', 'Fizz', 'Galio', 'Gangplank', 'Garen', 'Gnar', 'Gragas', 'Graves', 'Gwen', 'Hecarim', 'Heimerdinger', 'Hwei', 'Illaoi', 'Irelia', 'Ivern', 'Janna', 'JarvanIV', 'Jax', 'Jayce', 'Jhin', 'Jinx', 'Kaisa', 'Kalista', 'Karma', 'Karthus', 'Kassadin', 'Katarina', 'Kayle', 'Kayn', 'Kennen', 'Khazix', 'Kindred', 'Kled', 'KogMaw', 'KSante', 'Leblanc', 'LeeSin', 'Leona', 'Lillia', 'Lissandra', 'Lucian', 'Lulu', 'Lux', 'Malphite', 'Malzahar', 'Maokai', 'MasterYi', 'Milio', 'MissFortune', 'MonkeyKing', 'Mordekaiser', 'Morgana', 'Naafiri', 'Nami', 'Nasus', 'Nautilus', 'Neeko', 'Nidalee', 'Nilah', 'Nocturne', 'Nunu', 'Olaf', 'Orianna', 'Ornn', 'Pantheon', 'Poppy', 'Pyke', 'Qiyana', 'Quinn', 'Rakan', 'Rammus', 'RekSai', 'Rell', 'Renata', 'Renekton', 'Rengar', 'Riven', 'Rumble', 'Ryze', 'Samira', 'Sejuani', 'Senna', 'Seraphine', 'Sett', 'Shaco', 'Shen', 'Shyvana', 'Singed', 'Sion', 'Sivir', 'Skarner', 'Sona', 'Soraka', 'Swain', 'Sylas', 'Syndra', 'TahmKench', 'Taliyah', 'Talon', 'Taric', 'Teemo', 'Thresh', 'Tristana', 'Trundle', 'Tryndamere', 'TwistedFate', 'Twitch', 'Udyr', 'Urgot', 'Varus', 'Vayne', 'Veigar', 'Velkoz', 'Vex', 'Vi', 'Viego', 'Viktor', 'Vladimir', 'Volibear', 'Warwick', 'Xayah', 'Xerath', 'XinZhao', 'Yasuo', 'Yone', 'Yorick', 'Yuumi', 'Zac', 'Zed', 'Zeri', 'Ziggs', 'Zilean', 'Zoe', 'Zyra'])"
            ]
          },
          "metadata": {},
          "execution_count": 29
        }
      ]
    },
    {
      "cell_type": "code",
      "source": [
        "champion_img_url = f'https://ddragon.leagueoflegends.com/cdn/{version_current}/img/champion/'\n",
        "for champion_name, data in champion_json['data'].items():\n",
        "  print(champion_name,champion_img_url + data['image']['full'])"
      ],
      "metadata": {
        "colab": {
          "base_uri": "https://localhost:8080/"
        },
        "id": "xuqBSgmoTyK9",
        "outputId": "1666d9f4-9918-4c75-e04e-cc16535b26f6"
      },
      "execution_count": 33,
      "outputs": [
        {
          "output_type": "stream",
          "name": "stdout",
          "text": [
            "Aatrox https://ddragon.leagueoflegends.com/cdn/14.1.1/img/champion/Aatrox.png\n",
            "Ahri https://ddragon.leagueoflegends.com/cdn/14.1.1/img/champion/Ahri.png\n",
            "Akali https://ddragon.leagueoflegends.com/cdn/14.1.1/img/champion/Akali.png\n",
            "Akshan https://ddragon.leagueoflegends.com/cdn/14.1.1/img/champion/Akshan.png\n",
            "Alistar https://ddragon.leagueoflegends.com/cdn/14.1.1/img/champion/Alistar.png\n",
            "Amumu https://ddragon.leagueoflegends.com/cdn/14.1.1/img/champion/Amumu.png\n",
            "Anivia https://ddragon.leagueoflegends.com/cdn/14.1.1/img/champion/Anivia.png\n",
            "Annie https://ddragon.leagueoflegends.com/cdn/14.1.1/img/champion/Annie.png\n",
            "Aphelios https://ddragon.leagueoflegends.com/cdn/14.1.1/img/champion/Aphelios.png\n",
            "Ashe https://ddragon.leagueoflegends.com/cdn/14.1.1/img/champion/Ashe.png\n",
            "AurelionSol https://ddragon.leagueoflegends.com/cdn/14.1.1/img/champion/AurelionSol.png\n",
            "Azir https://ddragon.leagueoflegends.com/cdn/14.1.1/img/champion/Azir.png\n",
            "Bard https://ddragon.leagueoflegends.com/cdn/14.1.1/img/champion/Bard.png\n",
            "Belveth https://ddragon.leagueoflegends.com/cdn/14.1.1/img/champion/Belveth.png\n",
            "Blitzcrank https://ddragon.leagueoflegends.com/cdn/14.1.1/img/champion/Blitzcrank.png\n",
            "Brand https://ddragon.leagueoflegends.com/cdn/14.1.1/img/champion/Brand.png\n",
            "Braum https://ddragon.leagueoflegends.com/cdn/14.1.1/img/champion/Braum.png\n",
            "Briar https://ddragon.leagueoflegends.com/cdn/14.1.1/img/champion/Briar.png\n",
            "Caitlyn https://ddragon.leagueoflegends.com/cdn/14.1.1/img/champion/Caitlyn.png\n",
            "Camille https://ddragon.leagueoflegends.com/cdn/14.1.1/img/champion/Camille.png\n",
            "Cassiopeia https://ddragon.leagueoflegends.com/cdn/14.1.1/img/champion/Cassiopeia.png\n",
            "Chogath https://ddragon.leagueoflegends.com/cdn/14.1.1/img/champion/Chogath.png\n",
            "Corki https://ddragon.leagueoflegends.com/cdn/14.1.1/img/champion/Corki.png\n",
            "Darius https://ddragon.leagueoflegends.com/cdn/14.1.1/img/champion/Darius.png\n",
            "Diana https://ddragon.leagueoflegends.com/cdn/14.1.1/img/champion/Diana.png\n",
            "Draven https://ddragon.leagueoflegends.com/cdn/14.1.1/img/champion/Draven.png\n",
            "DrMundo https://ddragon.leagueoflegends.com/cdn/14.1.1/img/champion/DrMundo.png\n",
            "Ekko https://ddragon.leagueoflegends.com/cdn/14.1.1/img/champion/Ekko.png\n",
            "Elise https://ddragon.leagueoflegends.com/cdn/14.1.1/img/champion/Elise.png\n",
            "Evelynn https://ddragon.leagueoflegends.com/cdn/14.1.1/img/champion/Evelynn.png\n",
            "Ezreal https://ddragon.leagueoflegends.com/cdn/14.1.1/img/champion/Ezreal.png\n",
            "Fiddlesticks https://ddragon.leagueoflegends.com/cdn/14.1.1/img/champion/Fiddlesticks.png\n",
            "Fiora https://ddragon.leagueoflegends.com/cdn/14.1.1/img/champion/Fiora.png\n",
            "Fizz https://ddragon.leagueoflegends.com/cdn/14.1.1/img/champion/Fizz.png\n",
            "Galio https://ddragon.leagueoflegends.com/cdn/14.1.1/img/champion/Galio.png\n",
            "Gangplank https://ddragon.leagueoflegends.com/cdn/14.1.1/img/champion/Gangplank.png\n",
            "Garen https://ddragon.leagueoflegends.com/cdn/14.1.1/img/champion/Garen.png\n",
            "Gnar https://ddragon.leagueoflegends.com/cdn/14.1.1/img/champion/Gnar.png\n",
            "Gragas https://ddragon.leagueoflegends.com/cdn/14.1.1/img/champion/Gragas.png\n",
            "Graves https://ddragon.leagueoflegends.com/cdn/14.1.1/img/champion/Graves.png\n",
            "Gwen https://ddragon.leagueoflegends.com/cdn/14.1.1/img/champion/Gwen.png\n",
            "Hecarim https://ddragon.leagueoflegends.com/cdn/14.1.1/img/champion/Hecarim.png\n",
            "Heimerdinger https://ddragon.leagueoflegends.com/cdn/14.1.1/img/champion/Heimerdinger.png\n",
            "Hwei https://ddragon.leagueoflegends.com/cdn/14.1.1/img/champion/Hwei.png\n",
            "Illaoi https://ddragon.leagueoflegends.com/cdn/14.1.1/img/champion/Illaoi.png\n",
            "Irelia https://ddragon.leagueoflegends.com/cdn/14.1.1/img/champion/Irelia.png\n",
            "Ivern https://ddragon.leagueoflegends.com/cdn/14.1.1/img/champion/Ivern.png\n",
            "Janna https://ddragon.leagueoflegends.com/cdn/14.1.1/img/champion/Janna.png\n",
            "JarvanIV https://ddragon.leagueoflegends.com/cdn/14.1.1/img/champion/JarvanIV.png\n",
            "Jax https://ddragon.leagueoflegends.com/cdn/14.1.1/img/champion/Jax.png\n",
            "Jayce https://ddragon.leagueoflegends.com/cdn/14.1.1/img/champion/Jayce.png\n",
            "Jhin https://ddragon.leagueoflegends.com/cdn/14.1.1/img/champion/Jhin.png\n",
            "Jinx https://ddragon.leagueoflegends.com/cdn/14.1.1/img/champion/Jinx.png\n",
            "Kaisa https://ddragon.leagueoflegends.com/cdn/14.1.1/img/champion/Kaisa.png\n",
            "Kalista https://ddragon.leagueoflegends.com/cdn/14.1.1/img/champion/Kalista.png\n",
            "Karma https://ddragon.leagueoflegends.com/cdn/14.1.1/img/champion/Karma.png\n",
            "Karthus https://ddragon.leagueoflegends.com/cdn/14.1.1/img/champion/Karthus.png\n",
            "Kassadin https://ddragon.leagueoflegends.com/cdn/14.1.1/img/champion/Kassadin.png\n",
            "Katarina https://ddragon.leagueoflegends.com/cdn/14.1.1/img/champion/Katarina.png\n",
            "Kayle https://ddragon.leagueoflegends.com/cdn/14.1.1/img/champion/Kayle.png\n",
            "Kayn https://ddragon.leagueoflegends.com/cdn/14.1.1/img/champion/Kayn.png\n",
            "Kennen https://ddragon.leagueoflegends.com/cdn/14.1.1/img/champion/Kennen.png\n",
            "Khazix https://ddragon.leagueoflegends.com/cdn/14.1.1/img/champion/Khazix.png\n",
            "Kindred https://ddragon.leagueoflegends.com/cdn/14.1.1/img/champion/Kindred.png\n",
            "Kled https://ddragon.leagueoflegends.com/cdn/14.1.1/img/champion/Kled.png\n",
            "KogMaw https://ddragon.leagueoflegends.com/cdn/14.1.1/img/champion/KogMaw.png\n",
            "KSante https://ddragon.leagueoflegends.com/cdn/14.1.1/img/champion/KSante.png\n",
            "Leblanc https://ddragon.leagueoflegends.com/cdn/14.1.1/img/champion/Leblanc.png\n",
            "LeeSin https://ddragon.leagueoflegends.com/cdn/14.1.1/img/champion/LeeSin.png\n",
            "Leona https://ddragon.leagueoflegends.com/cdn/14.1.1/img/champion/Leona.png\n",
            "Lillia https://ddragon.leagueoflegends.com/cdn/14.1.1/img/champion/Lillia.png\n",
            "Lissandra https://ddragon.leagueoflegends.com/cdn/14.1.1/img/champion/Lissandra.png\n",
            "Lucian https://ddragon.leagueoflegends.com/cdn/14.1.1/img/champion/Lucian.png\n",
            "Lulu https://ddragon.leagueoflegends.com/cdn/14.1.1/img/champion/Lulu.png\n",
            "Lux https://ddragon.leagueoflegends.com/cdn/14.1.1/img/champion/Lux.png\n",
            "Malphite https://ddragon.leagueoflegends.com/cdn/14.1.1/img/champion/Malphite.png\n",
            "Malzahar https://ddragon.leagueoflegends.com/cdn/14.1.1/img/champion/Malzahar.png\n",
            "Maokai https://ddragon.leagueoflegends.com/cdn/14.1.1/img/champion/Maokai.png\n",
            "MasterYi https://ddragon.leagueoflegends.com/cdn/14.1.1/img/champion/MasterYi.png\n",
            "Milio https://ddragon.leagueoflegends.com/cdn/14.1.1/img/champion/Milio.png\n",
            "MissFortune https://ddragon.leagueoflegends.com/cdn/14.1.1/img/champion/MissFortune.png\n",
            "MonkeyKing https://ddragon.leagueoflegends.com/cdn/14.1.1/img/champion/MonkeyKing.png\n",
            "Mordekaiser https://ddragon.leagueoflegends.com/cdn/14.1.1/img/champion/Mordekaiser.png\n",
            "Morgana https://ddragon.leagueoflegends.com/cdn/14.1.1/img/champion/Morgana.png\n",
            "Naafiri https://ddragon.leagueoflegends.com/cdn/14.1.1/img/champion/Naafiri.png\n",
            "Nami https://ddragon.leagueoflegends.com/cdn/14.1.1/img/champion/Nami.png\n",
            "Nasus https://ddragon.leagueoflegends.com/cdn/14.1.1/img/champion/Nasus.png\n",
            "Nautilus https://ddragon.leagueoflegends.com/cdn/14.1.1/img/champion/Nautilus.png\n",
            "Neeko https://ddragon.leagueoflegends.com/cdn/14.1.1/img/champion/Neeko.png\n",
            "Nidalee https://ddragon.leagueoflegends.com/cdn/14.1.1/img/champion/Nidalee.png\n",
            "Nilah https://ddragon.leagueoflegends.com/cdn/14.1.1/img/champion/Nilah.png\n",
            "Nocturne https://ddragon.leagueoflegends.com/cdn/14.1.1/img/champion/Nocturne.png\n",
            "Nunu https://ddragon.leagueoflegends.com/cdn/14.1.1/img/champion/Nunu.png\n",
            "Olaf https://ddragon.leagueoflegends.com/cdn/14.1.1/img/champion/Olaf.png\n",
            "Orianna https://ddragon.leagueoflegends.com/cdn/14.1.1/img/champion/Orianna.png\n",
            "Ornn https://ddragon.leagueoflegends.com/cdn/14.1.1/img/champion/Ornn.png\n",
            "Pantheon https://ddragon.leagueoflegends.com/cdn/14.1.1/img/champion/Pantheon.png\n",
            "Poppy https://ddragon.leagueoflegends.com/cdn/14.1.1/img/champion/Poppy.png\n",
            "Pyke https://ddragon.leagueoflegends.com/cdn/14.1.1/img/champion/Pyke.png\n",
            "Qiyana https://ddragon.leagueoflegends.com/cdn/14.1.1/img/champion/Qiyana.png\n",
            "Quinn https://ddragon.leagueoflegends.com/cdn/14.1.1/img/champion/Quinn.png\n",
            "Rakan https://ddragon.leagueoflegends.com/cdn/14.1.1/img/champion/Rakan.png\n",
            "Rammus https://ddragon.leagueoflegends.com/cdn/14.1.1/img/champion/Rammus.png\n",
            "RekSai https://ddragon.leagueoflegends.com/cdn/14.1.1/img/champion/RekSai.png\n",
            "Rell https://ddragon.leagueoflegends.com/cdn/14.1.1/img/champion/Rell.png\n",
            "Renata https://ddragon.leagueoflegends.com/cdn/14.1.1/img/champion/Renata.png\n",
            "Renekton https://ddragon.leagueoflegends.com/cdn/14.1.1/img/champion/Renekton.png\n",
            "Rengar https://ddragon.leagueoflegends.com/cdn/14.1.1/img/champion/Rengar.png\n",
            "Riven https://ddragon.leagueoflegends.com/cdn/14.1.1/img/champion/Riven.png\n",
            "Rumble https://ddragon.leagueoflegends.com/cdn/14.1.1/img/champion/Rumble.png\n",
            "Ryze https://ddragon.leagueoflegends.com/cdn/14.1.1/img/champion/Ryze.png\n",
            "Samira https://ddragon.leagueoflegends.com/cdn/14.1.1/img/champion/Samira.png\n",
            "Sejuani https://ddragon.leagueoflegends.com/cdn/14.1.1/img/champion/Sejuani.png\n",
            "Senna https://ddragon.leagueoflegends.com/cdn/14.1.1/img/champion/Senna.png\n",
            "Seraphine https://ddragon.leagueoflegends.com/cdn/14.1.1/img/champion/Seraphine.png\n",
            "Sett https://ddragon.leagueoflegends.com/cdn/14.1.1/img/champion/Sett.png\n",
            "Shaco https://ddragon.leagueoflegends.com/cdn/14.1.1/img/champion/Shaco.png\n",
            "Shen https://ddragon.leagueoflegends.com/cdn/14.1.1/img/champion/Shen.png\n",
            "Shyvana https://ddragon.leagueoflegends.com/cdn/14.1.1/img/champion/Shyvana.png\n",
            "Singed https://ddragon.leagueoflegends.com/cdn/14.1.1/img/champion/Singed.png\n",
            "Sion https://ddragon.leagueoflegends.com/cdn/14.1.1/img/champion/Sion.png\n",
            "Sivir https://ddragon.leagueoflegends.com/cdn/14.1.1/img/champion/Sivir.png\n",
            "Skarner https://ddragon.leagueoflegends.com/cdn/14.1.1/img/champion/Skarner.png\n",
            "Sona https://ddragon.leagueoflegends.com/cdn/14.1.1/img/champion/Sona.png\n",
            "Soraka https://ddragon.leagueoflegends.com/cdn/14.1.1/img/champion/Soraka.png\n",
            "Swain https://ddragon.leagueoflegends.com/cdn/14.1.1/img/champion/Swain.png\n",
            "Sylas https://ddragon.leagueoflegends.com/cdn/14.1.1/img/champion/Sylas.png\n",
            "Syndra https://ddragon.leagueoflegends.com/cdn/14.1.1/img/champion/Syndra.png\n",
            "TahmKench https://ddragon.leagueoflegends.com/cdn/14.1.1/img/champion/TahmKench.png\n",
            "Taliyah https://ddragon.leagueoflegends.com/cdn/14.1.1/img/champion/Taliyah.png\n",
            "Talon https://ddragon.leagueoflegends.com/cdn/14.1.1/img/champion/Talon.png\n",
            "Taric https://ddragon.leagueoflegends.com/cdn/14.1.1/img/champion/Taric.png\n",
            "Teemo https://ddragon.leagueoflegends.com/cdn/14.1.1/img/champion/Teemo.png\n",
            "Thresh https://ddragon.leagueoflegends.com/cdn/14.1.1/img/champion/Thresh.png\n",
            "Tristana https://ddragon.leagueoflegends.com/cdn/14.1.1/img/champion/Tristana.png\n",
            "Trundle https://ddragon.leagueoflegends.com/cdn/14.1.1/img/champion/Trundle.png\n",
            "Tryndamere https://ddragon.leagueoflegends.com/cdn/14.1.1/img/champion/Tryndamere.png\n",
            "TwistedFate https://ddragon.leagueoflegends.com/cdn/14.1.1/img/champion/TwistedFate.png\n",
            "Twitch https://ddragon.leagueoflegends.com/cdn/14.1.1/img/champion/Twitch.png\n",
            "Udyr https://ddragon.leagueoflegends.com/cdn/14.1.1/img/champion/Udyr.png\n",
            "Urgot https://ddragon.leagueoflegends.com/cdn/14.1.1/img/champion/Urgot.png\n",
            "Varus https://ddragon.leagueoflegends.com/cdn/14.1.1/img/champion/Varus.png\n",
            "Vayne https://ddragon.leagueoflegends.com/cdn/14.1.1/img/champion/Vayne.png\n",
            "Veigar https://ddragon.leagueoflegends.com/cdn/14.1.1/img/champion/Veigar.png\n",
            "Velkoz https://ddragon.leagueoflegends.com/cdn/14.1.1/img/champion/Velkoz.png\n",
            "Vex https://ddragon.leagueoflegends.com/cdn/14.1.1/img/champion/Vex.png\n",
            "Vi https://ddragon.leagueoflegends.com/cdn/14.1.1/img/champion/Vi.png\n",
            "Viego https://ddragon.leagueoflegends.com/cdn/14.1.1/img/champion/Viego.png\n",
            "Viktor https://ddragon.leagueoflegends.com/cdn/14.1.1/img/champion/Viktor.png\n",
            "Vladimir https://ddragon.leagueoflegends.com/cdn/14.1.1/img/champion/Vladimir.png\n",
            "Volibear https://ddragon.leagueoflegends.com/cdn/14.1.1/img/champion/Volibear.png\n",
            "Warwick https://ddragon.leagueoflegends.com/cdn/14.1.1/img/champion/Warwick.png\n",
            "Xayah https://ddragon.leagueoflegends.com/cdn/14.1.1/img/champion/Xayah.png\n",
            "Xerath https://ddragon.leagueoflegends.com/cdn/14.1.1/img/champion/Xerath.png\n",
            "XinZhao https://ddragon.leagueoflegends.com/cdn/14.1.1/img/champion/XinZhao.png\n",
            "Yasuo https://ddragon.leagueoflegends.com/cdn/14.1.1/img/champion/Yasuo.png\n",
            "Yone https://ddragon.leagueoflegends.com/cdn/14.1.1/img/champion/Yone.png\n",
            "Yorick https://ddragon.leagueoflegends.com/cdn/14.1.1/img/champion/Yorick.png\n",
            "Yuumi https://ddragon.leagueoflegends.com/cdn/14.1.1/img/champion/Yuumi.png\n",
            "Zac https://ddragon.leagueoflegends.com/cdn/14.1.1/img/champion/Zac.png\n",
            "Zed https://ddragon.leagueoflegends.com/cdn/14.1.1/img/champion/Zed.png\n",
            "Zeri https://ddragon.leagueoflegends.com/cdn/14.1.1/img/champion/Zeri.png\n",
            "Ziggs https://ddragon.leagueoflegends.com/cdn/14.1.1/img/champion/Ziggs.png\n",
            "Zilean https://ddragon.leagueoflegends.com/cdn/14.1.1/img/champion/Zilean.png\n",
            "Zoe https://ddragon.leagueoflegends.com/cdn/14.1.1/img/champion/Zoe.png\n",
            "Zyra https://ddragon.leagueoflegends.com/cdn/14.1.1/img/champion/Zyra.png\n"
          ]
        }
      ]
    },
    {
      "cell_type": "code",
      "source": [
        "jayce_img_url = ' https://ddragon.leagueoflegends.com/cdn/14.1.1/img/champion/Jayce.png'\n",
        "jayce_img_res = requests.get(jayce_img_url)\n",
        "Image.open(BytesIO(jayce_img_res.content))"
      ],
      "metadata": {
        "colab": {
          "base_uri": "https://localhost:8080/",
          "height": 137
        },
        "id": "uFEy7H3nTyNO",
        "outputId": "d07c42cd-227f-4395-9828-2203a4c3a29f"
      },
      "execution_count": 69,
      "outputs": [
        {
          "output_type": "execute_result",
          "data": {
            "text/plain": [
              "<PIL.PngImagePlugin.PngImageFile image mode=RGB size=120x120>"
            ],
            "image/png": "[encoded data removed]"
          },
          "metadata": {},
          "execution_count": 69
        }
      ]
    },
    {
      "cell_type": "code",
      "source": [
        "Image.open(BytesIO(jayce_img_res.content)).convert('L')"
      ],
      "metadata": {
        "colab": {
          "base_uri": "https://localhost:8080/",
          "height": 137
        },
        "id": "a6K488n0VWZ1",
        "outputId": "e6130bba-1f1f-4926-e124-ffbd8c12eeec"
      },
      "execution_count": 70,
      "outputs": [
        {
          "output_type": "execute_result",
          "data": {
            "text/plain": [
              "<PIL.Image.Image image mode=L size=120x120>"
            ],
            "image/png": "[encoded data removed]"
          },
          "metadata": {},
          "execution_count": 70
        }
      ]
    },
    {
      "cell_type": "code",
      "source": [
        "jayce_img = Image.open(BytesIO(jayce_img_res.content)).convert('L')"
      ],
      "metadata": {
        "id": "OZqhs0kIVWfS"
      },
      "execution_count": 71,
      "outputs": []
    },
    {
      "cell_type": "code",
      "source": [
        "jayce_img_vector = np.asarray(jayce_img , dtype=np.int)"
      ],
      "metadata": {
        "colab": {
          "base_uri": "https://localhost:8080/"
        },
        "id": "cJJpODXFTyOz",
        "outputId": "51bfb3fe-3ba0-4f34-a5c2-15a5811943af"
      },
      "execution_count": 72,
      "outputs": [
        {
          "output_type": "stream",
          "name": "stderr",
          "text": [
            "<ipython-input-72-660e18da0481>:1: DeprecationWarning: `np.int` is a deprecated alias for the builtin `int`. To silence this warning, use `int` by itself. Doing this will not modify any behavior and is safe. When replacing `np.int`, you may wish to use e.g. `np.int64` or `np.int32` to specify the precision. If you wish to review your current use, check the release note link for additional information.\n",
            "Deprecated in NumPy 1.20; for more details and guidance: https://numpy.org/devdocs/release/1.20.0-notes.html#deprecations\n",
            "  jayce_img_vector = np.asarray(jayce_img , dtype=np.int)\n"
          ]
        }
      ]
    },
    {
      "cell_type": "code",
      "source": [
        "jayce_img_vector"
      ],
      "metadata": {
        "colab": {
          "base_uri": "https://localhost:8080/"
        },
        "id": "JfJGHOSsTyQ-",
        "outputId": "fba4b3b6-333f-48b2-ba47-48daacac92b2"
      },
      "execution_count": 73,
      "outputs": [
        {
          "output_type": "execute_result",
          "data": {
            "text/plain": [
              "array([[0, 0, 0, ..., 1, 1, 1],\n",
              "       [0, 0, 0, ..., 1, 1, 1],\n",
              "       [0, 0, 0, ..., 1, 1, 1],\n",
              "       ...,\n",
              "       [1, 1, 1, ..., 3, 1, 1],\n",
              "       [1, 1, 1, ..., 1, 1, 1],\n",
              "       [1, 1, 1, ..., 1, 1, 1]])"
            ]
          },
          "metadata": {},
          "execution_count": 73
        }
      ]
    },
    {
      "cell_type": "code",
      "source": [
        "jayce_img_vector=jayce_img_vector.reshape(120*120)"
      ],
      "metadata": {
        "id": "aI7E7oqyW7R1"
      },
      "execution_count": 84,
      "outputs": []
    },
    {
      "cell_type": "code",
      "source": [
        "jayce_img_vector"
      ],
      "metadata": {
        "colab": {
          "base_uri": "https://localhost:8080/"
        },
        "id": "QRW9YqHQeG20",
        "outputId": "09cbc5f6-7057-4b74-b471-ec44c199da19"
      },
      "execution_count": 85,
      "outputs": [
        {
          "output_type": "execute_result",
          "data": {
            "text/plain": [
              "array([0, 0, 0, ..., 1, 1, 1])"
            ]
          },
          "metadata": {},
          "execution_count": 85
        }
      ]
    },
    {
      "cell_type": "code",
      "source": [
        "# 가렌 이미지 받아와서 gray 컬러 출력\n",
        "# 120*120의 가렌 벡터 변수명 : garen_img_vector"
      ],
      "metadata": {
        "id": "9Kz42G0FW7T4"
      },
      "execution_count": null,
      "outputs": []
    },
    {
      "cell_type": "code",
      "source": [
        "garen_img_url = ' https://ddragon.leagueoflegends.com/cdn/14.1.1/img/champion/Garen.png'\n",
        "garen_img_res = requests.get(garen_img_url)\n",
        "Image.open(BytesIO(garen_img_res.content))"
      ],
      "metadata": {
        "colab": {
          "base_uri": "https://localhost:8080/",
          "height": 137
        },
        "id": "xHjBj_pSW7aV",
        "outputId": "b47c1455-6b2b-477e-9835-93ade5df96c6"
      },
      "execution_count": 75,
      "outputs": [
        {
          "output_type": "execute_result",
          "data": {
            "text/plain": [
              "<PIL.PngImagePlugin.PngImageFile image mode=RGB size=120x120>"
            ],
            "image/png": "[encoded data removed]"
          },
          "metadata": {},
          "execution_count": 75
        }
      ]
    },
    {
      "cell_type": "code",
      "source": [
        "garen_image=Image.open(BytesIO(garen_img_res.content)).convert('L')"
      ],
      "metadata": {
        "id": "rep4NRoPW7nt"
      },
      "execution_count": 76,
      "outputs": []
    },
    {
      "cell_type": "code",
      "source": [
        "garen_img_vector = np.asarray(garen_image,dtype = np.int)"
      ],
      "metadata": {
        "colab": {
          "base_uri": "https://localhost:8080/"
        },
        "id": "Hp-pY_CaYX9G",
        "outputId": "f0419274-ff91-4389-9c1c-9e18bd8ccdc4"
      },
      "execution_count": 77,
      "outputs": [
        {
          "output_type": "stream",
          "name": "stderr",
          "text": [
            "<ipython-input-77-a8ff5412c8fb>:1: DeprecationWarning: `np.int` is a deprecated alias for the builtin `int`. To silence this warning, use `int` by itself. Doing this will not modify any behavior and is safe. When replacing `np.int`, you may wish to use e.g. `np.int64` or `np.int32` to specify the precision. If you wish to review your current use, check the release note link for additional information.\n",
            "Deprecated in NumPy 1.20; for more details and guidance: https://numpy.org/devdocs/release/1.20.0-notes.html#deprecations\n",
            "  garen_img_vector = np.asarray(garen_image,dtype = np.int)\n"
          ]
        }
      ]
    },
    {
      "cell_type": "code",
      "source": [
        "garen_img_vector=garen_img_vector.reshape(120*120)"
      ],
      "metadata": {
        "id": "tAvDiJHmYX_w"
      },
      "execution_count": 82,
      "outputs": []
    },
    {
      "cell_type": "code",
      "source": [
        "garen_img_vector"
      ],
      "metadata": {
        "colab": {
          "base_uri": "https://localhost:8080/"
        },
        "id": "0UQCBQxAeBr_",
        "outputId": "ee4b9993-ecb8-4d2b-d60a-1c7fe0a84cb2"
      },
      "execution_count": 83,
      "outputs": [
        {
          "output_type": "execute_result",
          "data": {
            "text/plain": [
              "array([1, 1, 1, ..., 1, 1, 1])"
            ]
          },
          "metadata": {},
          "execution_count": 83
        }
      ]
    },
    {
      "cell_type": "code",
      "source": [
        "Aatrox_img_url = 'https://ddragon.leagueoflegends.com/cdn/14.1.1/img/champion/Aatrox.png'\n",
        "Aatrox_img_res = requests.get(Aatrox_img_url)\n",
        "Aatrox_img = Image.open(BytesIO(Aatrox_img_res.content)).convert('L')\n",
        "Aatrox_img_vector = np.asarray(Aatrox_img, dtype=np.int)\n",
        "Aatrox_img_vector = Aatrox_img_vector.reshape(120 * 120)"
      ],
      "metadata": {
        "colab": {
          "base_uri": "https://localhost:8080/"
        },
        "id": "tatatOnwYYGg",
        "outputId": "5a640398-7478-47b4-e341-5faf6dbb8e77"
      },
      "execution_count": 79,
      "outputs": [
        {
          "output_type": "stream",
          "name": "stderr",
          "text": [
            "<ipython-input-79-b6971f2794b5>:4: DeprecationWarning: `np.int` is a deprecated alias for the builtin `int`. To silence this warning, use `int` by itself. Doing this will not modify any behavior and is safe. When replacing `np.int`, you may wish to use e.g. `np.int64` or `np.int32` to specify the precision. If you wish to review your current use, check the release note link for additional information.\n",
            "Deprecated in NumPy 1.20; for more details and guidance: https://numpy.org/devdocs/release/1.20.0-notes.html#deprecations\n",
            "  Aatrox_img_vector = np.asarray(Aatrox_img, dtype=np.int)\n"
          ]
        }
      ]
    },
    {
      "cell_type": "code",
      "source": [
        "Aatrox_img_vector\n",
        "garen_img_vector\n",
        "jayce_img_vector"
      ],
      "metadata": {
        "colab": {
          "base_uri": "https://localhost:8080/"
        },
        "id": "n6xZsWwiYYI_",
        "outputId": "7e719b3c-beff-4d94-9a44-bbc9324ebd5d"
      },
      "execution_count": 86,
      "outputs": [
        {
          "output_type": "execute_result",
          "data": {
            "text/plain": [
              "array([0, 0, 0, ..., 1, 1, 1])"
            ]
          },
          "metadata": {},
          "execution_count": 86
        }
      ]
    },
    {
      "cell_type": "code",
      "source": [
        "# 내적 -> return 스칼라"
      ],
      "metadata": {
        "id": "68T5E1jyTybT"
      },
      "execution_count": null,
      "outputs": []
    },
    {
      "cell_type": "code",
      "source": [
        "(jayce_img_vector.T @ garen_img_vector), (jayce_img_vector.T @ Aatrox_img_vector)"
      ],
      "metadata": {
        "colab": {
          "base_uri": "https://localhost:8080/"
        },
        "id": "QwZBBEUbbKji",
        "outputId": "85a87a49-f550-4a88-f319-38c9db2044a5"
      },
      "execution_count": 87,
      "outputs": [
        {
          "output_type": "execute_result",
          "data": {
            "text/plain": [
              "(96695273, 50993350)"
            ]
          },
          "metadata": {},
          "execution_count": 87
        }
      ]
    },
    {
      "cell_type": "code",
      "source": [
        "def cos_sim(a,b):\n",
        "  res = np.dot(a,b) / (np.linalg.norm(a)*np.linalg.norm(b))\n",
        "  return res"
      ],
      "metadata": {
        "id": "XpjTQvZRbKmY"
      },
      "execution_count": 88,
      "outputs": []
    },
    {
      "cell_type": "code",
      "source": [
        "cos_sim(jayce_img_vector,garen_img_vector)"
      ],
      "metadata": {
        "colab": {
          "base_uri": "https://localhost:8080/"
        },
        "id": "P9SaDOA6bKoy",
        "outputId": "2428f447-6de1-4ee3-9c15-53b68e6a97a8"
      },
      "execution_count": 89,
      "outputs": [
        {
          "output_type": "execute_result",
          "data": {
            "text/plain": [
              "0.7397046638337746"
            ]
          },
          "metadata": {},
          "execution_count": 89
        }
      ]
    },
    {
      "cell_type": "code",
      "source": [
        "cos_sim(jayce_img_vector,Aatrox_img_vector)"
      ],
      "metadata": {
        "colab": {
          "base_uri": "https://localhost:8080/"
        },
        "id": "5mFgfMUIeWE7",
        "outputId": "2fa7e235-e5ef-46b1-9563-3017aa75119d"
      },
      "execution_count": 90,
      "outputs": [
        {
          "output_type": "execute_result",
          "data": {
            "text/plain": [
              "0.6566703221272668"
            ]
          },
          "metadata": {},
          "execution_count": 90
        }
      ]
    },
    {
      "cell_type": "code",
      "source": [],
      "metadata": {
        "id": "Ajmcy-Cfh5u-"
      },
      "execution_count": null,
      "outputs": []
    },
    {
      "cell_type": "code",
      "source": [],
      "metadata": {
        "id": "Mbjug4Zzh5xP"
      },
      "execution_count": null,
      "outputs": []
    },
    {
      "cell_type": "code",
      "source": [],
      "metadata": {
        "id": "GSJohU--h59x"
      },
      "execution_count": null,
      "outputs": []
    },
    {
      "cell_type": "code",
      "source": [],
      "metadata": {
        "id": "t37A2vngh6BZ"
      },
      "execution_count": null,
      "outputs": []
    },
    {
      "cell_type": "code",
      "source": [],
      "metadata": {
        "id": "Aj0EUggCh6D4"
      },
      "execution_count": null,
      "outputs": []
    },
    {
      "cell_type": "code",
      "source": [],
      "metadata": {
        "id": "jKPtRdu2h6FV"
      },
      "execution_count": null,
      "outputs": []
    },
    {
      "cell_type": "code",
      "source": [],
      "metadata": {
        "id": "EiK5kkQ0h6HW"
      },
      "execution_count": null,
      "outputs": []
    },
    {
      "cell_type": "code",
      "source": [],
      "metadata": {
        "id": "mLRCN_F-eWHz"
      },
      "execution_count": null,
      "outputs": []
    }
  ]
}