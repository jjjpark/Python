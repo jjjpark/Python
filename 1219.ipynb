{
 "cells": [
  {
   "cell_type": "code",
   "execution_count": 21,
   "id": "dcb20a5f",
   "metadata": {},
   "outputs": [],
   "source": [
    "import my_utils as mu\n",
    "import requests"
   ]
  },
  {
   "cell_type": "code",
   "execution_count": 22,
   "id": "9e8ef558",
   "metadata": {},
   "outputs": [],
   "source": [
    "puu_id = mu.get_puuid"
   ]
  },
  {
   "cell_type": "code",
   "execution_count": 23,
   "id": "b3111afb",
   "metadata": {},
   "outputs": [],
   "source": [
    "import random\n",
    "from tqdm import tqdm"
   ]
  },
  {
   "cell_type": "code",
   "execution_count": 24,
   "id": "69863037",
   "metadata": {},
   "outputs": [],
   "source": [
    "api_key = 'RGAPI-bfce5f5d-df88-492d-a316-712d9a8fe9ba'"
   ]
  },
  {
   "cell_type": "code",
   "execution_count": 25,
   "id": "14a11154",
   "metadata": {},
   "outputs": [],
   "source": [
    "puu_id = mu.get_puuid('123456육학년이냐','KR1')"
   ]
  },
  {
   "cell_type": "code",
   "execution_count": 26,
   "id": "bf7ebc4d",
   "metadata": {},
   "outputs": [],
   "source": [
    "match_list = mu.get_match_id(puu_id)"
   ]
  },
  {
   "cell_type": "code",
   "execution_count": 27,
   "id": "80736621",
   "metadata": {},
   "outputs": [],
   "source": [
    "matches,timelines = mu.get_matches_timelines(match_list[0])"
   ]
  },
  {
   "cell_type": "code",
   "execution_count": 28,
   "id": "3ce1826a",
   "metadata": {},
   "outputs": [],
   "source": [
    "url = f'https://kr.api.riotgames.com/lol/league/v4/entries/RANKED_SOLO_5x5/GOLD/IV?page=2&api_key={api_key}'"
   ]
  },
  {
   "cell_type": "code",
   "execution_count": 29,
   "id": "10e4beed",
   "metadata": {},
   "outputs": [],
   "source": [
    "res = requests.get(url).json()"
   ]
  },
  {
   "cell_type": "code",
   "execution_count": 30,
   "id": "30549433",
   "metadata": {},
   "outputs": [],
   "source": [
    "summoner_id = res[0]['summonerId']"
   ]
  },
  {
   "cell_type": "code",
   "execution_count": 31,
   "id": "ce7117b3",
   "metadata": {},
   "outputs": [],
   "source": [
    "url2 = f'https://kr.api.riotgames.com/lol/summoner/v4/summoners/{summoner_id}?api_key={api_key}'"
   ]
  },
  {
   "cell_type": "code",
   "execution_count": 32,
   "id": "060eba85",
   "metadata": {},
   "outputs": [],
   "source": [
    "res2= requests.get(url2).json()"
   ]
  },
  {
   "cell_type": "code",
   "execution_count": 33,
   "id": "3feebca4",
   "metadata": {},
   "outputs": [
    {
     "data": {
      "text/plain": [
       "{'id': 'sSflzEM9_1_wDCjN8uCAJorNEZniFj0t4qI17VcfH5zXfycQ',\n",
       " 'accountId': 'BK6yRZFDtXUY2IQGtbyFqKiFgqdhguaiQ1MRaPc1JK0tUKuw1EVvsQ8D',\n",
       " 'puuid': 'hhJi-NJKxAKGiikDoWU4QJUh_ExYHjjfN1PiCU9k7Tv-WOx43yo-U86MHchXmI0__Cx-LT8QE1USeQ',\n",
       " 'name': 'De Zerbi',\n",
       " 'profileIconId': 3456,\n",
       " 'revisionDate': 1702979060968,\n",
       " 'summonerLevel': 130}"
      ]
     },
     "execution_count": 33,
     "metadata": {},
     "output_type": "execute_result"
    }
   ],
   "source": [
    "res2"
   ]
  },
  {
   "cell_type": "code",
   "execution_count": 1,
   "id": "e8a24567",
   "metadata": {},
   "outputs": [],
   "source": [
    "import random\n",
    "from tqdm import tqdm\n",
    "import time\n",
    "import my_utils as mu\n",
    "from my_utils import *\n",
    "import pandas as pd\n",
    "import requests"
   ]
  },
  {
   "cell_type": "code",
   "execution_count": 2,
   "id": "32c47688",
   "metadata": {},
   "outputs": [
    {
     "name": "stdout",
     "output_type": "stream",
     "text": [
      "get summonerId....\n"
     ]
    },
    {
     "name": "stderr",
     "output_type": "stream",
     "text": [
      "100%|██████████| 4/4 [00:02<00:00,  1.39it/s]\n"
     ]
    },
    {
     "name": "stdout",
     "output_type": "stream",
     "text": [
      "get puuId.....\n"
     ]
    },
    {
     "name": "stderr",
     "output_type": "stream",
     "text": [
      "100%|██████████| 12/12 [00:07<00:00,  1.56it/s]\n"
     ]
    },
    {
     "name": "stdout",
     "output_type": "stream",
     "text": [
      "get match_id....\n"
     ]
    },
    {
     "name": "stderr",
     "output_type": "stream",
     "text": [
      "100%|██████████| 12/12 [00:08<00:00,  1.42it/s]\n"
     ]
    },
    {
     "name": "stdout",
     "output_type": "stream",
     "text": [
      "get matches & timeline....\n"
     ]
    },
    {
     "name": "stderr",
     "output_type": "stream",
     "text": [
      "100%|██████████| 36/36 [00:57<00:00,  1.59s/it]\n"
     ]
    }
   ],
   "source": [
    "df = mu.get_rawdata('GOLD')"
   ]
  },
  {
   "cell_type": "code",
   "execution_count": 3,
   "id": "5a0264c3",
   "metadata": {},
   "outputs": [],
   "source": [
    "def get_rawdata(tier):\n",
    "    division_list = ['I','II','III','IV']\n",
    "    lst=[]\n",
    "    page = random.randrange(1,20)\n",
    "    print('get summonerId...')\n",
    "    for division in tqdm(division_list):\n",
    "        url = f'https://kr.api.riotgames.com/lol/league/v4/entries/RANKED_SOLO_5x5/{tier}/{division}?page={page}&api_key={api_key}'\n",
    "        res = requests.get(url).jason()\n",
    "        lst += random.sample(res,4)"
   ]
  },
  {
   "cell_type": "code",
   "execution_count": null,
   "id": "0983aaf7",
   "metadata": {},
   "outputs": [],
   "source": []
  },
  {
   "cell_type": "code",
   "execution_count": null,
   "id": "15be042c",
   "metadata": {},
   "outputs": [],
   "source": []
  },
  {
   "cell_type": "code",
   "execution_count": null,
   "id": "aca4168f",
   "metadata": {},
   "outputs": [],
   "source": []
  },
  {
   "cell_type": "code",
   "execution_count": null,
   "id": "1c0fa5d4",
   "metadata": {},
   "outputs": [],
   "source": []
  },
  {
   "cell_type": "code",
   "execution_count": null,
   "id": "cf295eb8",
   "metadata": {},
   "outputs": [],
   "source": []
  },
  {
   "cell_type": "code",
   "execution_count": null,
   "id": "3d737752",
   "metadata": {},
   "outputs": [],
   "source": []
  },
  {
   "cell_type": "code",
   "execution_count": null,
   "id": "643d8eaf",
   "metadata": {},
   "outputs": [],
   "source": []
  },
  {
   "cell_type": "code",
   "execution_count": null,
   "id": "c8bdc559",
   "metadata": {},
   "outputs": [],
   "source": []
  },
  {
   "cell_type": "code",
   "execution_count": null,
   "id": "4c026eba",
   "metadata": {},
   "outputs": [],
   "source": []
  },
  {
   "cell_type": "code",
   "execution_count": null,
   "id": "c5458b48",
   "metadata": {},
   "outputs": [],
   "source": []
  }
 ],
 "metadata": {
  "kernelspec": {
   "display_name": "Python 3 (ipykernel)",
   "language": "python",
   "name": "python3"
  },
  "language_info": {
   "codemirror_mode": {
    "name": "ipython",
    "version": 3
   },
   "file_extension": ".py",
   "mimetype": "text/x-python",
   "name": "python",
   "nbconvert_exporter": "python",
   "pygments_lexer": "ipython3",
   "version": "3.11.5"
  }
 },
 "nbformat": 4,
 "nbformat_minor": 5
}
