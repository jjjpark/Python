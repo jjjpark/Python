{
 "cells": [
  {
   "cell_type": "code",
   "execution_count": 1,
   "id": "69c275a6",
   "metadata": {},
   "outputs": [],
   "source": [
    "import pandas as pd\n",
    "from my_utils import *\n",
    "import matplotlib.pyplot as plt\n",
    "from matplotlib import font_manager, rc"
   ]
  },
  {
   "cell_type": "code",
   "execution_count": 2,
   "id": "de62d4a2",
   "metadata": {},
   "outputs": [],
   "source": [
    "font_path = \"C:/Windows/Fonts/gulim.ttc\"\n",
    "font = font_manager.FontProperties(fname=font_path).get_name()\n",
    "rc('font', family=font) # 윈도우"
   ]
  },
  {
   "cell_type": "code",
   "execution_count": 3,
   "id": "15f10c66",
   "metadata": {},
   "outputs": [],
   "source": [
    "conn = connect_mysql()\n",
    "query = 'select * from lol_datas'\n",
    "df = pd.DataFrame(sql_execute_dict(conn,query))\n",
    "conn.close()"
   ]
  },
  {
   "cell_type": "code",
   "execution_count": 4,
   "id": "e8821e28",
   "metadata": {},
   "outputs": [
    {
     "data": {
      "text/plain": [
       "Index(['gameId', 'gameDuration', 'gameVersion', 'summonerName',\n",
       "       'summonerLevel', 'participantId', 'championName', 'champExperience',\n",
       "       'teamPosition', 'teamId', 'win', 'kills', 'deaths', 'assists',\n",
       "       'totalDamageDealtToChampions', 'totalDamageTaken', 'g_5', 'g_6', 'g_7',\n",
       "       'g_8', 'g_9', 'g_10', 'g_11', 'g_12', 'g_13', 'g_14', 'g_15', 'g_16',\n",
       "       'g_17', 'g_18', 'g_19', 'g_20', 'g_21', 'g_22', 'g_23', 'g_24', 'g_25'],\n",
       "      dtype='object')"
      ]
     },
     "execution_count": 4,
     "metadata": {},
     "output_type": "execute_result"
    }
   ],
   "source": [
    "df.columns"
   ]
  },
  {
   "cell_type": "code",
   "execution_count": 5,
   "id": "5278c353",
   "metadata": {},
   "outputs": [],
   "source": [
    "tmp = df[['teamPosition','totalDamageDealtToChampions','totalDamageTaken','g_15']]"
   ]
  },
  {
   "cell_type": "code",
   "execution_count": 6,
   "id": "34008780",
   "metadata": {},
   "outputs": [],
   "source": [
    "tmp = tmp[tmp.teamPosition != '']"
   ]
  },
  {
   "cell_type": "code",
   "execution_count": 7,
   "id": "597425a6",
   "metadata": {},
   "outputs": [
    {
     "data": {
      "text/html": [
       "<div>\n",
       "<style scoped>\n",
       "    .dataframe tbody tr th:only-of-type {\n",
       "        vertical-align: middle;\n",
       "    }\n",
       "\n",
       "    .dataframe tbody tr th {\n",
       "        vertical-align: top;\n",
       "    }\n",
       "\n",
       "    .dataframe thead th {\n",
       "        text-align: right;\n",
       "    }\n",
       "</style>\n",
       "<table border=\"1\" class=\"dataframe\">\n",
       "  <thead>\n",
       "    <tr style=\"text-align: right;\">\n",
       "      <th></th>\n",
       "      <th>teamPosition</th>\n",
       "      <th>totalDamageDealtToChampions</th>\n",
       "      <th>totalDamageTaken</th>\n",
       "      <th>g_15</th>\n",
       "    </tr>\n",
       "  </thead>\n",
       "  <tbody>\n",
       "    <tr>\n",
       "      <th>8</th>\n",
       "      <td>TOP</td>\n",
       "      <td>22036</td>\n",
       "      <td>42737</td>\n",
       "      <td>5137</td>\n",
       "    </tr>\n",
       "    <tr>\n",
       "      <th>9</th>\n",
       "      <td>JUNGLE</td>\n",
       "      <td>35747</td>\n",
       "      <td>68033</td>\n",
       "      <td>6506</td>\n",
       "    </tr>\n",
       "    <tr>\n",
       "      <th>10</th>\n",
       "      <td>MIDDLE</td>\n",
       "      <td>57585</td>\n",
       "      <td>29526</td>\n",
       "      <td>6978</td>\n",
       "    </tr>\n",
       "    <tr>\n",
       "      <th>11</th>\n",
       "      <td>BOTTOM</td>\n",
       "      <td>38080</td>\n",
       "      <td>35156</td>\n",
       "      <td>5181</td>\n",
       "    </tr>\n",
       "    <tr>\n",
       "      <th>12</th>\n",
       "      <td>UTILITY</td>\n",
       "      <td>17153</td>\n",
       "      <td>35844</td>\n",
       "      <td>4576</td>\n",
       "    </tr>\n",
       "    <tr>\n",
       "      <th>...</th>\n",
       "      <td>...</td>\n",
       "      <td>...</td>\n",
       "      <td>...</td>\n",
       "      <td>...</td>\n",
       "    </tr>\n",
       "    <tr>\n",
       "      <th>71873</th>\n",
       "      <td>TOP</td>\n",
       "      <td>11814</td>\n",
       "      <td>10942</td>\n",
       "      <td>6051</td>\n",
       "    </tr>\n",
       "    <tr>\n",
       "      <th>71874</th>\n",
       "      <td>JUNGLE</td>\n",
       "      <td>1807</td>\n",
       "      <td>17352</td>\n",
       "      <td>4086</td>\n",
       "    </tr>\n",
       "    <tr>\n",
       "      <th>71875</th>\n",
       "      <td>MIDDLE</td>\n",
       "      <td>6144</td>\n",
       "      <td>7474</td>\n",
       "      <td>5064</td>\n",
       "    </tr>\n",
       "    <tr>\n",
       "      <th>71876</th>\n",
       "      <td>BOTTOM</td>\n",
       "      <td>10989</td>\n",
       "      <td>5144</td>\n",
       "      <td>6534</td>\n",
       "    </tr>\n",
       "    <tr>\n",
       "      <th>71877</th>\n",
       "      <td>UTILITY</td>\n",
       "      <td>2142</td>\n",
       "      <td>3713</td>\n",
       "      <td>4471</td>\n",
       "    </tr>\n",
       "  </tbody>\n",
       "</table>\n",
       "<p>56507 rows × 4 columns</p>\n",
       "</div>"
      ],
      "text/plain": [
       "      teamPosition  totalDamageDealtToChampions  totalDamageTaken  g_15\n",
       "8              TOP                        22036             42737  5137\n",
       "9           JUNGLE                        35747             68033  6506\n",
       "10          MIDDLE                        57585             29526  6978\n",
       "11          BOTTOM                        38080             35156  5181\n",
       "12         UTILITY                        17153             35844  4576\n",
       "...            ...                          ...               ...   ...\n",
       "71873          TOP                        11814             10942  6051\n",
       "71874       JUNGLE                         1807             17352  4086\n",
       "71875       MIDDLE                         6144              7474  5064\n",
       "71876       BOTTOM                        10989              5144  6534\n",
       "71877      UTILITY                         2142              3713  4471\n",
       "\n",
       "[56507 rows x 4 columns]"
      ]
     },
     "execution_count": 7,
     "metadata": {},
     "output_type": "execute_result"
    }
   ],
   "source": [
    "tmp"
   ]
  },
  {
   "cell_type": "code",
   "execution_count": 8,
   "id": "63d70848",
   "metadata": {},
   "outputs": [],
   "source": [
    "group_df = tmp.groupby('teamPosition').mean().round()"
   ]
  },
  {
   "cell_type": "code",
   "execution_count": 9,
   "id": "27fd6692",
   "metadata": {},
   "outputs": [
    {
     "data": {
      "text/plain": [
       "totalDamageDealtToChampions    21178.0\n",
       "totalDamageTaken               18726.0\n",
       "g_15                            5976.0\n",
       "Name: BOTTOM, dtype: float64"
      ]
     },
     "execution_count": 9,
     "metadata": {},
     "output_type": "execute_result"
    }
   ],
   "source": [
    "group_df.loc['BOTTOM']\n",
    "group_df.iloc[0]"
   ]
  },
  {
   "cell_type": "code",
   "execution_count": 10,
   "id": "c8248f17",
   "metadata": {},
   "outputs": [],
   "source": [
    "# autopct ="
   ]
  },
  {
   "cell_type": "code",
   "execution_count": 11,
   "id": "8ac56a40",
   "metadata": {},
   "outputs": [
    {
     "data": {
      "text/plain": [
       "Text(0.5, 1.0, '파이차트')"
      ]
     },
     "execution_count": 11,
     "metadata": {},
     "output_type": "execute_result"
    },
    {
     "data": {
      "image/png": "[encoded data removed]",
      "text/plain": [
       "<Figure size 640x480 with 1 Axes>"
      ]
     },
     "metadata": {},
     "output_type": "display_data"
    }
   ],
   "source": [
    "plt.figure()\n",
    "plt.pie(group_df.loc['BOTTOM'],labels = ['딜량','받은 피해량','15분 골드'],autopct = '%1.1f%%',\n",
    "        explode = (0.01,0.01,0.01))\n",
    "plt.grid(True)\n",
    "plt.legend(loc=2)\n",
    "plt.title('파이차트')"
   ]
  },
  {
   "cell_type": "code",
   "execution_count": 12,
   "id": "67a9d619",
   "metadata": {},
   "outputs": [
    {
     "data": {
      "text/html": [
       "<div>\n",
       "<style scoped>\n",
       "    .dataframe tbody tr th:only-of-type {\n",
       "        vertical-align: middle;\n",
       "    }\n",
       "\n",
       "    .dataframe tbody tr th {\n",
       "        vertical-align: top;\n",
       "    }\n",
       "\n",
       "    .dataframe thead th {\n",
       "        text-align: right;\n",
       "    }\n",
       "</style>\n",
       "<table border=\"1\" class=\"dataframe\">\n",
       "  <thead>\n",
       "    <tr style=\"text-align: right;\">\n",
       "      <th></th>\n",
       "      <th>teamPosition</th>\n",
       "      <th>totalDamageDealtToChampions</th>\n",
       "      <th>totalDamageTaken</th>\n",
       "      <th>g_15</th>\n",
       "    </tr>\n",
       "  </thead>\n",
       "  <tbody>\n",
       "    <tr>\n",
       "      <th>8</th>\n",
       "      <td>TOP</td>\n",
       "      <td>22036</td>\n",
       "      <td>42737</td>\n",
       "      <td>5137</td>\n",
       "    </tr>\n",
       "    <tr>\n",
       "      <th>9</th>\n",
       "      <td>JUNGLE</td>\n",
       "      <td>35747</td>\n",
       "      <td>68033</td>\n",
       "      <td>6506</td>\n",
       "    </tr>\n",
       "    <tr>\n",
       "      <th>10</th>\n",
       "      <td>MIDDLE</td>\n",
       "      <td>57585</td>\n",
       "      <td>29526</td>\n",
       "      <td>6978</td>\n",
       "    </tr>\n",
       "    <tr>\n",
       "      <th>11</th>\n",
       "      <td>BOTTOM</td>\n",
       "      <td>38080</td>\n",
       "      <td>35156</td>\n",
       "      <td>5181</td>\n",
       "    </tr>\n",
       "    <tr>\n",
       "      <th>12</th>\n",
       "      <td>UTILITY</td>\n",
       "      <td>17153</td>\n",
       "      <td>35844</td>\n",
       "      <td>4576</td>\n",
       "    </tr>\n",
       "    <tr>\n",
       "      <th>...</th>\n",
       "      <td>...</td>\n",
       "      <td>...</td>\n",
       "      <td>...</td>\n",
       "      <td>...</td>\n",
       "    </tr>\n",
       "    <tr>\n",
       "      <th>71873</th>\n",
       "      <td>TOP</td>\n",
       "      <td>11814</td>\n",
       "      <td>10942</td>\n",
       "      <td>6051</td>\n",
       "    </tr>\n",
       "    <tr>\n",
       "      <th>71874</th>\n",
       "      <td>JUNGLE</td>\n",
       "      <td>1807</td>\n",
       "      <td>17352</td>\n",
       "      <td>4086</td>\n",
       "    </tr>\n",
       "    <tr>\n",
       "      <th>71875</th>\n",
       "      <td>MIDDLE</td>\n",
       "      <td>6144</td>\n",
       "      <td>7474</td>\n",
       "      <td>5064</td>\n",
       "    </tr>\n",
       "    <tr>\n",
       "      <th>71876</th>\n",
       "      <td>BOTTOM</td>\n",
       "      <td>10989</td>\n",
       "      <td>5144</td>\n",
       "      <td>6534</td>\n",
       "    </tr>\n",
       "    <tr>\n",
       "      <th>71877</th>\n",
       "      <td>UTILITY</td>\n",
       "      <td>2142</td>\n",
       "      <td>3713</td>\n",
       "      <td>4471</td>\n",
       "    </tr>\n",
       "  </tbody>\n",
       "</table>\n",
       "<p>56507 rows × 4 columns</p>\n",
       "</div>"
      ],
      "text/plain": [
       "      teamPosition  totalDamageDealtToChampions  totalDamageTaken  g_15\n",
       "8              TOP                        22036             42737  5137\n",
       "9           JUNGLE                        35747             68033  6506\n",
       "10          MIDDLE                        57585             29526  6978\n",
       "11          BOTTOM                        38080             35156  5181\n",
       "12         UTILITY                        17153             35844  4576\n",
       "...            ...                          ...               ...   ...\n",
       "71873          TOP                        11814             10942  6051\n",
       "71874       JUNGLE                         1807             17352  4086\n",
       "71875       MIDDLE                         6144              7474  5064\n",
       "71876       BOTTOM                        10989              5144  6534\n",
       "71877      UTILITY                         2142              3713  4471\n",
       "\n",
       "[56507 rows x 4 columns]"
      ]
     },
     "execution_count": 12,
     "metadata": {},
     "output_type": "execute_result"
    }
   ],
   "source": [
    "tmp"
   ]
  },
  {
   "cell_type": "code",
   "execution_count": 13,
   "id": "cfd21c3d",
   "metadata": {},
   "outputs": [],
   "source": [
    "my_tmp = tmp[['teamPosition','totalDamageDealtToChampions']]"
   ]
  },
  {
   "cell_type": "code",
   "execution_count": 14,
   "id": "3288f787",
   "metadata": {},
   "outputs": [],
   "source": [
    "my_tmp.set_index('teamPosition',inplace = True)"
   ]
  },
  {
   "cell_type": "code",
   "execution_count": 15,
   "id": "4eab4516",
   "metadata": {},
   "outputs": [
    {
     "data": {
      "text/html": [
       "<div>\n",
       "<style scoped>\n",
       "    .dataframe tbody tr th:only-of-type {\n",
       "        vertical-align: middle;\n",
       "    }\n",
       "\n",
       "    .dataframe tbody tr th {\n",
       "        vertical-align: top;\n",
       "    }\n",
       "\n",
       "    .dataframe thead th {\n",
       "        text-align: right;\n",
       "    }\n",
       "</style>\n",
       "<table border=\"1\" class=\"dataframe\">\n",
       "  <thead>\n",
       "    <tr style=\"text-align: right;\">\n",
       "      <th></th>\n",
       "      <th>totalDamageDealtToChampions</th>\n",
       "    </tr>\n",
       "    <tr>\n",
       "      <th>teamPosition</th>\n",
       "      <th></th>\n",
       "    </tr>\n",
       "  </thead>\n",
       "  <tbody>\n",
       "    <tr>\n",
       "      <th>TOP</th>\n",
       "      <td>22036</td>\n",
       "    </tr>\n",
       "    <tr>\n",
       "      <th>JUNGLE</th>\n",
       "      <td>35747</td>\n",
       "    </tr>\n",
       "    <tr>\n",
       "      <th>MIDDLE</th>\n",
       "      <td>57585</td>\n",
       "    </tr>\n",
       "    <tr>\n",
       "      <th>BOTTOM</th>\n",
       "      <td>38080</td>\n",
       "    </tr>\n",
       "    <tr>\n",
       "      <th>UTILITY</th>\n",
       "      <td>17153</td>\n",
       "    </tr>\n",
       "    <tr>\n",
       "      <th>...</th>\n",
       "      <td>...</td>\n",
       "    </tr>\n",
       "    <tr>\n",
       "      <th>TOP</th>\n",
       "      <td>11814</td>\n",
       "    </tr>\n",
       "    <tr>\n",
       "      <th>JUNGLE</th>\n",
       "      <td>1807</td>\n",
       "    </tr>\n",
       "    <tr>\n",
       "      <th>MIDDLE</th>\n",
       "      <td>6144</td>\n",
       "    </tr>\n",
       "    <tr>\n",
       "      <th>BOTTOM</th>\n",
       "      <td>10989</td>\n",
       "    </tr>\n",
       "    <tr>\n",
       "      <th>UTILITY</th>\n",
       "      <td>2142</td>\n",
       "    </tr>\n",
       "  </tbody>\n",
       "</table>\n",
       "<p>56507 rows × 1 columns</p>\n",
       "</div>"
      ],
      "text/plain": [
       "              totalDamageDealtToChampions\n",
       "teamPosition                             \n",
       "TOP                                 22036\n",
       "JUNGLE                              35747\n",
       "MIDDLE                              57585\n",
       "BOTTOM                              38080\n",
       "UTILITY                             17153\n",
       "...                                   ...\n",
       "TOP                                 11814\n",
       "JUNGLE                               1807\n",
       "MIDDLE                               6144\n",
       "BOTTOM                              10989\n",
       "UTILITY                              2142\n",
       "\n",
       "[56507 rows x 1 columns]"
      ]
     },
     "execution_count": 15,
     "metadata": {},
     "output_type": "execute_result"
    }
   ],
   "source": [
    "my_tmp"
   ]
  },
  {
   "cell_type": "code",
   "execution_count": 16,
   "id": "18b35427",
   "metadata": {},
   "outputs": [
    {
     "data": {
      "image/png": "[encoded data removed]",
      "text/plain": [
       "<Figure size 800x600 with 1 Axes>"
      ]
     },
     "metadata": {},
     "output_type": "display_data"
    }
   ],
   "source": [
    "plt.figure(figsize =(8,6))\n",
    "plt.hist(my_tmp, bins = len(my_tmp), label = '전 라인', rwidth = 0.9)\n",
    "\n",
    "plt.xlabel('딜량', size = 14)\n",
    "plt.ylabel('빈도수',size = 14)\n",
    "plt.title('딜량 히스토그램')\n",
    "plt.legend(loc = 'upper right')\n",
    "plt.grid(axis = 'y', alpha = 0.3)"
   ]
  },
  {
   "cell_type": "code",
   "execution_count": 17,
   "id": "d2daad2b",
   "metadata": {},
   "outputs": [],
   "source": [
    "import seaborn as sns"
   ]
  },
  {
   "cell_type": "code",
   "execution_count": 18,
   "id": "c37d63b8",
   "metadata": {},
   "outputs": [],
   "source": [
    "url = 'http://openapi.seoul.go.kr:8088/(인증키)/xml/GetParkInfo/1/5/'"
   ]
  },
  {
   "cell_type": "code",
   "execution_count": 19,
   "id": "190ffe86",
   "metadata": {},
   "outputs": [],
   "source": [
    "df = get_df(url) "
   ]
  },
  {
   "cell_type": "code",
   "execution_count": 20,
   "id": "dc85c9b7",
   "metadata": {},
   "outputs": [
    {
     "data": {
      "text/plain": [
       "Index(['PARKING_NAME', 'ADDR', 'PARKING_CODE', 'PARKING_TYPE',\n",
       "       'PARKING_TYPE_NM', 'OPERATION_RULE', 'OPERATION_RULE_NM', 'TEL',\n",
       "       'QUE_STATUS', 'QUE_STATUS_NM', 'CAPACITY', 'PAY_YN', 'PAY_NM',\n",
       "       'NIGHT_FREE_OPEN', 'NIGHT_FREE_OPEN_NM', 'WEEKDAY_BEGIN_TIME',\n",
       "       'WEEKDAY_END_TIME', 'WEEKEND_BEGIN_TIME', 'WEEKEND_END_TIME',\n",
       "       'HOLIDAY_BEGIN_TIME', 'HOLIDAY_END_TIME', 'SYNC_TIME',\n",
       "       'SATURDAY_PAY_YN', 'SATURDAY_PAY_NM', 'HOLIDAY_PAY_YN',\n",
       "       'HOLIDAY_PAY_NM', 'FULLTIME_MONTHLY', 'GRP_PARKNM', 'RATES',\n",
       "       'TIME_RATE', 'ADD_RATES', 'ADD_TIME_RATE', 'BUS_RATES', 'BUS_TIME_RATE',\n",
       "       'BUS_ADD_TIME_RATE', 'BUS_ADD_RATES', 'DAY_MAXIMUM', 'LAT', 'LNG'],\n",
       "      dtype='object')"
      ]
     },
     "execution_count": 20,
     "metadata": {},
     "output_type": "execute_result"
    }
   ],
   "source": [
    "df.columns"
   ]
  },
  {
   "cell_type": "code",
   "execution_count": 21,
   "id": "97981927",
   "metadata": {},
   "outputs": [],
   "source": [
    "tmp = df[['PARKING_NAME','CAPACITY','PAY_NM','SATURDAY_PAY_NM',\n",
    "          'HOLIDAY_PAY_NM','FULLTIME_MONTHLY','RATES','ADD_RATES']]"
   ]
  },
  {
   "cell_type": "code",
   "execution_count": 22,
   "id": "4ab87293",
   "metadata": {},
   "outputs": [],
   "source": [
    "tmp.columns = ['주차장명','주차수','유무료','주말유무료','공휴일유무료',\n",
    "                 '월정기권금액','기본요금','추가요금']"
   ]
  },
  {
   "cell_type": "code",
   "execution_count": 23,
   "id": "b56ac5cd",
   "metadata": {},
   "outputs": [
    {
     "data": {
      "text/html": [
       "<div>\n",
       "<style scoped>\n",
       "    .dataframe tbody tr th:only-of-type {\n",
       "        vertical-align: middle;\n",
       "    }\n",
       "\n",
       "    .dataframe tbody tr th {\n",
       "        vertical-align: top;\n",
       "    }\n",
       "\n",
       "    .dataframe thead th {\n",
       "        text-align: right;\n",
       "    }\n",
       "</style>\n",
       "<table border=\"1\" class=\"dataframe\">\n",
       "  <thead>\n",
       "    <tr style=\"text-align: right;\">\n",
       "      <th></th>\n",
       "      <th>주차장명</th>\n",
       "      <th>주차수</th>\n",
       "      <th>유무료</th>\n",
       "      <th>주말유무료</th>\n",
       "      <th>공휴일유무료</th>\n",
       "      <th>월정기권금액</th>\n",
       "      <th>기본요금</th>\n",
       "      <th>추가요금</th>\n",
       "    </tr>\n",
       "  </thead>\n",
       "  <tbody>\n",
       "    <tr>\n",
       "      <th>0</th>\n",
       "      <td>초안산근린공원주차장(구)</td>\n",
       "      <td>71.0</td>\n",
       "      <td>유료</td>\n",
       "      <td>무료</td>\n",
       "      <td>무료</td>\n",
       "      <td>0</td>\n",
       "      <td>0.0</td>\n",
       "      <td>300.0</td>\n",
       "    </tr>\n",
       "    <tr>\n",
       "      <th>1</th>\n",
       "      <td>마들스타디움(근린공원)(구)</td>\n",
       "      <td>177.0</td>\n",
       "      <td>유료</td>\n",
       "      <td>무료</td>\n",
       "      <td>무료</td>\n",
       "      <td>100000</td>\n",
       "      <td>150.0</td>\n",
       "      <td>150.0</td>\n",
       "    </tr>\n",
       "    <tr>\n",
       "      <th>2</th>\n",
       "      <td>마장동(건물) 공영주차장(구)</td>\n",
       "      <td>54.0</td>\n",
       "      <td>유료</td>\n",
       "      <td>무료</td>\n",
       "      <td>무료</td>\n",
       "      <td>50000</td>\n",
       "      <td>50.0</td>\n",
       "      <td>50.0</td>\n",
       "    </tr>\n",
       "    <tr>\n",
       "      <th>3</th>\n",
       "      <td>영등포여고 공영(구)</td>\n",
       "      <td>98.0</td>\n",
       "      <td>유료</td>\n",
       "      <td>무료</td>\n",
       "      <td>무료</td>\n",
       "      <td>65000</td>\n",
       "      <td>50.0</td>\n",
       "      <td>50.0</td>\n",
       "    </tr>\n",
       "    <tr>\n",
       "      <th>4</th>\n",
       "      <td>당산근린공원 공영(구)</td>\n",
       "      <td>190.0</td>\n",
       "      <td>유료</td>\n",
       "      <td>무료</td>\n",
       "      <td>무료</td>\n",
       "      <td>100000</td>\n",
       "      <td>150.0</td>\n",
       "      <td>150.0</td>\n",
       "    </tr>\n",
       "    <tr>\n",
       "      <th>...</th>\n",
       "      <td>...</td>\n",
       "      <td>...</td>\n",
       "      <td>...</td>\n",
       "      <td>...</td>\n",
       "      <td>...</td>\n",
       "      <td>...</td>\n",
       "      <td>...</td>\n",
       "      <td>...</td>\n",
       "    </tr>\n",
       "    <tr>\n",
       "      <th>995</th>\n",
       "      <td>낙산성곽 버스전용 주차장(구)</td>\n",
       "      <td>1.0</td>\n",
       "      <td>무료</td>\n",
       "      <td>유료</td>\n",
       "      <td>유료</td>\n",
       "      <td>0</td>\n",
       "      <td>0.0</td>\n",
       "      <td>0.0</td>\n",
       "    </tr>\n",
       "    <tr>\n",
       "      <th>996</th>\n",
       "      <td>낙산성곽 버스전용 주차장(구)</td>\n",
       "      <td>1.0</td>\n",
       "      <td>무료</td>\n",
       "      <td>유료</td>\n",
       "      <td>유료</td>\n",
       "      <td>0</td>\n",
       "      <td>0.0</td>\n",
       "      <td>0.0</td>\n",
       "    </tr>\n",
       "    <tr>\n",
       "      <th>997</th>\n",
       "      <td>낙산성곽 버스전용 주차장(구)</td>\n",
       "      <td>1.0</td>\n",
       "      <td>무료</td>\n",
       "      <td>유료</td>\n",
       "      <td>유료</td>\n",
       "      <td>0</td>\n",
       "      <td>0.0</td>\n",
       "      <td>0.0</td>\n",
       "    </tr>\n",
       "    <tr>\n",
       "      <th>998</th>\n",
       "      <td>낙산성곽 버스전용 주차장(구)</td>\n",
       "      <td>1.0</td>\n",
       "      <td>무료</td>\n",
       "      <td>유료</td>\n",
       "      <td>유료</td>\n",
       "      <td>0</td>\n",
       "      <td>0.0</td>\n",
       "      <td>0.0</td>\n",
       "    </tr>\n",
       "    <tr>\n",
       "      <th>999</th>\n",
       "      <td>낙산성곽 버스전용 주차장(구)</td>\n",
       "      <td>1.0</td>\n",
       "      <td>무료</td>\n",
       "      <td>유료</td>\n",
       "      <td>유료</td>\n",
       "      <td>0</td>\n",
       "      <td>0.0</td>\n",
       "      <td>0.0</td>\n",
       "    </tr>\n",
       "  </tbody>\n",
       "</table>\n",
       "<p>1000 rows × 8 columns</p>\n",
       "</div>"
      ],
      "text/plain": [
       "                 주차장명    주차수 유무료 주말유무료 공휴일유무료  월정기권금액   기본요금   추가요금\n",
       "0       초안산근린공원주차장(구)   71.0  유료    무료     무료       0    0.0  300.0\n",
       "1     마들스타디움(근린공원)(구)  177.0  유료    무료     무료  100000  150.0  150.0\n",
       "2    마장동(건물) 공영주차장(구)   54.0  유료    무료     무료   50000   50.0   50.0\n",
       "3         영등포여고 공영(구)   98.0  유료    무료     무료   65000   50.0   50.0\n",
       "4        당산근린공원 공영(구)  190.0  유료    무료     무료  100000  150.0  150.0\n",
       "..                ...    ...  ..   ...    ...     ...    ...    ...\n",
       "995  낙산성곽 버스전용 주차장(구)    1.0  무료    유료     유료       0    0.0    0.0\n",
       "996  낙산성곽 버스전용 주차장(구)    1.0  무료    유료     유료       0    0.0    0.0\n",
       "997  낙산성곽 버스전용 주차장(구)    1.0  무료    유료     유료       0    0.0    0.0\n",
       "998  낙산성곽 버스전용 주차장(구)    1.0  무료    유료     유료       0    0.0    0.0\n",
       "999  낙산성곽 버스전용 주차장(구)    1.0  무료    유료     유료       0    0.0    0.0\n",
       "\n",
       "[1000 rows x 8 columns]"
      ]
     },
     "execution_count": 23,
     "metadata": {},
     "output_type": "execute_result"
    }
   ],
   "source": [
    "tmp"
   ]
  },
  {
   "cell_type": "code",
   "execution_count": 24,
   "id": "5cc74b39",
   "metadata": {},
   "outputs": [],
   "source": [
    "tmp = tmp.drop_duplicates()"
   ]
  },
  {
   "cell_type": "code",
   "execution_count": 25,
   "id": "b5da85b7",
   "metadata": {},
   "outputs": [
    {
     "data": {
      "text/html": [
       "<div>\n",
       "<style scoped>\n",
       "    .dataframe tbody tr th:only-of-type {\n",
       "        vertical-align: middle;\n",
       "    }\n",
       "\n",
       "    .dataframe tbody tr th {\n",
       "        vertical-align: top;\n",
       "    }\n",
       "\n",
       "    .dataframe thead th {\n",
       "        text-align: right;\n",
       "    }\n",
       "</style>\n",
       "<table border=\"1\" class=\"dataframe\">\n",
       "  <thead>\n",
       "    <tr style=\"text-align: right;\">\n",
       "      <th></th>\n",
       "      <th>주차장명</th>\n",
       "      <th>주차수</th>\n",
       "      <th>유무료</th>\n",
       "      <th>주말유무료</th>\n",
       "      <th>공휴일유무료</th>\n",
       "      <th>월정기권금액</th>\n",
       "      <th>기본요금</th>\n",
       "      <th>추가요금</th>\n",
       "    </tr>\n",
       "  </thead>\n",
       "  <tbody>\n",
       "    <tr>\n",
       "      <th>0</th>\n",
       "      <td>초안산근린공원주차장(구)</td>\n",
       "      <td>71.0</td>\n",
       "      <td>유료</td>\n",
       "      <td>무료</td>\n",
       "      <td>무료</td>\n",
       "      <td>0</td>\n",
       "      <td>0.0</td>\n",
       "      <td>300.0</td>\n",
       "    </tr>\n",
       "    <tr>\n",
       "      <th>1</th>\n",
       "      <td>마들스타디움(근린공원)(구)</td>\n",
       "      <td>177.0</td>\n",
       "      <td>유료</td>\n",
       "      <td>무료</td>\n",
       "      <td>무료</td>\n",
       "      <td>100000</td>\n",
       "      <td>150.0</td>\n",
       "      <td>150.0</td>\n",
       "    </tr>\n",
       "    <tr>\n",
       "      <th>2</th>\n",
       "      <td>마장동(건물) 공영주차장(구)</td>\n",
       "      <td>54.0</td>\n",
       "      <td>유료</td>\n",
       "      <td>무료</td>\n",
       "      <td>무료</td>\n",
       "      <td>50000</td>\n",
       "      <td>50.0</td>\n",
       "      <td>50.0</td>\n",
       "    </tr>\n",
       "    <tr>\n",
       "      <th>3</th>\n",
       "      <td>영등포여고 공영(구)</td>\n",
       "      <td>98.0</td>\n",
       "      <td>유료</td>\n",
       "      <td>무료</td>\n",
       "      <td>무료</td>\n",
       "      <td>65000</td>\n",
       "      <td>50.0</td>\n",
       "      <td>50.0</td>\n",
       "    </tr>\n",
       "    <tr>\n",
       "      <th>4</th>\n",
       "      <td>당산근린공원 공영(구)</td>\n",
       "      <td>190.0</td>\n",
       "      <td>유료</td>\n",
       "      <td>무료</td>\n",
       "      <td>무료</td>\n",
       "      <td>100000</td>\n",
       "      <td>150.0</td>\n",
       "      <td>150.0</td>\n",
       "    </tr>\n",
       "    <tr>\n",
       "      <th>...</th>\n",
       "      <td>...</td>\n",
       "      <td>...</td>\n",
       "      <td>...</td>\n",
       "      <td>...</td>\n",
       "      <td>...</td>\n",
       "      <td>...</td>\n",
       "      <td>...</td>\n",
       "      <td>...</td>\n",
       "    </tr>\n",
       "    <tr>\n",
       "      <th>965</th>\n",
       "      <td>태화관(구)</td>\n",
       "      <td>1.0</td>\n",
       "      <td>유료</td>\n",
       "      <td>무료</td>\n",
       "      <td>유료</td>\n",
       "      <td>250000</td>\n",
       "      <td>500.0</td>\n",
       "      <td>1000.0</td>\n",
       "    </tr>\n",
       "    <tr>\n",
       "      <th>966</th>\n",
       "      <td>동일상가아파트 이륜차 주차장(구)</td>\n",
       "      <td>1.0</td>\n",
       "      <td>무료</td>\n",
       "      <td>유료</td>\n",
       "      <td>유료</td>\n",
       "      <td>0</td>\n",
       "      <td>0.0</td>\n",
       "      <td>0.0</td>\n",
       "    </tr>\n",
       "    <tr>\n",
       "      <th>974</th>\n",
       "      <td>숭인상가아파트 이륜차 주차장(구)</td>\n",
       "      <td>1.0</td>\n",
       "      <td>무료</td>\n",
       "      <td>유료</td>\n",
       "      <td>유료</td>\n",
       "      <td>0</td>\n",
       "      <td>0.0</td>\n",
       "      <td>0.0</td>\n",
       "    </tr>\n",
       "    <tr>\n",
       "      <th>980</th>\n",
       "      <td>필운대로 도미노피자앞 이륜차 주차장(구)</td>\n",
       "      <td>1.0</td>\n",
       "      <td>무료</td>\n",
       "      <td>유료</td>\n",
       "      <td>유료</td>\n",
       "      <td>0</td>\n",
       "      <td>0.0</td>\n",
       "      <td>0.0</td>\n",
       "    </tr>\n",
       "    <tr>\n",
       "      <th>991</th>\n",
       "      <td>낙산성곽 버스전용 주차장(구)</td>\n",
       "      <td>1.0</td>\n",
       "      <td>무료</td>\n",
       "      <td>유료</td>\n",
       "      <td>유료</td>\n",
       "      <td>0</td>\n",
       "      <td>0.0</td>\n",
       "      <td>0.0</td>\n",
       "    </tr>\n",
       "  </tbody>\n",
       "</table>\n",
       "<p>202 rows × 8 columns</p>\n",
       "</div>"
      ],
      "text/plain": [
       "                       주차장명    주차수 유무료 주말유무료 공휴일유무료  월정기권금액   기본요금    추가요금\n",
       "0             초안산근린공원주차장(구)   71.0  유료    무료     무료       0    0.0   300.0\n",
       "1           마들스타디움(근린공원)(구)  177.0  유료    무료     무료  100000  150.0   150.0\n",
       "2          마장동(건물) 공영주차장(구)   54.0  유료    무료     무료   50000   50.0    50.0\n",
       "3               영등포여고 공영(구)   98.0  유료    무료     무료   65000   50.0    50.0\n",
       "4              당산근린공원 공영(구)  190.0  유료    무료     무료  100000  150.0   150.0\n",
       "..                      ...    ...  ..   ...    ...     ...    ...     ...\n",
       "965                  태화관(구)    1.0  유료    무료     유료  250000  500.0  1000.0\n",
       "966      동일상가아파트 이륜차 주차장(구)    1.0  무료    유료     유료       0    0.0     0.0\n",
       "974      숭인상가아파트 이륜차 주차장(구)    1.0  무료    유료     유료       0    0.0     0.0\n",
       "980  필운대로 도미노피자앞 이륜차 주차장(구)    1.0  무료    유료     유료       0    0.0     0.0\n",
       "991        낙산성곽 버스전용 주차장(구)    1.0  무료    유료     유료       0    0.0     0.0\n",
       "\n",
       "[202 rows x 8 columns]"
      ]
     },
     "execution_count": 25,
     "metadata": {},
     "output_type": "execute_result"
    }
   ],
   "source": [
    "tmp"
   ]
  },
  {
   "cell_type": "code",
   "execution_count": 26,
   "id": "ee0eaa76",
   "metadata": {},
   "outputs": [
    {
     "data": {
      "text/plain": [
       "<Axes: title={'center': '주차장 유무료'}, xlabel='유무료', ylabel='count'>"
      ]
     },
     "execution_count": 26,
     "metadata": {},
     "output_type": "execute_result"
    },
    {
     "data": {
      "image/png": "[encoded data removed]",
      "text/plain": [
       "<Figure size 640x480 with 1 Axes>"
      ]
     },
     "metadata": {},
     "output_type": "display_data"
    }
   ],
   "source": [
    "plt.figure()\n",
    "plt.title('주차장 유무료')\n",
    "sns.countplot(x = '유무료',data = tmp,order =['유료','무료'])"
   ]
  },
  {
   "cell_type": "code",
   "execution_count": 27,
   "id": "237fb1b8",
   "metadata": {},
   "outputs": [
    {
     "data": {
      "text/plain": [
       "<Axes: title={'center': '기본요금 히스토그램'}, xlabel='기본요금', ylabel='Count'>"
      ]
     },
     "execution_count": 27,
     "metadata": {},
     "output_type": "execute_result"
    },
    {
     "data": {
      "image/png": "[encoded data removed]",
      "text/plain": [
       "<Figure size 640x480 with 1 Axes>"
      ]
     },
     "metadata": {},
     "output_type": "display_data"
    }
   ],
   "source": [
    "plt.figure()\n",
    "plt.title('기본요금 히스토그램')\n",
    "sns.histplot(x = tmp['기본요금'])"
   ]
  },
  {
   "cell_type": "code",
   "execution_count": 28,
   "id": "6f1295ec",
   "metadata": {},
   "outputs": [
    {
     "data": {
      "text/plain": [
       "<Axes: xlabel='기본요금', ylabel='추가요금'>"
      ]
     },
     "execution_count": 28,
     "metadata": {},
     "output_type": "execute_result"
    },
    {
     "data": {
      "image/png": "[encoded data removed]",
      "text/plain": [
       "<Figure size 640x480 with 1 Axes>"
      ]
     },
     "metadata": {},
     "output_type": "display_data"
    }
   ],
   "source": [
    "sns.histplot(x = tmp['기본요금'],y = tmp['추가요금'])"
   ]
  },
  {
   "cell_type": "code",
   "execution_count": 29,
   "id": "d5423d11",
   "metadata": {},
   "outputs": [
    {
     "data": {
      "text/plain": [
       "<Axes: xlabel='기본요금', ylabel='Density'>"
      ]
     },
     "execution_count": 29,
     "metadata": {},
     "output_type": "execute_result"
    },
    {
     "data": {
      "image/png": "[encoded data removed]",
      "text/plain": [
       "<Figure size 640x480 with 1 Axes>"
      ]
     },
     "metadata": {},
     "output_type": "display_data"
    }
   ],
   "source": [
    "plt.figure()\n",
    "sns.kdeplot(x=tmp['기본요금']) # kdeplot=분포도"
   ]
  },
  {
   "cell_type": "code",
   "execution_count": 72,
   "id": "0595df01",
   "metadata": {},
   "outputs": [],
   "source": [
    "conn = connect_mysql()\n",
    "query = 'select * from lol_datas'\n",
    "lol_df = pd.DataFrame(sql_execute_dict(conn,query))"
   ]
  },
  {
   "cell_type": "markdown",
   "id": "7e2ad358",
   "metadata": {},
   "source": [
    "# 포지션별중 1택 15분 골드와 20분 골드를 kdeplot으로 만들기"
   ]
  },
  {
   "cell_type": "code",
   "execution_count": 80,
   "id": "68026478",
   "metadata": {},
   "outputs": [
    {
     "data": {
      "text/plain": [
       "Index(['gameId', 'gameDuration', 'gameVersion', 'summonerName',\n",
       "       'summonerLevel', 'participantId', 'championName', 'champExperience',\n",
       "       'teamPosition', 'teamId', 'win', 'kills', 'deaths', 'assists',\n",
       "       'totalDamageDealtToChampions', 'totalDamageTaken', 'g_5', 'g_6', 'g_7',\n",
       "       'g_8', 'g_9', 'g_10', 'g_11', 'g_12', 'g_13', 'g_14', 'g_15', 'g_16',\n",
       "       'g_17', 'g_18', 'g_19', 'g_20', 'g_21', 'g_22', 'g_23', 'g_24', 'g_25'],\n",
       "      dtype='object')"
      ]
     },
     "execution_count": 80,
     "metadata": {},
     "output_type": "execute_result"
    }
   ],
   "source": [
    "lol_df.columns"
   ]
  },
  {
   "cell_type": "code",
   "execution_count": 81,
   "id": "c7fbb1e8",
   "metadata": {},
   "outputs": [],
   "source": [
    "lol = lol_df[['teamPosition','g_15','g_20']]"
   ]
  },
  {
   "cell_type": "code",
   "execution_count": 82,
   "id": "98ef5fb4",
   "metadata": {},
   "outputs": [],
   "source": [
    "lol.columns=['포지션','15분 골드','20분 골드']"
   ]
  },
  {
   "cell_type": "code",
   "execution_count": 85,
   "id": "1a28b0ea",
   "metadata": {},
   "outputs": [
    {
     "data": {
      "text/html": [
       "<div>\n",
       "<style scoped>\n",
       "    .dataframe tbody tr th:only-of-type {\n",
       "        vertical-align: middle;\n",
       "    }\n",
       "\n",
       "    .dataframe tbody tr th {\n",
       "        vertical-align: top;\n",
       "    }\n",
       "\n",
       "    .dataframe thead th {\n",
       "        text-align: right;\n",
       "    }\n",
       "</style>\n",
       "<table border=\"1\" class=\"dataframe\">\n",
       "  <thead>\n",
       "    <tr style=\"text-align: right;\">\n",
       "      <th></th>\n",
       "      <th>포지션</th>\n",
       "      <th>15분 골드</th>\n",
       "      <th>20분 골드</th>\n",
       "    </tr>\n",
       "  </thead>\n",
       "  <tbody>\n",
       "    <tr>\n",
       "      <th>0</th>\n",
       "      <td></td>\n",
       "      <td>19450</td>\n",
       "      <td>0</td>\n",
       "    </tr>\n",
       "    <tr>\n",
       "      <th>1</th>\n",
       "      <td></td>\n",
       "      <td>19450</td>\n",
       "      <td>0</td>\n",
       "    </tr>\n",
       "    <tr>\n",
       "      <th>2</th>\n",
       "      <td></td>\n",
       "      <td>16100</td>\n",
       "      <td>0</td>\n",
       "    </tr>\n",
       "    <tr>\n",
       "      <th>3</th>\n",
       "      <td></td>\n",
       "      <td>16175</td>\n",
       "      <td>0</td>\n",
       "    </tr>\n",
       "    <tr>\n",
       "      <th>4</th>\n",
       "      <td></td>\n",
       "      <td>19100</td>\n",
       "      <td>0</td>\n",
       "    </tr>\n",
       "    <tr>\n",
       "      <th>...</th>\n",
       "      <td>...</td>\n",
       "      <td>...</td>\n",
       "      <td>...</td>\n",
       "    </tr>\n",
       "    <tr>\n",
       "      <th>71873</th>\n",
       "      <td>TOP</td>\n",
       "      <td>6051</td>\n",
       "      <td>0</td>\n",
       "    </tr>\n",
       "    <tr>\n",
       "      <th>71874</th>\n",
       "      <td>JUNGLE</td>\n",
       "      <td>4086</td>\n",
       "      <td>0</td>\n",
       "    </tr>\n",
       "    <tr>\n",
       "      <th>71875</th>\n",
       "      <td>MIDDLE</td>\n",
       "      <td>5064</td>\n",
       "      <td>0</td>\n",
       "    </tr>\n",
       "    <tr>\n",
       "      <th>71876</th>\n",
       "      <td>BOTTOM</td>\n",
       "      <td>6534</td>\n",
       "      <td>0</td>\n",
       "    </tr>\n",
       "    <tr>\n",
       "      <th>71877</th>\n",
       "      <td>UTILITY</td>\n",
       "      <td>4471</td>\n",
       "      <td>0</td>\n",
       "    </tr>\n",
       "  </tbody>\n",
       "</table>\n",
       "<p>71878 rows × 3 columns</p>\n",
       "</div>"
      ],
      "text/plain": [
       "           포지션  15분 골드  20분 골드\n",
       "0                19450       0\n",
       "1                19450       0\n",
       "2                16100       0\n",
       "3                16175       0\n",
       "4                19100       0\n",
       "...        ...     ...     ...\n",
       "71873      TOP    6051       0\n",
       "71874   JUNGLE    4086       0\n",
       "71875   MIDDLE    5064       0\n",
       "71876   BOTTOM    6534       0\n",
       "71877  UTILITY    4471       0\n",
       "\n",
       "[71878 rows x 3 columns]"
      ]
     },
     "execution_count": 85,
     "metadata": {},
     "output_type": "execute_result"
    }
   ],
   "source": [
    "lol"
   ]
  },
  {
   "cell_type": "code",
   "execution_count": 87,
   "id": "edc5b0ff",
   "metadata": {},
   "outputs": [],
   "source": [
    "my_lol = lol[lol.포지션 == 'JUNGLE']"
   ]
  },
  {
   "cell_type": "code",
   "execution_count": 88,
   "id": "b79a1449",
   "metadata": {},
   "outputs": [
    {
     "data": {
      "text/html": [
       "<div>\n",
       "<style scoped>\n",
       "    .dataframe tbody tr th:only-of-type {\n",
       "        vertical-align: middle;\n",
       "    }\n",
       "\n",
       "    .dataframe tbody tr th {\n",
       "        vertical-align: top;\n",
       "    }\n",
       "\n",
       "    .dataframe thead th {\n",
       "        text-align: right;\n",
       "    }\n",
       "</style>\n",
       "<table border=\"1\" class=\"dataframe\">\n",
       "  <thead>\n",
       "    <tr style=\"text-align: right;\">\n",
       "      <th></th>\n",
       "      <th>포지션</th>\n",
       "      <th>15분 골드</th>\n",
       "      <th>20분 골드</th>\n",
       "    </tr>\n",
       "  </thead>\n",
       "  <tbody>\n",
       "    <tr>\n",
       "      <th>9</th>\n",
       "      <td>JUNGLE</td>\n",
       "      <td>6506</td>\n",
       "      <td>9022</td>\n",
       "    </tr>\n",
       "    <tr>\n",
       "      <th>14</th>\n",
       "      <td>JUNGLE</td>\n",
       "      <td>6387</td>\n",
       "      <td>8977</td>\n",
       "    </tr>\n",
       "    <tr>\n",
       "      <th>19</th>\n",
       "      <td>JUNGLE</td>\n",
       "      <td>5798</td>\n",
       "      <td>0</td>\n",
       "    </tr>\n",
       "    <tr>\n",
       "      <th>24</th>\n",
       "      <td>JUNGLE</td>\n",
       "      <td>4317</td>\n",
       "      <td>0</td>\n",
       "    </tr>\n",
       "    <tr>\n",
       "      <th>39</th>\n",
       "      <td>JUNGLE</td>\n",
       "      <td>8695</td>\n",
       "      <td>0</td>\n",
       "    </tr>\n",
       "    <tr>\n",
       "      <th>...</th>\n",
       "      <td>...</td>\n",
       "      <td>...</td>\n",
       "      <td>...</td>\n",
       "    </tr>\n",
       "    <tr>\n",
       "      <th>71846</th>\n",
       "      <td>JUNGLE</td>\n",
       "      <td>5991</td>\n",
       "      <td>8523</td>\n",
       "    </tr>\n",
       "    <tr>\n",
       "      <th>71851</th>\n",
       "      <td>JUNGLE</td>\n",
       "      <td>5426</td>\n",
       "      <td>0</td>\n",
       "    </tr>\n",
       "    <tr>\n",
       "      <th>71856</th>\n",
       "      <td>JUNGLE</td>\n",
       "      <td>5155</td>\n",
       "      <td>0</td>\n",
       "    </tr>\n",
       "    <tr>\n",
       "      <th>71869</th>\n",
       "      <td>JUNGLE</td>\n",
       "      <td>4453</td>\n",
       "      <td>0</td>\n",
       "    </tr>\n",
       "    <tr>\n",
       "      <th>71874</th>\n",
       "      <td>JUNGLE</td>\n",
       "      <td>4086</td>\n",
       "      <td>0</td>\n",
       "    </tr>\n",
       "  </tbody>\n",
       "</table>\n",
       "<p>11302 rows × 3 columns</p>\n",
       "</div>"
      ],
      "text/plain": [
       "          포지션  15분 골드  20분 골드\n",
       "9      JUNGLE    6506    9022\n",
       "14     JUNGLE    6387    8977\n",
       "19     JUNGLE    5798       0\n",
       "24     JUNGLE    4317       0\n",
       "39     JUNGLE    8695       0\n",
       "...       ...     ...     ...\n",
       "71846  JUNGLE    5991    8523\n",
       "71851  JUNGLE    5426       0\n",
       "71856  JUNGLE    5155       0\n",
       "71869  JUNGLE    4453       0\n",
       "71874  JUNGLE    4086       0\n",
       "\n",
       "[11302 rows x 3 columns]"
      ]
     },
     "execution_count": 88,
     "metadata": {},
     "output_type": "execute_result"
    }
   ],
   "source": [
    "my_lol"
   ]
  },
  {
   "cell_type": "code",
   "execution_count": 89,
   "id": "46e1723b",
   "metadata": {},
   "outputs": [],
   "source": [
    "my_lol.set_index('포지션',inplace = True)"
   ]
  },
  {
   "cell_type": "code",
   "execution_count": 90,
   "id": "defe9b04",
   "metadata": {},
   "outputs": [
    {
     "data": {
      "text/html": [
       "<div>\n",
       "<style scoped>\n",
       "    .dataframe tbody tr th:only-of-type {\n",
       "        vertical-align: middle;\n",
       "    }\n",
       "\n",
       "    .dataframe tbody tr th {\n",
       "        vertical-align: top;\n",
       "    }\n",
       "\n",
       "    .dataframe thead th {\n",
       "        text-align: right;\n",
       "    }\n",
       "</style>\n",
       "<table border=\"1\" class=\"dataframe\">\n",
       "  <thead>\n",
       "    <tr style=\"text-align: right;\">\n",
       "      <th></th>\n",
       "      <th>15분 골드</th>\n",
       "      <th>20분 골드</th>\n",
       "    </tr>\n",
       "    <tr>\n",
       "      <th>포지션</th>\n",
       "      <th></th>\n",
       "      <th></th>\n",
       "    </tr>\n",
       "  </thead>\n",
       "  <tbody>\n",
       "    <tr>\n",
       "      <th>JUNGLE</th>\n",
       "      <td>6506</td>\n",
       "      <td>9022</td>\n",
       "    </tr>\n",
       "    <tr>\n",
       "      <th>JUNGLE</th>\n",
       "      <td>6387</td>\n",
       "      <td>8977</td>\n",
       "    </tr>\n",
       "    <tr>\n",
       "      <th>JUNGLE</th>\n",
       "      <td>5798</td>\n",
       "      <td>0</td>\n",
       "    </tr>\n",
       "    <tr>\n",
       "      <th>JUNGLE</th>\n",
       "      <td>4317</td>\n",
       "      <td>0</td>\n",
       "    </tr>\n",
       "    <tr>\n",
       "      <th>JUNGLE</th>\n",
       "      <td>8695</td>\n",
       "      <td>0</td>\n",
       "    </tr>\n",
       "    <tr>\n",
       "      <th>...</th>\n",
       "      <td>...</td>\n",
       "      <td>...</td>\n",
       "    </tr>\n",
       "    <tr>\n",
       "      <th>JUNGLE</th>\n",
       "      <td>5991</td>\n",
       "      <td>8523</td>\n",
       "    </tr>\n",
       "    <tr>\n",
       "      <th>JUNGLE</th>\n",
       "      <td>5426</td>\n",
       "      <td>0</td>\n",
       "    </tr>\n",
       "    <tr>\n",
       "      <th>JUNGLE</th>\n",
       "      <td>5155</td>\n",
       "      <td>0</td>\n",
       "    </tr>\n",
       "    <tr>\n",
       "      <th>JUNGLE</th>\n",
       "      <td>4453</td>\n",
       "      <td>0</td>\n",
       "    </tr>\n",
       "    <tr>\n",
       "      <th>JUNGLE</th>\n",
       "      <td>4086</td>\n",
       "      <td>0</td>\n",
       "    </tr>\n",
       "  </tbody>\n",
       "</table>\n",
       "<p>11302 rows × 2 columns</p>\n",
       "</div>"
      ],
      "text/plain": [
       "        15분 골드  20분 골드\n",
       "포지션                   \n",
       "JUNGLE    6506    9022\n",
       "JUNGLE    6387    8977\n",
       "JUNGLE    5798       0\n",
       "JUNGLE    4317       0\n",
       "JUNGLE    8695       0\n",
       "...        ...     ...\n",
       "JUNGLE    5991    8523\n",
       "JUNGLE    5426       0\n",
       "JUNGLE    5155       0\n",
       "JUNGLE    4453       0\n",
       "JUNGLE    4086       0\n",
       "\n",
       "[11302 rows x 2 columns]"
      ]
     },
     "execution_count": 90,
     "metadata": {},
     "output_type": "execute_result"
    }
   ],
   "source": [
    "my_lol"
   ]
  },
  {
   "cell_type": "code",
   "execution_count": 98,
   "id": "ed945abd",
   "metadata": {},
   "outputs": [
    {
     "data": {
      "image/png": "[encoded data removed]",
      "text/plain": [
       "<Figure size 640x480 with 1 Axes>"
      ]
     },
     "metadata": {},
     "output_type": "display_data"
    }
   ],
   "source": [
    "plt.figure()\n",
    "sns.kdeplot(lol['15분 골드'],color = 'r', label = '15분 골드')\n",
    "sns.kdeplot(lol['20분 골드'],color = 'b', label = '20분 골드')\n",
    "plt.xlabel('골드')\n",
    "plt.title('정글 분당 골드')\n",
    "plt.legend(loc=1)\n",
    "plt.grid()"
   ]
  },
  {
   "cell_type": "code",
   "execution_count": 99,
   "id": "993cd01b",
   "metadata": {},
   "outputs": [],
   "source": [
    "import seaborn as sns"
   ]
  },
  {
   "cell_type": "code",
   "execution_count": 100,
   "id": "9739baf1",
   "metadata": {},
   "outputs": [],
   "source": [
    "url = 'http://openapi.seoul.go.kr:8088/(인증키)/xml/GetParkInfo/1/5/'"
   ]
  },
  {
   "cell_type": "code",
   "execution_count": 101,
   "id": "685c0c92",
   "metadata": {},
   "outputs": [],
   "source": [
    "df = get_df(url) "
   ]
  },
  {
   "cell_type": "code",
   "execution_count": 102,
   "id": "a5922d59",
   "metadata": {},
   "outputs": [
    {
     "data": {
      "text/plain": [
       "Index(['PARKING_NAME', 'ADDR', 'PARKING_CODE', 'PARKING_TYPE',\n",
       "       'PARKING_TYPE_NM', 'OPERATION_RULE', 'OPERATION_RULE_NM', 'TEL',\n",
       "       'QUE_STATUS', 'QUE_STATUS_NM', 'CAPACITY', 'PAY_YN', 'PAY_NM',\n",
       "       'NIGHT_FREE_OPEN', 'NIGHT_FREE_OPEN_NM', 'WEEKDAY_BEGIN_TIME',\n",
       "       'WEEKDAY_END_TIME', 'WEEKEND_BEGIN_TIME', 'WEEKEND_END_TIME',\n",
       "       'HOLIDAY_BEGIN_TIME', 'HOLIDAY_END_TIME', 'SYNC_TIME',\n",
       "       'SATURDAY_PAY_YN', 'SATURDAY_PAY_NM', 'HOLIDAY_PAY_YN',\n",
       "       'HOLIDAY_PAY_NM', 'FULLTIME_MONTHLY', 'GRP_PARKNM', 'RATES',\n",
       "       'TIME_RATE', 'ADD_RATES', 'ADD_TIME_RATE', 'BUS_RATES', 'BUS_TIME_RATE',\n",
       "       'BUS_ADD_TIME_RATE', 'BUS_ADD_RATES', 'DAY_MAXIMUM', 'LAT', 'LNG'],\n",
       "      dtype='object')"
      ]
     },
     "execution_count": 102,
     "metadata": {},
     "output_type": "execute_result"
    }
   ],
   "source": [
    "df.columns"
   ]
  },
  {
   "cell_type": "code",
   "execution_count": 103,
   "id": "e84ba86b",
   "metadata": {},
   "outputs": [],
   "source": [
    "tmp = df[['PARKING_NAME','CAPACITY','PAY_NM','SATURDAY_PAY_NM',\n",
    "          'HOLIDAY_PAY_NM','FULLTIME_MONTHLY','RATES','ADD_RATES']]"
   ]
  },
  {
   "cell_type": "code",
   "execution_count": 104,
   "id": "dea2fba4",
   "metadata": {},
   "outputs": [],
   "source": [
    "tmp.columns = ['주차장명','주차수','유무료','주말유무료','공휴일유무료',\n",
    "                 '월정기권금액','기본요금','추가요금']"
   ]
  },
  {
   "cell_type": "code",
   "execution_count": 108,
   "id": "d0c32fbc",
   "metadata": {},
   "outputs": [
    {
     "name": "stderr",
     "output_type": "stream",
     "text": [
      "C:\\Users\\user\\anaconda3\\Lib\\site-packages\\seaborn\\axisgrid.py:118: UserWarning: The figure layout has changed to tight\n",
      "  self._figure.tight_layout(*args, **kwargs)\n"
     ]
    },
    {
     "data": {
      "text/plain": [
       "<seaborn.axisgrid.FacetGrid at 0x1ec0d687c50>"
      ]
     },
     "execution_count": 108,
     "metadata": {},
     "output_type": "execute_result"
    },
    {
     "data": {
      "image/png": "[encoded data removed]",
      "text/plain": [
       "<Figure size 500x500 with 1 Axes>"
      ]
     },
     "metadata": {},
     "output_type": "display_data"
    }
   ],
   "source": [
    "sns.displot(x = tmp['추가요금'],kind = 'ecdf') # ecdf = 비율"
   ]
  },
  {
   "cell_type": "code",
   "execution_count": 111,
   "id": "06d6b413",
   "metadata": {},
   "outputs": [
    {
     "data": {
      "text/plain": [
       "<Axes: xlabel='기본요금', ylabel='Density'>"
      ]
     },
     "execution_count": 111,
     "metadata": {},
     "output_type": "execute_result"
    },
    {
     "data": {
      "image/png": "[encoded data removed]",
      "text/plain": [
       "<Figure size 640x480 with 1 Axes>"
      ]
     },
     "metadata": {},
     "output_type": "display_data"
    }
   ],
   "source": [
    "sns.kdeplot(x=tmp['기본요금'])\n",
    "sns.rugplot(x=tmp['기본요금']) # 분포 모아준 느낌"
   ]
  },
  {
   "cell_type": "code",
   "execution_count": 113,
   "id": "dcc53716",
   "metadata": {},
   "outputs": [
    {
     "data": {
      "text/plain": [
       "<Axes: xlabel='주말유무료', ylabel='기본요금'>"
      ]
     },
     "execution_count": 113,
     "metadata": {},
     "output_type": "execute_result"
    },
    {
     "data": {
      "image/png": "[encoded data removed]",
      "text/plain": [
       "<Figure size 640x480 with 1 Axes>"
      ]
     },
     "metadata": {},
     "output_type": "display_data"
    }
   ],
   "source": [
    "sns.barplot(x=tmp['주말유무료'],y=tmp['기본요금'])"
   ]
  },
  {
   "cell_type": "code",
   "execution_count": 114,
   "id": "36e9482a",
   "metadata": {},
   "outputs": [
    {
     "data": {
      "text/plain": [
       "<Axes: xlabel='주말유무료', ylabel='count'>"
      ]
     },
     "execution_count": 114,
     "metadata": {},
     "output_type": "execute_result"
    },
    {
     "data": {
      "image/png": "[encoded data removed]",
      "text/plain": [
       "<Figure size 640x480 with 1 Axes>"
      ]
     },
     "metadata": {},
     "output_type": "display_data"
    }
   ],
   "source": [
    "sns.countplot(x=tmp['주말유무료'])"
   ]
  },
  {
   "cell_type": "code",
   "execution_count": 115,
   "id": "fe3e24d0",
   "metadata": {},
   "outputs": [
    {
     "data": {
      "text/plain": [
       "<Axes: xlabel='주말유무료', ylabel='기본요금'>"
      ]
     },
     "execution_count": 115,
     "metadata": {},
     "output_type": "execute_result"
    },
    {
     "data": {
      "image/png": "[encoded data removed]",
      "text/plain": [
       "<Figure size 640x480 with 1 Axes>"
      ]
     },
     "metadata": {},
     "output_type": "display_data"
    }
   ],
   "source": [
    "sns.violinplot(x=tmp['주말유무료'],y=tmp['기본요금'])"
   ]
  },
  {
   "cell_type": "code",
   "execution_count": 116,
   "id": "b1dc66f3",
   "metadata": {},
   "outputs": [
    {
     "data": {
      "text/plain": [
       "<Axes: xlabel='주말유무료', ylabel='기본요금'>"
      ]
     },
     "execution_count": 116,
     "metadata": {},
     "output_type": "execute_result"
    },
    {
     "data": {
      "image/png": "[encoded data removed]",
      "text/plain": [
       "<Figure size 640x480 with 1 Axes>"
      ]
     },
     "metadata": {},
     "output_type": "display_data"
    }
   ],
   "source": [
    "sns.stripplot(x=tmp['주말유무료'],y=tmp['기본요금'])"
   ]
  },
  {
   "cell_type": "code",
   "execution_count": 119,
   "id": "28c20e17",
   "metadata": {},
   "outputs": [
    {
     "data": {
      "text/plain": [
       "Index(['주차장명', '주차수', '유무료', '주말유무료', '공휴일유무료', '월정기권금액', '기본요금', '추가요금'], dtype='object')"
      ]
     },
     "execution_count": 119,
     "metadata": {},
     "output_type": "execute_result"
    }
   ],
   "source": [
    "tmp.columns"
   ]
  },
  {
   "cell_type": "code",
   "execution_count": 120,
   "id": "d6876ed2",
   "metadata": {},
   "outputs": [],
   "source": [
    "tmp.set_index('주차장명',inplace=True)"
   ]
  },
  {
   "cell_type": "code",
   "execution_count": 125,
   "id": "abc588f6",
   "metadata": {},
   "outputs": [],
   "source": [
    "test = tmp[['주차수','기본요금','추가요금']]"
   ]
  },
  {
   "cell_type": "code",
   "execution_count": 126,
   "id": "a488311e",
   "metadata": {},
   "outputs": [
    {
     "data": {
      "text/html": [
       "<div>\n",
       "<style scoped>\n",
       "    .dataframe tbody tr th:only-of-type {\n",
       "        vertical-align: middle;\n",
       "    }\n",
       "\n",
       "    .dataframe tbody tr th {\n",
       "        vertical-align: top;\n",
       "    }\n",
       "\n",
       "    .dataframe thead th {\n",
       "        text-align: right;\n",
       "    }\n",
       "</style>\n",
       "<table border=\"1\" class=\"dataframe\">\n",
       "  <thead>\n",
       "    <tr style=\"text-align: right;\">\n",
       "      <th></th>\n",
       "      <th>주차수</th>\n",
       "      <th>기본요금</th>\n",
       "      <th>추가요금</th>\n",
       "    </tr>\n",
       "  </thead>\n",
       "  <tbody>\n",
       "    <tr>\n",
       "      <th>주차수</th>\n",
       "      <td>1.000000</td>\n",
       "      <td>0.002591</td>\n",
       "      <td>-0.167698</td>\n",
       "    </tr>\n",
       "    <tr>\n",
       "      <th>기본요금</th>\n",
       "      <td>0.002591</td>\n",
       "      <td>1.000000</td>\n",
       "      <td>0.607381</td>\n",
       "    </tr>\n",
       "    <tr>\n",
       "      <th>추가요금</th>\n",
       "      <td>-0.167698</td>\n",
       "      <td>0.607381</td>\n",
       "      <td>1.000000</td>\n",
       "    </tr>\n",
       "  </tbody>\n",
       "</table>\n",
       "</div>"
      ],
      "text/plain": [
       "           주차수      기본요금      추가요금\n",
       "주차수   1.000000  0.002591 -0.167698\n",
       "기본요금  0.002591  1.000000  0.607381\n",
       "추가요금 -0.167698  0.607381  1.000000"
      ]
     },
     "execution_count": 126,
     "metadata": {},
     "output_type": "execute_result"
    }
   ],
   "source": [
    "test.corr()"
   ]
  },
  {
   "cell_type": "code",
   "execution_count": 129,
   "id": "069dea50",
   "metadata": {},
   "outputs": [
    {
     "data": {
      "text/plain": [
       "<Axes: >"
      ]
     },
     "execution_count": 129,
     "metadata": {},
     "output_type": "execute_result"
    },
    {
     "data": {
      "image/png": "[encoded data removed]",
      "text/plain": [
       "<Figure size 640x480 with 2 Axes>"
      ]
     },
     "metadata": {},
     "output_type": "display_data"
    }
   ],
   "source": [
    "sns.heatmap(test.corr(),annot=True,cmap = 'viridis')"
   ]
  },
  {
   "cell_type": "code",
   "execution_count": 130,
   "id": "31e380e2",
   "metadata": {},
   "outputs": [
    {
     "data": {
      "text/plain": [
       "<seaborn.matrix.ClusterGrid at 0x1ec1b073710>"
      ]
     },
     "execution_count": 130,
     "metadata": {},
     "output_type": "execute_result"
    },
    {
     "data": {
      "image/png": "[encoded data removed]",
      "text/plain": [
       "<Figure size 1000x1000 with 4 Axes>"
      ]
     },
     "metadata": {},
     "output_type": "display_data"
    }
   ],
   "source": [
    "sns.clustermap(test.corr(),annot = True)"
   ]
  },
  {
   "cell_type": "code",
   "execution_count": 146,
   "id": "661922b6",
   "metadata": {},
   "outputs": [
    {
     "name": "stderr",
     "output_type": "stream",
     "text": [
      "C:\\Users\\user\\anaconda3\\Lib\\site-packages\\seaborn\\axisgrid.py:118: UserWarning: The figure layout has changed to tight\n",
      "  self._figure.tight_layout(*args, **kwargs)\n"
     ]
    },
    {
     "data": {
      "text/plain": [
       "<seaborn.axisgrid.FacetGrid at 0x1ec1fc3f490>"
      ]
     },
     "execution_count": 146,
     "metadata": {},
     "output_type": "execute_result"
    },
    {
     "data": {
      "image/png": "[encoded data removed]",
      "text/plain": [
       "<Figure size 600x600 with 4 Axes>"
      ]
     },
     "metadata": {},
     "output_type": "display_data"
    }
   ],
   "source": [
    "sns.FacetGrid(tmp,row = '공휴일유무료',col = '주말유무료').map(plt.hist,'기본요금') # ☆☆☆"
   ]
  },
  {
   "cell_type": "code",
   "execution_count": 140,
   "id": "8eb29148",
   "metadata": {},
   "outputs": [
    {
     "data": {
      "text/plain": [
       "<seaborn.axisgrid.JointGrid at 0x1ec1d619a10>"
      ]
     },
     "execution_count": 140,
     "metadata": {},
     "output_type": "execute_result"
    },
    {
     "data": {
      "image/png": "[encoded data removed]",
      "text/plain": [
       "<Figure size 600x600 with 3 Axes>"
      ]
     },
     "metadata": {},
     "output_type": "display_data"
    }
   ],
   "source": [
    "sns.jointplot(x=tmp['기본요금'],y=tmp['추가요금'],kind = 'hex')"
   ]
  },
  {
   "cell_type": "code",
   "execution_count": 142,
   "id": "2b17a36f",
   "metadata": {},
   "outputs": [
    {
     "data": {
      "text/plain": [
       "<Axes: xlabel='기본요금', ylabel='추가요금'>"
      ]
     },
     "execution_count": 142,
     "metadata": {},
     "output_type": "execute_result"
    },
    {
     "data": {
      "image/png": "[encoded data removed]",
      "text/plain": [
       "<Figure size 640x480 with 1 Axes>"
      ]
     },
     "metadata": {},
     "output_type": "display_data"
    }
   ],
   "source": [
    "sns.regplot(x='기본요금',y='추가요금',data=tmp)"
   ]
  },
  {
   "cell_type": "code",
   "execution_count": 144,
   "id": "2b6f3ad6",
   "metadata": {},
   "outputs": [
    {
     "name": "stderr",
     "output_type": "stream",
     "text": [
      "C:\\Users\\user\\anaconda3\\Lib\\site-packages\\seaborn\\axisgrid.py:118: UserWarning: The figure layout has changed to tight\n",
      "  self._figure.tight_layout(*args, **kwargs)\n"
     ]
    },
    {
     "data": {
      "text/plain": [
       "<seaborn.axisgrid.FacetGrid at 0x1ec1f6b06d0>"
      ]
     },
     "execution_count": 144,
     "metadata": {},
     "output_type": "execute_result"
    },
    {
     "data": {
      "image/png": "[encoded data removed]",
      "text/plain": [
       "<Figure size 580.486x500 with 1 Axes>"
      ]
     },
     "metadata": {},
     "output_type": "display_data"
    }
   ],
   "source": [
    "sns.lmplot(x='기본요금',y='추가요금',data = tmp,hue = '주말유무료') # hue = 구분점"
   ]
  },
  {
   "cell_type": "code",
   "execution_count": 145,
   "id": "52405515",
   "metadata": {},
   "outputs": [
    {
     "name": "stderr",
     "output_type": "stream",
     "text": [
      "C:\\Users\\user\\anaconda3\\Lib\\site-packages\\seaborn\\axisgrid.py:118: UserWarning: The figure layout has changed to tight\n",
      "  self._figure.tight_layout(*args, **kwargs)\n"
     ]
    },
    {
     "data": {
      "text/plain": [
       "<seaborn.axisgrid.FacetGrid at 0x1ec1f9c6810>"
      ]
     },
     "execution_count": 145,
     "metadata": {},
     "output_type": "execute_result"
    },
    {
     "data": {
      "image/png": "[encoded data removed]",
      "text/plain": [
       "<Figure size 1082x1000 with 4 Axes>"
      ]
     },
     "metadata": {},
     "output_type": "display_data"
    }
   ],
   "source": [
    "sns.relplot(x='주차수',y='추가요금',hue='기본요금',row='주말유무료',col='공휴일유무료',data=tmp)"
   ]
  },
  {
   "cell_type": "code",
   "execution_count": 147,
   "id": "b21cb552",
   "metadata": {},
   "outputs": [
    {
     "data": {
      "text/html": [
       "        <script type=\"text/javascript\">\n",
       "        window.PlotlyConfig = {MathJaxConfig: 'local'};\n",
       "        if (window.MathJax && window.MathJax.Hub && window.MathJax.Hub.Config) {window.MathJax.Hub.Config({SVG: {font: \"STIX-Web\"}});}\n",
       "        if (typeof require !== 'undefined') {\n",
       "        require.undef(\"plotly\");\n",
       "        requirejs.config({\n",
       "            paths: {\n",
       "                'plotly': ['https://cdn.plot.ly/plotly-2.12.1.min']\n",
       "            }\n",
       "        });\n",
       "        require(['plotly'], function(Plotly) {\n",
       "            window._Plotly = Plotly;\n",
       "        });\n",
       "        }\n",
       "        </script>\n",
       "        "
      ]
     },
     "metadata": {},
     "output_type": "display_data"
    }
   ],
   "source": [
    "import plotly\n",
    "import plotly.graph_objs as go\n",
    "plotly.offline.init_notebook_mode(connected=True)"
   ]
  },
  {
   "cell_type": "code",
   "execution_count": 148,
   "id": "84bd04f5",
   "metadata": {},
   "outputs": [],
   "source": [
    "url = \"https://api.upbit.com/v1/candles/days\"\n",
    "coin_lst = ['KRW-BTC','KRW-ETH','KRW-XRP']\n",
    "headers = {\"Accept\": \"application/json\"}\n",
    "df = pd.DataFrame()\n",
    "for c in coin_lst:\n",
    "    querystring = {\"market\":c, \"count\":\"200\"}\n",
    "    response = requests.request(\"GET\", url, headers=headers, params=querystring)\n",
    "    df = pd.concat([df,pd.DataFrame(response.json())])"
   ]
  },
  {
   "cell_type": "code",
   "execution_count": 149,
   "id": "8cc36ab9",
   "metadata": {},
   "outputs": [
    {
     "data": {
      "text/html": [
       "<div>\n",
       "<style scoped>\n",
       "    .dataframe tbody tr th:only-of-type {\n",
       "        vertical-align: middle;\n",
       "    }\n",
       "\n",
       "    .dataframe tbody tr th {\n",
       "        vertical-align: top;\n",
       "    }\n",
       "\n",
       "    .dataframe thead th {\n",
       "        text-align: right;\n",
       "    }\n",
       "</style>\n",
       "<table border=\"1\" class=\"dataframe\">\n",
       "  <thead>\n",
       "    <tr style=\"text-align: right;\">\n",
       "      <th></th>\n",
       "      <th>market</th>\n",
       "      <th>candle_date_time_utc</th>\n",
       "      <th>candle_date_time_kst</th>\n",
       "      <th>opening_price</th>\n",
       "      <th>high_price</th>\n",
       "      <th>low_price</th>\n",
       "      <th>trade_price</th>\n",
       "      <th>timestamp</th>\n",
       "      <th>candle_acc_trade_price</th>\n",
       "      <th>candle_acc_trade_volume</th>\n",
       "      <th>prev_closing_price</th>\n",
       "      <th>change_price</th>\n",
       "      <th>change_rate</th>\n",
       "    </tr>\n",
       "  </thead>\n",
       "  <tbody>\n",
       "    <tr>\n",
       "      <th>0</th>\n",
       "      <td>KRW-BTC</td>\n",
       "      <td>2023-12-28T00:00:00</td>\n",
       "      <td>2023-12-28T09:00:00</td>\n",
       "      <td>57920000.0</td>\n",
       "      <td>58468000.0</td>\n",
       "      <td>57474000.0</td>\n",
       "      <td>57741000.0</td>\n",
       "      <td>1703736640926</td>\n",
       "      <td>5.494775e+10</td>\n",
       "      <td>9.495920e+02</td>\n",
       "      <td>57920000.0</td>\n",
       "      <td>-179000.0</td>\n",
       "      <td>-0.003090</td>\n",
       "    </tr>\n",
       "    <tr>\n",
       "      <th>1</th>\n",
       "      <td>KRW-BTC</td>\n",
       "      <td>2023-12-27T00:00:00</td>\n",
       "      <td>2023-12-27T09:00:00</td>\n",
       "      <td>57032000.0</td>\n",
       "      <td>58212000.0</td>\n",
       "      <td>56349000.0</td>\n",
       "      <td>57920000.0</td>\n",
       "      <td>1703721598803</td>\n",
       "      <td>2.270096e+11</td>\n",
       "      <td>3.965843e+03</td>\n",
       "      <td>57032000.0</td>\n",
       "      <td>888000.0</td>\n",
       "      <td>0.015570</td>\n",
       "    </tr>\n",
       "    <tr>\n",
       "      <th>2</th>\n",
       "      <td>KRW-BTC</td>\n",
       "      <td>2023-12-26T00:00:00</td>\n",
       "      <td>2023-12-26T09:00:00</td>\n",
       "      <td>58042000.0</td>\n",
       "      <td>58140000.0</td>\n",
       "      <td>56349000.0</td>\n",
       "      <td>57032000.0</td>\n",
       "      <td>1703635199803</td>\n",
       "      <td>2.708228e+11</td>\n",
       "      <td>4.735230e+03</td>\n",
       "      <td>58042000.0</td>\n",
       "      <td>-1010000.0</td>\n",
       "      <td>-0.017401</td>\n",
       "    </tr>\n",
       "    <tr>\n",
       "      <th>3</th>\n",
       "      <td>KRW-BTC</td>\n",
       "      <td>2023-12-25T00:00:00</td>\n",
       "      <td>2023-12-25T09:00:00</td>\n",
       "      <td>58002000.0</td>\n",
       "      <td>58659000.0</td>\n",
       "      <td>57464000.0</td>\n",
       "      <td>58042000.0</td>\n",
       "      <td>1703548799890</td>\n",
       "      <td>2.721330e+11</td>\n",
       "      <td>4.687209e+03</td>\n",
       "      <td>58002000.0</td>\n",
       "      <td>40000.0</td>\n",
       "      <td>0.000690</td>\n",
       "    </tr>\n",
       "    <tr>\n",
       "      <th>4</th>\n",
       "      <td>KRW-BTC</td>\n",
       "      <td>2023-12-24T00:00:00</td>\n",
       "      <td>2023-12-24T09:00:00</td>\n",
       "      <td>59249000.0</td>\n",
       "      <td>59600000.0</td>\n",
       "      <td>58000000.0</td>\n",
       "      <td>58002000.0</td>\n",
       "      <td>1703462399990</td>\n",
       "      <td>2.200170e+11</td>\n",
       "      <td>3.729334e+03</td>\n",
       "      <td>59250000.0</td>\n",
       "      <td>-1248000.0</td>\n",
       "      <td>-0.021063</td>\n",
       "    </tr>\n",
       "    <tr>\n",
       "      <th>...</th>\n",
       "      <td>...</td>\n",
       "      <td>...</td>\n",
       "      <td>...</td>\n",
       "      <td>...</td>\n",
       "      <td>...</td>\n",
       "      <td>...</td>\n",
       "      <td>...</td>\n",
       "      <td>...</td>\n",
       "      <td>...</td>\n",
       "      <td>...</td>\n",
       "      <td>...</td>\n",
       "      <td>...</td>\n",
       "      <td>...</td>\n",
       "    </tr>\n",
       "    <tr>\n",
       "      <th>195</th>\n",
       "      <td>KRW-XRP</td>\n",
       "      <td>2023-06-16T00:00:00</td>\n",
       "      <td>2023-06-16T09:00:00</td>\n",
       "      <td>627.0</td>\n",
       "      <td>630.0</td>\n",
       "      <td>602.0</td>\n",
       "      <td>624.0</td>\n",
       "      <td>1686959997094</td>\n",
       "      <td>1.610391e+11</td>\n",
       "      <td>2.616515e+08</td>\n",
       "      <td>627.0</td>\n",
       "      <td>-3.0</td>\n",
       "      <td>-0.004785</td>\n",
       "    </tr>\n",
       "    <tr>\n",
       "      <th>196</th>\n",
       "      <td>KRW-XRP</td>\n",
       "      <td>2023-06-15T00:00:00</td>\n",
       "      <td>2023-06-15T09:00:00</td>\n",
       "      <td>630.0</td>\n",
       "      <td>638.0</td>\n",
       "      <td>612.0</td>\n",
       "      <td>627.0</td>\n",
       "      <td>1686873599460</td>\n",
       "      <td>1.663204e+11</td>\n",
       "      <td>2.660830e+08</td>\n",
       "      <td>631.0</td>\n",
       "      <td>-4.0</td>\n",
       "      <td>-0.006339</td>\n",
       "    </tr>\n",
       "    <tr>\n",
       "      <th>197</th>\n",
       "      <td>KRW-XRP</td>\n",
       "      <td>2023-06-14T00:00:00</td>\n",
       "      <td>2023-06-14T09:00:00</td>\n",
       "      <td>678.0</td>\n",
       "      <td>681.0</td>\n",
       "      <td>609.0</td>\n",
       "      <td>631.0</td>\n",
       "      <td>1686787200001</td>\n",
       "      <td>2.592919e+11</td>\n",
       "      <td>3.998507e+08</td>\n",
       "      <td>679.0</td>\n",
       "      <td>-48.0</td>\n",
       "      <td>-0.070692</td>\n",
       "    </tr>\n",
       "    <tr>\n",
       "      <th>198</th>\n",
       "      <td>KRW-XRP</td>\n",
       "      <td>2023-06-13T00:00:00</td>\n",
       "      <td>2023-06-13T09:00:00</td>\n",
       "      <td>689.0</td>\n",
       "      <td>735.0</td>\n",
       "      <td>664.0</td>\n",
       "      <td>679.0</td>\n",
       "      <td>1686700799794</td>\n",
       "      <td>4.851964e+11</td>\n",
       "      <td>6.910409e+08</td>\n",
       "      <td>689.0</td>\n",
       "      <td>-10.0</td>\n",
       "      <td>-0.014514</td>\n",
       "    </tr>\n",
       "    <tr>\n",
       "      <th>199</th>\n",
       "      <td>KRW-XRP</td>\n",
       "      <td>2023-06-12T00:00:00</td>\n",
       "      <td>2023-06-12T09:00:00</td>\n",
       "      <td>690.0</td>\n",
       "      <td>694.0</td>\n",
       "      <td>675.0</td>\n",
       "      <td>689.0</td>\n",
       "      <td>1686614396669</td>\n",
       "      <td>1.224128e+11</td>\n",
       "      <td>1.790804e+08</td>\n",
       "      <td>690.0</td>\n",
       "      <td>-1.0</td>\n",
       "      <td>-0.001449</td>\n",
       "    </tr>\n",
       "  </tbody>\n",
       "</table>\n",
       "<p>600 rows × 13 columns</p>\n",
       "</div>"
      ],
      "text/plain": [
       "      market candle_date_time_utc candle_date_time_kst  opening_price  \\\n",
       "0    KRW-BTC  2023-12-28T00:00:00  2023-12-28T09:00:00     57920000.0   \n",
       "1    KRW-BTC  2023-12-27T00:00:00  2023-12-27T09:00:00     57032000.0   \n",
       "2    KRW-BTC  2023-12-26T00:00:00  2023-12-26T09:00:00     58042000.0   \n",
       "3    KRW-BTC  2023-12-25T00:00:00  2023-12-25T09:00:00     58002000.0   \n",
       "4    KRW-BTC  2023-12-24T00:00:00  2023-12-24T09:00:00     59249000.0   \n",
       "..       ...                  ...                  ...            ...   \n",
       "195  KRW-XRP  2023-06-16T00:00:00  2023-06-16T09:00:00          627.0   \n",
       "196  KRW-XRP  2023-06-15T00:00:00  2023-06-15T09:00:00          630.0   \n",
       "197  KRW-XRP  2023-06-14T00:00:00  2023-06-14T09:00:00          678.0   \n",
       "198  KRW-XRP  2023-06-13T00:00:00  2023-06-13T09:00:00          689.0   \n",
       "199  KRW-XRP  2023-06-12T00:00:00  2023-06-12T09:00:00          690.0   \n",
       "\n",
       "     high_price   low_price  trade_price      timestamp  \\\n",
       "0    58468000.0  57474000.0   57741000.0  1703736640926   \n",
       "1    58212000.0  56349000.0   57920000.0  1703721598803   \n",
       "2    58140000.0  56349000.0   57032000.0  1703635199803   \n",
       "3    58659000.0  57464000.0   58042000.0  1703548799890   \n",
       "4    59600000.0  58000000.0   58002000.0  1703462399990   \n",
       "..          ...         ...          ...            ...   \n",
       "195       630.0       602.0        624.0  1686959997094   \n",
       "196       638.0       612.0        627.0  1686873599460   \n",
       "197       681.0       609.0        631.0  1686787200001   \n",
       "198       735.0       664.0        679.0  1686700799794   \n",
       "199       694.0       675.0        689.0  1686614396669   \n",
       "\n",
       "     candle_acc_trade_price  candle_acc_trade_volume  prev_closing_price  \\\n",
       "0              5.494775e+10             9.495920e+02          57920000.0   \n",
       "1              2.270096e+11             3.965843e+03          57032000.0   \n",
       "2              2.708228e+11             4.735230e+03          58042000.0   \n",
       "3              2.721330e+11             4.687209e+03          58002000.0   \n",
       "4              2.200170e+11             3.729334e+03          59250000.0   \n",
       "..                      ...                      ...                 ...   \n",
       "195            1.610391e+11             2.616515e+08               627.0   \n",
       "196            1.663204e+11             2.660830e+08               631.0   \n",
       "197            2.592919e+11             3.998507e+08               679.0   \n",
       "198            4.851964e+11             6.910409e+08               689.0   \n",
       "199            1.224128e+11             1.790804e+08               690.0   \n",
       "\n",
       "     change_price  change_rate  \n",
       "0       -179000.0    -0.003090  \n",
       "1        888000.0     0.015570  \n",
       "2      -1010000.0    -0.017401  \n",
       "3         40000.0     0.000690  \n",
       "4      -1248000.0    -0.021063  \n",
       "..            ...          ...  \n",
       "195          -3.0    -0.004785  \n",
       "196          -4.0    -0.006339  \n",
       "197         -48.0    -0.070692  \n",
       "198         -10.0    -0.014514  \n",
       "199          -1.0    -0.001449  \n",
       "\n",
       "[600 rows x 13 columns]"
      ]
     },
     "execution_count": 149,
     "metadata": {},
     "output_type": "execute_result"
    }
   ],
   "source": [
    "df"
   ]
  },
  {
   "cell_type": "code",
   "execution_count": 150,
   "id": "16021c5c",
   "metadata": {},
   "outputs": [
    {
     "data": {
      "text/html": [
       "<div>\n",
       "<style scoped>\n",
       "    .dataframe tbody tr th:only-of-type {\n",
       "        vertical-align: middle;\n",
       "    }\n",
       "\n",
       "    .dataframe tbody tr th {\n",
       "        vertical-align: top;\n",
       "    }\n",
       "\n",
       "    .dataframe thead th {\n",
       "        text-align: right;\n",
       "    }\n",
       "</style>\n",
       "<table border=\"1\" class=\"dataframe\">\n",
       "  <thead>\n",
       "    <tr style=\"text-align: right;\">\n",
       "      <th></th>\n",
       "      <th>market</th>\n",
       "      <th>candle_date_time_kst</th>\n",
       "      <th>opening_price</th>\n",
       "      <th>high_price</th>\n",
       "      <th>low_price</th>\n",
       "      <th>trade_price</th>\n",
       "      <th>candle_acc_trade_price</th>\n",
       "      <th>candle_acc_trade_volume</th>\n",
       "    </tr>\n",
       "  </thead>\n",
       "  <tbody>\n",
       "    <tr>\n",
       "      <th>0</th>\n",
       "      <td>KRW-BTC</td>\n",
       "      <td>2023-12-28T09:00:00</td>\n",
       "      <td>57920000.0</td>\n",
       "      <td>58468000.0</td>\n",
       "      <td>57474000.0</td>\n",
       "      <td>57741000.0</td>\n",
       "      <td>5.494775e+10</td>\n",
       "      <td>9.495920e+02</td>\n",
       "    </tr>\n",
       "    <tr>\n",
       "      <th>1</th>\n",
       "      <td>KRW-BTC</td>\n",
       "      <td>2023-12-27T09:00:00</td>\n",
       "      <td>57032000.0</td>\n",
       "      <td>58212000.0</td>\n",
       "      <td>56349000.0</td>\n",
       "      <td>57920000.0</td>\n",
       "      <td>2.270096e+11</td>\n",
       "      <td>3.965843e+03</td>\n",
       "    </tr>\n",
       "    <tr>\n",
       "      <th>2</th>\n",
       "      <td>KRW-BTC</td>\n",
       "      <td>2023-12-26T09:00:00</td>\n",
       "      <td>58042000.0</td>\n",
       "      <td>58140000.0</td>\n",
       "      <td>56349000.0</td>\n",
       "      <td>57032000.0</td>\n",
       "      <td>2.708228e+11</td>\n",
       "      <td>4.735230e+03</td>\n",
       "    </tr>\n",
       "    <tr>\n",
       "      <th>3</th>\n",
       "      <td>KRW-BTC</td>\n",
       "      <td>2023-12-25T09:00:00</td>\n",
       "      <td>58002000.0</td>\n",
       "      <td>58659000.0</td>\n",
       "      <td>57464000.0</td>\n",
       "      <td>58042000.0</td>\n",
       "      <td>2.721330e+11</td>\n",
       "      <td>4.687209e+03</td>\n",
       "    </tr>\n",
       "    <tr>\n",
       "      <th>4</th>\n",
       "      <td>KRW-BTC</td>\n",
       "      <td>2023-12-24T09:00:00</td>\n",
       "      <td>59249000.0</td>\n",
       "      <td>59600000.0</td>\n",
       "      <td>58000000.0</td>\n",
       "      <td>58002000.0</td>\n",
       "      <td>2.200170e+11</td>\n",
       "      <td>3.729334e+03</td>\n",
       "    </tr>\n",
       "    <tr>\n",
       "      <th>...</th>\n",
       "      <td>...</td>\n",
       "      <td>...</td>\n",
       "      <td>...</td>\n",
       "      <td>...</td>\n",
       "      <td>...</td>\n",
       "      <td>...</td>\n",
       "      <td>...</td>\n",
       "      <td>...</td>\n",
       "    </tr>\n",
       "    <tr>\n",
       "      <th>195</th>\n",
       "      <td>KRW-XRP</td>\n",
       "      <td>2023-06-16T09:00:00</td>\n",
       "      <td>627.0</td>\n",
       "      <td>630.0</td>\n",
       "      <td>602.0</td>\n",
       "      <td>624.0</td>\n",
       "      <td>1.610391e+11</td>\n",
       "      <td>2.616515e+08</td>\n",
       "    </tr>\n",
       "    <tr>\n",
       "      <th>196</th>\n",
       "      <td>KRW-XRP</td>\n",
       "      <td>2023-06-15T09:00:00</td>\n",
       "      <td>630.0</td>\n",
       "      <td>638.0</td>\n",
       "      <td>612.0</td>\n",
       "      <td>627.0</td>\n",
       "      <td>1.663204e+11</td>\n",
       "      <td>2.660830e+08</td>\n",
       "    </tr>\n",
       "    <tr>\n",
       "      <th>197</th>\n",
       "      <td>KRW-XRP</td>\n",
       "      <td>2023-06-14T09:00:00</td>\n",
       "      <td>678.0</td>\n",
       "      <td>681.0</td>\n",
       "      <td>609.0</td>\n",
       "      <td>631.0</td>\n",
       "      <td>2.592919e+11</td>\n",
       "      <td>3.998507e+08</td>\n",
       "    </tr>\n",
       "    <tr>\n",
       "      <th>198</th>\n",
       "      <td>KRW-XRP</td>\n",
       "      <td>2023-06-13T09:00:00</td>\n",
       "      <td>689.0</td>\n",
       "      <td>735.0</td>\n",
       "      <td>664.0</td>\n",
       "      <td>679.0</td>\n",
       "      <td>4.851964e+11</td>\n",
       "      <td>6.910409e+08</td>\n",
       "    </tr>\n",
       "    <tr>\n",
       "      <th>199</th>\n",
       "      <td>KRW-XRP</td>\n",
       "      <td>2023-06-12T09:00:00</td>\n",
       "      <td>690.0</td>\n",
       "      <td>694.0</td>\n",
       "      <td>675.0</td>\n",
       "      <td>689.0</td>\n",
       "      <td>1.224128e+11</td>\n",
       "      <td>1.790804e+08</td>\n",
       "    </tr>\n",
       "  </tbody>\n",
       "</table>\n",
       "<p>600 rows × 8 columns</p>\n",
       "</div>"
      ],
      "text/plain": [
       "      market candle_date_time_kst  opening_price  high_price   low_price  \\\n",
       "0    KRW-BTC  2023-12-28T09:00:00     57920000.0  58468000.0  57474000.0   \n",
       "1    KRW-BTC  2023-12-27T09:00:00     57032000.0  58212000.0  56349000.0   \n",
       "2    KRW-BTC  2023-12-26T09:00:00     58042000.0  58140000.0  56349000.0   \n",
       "3    KRW-BTC  2023-12-25T09:00:00     58002000.0  58659000.0  57464000.0   \n",
       "4    KRW-BTC  2023-12-24T09:00:00     59249000.0  59600000.0  58000000.0   \n",
       "..       ...                  ...            ...         ...         ...   \n",
       "195  KRW-XRP  2023-06-16T09:00:00          627.0       630.0       602.0   \n",
       "196  KRW-XRP  2023-06-15T09:00:00          630.0       638.0       612.0   \n",
       "197  KRW-XRP  2023-06-14T09:00:00          678.0       681.0       609.0   \n",
       "198  KRW-XRP  2023-06-13T09:00:00          689.0       735.0       664.0   \n",
       "199  KRW-XRP  2023-06-12T09:00:00          690.0       694.0       675.0   \n",
       "\n",
       "     trade_price  candle_acc_trade_price  candle_acc_trade_volume  \n",
       "0     57741000.0            5.494775e+10             9.495920e+02  \n",
       "1     57920000.0            2.270096e+11             3.965843e+03  \n",
       "2     57032000.0            2.708228e+11             4.735230e+03  \n",
       "3     58042000.0            2.721330e+11             4.687209e+03  \n",
       "4     58002000.0            2.200170e+11             3.729334e+03  \n",
       "..           ...                     ...                      ...  \n",
       "195        624.0            1.610391e+11             2.616515e+08  \n",
       "196        627.0            1.663204e+11             2.660830e+08  \n",
       "197        631.0            2.592919e+11             3.998507e+08  \n",
       "198        679.0            4.851964e+11             6.910409e+08  \n",
       "199        689.0            1.224128e+11             1.790804e+08  \n",
       "\n",
       "[600 rows x 8 columns]"
      ]
     },
     "execution_count": 150,
     "metadata": {},
     "output_type": "execute_result"
    }
   ],
   "source": [
    "my_df = df[['market','candle_date_time_kst','opening_price','high_price',\n",
    "            'low_price','trade_price','candle_acc_trade_price','candle_acc_trade_volume']].copy()\n",
    "my_df"
   ]
  },
  {
   "cell_type": "markdown",
   "id": "d07cfcb0",
   "metadata": {},
   "source": [
    "# 첫번째 전처리 -market에서 코인의 이름만 남기기\n",
    "# 두번째 전처리 -candle_date_time_kst 날짜만 남기기"
   ]
  },
  {
   "cell_type": "code",
   "execution_count": 160,
   "id": "5cd576c9",
   "metadata": {},
   "outputs": [],
   "source": [
    "my_df['market']=df.market.str.replace('KRW-','')"
   ]
  },
  {
   "cell_type": "code",
   "execution_count": 164,
   "id": "c98ad7d3",
   "metadata": {},
   "outputs": [],
   "source": [
    "my_df['candle_date_time_kst']= df.candle_date_time_kst.str.replace('T09:00:00','')"
   ]
  },
  {
   "cell_type": "code",
   "execution_count": 165,
   "id": "88399fb4",
   "metadata": {},
   "outputs": [
    {
     "data": {
      "text/html": [
       "<div>\n",
       "<style scoped>\n",
       "    .dataframe tbody tr th:only-of-type {\n",
       "        vertical-align: middle;\n",
       "    }\n",
       "\n",
       "    .dataframe tbody tr th {\n",
       "        vertical-align: top;\n",
       "    }\n",
       "\n",
       "    .dataframe thead th {\n",
       "        text-align: right;\n",
       "    }\n",
       "</style>\n",
       "<table border=\"1\" class=\"dataframe\">\n",
       "  <thead>\n",
       "    <tr style=\"text-align: right;\">\n",
       "      <th></th>\n",
       "      <th>market</th>\n",
       "      <th>candle_date_time_kst</th>\n",
       "      <th>opening_price</th>\n",
       "      <th>high_price</th>\n",
       "      <th>low_price</th>\n",
       "      <th>trade_price</th>\n",
       "      <th>candle_acc_trade_price</th>\n",
       "      <th>candle_acc_trade_volume</th>\n",
       "      <th>candle_date_time_kst\\t</th>\n",
       "    </tr>\n",
       "  </thead>\n",
       "  <tbody>\n",
       "    <tr>\n",
       "      <th>0</th>\n",
       "      <td>BTC</td>\n",
       "      <td>2023-12-28</td>\n",
       "      <td>57920000.0</td>\n",
       "      <td>58468000.0</td>\n",
       "      <td>57474000.0</td>\n",
       "      <td>57741000.0</td>\n",
       "      <td>5.494775e+10</td>\n",
       "      <td>9.495920e+02</td>\n",
       "      <td>2023-12-28</td>\n",
       "    </tr>\n",
       "    <tr>\n",
       "      <th>1</th>\n",
       "      <td>BTC</td>\n",
       "      <td>2023-12-27</td>\n",
       "      <td>57032000.0</td>\n",
       "      <td>58212000.0</td>\n",
       "      <td>56349000.0</td>\n",
       "      <td>57920000.0</td>\n",
       "      <td>2.270096e+11</td>\n",
       "      <td>3.965843e+03</td>\n",
       "      <td>2023-12-27</td>\n",
       "    </tr>\n",
       "    <tr>\n",
       "      <th>2</th>\n",
       "      <td>BTC</td>\n",
       "      <td>2023-12-26</td>\n",
       "      <td>58042000.0</td>\n",
       "      <td>58140000.0</td>\n",
       "      <td>56349000.0</td>\n",
       "      <td>57032000.0</td>\n",
       "      <td>2.708228e+11</td>\n",
       "      <td>4.735230e+03</td>\n",
       "      <td>2023-12-26</td>\n",
       "    </tr>\n",
       "    <tr>\n",
       "      <th>3</th>\n",
       "      <td>BTC</td>\n",
       "      <td>2023-12-25</td>\n",
       "      <td>58002000.0</td>\n",
       "      <td>58659000.0</td>\n",
       "      <td>57464000.0</td>\n",
       "      <td>58042000.0</td>\n",
       "      <td>2.721330e+11</td>\n",
       "      <td>4.687209e+03</td>\n",
       "      <td>2023-12-25</td>\n",
       "    </tr>\n",
       "    <tr>\n",
       "      <th>4</th>\n",
       "      <td>BTC</td>\n",
       "      <td>2023-12-24</td>\n",
       "      <td>59249000.0</td>\n",
       "      <td>59600000.0</td>\n",
       "      <td>58000000.0</td>\n",
       "      <td>58002000.0</td>\n",
       "      <td>2.200170e+11</td>\n",
       "      <td>3.729334e+03</td>\n",
       "      <td>2023-12-24</td>\n",
       "    </tr>\n",
       "    <tr>\n",
       "      <th>...</th>\n",
       "      <td>...</td>\n",
       "      <td>...</td>\n",
       "      <td>...</td>\n",
       "      <td>...</td>\n",
       "      <td>...</td>\n",
       "      <td>...</td>\n",
       "      <td>...</td>\n",
       "      <td>...</td>\n",
       "      <td>...</td>\n",
       "    </tr>\n",
       "    <tr>\n",
       "      <th>195</th>\n",
       "      <td>XRP</td>\n",
       "      <td>2023-06-16</td>\n",
       "      <td>627.0</td>\n",
       "      <td>630.0</td>\n",
       "      <td>602.0</td>\n",
       "      <td>624.0</td>\n",
       "      <td>1.610391e+11</td>\n",
       "      <td>2.616515e+08</td>\n",
       "      <td>2023-06-16</td>\n",
       "    </tr>\n",
       "    <tr>\n",
       "      <th>196</th>\n",
       "      <td>XRP</td>\n",
       "      <td>2023-06-15</td>\n",
       "      <td>630.0</td>\n",
       "      <td>638.0</td>\n",
       "      <td>612.0</td>\n",
       "      <td>627.0</td>\n",
       "      <td>1.663204e+11</td>\n",
       "      <td>2.660830e+08</td>\n",
       "      <td>2023-06-15</td>\n",
       "    </tr>\n",
       "    <tr>\n",
       "      <th>197</th>\n",
       "      <td>XRP</td>\n",
       "      <td>2023-06-14</td>\n",
       "      <td>678.0</td>\n",
       "      <td>681.0</td>\n",
       "      <td>609.0</td>\n",
       "      <td>631.0</td>\n",
       "      <td>2.592919e+11</td>\n",
       "      <td>3.998507e+08</td>\n",
       "      <td>2023-06-14</td>\n",
       "    </tr>\n",
       "    <tr>\n",
       "      <th>198</th>\n",
       "      <td>XRP</td>\n",
       "      <td>2023-06-13</td>\n",
       "      <td>689.0</td>\n",
       "      <td>735.0</td>\n",
       "      <td>664.0</td>\n",
       "      <td>679.0</td>\n",
       "      <td>4.851964e+11</td>\n",
       "      <td>6.910409e+08</td>\n",
       "      <td>2023-06-13</td>\n",
       "    </tr>\n",
       "    <tr>\n",
       "      <th>199</th>\n",
       "      <td>XRP</td>\n",
       "      <td>2023-06-12</td>\n",
       "      <td>690.0</td>\n",
       "      <td>694.0</td>\n",
       "      <td>675.0</td>\n",
       "      <td>689.0</td>\n",
       "      <td>1.224128e+11</td>\n",
       "      <td>1.790804e+08</td>\n",
       "      <td>2023-06-12</td>\n",
       "    </tr>\n",
       "  </tbody>\n",
       "</table>\n",
       "<p>600 rows × 9 columns</p>\n",
       "</div>"
      ],
      "text/plain": [
       "    market candle_date_time_kst  opening_price  high_price   low_price  \\\n",
       "0      BTC           2023-12-28     57920000.0  58468000.0  57474000.0   \n",
       "1      BTC           2023-12-27     57032000.0  58212000.0  56349000.0   \n",
       "2      BTC           2023-12-26     58042000.0  58140000.0  56349000.0   \n",
       "3      BTC           2023-12-25     58002000.0  58659000.0  57464000.0   \n",
       "4      BTC           2023-12-24     59249000.0  59600000.0  58000000.0   \n",
       "..     ...                  ...            ...         ...         ...   \n",
       "195    XRP           2023-06-16          627.0       630.0       602.0   \n",
       "196    XRP           2023-06-15          630.0       638.0       612.0   \n",
       "197    XRP           2023-06-14          678.0       681.0       609.0   \n",
       "198    XRP           2023-06-13          689.0       735.0       664.0   \n",
       "199    XRP           2023-06-12          690.0       694.0       675.0   \n",
       "\n",
       "     trade_price  candle_acc_trade_price  candle_acc_trade_volume  \\\n",
       "0     57741000.0            5.494775e+10             9.495920e+02   \n",
       "1     57920000.0            2.270096e+11             3.965843e+03   \n",
       "2     57032000.0            2.708228e+11             4.735230e+03   \n",
       "3     58042000.0            2.721330e+11             4.687209e+03   \n",
       "4     58002000.0            2.200170e+11             3.729334e+03   \n",
       "..           ...                     ...                      ...   \n",
       "195        624.0            1.610391e+11             2.616515e+08   \n",
       "196        627.0            1.663204e+11             2.660830e+08   \n",
       "197        631.0            2.592919e+11             3.998507e+08   \n",
       "198        679.0            4.851964e+11             6.910409e+08   \n",
       "199        689.0            1.224128e+11             1.790804e+08   \n",
       "\n",
       "    candle_date_time_kst\\t  \n",
       "0               2023-12-28  \n",
       "1               2023-12-27  \n",
       "2               2023-12-26  \n",
       "3               2023-12-25  \n",
       "4               2023-12-24  \n",
       "..                     ...  \n",
       "195             2023-06-16  \n",
       "196             2023-06-15  \n",
       "197             2023-06-14  \n",
       "198             2023-06-13  \n",
       "199             2023-06-12  \n",
       "\n",
       "[600 rows x 9 columns]"
      ]
     },
     "execution_count": 165,
     "metadata": {},
     "output_type": "execute_result"
    }
   ],
   "source": [
    "my_df"
   ]
  },
  {
   "cell_type": "code",
   "execution_count": 166,
   "id": "6c34c690",
   "metadata": {},
   "outputs": [
    {
     "name": "stdout",
     "output_type": "stream",
     "text": [
      "Help on function iplot in module plotly.offline.offline:\n",
      "\n",
      "iplot(figure_or_data, show_link=False, link_text='Export to plot.ly', validate=True, image=None, filename='plot_image', image_width=800, image_height=600, config=None, auto_play=True, animation_opts=None)\n",
      "    Draw plotly graphs inside an IPython or Jupyter notebook\n",
      "    \n",
      "    figure_or_data -- a plotly.graph_objs.Figure or plotly.graph_objs.Data or\n",
      "                      dict or list that describes a Plotly graph.\n",
      "                      See https://plot.ly/python/ for examples of\n",
      "                      graph descriptions.\n",
      "    \n",
      "    Keyword arguments:\n",
      "    show_link (default=False) -- display a link in the bottom-right corner of\n",
      "                                of the chart that will export the chart to\n",
      "                                Plotly Cloud or Plotly Enterprise\n",
      "    link_text (default='Export to plot.ly') -- the text of export link\n",
      "    validate (default=True) -- validate that all of the keys in the figure\n",
      "                               are valid? omit if your version of plotly.js\n",
      "                               has become outdated with your version of\n",
      "                               graph_reference.json or if you need to include\n",
      "                               extra, unnecessary keys in your figure.\n",
      "    image (default=None |'png' |'jpeg' |'svg' |'webp') -- This parameter sets\n",
      "        the format of the image to be downloaded, if we choose to download an\n",
      "        image. This parameter has a default value of None indicating that no\n",
      "        image should be downloaded. Please note: for higher resolution images\n",
      "        and more export options, consider using plotly.io.write_image. See\n",
      "        https://plot.ly/python/static-image-export/ for more details.\n",
      "    filename (default='plot') -- Sets the name of the file your image\n",
      "        will be saved to. The extension should not be included.\n",
      "    image_height (default=600) -- Specifies the height of the image in `px`.\n",
      "    image_width (default=800) -- Specifies the width of the image in `px`.\n",
      "    config (default=None) -- Plot view options dictionary. Keyword arguments\n",
      "        `show_link` and `link_text` set the associated options in this\n",
      "        dictionary if it doesn't contain them already.\n",
      "    auto_play (default=True) -- Whether to automatically start the animation\n",
      "        sequence on page load, if the figure contains frames. Has no effect if\n",
      "        the figure does not contain frames.\n",
      "    animation_opts (default=None) -- Dict of custom animation parameters that\n",
      "        are used for the automatically started animation on page load. This\n",
      "        dict is passed to the function Plotly.animate in Plotly.js. See\n",
      "        https://github.com/plotly/plotly.js/blob/master/src/plots/animation_attributes.js\n",
      "        for available options. Has no effect if the figure\n",
      "        does not contain frames, or auto_play is False.\n",
      "    \n",
      "    Example:\n",
      "    ```\n",
      "    from plotly.offline import init_notebook_mode, iplot\n",
      "    init_notebook_mode()\n",
      "    iplot([{'x': [1, 2, 3], 'y': [5, 2, 7]}])\n",
      "    # We can also download an image of the plot by setting the image to the\n",
      "    format you want. e.g. `image='png'`\n",
      "    iplot([{'x': [1, 2, 3], 'y': [5, 2, 7]}], image='png')\n",
      "    ```\n",
      "    \n",
      "    animation_opts Example:\n",
      "    ```\n",
      "    from plotly.offline import iplot\n",
      "    figure = {'data': [{'x': [0, 1], 'y': [0, 1]}],\n",
      "              'layout': {'xaxis': {'range': [0, 5], 'autorange': False},\n",
      "                         'yaxis': {'range': [0, 5], 'autorange': False},\n",
      "                         'title': 'Start Title'},\n",
      "              'frames': [{'data': [{'x': [1, 2], 'y': [1, 2]}]},\n",
      "                         {'data': [{'x': [1, 4], 'y': [1, 4]}]},\n",
      "                         {'data': [{'x': [3, 4], 'y': [3, 4]}],\n",
      "                          'layout': {'title': 'End Title'}}]}\n",
      "    iplot(figure, animation_opts={'frame': {'duration': 1}})\n",
      "    ```\n",
      "\n"
     ]
    }
   ],
   "source": [
    "help(plotly.offline.iplot)"
   ]
  },
  {
   "cell_type": "code",
   "execution_count": 167,
   "id": "38a622dd",
   "metadata": {},
   "outputs": [],
   "source": [
    "import plotly.express as px"
   ]
  },
  {
   "cell_type": "code",
   "execution_count": 171,
   "id": "e1b0ab9d",
   "metadata": {
    "scrolled": true
   },
   "outputs": [
    {
     "data": {
      "application/vnd.plotly.v1+json": {
       "config": {
        "linkText": "Export to plot.ly",
        "plotlyServerURL": "https://plot.ly",
        "showLink": false
       },
       "data": [
        {
         "type": "scatter",
         "x": [
          1,
          2,
          3,
          4
         ],
         "y": [
          4,
          3,
          2,
          1
         ]
        }
       ],
       "layout": {
        "template": {
         "data": {
          "bar": [
           {
            "error_x": {
             "color": "#2a3f5f"
            },
            "error_y": {
             "color": "#2a3f5f"
            },
            "marker": {
             "line": {
              "color": "#E5ECF6",
              "width": 0.5
             },
             "pattern": {
              "fillmode": "overlay",
              "size": 10,
              "solidity": 0.2
             }
            },
            "type": "bar"
           }
          ],
          "barpolar": [
           {
            "marker": {
             "line": {
              "color": "#E5ECF6",
              "width": 0.5
             },
             "pattern": {
              "fillmode": "overlay",
              "size": 10,
              "solidity": 0.2
             }
            },
            "type": "barpolar"
           }
          ],
          "carpet": [
           {
            "aaxis": {
             "endlinecolor": "#2a3f5f",
             "gridcolor": "white",
             "linecolor": "white",
             "minorgridcolor": "white",
             "startlinecolor": "#2a3f5f"
            },
            "baxis": {
             "endlinecolor": "#2a3f5f",
             "gridcolor": "white",
             "linecolor": "white",
             "minorgridcolor": "white",
             "startlinecolor": "#2a3f5f"
            },
            "type": "carpet"
           }
          ],
          "choropleth": [
           {
            "colorbar": {
             "outlinewidth": 0,
             "ticks": ""
            },
            "type": "choropleth"
           }
          ],
          "contour": [
           {
            "colorbar": {
             "outlinewidth": 0,
             "ticks": ""
            },
            "colorscale": [
             [
              0,
              "#0d0887"
             ],
             [
              0.1111111111111111,
              "#46039f"
             ],
             [
              0.2222222222222222,
              "#7201a8"
             ],
             [
              0.3333333333333333,
              "#9c179e"
             ],
             [
              0.4444444444444444,
              "#bd3786"
             ],
             [
              0.5555555555555556,
              "#d8576b"
             ],
             [
              0.6666666666666666,
              "#ed7953"
             ],
             [
              0.7777777777777778,
              "#fb9f3a"
             ],
             [
              0.8888888888888888,
              "#fdca26"
             ],
             [
              1,
              "#f0f921"
             ]
            ],
            "type": "contour"
           }
          ],
          "contourcarpet": [
           {
            "colorbar": {
             "outlinewidth": 0,
             "ticks": ""
            },
            "type": "contourcarpet"
           }
          ],
          "heatmap": [
           {
            "colorbar": {
             "outlinewidth": 0,
             "ticks": ""
            },
            "colorscale": [
             [
              0,
              "#0d0887"
             ],
             [
              0.1111111111111111,
              "#46039f"
             ],
             [
              0.2222222222222222,
              "#7201a8"
             ],
             [
              0.3333333333333333,
              "#9c179e"
             ],
             [
              0.4444444444444444,
              "#bd3786"
             ],
             [
              0.5555555555555556,
              "#d8576b"
             ],
             [
              0.6666666666666666,
              "#ed7953"
             ],
             [
              0.7777777777777778,
              "#fb9f3a"
             ],
             [
              0.8888888888888888,
              "#fdca26"
             ],
             [
              1,
              "#f0f921"
             ]
            ],
            "type": "heatmap"
           }
          ],
          "heatmapgl": [
           {
            "colorbar": {
             "outlinewidth": 0,
             "ticks": ""
            },
            "colorscale": [
             [
              0,
              "#0d0887"
             ],
             [
              0.1111111111111111,
              "#46039f"
             ],
             [
              0.2222222222222222,
              "#7201a8"
             ],
             [
              0.3333333333333333,
              "#9c179e"
             ],
             [
              0.4444444444444444,
              "#bd3786"
             ],
             [
              0.5555555555555556,
              "#d8576b"
             ],
             [
              0.6666666666666666,
              "#ed7953"
             ],
             [
              0.7777777777777778,
              "#fb9f3a"
             ],
             [
              0.8888888888888888,
              "#fdca26"
             ],
             [
              1,
              "#f0f921"
             ]
            ],
            "type": "heatmapgl"
           }
          ],
          "histogram": [
           {
            "marker": {
             "pattern": {
              "fillmode": "overlay",
              "size": 10,
              "solidity": 0.2
             }
            },
            "type": "histogram"
           }
          ],
          "histogram2d": [
           {
            "colorbar": {
             "outlinewidth": 0,
             "ticks": ""
            },
            "colorscale": [
             [
              0,
              "#0d0887"
             ],
             [
              0.1111111111111111,
              "#46039f"
             ],
             [
              0.2222222222222222,
              "#7201a8"
             ],
             [
              0.3333333333333333,
              "#9c179e"
             ],
             [
              0.4444444444444444,
              "#bd3786"
             ],
             [
              0.5555555555555556,
              "#d8576b"
             ],
             [
              0.6666666666666666,
              "#ed7953"
             ],
             [
              0.7777777777777778,
              "#fb9f3a"
             ],
             [
              0.8888888888888888,
              "#fdca26"
             ],
             [
              1,
              "#f0f921"
             ]
            ],
            "type": "histogram2d"
           }
          ],
          "histogram2dcontour": [
           {
            "colorbar": {
             "outlinewidth": 0,
             "ticks": ""
            },
            "colorscale": [
             [
              0,
              "#0d0887"
             ],
             [
              0.1111111111111111,
              "#46039f"
             ],
             [
              0.2222222222222222,
              "#7201a8"
             ],
             [
              0.3333333333333333,
              "#9c179e"
             ],
             [
              0.4444444444444444,
              "#bd3786"
             ],
             [
              0.5555555555555556,
              "#d8576b"
             ],
             [
              0.6666666666666666,
              "#ed7953"
             ],
             [
              0.7777777777777778,
              "#fb9f3a"
             ],
             [
              0.8888888888888888,
              "#fdca26"
             ],
             [
              1,
              "#f0f921"
             ]
            ],
            "type": "histogram2dcontour"
           }
          ],
          "mesh3d": [
           {
            "colorbar": {
             "outlinewidth": 0,
             "ticks": ""
            },
            "type": "mesh3d"
           }
          ],
          "parcoords": [
           {
            "line": {
             "colorbar": {
              "outlinewidth": 0,
              "ticks": ""
             }
            },
            "type": "parcoords"
           }
          ],
          "pie": [
           {
            "automargin": true,
            "type": "pie"
           }
          ],
          "scatter": [
           {
            "fillpattern": {
             "fillmode": "overlay",
             "size": 10,
             "solidity": 0.2
            },
            "type": "scatter"
           }
          ],
          "scatter3d": [
           {
            "line": {
             "colorbar": {
              "outlinewidth": 0,
              "ticks": ""
             }
            },
            "marker": {
             "colorbar": {
              "outlinewidth": 0,
              "ticks": ""
             }
            },
            "type": "scatter3d"
           }
          ],
          "scattercarpet": [
           {
            "marker": {
             "colorbar": {
              "outlinewidth": 0,
              "ticks": ""
             }
            },
            "type": "scattercarpet"
           }
          ],
          "scattergeo": [
           {
            "marker": {
             "colorbar": {
              "outlinewidth": 0,
              "ticks": ""
             }
            },
            "type": "scattergeo"
           }
          ],
          "scattergl": [
           {
            "marker": {
             "colorbar": {
              "outlinewidth": 0,
              "ticks": ""
             }
            },
            "type": "scattergl"
           }
          ],
          "scattermapbox": [
           {
            "marker": {
             "colorbar": {
              "outlinewidth": 0,
              "ticks": ""
             }
            },
            "type": "scattermapbox"
           }
          ],
          "scatterpolar": [
           {
            "marker": {
             "colorbar": {
              "outlinewidth": 0,
              "ticks": ""
             }
            },
            "type": "scatterpolar"
           }
          ],
          "scatterpolargl": [
           {
            "marker": {
             "colorbar": {
              "outlinewidth": 0,
              "ticks": ""
             }
            },
            "type": "scatterpolargl"
           }
          ],
          "scatterternary": [
           {
            "marker": {
             "colorbar": {
              "outlinewidth": 0,
              "ticks": ""
             }
            },
            "type": "scatterternary"
           }
          ],
          "surface": [
           {
            "colorbar": {
             "outlinewidth": 0,
             "ticks": ""
            },
            "colorscale": [
             [
              0,
              "#0d0887"
             ],
             [
              0.1111111111111111,
              "#46039f"
             ],
             [
              0.2222222222222222,
              "#7201a8"
             ],
             [
              0.3333333333333333,
              "#9c179e"
             ],
             [
              0.4444444444444444,
              "#bd3786"
             ],
             [
              0.5555555555555556,
              "#d8576b"
             ],
             [
              0.6666666666666666,
              "#ed7953"
             ],
             [
              0.7777777777777778,
              "#fb9f3a"
             ],
             [
              0.8888888888888888,
              "#fdca26"
             ],
             [
              1,
              "#f0f921"
             ]
            ],
            "type": "surface"
           }
          ],
          "table": [
           {
            "cells": {
             "fill": {
              "color": "#EBF0F8"
             },
             "line": {
              "color": "white"
             }
            },
            "header": {
             "fill": {
              "color": "#C8D4E3"
             },
             "line": {
              "color": "white"
             }
            },
            "type": "table"
           }
          ]
         },
         "layout": {
          "annotationdefaults": {
           "arrowcolor": "#2a3f5f",
           "arrowhead": 0,
           "arrowwidth": 1
          },
          "autotypenumbers": "strict",
          "coloraxis": {
           "colorbar": {
            "outlinewidth": 0,
            "ticks": ""
           }
          },
          "colorscale": {
           "diverging": [
            [
             0,
             "#8e0152"
            ],
            [
             0.1,
             "#c51b7d"
            ],
            [
             0.2,
             "#de77ae"
            ],
            [
             0.3,
             "#f1b6da"
            ],
            [
             0.4,
             "#fde0ef"
            ],
            [
             0.5,
             "#f7f7f7"
            ],
            [
             0.6,
             "#e6f5d0"
            ],
            [
             0.7,
             "#b8e186"
            ],
            [
             0.8,
             "#7fbc41"
            ],
            [
             0.9,
             "#4d9221"
            ],
            [
             1,
             "#276419"
            ]
           ],
           "sequential": [
            [
             0,
             "#0d0887"
            ],
            [
             0.1111111111111111,
             "#46039f"
            ],
            [
             0.2222222222222222,
             "#7201a8"
            ],
            [
             0.3333333333333333,
             "#9c179e"
            ],
            [
             0.4444444444444444,
             "#bd3786"
            ],
            [
             0.5555555555555556,
             "#d8576b"
            ],
            [
             0.6666666666666666,
             "#ed7953"
            ],
            [
             0.7777777777777778,
             "#fb9f3a"
            ],
            [
             0.8888888888888888,
             "#fdca26"
            ],
            [
             1,
             "#f0f921"
            ]
           ],
           "sequentialminus": [
            [
             0,
             "#0d0887"
            ],
            [
             0.1111111111111111,
             "#46039f"
            ],
            [
             0.2222222222222222,
             "#7201a8"
            ],
            [
             0.3333333333333333,
             "#9c179e"
            ],
            [
             0.4444444444444444,
             "#bd3786"
            ],
            [
             0.5555555555555556,
             "#d8576b"
            ],
            [
             0.6666666666666666,
             "#ed7953"
            ],
            [
             0.7777777777777778,
             "#fb9f3a"
            ],
            [
             0.8888888888888888,
             "#fdca26"
            ],
            [
             1,
             "#f0f921"
            ]
           ]
          },
          "colorway": [
           "#636efa",
           "#EF553B",
           "#00cc96",
           "#ab63fa",
           "#FFA15A",
           "#19d3f3",
           "#FF6692",
           "#B6E880",
           "#FF97FF",
           "#FECB52"
          ],
          "font": {
           "color": "#2a3f5f"
          },
          "geo": {
           "bgcolor": "white",
           "lakecolor": "white",
           "landcolor": "#E5ECF6",
           "showlakes": true,
           "showland": true,
           "subunitcolor": "white"
          },
          "hoverlabel": {
           "align": "left"
          },
          "hovermode": "closest",
          "mapbox": {
           "style": "light"
          },
          "paper_bgcolor": "white",
          "plot_bgcolor": "#E5ECF6",
          "polar": {
           "angularaxis": {
            "gridcolor": "white",
            "linecolor": "white",
            "ticks": ""
           },
           "bgcolor": "#E5ECF6",
           "radialaxis": {
            "gridcolor": "white",
            "linecolor": "white",
            "ticks": ""
           }
          },
          "scene": {
           "xaxis": {
            "backgroundcolor": "#E5ECF6",
            "gridcolor": "white",
            "gridwidth": 2,
            "linecolor": "white",
            "showbackground": true,
            "ticks": "",
            "zerolinecolor": "white"
           },
           "yaxis": {
            "backgroundcolor": "#E5ECF6",
            "gridcolor": "white",
            "gridwidth": 2,
            "linecolor": "white",
            "showbackground": true,
            "ticks": "",
            "zerolinecolor": "white"
           },
           "zaxis": {
            "backgroundcolor": "#E5ECF6",
            "gridcolor": "white",
            "gridwidth": 2,
            "linecolor": "white",
            "showbackground": true,
            "ticks": "",
            "zerolinecolor": "white"
           }
          },
          "shapedefaults": {
           "line": {
            "color": "#2a3f5f"
           }
          },
          "ternary": {
           "aaxis": {
            "gridcolor": "white",
            "linecolor": "white",
            "ticks": ""
           },
           "baxis": {
            "gridcolor": "white",
            "linecolor": "white",
            "ticks": ""
           },
           "bgcolor": "#E5ECF6",
           "caxis": {
            "gridcolor": "white",
            "linecolor": "white",
            "ticks": ""
           }
          },
          "title": {
           "x": 0.05
          },
          "xaxis": {
           "automargin": true,
           "gridcolor": "white",
           "linecolor": "white",
           "ticks": "",
           "title": {
            "standoff": 15
           },
           "zerolinecolor": "white",
           "zerolinewidth": 2
          },
          "yaxis": {
           "automargin": true,
           "gridcolor": "white",
           "linecolor": "white",
           "ticks": "",
           "title": {
            "standoff": 15
           },
           "zerolinecolor": "white",
           "zerolinewidth": 2
          }
         }
        },
        "title": {
         "text": "Siuuuuu"
        }
       }
      },
      "text/html": [
       "<div>                            <div id=\"60064db3-8f6a-4b6d-be03-82c3dad66049\" class=\"plotly-graph-div\" style=\"height:525px; width:100%;\"></div>            <script type=\"text/javascript\">                require([\"plotly\"], function(Plotly) {                    window.PLOTLYENV=window.PLOTLYENV || {};                                    if (document.getElementById(\"60064db3-8f6a-4b6d-be03-82c3dad66049\")) {                    Plotly.newPlot(                        \"60064db3-8f6a-4b6d-be03-82c3dad66049\",                        [{\"x\":[1,2,3,4],\"y\":[4,3,2,1],\"type\":\"scatter\"}],                        {\"template\":{\"data\":{\"barpolar\":[{\"marker\":{\"line\":{\"color\":\"#E5ECF6\",\"width\":0.5},\"pattern\":{\"fillmode\":\"overlay\",\"size\":10,\"solidity\":0.2}},\"type\":\"barpolar\"}],\"bar\":[{\"error_x\":{\"color\":\"#2a3f5f\"},\"error_y\":{\"color\":\"#2a3f5f\"},\"marker\":{\"line\":{\"color\":\"#E5ECF6\",\"width\":0.5},\"pattern\":{\"fillmode\":\"overlay\",\"size\":10,\"solidity\":0.2}},\"type\":\"bar\"}],\"carpet\":[{\"aaxis\":{\"endlinecolor\":\"#2a3f5f\",\"gridcolor\":\"white\",\"linecolor\":\"white\",\"minorgridcolor\":\"white\",\"startlinecolor\":\"#2a3f5f\"},\"baxis\":{\"endlinecolor\":\"#2a3f5f\",\"gridcolor\":\"white\",\"linecolor\":\"white\",\"minorgridcolor\":\"white\",\"startlinecolor\":\"#2a3f5f\"},\"type\":\"carpet\"}],\"choropleth\":[{\"colorbar\":{\"outlinewidth\":0,\"ticks\":\"\"},\"type\":\"choropleth\"}],\"contourcarpet\":[{\"colorbar\":{\"outlinewidth\":0,\"ticks\":\"\"},\"type\":\"contourcarpet\"}],\"contour\":[{\"colorbar\":{\"outlinewidth\":0,\"ticks\":\"\"},\"colorscale\":[[0.0,\"#0d0887\"],[0.1111111111111111,\"#46039f\"],[0.2222222222222222,\"#7201a8\"],[0.3333333333333333,\"#9c179e\"],[0.4444444444444444,\"#bd3786\"],[0.5555555555555556,\"#d8576b\"],[0.6666666666666666,\"#ed7953\"],[0.7777777777777778,\"#fb9f3a\"],[0.8888888888888888,\"#fdca26\"],[1.0,\"#f0f921\"]],\"type\":\"contour\"}],\"heatmapgl\":[{\"colorbar\":{\"outlinewidth\":0,\"ticks\":\"\"},\"colorscale\":[[0.0,\"#0d0887\"],[0.1111111111111111,\"#46039f\"],[0.2222222222222222,\"#7201a8\"],[0.3333333333333333,\"#9c179e\"],[0.4444444444444444,\"#bd3786\"],[0.5555555555555556,\"#d8576b\"],[0.6666666666666666,\"#ed7953\"],[0.7777777777777778,\"#fb9f3a\"],[0.8888888888888888,\"#fdca26\"],[1.0,\"#f0f921\"]],\"type\":\"heatmapgl\"}],\"heatmap\":[{\"colorbar\":{\"outlinewidth\":0,\"ticks\":\"\"},\"colorscale\":[[0.0,\"#0d0887\"],[0.1111111111111111,\"#46039f\"],[0.2222222222222222,\"#7201a8\"],[0.3333333333333333,\"#9c179e\"],[0.4444444444444444,\"#bd3786\"],[0.5555555555555556,\"#d8576b\"],[0.6666666666666666,\"#ed7953\"],[0.7777777777777778,\"#fb9f3a\"],[0.8888888888888888,\"#fdca26\"],[1.0,\"#f0f921\"]],\"type\":\"heatmap\"}],\"histogram2dcontour\":[{\"colorbar\":{\"outlinewidth\":0,\"ticks\":\"\"},\"colorscale\":[[0.0,\"#0d0887\"],[0.1111111111111111,\"#46039f\"],[0.2222222222222222,\"#7201a8\"],[0.3333333333333333,\"#9c179e\"],[0.4444444444444444,\"#bd3786\"],[0.5555555555555556,\"#d8576b\"],[0.6666666666666666,\"#ed7953\"],[0.7777777777777778,\"#fb9f3a\"],[0.8888888888888888,\"#fdca26\"],[1.0,\"#f0f921\"]],\"type\":\"histogram2dcontour\"}],\"histogram2d\":[{\"colorbar\":{\"outlinewidth\":0,\"ticks\":\"\"},\"colorscale\":[[0.0,\"#0d0887\"],[0.1111111111111111,\"#46039f\"],[0.2222222222222222,\"#7201a8\"],[0.3333333333333333,\"#9c179e\"],[0.4444444444444444,\"#bd3786\"],[0.5555555555555556,\"#d8576b\"],[0.6666666666666666,\"#ed7953\"],[0.7777777777777778,\"#fb9f3a\"],[0.8888888888888888,\"#fdca26\"],[1.0,\"#f0f921\"]],\"type\":\"histogram2d\"}],\"histogram\":[{\"marker\":{\"pattern\":{\"fillmode\":\"overlay\",\"size\":10,\"solidity\":0.2}},\"type\":\"histogram\"}],\"mesh3d\":[{\"colorbar\":{\"outlinewidth\":0,\"ticks\":\"\"},\"type\":\"mesh3d\"}],\"parcoords\":[{\"line\":{\"colorbar\":{\"outlinewidth\":0,\"ticks\":\"\"}},\"type\":\"parcoords\"}],\"pie\":[{\"automargin\":true,\"type\":\"pie\"}],\"scatter3d\":[{\"line\":{\"colorbar\":{\"outlinewidth\":0,\"ticks\":\"\"}},\"marker\":{\"colorbar\":{\"outlinewidth\":0,\"ticks\":\"\"}},\"type\":\"scatter3d\"}],\"scattercarpet\":[{\"marker\":{\"colorbar\":{\"outlinewidth\":0,\"ticks\":\"\"}},\"type\":\"scattercarpet\"}],\"scattergeo\":[{\"marker\":{\"colorbar\":{\"outlinewidth\":0,\"ticks\":\"\"}},\"type\":\"scattergeo\"}],\"scattergl\":[{\"marker\":{\"colorbar\":{\"outlinewidth\":0,\"ticks\":\"\"}},\"type\":\"scattergl\"}],\"scattermapbox\":[{\"marker\":{\"colorbar\":{\"outlinewidth\":0,\"ticks\":\"\"}},\"type\":\"scattermapbox\"}],\"scatterpolargl\":[{\"marker\":{\"colorbar\":{\"outlinewidth\":0,\"ticks\":\"\"}},\"type\":\"scatterpolargl\"}],\"scatterpolar\":[{\"marker\":{\"colorbar\":{\"outlinewidth\":0,\"ticks\":\"\"}},\"type\":\"scatterpolar\"}],\"scatter\":[{\"fillpattern\":{\"fillmode\":\"overlay\",\"size\":10,\"solidity\":0.2},\"type\":\"scatter\"}],\"scatterternary\":[{\"marker\":{\"colorbar\":{\"outlinewidth\":0,\"ticks\":\"\"}},\"type\":\"scatterternary\"}],\"surface\":[{\"colorbar\":{\"outlinewidth\":0,\"ticks\":\"\"},\"colorscale\":[[0.0,\"#0d0887\"],[0.1111111111111111,\"#46039f\"],[0.2222222222222222,\"#7201a8\"],[0.3333333333333333,\"#9c179e\"],[0.4444444444444444,\"#bd3786\"],[0.5555555555555556,\"#d8576b\"],[0.6666666666666666,\"#ed7953\"],[0.7777777777777778,\"#fb9f3a\"],[0.8888888888888888,\"#fdca26\"],[1.0,\"#f0f921\"]],\"type\":\"surface\"}],\"table\":[{\"cells\":{\"fill\":{\"color\":\"#EBF0F8\"},\"line\":{\"color\":\"white\"}},\"header\":{\"fill\":{\"color\":\"#C8D4E3\"},\"line\":{\"color\":\"white\"}},\"type\":\"table\"}]},\"layout\":{\"annotationdefaults\":{\"arrowcolor\":\"#2a3f5f\",\"arrowhead\":0,\"arrowwidth\":1},\"autotypenumbers\":\"strict\",\"coloraxis\":{\"colorbar\":{\"outlinewidth\":0,\"ticks\":\"\"}},\"colorscale\":{\"diverging\":[[0,\"#8e0152\"],[0.1,\"#c51b7d\"],[0.2,\"#de77ae\"],[0.3,\"#f1b6da\"],[0.4,\"#fde0ef\"],[0.5,\"#f7f7f7\"],[0.6,\"#e6f5d0\"],[0.7,\"#b8e186\"],[0.8,\"#7fbc41\"],[0.9,\"#4d9221\"],[1,\"#276419\"]],\"sequential\":[[0.0,\"#0d0887\"],[0.1111111111111111,\"#46039f\"],[0.2222222222222222,\"#7201a8\"],[0.3333333333333333,\"#9c179e\"],[0.4444444444444444,\"#bd3786\"],[0.5555555555555556,\"#d8576b\"],[0.6666666666666666,\"#ed7953\"],[0.7777777777777778,\"#fb9f3a\"],[0.8888888888888888,\"#fdca26\"],[1.0,\"#f0f921\"]],\"sequentialminus\":[[0.0,\"#0d0887\"],[0.1111111111111111,\"#46039f\"],[0.2222222222222222,\"#7201a8\"],[0.3333333333333333,\"#9c179e\"],[0.4444444444444444,\"#bd3786\"],[0.5555555555555556,\"#d8576b\"],[0.6666666666666666,\"#ed7953\"],[0.7777777777777778,\"#fb9f3a\"],[0.8888888888888888,\"#fdca26\"],[1.0,\"#f0f921\"]]},\"colorway\":[\"#636efa\",\"#EF553B\",\"#00cc96\",\"#ab63fa\",\"#FFA15A\",\"#19d3f3\",\"#FF6692\",\"#B6E880\",\"#FF97FF\",\"#FECB52\"],\"font\":{\"color\":\"#2a3f5f\"},\"geo\":{\"bgcolor\":\"white\",\"lakecolor\":\"white\",\"landcolor\":\"#E5ECF6\",\"showlakes\":true,\"showland\":true,\"subunitcolor\":\"white\"},\"hoverlabel\":{\"align\":\"left\"},\"hovermode\":\"closest\",\"mapbox\":{\"style\":\"light\"},\"paper_bgcolor\":\"white\",\"plot_bgcolor\":\"#E5ECF6\",\"polar\":{\"angularaxis\":{\"gridcolor\":\"white\",\"linecolor\":\"white\",\"ticks\":\"\"},\"bgcolor\":\"#E5ECF6\",\"radialaxis\":{\"gridcolor\":\"white\",\"linecolor\":\"white\",\"ticks\":\"\"}},\"scene\":{\"xaxis\":{\"backgroundcolor\":\"#E5ECF6\",\"gridcolor\":\"white\",\"gridwidth\":2,\"linecolor\":\"white\",\"showbackground\":true,\"ticks\":\"\",\"zerolinecolor\":\"white\"},\"yaxis\":{\"backgroundcolor\":\"#E5ECF6\",\"gridcolor\":\"white\",\"gridwidth\":2,\"linecolor\":\"white\",\"showbackground\":true,\"ticks\":\"\",\"zerolinecolor\":\"white\"},\"zaxis\":{\"backgroundcolor\":\"#E5ECF6\",\"gridcolor\":\"white\",\"gridwidth\":2,\"linecolor\":\"white\",\"showbackground\":true,\"ticks\":\"\",\"zerolinecolor\":\"white\"}},\"shapedefaults\":{\"line\":{\"color\":\"#2a3f5f\"}},\"ternary\":{\"aaxis\":{\"gridcolor\":\"white\",\"linecolor\":\"white\",\"ticks\":\"\"},\"baxis\":{\"gridcolor\":\"white\",\"linecolor\":\"white\",\"ticks\":\"\"},\"bgcolor\":\"#E5ECF6\",\"caxis\":{\"gridcolor\":\"white\",\"linecolor\":\"white\",\"ticks\":\"\"}},\"title\":{\"x\":0.05},\"xaxis\":{\"automargin\":true,\"gridcolor\":\"white\",\"linecolor\":\"white\",\"ticks\":\"\",\"title\":{\"standoff\":15},\"zerolinecolor\":\"white\",\"zerolinewidth\":2},\"yaxis\":{\"automargin\":true,\"gridcolor\":\"white\",\"linecolor\":\"white\",\"ticks\":\"\",\"title\":{\"standoff\":15},\"zerolinecolor\":\"white\",\"zerolinewidth\":2}}},\"title\":{\"text\":\"Siuuuuu\"}},                        {\"responsive\": true}                    ).then(function(){\n",
       "                            \n",
       "var gd = document.getElementById('60064db3-8f6a-4b6d-be03-82c3dad66049');\n",
       "var x = new MutationObserver(function (mutations, observer) {{\n",
       "        var display = window.getComputedStyle(gd).display;\n",
       "        if (!display || display === 'none') {{\n",
       "            console.log([gd, 'removed!']);\n",
       "            Plotly.purge(gd);\n",
       "            observer.disconnect();\n",
       "        }}\n",
       "}});\n",
       "\n",
       "// Listen for the removal of the full notebook cells\n",
       "var notebookContainer = gd.closest('#notebook-container');\n",
       "if (notebookContainer) {{\n",
       "    x.observe(notebookContainer, {childList: true});\n",
       "}}\n",
       "\n",
       "// Listen for the clearing of the current output cell\n",
       "var outputEl = gd.closest('.output');\n",
       "if (outputEl) {{\n",
       "    x.observe(outputEl, {childList: true});\n",
       "}}\n",
       "\n",
       "                        })                };                });            </script>        </div>"
      ]
     },
     "metadata": {},
     "output_type": "display_data"
    }
   ],
   "source": [
    "plotly.offline.iplot({\n",
    "    \"data\" : [go.Scatter(x=[1,2,3,4], y=[4,3,2,1])],\n",
    "    \"layout\": go.Layout(title = 'Siuuuuu')\n",
    "})"
   ]
  },
  {
   "cell_type": "code",
   "execution_count": 173,
   "id": "0f76b942",
   "metadata": {},
   "outputs": [
    {
     "data": {
      "application/vnd.plotly.v1+json": {
       "config": {
        "linkText": "Export to plot.ly",
        "plotlyServerURL": "https://plot.ly",
        "showLink": false
       },
       "data": [
        {
         "hovertemplate": "candle_date_time_kst=%{x}<br>trade_price=%{y}<extra></extra>",
         "legendgroup": "",
         "marker": {
          "color": "#636efa",
          "symbol": "circle"
         },
         "mode": "markers",
         "name": "",
         "orientation": "v",
         "showlegend": false,
         "type": "scatter",
         "x": [
          "2023-12-28",
          "2023-12-27",
          "2023-12-26",
          "2023-12-25",
          "2023-12-24",
          "2023-12-23",
          "2023-12-22",
          "2023-12-21",
          "2023-12-20",
          "2023-12-19",
          "2023-12-18",
          "2023-12-17",
          "2023-12-16",
          "2023-12-15",
          "2023-12-14",
          "2023-12-13",
          "2023-12-12",
          "2023-12-11",
          "2023-12-10",
          "2023-12-09",
          "2023-12-08",
          "2023-12-07",
          "2023-12-06",
          "2023-12-05",
          "2023-12-04",
          "2023-12-03",
          "2023-12-02",
          "2023-12-01",
          "2023-11-30",
          "2023-11-29",
          "2023-11-28",
          "2023-11-27",
          "2023-11-26",
          "2023-11-25",
          "2023-11-24",
          "2023-11-23",
          "2023-11-22",
          "2023-11-21",
          "2023-11-20",
          "2023-11-19",
          "2023-11-18",
          "2023-11-17",
          "2023-11-16",
          "2023-11-15",
          "2023-11-14",
          "2023-11-13",
          "2023-11-12",
          "2023-11-11",
          "2023-11-10",
          "2023-11-09",
          "2023-11-08",
          "2023-11-07",
          "2023-11-06",
          "2023-11-05",
          "2023-11-04",
          "2023-11-03",
          "2023-11-02",
          "2023-11-01",
          "2023-10-31",
          "2023-10-30",
          "2023-10-29",
          "2023-10-28",
          "2023-10-27",
          "2023-10-26",
          "2023-10-25",
          "2023-10-24",
          "2023-10-23",
          "2023-10-22",
          "2023-10-21",
          "2023-10-20",
          "2023-10-19",
          "2023-10-18",
          "2023-10-17",
          "2023-10-16",
          "2023-10-15",
          "2023-10-14",
          "2023-10-13",
          "2023-10-12",
          "2023-10-11",
          "2023-10-10",
          "2023-10-09",
          "2023-10-08",
          "2023-10-07",
          "2023-10-06",
          "2023-10-05",
          "2023-10-04",
          "2023-10-03",
          "2023-10-02",
          "2023-10-01",
          "2023-09-30",
          "2023-09-29",
          "2023-09-28",
          "2023-09-27",
          "2023-09-26",
          "2023-09-25",
          "2023-09-24",
          "2023-09-23",
          "2023-09-22",
          "2023-09-21",
          "2023-09-20",
          "2023-09-19",
          "2023-09-18",
          "2023-09-17",
          "2023-09-16",
          "2023-09-15",
          "2023-09-14",
          "2023-09-13",
          "2023-09-12",
          "2023-09-11",
          "2023-09-10",
          "2023-09-09",
          "2023-09-08",
          "2023-09-07",
          "2023-09-06",
          "2023-09-05",
          "2023-09-04",
          "2023-09-03",
          "2023-09-02",
          "2023-09-01",
          "2023-08-31",
          "2023-08-30",
          "2023-08-29",
          "2023-08-28",
          "2023-08-27",
          "2023-08-26",
          "2023-08-25",
          "2023-08-24",
          "2023-08-23",
          "2023-08-22",
          "2023-08-21",
          "2023-08-20",
          "2023-08-19",
          "2023-08-18",
          "2023-08-17",
          "2023-08-16",
          "2023-08-15",
          "2023-08-14",
          "2023-08-13",
          "2023-08-12",
          "2023-08-11",
          "2023-08-10",
          "2023-08-09",
          "2023-08-08",
          "2023-08-07",
          "2023-08-06",
          "2023-08-05",
          "2023-08-04",
          "2023-08-03",
          "2023-08-02",
          "2023-08-01",
          "2023-07-31",
          "2023-07-30",
          "2023-07-29",
          "2023-07-28",
          "2023-07-27",
          "2023-07-26",
          "2023-07-25",
          "2023-07-24",
          "2023-07-23",
          "2023-07-22",
          "2023-07-21",
          "2023-07-20",
          "2023-07-19",
          "2023-07-18",
          "2023-07-17",
          "2023-07-16",
          "2023-07-15",
          "2023-07-14",
          "2023-07-13",
          "2023-07-12",
          "2023-07-11",
          "2023-07-10",
          "2023-07-09",
          "2023-07-08",
          "2023-07-07",
          "2023-07-06",
          "2023-07-05",
          "2023-07-04",
          "2023-07-03",
          "2023-07-02",
          "2023-07-01",
          "2023-06-30",
          "2023-06-29",
          "2023-06-28",
          "2023-06-27",
          "2023-06-26",
          "2023-06-25",
          "2023-06-24",
          "2023-06-23",
          "2023-06-22",
          "2023-06-21",
          "2023-06-20",
          "2023-06-19",
          "2023-06-18",
          "2023-06-17",
          "2023-06-16",
          "2023-06-15",
          "2023-06-14",
          "2023-06-13",
          "2023-06-12"
         ],
         "xaxis": "x",
         "y": [
          57741000,
          57920000,
          57032000,
          58042000,
          58002000,
          59250000,
          59532000,
          59479000,
          59351000,
          57845000,
          58130000,
          56710000,
          57935000,
          58028000,
          58735000,
          59056000,
          57605000,
          56950000,
          59835000,
          60082000,
          60142000,
          59250000,
          60314000,
          60227000,
          56920000,
          53700000,
          52603000,
          51709000,
          50586000,
          50720000,
          50576000,
          50275000,
          50210000,
          50533000,
          50601000,
          49929000,
          50042000,
          48510000,
          50170000,
          49800000,
          49165000,
          49390000,
          48868000,
          50457000,
          47969000,
          49154000,
          49418000,
          49629000,
          50030000,
          49400000,
          47458000,
          47301000,
          46781000,
          47056000,
          47050000,
          46676000,
          47516000,
          48079000,
          47030000,
          46732000,
          46825000,
          46314000,
          45980000,
          46141000,
          46484000,
          45599000,
          44179000,
          40354000,
          40400000,
          40250000,
          39000000,
          38710000,
          38652000,
          38697000,
          37086000,
          36790000,
          36968000,
          36750000,
          36671000,
          37336000,
          37595000,
          37929000,
          37902000,
          37798000,
          37258000,
          37595000,
          37197000,
          37424000,
          37789000,
          36600000,
          36444000,
          36596000,
          35982000,
          35566000,
          35491000,
          35534000,
          35960000,
          35952000,
          36012000,
          36501000,
          36500000,
          36000000,
          35758000,
          35938000,
          35928000,
          35889000,
          35497000,
          35077000,
          34327000,
          35196000,
          35280000,
          35295000,
          35615000,
          35029000,
          35056000,
          35011000,
          35308000,
          35204000,
          35350000,
          35502000,
          37109000,
          37445000,
          35335000,
          35402000,
          35398000,
          35479000,
          35635000,
          35941000,
          35684000,
          35769000,
          35949000,
          36056000,
          35890000,
          36588000,
          39001000,
          39404000,
          39288000,
          39118000,
          39283000,
          39233000,
          39119000,
          39209000,
          39437000,
          38622000,
          38605000,
          38474000,
          38492000,
          38436000,
          38358000,
          38642000,
          37929000,
          37850000,
          37901000,
          37932000,
          37874000,
          37918000,
          37910000,
          37892000,
          38945000,
          38776000,
          38829000,
          38567000,
          38323000,
          38401000,
          38742000,
          38933000,
          38889000,
          39092000,
          40112000,
          39804000,
          40117000,
          40050000,
          39832000,
          40153000,
          40240000,
          39860000,
          40385000,
          40610000,
          41200000,
          40652000,
          40691000,
          40547000,
          40583000,
          40020000,
          40585000,
          40077000,
          40352000,
          40659000,
          40651000,
          39125000,
          39135000,
          36946000,
          35092000,
          34466000,
          34780000,
          34501000,
          33449000,
          33007000,
          33913000,
          34059000
         ],
         "yaxis": "y"
        }
       ],
       "layout": {
        "legend": {
         "tracegroupgap": 0
        },
        "margin": {
         "t": 60
        },
        "template": {
         "data": {
          "bar": [
           {
            "error_x": {
             "color": "#2a3f5f"
            },
            "error_y": {
             "color": "#2a3f5f"
            },
            "marker": {
             "line": {
              "color": "#E5ECF6",
              "width": 0.5
             },
             "pattern": {
              "fillmode": "overlay",
              "size": 10,
              "solidity": 0.2
             }
            },
            "type": "bar"
           }
          ],
          "barpolar": [
           {
            "marker": {
             "line": {
              "color": "#E5ECF6",
              "width": 0.5
             },
             "pattern": {
              "fillmode": "overlay",
              "size": 10,
              "solidity": 0.2
             }
            },
            "type": "barpolar"
           }
          ],
          "carpet": [
           {
            "aaxis": {
             "endlinecolor": "#2a3f5f",
             "gridcolor": "white",
             "linecolor": "white",
             "minorgridcolor": "white",
             "startlinecolor": "#2a3f5f"
            },
            "baxis": {
             "endlinecolor": "#2a3f5f",
             "gridcolor": "white",
             "linecolor": "white",
             "minorgridcolor": "white",
             "startlinecolor": "#2a3f5f"
            },
            "type": "carpet"
           }
          ],
          "choropleth": [
           {
            "colorbar": {
             "outlinewidth": 0,
             "ticks": ""
            },
            "type": "choropleth"
           }
          ],
          "contour": [
           {
            "colorbar": {
             "outlinewidth": 0,
             "ticks": ""
            },
            "colorscale": [
             [
              0,
              "#0d0887"
             ],
             [
              0.1111111111111111,
              "#46039f"
             ],
             [
              0.2222222222222222,
              "#7201a8"
             ],
             [
              0.3333333333333333,
              "#9c179e"
             ],
             [
              0.4444444444444444,
              "#bd3786"
             ],
             [
              0.5555555555555556,
              "#d8576b"
             ],
             [
              0.6666666666666666,
              "#ed7953"
             ],
             [
              0.7777777777777778,
              "#fb9f3a"
             ],
             [
              0.8888888888888888,
              "#fdca26"
             ],
             [
              1,
              "#f0f921"
             ]
            ],
            "type": "contour"
           }
          ],
          "contourcarpet": [
           {
            "colorbar": {
             "outlinewidth": 0,
             "ticks": ""
            },
            "type": "contourcarpet"
           }
          ],
          "heatmap": [
           {
            "colorbar": {
             "outlinewidth": 0,
             "ticks": ""
            },
            "colorscale": [
             [
              0,
              "#0d0887"
             ],
             [
              0.1111111111111111,
              "#46039f"
             ],
             [
              0.2222222222222222,
              "#7201a8"
             ],
             [
              0.3333333333333333,
              "#9c179e"
             ],
             [
              0.4444444444444444,
              "#bd3786"
             ],
             [
              0.5555555555555556,
              "#d8576b"
             ],
             [
              0.6666666666666666,
              "#ed7953"
             ],
             [
              0.7777777777777778,
              "#fb9f3a"
             ],
             [
              0.8888888888888888,
              "#fdca26"
             ],
             [
              1,
              "#f0f921"
             ]
            ],
            "type": "heatmap"
           }
          ],
          "heatmapgl": [
           {
            "colorbar": {
             "outlinewidth": 0,
             "ticks": ""
            },
            "colorscale": [
             [
              0,
              "#0d0887"
             ],
             [
              0.1111111111111111,
              "#46039f"
             ],
             [
              0.2222222222222222,
              "#7201a8"
             ],
             [
              0.3333333333333333,
              "#9c179e"
             ],
             [
              0.4444444444444444,
              "#bd3786"
             ],
             [
              0.5555555555555556,
              "#d8576b"
             ],
             [
              0.6666666666666666,
              "#ed7953"
             ],
             [
              0.7777777777777778,
              "#fb9f3a"
             ],
             [
              0.8888888888888888,
              "#fdca26"
             ],
             [
              1,
              "#f0f921"
             ]
            ],
            "type": "heatmapgl"
           }
          ],
          "histogram": [
           {
            "marker": {
             "pattern": {
              "fillmode": "overlay",
              "size": 10,
              "solidity": 0.2
             }
            },
            "type": "histogram"
           }
          ],
          "histogram2d": [
           {
            "colorbar": {
             "outlinewidth": 0,
             "ticks": ""
            },
            "colorscale": [
             [
              0,
              "#0d0887"
             ],
             [
              0.1111111111111111,
              "#46039f"
             ],
             [
              0.2222222222222222,
              "#7201a8"
             ],
             [
              0.3333333333333333,
              "#9c179e"
             ],
             [
              0.4444444444444444,
              "#bd3786"
             ],
             [
              0.5555555555555556,
              "#d8576b"
             ],
             [
              0.6666666666666666,
              "#ed7953"
             ],
             [
              0.7777777777777778,
              "#fb9f3a"
             ],
             [
              0.8888888888888888,
              "#fdca26"
             ],
             [
              1,
              "#f0f921"
             ]
            ],
            "type": "histogram2d"
           }
          ],
          "histogram2dcontour": [
           {
            "colorbar": {
             "outlinewidth": 0,
             "ticks": ""
            },
            "colorscale": [
             [
              0,
              "#0d0887"
             ],
             [
              0.1111111111111111,
              "#46039f"
             ],
             [
              0.2222222222222222,
              "#7201a8"
             ],
             [
              0.3333333333333333,
              "#9c179e"
             ],
             [
              0.4444444444444444,
              "#bd3786"
             ],
             [
              0.5555555555555556,
              "#d8576b"
             ],
             [
              0.6666666666666666,
              "#ed7953"
             ],
             [
              0.7777777777777778,
              "#fb9f3a"
             ],
             [
              0.8888888888888888,
              "#fdca26"
             ],
             [
              1,
              "#f0f921"
             ]
            ],
            "type": "histogram2dcontour"
           }
          ],
          "mesh3d": [
           {
            "colorbar": {
             "outlinewidth": 0,
             "ticks": ""
            },
            "type": "mesh3d"
           }
          ],
          "parcoords": [
           {
            "line": {
             "colorbar": {
              "outlinewidth": 0,
              "ticks": ""
             }
            },
            "type": "parcoords"
           }
          ],
          "pie": [
           {
            "automargin": true,
            "type": "pie"
           }
          ],
          "scatter": [
           {
            "fillpattern": {
             "fillmode": "overlay",
             "size": 10,
             "solidity": 0.2
            },
            "type": "scatter"
           }
          ],
          "scatter3d": [
           {
            "line": {
             "colorbar": {
              "outlinewidth": 0,
              "ticks": ""
             }
            },
            "marker": {
             "colorbar": {
              "outlinewidth": 0,
              "ticks": ""
             }
            },
            "type": "scatter3d"
           }
          ],
          "scattercarpet": [
           {
            "marker": {
             "colorbar": {
              "outlinewidth": 0,
              "ticks": ""
             }
            },
            "type": "scattercarpet"
           }
          ],
          "scattergeo": [
           {
            "marker": {
             "colorbar": {
              "outlinewidth": 0,
              "ticks": ""
             }
            },
            "type": "scattergeo"
           }
          ],
          "scattergl": [
           {
            "marker": {
             "colorbar": {
              "outlinewidth": 0,
              "ticks": ""
             }
            },
            "type": "scattergl"
           }
          ],
          "scattermapbox": [
           {
            "marker": {
             "colorbar": {
              "outlinewidth": 0,
              "ticks": ""
             }
            },
            "type": "scattermapbox"
           }
          ],
          "scatterpolar": [
           {
            "marker": {
             "colorbar": {
              "outlinewidth": 0,
              "ticks": ""
             }
            },
            "type": "scatterpolar"
           }
          ],
          "scatterpolargl": [
           {
            "marker": {
             "colorbar": {
              "outlinewidth": 0,
              "ticks": ""
             }
            },
            "type": "scatterpolargl"
           }
          ],
          "scatterternary": [
           {
            "marker": {
             "colorbar": {
              "outlinewidth": 0,
              "ticks": ""
             }
            },
            "type": "scatterternary"
           }
          ],
          "surface": [
           {
            "colorbar": {
             "outlinewidth": 0,
             "ticks": ""
            },
            "colorscale": [
             [
              0,
              "#0d0887"
             ],
             [
              0.1111111111111111,
              "#46039f"
             ],
             [
              0.2222222222222222,
              "#7201a8"
             ],
             [
              0.3333333333333333,
              "#9c179e"
             ],
             [
              0.4444444444444444,
              "#bd3786"
             ],
             [
              0.5555555555555556,
              "#d8576b"
             ],
             [
              0.6666666666666666,
              "#ed7953"
             ],
             [
              0.7777777777777778,
              "#fb9f3a"
             ],
             [
              0.8888888888888888,
              "#fdca26"
             ],
             [
              1,
              "#f0f921"
             ]
            ],
            "type": "surface"
           }
          ],
          "table": [
           {
            "cells": {
             "fill": {
              "color": "#EBF0F8"
             },
             "line": {
              "color": "white"
             }
            },
            "header": {
             "fill": {
              "color": "#C8D4E3"
             },
             "line": {
              "color": "white"
             }
            },
            "type": "table"
           }
          ]
         },
         "layout": {
          "annotationdefaults": {
           "arrowcolor": "#2a3f5f",
           "arrowhead": 0,
           "arrowwidth": 1
          },
          "autotypenumbers": "strict",
          "coloraxis": {
           "colorbar": {
            "outlinewidth": 0,
            "ticks": ""
           }
          },
          "colorscale": {
           "diverging": [
            [
             0,
             "#8e0152"
            ],
            [
             0.1,
             "#c51b7d"
            ],
            [
             0.2,
             "#de77ae"
            ],
            [
             0.3,
             "#f1b6da"
            ],
            [
             0.4,
             "#fde0ef"
            ],
            [
             0.5,
             "#f7f7f7"
            ],
            [
             0.6,
             "#e6f5d0"
            ],
            [
             0.7,
             "#b8e186"
            ],
            [
             0.8,
             "#7fbc41"
            ],
            [
             0.9,
             "#4d9221"
            ],
            [
             1,
             "#276419"
            ]
           ],
           "sequential": [
            [
             0,
             "#0d0887"
            ],
            [
             0.1111111111111111,
             "#46039f"
            ],
            [
             0.2222222222222222,
             "#7201a8"
            ],
            [
             0.3333333333333333,
             "#9c179e"
            ],
            [
             0.4444444444444444,
             "#bd3786"
            ],
            [
             0.5555555555555556,
             "#d8576b"
            ],
            [
             0.6666666666666666,
             "#ed7953"
            ],
            [
             0.7777777777777778,
             "#fb9f3a"
            ],
            [
             0.8888888888888888,
             "#fdca26"
            ],
            [
             1,
             "#f0f921"
            ]
           ],
           "sequentialminus": [
            [
             0,
             "#0d0887"
            ],
            [
             0.1111111111111111,
             "#46039f"
            ],
            [
             0.2222222222222222,
             "#7201a8"
            ],
            [
             0.3333333333333333,
             "#9c179e"
            ],
            [
             0.4444444444444444,
             "#bd3786"
            ],
            [
             0.5555555555555556,
             "#d8576b"
            ],
            [
             0.6666666666666666,
             "#ed7953"
            ],
            [
             0.7777777777777778,
             "#fb9f3a"
            ],
            [
             0.8888888888888888,
             "#fdca26"
            ],
            [
             1,
             "#f0f921"
            ]
           ]
          },
          "colorway": [
           "#636efa",
           "#EF553B",
           "#00cc96",
           "#ab63fa",
           "#FFA15A",
           "#19d3f3",
           "#FF6692",
           "#B6E880",
           "#FF97FF",
           "#FECB52"
          ],
          "font": {
           "color": "#2a3f5f"
          },
          "geo": {
           "bgcolor": "white",
           "lakecolor": "white",
           "landcolor": "#E5ECF6",
           "showlakes": true,
           "showland": true,
           "subunitcolor": "white"
          },
          "hoverlabel": {
           "align": "left"
          },
          "hovermode": "closest",
          "mapbox": {
           "style": "light"
          },
          "paper_bgcolor": "white",
          "plot_bgcolor": "#E5ECF6",
          "polar": {
           "angularaxis": {
            "gridcolor": "white",
            "linecolor": "white",
            "ticks": ""
           },
           "bgcolor": "#E5ECF6",
           "radialaxis": {
            "gridcolor": "white",
            "linecolor": "white",
            "ticks": ""
           }
          },
          "scene": {
           "xaxis": {
            "backgroundcolor": "#E5ECF6",
            "gridcolor": "white",
            "gridwidth": 2,
            "linecolor": "white",
            "showbackground": true,
            "ticks": "",
            "zerolinecolor": "white"
           },
           "yaxis": {
            "backgroundcolor": "#E5ECF6",
            "gridcolor": "white",
            "gridwidth": 2,
            "linecolor": "white",
            "showbackground": true,
            "ticks": "",
            "zerolinecolor": "white"
           },
           "zaxis": {
            "backgroundcolor": "#E5ECF6",
            "gridcolor": "white",
            "gridwidth": 2,
            "linecolor": "white",
            "showbackground": true,
            "ticks": "",
            "zerolinecolor": "white"
           }
          },
          "shapedefaults": {
           "line": {
            "color": "#2a3f5f"
           }
          },
          "ternary": {
           "aaxis": {
            "gridcolor": "white",
            "linecolor": "white",
            "ticks": ""
           },
           "baxis": {
            "gridcolor": "white",
            "linecolor": "white",
            "ticks": ""
           },
           "bgcolor": "#E5ECF6",
           "caxis": {
            "gridcolor": "white",
            "linecolor": "white",
            "ticks": ""
           }
          },
          "title": {
           "x": 0.05
          },
          "xaxis": {
           "automargin": true,
           "gridcolor": "white",
           "linecolor": "white",
           "ticks": "",
           "title": {
            "standoff": 15
           },
           "zerolinecolor": "white",
           "zerolinewidth": 2
          },
          "yaxis": {
           "automargin": true,
           "gridcolor": "white",
           "linecolor": "white",
           "ticks": "",
           "title": {
            "standoff": 15
           },
           "zerolinecolor": "white",
           "zerolinewidth": 2
          }
         }
        },
        "xaxis": {
         "anchor": "y",
         "domain": [
          0,
          1
         ],
         "title": {
          "text": "candle_date_time_kst"
         }
        },
        "yaxis": {
         "anchor": "x",
         "domain": [
          0,
          1
         ],
         "title": {
          "text": "trade_price"
         }
        }
       }
      },
      "text/html": [
       "<div>                            <div id=\"0710c1b7-fc08-4bad-a813-30aa5e3dd2b2\" class=\"plotly-graph-div\" style=\"height:525px; width:100%;\"></div>            <script type=\"text/javascript\">                require([\"plotly\"], function(Plotly) {                    window.PLOTLYENV=window.PLOTLYENV || {};                                    if (document.getElementById(\"0710c1b7-fc08-4bad-a813-30aa5e3dd2b2\")) {                    Plotly.newPlot(                        \"0710c1b7-fc08-4bad-a813-30aa5e3dd2b2\",                        [{\"hovertemplate\":\"candle_date_time_kst=%{x}<br>trade_price=%{y}<extra></extra>\",\"legendgroup\":\"\",\"marker\":{\"color\":\"#636efa\",\"symbol\":\"circle\"},\"mode\":\"markers\",\"name\":\"\",\"orientation\":\"v\",\"showlegend\":false,\"x\":[\"2023-12-28\",\"2023-12-27\",\"2023-12-26\",\"2023-12-25\",\"2023-12-24\",\"2023-12-23\",\"2023-12-22\",\"2023-12-21\",\"2023-12-20\",\"2023-12-19\",\"2023-12-18\",\"2023-12-17\",\"2023-12-16\",\"2023-12-15\",\"2023-12-14\",\"2023-12-13\",\"2023-12-12\",\"2023-12-11\",\"2023-12-10\",\"2023-12-09\",\"2023-12-08\",\"2023-12-07\",\"2023-12-06\",\"2023-12-05\",\"2023-12-04\",\"2023-12-03\",\"2023-12-02\",\"2023-12-01\",\"2023-11-30\",\"2023-11-29\",\"2023-11-28\",\"2023-11-27\",\"2023-11-26\",\"2023-11-25\",\"2023-11-24\",\"2023-11-23\",\"2023-11-22\",\"2023-11-21\",\"2023-11-20\",\"2023-11-19\",\"2023-11-18\",\"2023-11-17\",\"2023-11-16\",\"2023-11-15\",\"2023-11-14\",\"2023-11-13\",\"2023-11-12\",\"2023-11-11\",\"2023-11-10\",\"2023-11-09\",\"2023-11-08\",\"2023-11-07\",\"2023-11-06\",\"2023-11-05\",\"2023-11-04\",\"2023-11-03\",\"2023-11-02\",\"2023-11-01\",\"2023-10-31\",\"2023-10-30\",\"2023-10-29\",\"2023-10-28\",\"2023-10-27\",\"2023-10-26\",\"2023-10-25\",\"2023-10-24\",\"2023-10-23\",\"2023-10-22\",\"2023-10-21\",\"2023-10-20\",\"2023-10-19\",\"2023-10-18\",\"2023-10-17\",\"2023-10-16\",\"2023-10-15\",\"2023-10-14\",\"2023-10-13\",\"2023-10-12\",\"2023-10-11\",\"2023-10-10\",\"2023-10-09\",\"2023-10-08\",\"2023-10-07\",\"2023-10-06\",\"2023-10-05\",\"2023-10-04\",\"2023-10-03\",\"2023-10-02\",\"2023-10-01\",\"2023-09-30\",\"2023-09-29\",\"2023-09-28\",\"2023-09-27\",\"2023-09-26\",\"2023-09-25\",\"2023-09-24\",\"2023-09-23\",\"2023-09-22\",\"2023-09-21\",\"2023-09-20\",\"2023-09-19\",\"2023-09-18\",\"2023-09-17\",\"2023-09-16\",\"2023-09-15\",\"2023-09-14\",\"2023-09-13\",\"2023-09-12\",\"2023-09-11\",\"2023-09-10\",\"2023-09-09\",\"2023-09-08\",\"2023-09-07\",\"2023-09-06\",\"2023-09-05\",\"2023-09-04\",\"2023-09-03\",\"2023-09-02\",\"2023-09-01\",\"2023-08-31\",\"2023-08-30\",\"2023-08-29\",\"2023-08-28\",\"2023-08-27\",\"2023-08-26\",\"2023-08-25\",\"2023-08-24\",\"2023-08-23\",\"2023-08-22\",\"2023-08-21\",\"2023-08-20\",\"2023-08-19\",\"2023-08-18\",\"2023-08-17\",\"2023-08-16\",\"2023-08-15\",\"2023-08-14\",\"2023-08-13\",\"2023-08-12\",\"2023-08-11\",\"2023-08-10\",\"2023-08-09\",\"2023-08-08\",\"2023-08-07\",\"2023-08-06\",\"2023-08-05\",\"2023-08-04\",\"2023-08-03\",\"2023-08-02\",\"2023-08-01\",\"2023-07-31\",\"2023-07-30\",\"2023-07-29\",\"2023-07-28\",\"2023-07-27\",\"2023-07-26\",\"2023-07-25\",\"2023-07-24\",\"2023-07-23\",\"2023-07-22\",\"2023-07-21\",\"2023-07-20\",\"2023-07-19\",\"2023-07-18\",\"2023-07-17\",\"2023-07-16\",\"2023-07-15\",\"2023-07-14\",\"2023-07-13\",\"2023-07-12\",\"2023-07-11\",\"2023-07-10\",\"2023-07-09\",\"2023-07-08\",\"2023-07-07\",\"2023-07-06\",\"2023-07-05\",\"2023-07-04\",\"2023-07-03\",\"2023-07-02\",\"2023-07-01\",\"2023-06-30\",\"2023-06-29\",\"2023-06-28\",\"2023-06-27\",\"2023-06-26\",\"2023-06-25\",\"2023-06-24\",\"2023-06-23\",\"2023-06-22\",\"2023-06-21\",\"2023-06-20\",\"2023-06-19\",\"2023-06-18\",\"2023-06-17\",\"2023-06-16\",\"2023-06-15\",\"2023-06-14\",\"2023-06-13\",\"2023-06-12\"],\"xaxis\":\"x\",\"y\":[57741000.0,57920000.0,57032000.0,58042000.0,58002000.0,59250000.0,59532000.0,59479000.0,59351000.0,57845000.0,58130000.0,56710000.0,57935000.0,58028000.0,58735000.0,59056000.0,57605000.0,56950000.0,59835000.0,60082000.0,60142000.0,59250000.0,60314000.0,60227000.0,56920000.0,53700000.0,52603000.0,51709000.0,50586000.0,50720000.0,50576000.0,50275000.0,50210000.0,50533000.0,50601000.0,49929000.0,50042000.0,48510000.0,50170000.0,49800000.0,49165000.0,49390000.0,48868000.0,50457000.0,47969000.0,49154000.0,49418000.0,49629000.0,50030000.0,49400000.0,47458000.0,47301000.0,46781000.0,47056000.0,47050000.0,46676000.0,47516000.0,48079000.0,47030000.0,46732000.0,46825000.0,46314000.0,45980000.0,46141000.0,46484000.0,45599000.0,44179000.0,40354000.0,40400000.0,40250000.0,39000000.0,38710000.0,38652000.0,38697000.0,37086000.0,36790000.0,36968000.0,36750000.0,36671000.0,37336000.0,37595000.0,37929000.0,37902000.0,37798000.0,37258000.0,37595000.0,37197000.0,37424000.0,37789000.0,36600000.0,36444000.0,36596000.0,35982000.0,35566000.0,35491000.0,35534000.0,35960000.0,35952000.0,36012000.0,36501000.0,36500000.0,36000000.0,35758000.0,35938000.0,35928000.0,35889000.0,35497000.0,35077000.0,34327000.0,35196000.0,35280000.0,35295000.0,35615000.0,35029000.0,35056000.0,35011000.0,35308000.0,35204000.0,35350000.0,35502000.0,37109000.0,37445000.0,35335000.0,35402000.0,35398000.0,35479000.0,35635000.0,35941000.0,35684000.0,35769000.0,35949000.0,36056000.0,35890000.0,36588000.0,39001000.0,39404000.0,39288000.0,39118000.0,39283000.0,39233000.0,39119000.0,39209000.0,39437000.0,38622000.0,38605000.0,38474000.0,38492000.0,38436000.0,38358000.0,38642000.0,37929000.0,37850000.0,37901000.0,37932000.0,37874000.0,37918000.0,37910000.0,37892000.0,38945000.0,38776000.0,38829000.0,38567000.0,38323000.0,38401000.0,38742000.0,38933000.0,38889000.0,39092000.0,40112000.0,39804000.0,40117000.0,40050000.0,39832000.0,40153000.0,40240000.0,39860000.0,40385000.0,40610000.0,41200000.0,40652000.0,40691000.0,40547000.0,40583000.0,40020000.0,40585000.0,40077000.0,40352000.0,40659000.0,40651000.0,39125000.0,39135000.0,36946000.0,35092000.0,34466000.0,34780000.0,34501000.0,33449000.0,33007000.0,33913000.0,34059000.0],\"yaxis\":\"y\",\"type\":\"scatter\"}],                        {\"legend\":{\"tracegroupgap\":0},\"margin\":{\"t\":60},\"template\":{\"data\":{\"barpolar\":[{\"marker\":{\"line\":{\"color\":\"#E5ECF6\",\"width\":0.5},\"pattern\":{\"fillmode\":\"overlay\",\"size\":10,\"solidity\":0.2}},\"type\":\"barpolar\"}],\"bar\":[{\"error_x\":{\"color\":\"#2a3f5f\"},\"error_y\":{\"color\":\"#2a3f5f\"},\"marker\":{\"line\":{\"color\":\"#E5ECF6\",\"width\":0.5},\"pattern\":{\"fillmode\":\"overlay\",\"size\":10,\"solidity\":0.2}},\"type\":\"bar\"}],\"carpet\":[{\"aaxis\":{\"endlinecolor\":\"#2a3f5f\",\"gridcolor\":\"white\",\"linecolor\":\"white\",\"minorgridcolor\":\"white\",\"startlinecolor\":\"#2a3f5f\"},\"baxis\":{\"endlinecolor\":\"#2a3f5f\",\"gridcolor\":\"white\",\"linecolor\":\"white\",\"minorgridcolor\":\"white\",\"startlinecolor\":\"#2a3f5f\"},\"type\":\"carpet\"}],\"choropleth\":[{\"colorbar\":{\"outlinewidth\":0,\"ticks\":\"\"},\"type\":\"choropleth\"}],\"contourcarpet\":[{\"colorbar\":{\"outlinewidth\":0,\"ticks\":\"\"},\"type\":\"contourcarpet\"}],\"contour\":[{\"colorbar\":{\"outlinewidth\":0,\"ticks\":\"\"},\"colorscale\":[[0.0,\"#0d0887\"],[0.1111111111111111,\"#46039f\"],[0.2222222222222222,\"#7201a8\"],[0.3333333333333333,\"#9c179e\"],[0.4444444444444444,\"#bd3786\"],[0.5555555555555556,\"#d8576b\"],[0.6666666666666666,\"#ed7953\"],[0.7777777777777778,\"#fb9f3a\"],[0.8888888888888888,\"#fdca26\"],[1.0,\"#f0f921\"]],\"type\":\"contour\"}],\"heatmapgl\":[{\"colorbar\":{\"outlinewidth\":0,\"ticks\":\"\"},\"colorscale\":[[0.0,\"#0d0887\"],[0.1111111111111111,\"#46039f\"],[0.2222222222222222,\"#7201a8\"],[0.3333333333333333,\"#9c179e\"],[0.4444444444444444,\"#bd3786\"],[0.5555555555555556,\"#d8576b\"],[0.6666666666666666,\"#ed7953\"],[0.7777777777777778,\"#fb9f3a\"],[0.8888888888888888,\"#fdca26\"],[1.0,\"#f0f921\"]],\"type\":\"heatmapgl\"}],\"heatmap\":[{\"colorbar\":{\"outlinewidth\":0,\"ticks\":\"\"},\"colorscale\":[[0.0,\"#0d0887\"],[0.1111111111111111,\"#46039f\"],[0.2222222222222222,\"#7201a8\"],[0.3333333333333333,\"#9c179e\"],[0.4444444444444444,\"#bd3786\"],[0.5555555555555556,\"#d8576b\"],[0.6666666666666666,\"#ed7953\"],[0.7777777777777778,\"#fb9f3a\"],[0.8888888888888888,\"#fdca26\"],[1.0,\"#f0f921\"]],\"type\":\"heatmap\"}],\"histogram2dcontour\":[{\"colorbar\":{\"outlinewidth\":0,\"ticks\":\"\"},\"colorscale\":[[0.0,\"#0d0887\"],[0.1111111111111111,\"#46039f\"],[0.2222222222222222,\"#7201a8\"],[0.3333333333333333,\"#9c179e\"],[0.4444444444444444,\"#bd3786\"],[0.5555555555555556,\"#d8576b\"],[0.6666666666666666,\"#ed7953\"],[0.7777777777777778,\"#fb9f3a\"],[0.8888888888888888,\"#fdca26\"],[1.0,\"#f0f921\"]],\"type\":\"histogram2dcontour\"}],\"histogram2d\":[{\"colorbar\":{\"outlinewidth\":0,\"ticks\":\"\"},\"colorscale\":[[0.0,\"#0d0887\"],[0.1111111111111111,\"#46039f\"],[0.2222222222222222,\"#7201a8\"],[0.3333333333333333,\"#9c179e\"],[0.4444444444444444,\"#bd3786\"],[0.5555555555555556,\"#d8576b\"],[0.6666666666666666,\"#ed7953\"],[0.7777777777777778,\"#fb9f3a\"],[0.8888888888888888,\"#fdca26\"],[1.0,\"#f0f921\"]],\"type\":\"histogram2d\"}],\"histogram\":[{\"marker\":{\"pattern\":{\"fillmode\":\"overlay\",\"size\":10,\"solidity\":0.2}},\"type\":\"histogram\"}],\"mesh3d\":[{\"colorbar\":{\"outlinewidth\":0,\"ticks\":\"\"},\"type\":\"mesh3d\"}],\"parcoords\":[{\"line\":{\"colorbar\":{\"outlinewidth\":0,\"ticks\":\"\"}},\"type\":\"parcoords\"}],\"pie\":[{\"automargin\":true,\"type\":\"pie\"}],\"scatter3d\":[{\"line\":{\"colorbar\":{\"outlinewidth\":0,\"ticks\":\"\"}},\"marker\":{\"colorbar\":{\"outlinewidth\":0,\"ticks\":\"\"}},\"type\":\"scatter3d\"}],\"scattercarpet\":[{\"marker\":{\"colorbar\":{\"outlinewidth\":0,\"ticks\":\"\"}},\"type\":\"scattercarpet\"}],\"scattergeo\":[{\"marker\":{\"colorbar\":{\"outlinewidth\":0,\"ticks\":\"\"}},\"type\":\"scattergeo\"}],\"scattergl\":[{\"marker\":{\"colorbar\":{\"outlinewidth\":0,\"ticks\":\"\"}},\"type\":\"scattergl\"}],\"scattermapbox\":[{\"marker\":{\"colorbar\":{\"outlinewidth\":0,\"ticks\":\"\"}},\"type\":\"scattermapbox\"}],\"scatterpolargl\":[{\"marker\":{\"colorbar\":{\"outlinewidth\":0,\"ticks\":\"\"}},\"type\":\"scatterpolargl\"}],\"scatterpolar\":[{\"marker\":{\"colorbar\":{\"outlinewidth\":0,\"ticks\":\"\"}},\"type\":\"scatterpolar\"}],\"scatter\":[{\"fillpattern\":{\"fillmode\":\"overlay\",\"size\":10,\"solidity\":0.2},\"type\":\"scatter\"}],\"scatterternary\":[{\"marker\":{\"colorbar\":{\"outlinewidth\":0,\"ticks\":\"\"}},\"type\":\"scatterternary\"}],\"surface\":[{\"colorbar\":{\"outlinewidth\":0,\"ticks\":\"\"},\"colorscale\":[[0.0,\"#0d0887\"],[0.1111111111111111,\"#46039f\"],[0.2222222222222222,\"#7201a8\"],[0.3333333333333333,\"#9c179e\"],[0.4444444444444444,\"#bd3786\"],[0.5555555555555556,\"#d8576b\"],[0.6666666666666666,\"#ed7953\"],[0.7777777777777778,\"#fb9f3a\"],[0.8888888888888888,\"#fdca26\"],[1.0,\"#f0f921\"]],\"type\":\"surface\"}],\"table\":[{\"cells\":{\"fill\":{\"color\":\"#EBF0F8\"},\"line\":{\"color\":\"white\"}},\"header\":{\"fill\":{\"color\":\"#C8D4E3\"},\"line\":{\"color\":\"white\"}},\"type\":\"table\"}]},\"layout\":{\"annotationdefaults\":{\"arrowcolor\":\"#2a3f5f\",\"arrowhead\":0,\"arrowwidth\":1},\"autotypenumbers\":\"strict\",\"coloraxis\":{\"colorbar\":{\"outlinewidth\":0,\"ticks\":\"\"}},\"colorscale\":{\"diverging\":[[0,\"#8e0152\"],[0.1,\"#c51b7d\"],[0.2,\"#de77ae\"],[0.3,\"#f1b6da\"],[0.4,\"#fde0ef\"],[0.5,\"#f7f7f7\"],[0.6,\"#e6f5d0\"],[0.7,\"#b8e186\"],[0.8,\"#7fbc41\"],[0.9,\"#4d9221\"],[1,\"#276419\"]],\"sequential\":[[0.0,\"#0d0887\"],[0.1111111111111111,\"#46039f\"],[0.2222222222222222,\"#7201a8\"],[0.3333333333333333,\"#9c179e\"],[0.4444444444444444,\"#bd3786\"],[0.5555555555555556,\"#d8576b\"],[0.6666666666666666,\"#ed7953\"],[0.7777777777777778,\"#fb9f3a\"],[0.8888888888888888,\"#fdca26\"],[1.0,\"#f0f921\"]],\"sequentialminus\":[[0.0,\"#0d0887\"],[0.1111111111111111,\"#46039f\"],[0.2222222222222222,\"#7201a8\"],[0.3333333333333333,\"#9c179e\"],[0.4444444444444444,\"#bd3786\"],[0.5555555555555556,\"#d8576b\"],[0.6666666666666666,\"#ed7953\"],[0.7777777777777778,\"#fb9f3a\"],[0.8888888888888888,\"#fdca26\"],[1.0,\"#f0f921\"]]},\"colorway\":[\"#636efa\",\"#EF553B\",\"#00cc96\",\"#ab63fa\",\"#FFA15A\",\"#19d3f3\",\"#FF6692\",\"#B6E880\",\"#FF97FF\",\"#FECB52\"],\"font\":{\"color\":\"#2a3f5f\"},\"geo\":{\"bgcolor\":\"white\",\"lakecolor\":\"white\",\"landcolor\":\"#E5ECF6\",\"showlakes\":true,\"showland\":true,\"subunitcolor\":\"white\"},\"hoverlabel\":{\"align\":\"left\"},\"hovermode\":\"closest\",\"mapbox\":{\"style\":\"light\"},\"paper_bgcolor\":\"white\",\"plot_bgcolor\":\"#E5ECF6\",\"polar\":{\"angularaxis\":{\"gridcolor\":\"white\",\"linecolor\":\"white\",\"ticks\":\"\"},\"bgcolor\":\"#E5ECF6\",\"radialaxis\":{\"gridcolor\":\"white\",\"linecolor\":\"white\",\"ticks\":\"\"}},\"scene\":{\"xaxis\":{\"backgroundcolor\":\"#E5ECF6\",\"gridcolor\":\"white\",\"gridwidth\":2,\"linecolor\":\"white\",\"showbackground\":true,\"ticks\":\"\",\"zerolinecolor\":\"white\"},\"yaxis\":{\"backgroundcolor\":\"#E5ECF6\",\"gridcolor\":\"white\",\"gridwidth\":2,\"linecolor\":\"white\",\"showbackground\":true,\"ticks\":\"\",\"zerolinecolor\":\"white\"},\"zaxis\":{\"backgroundcolor\":\"#E5ECF6\",\"gridcolor\":\"white\",\"gridwidth\":2,\"linecolor\":\"white\",\"showbackground\":true,\"ticks\":\"\",\"zerolinecolor\":\"white\"}},\"shapedefaults\":{\"line\":{\"color\":\"#2a3f5f\"}},\"ternary\":{\"aaxis\":{\"gridcolor\":\"white\",\"linecolor\":\"white\",\"ticks\":\"\"},\"baxis\":{\"gridcolor\":\"white\",\"linecolor\":\"white\",\"ticks\":\"\"},\"bgcolor\":\"#E5ECF6\",\"caxis\":{\"gridcolor\":\"white\",\"linecolor\":\"white\",\"ticks\":\"\"}},\"title\":{\"x\":0.05},\"xaxis\":{\"automargin\":true,\"gridcolor\":\"white\",\"linecolor\":\"white\",\"ticks\":\"\",\"title\":{\"standoff\":15},\"zerolinecolor\":\"white\",\"zerolinewidth\":2},\"yaxis\":{\"automargin\":true,\"gridcolor\":\"white\",\"linecolor\":\"white\",\"ticks\":\"\",\"title\":{\"standoff\":15},\"zerolinecolor\":\"white\",\"zerolinewidth\":2}}},\"xaxis\":{\"anchor\":\"y\",\"domain\":[0.0,1.0],\"title\":{\"text\":\"candle_date_time_kst\"}},\"yaxis\":{\"anchor\":\"x\",\"domain\":[0.0,1.0],\"title\":{\"text\":\"trade_price\"}}},                        {\"responsive\": true}                    ).then(function(){\n",
       "                            \n",
       "var gd = document.getElementById('0710c1b7-fc08-4bad-a813-30aa5e3dd2b2');\n",
       "var x = new MutationObserver(function (mutations, observer) {{\n",
       "        var display = window.getComputedStyle(gd).display;\n",
       "        if (!display || display === 'none') {{\n",
       "            console.log([gd, 'removed!']);\n",
       "            Plotly.purge(gd);\n",
       "            observer.disconnect();\n",
       "        }}\n",
       "}});\n",
       "\n",
       "// Listen for the removal of the full notebook cells\n",
       "var notebookContainer = gd.closest('#notebook-container');\n",
       "if (notebookContainer) {{\n",
       "    x.observe(notebookContainer, {childList: true});\n",
       "}}\n",
       "\n",
       "// Listen for the clearing of the current output cell\n",
       "var outputEl = gd.closest('.output');\n",
       "if (outputEl) {{\n",
       "    x.observe(outputEl, {childList: true});\n",
       "}}\n",
       "\n",
       "                        })                };                });            </script>        </div>"
      ]
     },
     "metadata": {},
     "output_type": "display_data"
    }
   ],
   "source": [
    "fig = px.scatter(my_df[my_df.market=='BTC'],\n",
    "                x = 'candle_date_time_kst',\n",
    "                y = 'trade_price')\n",
    "\n",
    "plotly.offline.iplot(fig)\n",
    "# = fig.show()"
   ]
  },
  {
   "cell_type": "code",
   "execution_count": 176,
   "id": "c195383c",
   "metadata": {},
   "outputs": [
    {
     "data": {
      "application/vnd.plotly.v1+json": {
       "config": {
        "linkText": "Export to plot.ly",
        "plotlyServerURL": "https://plot.ly",
        "showLink": false
       },
       "data": [
        {
         "alignmentgroup": "True",
         "hovertemplate": "candle_date_time_kst=%{x}<br>trade_price=%{y}<extra></extra>",
         "legendgroup": "",
         "marker": {
          "color": "#636efa",
          "pattern": {
           "shape": ""
          }
         },
         "name": "",
         "offsetgroup": "",
         "orientation": "v",
         "showlegend": false,
         "textposition": "auto",
         "type": "bar",
         "x": [
          "2023-06-21",
          "2023-06-20",
          "2023-06-19",
          "2023-06-18",
          "2023-06-17",
          "2023-06-16",
          "2023-06-15",
          "2023-06-14",
          "2023-06-13",
          "2023-06-12"
         ],
         "xaxis": "x",
         "y": [
          39135000,
          36946000,
          35092000,
          34466000,
          34780000,
          34501000,
          33449000,
          33007000,
          33913000,
          34059000
         ],
         "yaxis": "y"
        }
       ],
       "layout": {
        "barmode": "relative",
        "legend": {
         "tracegroupgap": 0
        },
        "margin": {
         "t": 60
        },
        "template": {
         "data": {
          "bar": [
           {
            "error_x": {
             "color": "#2a3f5f"
            },
            "error_y": {
             "color": "#2a3f5f"
            },
            "marker": {
             "line": {
              "color": "#E5ECF6",
              "width": 0.5
             },
             "pattern": {
              "fillmode": "overlay",
              "size": 10,
              "solidity": 0.2
             }
            },
            "type": "bar"
           }
          ],
          "barpolar": [
           {
            "marker": {
             "line": {
              "color": "#E5ECF6",
              "width": 0.5
             },
             "pattern": {
              "fillmode": "overlay",
              "size": 10,
              "solidity": 0.2
             }
            },
            "type": "barpolar"
           }
          ],
          "carpet": [
           {
            "aaxis": {
             "endlinecolor": "#2a3f5f",
             "gridcolor": "white",
             "linecolor": "white",
             "minorgridcolor": "white",
             "startlinecolor": "#2a3f5f"
            },
            "baxis": {
             "endlinecolor": "#2a3f5f",
             "gridcolor": "white",
             "linecolor": "white",
             "minorgridcolor": "white",
             "startlinecolor": "#2a3f5f"
            },
            "type": "carpet"
           }
          ],
          "choropleth": [
           {
            "colorbar": {
             "outlinewidth": 0,
             "ticks": ""
            },
            "type": "choropleth"
           }
          ],
          "contour": [
           {
            "colorbar": {
             "outlinewidth": 0,
             "ticks": ""
            },
            "colorscale": [
             [
              0,
              "#0d0887"
             ],
             [
              0.1111111111111111,
              "#46039f"
             ],
             [
              0.2222222222222222,
              "#7201a8"
             ],
             [
              0.3333333333333333,
              "#9c179e"
             ],
             [
              0.4444444444444444,
              "#bd3786"
             ],
             [
              0.5555555555555556,
              "#d8576b"
             ],
             [
              0.6666666666666666,
              "#ed7953"
             ],
             [
              0.7777777777777778,
              "#fb9f3a"
             ],
             [
              0.8888888888888888,
              "#fdca26"
             ],
             [
              1,
              "#f0f921"
             ]
            ],
            "type": "contour"
           }
          ],
          "contourcarpet": [
           {
            "colorbar": {
             "outlinewidth": 0,
             "ticks": ""
            },
            "type": "contourcarpet"
           }
          ],
          "heatmap": [
           {
            "colorbar": {
             "outlinewidth": 0,
             "ticks": ""
            },
            "colorscale": [
             [
              0,
              "#0d0887"
             ],
             [
              0.1111111111111111,
              "#46039f"
             ],
             [
              0.2222222222222222,
              "#7201a8"
             ],
             [
              0.3333333333333333,
              "#9c179e"
             ],
             [
              0.4444444444444444,
              "#bd3786"
             ],
             [
              0.5555555555555556,
              "#d8576b"
             ],
             [
              0.6666666666666666,
              "#ed7953"
             ],
             [
              0.7777777777777778,
              "#fb9f3a"
             ],
             [
              0.8888888888888888,
              "#fdca26"
             ],
             [
              1,
              "#f0f921"
             ]
            ],
            "type": "heatmap"
           }
          ],
          "heatmapgl": [
           {
            "colorbar": {
             "outlinewidth": 0,
             "ticks": ""
            },
            "colorscale": [
             [
              0,
              "#0d0887"
             ],
             [
              0.1111111111111111,
              "#46039f"
             ],
             [
              0.2222222222222222,
              "#7201a8"
             ],
             [
              0.3333333333333333,
              "#9c179e"
             ],
             [
              0.4444444444444444,
              "#bd3786"
             ],
             [
              0.5555555555555556,
              "#d8576b"
             ],
             [
              0.6666666666666666,
              "#ed7953"
             ],
             [
              0.7777777777777778,
              "#fb9f3a"
             ],
             [
              0.8888888888888888,
              "#fdca26"
             ],
             [
              1,
              "#f0f921"
             ]
            ],
            "type": "heatmapgl"
           }
          ],
          "histogram": [
           {
            "marker": {
             "pattern": {
              "fillmode": "overlay",
              "size": 10,
              "solidity": 0.2
             }
            },
            "type": "histogram"
           }
          ],
          "histogram2d": [
           {
            "colorbar": {
             "outlinewidth": 0,
             "ticks": ""
            },
            "colorscale": [
             [
              0,
              "#0d0887"
             ],
             [
              0.1111111111111111,
              "#46039f"
             ],
             [
              0.2222222222222222,
              "#7201a8"
             ],
             [
              0.3333333333333333,
              "#9c179e"
             ],
             [
              0.4444444444444444,
              "#bd3786"
             ],
             [
              0.5555555555555556,
              "#d8576b"
             ],
             [
              0.6666666666666666,
              "#ed7953"
             ],
             [
              0.7777777777777778,
              "#fb9f3a"
             ],
             [
              0.8888888888888888,
              "#fdca26"
             ],
             [
              1,
              "#f0f921"
             ]
            ],
            "type": "histogram2d"
           }
          ],
          "histogram2dcontour": [
           {
            "colorbar": {
             "outlinewidth": 0,
             "ticks": ""
            },
            "colorscale": [
             [
              0,
              "#0d0887"
             ],
             [
              0.1111111111111111,
              "#46039f"
             ],
             [
              0.2222222222222222,
              "#7201a8"
             ],
             [
              0.3333333333333333,
              "#9c179e"
             ],
             [
              0.4444444444444444,
              "#bd3786"
             ],
             [
              0.5555555555555556,
              "#d8576b"
             ],
             [
              0.6666666666666666,
              "#ed7953"
             ],
             [
              0.7777777777777778,
              "#fb9f3a"
             ],
             [
              0.8888888888888888,
              "#fdca26"
             ],
             [
              1,
              "#f0f921"
             ]
            ],
            "type": "histogram2dcontour"
           }
          ],
          "mesh3d": [
           {
            "colorbar": {
             "outlinewidth": 0,
             "ticks": ""
            },
            "type": "mesh3d"
           }
          ],
          "parcoords": [
           {
            "line": {
             "colorbar": {
              "outlinewidth": 0,
              "ticks": ""
             }
            },
            "type": "parcoords"
           }
          ],
          "pie": [
           {
            "automargin": true,
            "type": "pie"
           }
          ],
          "scatter": [
           {
            "fillpattern": {
             "fillmode": "overlay",
             "size": 10,
             "solidity": 0.2
            },
            "type": "scatter"
           }
          ],
          "scatter3d": [
           {
            "line": {
             "colorbar": {
              "outlinewidth": 0,
              "ticks": ""
             }
            },
            "marker": {
             "colorbar": {
              "outlinewidth": 0,
              "ticks": ""
             }
            },
            "type": "scatter3d"
           }
          ],
          "scattercarpet": [
           {
            "marker": {
             "colorbar": {
              "outlinewidth": 0,
              "ticks": ""
             }
            },
            "type": "scattercarpet"
           }
          ],
          "scattergeo": [
           {
            "marker": {
             "colorbar": {
              "outlinewidth": 0,
              "ticks": ""
             }
            },
            "type": "scattergeo"
           }
          ],
          "scattergl": [
           {
            "marker": {
             "colorbar": {
              "outlinewidth": 0,
              "ticks": ""
             }
            },
            "type": "scattergl"
           }
          ],
          "scattermapbox": [
           {
            "marker": {
             "colorbar": {
              "outlinewidth": 0,
              "ticks": ""
             }
            },
            "type": "scattermapbox"
           }
          ],
          "scatterpolar": [
           {
            "marker": {
             "colorbar": {
              "outlinewidth": 0,
              "ticks": ""
             }
            },
            "type": "scatterpolar"
           }
          ],
          "scatterpolargl": [
           {
            "marker": {
             "colorbar": {
              "outlinewidth": 0,
              "ticks": ""
             }
            },
            "type": "scatterpolargl"
           }
          ],
          "scatterternary": [
           {
            "marker": {
             "colorbar": {
              "outlinewidth": 0,
              "ticks": ""
             }
            },
            "type": "scatterternary"
           }
          ],
          "surface": [
           {
            "colorbar": {
             "outlinewidth": 0,
             "ticks": ""
            },
            "colorscale": [
             [
              0,
              "#0d0887"
             ],
             [
              0.1111111111111111,
              "#46039f"
             ],
             [
              0.2222222222222222,
              "#7201a8"
             ],
             [
              0.3333333333333333,
              "#9c179e"
             ],
             [
              0.4444444444444444,
              "#bd3786"
             ],
             [
              0.5555555555555556,
              "#d8576b"
             ],
             [
              0.6666666666666666,
              "#ed7953"
             ],
             [
              0.7777777777777778,
              "#fb9f3a"
             ],
             [
              0.8888888888888888,
              "#fdca26"
             ],
             [
              1,
              "#f0f921"
             ]
            ],
            "type": "surface"
           }
          ],
          "table": [
           {
            "cells": {
             "fill": {
              "color": "#EBF0F8"
             },
             "line": {
              "color": "white"
             }
            },
            "header": {
             "fill": {
              "color": "#C8D4E3"
             },
             "line": {
              "color": "white"
             }
            },
            "type": "table"
           }
          ]
         },
         "layout": {
          "annotationdefaults": {
           "arrowcolor": "#2a3f5f",
           "arrowhead": 0,
           "arrowwidth": 1
          },
          "autotypenumbers": "strict",
          "coloraxis": {
           "colorbar": {
            "outlinewidth": 0,
            "ticks": ""
           }
          },
          "colorscale": {
           "diverging": [
            [
             0,
             "#8e0152"
            ],
            [
             0.1,
             "#c51b7d"
            ],
            [
             0.2,
             "#de77ae"
            ],
            [
             0.3,
             "#f1b6da"
            ],
            [
             0.4,
             "#fde0ef"
            ],
            [
             0.5,
             "#f7f7f7"
            ],
            [
             0.6,
             "#e6f5d0"
            ],
            [
             0.7,
             "#b8e186"
            ],
            [
             0.8,
             "#7fbc41"
            ],
            [
             0.9,
             "#4d9221"
            ],
            [
             1,
             "#276419"
            ]
           ],
           "sequential": [
            [
             0,
             "#0d0887"
            ],
            [
             0.1111111111111111,
             "#46039f"
            ],
            [
             0.2222222222222222,
             "#7201a8"
            ],
            [
             0.3333333333333333,
             "#9c179e"
            ],
            [
             0.4444444444444444,
             "#bd3786"
            ],
            [
             0.5555555555555556,
             "#d8576b"
            ],
            [
             0.6666666666666666,
             "#ed7953"
            ],
            [
             0.7777777777777778,
             "#fb9f3a"
            ],
            [
             0.8888888888888888,
             "#fdca26"
            ],
            [
             1,
             "#f0f921"
            ]
           ],
           "sequentialminus": [
            [
             0,
             "#0d0887"
            ],
            [
             0.1111111111111111,
             "#46039f"
            ],
            [
             0.2222222222222222,
             "#7201a8"
            ],
            [
             0.3333333333333333,
             "#9c179e"
            ],
            [
             0.4444444444444444,
             "#bd3786"
            ],
            [
             0.5555555555555556,
             "#d8576b"
            ],
            [
             0.6666666666666666,
             "#ed7953"
            ],
            [
             0.7777777777777778,
             "#fb9f3a"
            ],
            [
             0.8888888888888888,
             "#fdca26"
            ],
            [
             1,
             "#f0f921"
            ]
           ]
          },
          "colorway": [
           "#636efa",
           "#EF553B",
           "#00cc96",
           "#ab63fa",
           "#FFA15A",
           "#19d3f3",
           "#FF6692",
           "#B6E880",
           "#FF97FF",
           "#FECB52"
          ],
          "font": {
           "color": "#2a3f5f"
          },
          "geo": {
           "bgcolor": "white",
           "lakecolor": "white",
           "landcolor": "#E5ECF6",
           "showlakes": true,
           "showland": true,
           "subunitcolor": "white"
          },
          "hoverlabel": {
           "align": "left"
          },
          "hovermode": "closest",
          "mapbox": {
           "style": "light"
          },
          "paper_bgcolor": "white",
          "plot_bgcolor": "#E5ECF6",
          "polar": {
           "angularaxis": {
            "gridcolor": "white",
            "linecolor": "white",
            "ticks": ""
           },
           "bgcolor": "#E5ECF6",
           "radialaxis": {
            "gridcolor": "white",
            "linecolor": "white",
            "ticks": ""
           }
          },
          "scene": {
           "xaxis": {
            "backgroundcolor": "#E5ECF6",
            "gridcolor": "white",
            "gridwidth": 2,
            "linecolor": "white",
            "showbackground": true,
            "ticks": "",
            "zerolinecolor": "white"
           },
           "yaxis": {
            "backgroundcolor": "#E5ECF6",
            "gridcolor": "white",
            "gridwidth": 2,
            "linecolor": "white",
            "showbackground": true,
            "ticks": "",
            "zerolinecolor": "white"
           },
           "zaxis": {
            "backgroundcolor": "#E5ECF6",
            "gridcolor": "white",
            "gridwidth": 2,
            "linecolor": "white",
            "showbackground": true,
            "ticks": "",
            "zerolinecolor": "white"
           }
          },
          "shapedefaults": {
           "line": {
            "color": "#2a3f5f"
           }
          },
          "ternary": {
           "aaxis": {
            "gridcolor": "white",
            "linecolor": "white",
            "ticks": ""
           },
           "baxis": {
            "gridcolor": "white",
            "linecolor": "white",
            "ticks": ""
           },
           "bgcolor": "#E5ECF6",
           "caxis": {
            "gridcolor": "white",
            "linecolor": "white",
            "ticks": ""
           }
          },
          "title": {
           "x": 0.05
          },
          "xaxis": {
           "automargin": true,
           "gridcolor": "white",
           "linecolor": "white",
           "ticks": "",
           "title": {
            "standoff": 15
           },
           "zerolinecolor": "white",
           "zerolinewidth": 2
          },
          "yaxis": {
           "automargin": true,
           "gridcolor": "white",
           "linecolor": "white",
           "ticks": "",
           "title": {
            "standoff": 15
           },
           "zerolinecolor": "white",
           "zerolinewidth": 2
          }
         }
        },
        "xaxis": {
         "anchor": "y",
         "domain": [
          0,
          1
         ],
         "title": {
          "text": "candle_date_time_kst"
         }
        },
        "yaxis": {
         "anchor": "x",
         "domain": [
          0,
          1
         ],
         "title": {
          "text": "trade_price"
         }
        }
       }
      },
      "text/html": [
       "<div>                            <div id=\"059158a9-bb22-4804-a2ba-ccf69416e7d7\" class=\"plotly-graph-div\" style=\"height:525px; width:100%;\"></div>            <script type=\"text/javascript\">                require([\"plotly\"], function(Plotly) {                    window.PLOTLYENV=window.PLOTLYENV || {};                                    if (document.getElementById(\"059158a9-bb22-4804-a2ba-ccf69416e7d7\")) {                    Plotly.newPlot(                        \"059158a9-bb22-4804-a2ba-ccf69416e7d7\",                        [{\"alignmentgroup\":\"True\",\"hovertemplate\":\"candle_date_time_kst=%{x}<br>trade_price=%{y}<extra></extra>\",\"legendgroup\":\"\",\"marker\":{\"color\":\"#636efa\",\"pattern\":{\"shape\":\"\"}},\"name\":\"\",\"offsetgroup\":\"\",\"orientation\":\"v\",\"showlegend\":false,\"textposition\":\"auto\",\"x\":[\"2023-06-21\",\"2023-06-20\",\"2023-06-19\",\"2023-06-18\",\"2023-06-17\",\"2023-06-16\",\"2023-06-15\",\"2023-06-14\",\"2023-06-13\",\"2023-06-12\"],\"xaxis\":\"x\",\"y\":[39135000.0,36946000.0,35092000.0,34466000.0,34780000.0,34501000.0,33449000.0,33007000.0,33913000.0,34059000.0],\"yaxis\":\"y\",\"type\":\"bar\"}],                        {\"barmode\":\"relative\",\"legend\":{\"tracegroupgap\":0},\"margin\":{\"t\":60},\"template\":{\"data\":{\"barpolar\":[{\"marker\":{\"line\":{\"color\":\"#E5ECF6\",\"width\":0.5},\"pattern\":{\"fillmode\":\"overlay\",\"size\":10,\"solidity\":0.2}},\"type\":\"barpolar\"}],\"bar\":[{\"error_x\":{\"color\":\"#2a3f5f\"},\"error_y\":{\"color\":\"#2a3f5f\"},\"marker\":{\"line\":{\"color\":\"#E5ECF6\",\"width\":0.5},\"pattern\":{\"fillmode\":\"overlay\",\"size\":10,\"solidity\":0.2}},\"type\":\"bar\"}],\"carpet\":[{\"aaxis\":{\"endlinecolor\":\"#2a3f5f\",\"gridcolor\":\"white\",\"linecolor\":\"white\",\"minorgridcolor\":\"white\",\"startlinecolor\":\"#2a3f5f\"},\"baxis\":{\"endlinecolor\":\"#2a3f5f\",\"gridcolor\":\"white\",\"linecolor\":\"white\",\"minorgridcolor\":\"white\",\"startlinecolor\":\"#2a3f5f\"},\"type\":\"carpet\"}],\"choropleth\":[{\"colorbar\":{\"outlinewidth\":0,\"ticks\":\"\"},\"type\":\"choropleth\"}],\"contourcarpet\":[{\"colorbar\":{\"outlinewidth\":0,\"ticks\":\"\"},\"type\":\"contourcarpet\"}],\"contour\":[{\"colorbar\":{\"outlinewidth\":0,\"ticks\":\"\"},\"colorscale\":[[0.0,\"#0d0887\"],[0.1111111111111111,\"#46039f\"],[0.2222222222222222,\"#7201a8\"],[0.3333333333333333,\"#9c179e\"],[0.4444444444444444,\"#bd3786\"],[0.5555555555555556,\"#d8576b\"],[0.6666666666666666,\"#ed7953\"],[0.7777777777777778,\"#fb9f3a\"],[0.8888888888888888,\"#fdca26\"],[1.0,\"#f0f921\"]],\"type\":\"contour\"}],\"heatmapgl\":[{\"colorbar\":{\"outlinewidth\":0,\"ticks\":\"\"},\"colorscale\":[[0.0,\"#0d0887\"],[0.1111111111111111,\"#46039f\"],[0.2222222222222222,\"#7201a8\"],[0.3333333333333333,\"#9c179e\"],[0.4444444444444444,\"#bd3786\"],[0.5555555555555556,\"#d8576b\"],[0.6666666666666666,\"#ed7953\"],[0.7777777777777778,\"#fb9f3a\"],[0.8888888888888888,\"#fdca26\"],[1.0,\"#f0f921\"]],\"type\":\"heatmapgl\"}],\"heatmap\":[{\"colorbar\":{\"outlinewidth\":0,\"ticks\":\"\"},\"colorscale\":[[0.0,\"#0d0887\"],[0.1111111111111111,\"#46039f\"],[0.2222222222222222,\"#7201a8\"],[0.3333333333333333,\"#9c179e\"],[0.4444444444444444,\"#bd3786\"],[0.5555555555555556,\"#d8576b\"],[0.6666666666666666,\"#ed7953\"],[0.7777777777777778,\"#fb9f3a\"],[0.8888888888888888,\"#fdca26\"],[1.0,\"#f0f921\"]],\"type\":\"heatmap\"}],\"histogram2dcontour\":[{\"colorbar\":{\"outlinewidth\":0,\"ticks\":\"\"},\"colorscale\":[[0.0,\"#0d0887\"],[0.1111111111111111,\"#46039f\"],[0.2222222222222222,\"#7201a8\"],[0.3333333333333333,\"#9c179e\"],[0.4444444444444444,\"#bd3786\"],[0.5555555555555556,\"#d8576b\"],[0.6666666666666666,\"#ed7953\"],[0.7777777777777778,\"#fb9f3a\"],[0.8888888888888888,\"#fdca26\"],[1.0,\"#f0f921\"]],\"type\":\"histogram2dcontour\"}],\"histogram2d\":[{\"colorbar\":{\"outlinewidth\":0,\"ticks\":\"\"},\"colorscale\":[[0.0,\"#0d0887\"],[0.1111111111111111,\"#46039f\"],[0.2222222222222222,\"#7201a8\"],[0.3333333333333333,\"#9c179e\"],[0.4444444444444444,\"#bd3786\"],[0.5555555555555556,\"#d8576b\"],[0.6666666666666666,\"#ed7953\"],[0.7777777777777778,\"#fb9f3a\"],[0.8888888888888888,\"#fdca26\"],[1.0,\"#f0f921\"]],\"type\":\"histogram2d\"}],\"histogram\":[{\"marker\":{\"pattern\":{\"fillmode\":\"overlay\",\"size\":10,\"solidity\":0.2}},\"type\":\"histogram\"}],\"mesh3d\":[{\"colorbar\":{\"outlinewidth\":0,\"ticks\":\"\"},\"type\":\"mesh3d\"}],\"parcoords\":[{\"line\":{\"colorbar\":{\"outlinewidth\":0,\"ticks\":\"\"}},\"type\":\"parcoords\"}],\"pie\":[{\"automargin\":true,\"type\":\"pie\"}],\"scatter3d\":[{\"line\":{\"colorbar\":{\"outlinewidth\":0,\"ticks\":\"\"}},\"marker\":{\"colorbar\":{\"outlinewidth\":0,\"ticks\":\"\"}},\"type\":\"scatter3d\"}],\"scattercarpet\":[{\"marker\":{\"colorbar\":{\"outlinewidth\":0,\"ticks\":\"\"}},\"type\":\"scattercarpet\"}],\"scattergeo\":[{\"marker\":{\"colorbar\":{\"outlinewidth\":0,\"ticks\":\"\"}},\"type\":\"scattergeo\"}],\"scattergl\":[{\"marker\":{\"colorbar\":{\"outlinewidth\":0,\"ticks\":\"\"}},\"type\":\"scattergl\"}],\"scattermapbox\":[{\"marker\":{\"colorbar\":{\"outlinewidth\":0,\"ticks\":\"\"}},\"type\":\"scattermapbox\"}],\"scatterpolargl\":[{\"marker\":{\"colorbar\":{\"outlinewidth\":0,\"ticks\":\"\"}},\"type\":\"scatterpolargl\"}],\"scatterpolar\":[{\"marker\":{\"colorbar\":{\"outlinewidth\":0,\"ticks\":\"\"}},\"type\":\"scatterpolar\"}],\"scatter\":[{\"fillpattern\":{\"fillmode\":\"overlay\",\"size\":10,\"solidity\":0.2},\"type\":\"scatter\"}],\"scatterternary\":[{\"marker\":{\"colorbar\":{\"outlinewidth\":0,\"ticks\":\"\"}},\"type\":\"scatterternary\"}],\"surface\":[{\"colorbar\":{\"outlinewidth\":0,\"ticks\":\"\"},\"colorscale\":[[0.0,\"#0d0887\"],[0.1111111111111111,\"#46039f\"],[0.2222222222222222,\"#7201a8\"],[0.3333333333333333,\"#9c179e\"],[0.4444444444444444,\"#bd3786\"],[0.5555555555555556,\"#d8576b\"],[0.6666666666666666,\"#ed7953\"],[0.7777777777777778,\"#fb9f3a\"],[0.8888888888888888,\"#fdca26\"],[1.0,\"#f0f921\"]],\"type\":\"surface\"}],\"table\":[{\"cells\":{\"fill\":{\"color\":\"#EBF0F8\"},\"line\":{\"color\":\"white\"}},\"header\":{\"fill\":{\"color\":\"#C8D4E3\"},\"line\":{\"color\":\"white\"}},\"type\":\"table\"}]},\"layout\":{\"annotationdefaults\":{\"arrowcolor\":\"#2a3f5f\",\"arrowhead\":0,\"arrowwidth\":1},\"autotypenumbers\":\"strict\",\"coloraxis\":{\"colorbar\":{\"outlinewidth\":0,\"ticks\":\"\"}},\"colorscale\":{\"diverging\":[[0,\"#8e0152\"],[0.1,\"#c51b7d\"],[0.2,\"#de77ae\"],[0.3,\"#f1b6da\"],[0.4,\"#fde0ef\"],[0.5,\"#f7f7f7\"],[0.6,\"#e6f5d0\"],[0.7,\"#b8e186\"],[0.8,\"#7fbc41\"],[0.9,\"#4d9221\"],[1,\"#276419\"]],\"sequential\":[[0.0,\"#0d0887\"],[0.1111111111111111,\"#46039f\"],[0.2222222222222222,\"#7201a8\"],[0.3333333333333333,\"#9c179e\"],[0.4444444444444444,\"#bd3786\"],[0.5555555555555556,\"#d8576b\"],[0.6666666666666666,\"#ed7953\"],[0.7777777777777778,\"#fb9f3a\"],[0.8888888888888888,\"#fdca26\"],[1.0,\"#f0f921\"]],\"sequentialminus\":[[0.0,\"#0d0887\"],[0.1111111111111111,\"#46039f\"],[0.2222222222222222,\"#7201a8\"],[0.3333333333333333,\"#9c179e\"],[0.4444444444444444,\"#bd3786\"],[0.5555555555555556,\"#d8576b\"],[0.6666666666666666,\"#ed7953\"],[0.7777777777777778,\"#fb9f3a\"],[0.8888888888888888,\"#fdca26\"],[1.0,\"#f0f921\"]]},\"colorway\":[\"#636efa\",\"#EF553B\",\"#00cc96\",\"#ab63fa\",\"#FFA15A\",\"#19d3f3\",\"#FF6692\",\"#B6E880\",\"#FF97FF\",\"#FECB52\"],\"font\":{\"color\":\"#2a3f5f\"},\"geo\":{\"bgcolor\":\"white\",\"lakecolor\":\"white\",\"landcolor\":\"#E5ECF6\",\"showlakes\":true,\"showland\":true,\"subunitcolor\":\"white\"},\"hoverlabel\":{\"align\":\"left\"},\"hovermode\":\"closest\",\"mapbox\":{\"style\":\"light\"},\"paper_bgcolor\":\"white\",\"plot_bgcolor\":\"#E5ECF6\",\"polar\":{\"angularaxis\":{\"gridcolor\":\"white\",\"linecolor\":\"white\",\"ticks\":\"\"},\"bgcolor\":\"#E5ECF6\",\"radialaxis\":{\"gridcolor\":\"white\",\"linecolor\":\"white\",\"ticks\":\"\"}},\"scene\":{\"xaxis\":{\"backgroundcolor\":\"#E5ECF6\",\"gridcolor\":\"white\",\"gridwidth\":2,\"linecolor\":\"white\",\"showbackground\":true,\"ticks\":\"\",\"zerolinecolor\":\"white\"},\"yaxis\":{\"backgroundcolor\":\"#E5ECF6\",\"gridcolor\":\"white\",\"gridwidth\":2,\"linecolor\":\"white\",\"showbackground\":true,\"ticks\":\"\",\"zerolinecolor\":\"white\"},\"zaxis\":{\"backgroundcolor\":\"#E5ECF6\",\"gridcolor\":\"white\",\"gridwidth\":2,\"linecolor\":\"white\",\"showbackground\":true,\"ticks\":\"\",\"zerolinecolor\":\"white\"}},\"shapedefaults\":{\"line\":{\"color\":\"#2a3f5f\"}},\"ternary\":{\"aaxis\":{\"gridcolor\":\"white\",\"linecolor\":\"white\",\"ticks\":\"\"},\"baxis\":{\"gridcolor\":\"white\",\"linecolor\":\"white\",\"ticks\":\"\"},\"bgcolor\":\"#E5ECF6\",\"caxis\":{\"gridcolor\":\"white\",\"linecolor\":\"white\",\"ticks\":\"\"}},\"title\":{\"x\":0.05},\"xaxis\":{\"automargin\":true,\"gridcolor\":\"white\",\"linecolor\":\"white\",\"ticks\":\"\",\"title\":{\"standoff\":15},\"zerolinecolor\":\"white\",\"zerolinewidth\":2},\"yaxis\":{\"automargin\":true,\"gridcolor\":\"white\",\"linecolor\":\"white\",\"ticks\":\"\",\"title\":{\"standoff\":15},\"zerolinecolor\":\"white\",\"zerolinewidth\":2}}},\"xaxis\":{\"anchor\":\"y\",\"domain\":[0.0,1.0],\"title\":{\"text\":\"candle_date_time_kst\"}},\"yaxis\":{\"anchor\":\"x\",\"domain\":[0.0,1.0],\"title\":{\"text\":\"trade_price\"}}},                        {\"responsive\": true}                    ).then(function(){\n",
       "                            \n",
       "var gd = document.getElementById('059158a9-bb22-4804-a2ba-ccf69416e7d7');\n",
       "var x = new MutationObserver(function (mutations, observer) {{\n",
       "        var display = window.getComputedStyle(gd).display;\n",
       "        if (!display || display === 'none') {{\n",
       "            console.log([gd, 'removed!']);\n",
       "            Plotly.purge(gd);\n",
       "            observer.disconnect();\n",
       "        }}\n",
       "}});\n",
       "\n",
       "// Listen for the removal of the full notebook cells\n",
       "var notebookContainer = gd.closest('#notebook-container');\n",
       "if (notebookContainer) {{\n",
       "    x.observe(notebookContainer, {childList: true});\n",
       "}}\n",
       "\n",
       "// Listen for the clearing of the current output cell\n",
       "var outputEl = gd.closest('.output');\n",
       "if (outputEl) {{\n",
       "    x.observe(outputEl, {childList: true});\n",
       "}}\n",
       "\n",
       "                        })                };                });            </script>        </div>"
      ]
     },
     "metadata": {},
     "output_type": "display_data"
    }
   ],
   "source": [
    "fig = px.bar(my_df[my_df.market=='BTC'][-10:],\n",
    "                x = 'candle_date_time_kst',\n",
    "                y = 'trade_price')\n",
    "\n",
    "plotly.offline.iplot(fig)\n",
    "# = fig.show()"
   ]
  },
  {
   "cell_type": "code",
   "execution_count": 179,
   "id": "074e1aa5",
   "metadata": {},
   "outputs": [
    {
     "data": {
      "application/vnd.plotly.v1+json": {
       "config": {
        "linkText": "Export to plot.ly",
        "plotlyServerURL": "https://plot.ly",
        "showLink": false
       },
       "data": [
        {
         "hovertemplate": "candle_date_time_kst=%{x}<br>trade_price=%{y}<extra></extra>",
         "legendgroup": "",
         "line": {
          "color": "#636efa",
          "dash": "solid"
         },
         "marker": {
          "symbol": "circle"
         },
         "mode": "lines",
         "name": "",
         "orientation": "v",
         "showlegend": false,
         "type": "scatter",
         "x": [
          "2023-12-28",
          "2023-12-27",
          "2023-12-26",
          "2023-12-25",
          "2023-12-24",
          "2023-12-23",
          "2023-12-22",
          "2023-12-21",
          "2023-12-20",
          "2023-12-19",
          "2023-12-18",
          "2023-12-17",
          "2023-12-16",
          "2023-12-15",
          "2023-12-14",
          "2023-12-13",
          "2023-12-12",
          "2023-12-11",
          "2023-12-10",
          "2023-12-09",
          "2023-12-08",
          "2023-12-07",
          "2023-12-06",
          "2023-12-05",
          "2023-12-04",
          "2023-12-03",
          "2023-12-02",
          "2023-12-01",
          "2023-11-30",
          "2023-11-29",
          "2023-11-28",
          "2023-11-27",
          "2023-11-26",
          "2023-11-25",
          "2023-11-24",
          "2023-11-23",
          "2023-11-22",
          "2023-11-21",
          "2023-11-20",
          "2023-11-19",
          "2023-11-18",
          "2023-11-17",
          "2023-11-16",
          "2023-11-15",
          "2023-11-14",
          "2023-11-13",
          "2023-11-12",
          "2023-11-11",
          "2023-11-10",
          "2023-11-09",
          "2023-11-08",
          "2023-11-07",
          "2023-11-06",
          "2023-11-05",
          "2023-11-04",
          "2023-11-03",
          "2023-11-02",
          "2023-11-01",
          "2023-10-31",
          "2023-10-30",
          "2023-10-29",
          "2023-10-28",
          "2023-10-27",
          "2023-10-26",
          "2023-10-25",
          "2023-10-24",
          "2023-10-23",
          "2023-10-22",
          "2023-10-21",
          "2023-10-20",
          "2023-10-19",
          "2023-10-18",
          "2023-10-17",
          "2023-10-16",
          "2023-10-15",
          "2023-10-14",
          "2023-10-13",
          "2023-10-12",
          "2023-10-11",
          "2023-10-10",
          "2023-10-09",
          "2023-10-08",
          "2023-10-07",
          "2023-10-06",
          "2023-10-05",
          "2023-10-04",
          "2023-10-03",
          "2023-10-02",
          "2023-10-01",
          "2023-09-30",
          "2023-09-29",
          "2023-09-28",
          "2023-09-27",
          "2023-09-26",
          "2023-09-25",
          "2023-09-24",
          "2023-09-23",
          "2023-09-22",
          "2023-09-21",
          "2023-09-20",
          "2023-09-19",
          "2023-09-18",
          "2023-09-17",
          "2023-09-16",
          "2023-09-15",
          "2023-09-14",
          "2023-09-13",
          "2023-09-12",
          "2023-09-11",
          "2023-09-10",
          "2023-09-09",
          "2023-09-08",
          "2023-09-07",
          "2023-09-06",
          "2023-09-05",
          "2023-09-04",
          "2023-09-03",
          "2023-09-02",
          "2023-09-01",
          "2023-08-31",
          "2023-08-30",
          "2023-08-29",
          "2023-08-28",
          "2023-08-27",
          "2023-08-26",
          "2023-08-25",
          "2023-08-24",
          "2023-08-23",
          "2023-08-22",
          "2023-08-21",
          "2023-08-20",
          "2023-08-19",
          "2023-08-18",
          "2023-08-17",
          "2023-08-16",
          "2023-08-15",
          "2023-08-14",
          "2023-08-13",
          "2023-08-12",
          "2023-08-11",
          "2023-08-10",
          "2023-08-09",
          "2023-08-08",
          "2023-08-07",
          "2023-08-06",
          "2023-08-05",
          "2023-08-04",
          "2023-08-03",
          "2023-08-02",
          "2023-08-01",
          "2023-07-31",
          "2023-07-30",
          "2023-07-29",
          "2023-07-28",
          "2023-07-27",
          "2023-07-26",
          "2023-07-25",
          "2023-07-24",
          "2023-07-23",
          "2023-07-22",
          "2023-07-21",
          "2023-07-20",
          "2023-07-19",
          "2023-07-18",
          "2023-07-17",
          "2023-07-16",
          "2023-07-15",
          "2023-07-14",
          "2023-07-13",
          "2023-07-12",
          "2023-07-11",
          "2023-07-10",
          "2023-07-09",
          "2023-07-08",
          "2023-07-07",
          "2023-07-06",
          "2023-07-05",
          "2023-07-04",
          "2023-07-03",
          "2023-07-02",
          "2023-07-01",
          "2023-06-30",
          "2023-06-29",
          "2023-06-28",
          "2023-06-27",
          "2023-06-26",
          "2023-06-25",
          "2023-06-24",
          "2023-06-23",
          "2023-06-22",
          "2023-06-21",
          "2023-06-20",
          "2023-06-19",
          "2023-06-18",
          "2023-06-17",
          "2023-06-16",
          "2023-06-15",
          "2023-06-14",
          "2023-06-13",
          "2023-06-12"
         ],
         "xaxis": "x",
         "y": [
          57741000,
          57920000,
          57032000,
          58042000,
          58002000,
          59250000,
          59532000,
          59479000,
          59351000,
          57845000,
          58130000,
          56710000,
          57935000,
          58028000,
          58735000,
          59056000,
          57605000,
          56950000,
          59835000,
          60082000,
          60142000,
          59250000,
          60314000,
          60227000,
          56920000,
          53700000,
          52603000,
          51709000,
          50586000,
          50720000,
          50576000,
          50275000,
          50210000,
          50533000,
          50601000,
          49929000,
          50042000,
          48510000,
          50170000,
          49800000,
          49165000,
          49390000,
          48868000,
          50457000,
          47969000,
          49154000,
          49418000,
          49629000,
          50030000,
          49400000,
          47458000,
          47301000,
          46781000,
          47056000,
          47050000,
          46676000,
          47516000,
          48079000,
          47030000,
          46732000,
          46825000,
          46314000,
          45980000,
          46141000,
          46484000,
          45599000,
          44179000,
          40354000,
          40400000,
          40250000,
          39000000,
          38710000,
          38652000,
          38697000,
          37086000,
          36790000,
          36968000,
          36750000,
          36671000,
          37336000,
          37595000,
          37929000,
          37902000,
          37798000,
          37258000,
          37595000,
          37197000,
          37424000,
          37789000,
          36600000,
          36444000,
          36596000,
          35982000,
          35566000,
          35491000,
          35534000,
          35960000,
          35952000,
          36012000,
          36501000,
          36500000,
          36000000,
          35758000,
          35938000,
          35928000,
          35889000,
          35497000,
          35077000,
          34327000,
          35196000,
          35280000,
          35295000,
          35615000,
          35029000,
          35056000,
          35011000,
          35308000,
          35204000,
          35350000,
          35502000,
          37109000,
          37445000,
          35335000,
          35402000,
          35398000,
          35479000,
          35635000,
          35941000,
          35684000,
          35769000,
          35949000,
          36056000,
          35890000,
          36588000,
          39001000,
          39404000,
          39288000,
          39118000,
          39283000,
          39233000,
          39119000,
          39209000,
          39437000,
          38622000,
          38605000,
          38474000,
          38492000,
          38436000,
          38358000,
          38642000,
          37929000,
          37850000,
          37901000,
          37932000,
          37874000,
          37918000,
          37910000,
          37892000,
          38945000,
          38776000,
          38829000,
          38567000,
          38323000,
          38401000,
          38742000,
          38933000,
          38889000,
          39092000,
          40112000,
          39804000,
          40117000,
          40050000,
          39832000,
          40153000,
          40240000,
          39860000,
          40385000,
          40610000,
          41200000,
          40652000,
          40691000,
          40547000,
          40583000,
          40020000,
          40585000,
          40077000,
          40352000,
          40659000,
          40651000,
          39125000,
          39135000,
          36946000,
          35092000,
          34466000,
          34780000,
          34501000,
          33449000,
          33007000,
          33913000,
          34059000
         ],
         "yaxis": "y"
        }
       ],
       "layout": {
        "legend": {
         "tracegroupgap": 0
        },
        "margin": {
         "t": 60
        },
        "template": {
         "data": {
          "bar": [
           {
            "error_x": {
             "color": "#2a3f5f"
            },
            "error_y": {
             "color": "#2a3f5f"
            },
            "marker": {
             "line": {
              "color": "#E5ECF6",
              "width": 0.5
             },
             "pattern": {
              "fillmode": "overlay",
              "size": 10,
              "solidity": 0.2
             }
            },
            "type": "bar"
           }
          ],
          "barpolar": [
           {
            "marker": {
             "line": {
              "color": "#E5ECF6",
              "width": 0.5
             },
             "pattern": {
              "fillmode": "overlay",
              "size": 10,
              "solidity": 0.2
             }
            },
            "type": "barpolar"
           }
          ],
          "carpet": [
           {
            "aaxis": {
             "endlinecolor": "#2a3f5f",
             "gridcolor": "white",
             "linecolor": "white",
             "minorgridcolor": "white",
             "startlinecolor": "#2a3f5f"
            },
            "baxis": {
             "endlinecolor": "#2a3f5f",
             "gridcolor": "white",
             "linecolor": "white",
             "minorgridcolor": "white",
             "startlinecolor": "#2a3f5f"
            },
            "type": "carpet"
           }
          ],
          "choropleth": [
           {
            "colorbar": {
             "outlinewidth": 0,
             "ticks": ""
            },
            "type": "choropleth"
           }
          ],
          "contour": [
           {
            "colorbar": {
             "outlinewidth": 0,
             "ticks": ""
            },
            "colorscale": [
             [
              0,
              "#0d0887"
             ],
             [
              0.1111111111111111,
              "#46039f"
             ],
             [
              0.2222222222222222,
              "#7201a8"
             ],
             [
              0.3333333333333333,
              "#9c179e"
             ],
             [
              0.4444444444444444,
              "#bd3786"
             ],
             [
              0.5555555555555556,
              "#d8576b"
             ],
             [
              0.6666666666666666,
              "#ed7953"
             ],
             [
              0.7777777777777778,
              "#fb9f3a"
             ],
             [
              0.8888888888888888,
              "#fdca26"
             ],
             [
              1,
              "#f0f921"
             ]
            ],
            "type": "contour"
           }
          ],
          "contourcarpet": [
           {
            "colorbar": {
             "outlinewidth": 0,
             "ticks": ""
            },
            "type": "contourcarpet"
           }
          ],
          "heatmap": [
           {
            "colorbar": {
             "outlinewidth": 0,
             "ticks": ""
            },
            "colorscale": [
             [
              0,
              "#0d0887"
             ],
             [
              0.1111111111111111,
              "#46039f"
             ],
             [
              0.2222222222222222,
              "#7201a8"
             ],
             [
              0.3333333333333333,
              "#9c179e"
             ],
             [
              0.4444444444444444,
              "#bd3786"
             ],
             [
              0.5555555555555556,
              "#d8576b"
             ],
             [
              0.6666666666666666,
              "#ed7953"
             ],
             [
              0.7777777777777778,
              "#fb9f3a"
             ],
             [
              0.8888888888888888,
              "#fdca26"
             ],
             [
              1,
              "#f0f921"
             ]
            ],
            "type": "heatmap"
           }
          ],
          "heatmapgl": [
           {
            "colorbar": {
             "outlinewidth": 0,
             "ticks": ""
            },
            "colorscale": [
             [
              0,
              "#0d0887"
             ],
             [
              0.1111111111111111,
              "#46039f"
             ],
             [
              0.2222222222222222,
              "#7201a8"
             ],
             [
              0.3333333333333333,
              "#9c179e"
             ],
             [
              0.4444444444444444,
              "#bd3786"
             ],
             [
              0.5555555555555556,
              "#d8576b"
             ],
             [
              0.6666666666666666,
              "#ed7953"
             ],
             [
              0.7777777777777778,
              "#fb9f3a"
             ],
             [
              0.8888888888888888,
              "#fdca26"
             ],
             [
              1,
              "#f0f921"
             ]
            ],
            "type": "heatmapgl"
           }
          ],
          "histogram": [
           {
            "marker": {
             "pattern": {
              "fillmode": "overlay",
              "size": 10,
              "solidity": 0.2
             }
            },
            "type": "histogram"
           }
          ],
          "histogram2d": [
           {
            "colorbar": {
             "outlinewidth": 0,
             "ticks": ""
            },
            "colorscale": [
             [
              0,
              "#0d0887"
             ],
             [
              0.1111111111111111,
              "#46039f"
             ],
             [
              0.2222222222222222,
              "#7201a8"
             ],
             [
              0.3333333333333333,
              "#9c179e"
             ],
             [
              0.4444444444444444,
              "#bd3786"
             ],
             [
              0.5555555555555556,
              "#d8576b"
             ],
             [
              0.6666666666666666,
              "#ed7953"
             ],
             [
              0.7777777777777778,
              "#fb9f3a"
             ],
             [
              0.8888888888888888,
              "#fdca26"
             ],
             [
              1,
              "#f0f921"
             ]
            ],
            "type": "histogram2d"
           }
          ],
          "histogram2dcontour": [
           {
            "colorbar": {
             "outlinewidth": 0,
             "ticks": ""
            },
            "colorscale": [
             [
              0,
              "#0d0887"
             ],
             [
              0.1111111111111111,
              "#46039f"
             ],
             [
              0.2222222222222222,
              "#7201a8"
             ],
             [
              0.3333333333333333,
              "#9c179e"
             ],
             [
              0.4444444444444444,
              "#bd3786"
             ],
             [
              0.5555555555555556,
              "#d8576b"
             ],
             [
              0.6666666666666666,
              "#ed7953"
             ],
             [
              0.7777777777777778,
              "#fb9f3a"
             ],
             [
              0.8888888888888888,
              "#fdca26"
             ],
             [
              1,
              "#f0f921"
             ]
            ],
            "type": "histogram2dcontour"
           }
          ],
          "mesh3d": [
           {
            "colorbar": {
             "outlinewidth": 0,
             "ticks": ""
            },
            "type": "mesh3d"
           }
          ],
          "parcoords": [
           {
            "line": {
             "colorbar": {
              "outlinewidth": 0,
              "ticks": ""
             }
            },
            "type": "parcoords"
           }
          ],
          "pie": [
           {
            "automargin": true,
            "type": "pie"
           }
          ],
          "scatter": [
           {
            "fillpattern": {
             "fillmode": "overlay",
             "size": 10,
             "solidity": 0.2
            },
            "type": "scatter"
           }
          ],
          "scatter3d": [
           {
            "line": {
             "colorbar": {
              "outlinewidth": 0,
              "ticks": ""
             }
            },
            "marker": {
             "colorbar": {
              "outlinewidth": 0,
              "ticks": ""
             }
            },
            "type": "scatter3d"
           }
          ],
          "scattercarpet": [
           {
            "marker": {
             "colorbar": {
              "outlinewidth": 0,
              "ticks": ""
             }
            },
            "type": "scattercarpet"
           }
          ],
          "scattergeo": [
           {
            "marker": {
             "colorbar": {
              "outlinewidth": 0,
              "ticks": ""
             }
            },
            "type": "scattergeo"
           }
          ],
          "scattergl": [
           {
            "marker": {
             "colorbar": {
              "outlinewidth": 0,
              "ticks": ""
             }
            },
            "type": "scattergl"
           }
          ],
          "scattermapbox": [
           {
            "marker": {
             "colorbar": {
              "outlinewidth": 0,
              "ticks": ""
             }
            },
            "type": "scattermapbox"
           }
          ],
          "scatterpolar": [
           {
            "marker": {
             "colorbar": {
              "outlinewidth": 0,
              "ticks": ""
             }
            },
            "type": "scatterpolar"
           }
          ],
          "scatterpolargl": [
           {
            "marker": {
             "colorbar": {
              "outlinewidth": 0,
              "ticks": ""
             }
            },
            "type": "scatterpolargl"
           }
          ],
          "scatterternary": [
           {
            "marker": {
             "colorbar": {
              "outlinewidth": 0,
              "ticks": ""
             }
            },
            "type": "scatterternary"
           }
          ],
          "surface": [
           {
            "colorbar": {
             "outlinewidth": 0,
             "ticks": ""
            },
            "colorscale": [
             [
              0,
              "#0d0887"
             ],
             [
              0.1111111111111111,
              "#46039f"
             ],
             [
              0.2222222222222222,
              "#7201a8"
             ],
             [
              0.3333333333333333,
              "#9c179e"
             ],
             [
              0.4444444444444444,
              "#bd3786"
             ],
             [
              0.5555555555555556,
              "#d8576b"
             ],
             [
              0.6666666666666666,
              "#ed7953"
             ],
             [
              0.7777777777777778,
              "#fb9f3a"
             ],
             [
              0.8888888888888888,
              "#fdca26"
             ],
             [
              1,
              "#f0f921"
             ]
            ],
            "type": "surface"
           }
          ],
          "table": [
           {
            "cells": {
             "fill": {
              "color": "#EBF0F8"
             },
             "line": {
              "color": "white"
             }
            },
            "header": {
             "fill": {
              "color": "#C8D4E3"
             },
             "line": {
              "color": "white"
             }
            },
            "type": "table"
           }
          ]
         },
         "layout": {
          "annotationdefaults": {
           "arrowcolor": "#2a3f5f",
           "arrowhead": 0,
           "arrowwidth": 1
          },
          "autotypenumbers": "strict",
          "coloraxis": {
           "colorbar": {
            "outlinewidth": 0,
            "ticks": ""
           }
          },
          "colorscale": {
           "diverging": [
            [
             0,
             "#8e0152"
            ],
            [
             0.1,
             "#c51b7d"
            ],
            [
             0.2,
             "#de77ae"
            ],
            [
             0.3,
             "#f1b6da"
            ],
            [
             0.4,
             "#fde0ef"
            ],
            [
             0.5,
             "#f7f7f7"
            ],
            [
             0.6,
             "#e6f5d0"
            ],
            [
             0.7,
             "#b8e186"
            ],
            [
             0.8,
             "#7fbc41"
            ],
            [
             0.9,
             "#4d9221"
            ],
            [
             1,
             "#276419"
            ]
           ],
           "sequential": [
            [
             0,
             "#0d0887"
            ],
            [
             0.1111111111111111,
             "#46039f"
            ],
            [
             0.2222222222222222,
             "#7201a8"
            ],
            [
             0.3333333333333333,
             "#9c179e"
            ],
            [
             0.4444444444444444,
             "#bd3786"
            ],
            [
             0.5555555555555556,
             "#d8576b"
            ],
            [
             0.6666666666666666,
             "#ed7953"
            ],
            [
             0.7777777777777778,
             "#fb9f3a"
            ],
            [
             0.8888888888888888,
             "#fdca26"
            ],
            [
             1,
             "#f0f921"
            ]
           ],
           "sequentialminus": [
            [
             0,
             "#0d0887"
            ],
            [
             0.1111111111111111,
             "#46039f"
            ],
            [
             0.2222222222222222,
             "#7201a8"
            ],
            [
             0.3333333333333333,
             "#9c179e"
            ],
            [
             0.4444444444444444,
             "#bd3786"
            ],
            [
             0.5555555555555556,
             "#d8576b"
            ],
            [
             0.6666666666666666,
             "#ed7953"
            ],
            [
             0.7777777777777778,
             "#fb9f3a"
            ],
            [
             0.8888888888888888,
             "#fdca26"
            ],
            [
             1,
             "#f0f921"
            ]
           ]
          },
          "colorway": [
           "#636efa",
           "#EF553B",
           "#00cc96",
           "#ab63fa",
           "#FFA15A",
           "#19d3f3",
           "#FF6692",
           "#B6E880",
           "#FF97FF",
           "#FECB52"
          ],
          "font": {
           "color": "#2a3f5f"
          },
          "geo": {
           "bgcolor": "white",
           "lakecolor": "white",
           "landcolor": "#E5ECF6",
           "showlakes": true,
           "showland": true,
           "subunitcolor": "white"
          },
          "hoverlabel": {
           "align": "left"
          },
          "hovermode": "closest",
          "mapbox": {
           "style": "light"
          },
          "paper_bgcolor": "white",
          "plot_bgcolor": "#E5ECF6",
          "polar": {
           "angularaxis": {
            "gridcolor": "white",
            "linecolor": "white",
            "ticks": ""
           },
           "bgcolor": "#E5ECF6",
           "radialaxis": {
            "gridcolor": "white",
            "linecolor": "white",
            "ticks": ""
           }
          },
          "scene": {
           "xaxis": {
            "backgroundcolor": "#E5ECF6",
            "gridcolor": "white",
            "gridwidth": 2,
            "linecolor": "white",
            "showbackground": true,
            "ticks": "",
            "zerolinecolor": "white"
           },
           "yaxis": {
            "backgroundcolor": "#E5ECF6",
            "gridcolor": "white",
            "gridwidth": 2,
            "linecolor": "white",
            "showbackground": true,
            "ticks": "",
            "zerolinecolor": "white"
           },
           "zaxis": {
            "backgroundcolor": "#E5ECF6",
            "gridcolor": "white",
            "gridwidth": 2,
            "linecolor": "white",
            "showbackground": true,
            "ticks": "",
            "zerolinecolor": "white"
           }
          },
          "shapedefaults": {
           "line": {
            "color": "#2a3f5f"
           }
          },
          "ternary": {
           "aaxis": {
            "gridcolor": "white",
            "linecolor": "white",
            "ticks": ""
           },
           "baxis": {
            "gridcolor": "white",
            "linecolor": "white",
            "ticks": ""
           },
           "bgcolor": "#E5ECF6",
           "caxis": {
            "gridcolor": "white",
            "linecolor": "white",
            "ticks": ""
           }
          },
          "title": {
           "x": 0.05
          },
          "xaxis": {
           "automargin": true,
           "gridcolor": "white",
           "linecolor": "white",
           "ticks": "",
           "title": {
            "standoff": 15
           },
           "zerolinecolor": "white",
           "zerolinewidth": 2
          },
          "yaxis": {
           "automargin": true,
           "gridcolor": "white",
           "linecolor": "white",
           "ticks": "",
           "title": {
            "standoff": 15
           },
           "zerolinecolor": "white",
           "zerolinewidth": 2
          }
         }
        },
        "xaxis": {
         "anchor": "y",
         "domain": [
          0,
          1
         ],
         "title": {
          "text": "candle_date_time_kst"
         }
        },
        "yaxis": {
         "anchor": "x",
         "domain": [
          0,
          1
         ],
         "title": {
          "text": "trade_price"
         }
        }
       }
      },
      "text/html": [
       "<div>                            <div id=\"49edde75-9f26-4cd3-8e63-c62c2eca1fd0\" class=\"plotly-graph-div\" style=\"height:525px; width:100%;\"></div>            <script type=\"text/javascript\">                require([\"plotly\"], function(Plotly) {                    window.PLOTLYENV=window.PLOTLYENV || {};                                    if (document.getElementById(\"49edde75-9f26-4cd3-8e63-c62c2eca1fd0\")) {                    Plotly.newPlot(                        \"49edde75-9f26-4cd3-8e63-c62c2eca1fd0\",                        [{\"hovertemplate\":\"candle_date_time_kst=%{x}<br>trade_price=%{y}<extra></extra>\",\"legendgroup\":\"\",\"line\":{\"color\":\"#636efa\",\"dash\":\"solid\"},\"marker\":{\"symbol\":\"circle\"},\"mode\":\"lines\",\"name\":\"\",\"orientation\":\"v\",\"showlegend\":false,\"x\":[\"2023-12-28\",\"2023-12-27\",\"2023-12-26\",\"2023-12-25\",\"2023-12-24\",\"2023-12-23\",\"2023-12-22\",\"2023-12-21\",\"2023-12-20\",\"2023-12-19\",\"2023-12-18\",\"2023-12-17\",\"2023-12-16\",\"2023-12-15\",\"2023-12-14\",\"2023-12-13\",\"2023-12-12\",\"2023-12-11\",\"2023-12-10\",\"2023-12-09\",\"2023-12-08\",\"2023-12-07\",\"2023-12-06\",\"2023-12-05\",\"2023-12-04\",\"2023-12-03\",\"2023-12-02\",\"2023-12-01\",\"2023-11-30\",\"2023-11-29\",\"2023-11-28\",\"2023-11-27\",\"2023-11-26\",\"2023-11-25\",\"2023-11-24\",\"2023-11-23\",\"2023-11-22\",\"2023-11-21\",\"2023-11-20\",\"2023-11-19\",\"2023-11-18\",\"2023-11-17\",\"2023-11-16\",\"2023-11-15\",\"2023-11-14\",\"2023-11-13\",\"2023-11-12\",\"2023-11-11\",\"2023-11-10\",\"2023-11-09\",\"2023-11-08\",\"2023-11-07\",\"2023-11-06\",\"2023-11-05\",\"2023-11-04\",\"2023-11-03\",\"2023-11-02\",\"2023-11-01\",\"2023-10-31\",\"2023-10-30\",\"2023-10-29\",\"2023-10-28\",\"2023-10-27\",\"2023-10-26\",\"2023-10-25\",\"2023-10-24\",\"2023-10-23\",\"2023-10-22\",\"2023-10-21\",\"2023-10-20\",\"2023-10-19\",\"2023-10-18\",\"2023-10-17\",\"2023-10-16\",\"2023-10-15\",\"2023-10-14\",\"2023-10-13\",\"2023-10-12\",\"2023-10-11\",\"2023-10-10\",\"2023-10-09\",\"2023-10-08\",\"2023-10-07\",\"2023-10-06\",\"2023-10-05\",\"2023-10-04\",\"2023-10-03\",\"2023-10-02\",\"2023-10-01\",\"2023-09-30\",\"2023-09-29\",\"2023-09-28\",\"2023-09-27\",\"2023-09-26\",\"2023-09-25\",\"2023-09-24\",\"2023-09-23\",\"2023-09-22\",\"2023-09-21\",\"2023-09-20\",\"2023-09-19\",\"2023-09-18\",\"2023-09-17\",\"2023-09-16\",\"2023-09-15\",\"2023-09-14\",\"2023-09-13\",\"2023-09-12\",\"2023-09-11\",\"2023-09-10\",\"2023-09-09\",\"2023-09-08\",\"2023-09-07\",\"2023-09-06\",\"2023-09-05\",\"2023-09-04\",\"2023-09-03\",\"2023-09-02\",\"2023-09-01\",\"2023-08-31\",\"2023-08-30\",\"2023-08-29\",\"2023-08-28\",\"2023-08-27\",\"2023-08-26\",\"2023-08-25\",\"2023-08-24\",\"2023-08-23\",\"2023-08-22\",\"2023-08-21\",\"2023-08-20\",\"2023-08-19\",\"2023-08-18\",\"2023-08-17\",\"2023-08-16\",\"2023-08-15\",\"2023-08-14\",\"2023-08-13\",\"2023-08-12\",\"2023-08-11\",\"2023-08-10\",\"2023-08-09\",\"2023-08-08\",\"2023-08-07\",\"2023-08-06\",\"2023-08-05\",\"2023-08-04\",\"2023-08-03\",\"2023-08-02\",\"2023-08-01\",\"2023-07-31\",\"2023-07-30\",\"2023-07-29\",\"2023-07-28\",\"2023-07-27\",\"2023-07-26\",\"2023-07-25\",\"2023-07-24\",\"2023-07-23\",\"2023-07-22\",\"2023-07-21\",\"2023-07-20\",\"2023-07-19\",\"2023-07-18\",\"2023-07-17\",\"2023-07-16\",\"2023-07-15\",\"2023-07-14\",\"2023-07-13\",\"2023-07-12\",\"2023-07-11\",\"2023-07-10\",\"2023-07-09\",\"2023-07-08\",\"2023-07-07\",\"2023-07-06\",\"2023-07-05\",\"2023-07-04\",\"2023-07-03\",\"2023-07-02\",\"2023-07-01\",\"2023-06-30\",\"2023-06-29\",\"2023-06-28\",\"2023-06-27\",\"2023-06-26\",\"2023-06-25\",\"2023-06-24\",\"2023-06-23\",\"2023-06-22\",\"2023-06-21\",\"2023-06-20\",\"2023-06-19\",\"2023-06-18\",\"2023-06-17\",\"2023-06-16\",\"2023-06-15\",\"2023-06-14\",\"2023-06-13\",\"2023-06-12\"],\"xaxis\":\"x\",\"y\":[57741000.0,57920000.0,57032000.0,58042000.0,58002000.0,59250000.0,59532000.0,59479000.0,59351000.0,57845000.0,58130000.0,56710000.0,57935000.0,58028000.0,58735000.0,59056000.0,57605000.0,56950000.0,59835000.0,60082000.0,60142000.0,59250000.0,60314000.0,60227000.0,56920000.0,53700000.0,52603000.0,51709000.0,50586000.0,50720000.0,50576000.0,50275000.0,50210000.0,50533000.0,50601000.0,49929000.0,50042000.0,48510000.0,50170000.0,49800000.0,49165000.0,49390000.0,48868000.0,50457000.0,47969000.0,49154000.0,49418000.0,49629000.0,50030000.0,49400000.0,47458000.0,47301000.0,46781000.0,47056000.0,47050000.0,46676000.0,47516000.0,48079000.0,47030000.0,46732000.0,46825000.0,46314000.0,45980000.0,46141000.0,46484000.0,45599000.0,44179000.0,40354000.0,40400000.0,40250000.0,39000000.0,38710000.0,38652000.0,38697000.0,37086000.0,36790000.0,36968000.0,36750000.0,36671000.0,37336000.0,37595000.0,37929000.0,37902000.0,37798000.0,37258000.0,37595000.0,37197000.0,37424000.0,37789000.0,36600000.0,36444000.0,36596000.0,35982000.0,35566000.0,35491000.0,35534000.0,35960000.0,35952000.0,36012000.0,36501000.0,36500000.0,36000000.0,35758000.0,35938000.0,35928000.0,35889000.0,35497000.0,35077000.0,34327000.0,35196000.0,35280000.0,35295000.0,35615000.0,35029000.0,35056000.0,35011000.0,35308000.0,35204000.0,35350000.0,35502000.0,37109000.0,37445000.0,35335000.0,35402000.0,35398000.0,35479000.0,35635000.0,35941000.0,35684000.0,35769000.0,35949000.0,36056000.0,35890000.0,36588000.0,39001000.0,39404000.0,39288000.0,39118000.0,39283000.0,39233000.0,39119000.0,39209000.0,39437000.0,38622000.0,38605000.0,38474000.0,38492000.0,38436000.0,38358000.0,38642000.0,37929000.0,37850000.0,37901000.0,37932000.0,37874000.0,37918000.0,37910000.0,37892000.0,38945000.0,38776000.0,38829000.0,38567000.0,38323000.0,38401000.0,38742000.0,38933000.0,38889000.0,39092000.0,40112000.0,39804000.0,40117000.0,40050000.0,39832000.0,40153000.0,40240000.0,39860000.0,40385000.0,40610000.0,41200000.0,40652000.0,40691000.0,40547000.0,40583000.0,40020000.0,40585000.0,40077000.0,40352000.0,40659000.0,40651000.0,39125000.0,39135000.0,36946000.0,35092000.0,34466000.0,34780000.0,34501000.0,33449000.0,33007000.0,33913000.0,34059000.0],\"yaxis\":\"y\",\"type\":\"scatter\"}],                        {\"legend\":{\"tracegroupgap\":0},\"margin\":{\"t\":60},\"template\":{\"data\":{\"barpolar\":[{\"marker\":{\"line\":{\"color\":\"#E5ECF6\",\"width\":0.5},\"pattern\":{\"fillmode\":\"overlay\",\"size\":10,\"solidity\":0.2}},\"type\":\"barpolar\"}],\"bar\":[{\"error_x\":{\"color\":\"#2a3f5f\"},\"error_y\":{\"color\":\"#2a3f5f\"},\"marker\":{\"line\":{\"color\":\"#E5ECF6\",\"width\":0.5},\"pattern\":{\"fillmode\":\"overlay\",\"size\":10,\"solidity\":0.2}},\"type\":\"bar\"}],\"carpet\":[{\"aaxis\":{\"endlinecolor\":\"#2a3f5f\",\"gridcolor\":\"white\",\"linecolor\":\"white\",\"minorgridcolor\":\"white\",\"startlinecolor\":\"#2a3f5f\"},\"baxis\":{\"endlinecolor\":\"#2a3f5f\",\"gridcolor\":\"white\",\"linecolor\":\"white\",\"minorgridcolor\":\"white\",\"startlinecolor\":\"#2a3f5f\"},\"type\":\"carpet\"}],\"choropleth\":[{\"colorbar\":{\"outlinewidth\":0,\"ticks\":\"\"},\"type\":\"choropleth\"}],\"contourcarpet\":[{\"colorbar\":{\"outlinewidth\":0,\"ticks\":\"\"},\"type\":\"contourcarpet\"}],\"contour\":[{\"colorbar\":{\"outlinewidth\":0,\"ticks\":\"\"},\"colorscale\":[[0.0,\"#0d0887\"],[0.1111111111111111,\"#46039f\"],[0.2222222222222222,\"#7201a8\"],[0.3333333333333333,\"#9c179e\"],[0.4444444444444444,\"#bd3786\"],[0.5555555555555556,\"#d8576b\"],[0.6666666666666666,\"#ed7953\"],[0.7777777777777778,\"#fb9f3a\"],[0.8888888888888888,\"#fdca26\"],[1.0,\"#f0f921\"]],\"type\":\"contour\"}],\"heatmapgl\":[{\"colorbar\":{\"outlinewidth\":0,\"ticks\":\"\"},\"colorscale\":[[0.0,\"#0d0887\"],[0.1111111111111111,\"#46039f\"],[0.2222222222222222,\"#7201a8\"],[0.3333333333333333,\"#9c179e\"],[0.4444444444444444,\"#bd3786\"],[0.5555555555555556,\"#d8576b\"],[0.6666666666666666,\"#ed7953\"],[0.7777777777777778,\"#fb9f3a\"],[0.8888888888888888,\"#fdca26\"],[1.0,\"#f0f921\"]],\"type\":\"heatmapgl\"}],\"heatmap\":[{\"colorbar\":{\"outlinewidth\":0,\"ticks\":\"\"},\"colorscale\":[[0.0,\"#0d0887\"],[0.1111111111111111,\"#46039f\"],[0.2222222222222222,\"#7201a8\"],[0.3333333333333333,\"#9c179e\"],[0.4444444444444444,\"#bd3786\"],[0.5555555555555556,\"#d8576b\"],[0.6666666666666666,\"#ed7953\"],[0.7777777777777778,\"#fb9f3a\"],[0.8888888888888888,\"#fdca26\"],[1.0,\"#f0f921\"]],\"type\":\"heatmap\"}],\"histogram2dcontour\":[{\"colorbar\":{\"outlinewidth\":0,\"ticks\":\"\"},\"colorscale\":[[0.0,\"#0d0887\"],[0.1111111111111111,\"#46039f\"],[0.2222222222222222,\"#7201a8\"],[0.3333333333333333,\"#9c179e\"],[0.4444444444444444,\"#bd3786\"],[0.5555555555555556,\"#d8576b\"],[0.6666666666666666,\"#ed7953\"],[0.7777777777777778,\"#fb9f3a\"],[0.8888888888888888,\"#fdca26\"],[1.0,\"#f0f921\"]],\"type\":\"histogram2dcontour\"}],\"histogram2d\":[{\"colorbar\":{\"outlinewidth\":0,\"ticks\":\"\"},\"colorscale\":[[0.0,\"#0d0887\"],[0.1111111111111111,\"#46039f\"],[0.2222222222222222,\"#7201a8\"],[0.3333333333333333,\"#9c179e\"],[0.4444444444444444,\"#bd3786\"],[0.5555555555555556,\"#d8576b\"],[0.6666666666666666,\"#ed7953\"],[0.7777777777777778,\"#fb9f3a\"],[0.8888888888888888,\"#fdca26\"],[1.0,\"#f0f921\"]],\"type\":\"histogram2d\"}],\"histogram\":[{\"marker\":{\"pattern\":{\"fillmode\":\"overlay\",\"size\":10,\"solidity\":0.2}},\"type\":\"histogram\"}],\"mesh3d\":[{\"colorbar\":{\"outlinewidth\":0,\"ticks\":\"\"},\"type\":\"mesh3d\"}],\"parcoords\":[{\"line\":{\"colorbar\":{\"outlinewidth\":0,\"ticks\":\"\"}},\"type\":\"parcoords\"}],\"pie\":[{\"automargin\":true,\"type\":\"pie\"}],\"scatter3d\":[{\"line\":{\"colorbar\":{\"outlinewidth\":0,\"ticks\":\"\"}},\"marker\":{\"colorbar\":{\"outlinewidth\":0,\"ticks\":\"\"}},\"type\":\"scatter3d\"}],\"scattercarpet\":[{\"marker\":{\"colorbar\":{\"outlinewidth\":0,\"ticks\":\"\"}},\"type\":\"scattercarpet\"}],\"scattergeo\":[{\"marker\":{\"colorbar\":{\"outlinewidth\":0,\"ticks\":\"\"}},\"type\":\"scattergeo\"}],\"scattergl\":[{\"marker\":{\"colorbar\":{\"outlinewidth\":0,\"ticks\":\"\"}},\"type\":\"scattergl\"}],\"scattermapbox\":[{\"marker\":{\"colorbar\":{\"outlinewidth\":0,\"ticks\":\"\"}},\"type\":\"scattermapbox\"}],\"scatterpolargl\":[{\"marker\":{\"colorbar\":{\"outlinewidth\":0,\"ticks\":\"\"}},\"type\":\"scatterpolargl\"}],\"scatterpolar\":[{\"marker\":{\"colorbar\":{\"outlinewidth\":0,\"ticks\":\"\"}},\"type\":\"scatterpolar\"}],\"scatter\":[{\"fillpattern\":{\"fillmode\":\"overlay\",\"size\":10,\"solidity\":0.2},\"type\":\"scatter\"}],\"scatterternary\":[{\"marker\":{\"colorbar\":{\"outlinewidth\":0,\"ticks\":\"\"}},\"type\":\"scatterternary\"}],\"surface\":[{\"colorbar\":{\"outlinewidth\":0,\"ticks\":\"\"},\"colorscale\":[[0.0,\"#0d0887\"],[0.1111111111111111,\"#46039f\"],[0.2222222222222222,\"#7201a8\"],[0.3333333333333333,\"#9c179e\"],[0.4444444444444444,\"#bd3786\"],[0.5555555555555556,\"#d8576b\"],[0.6666666666666666,\"#ed7953\"],[0.7777777777777778,\"#fb9f3a\"],[0.8888888888888888,\"#fdca26\"],[1.0,\"#f0f921\"]],\"type\":\"surface\"}],\"table\":[{\"cells\":{\"fill\":{\"color\":\"#EBF0F8\"},\"line\":{\"color\":\"white\"}},\"header\":{\"fill\":{\"color\":\"#C8D4E3\"},\"line\":{\"color\":\"white\"}},\"type\":\"table\"}]},\"layout\":{\"annotationdefaults\":{\"arrowcolor\":\"#2a3f5f\",\"arrowhead\":0,\"arrowwidth\":1},\"autotypenumbers\":\"strict\",\"coloraxis\":{\"colorbar\":{\"outlinewidth\":0,\"ticks\":\"\"}},\"colorscale\":{\"diverging\":[[0,\"#8e0152\"],[0.1,\"#c51b7d\"],[0.2,\"#de77ae\"],[0.3,\"#f1b6da\"],[0.4,\"#fde0ef\"],[0.5,\"#f7f7f7\"],[0.6,\"#e6f5d0\"],[0.7,\"#b8e186\"],[0.8,\"#7fbc41\"],[0.9,\"#4d9221\"],[1,\"#276419\"]],\"sequential\":[[0.0,\"#0d0887\"],[0.1111111111111111,\"#46039f\"],[0.2222222222222222,\"#7201a8\"],[0.3333333333333333,\"#9c179e\"],[0.4444444444444444,\"#bd3786\"],[0.5555555555555556,\"#d8576b\"],[0.6666666666666666,\"#ed7953\"],[0.7777777777777778,\"#fb9f3a\"],[0.8888888888888888,\"#fdca26\"],[1.0,\"#f0f921\"]],\"sequentialminus\":[[0.0,\"#0d0887\"],[0.1111111111111111,\"#46039f\"],[0.2222222222222222,\"#7201a8\"],[0.3333333333333333,\"#9c179e\"],[0.4444444444444444,\"#bd3786\"],[0.5555555555555556,\"#d8576b\"],[0.6666666666666666,\"#ed7953\"],[0.7777777777777778,\"#fb9f3a\"],[0.8888888888888888,\"#fdca26\"],[1.0,\"#f0f921\"]]},\"colorway\":[\"#636efa\",\"#EF553B\",\"#00cc96\",\"#ab63fa\",\"#FFA15A\",\"#19d3f3\",\"#FF6692\",\"#B6E880\",\"#FF97FF\",\"#FECB52\"],\"font\":{\"color\":\"#2a3f5f\"},\"geo\":{\"bgcolor\":\"white\",\"lakecolor\":\"white\",\"landcolor\":\"#E5ECF6\",\"showlakes\":true,\"showland\":true,\"subunitcolor\":\"white\"},\"hoverlabel\":{\"align\":\"left\"},\"hovermode\":\"closest\",\"mapbox\":{\"style\":\"light\"},\"paper_bgcolor\":\"white\",\"plot_bgcolor\":\"#E5ECF6\",\"polar\":{\"angularaxis\":{\"gridcolor\":\"white\",\"linecolor\":\"white\",\"ticks\":\"\"},\"bgcolor\":\"#E5ECF6\",\"radialaxis\":{\"gridcolor\":\"white\",\"linecolor\":\"white\",\"ticks\":\"\"}},\"scene\":{\"xaxis\":{\"backgroundcolor\":\"#E5ECF6\",\"gridcolor\":\"white\",\"gridwidth\":2,\"linecolor\":\"white\",\"showbackground\":true,\"ticks\":\"\",\"zerolinecolor\":\"white\"},\"yaxis\":{\"backgroundcolor\":\"#E5ECF6\",\"gridcolor\":\"white\",\"gridwidth\":2,\"linecolor\":\"white\",\"showbackground\":true,\"ticks\":\"\",\"zerolinecolor\":\"white\"},\"zaxis\":{\"backgroundcolor\":\"#E5ECF6\",\"gridcolor\":\"white\",\"gridwidth\":2,\"linecolor\":\"white\",\"showbackground\":true,\"ticks\":\"\",\"zerolinecolor\":\"white\"}},\"shapedefaults\":{\"line\":{\"color\":\"#2a3f5f\"}},\"ternary\":{\"aaxis\":{\"gridcolor\":\"white\",\"linecolor\":\"white\",\"ticks\":\"\"},\"baxis\":{\"gridcolor\":\"white\",\"linecolor\":\"white\",\"ticks\":\"\"},\"bgcolor\":\"#E5ECF6\",\"caxis\":{\"gridcolor\":\"white\",\"linecolor\":\"white\",\"ticks\":\"\"}},\"title\":{\"x\":0.05},\"xaxis\":{\"automargin\":true,\"gridcolor\":\"white\",\"linecolor\":\"white\",\"ticks\":\"\",\"title\":{\"standoff\":15},\"zerolinecolor\":\"white\",\"zerolinewidth\":2},\"yaxis\":{\"automargin\":true,\"gridcolor\":\"white\",\"linecolor\":\"white\",\"ticks\":\"\",\"title\":{\"standoff\":15},\"zerolinecolor\":\"white\",\"zerolinewidth\":2}}},\"xaxis\":{\"anchor\":\"y\",\"domain\":[0.0,1.0],\"title\":{\"text\":\"candle_date_time_kst\"}},\"yaxis\":{\"anchor\":\"x\",\"domain\":[0.0,1.0],\"title\":{\"text\":\"trade_price\"}}},                        {\"responsive\": true}                    ).then(function(){\n",
       "                            \n",
       "var gd = document.getElementById('49edde75-9f26-4cd3-8e63-c62c2eca1fd0');\n",
       "var x = new MutationObserver(function (mutations, observer) {{\n",
       "        var display = window.getComputedStyle(gd).display;\n",
       "        if (!display || display === 'none') {{\n",
       "            console.log([gd, 'removed!']);\n",
       "            Plotly.purge(gd);\n",
       "            observer.disconnect();\n",
       "        }}\n",
       "}});\n",
       "\n",
       "// Listen for the removal of the full notebook cells\n",
       "var notebookContainer = gd.closest('#notebook-container');\n",
       "if (notebookContainer) {{\n",
       "    x.observe(notebookContainer, {childList: true});\n",
       "}}\n",
       "\n",
       "// Listen for the clearing of the current output cell\n",
       "var outputEl = gd.closest('.output');\n",
       "if (outputEl) {{\n",
       "    x.observe(outputEl, {childList: true});\n",
       "}}\n",
       "\n",
       "                        })                };                });            </script>        </div>"
      ]
     },
     "metadata": {},
     "output_type": "display_data"
    }
   ],
   "source": [
    "fig = px.line(my_df[my_df.market=='BTC'],\n",
    "                x = 'candle_date_time_kst',\n",
    "                y = 'trade_price')\n",
    "\n",
    "plotly.offline.iplot(fig)\n",
    "# = fig.show()"
   ]
  },
  {
   "cell_type": "code",
   "execution_count": 180,
   "id": "33954176",
   "metadata": {},
   "outputs": [],
   "source": [
    "tmp_df = lol_df[['championName','totalDamageDealtToChampions','totalDamageTaken']]"
   ]
  },
  {
   "cell_type": "code",
   "execution_count": 181,
   "id": "bb15b9da",
   "metadata": {},
   "outputs": [
    {
     "data": {
      "text/html": [
       "<div>\n",
       "<style scoped>\n",
       "    .dataframe tbody tr th:only-of-type {\n",
       "        vertical-align: middle;\n",
       "    }\n",
       "\n",
       "    .dataframe tbody tr th {\n",
       "        vertical-align: top;\n",
       "    }\n",
       "\n",
       "    .dataframe thead th {\n",
       "        text-align: right;\n",
       "    }\n",
       "</style>\n",
       "<table border=\"1\" class=\"dataframe\">\n",
       "  <thead>\n",
       "    <tr style=\"text-align: right;\">\n",
       "      <th></th>\n",
       "      <th>championName</th>\n",
       "      <th>totalDamageDealtToChampions</th>\n",
       "      <th>totalDamageTaken</th>\n",
       "    </tr>\n",
       "  </thead>\n",
       "  <tbody>\n",
       "    <tr>\n",
       "      <th>0</th>\n",
       "      <td>Kaisa</td>\n",
       "      <td>81101</td>\n",
       "      <td>24333</td>\n",
       "    </tr>\n",
       "    <tr>\n",
       "      <th>1</th>\n",
       "      <td>Akali</td>\n",
       "      <td>75083</td>\n",
       "      <td>27058</td>\n",
       "    </tr>\n",
       "    <tr>\n",
       "      <th>2</th>\n",
       "      <td>Taric</td>\n",
       "      <td>19873</td>\n",
       "      <td>33831</td>\n",
       "    </tr>\n",
       "    <tr>\n",
       "      <th>3</th>\n",
       "      <td>Gragas</td>\n",
       "      <td>35828</td>\n",
       "      <td>33945</td>\n",
       "    </tr>\n",
       "    <tr>\n",
       "      <th>4</th>\n",
       "      <td>XinZhao</td>\n",
       "      <td>71490</td>\n",
       "      <td>19714</td>\n",
       "    </tr>\n",
       "    <tr>\n",
       "      <th>...</th>\n",
       "      <td>...</td>\n",
       "      <td>...</td>\n",
       "      <td>...</td>\n",
       "    </tr>\n",
       "    <tr>\n",
       "      <th>71873</th>\n",
       "      <td>Jax</td>\n",
       "      <td>11814</td>\n",
       "      <td>10942</td>\n",
       "    </tr>\n",
       "    <tr>\n",
       "      <th>71874</th>\n",
       "      <td>Singed</td>\n",
       "      <td>1807</td>\n",
       "      <td>17352</td>\n",
       "    </tr>\n",
       "    <tr>\n",
       "      <th>71875</th>\n",
       "      <td>Yone</td>\n",
       "      <td>6144</td>\n",
       "      <td>7474</td>\n",
       "    </tr>\n",
       "    <tr>\n",
       "      <th>71876</th>\n",
       "      <td>Aphelios</td>\n",
       "      <td>10989</td>\n",
       "      <td>5144</td>\n",
       "    </tr>\n",
       "    <tr>\n",
       "      <th>71877</th>\n",
       "      <td>Thresh</td>\n",
       "      <td>2142</td>\n",
       "      <td>3713</td>\n",
       "    </tr>\n",
       "  </tbody>\n",
       "</table>\n",
       "<p>71878 rows × 3 columns</p>\n",
       "</div>"
      ],
      "text/plain": [
       "      championName  totalDamageDealtToChampions  totalDamageTaken\n",
       "0            Kaisa                        81101             24333\n",
       "1            Akali                        75083             27058\n",
       "2            Taric                        19873             33831\n",
       "3           Gragas                        35828             33945\n",
       "4          XinZhao                        71490             19714\n",
       "...            ...                          ...               ...\n",
       "71873          Jax                        11814             10942\n",
       "71874       Singed                         1807             17352\n",
       "71875         Yone                         6144              7474\n",
       "71876     Aphelios                        10989              5144\n",
       "71877       Thresh                         2142              3713\n",
       "\n",
       "[71878 rows x 3 columns]"
      ]
     },
     "execution_count": 181,
     "metadata": {},
     "output_type": "execute_result"
    }
   ],
   "source": [
    "tmp_df"
   ]
  },
  {
   "cell_type": "markdown",
   "id": "485f5011",
   "metadata": {},
   "source": [
    "# 산점도 그래프 -scatter\n",
    "# ChampionName을 기준으로 평균내기\n",
    "# x는 딜량 y는 받은 데미지\n",
    "# color = 'championName'\n",
    "# plotly 제작"
   ]
  },
  {
   "cell_type": "code",
   "execution_count": 198,
   "id": "9763e30c",
   "metadata": {},
   "outputs": [],
   "source": [
    "cmp_df = tmp_df.groupby('championName').mean().round().reset_index()"
   ]
  },
  {
   "cell_type": "code",
   "execution_count": 199,
   "id": "c27007e4",
   "metadata": {},
   "outputs": [
    {
     "data": {
      "text/html": [
       "<div>\n",
       "<style scoped>\n",
       "    .dataframe tbody tr th:only-of-type {\n",
       "        vertical-align: middle;\n",
       "    }\n",
       "\n",
       "    .dataframe tbody tr th {\n",
       "        vertical-align: top;\n",
       "    }\n",
       "\n",
       "    .dataframe thead th {\n",
       "        text-align: right;\n",
       "    }\n",
       "</style>\n",
       "<table border=\"1\" class=\"dataframe\">\n",
       "  <thead>\n",
       "    <tr style=\"text-align: right;\">\n",
       "      <th></th>\n",
       "      <th>championName</th>\n",
       "      <th>totalDamageDealtToChampions</th>\n",
       "      <th>totalDamageTaken</th>\n",
       "    </tr>\n",
       "  </thead>\n",
       "  <tbody>\n",
       "    <tr>\n",
       "      <th>0</th>\n",
       "      <td>Aatrox</td>\n",
       "      <td>22244.0</td>\n",
       "      <td>33878.0</td>\n",
       "    </tr>\n",
       "    <tr>\n",
       "      <th>1</th>\n",
       "      <td>Ahri</td>\n",
       "      <td>22302.0</td>\n",
       "      <td>21309.0</td>\n",
       "    </tr>\n",
       "    <tr>\n",
       "      <th>2</th>\n",
       "      <td>Akali</td>\n",
       "      <td>23199.0</td>\n",
       "      <td>27813.0</td>\n",
       "    </tr>\n",
       "    <tr>\n",
       "      <th>3</th>\n",
       "      <td>Akshan</td>\n",
       "      <td>23246.0</td>\n",
       "      <td>20725.0</td>\n",
       "    </tr>\n",
       "    <tr>\n",
       "      <th>4</th>\n",
       "      <td>Alistar</td>\n",
       "      <td>12142.0</td>\n",
       "      <td>32355.0</td>\n",
       "    </tr>\n",
       "    <tr>\n",
       "      <th>...</th>\n",
       "      <td>...</td>\n",
       "      <td>...</td>\n",
       "      <td>...</td>\n",
       "    </tr>\n",
       "    <tr>\n",
       "      <th>161</th>\n",
       "      <td>Zeri</td>\n",
       "      <td>25238.0</td>\n",
       "      <td>22042.0</td>\n",
       "    </tr>\n",
       "    <tr>\n",
       "      <th>162</th>\n",
       "      <td>Ziggs</td>\n",
       "      <td>28127.0</td>\n",
       "      <td>18311.0</td>\n",
       "    </tr>\n",
       "    <tr>\n",
       "      <th>163</th>\n",
       "      <td>Zilean</td>\n",
       "      <td>12849.0</td>\n",
       "      <td>19486.0</td>\n",
       "    </tr>\n",
       "    <tr>\n",
       "      <th>164</th>\n",
       "      <td>Zoe</td>\n",
       "      <td>26343.0</td>\n",
       "      <td>20344.0</td>\n",
       "    </tr>\n",
       "    <tr>\n",
       "      <th>165</th>\n",
       "      <td>Zyra</td>\n",
       "      <td>21559.0</td>\n",
       "      <td>17532.0</td>\n",
       "    </tr>\n",
       "  </tbody>\n",
       "</table>\n",
       "<p>166 rows × 3 columns</p>\n",
       "</div>"
      ],
      "text/plain": [
       "    championName  totalDamageDealtToChampions  totalDamageTaken\n",
       "0         Aatrox                      22244.0           33878.0\n",
       "1           Ahri                      22302.0           21309.0\n",
       "2          Akali                      23199.0           27813.0\n",
       "3         Akshan                      23246.0           20725.0\n",
       "4        Alistar                      12142.0           32355.0\n",
       "..           ...                          ...               ...\n",
       "161         Zeri                      25238.0           22042.0\n",
       "162        Ziggs                      28127.0           18311.0\n",
       "163       Zilean                      12849.0           19486.0\n",
       "164          Zoe                      26343.0           20344.0\n",
       "165         Zyra                      21559.0           17532.0\n",
       "\n",
       "[166 rows x 3 columns]"
      ]
     },
     "execution_count": 199,
     "metadata": {},
     "output_type": "execute_result"
    }
   ],
   "source": [
    "cmp_df"
   ]
  },
  {
   "cell_type": "code",
   "execution_count": 202,
   "id": "5a77f986",
   "metadata": {},
   "outputs": [
    {
     "data": {
      "application/vnd.plotly.v1+json": {
       "config": {
        "linkText": "Export to plot.ly",
        "plotlyServerURL": "https://plot.ly",
        "showLink": false
       },
       "data": [
        {
         "hovertemplate": "championName=Aatrox<br>totalDamageDealtToChampions=%{x}<br>totalDamageTaken=%{y}<extra></extra>",
         "legendgroup": "Aatrox",
         "marker": {
          "color": "#636efa",
          "symbol": "circle"
         },
         "mode": "markers",
         "name": "Aatrox",
         "orientation": "v",
         "showlegend": true,
         "type": "scatter",
         "x": [
          22244
         ],
         "xaxis": "x",
         "y": [
          33878
         ],
         "yaxis": "y"
        },
        {
         "hovertemplate": "championName=Ahri<br>totalDamageDealtToChampions=%{x}<br>totalDamageTaken=%{y}<extra></extra>",
         "legendgroup": "Ahri",
         "marker": {
          "color": "#EF553B",
          "symbol": "circle"
         },
         "mode": "markers",
         "name": "Ahri",
         "orientation": "v",
         "showlegend": true,
         "type": "scatter",
         "x": [
          22302
         ],
         "xaxis": "x",
         "y": [
          21309
         ],
         "yaxis": "y"
        },
        {
         "hovertemplate": "championName=Akali<br>totalDamageDealtToChampions=%{x}<br>totalDamageTaken=%{y}<extra></extra>",
         "legendgroup": "Akali",
         "marker": {
          "color": "#00cc96",
          "symbol": "circle"
         },
         "mode": "markers",
         "name": "Akali",
         "orientation": "v",
         "showlegend": true,
         "type": "scatter",
         "x": [
          23199
         ],
         "xaxis": "x",
         "y": [
          27813
         ],
         "yaxis": "y"
        },
        {
         "hovertemplate": "championName=Akshan<br>totalDamageDealtToChampions=%{x}<br>totalDamageTaken=%{y}<extra></extra>",
         "legendgroup": "Akshan",
         "marker": {
          "color": "#ab63fa",
          "symbol": "circle"
         },
         "mode": "markers",
         "name": "Akshan",
         "orientation": "v",
         "showlegend": true,
         "type": "scatter",
         "x": [
          23246
         ],
         "xaxis": "x",
         "y": [
          20725
         ],
         "yaxis": "y"
        },
        {
         "hovertemplate": "championName=Alistar<br>totalDamageDealtToChampions=%{x}<br>totalDamageTaken=%{y}<extra></extra>",
         "legendgroup": "Alistar",
         "marker": {
          "color": "#FFA15A",
          "symbol": "circle"
         },
         "mode": "markers",
         "name": "Alistar",
         "orientation": "v",
         "showlegend": true,
         "type": "scatter",
         "x": [
          12142
         ],
         "xaxis": "x",
         "y": [
          32355
         ],
         "yaxis": "y"
        },
        {
         "hovertemplate": "championName=Amumu<br>totalDamageDealtToChampions=%{x}<br>totalDamageTaken=%{y}<extra></extra>",
         "legendgroup": "Amumu",
         "marker": {
          "color": "#19d3f3",
          "symbol": "circle"
         },
         "mode": "markers",
         "name": "Amumu",
         "orientation": "v",
         "showlegend": true,
         "type": "scatter",
         "x": [
          16975
         ],
         "xaxis": "x",
         "y": [
          30142
         ],
         "yaxis": "y"
        },
        {
         "hovertemplate": "championName=Anivia<br>totalDamageDealtToChampions=%{x}<br>totalDamageTaken=%{y}<extra></extra>",
         "legendgroup": "Anivia",
         "marker": {
          "color": "#FF6692",
          "symbol": "circle"
         },
         "mode": "markers",
         "name": "Anivia",
         "orientation": "v",
         "showlegend": true,
         "type": "scatter",
         "x": [
          21903
         ],
         "xaxis": "x",
         "y": [
          26893
         ],
         "yaxis": "y"
        },
        {
         "hovertemplate": "championName=Annie<br>totalDamageDealtToChampions=%{x}<br>totalDamageTaken=%{y}<extra></extra>",
         "legendgroup": "Annie",
         "marker": {
          "color": "#B6E880",
          "symbol": "circle"
         },
         "mode": "markers",
         "name": "Annie",
         "orientation": "v",
         "showlegend": true,
         "type": "scatter",
         "x": [
          26570
         ],
         "xaxis": "x",
         "y": [
          20861
         ],
         "yaxis": "y"
        },
        {
         "hovertemplate": "championName=Aphelios<br>totalDamageDealtToChampions=%{x}<br>totalDamageTaken=%{y}<extra></extra>",
         "legendgroup": "Aphelios",
         "marker": {
          "color": "#FF97FF",
          "symbol": "circle"
         },
         "mode": "markers",
         "name": "Aphelios",
         "orientation": "v",
         "showlegend": true,
         "type": "scatter",
         "x": [
          22402
         ],
         "xaxis": "x",
         "y": [
          18175
         ],
         "yaxis": "y"
        },
        {
         "hovertemplate": "championName=Ashe<br>totalDamageDealtToChampions=%{x}<br>totalDamageTaken=%{y}<extra></extra>",
         "legendgroup": "Ashe",
         "marker": {
          "color": "#FECB52",
          "symbol": "circle"
         },
         "mode": "markers",
         "name": "Ashe",
         "orientation": "v",
         "showlegend": true,
         "type": "scatter",
         "x": [
          19159
         ],
         "xaxis": "x",
         "y": [
          18643
         ],
         "yaxis": "y"
        },
        {
         "hovertemplate": "championName=AurelionSol<br>totalDamageDealtToChampions=%{x}<br>totalDamageTaken=%{y}<extra></extra>",
         "legendgroup": "AurelionSol",
         "marker": {
          "color": "#636efa",
          "symbol": "circle"
         },
         "mode": "markers",
         "name": "AurelionSol",
         "orientation": "v",
         "showlegend": true,
         "type": "scatter",
         "x": [
          28080
         ],
         "xaxis": "x",
         "y": [
          23380
         ],
         "yaxis": "y"
        },
        {
         "hovertemplate": "championName=Azir<br>totalDamageDealtToChampions=%{x}<br>totalDamageTaken=%{y}<extra></extra>",
         "legendgroup": "Azir",
         "marker": {
          "color": "#EF553B",
          "symbol": "circle"
         },
         "mode": "markers",
         "name": "Azir",
         "orientation": "v",
         "showlegend": true,
         "type": "scatter",
         "x": [
          23807
         ],
         "xaxis": "x",
         "y": [
          20542
         ],
         "yaxis": "y"
        },
        {
         "hovertemplate": "championName=Bard<br>totalDamageDealtToChampions=%{x}<br>totalDamageTaken=%{y}<extra></extra>",
         "legendgroup": "Bard",
         "marker": {
          "color": "#00cc96",
          "symbol": "circle"
         },
         "mode": "markers",
         "name": "Bard",
         "orientation": "v",
         "showlegend": true,
         "type": "scatter",
         "x": [
          13846
         ],
         "xaxis": "x",
         "y": [
          21506
         ],
         "yaxis": "y"
        },
        {
         "hovertemplate": "championName=Belveth<br>totalDamageDealtToChampions=%{x}<br>totalDamageTaken=%{y}<extra></extra>",
         "legendgroup": "Belveth",
         "marker": {
          "color": "#ab63fa",
          "symbol": "circle"
         },
         "mode": "markers",
         "name": "Belveth",
         "orientation": "v",
         "showlegend": true,
         "type": "scatter",
         "x": [
          16850
         ],
         "xaxis": "x",
         "y": [
          27695
         ],
         "yaxis": "y"
        },
        {
         "hovertemplate": "championName=Blitzcrank<br>totalDamageDealtToChampions=%{x}<br>totalDamageTaken=%{y}<extra></extra>",
         "legendgroup": "Blitzcrank",
         "marker": {
          "color": "#FFA15A",
          "symbol": "circle"
         },
         "mode": "markers",
         "name": "Blitzcrank",
         "orientation": "v",
         "showlegend": true,
         "type": "scatter",
         "x": [
          10670
         ],
         "xaxis": "x",
         "y": [
          22619
         ],
         "yaxis": "y"
        },
        {
         "hovertemplate": "championName=Brand<br>totalDamageDealtToChampions=%{x}<br>totalDamageTaken=%{y}<extra></extra>",
         "legendgroup": "Brand",
         "marker": {
          "color": "#19d3f3",
          "symbol": "circle"
         },
         "mode": "markers",
         "name": "Brand",
         "orientation": "v",
         "showlegend": true,
         "type": "scatter",
         "x": [
          25713
         ],
         "xaxis": "x",
         "y": [
          23831
         ],
         "yaxis": "y"
        },
        {
         "hovertemplate": "championName=Braum<br>totalDamageDealtToChampions=%{x}<br>totalDamageTaken=%{y}<extra></extra>",
         "legendgroup": "Braum",
         "marker": {
          "color": "#FF6692",
          "symbol": "circle"
         },
         "mode": "markers",
         "name": "Braum",
         "orientation": "v",
         "showlegend": true,
         "type": "scatter",
         "x": [
          9503
         ],
         "xaxis": "x",
         "y": [
          25963
         ],
         "yaxis": "y"
        },
        {
         "hovertemplate": "championName=Briar<br>totalDamageDealtToChampions=%{x}<br>totalDamageTaken=%{y}<extra></extra>",
         "legendgroup": "Briar",
         "marker": {
          "color": "#B6E880",
          "symbol": "circle"
         },
         "mode": "markers",
         "name": "Briar",
         "orientation": "v",
         "showlegend": true,
         "type": "scatter",
         "x": [
          21549
         ],
         "xaxis": "x",
         "y": [
          32553
         ],
         "yaxis": "y"
        },
        {
         "hovertemplate": "championName=Caitlyn<br>totalDamageDealtToChampions=%{x}<br>totalDamageTaken=%{y}<extra></extra>",
         "legendgroup": "Caitlyn",
         "marker": {
          "color": "#FF97FF",
          "symbol": "circle"
         },
         "mode": "markers",
         "name": "Caitlyn",
         "orientation": "v",
         "showlegend": true,
         "type": "scatter",
         "x": [
          23098
         ],
         "xaxis": "x",
         "y": [
          19380
         ],
         "yaxis": "y"
        },
        {
         "hovertemplate": "championName=Camille<br>totalDamageDealtToChampions=%{x}<br>totalDamageTaken=%{y}<extra></extra>",
         "legendgroup": "Camille",
         "marker": {
          "color": "#FECB52",
          "symbol": "circle"
         },
         "mode": "markers",
         "name": "Camille",
         "orientation": "v",
         "showlegend": true,
         "type": "scatter",
         "x": [
          22456
         ],
         "xaxis": "x",
         "y": [
          29823
         ],
         "yaxis": "y"
        },
        {
         "hovertemplate": "championName=Cassiopeia<br>totalDamageDealtToChampions=%{x}<br>totalDamageTaken=%{y}<extra></extra>",
         "legendgroup": "Cassiopeia",
         "marker": {
          "color": "#636efa",
          "symbol": "circle"
         },
         "mode": "markers",
         "name": "Cassiopeia",
         "orientation": "v",
         "showlegend": true,
         "type": "scatter",
         "x": [
          24443
         ],
         "xaxis": "x",
         "y": [
          28279
         ],
         "yaxis": "y"
        },
        {
         "hovertemplate": "championName=Chogath<br>totalDamageDealtToChampions=%{x}<br>totalDamageTaken=%{y}<extra></extra>",
         "legendgroup": "Chogath",
         "marker": {
          "color": "#EF553B",
          "symbol": "circle"
         },
         "mode": "markers",
         "name": "Chogath",
         "orientation": "v",
         "showlegend": true,
         "type": "scatter",
         "x": [
          24849
         ],
         "xaxis": "x",
         "y": [
          47495
         ],
         "yaxis": "y"
        },
        {
         "hovertemplate": "championName=Corki<br>totalDamageDealtToChampions=%{x}<br>totalDamageTaken=%{y}<extra></extra>",
         "legendgroup": "Corki",
         "marker": {
          "color": "#00cc96",
          "symbol": "circle"
         },
         "mode": "markers",
         "name": "Corki",
         "orientation": "v",
         "showlegend": true,
         "type": "scatter",
         "x": [
          29190
         ],
         "xaxis": "x",
         "y": [
          22076
         ],
         "yaxis": "y"
        },
        {
         "hovertemplate": "championName=Darius<br>totalDamageDealtToChampions=%{x}<br>totalDamageTaken=%{y}<extra></extra>",
         "legendgroup": "Darius",
         "marker": {
          "color": "#ab63fa",
          "symbol": "circle"
         },
         "mode": "markers",
         "name": "Darius",
         "orientation": "v",
         "showlegend": true,
         "type": "scatter",
         "x": [
          19130
         ],
         "xaxis": "x",
         "y": [
          28669
         ],
         "yaxis": "y"
        },
        {
         "hovertemplate": "championName=Diana<br>totalDamageDealtToChampions=%{x}<br>totalDamageTaken=%{y}<extra></extra>",
         "legendgroup": "Diana",
         "marker": {
          "color": "#FFA15A",
          "symbol": "circle"
         },
         "mode": "markers",
         "name": "Diana",
         "orientation": "v",
         "showlegend": true,
         "type": "scatter",
         "x": [
          22946
         ],
         "xaxis": "x",
         "y": [
          25128
         ],
         "yaxis": "y"
        },
        {
         "hovertemplate": "championName=DrMundo<br>totalDamageDealtToChampions=%{x}<br>totalDamageTaken=%{y}<extra></extra>",
         "legendgroup": "DrMundo",
         "marker": {
          "color": "#19d3f3",
          "symbol": "circle"
         },
         "mode": "markers",
         "name": "DrMundo",
         "orientation": "v",
         "showlegend": true,
         "type": "scatter",
         "x": [
          27720
         ],
         "xaxis": "x",
         "y": [
          52274
         ],
         "yaxis": "y"
        },
        {
         "hovertemplate": "championName=Draven<br>totalDamageDealtToChampions=%{x}<br>totalDamageTaken=%{y}<extra></extra>",
         "legendgroup": "Draven",
         "marker": {
          "color": "#FF6692",
          "symbol": "circle"
         },
         "mode": "markers",
         "name": "Draven",
         "orientation": "v",
         "showlegend": true,
         "type": "scatter",
         "x": [
          23636
         ],
         "xaxis": "x",
         "y": [
          22863
         ],
         "yaxis": "y"
        },
        {
         "hovertemplate": "championName=Ekko<br>totalDamageDealtToChampions=%{x}<br>totalDamageTaken=%{y}<extra></extra>",
         "legendgroup": "Ekko",
         "marker": {
          "color": "#B6E880",
          "symbol": "circle"
         },
         "mode": "markers",
         "name": "Ekko",
         "orientation": "v",
         "showlegend": true,
         "type": "scatter",
         "x": [
          22912
         ],
         "xaxis": "x",
         "y": [
          31145
         ],
         "yaxis": "y"
        },
        {
         "hovertemplate": "championName=Elise<br>totalDamageDealtToChampions=%{x}<br>totalDamageTaken=%{y}<extra></extra>",
         "legendgroup": "Elise",
         "marker": {
          "color": "#FF97FF",
          "symbol": "circle"
         },
         "mode": "markers",
         "name": "Elise",
         "orientation": "v",
         "showlegend": true,
         "type": "scatter",
         "x": [
          19938
         ],
         "xaxis": "x",
         "y": [
          28125
         ],
         "yaxis": "y"
        },
        {
         "hovertemplate": "championName=Evelynn<br>totalDamageDealtToChampions=%{x}<br>totalDamageTaken=%{y}<extra></extra>",
         "legendgroup": "Evelynn",
         "marker": {
          "color": "#FECB52",
          "symbol": "circle"
         },
         "mode": "markers",
         "name": "Evelynn",
         "orientation": "v",
         "showlegend": true,
         "type": "scatter",
         "x": [
          22224
         ],
         "xaxis": "x",
         "y": [
          27959
         ],
         "yaxis": "y"
        },
        {
         "hovertemplate": "championName=Ezreal<br>totalDamageDealtToChampions=%{x}<br>totalDamageTaken=%{y}<extra></extra>",
         "legendgroup": "Ezreal",
         "marker": {
          "color": "#636efa",
          "symbol": "circle"
         },
         "mode": "markers",
         "name": "Ezreal",
         "orientation": "v",
         "showlegend": true,
         "type": "scatter",
         "x": [
          24901
         ],
         "xaxis": "x",
         "y": [
          20183
         ],
         "yaxis": "y"
        },
        {
         "hovertemplate": "championName=FiddleSticks<br>totalDamageDealtToChampions=%{x}<br>totalDamageTaken=%{y}<extra></extra>",
         "legendgroup": "FiddleSticks",
         "marker": {
          "color": "#EF553B",
          "symbol": "circle"
         },
         "mode": "markers",
         "name": "FiddleSticks",
         "orientation": "v",
         "showlegend": true,
         "type": "scatter",
         "x": [
          20698
         ],
         "xaxis": "x",
         "y": [
          30041
         ],
         "yaxis": "y"
        },
        {
         "hovertemplate": "championName=Fiora<br>totalDamageDealtToChampions=%{x}<br>totalDamageTaken=%{y}<extra></extra>",
         "legendgroup": "Fiora",
         "marker": {
          "color": "#00cc96",
          "symbol": "circle"
         },
         "mode": "markers",
         "name": "Fiora",
         "orientation": "v",
         "showlegend": true,
         "type": "scatter",
         "x": [
          24701
         ],
         "xaxis": "x",
         "y": [
          34066
         ],
         "yaxis": "y"
        },
        {
         "hovertemplate": "championName=Fizz<br>totalDamageDealtToChampions=%{x}<br>totalDamageTaken=%{y}<extra></extra>",
         "legendgroup": "Fizz",
         "marker": {
          "color": "#ab63fa",
          "symbol": "circle"
         },
         "mode": "markers",
         "name": "Fizz",
         "orientation": "v",
         "showlegend": true,
         "type": "scatter",
         "x": [
          22557
         ],
         "xaxis": "x",
         "y": [
          24247
         ],
         "yaxis": "y"
        },
        {
         "hovertemplate": "championName=Galio<br>totalDamageDealtToChampions=%{x}<br>totalDamageTaken=%{y}<extra></extra>",
         "legendgroup": "Galio",
         "marker": {
          "color": "#FFA15A",
          "symbol": "circle"
         },
         "mode": "markers",
         "name": "Galio",
         "orientation": "v",
         "showlegend": true,
         "type": "scatter",
         "x": [
          18296
         ],
         "xaxis": "x",
         "y": [
          26720
         ],
         "yaxis": "y"
        },
        {
         "hovertemplate": "championName=Gangplank<br>totalDamageDealtToChampions=%{x}<br>totalDamageTaken=%{y}<extra></extra>",
         "legendgroup": "Gangplank",
         "marker": {
          "color": "#19d3f3",
          "symbol": "circle"
         },
         "mode": "markers",
         "name": "Gangplank",
         "orientation": "v",
         "showlegend": true,
         "type": "scatter",
         "x": [
          28286
         ],
         "xaxis": "x",
         "y": [
          25433
         ],
         "yaxis": "y"
        },
        {
         "hovertemplate": "championName=Garen<br>totalDamageDealtToChampions=%{x}<br>totalDamageTaken=%{y}<extra></extra>",
         "legendgroup": "Garen",
         "marker": {
          "color": "#FF6692",
          "symbol": "circle"
         },
         "mode": "markers",
         "name": "Garen",
         "orientation": "v",
         "showlegend": true,
         "type": "scatter",
         "x": [
          20497
         ],
         "xaxis": "x",
         "y": [
          30445
         ],
         "yaxis": "y"
        },
        {
         "hovertemplate": "championName=Gnar<br>totalDamageDealtToChampions=%{x}<br>totalDamageTaken=%{y}<extra></extra>",
         "legendgroup": "Gnar",
         "marker": {
          "color": "#B6E880",
          "symbol": "circle"
         },
         "mode": "markers",
         "name": "Gnar",
         "orientation": "v",
         "showlegend": true,
         "type": "scatter",
         "x": [
          22781
         ],
         "xaxis": "x",
         "y": [
          28593
         ],
         "yaxis": "y"
        },
        {
         "hovertemplate": "championName=Gragas<br>totalDamageDealtToChampions=%{x}<br>totalDamageTaken=%{y}<extra></extra>",
         "legendgroup": "Gragas",
         "marker": {
          "color": "#FF97FF",
          "symbol": "circle"
         },
         "mode": "markers",
         "name": "Gragas",
         "orientation": "v",
         "showlegend": true,
         "type": "scatter",
         "x": [
          23205
         ],
         "xaxis": "x",
         "y": [
          31649
         ],
         "yaxis": "y"
        },
        {
         "hovertemplate": "championName=Graves<br>totalDamageDealtToChampions=%{x}<br>totalDamageTaken=%{y}<extra></extra>",
         "legendgroup": "Graves",
         "marker": {
          "color": "#FECB52",
          "symbol": "circle"
         },
         "mode": "markers",
         "name": "Graves",
         "orientation": "v",
         "showlegend": true,
         "type": "scatter",
         "x": [
          21306
         ],
         "xaxis": "x",
         "y": [
          26510
         ],
         "yaxis": "y"
        },
        {
         "hovertemplate": "championName=Gwen<br>totalDamageDealtToChampions=%{x}<br>totalDamageTaken=%{y}<extra></extra>",
         "legendgroup": "Gwen",
         "marker": {
          "color": "#636efa",
          "symbol": "circle"
         },
         "mode": "markers",
         "name": "Gwen",
         "orientation": "v",
         "showlegend": true,
         "type": "scatter",
         "x": [
          26687
         ],
         "xaxis": "x",
         "y": [
          31488
         ],
         "yaxis": "y"
        },
        {
         "hovertemplate": "championName=Hecarim<br>totalDamageDealtToChampions=%{x}<br>totalDamageTaken=%{y}<extra></extra>",
         "legendgroup": "Hecarim",
         "marker": {
          "color": "#EF553B",
          "symbol": "circle"
         },
         "mode": "markers",
         "name": "Hecarim",
         "orientation": "v",
         "showlegend": true,
         "type": "scatter",
         "x": [
          17959
         ],
         "xaxis": "x",
         "y": [
          38281
         ],
         "yaxis": "y"
        },
        {
         "hovertemplate": "championName=Heimerdinger<br>totalDamageDealtToChampions=%{x}<br>totalDamageTaken=%{y}<extra></extra>",
         "legendgroup": "Heimerdinger",
         "marker": {
          "color": "#00cc96",
          "symbol": "circle"
         },
         "mode": "markers",
         "name": "Heimerdinger",
         "orientation": "v",
         "showlegend": true,
         "type": "scatter",
         "x": [
          25839
         ],
         "xaxis": "x",
         "y": [
          19228
         ],
         "yaxis": "y"
        },
        {
         "hovertemplate": "championName=Hwei<br>totalDamageDealtToChampions=%{x}<br>totalDamageTaken=%{y}<extra></extra>",
         "legendgroup": "Hwei",
         "marker": {
          "color": "#ab63fa",
          "symbol": "circle"
         },
         "mode": "markers",
         "name": "Hwei",
         "orientation": "v",
         "showlegend": true,
         "type": "scatter",
         "x": [
          22270
         ],
         "xaxis": "x",
         "y": [
          17481
         ],
         "yaxis": "y"
        },
        {
         "hovertemplate": "championName=Illaoi<br>totalDamageDealtToChampions=%{x}<br>totalDamageTaken=%{y}<extra></extra>",
         "legendgroup": "Illaoi",
         "marker": {
          "color": "#FFA15A",
          "symbol": "circle"
         },
         "mode": "markers",
         "name": "Illaoi",
         "orientation": "v",
         "showlegend": true,
         "type": "scatter",
         "x": [
          27968
         ],
         "xaxis": "x",
         "y": [
          35434
         ],
         "yaxis": "y"
        },
        {
         "hovertemplate": "championName=Irelia<br>totalDamageDealtToChampions=%{x}<br>totalDamageTaken=%{y}<extra></extra>",
         "legendgroup": "Irelia",
         "marker": {
          "color": "#19d3f3",
          "symbol": "circle"
         },
         "mode": "markers",
         "name": "Irelia",
         "orientation": "v",
         "showlegend": true,
         "type": "scatter",
         "x": [
          22677
         ],
         "xaxis": "x",
         "y": [
          31063
         ],
         "yaxis": "y"
        },
        {
         "hovertemplate": "championName=Ivern<br>totalDamageDealtToChampions=%{x}<br>totalDamageTaken=%{y}<extra></extra>",
         "legendgroup": "Ivern",
         "marker": {
          "color": "#FF6692",
          "symbol": "circle"
         },
         "mode": "markers",
         "name": "Ivern",
         "orientation": "v",
         "showlegend": true,
         "type": "scatter",
         "x": [
          9805
         ],
         "xaxis": "x",
         "y": [
          16075
         ],
         "yaxis": "y"
        },
        {
         "hovertemplate": "championName=Janna<br>totalDamageDealtToChampions=%{x}<br>totalDamageTaken=%{y}<extra></extra>",
         "legendgroup": "Janna",
         "marker": {
          "color": "#B6E880",
          "symbol": "circle"
         },
         "mode": "markers",
         "name": "Janna",
         "orientation": "v",
         "showlegend": true,
         "type": "scatter",
         "x": [
          10110
         ],
         "xaxis": "x",
         "y": [
          17176
         ],
         "yaxis": "y"
        },
        {
         "hovertemplate": "championName=JarvanIV<br>totalDamageDealtToChampions=%{x}<br>totalDamageTaken=%{y}<extra></extra>",
         "legendgroup": "JarvanIV",
         "marker": {
          "color": "#FF97FF",
          "symbol": "circle"
         },
         "mode": "markers",
         "name": "JarvanIV",
         "orientation": "v",
         "showlegend": true,
         "type": "scatter",
         "x": [
          15620
         ],
         "xaxis": "x",
         "y": [
          30750
         ],
         "yaxis": "y"
        },
        {
         "hovertemplate": "championName=Jax<br>totalDamageDealtToChampions=%{x}<br>totalDamageTaken=%{y}<extra></extra>",
         "legendgroup": "Jax",
         "marker": {
          "color": "#FECB52",
          "symbol": "circle"
         },
         "mode": "markers",
         "name": "Jax",
         "orientation": "v",
         "showlegend": true,
         "type": "scatter",
         "x": [
          20962
         ],
         "xaxis": "x",
         "y": [
          28678
         ],
         "yaxis": "y"
        },
        {
         "hovertemplate": "championName=Jayce<br>totalDamageDealtToChampions=%{x}<br>totalDamageTaken=%{y}<extra></extra>",
         "legendgroup": "Jayce",
         "marker": {
          "color": "#636efa",
          "symbol": "circle"
         },
         "mode": "markers",
         "name": "Jayce",
         "orientation": "v",
         "showlegend": true,
         "type": "scatter",
         "x": [
          26425
         ],
         "xaxis": "x",
         "y": [
          20814
         ],
         "yaxis": "y"
        },
        {
         "hovertemplate": "championName=Jhin<br>totalDamageDealtToChampions=%{x}<br>totalDamageTaken=%{y}<extra></extra>",
         "legendgroup": "Jhin",
         "marker": {
          "color": "#EF553B",
          "symbol": "circle"
         },
         "mode": "markers",
         "name": "Jhin",
         "orientation": "v",
         "showlegend": true,
         "type": "scatter",
         "x": [
          21879
         ],
         "xaxis": "x",
         "y": [
          18240
         ],
         "yaxis": "y"
        },
        {
         "hovertemplate": "championName=Jinx<br>totalDamageDealtToChampions=%{x}<br>totalDamageTaken=%{y}<extra></extra>",
         "legendgroup": "Jinx",
         "marker": {
          "color": "#00cc96",
          "symbol": "circle"
         },
         "mode": "markers",
         "name": "Jinx",
         "orientation": "v",
         "showlegend": true,
         "type": "scatter",
         "x": [
          23530
         ],
         "xaxis": "x",
         "y": [
          19261
         ],
         "yaxis": "y"
        },
        {
         "hovertemplate": "championName=KSante<br>totalDamageDealtToChampions=%{x}<br>totalDamageTaken=%{y}<extra></extra>",
         "legendgroup": "KSante",
         "marker": {
          "color": "#ab63fa",
          "symbol": "circle"
         },
         "mode": "markers",
         "name": "KSante",
         "orientation": "v",
         "showlegend": true,
         "type": "scatter",
         "x": [
          20461
         ],
         "xaxis": "x",
         "y": [
          30433
         ],
         "yaxis": "y"
        },
        {
         "hovertemplate": "championName=Kaisa<br>totalDamageDealtToChampions=%{x}<br>totalDamageTaken=%{y}<extra></extra>",
         "legendgroup": "Kaisa",
         "marker": {
          "color": "#FFA15A",
          "symbol": "circle"
         },
         "mode": "markers",
         "name": "Kaisa",
         "orientation": "v",
         "showlegend": true,
         "type": "scatter",
         "x": [
          22993
         ],
         "xaxis": "x",
         "y": [
          18482
         ],
         "yaxis": "y"
        },
        {
         "hovertemplate": "championName=Kalista<br>totalDamageDealtToChampions=%{x}<br>totalDamageTaken=%{y}<extra></extra>",
         "legendgroup": "Kalista",
         "marker": {
          "color": "#19d3f3",
          "symbol": "circle"
         },
         "mode": "markers",
         "name": "Kalista",
         "orientation": "v",
         "showlegend": true,
         "type": "scatter",
         "x": [
          21304
         ],
         "xaxis": "x",
         "y": [
          22025
         ],
         "yaxis": "y"
        },
        {
         "hovertemplate": "championName=Karma<br>totalDamageDealtToChampions=%{x}<br>totalDamageTaken=%{y}<extra></extra>",
         "legendgroup": "Karma",
         "marker": {
          "color": "#FF6692",
          "symbol": "circle"
         },
         "mode": "markers",
         "name": "Karma",
         "orientation": "v",
         "showlegend": true,
         "type": "scatter",
         "x": [
          14314
         ],
         "xaxis": "x",
         "y": [
          19738
         ],
         "yaxis": "y"
        },
        {
         "hovertemplate": "championName=Karthus<br>totalDamageDealtToChampions=%{x}<br>totalDamageTaken=%{y}<extra></extra>",
         "legendgroup": "Karthus",
         "marker": {
          "color": "#B6E880",
          "symbol": "circle"
         },
         "mode": "markers",
         "name": "Karthus",
         "orientation": "v",
         "showlegend": true,
         "type": "scatter",
         "x": [
          33759
         ],
         "xaxis": "x",
         "y": [
          30673
         ],
         "yaxis": "y"
        },
        {
         "hovertemplate": "championName=Kassadin<br>totalDamageDealtToChampions=%{x}<br>totalDamageTaken=%{y}<extra></extra>",
         "legendgroup": "Kassadin",
         "marker": {
          "color": "#FF97FF",
          "symbol": "circle"
         },
         "mode": "markers",
         "name": "Kassadin",
         "orientation": "v",
         "showlegend": true,
         "type": "scatter",
         "x": [
          24094
         ],
         "xaxis": "x",
         "y": [
          31908
         ],
         "yaxis": "y"
        },
        {
         "hovertemplate": "championName=Katarina<br>totalDamageDealtToChampions=%{x}<br>totalDamageTaken=%{y}<extra></extra>",
         "legendgroup": "Katarina",
         "marker": {
          "color": "#FECB52",
          "symbol": "circle"
         },
         "mode": "markers",
         "name": "Katarina",
         "orientation": "v",
         "showlegend": true,
         "type": "scatter",
         "x": [
          26101
         ],
         "xaxis": "x",
         "y": [
          27126
         ],
         "yaxis": "y"
        },
        {
         "hovertemplate": "championName=Kayle<br>totalDamageDealtToChampions=%{x}<br>totalDamageTaken=%{y}<extra></extra>",
         "legendgroup": "Kayle",
         "marker": {
          "color": "#636efa",
          "symbol": "circle"
         },
         "mode": "markers",
         "name": "Kayle",
         "orientation": "v",
         "showlegend": true,
         "type": "scatter",
         "x": [
          24571
         ],
         "xaxis": "x",
         "y": [
          25013
         ],
         "yaxis": "y"
        },
        {
         "hovertemplate": "championName=Kayn<br>totalDamageDealtToChampions=%{x}<br>totalDamageTaken=%{y}<extra></extra>",
         "legendgroup": "Kayn",
         "marker": {
          "color": "#EF553B",
          "symbol": "circle"
         },
         "mode": "markers",
         "name": "Kayn",
         "orientation": "v",
         "showlegend": true,
         "type": "scatter",
         "x": [
          23047
         ],
         "xaxis": "x",
         "y": [
          34907
         ],
         "yaxis": "y"
        },
        {
         "hovertemplate": "championName=Kennen<br>totalDamageDealtToChampions=%{x}<br>totalDamageTaken=%{y}<extra></extra>",
         "legendgroup": "Kennen",
         "marker": {
          "color": "#00cc96",
          "symbol": "circle"
         },
         "mode": "markers",
         "name": "Kennen",
         "orientation": "v",
         "showlegend": true,
         "type": "scatter",
         "x": [
          26092
         ],
         "xaxis": "x",
         "y": [
          23395
         ],
         "yaxis": "y"
        },
        {
         "hovertemplate": "championName=Khazix<br>totalDamageDealtToChampions=%{x}<br>totalDamageTaken=%{y}<extra></extra>",
         "legendgroup": "Khazix",
         "marker": {
          "color": "#ab63fa",
          "symbol": "circle"
         },
         "mode": "markers",
         "name": "Khazix",
         "orientation": "v",
         "showlegend": true,
         "type": "scatter",
         "x": [
          23168
         ],
         "xaxis": "x",
         "y": [
          29232
         ],
         "yaxis": "y"
        },
        {
         "hovertemplate": "championName=Kindred<br>totalDamageDealtToChampions=%{x}<br>totalDamageTaken=%{y}<extra></extra>",
         "legendgroup": "Kindred",
         "marker": {
          "color": "#FFA15A",
          "symbol": "circle"
         },
         "mode": "markers",
         "name": "Kindred",
         "orientation": "v",
         "showlegend": true,
         "type": "scatter",
         "x": [
          22541
         ],
         "xaxis": "x",
         "y": [
          28235
         ],
         "yaxis": "y"
        },
        {
         "hovertemplate": "championName=Kled<br>totalDamageDealtToChampions=%{x}<br>totalDamageTaken=%{y}<extra></extra>",
         "legendgroup": "Kled",
         "marker": {
          "color": "#19d3f3",
          "symbol": "circle"
         },
         "mode": "markers",
         "name": "Kled",
         "orientation": "v",
         "showlegend": true,
         "type": "scatter",
         "x": [
          20427
         ],
         "xaxis": "x",
         "y": [
          35438
         ],
         "yaxis": "y"
        },
        {
         "hovertemplate": "championName=KogMaw<br>totalDamageDealtToChampions=%{x}<br>totalDamageTaken=%{y}<extra></extra>",
         "legendgroup": "KogMaw",
         "marker": {
          "color": "#FF6692",
          "symbol": "circle"
         },
         "mode": "markers",
         "name": "KogMaw",
         "orientation": "v",
         "showlegend": true,
         "type": "scatter",
         "x": [
          33122
         ],
         "xaxis": "x",
         "y": [
          23799
         ],
         "yaxis": "y"
        },
        {
         "hovertemplate": "championName=Leblanc<br>totalDamageDealtToChampions=%{x}<br>totalDamageTaken=%{y}<extra></extra>",
         "legendgroup": "Leblanc",
         "marker": {
          "color": "#B6E880",
          "symbol": "circle"
         },
         "mode": "markers",
         "name": "Leblanc",
         "orientation": "v",
         "showlegend": true,
         "type": "scatter",
         "x": [
          24103
         ],
         "xaxis": "x",
         "y": [
          22760
         ],
         "yaxis": "y"
        },
        {
         "hovertemplate": "championName=LeeSin<br>totalDamageDealtToChampions=%{x}<br>totalDamageTaken=%{y}<extra></extra>",
         "legendgroup": "LeeSin",
         "marker": {
          "color": "#FF97FF",
          "symbol": "circle"
         },
         "mode": "markers",
         "name": "LeeSin",
         "orientation": "v",
         "showlegend": true,
         "type": "scatter",
         "x": [
          16703
         ],
         "xaxis": "x",
         "y": [
          32139
         ],
         "yaxis": "y"
        },
        {
         "hovertemplate": "championName=Leona<br>totalDamageDealtToChampions=%{x}<br>totalDamageTaken=%{y}<extra></extra>",
         "legendgroup": "Leona",
         "marker": {
          "color": "#FECB52",
          "symbol": "circle"
         },
         "mode": "markers",
         "name": "Leona",
         "orientation": "v",
         "showlegend": true,
         "type": "scatter",
         "x": [
          12377
         ],
         "xaxis": "x",
         "y": [
          26184
         ],
         "yaxis": "y"
        },
        {
         "hovertemplate": "championName=Lillia<br>totalDamageDealtToChampions=%{x}<br>totalDamageTaken=%{y}<extra></extra>",
         "legendgroup": "Lillia",
         "marker": {
          "color": "#636efa",
          "symbol": "circle"
         },
         "mode": "markers",
         "name": "Lillia",
         "orientation": "v",
         "showlegend": true,
         "type": "scatter",
         "x": [
          26549
         ],
         "xaxis": "x",
         "y": [
          31742
         ],
         "yaxis": "y"
        },
        {
         "hovertemplate": "championName=Lissandra<br>totalDamageDealtToChampions=%{x}<br>totalDamageTaken=%{y}<extra></extra>",
         "legendgroup": "Lissandra",
         "marker": {
          "color": "#EF553B",
          "symbol": "circle"
         },
         "mode": "markers",
         "name": "Lissandra",
         "orientation": "v",
         "showlegend": true,
         "type": "scatter",
         "x": [
          21423
         ],
         "xaxis": "x",
         "y": [
          23089
         ],
         "yaxis": "y"
        },
        {
         "hovertemplate": "championName=Lucian<br>totalDamageDealtToChampions=%{x}<br>totalDamageTaken=%{y}<extra></extra>",
         "legendgroup": "Lucian",
         "marker": {
          "color": "#00cc96",
          "symbol": "circle"
         },
         "mode": "markers",
         "name": "Lucian",
         "orientation": "v",
         "showlegend": true,
         "type": "scatter",
         "x": [
          23955
         ],
         "xaxis": "x",
         "y": [
          20288
         ],
         "yaxis": "y"
        },
        {
         "hovertemplate": "championName=Lulu<br>totalDamageDealtToChampions=%{x}<br>totalDamageTaken=%{y}<extra></extra>",
         "legendgroup": "Lulu",
         "marker": {
          "color": "#ab63fa",
          "symbol": "circle"
         },
         "mode": "markers",
         "name": "Lulu",
         "orientation": "v",
         "showlegend": true,
         "type": "scatter",
         "x": [
          7109
         ],
         "xaxis": "x",
         "y": [
          15333
         ],
         "yaxis": "y"
        },
        {
         "hovertemplate": "championName=Lux<br>totalDamageDealtToChampions=%{x}<br>totalDamageTaken=%{y}<extra></extra>",
         "legendgroup": "Lux",
         "marker": {
          "color": "#FFA15A",
          "symbol": "circle"
         },
         "mode": "markers",
         "name": "Lux",
         "orientation": "v",
         "showlegend": true,
         "type": "scatter",
         "x": [
          19420
         ],
         "xaxis": "x",
         "y": [
          15501
         ],
         "yaxis": "y"
        },
        {
         "hovertemplate": "championName=Malphite<br>totalDamageDealtToChampions=%{x}<br>totalDamageTaken=%{y}<extra></extra>",
         "legendgroup": "Malphite",
         "marker": {
          "color": "#19d3f3",
          "symbol": "circle"
         },
         "mode": "markers",
         "name": "Malphite",
         "orientation": "v",
         "showlegend": true,
         "type": "scatter",
         "x": [
          21086
         ],
         "xaxis": "x",
         "y": [
          24463
         ],
         "yaxis": "y"
        },
        {
         "hovertemplate": "championName=Malzahar<br>totalDamageDealtToChampions=%{x}<br>totalDamageTaken=%{y}<extra></extra>",
         "legendgroup": "Malzahar",
         "marker": {
          "color": "#FF6692",
          "symbol": "circle"
         },
         "mode": "markers",
         "name": "Malzahar",
         "orientation": "v",
         "showlegend": true,
         "type": "scatter",
         "x": [
          22033
         ],
         "xaxis": "x",
         "y": [
          18008
         ],
         "yaxis": "y"
        },
        {
         "hovertemplate": "championName=Maokai<br>totalDamageDealtToChampions=%{x}<br>totalDamageTaken=%{y}<extra></extra>",
         "legendgroup": "Maokai",
         "marker": {
          "color": "#B6E880",
          "symbol": "circle"
         },
         "mode": "markers",
         "name": "Maokai",
         "orientation": "v",
         "showlegend": true,
         "type": "scatter",
         "x": [
          17552
         ],
         "xaxis": "x",
         "y": [
          34574
         ],
         "yaxis": "y"
        },
        {
         "hovertemplate": "championName=MasterYi<br>totalDamageDealtToChampions=%{x}<br>totalDamageTaken=%{y}<extra></extra>",
         "legendgroup": "MasterYi",
         "marker": {
          "color": "#FF97FF",
          "symbol": "circle"
         },
         "mode": "markers",
         "name": "MasterYi",
         "orientation": "v",
         "showlegend": true,
         "type": "scatter",
         "x": [
          23999
         ],
         "xaxis": "x",
         "y": [
          28393
         ],
         "yaxis": "y"
        },
        {
         "hovertemplate": "championName=Milio<br>totalDamageDealtToChampions=%{x}<br>totalDamageTaken=%{y}<extra></extra>",
         "legendgroup": "Milio",
         "marker": {
          "color": "#FECB52",
          "symbol": "circle"
         },
         "mode": "markers",
         "name": "Milio",
         "orientation": "v",
         "showlegend": true,
         "type": "scatter",
         "x": [
          5647
         ],
         "xaxis": "x",
         "y": [
          15216
         ],
         "yaxis": "y"
        },
        {
         "hovertemplate": "championName=MissFortune<br>totalDamageDealtToChampions=%{x}<br>totalDamageTaken=%{y}<extra></extra>",
         "legendgroup": "MissFortune",
         "marker": {
          "color": "#636efa",
          "symbol": "circle"
         },
         "mode": "markers",
         "name": "MissFortune",
         "orientation": "v",
         "showlegend": true,
         "type": "scatter",
         "x": [
          25481
         ],
         "xaxis": "x",
         "y": [
          20517
         ],
         "yaxis": "y"
        },
        {
         "hovertemplate": "championName=MonkeyKing<br>totalDamageDealtToChampions=%{x}<br>totalDamageTaken=%{y}<extra></extra>",
         "legendgroup": "MonkeyKing",
         "marker": {
          "color": "#EF553B",
          "symbol": "circle"
         },
         "mode": "markers",
         "name": "MonkeyKing",
         "orientation": "v",
         "showlegend": true,
         "type": "scatter",
         "x": [
          21920
         ],
         "xaxis": "x",
         "y": [
          31668
         ],
         "yaxis": "y"
        },
        {
         "hovertemplate": "championName=Mordekaiser<br>totalDamageDealtToChampions=%{x}<br>totalDamageTaken=%{y}<extra></extra>",
         "legendgroup": "Mordekaiser",
         "marker": {
          "color": "#00cc96",
          "symbol": "circle"
         },
         "mode": "markers",
         "name": "Mordekaiser",
         "orientation": "v",
         "showlegend": true,
         "type": "scatter",
         "x": [
          25428
         ],
         "xaxis": "x",
         "y": [
          33912
         ],
         "yaxis": "y"
        },
        {
         "hovertemplate": "championName=Morgana<br>totalDamageDealtToChampions=%{x}<br>totalDamageTaken=%{y}<extra></extra>",
         "legendgroup": "Morgana",
         "marker": {
          "color": "#ab63fa",
          "symbol": "circle"
         },
         "mode": "markers",
         "name": "Morgana",
         "orientation": "v",
         "showlegend": true,
         "type": "scatter",
         "x": [
          18995
         ],
         "xaxis": "x",
         "y": [
          21861
         ],
         "yaxis": "y"
        },
        {
         "hovertemplate": "championName=Naafiri<br>totalDamageDealtToChampions=%{x}<br>totalDamageTaken=%{y}<extra></extra>",
         "legendgroup": "Naafiri",
         "marker": {
          "color": "#FFA15A",
          "symbol": "circle"
         },
         "mode": "markers",
         "name": "Naafiri",
         "orientation": "v",
         "showlegend": true,
         "type": "scatter",
         "x": [
          24322
         ],
         "xaxis": "x",
         "y": [
          23875
         ],
         "yaxis": "y"
        },
        {
         "hovertemplate": "championName=Nami<br>totalDamageDealtToChampions=%{x}<br>totalDamageTaken=%{y}<extra></extra>",
         "legendgroup": "Nami",
         "marker": {
          "color": "#19d3f3",
          "symbol": "circle"
         },
         "mode": "markers",
         "name": "Nami",
         "orientation": "v",
         "showlegend": true,
         "type": "scatter",
         "x": [
          9904
         ],
         "xaxis": "x",
         "y": [
          15659
         ],
         "yaxis": "y"
        },
        {
         "hovertemplate": "championName=Nasus<br>totalDamageDealtToChampions=%{x}<br>totalDamageTaken=%{y}<extra></extra>",
         "legendgroup": "Nasus",
         "marker": {
          "color": "#FF6692",
          "symbol": "circle"
         },
         "mode": "markers",
         "name": "Nasus",
         "orientation": "v",
         "showlegend": true,
         "type": "scatter",
         "x": [
          20421
         ],
         "xaxis": "x",
         "y": [
          34892
         ],
         "yaxis": "y"
        },
        {
         "hovertemplate": "championName=Nautilus<br>totalDamageDealtToChampions=%{x}<br>totalDamageTaken=%{y}<extra></extra>",
         "legendgroup": "Nautilus",
         "marker": {
          "color": "#B6E880",
          "symbol": "circle"
         },
         "mode": "markers",
         "name": "Nautilus",
         "orientation": "v",
         "showlegend": true,
         "type": "scatter",
         "x": [
          8558
         ],
         "xaxis": "x",
         "y": [
          21121
         ],
         "yaxis": "y"
        },
        {
         "hovertemplate": "championName=Neeko<br>totalDamageDealtToChampions=%{x}<br>totalDamageTaken=%{y}<extra></extra>",
         "legendgroup": "Neeko",
         "marker": {
          "color": "#FF97FF",
          "symbol": "circle"
         },
         "mode": "markers",
         "name": "Neeko",
         "orientation": "v",
         "showlegend": true,
         "type": "scatter",
         "x": [
          20505
         ],
         "xaxis": "x",
         "y": [
          19745
         ],
         "yaxis": "y"
        },
        {
         "hovertemplate": "championName=Nidalee<br>totalDamageDealtToChampions=%{x}<br>totalDamageTaken=%{y}<extra></extra>",
         "legendgroup": "Nidalee",
         "marker": {
          "color": "#FECB52",
          "symbol": "circle"
         },
         "mode": "markers",
         "name": "Nidalee",
         "orientation": "v",
         "showlegend": true,
         "type": "scatter",
         "x": [
          22053
         ],
         "xaxis": "x",
         "y": [
          30213
         ],
         "yaxis": "y"
        },
        {
         "hovertemplate": "championName=Nilah<br>totalDamageDealtToChampions=%{x}<br>totalDamageTaken=%{y}<extra></extra>",
         "legendgroup": "Nilah",
         "marker": {
          "color": "#636efa",
          "symbol": "circle"
         },
         "mode": "markers",
         "name": "Nilah",
         "orientation": "v",
         "showlegend": true,
         "type": "scatter",
         "x": [
          22373
         ],
         "xaxis": "x",
         "y": [
          26655
         ],
         "yaxis": "y"
        },
        {
         "hovertemplate": "championName=Nocturne<br>totalDamageDealtToChampions=%{x}<br>totalDamageTaken=%{y}<extra></extra>",
         "legendgroup": "Nocturne",
         "marker": {
          "color": "#EF553B",
          "symbol": "circle"
         },
         "mode": "markers",
         "name": "Nocturne",
         "orientation": "v",
         "showlegend": true,
         "type": "scatter",
         "x": [
          16319
         ],
         "xaxis": "x",
         "y": [
          31387
         ],
         "yaxis": "y"
        },
        {
         "hovertemplate": "championName=Nunu<br>totalDamageDealtToChampions=%{x}<br>totalDamageTaken=%{y}<extra></extra>",
         "legendgroup": "Nunu",
         "marker": {
          "color": "#00cc96",
          "symbol": "circle"
         },
         "mode": "markers",
         "name": "Nunu",
         "orientation": "v",
         "showlegend": true,
         "type": "scatter",
         "x": [
          18954
         ],
         "xaxis": "x",
         "y": [
          35817
         ],
         "yaxis": "y"
        },
        {
         "hovertemplate": "championName=Olaf<br>totalDamageDealtToChampions=%{x}<br>totalDamageTaken=%{y}<extra></extra>",
         "legendgroup": "Olaf",
         "marker": {
          "color": "#ab63fa",
          "symbol": "circle"
         },
         "mode": "markers",
         "name": "Olaf",
         "orientation": "v",
         "showlegend": true,
         "type": "scatter",
         "x": [
          24432
         ],
         "xaxis": "x",
         "y": [
          29079
         ],
         "yaxis": "y"
        },
        {
         "hovertemplate": "championName=Orianna<br>totalDamageDealtToChampions=%{x}<br>totalDamageTaken=%{y}<extra></extra>",
         "legendgroup": "Orianna",
         "marker": {
          "color": "#FFA15A",
          "symbol": "circle"
         },
         "mode": "markers",
         "name": "Orianna",
         "orientation": "v",
         "showlegend": true,
         "type": "scatter",
         "x": [
          22025
         ],
         "xaxis": "x",
         "y": [
          18201
         ],
         "yaxis": "y"
        },
        {
         "hovertemplate": "championName=Ornn<br>totalDamageDealtToChampions=%{x}<br>totalDamageTaken=%{y}<extra></extra>",
         "legendgroup": "Ornn",
         "marker": {
          "color": "#19d3f3",
          "symbol": "circle"
         },
         "mode": "markers",
         "name": "Ornn",
         "orientation": "v",
         "showlegend": true,
         "type": "scatter",
         "x": [
          18845
         ],
         "xaxis": "x",
         "y": [
          33498
         ],
         "yaxis": "y"
        },
        {
         "hovertemplate": "championName=Pantheon<br>totalDamageDealtToChampions=%{x}<br>totalDamageTaken=%{y}<extra></extra>",
         "legendgroup": "Pantheon",
         "marker": {
          "color": "#FF6692",
          "symbol": "circle"
         },
         "mode": "markers",
         "name": "Pantheon",
         "orientation": "v",
         "showlegend": true,
         "type": "scatter",
         "x": [
          23073
         ],
         "xaxis": "x",
         "y": [
          24952
         ],
         "yaxis": "y"
        },
        {
         "hovertemplate": "championName=Poppy<br>totalDamageDealtToChampions=%{x}<br>totalDamageTaken=%{y}<extra></extra>",
         "legendgroup": "Poppy",
         "marker": {
          "color": "#B6E880",
          "symbol": "circle"
         },
         "mode": "markers",
         "name": "Poppy",
         "orientation": "v",
         "showlegend": true,
         "type": "scatter",
         "x": [
          19747
         ],
         "xaxis": "x",
         "y": [
          30645
         ],
         "yaxis": "y"
        },
        {
         "hovertemplate": "championName=Pyke<br>totalDamageDealtToChampions=%{x}<br>totalDamageTaken=%{y}<extra></extra>",
         "legendgroup": "Pyke",
         "marker": {
          "color": "#FF97FF",
          "symbol": "circle"
         },
         "mode": "markers",
         "name": "Pyke",
         "orientation": "v",
         "showlegend": true,
         "type": "scatter",
         "x": [
          13244
         ],
         "xaxis": "x",
         "y": [
          23086
         ],
         "yaxis": "y"
        },
        {
         "hovertemplate": "championName=Qiyana<br>totalDamageDealtToChampions=%{x}<br>totalDamageTaken=%{y}<extra></extra>",
         "legendgroup": "Qiyana",
         "marker": {
          "color": "#FECB52",
          "symbol": "circle"
         },
         "mode": "markers",
         "name": "Qiyana",
         "orientation": "v",
         "showlegend": true,
         "type": "scatter",
         "x": [
          25197
         ],
         "xaxis": "x",
         "y": [
          24486
         ],
         "yaxis": "y"
        },
        {
         "hovertemplate": "championName=Quinn<br>totalDamageDealtToChampions=%{x}<br>totalDamageTaken=%{y}<extra></extra>",
         "legendgroup": "Quinn",
         "marker": {
          "color": "#636efa",
          "symbol": "circle"
         },
         "mode": "markers",
         "name": "Quinn",
         "orientation": "v",
         "showlegend": true,
         "type": "scatter",
         "x": [
          26565
         ],
         "xaxis": "x",
         "y": [
          23394
         ],
         "yaxis": "y"
        },
        {
         "hovertemplate": "championName=Rakan<br>totalDamageDealtToChampions=%{x}<br>totalDamageTaken=%{y}<extra></extra>",
         "legendgroup": "Rakan",
         "marker": {
          "color": "#EF553B",
          "symbol": "circle"
         },
         "mode": "markers",
         "name": "Rakan",
         "orientation": "v",
         "showlegend": true,
         "type": "scatter",
         "x": [
          6531
         ],
         "xaxis": "x",
         "y": [
          19538
         ],
         "yaxis": "y"
        },
        {
         "hovertemplate": "championName=Rammus<br>totalDamageDealtToChampions=%{x}<br>totalDamageTaken=%{y}<extra></extra>",
         "legendgroup": "Rammus",
         "marker": {
          "color": "#00cc96",
          "symbol": "circle"
         },
         "mode": "markers",
         "name": "Rammus",
         "orientation": "v",
         "showlegend": true,
         "type": "scatter",
         "x": [
          15332
         ],
         "xaxis": "x",
         "y": [
          29931
         ],
         "yaxis": "y"
        },
        {
         "hovertemplate": "championName=RekSai<br>totalDamageDealtToChampions=%{x}<br>totalDamageTaken=%{y}<extra></extra>",
         "legendgroup": "RekSai",
         "marker": {
          "color": "#ab63fa",
          "symbol": "circle"
         },
         "mode": "markers",
         "name": "RekSai",
         "orientation": "v",
         "showlegend": true,
         "type": "scatter",
         "x": [
          17658
         ],
         "xaxis": "x",
         "y": [
          30637
         ],
         "yaxis": "y"
        },
        {
         "hovertemplate": "championName=Rell<br>totalDamageDealtToChampions=%{x}<br>totalDamageTaken=%{y}<extra></extra>",
         "legendgroup": "Rell",
         "marker": {
          "color": "#FFA15A",
          "symbol": "circle"
         },
         "mode": "markers",
         "name": "Rell",
         "orientation": "v",
         "showlegend": true,
         "type": "scatter",
         "x": [
          7909
         ],
         "xaxis": "x",
         "y": [
          22726
         ],
         "yaxis": "y"
        },
        {
         "hovertemplate": "championName=Renata<br>totalDamageDealtToChampions=%{x}<br>totalDamageTaken=%{y}<extra></extra>",
         "legendgroup": "Renata",
         "marker": {
          "color": "#19d3f3",
          "symbol": "circle"
         },
         "mode": "markers",
         "name": "Renata",
         "orientation": "v",
         "showlegend": true,
         "type": "scatter",
         "x": [
          9302
         ],
         "xaxis": "x",
         "y": [
          19443
         ],
         "yaxis": "y"
        },
        {
         "hovertemplate": "championName=Renekton<br>totalDamageDealtToChampions=%{x}<br>totalDamageTaken=%{y}<extra></extra>",
         "legendgroup": "Renekton",
         "marker": {
          "color": "#FF6692",
          "symbol": "circle"
         },
         "mode": "markers",
         "name": "Renekton",
         "orientation": "v",
         "showlegend": true,
         "type": "scatter",
         "x": [
          20114
         ],
         "xaxis": "x",
         "y": [
          37496
         ],
         "yaxis": "y"
        },
        {
         "hovertemplate": "championName=Rengar<br>totalDamageDealtToChampions=%{x}<br>totalDamageTaken=%{y}<extra></extra>",
         "legendgroup": "Rengar",
         "marker": {
          "color": "#B6E880",
          "symbol": "circle"
         },
         "mode": "markers",
         "name": "Rengar",
         "orientation": "v",
         "showlegend": true,
         "type": "scatter",
         "x": [
          21312
         ],
         "xaxis": "x",
         "y": [
          31181
         ],
         "yaxis": "y"
        },
        {
         "hovertemplate": "championName=Riven<br>totalDamageDealtToChampions=%{x}<br>totalDamageTaken=%{y}<extra></extra>",
         "legendgroup": "Riven",
         "marker": {
          "color": "#FF97FF",
          "symbol": "circle"
         },
         "mode": "markers",
         "name": "Riven",
         "orientation": "v",
         "showlegend": true,
         "type": "scatter",
         "x": [
          21141
         ],
         "xaxis": "x",
         "y": [
          26732
         ],
         "yaxis": "y"
        },
        {
         "hovertemplate": "championName=Rumble<br>totalDamageDealtToChampions=%{x}<br>totalDamageTaken=%{y}<extra></extra>",
         "legendgroup": "Rumble",
         "marker": {
          "color": "#FECB52",
          "symbol": "circle"
         },
         "mode": "markers",
         "name": "Rumble",
         "orientation": "v",
         "showlegend": true,
         "type": "scatter",
         "x": [
          26351
         ],
         "xaxis": "x",
         "y": [
          24169
         ],
         "yaxis": "y"
        },
        {
         "hovertemplate": "championName=Ryze<br>totalDamageDealtToChampions=%{x}<br>totalDamageTaken=%{y}<extra></extra>",
         "legendgroup": "Ryze",
         "marker": {
          "color": "#636efa",
          "symbol": "circle"
         },
         "mode": "markers",
         "name": "Ryze",
         "orientation": "v",
         "showlegend": true,
         "type": "scatter",
         "x": [
          26601
         ],
         "xaxis": "x",
         "y": [
          28688
         ],
         "yaxis": "y"
        },
        {
         "hovertemplate": "championName=Samira<br>totalDamageDealtToChampions=%{x}<br>totalDamageTaken=%{y}<extra></extra>",
         "legendgroup": "Samira",
         "marker": {
          "color": "#EF553B",
          "symbol": "circle"
         },
         "mode": "markers",
         "name": "Samira",
         "orientation": "v",
         "showlegend": true,
         "type": "scatter",
         "x": [
          24357
         ],
         "xaxis": "x",
         "y": [
          22958
         ],
         "yaxis": "y"
        },
        {
         "hovertemplate": "championName=Sejuani<br>totalDamageDealtToChampions=%{x}<br>totalDamageTaken=%{y}<extra></extra>",
         "legendgroup": "Sejuani",
         "marker": {
          "color": "#00cc96",
          "symbol": "circle"
         },
         "mode": "markers",
         "name": "Sejuani",
         "orientation": "v",
         "showlegend": true,
         "type": "scatter",
         "x": [
          14603
         ],
         "xaxis": "x",
         "y": [
          34360
         ],
         "yaxis": "y"
        },
        {
         "hovertemplate": "championName=Senna<br>totalDamageDealtToChampions=%{x}<br>totalDamageTaken=%{y}<extra></extra>",
         "legendgroup": "Senna",
         "marker": {
          "color": "#ab63fa",
          "symbol": "circle"
         },
         "mode": "markers",
         "name": "Senna",
         "orientation": "v",
         "showlegend": true,
         "type": "scatter",
         "x": [
          19276
         ],
         "xaxis": "x",
         "y": [
          18532
         ],
         "yaxis": "y"
        },
        {
         "hovertemplate": "championName=Seraphine<br>totalDamageDealtToChampions=%{x}<br>totalDamageTaken=%{y}<extra></extra>",
         "legendgroup": "Seraphine",
         "marker": {
          "color": "#FFA15A",
          "symbol": "circle"
         },
         "mode": "markers",
         "name": "Seraphine",
         "orientation": "v",
         "showlegend": true,
         "type": "scatter",
         "x": [
          14673
         ],
         "xaxis": "x",
         "y": [
          17479
         ],
         "yaxis": "y"
        },
        {
         "hovertemplate": "championName=Sett<br>totalDamageDealtToChampions=%{x}<br>totalDamageTaken=%{y}<extra></extra>",
         "legendgroup": "Sett",
         "marker": {
          "color": "#19d3f3",
          "symbol": "circle"
         },
         "mode": "markers",
         "name": "Sett",
         "orientation": "v",
         "showlegend": true,
         "type": "scatter",
         "x": [
          23908
         ],
         "xaxis": "x",
         "y": [
          37180
         ],
         "yaxis": "y"
        },
        {
         "hovertemplate": "championName=Shaco<br>totalDamageDealtToChampions=%{x}<br>totalDamageTaken=%{y}<extra></extra>",
         "legendgroup": "Shaco",
         "marker": {
          "color": "#FF6692",
          "symbol": "circle"
         },
         "mode": "markers",
         "name": "Shaco",
         "orientation": "v",
         "showlegend": true,
         "type": "scatter",
         "x": [
          20436
         ],
         "xaxis": "x",
         "y": [
          21925
         ],
         "yaxis": "y"
        },
        {
         "hovertemplate": "championName=Shen<br>totalDamageDealtToChampions=%{x}<br>totalDamageTaken=%{y}<extra></extra>",
         "legendgroup": "Shen",
         "marker": {
          "color": "#B6E880",
          "symbol": "circle"
         },
         "mode": "markers",
         "name": "Shen",
         "orientation": "v",
         "showlegend": true,
         "type": "scatter",
         "x": [
          18052
         ],
         "xaxis": "x",
         "y": [
          32453
         ],
         "yaxis": "y"
        },
        {
         "hovertemplate": "championName=Shyvana<br>totalDamageDealtToChampions=%{x}<br>totalDamageTaken=%{y}<extra></extra>",
         "legendgroup": "Shyvana",
         "marker": {
          "color": "#FF97FF",
          "symbol": "circle"
         },
         "mode": "markers",
         "name": "Shyvana",
         "orientation": "v",
         "showlegend": true,
         "type": "scatter",
         "x": [
          27256
         ],
         "xaxis": "x",
         "y": [
          33376
         ],
         "yaxis": "y"
        },
        {
         "hovertemplate": "championName=Singed<br>totalDamageDealtToChampions=%{x}<br>totalDamageTaken=%{y}<extra></extra>",
         "legendgroup": "Singed",
         "marker": {
          "color": "#FECB52",
          "symbol": "circle"
         },
         "mode": "markers",
         "name": "Singed",
         "orientation": "v",
         "showlegend": true,
         "type": "scatter",
         "x": [
          21276
         ],
         "xaxis": "x",
         "y": [
          34687
         ],
         "yaxis": "y"
        },
        {
         "hovertemplate": "championName=Sion<br>totalDamageDealtToChampions=%{x}<br>totalDamageTaken=%{y}<extra></extra>",
         "legendgroup": "Sion",
         "marker": {
          "color": "#636efa",
          "symbol": "circle"
         },
         "mode": "markers",
         "name": "Sion",
         "orientation": "v",
         "showlegend": true,
         "type": "scatter",
         "x": [
          25372
         ],
         "xaxis": "x",
         "y": [
          51982
         ],
         "yaxis": "y"
        },
        {
         "hovertemplate": "championName=Sivir<br>totalDamageDealtToChampions=%{x}<br>totalDamageTaken=%{y}<extra></extra>",
         "legendgroup": "Sivir",
         "marker": {
          "color": "#EF553B",
          "symbol": "circle"
         },
         "mode": "markers",
         "name": "Sivir",
         "orientation": "v",
         "showlegend": true,
         "type": "scatter",
         "x": [
          25301
         ],
         "xaxis": "x",
         "y": [
          21365
         ],
         "yaxis": "y"
        },
        {
         "hovertemplate": "championName=Skarner<br>totalDamageDealtToChampions=%{x}<br>totalDamageTaken=%{y}<extra></extra>",
         "legendgroup": "Skarner",
         "marker": {
          "color": "#00cc96",
          "symbol": "circle"
         },
         "mode": "markers",
         "name": "Skarner",
         "orientation": "v",
         "showlegend": true,
         "type": "scatter",
         "x": [
          19576
         ],
         "xaxis": "x",
         "y": [
          31546
         ],
         "yaxis": "y"
        },
        {
         "hovertemplate": "championName=Sona<br>totalDamageDealtToChampions=%{x}<br>totalDamageTaken=%{y}<extra></extra>",
         "legendgroup": "Sona",
         "marker": {
          "color": "#ab63fa",
          "symbol": "circle"
         },
         "mode": "markers",
         "name": "Sona",
         "orientation": "v",
         "showlegend": true,
         "type": "scatter",
         "x": [
          13622
         ],
         "xaxis": "x",
         "y": [
          22339
         ],
         "yaxis": "y"
        },
        {
         "hovertemplate": "championName=Soraka<br>totalDamageDealtToChampions=%{x}<br>totalDamageTaken=%{y}<extra></extra>",
         "legendgroup": "Soraka",
         "marker": {
          "color": "#FFA15A",
          "symbol": "circle"
         },
         "mode": "markers",
         "name": "Soraka",
         "orientation": "v",
         "showlegend": true,
         "type": "scatter",
         "x": [
          6860
         ],
         "xaxis": "x",
         "y": [
          17969
         ],
         "yaxis": "y"
        },
        {
         "hovertemplate": "championName=Swain<br>totalDamageDealtToChampions=%{x}<br>totalDamageTaken=%{y}<extra></extra>",
         "legendgroup": "Swain",
         "marker": {
          "color": "#19d3f3",
          "symbol": "circle"
         },
         "mode": "markers",
         "name": "Swain",
         "orientation": "v",
         "showlegend": true,
         "type": "scatter",
         "x": [
          24859
         ],
         "xaxis": "x",
         "y": [
          37951
         ],
         "yaxis": "y"
        },
        {
         "hovertemplate": "championName=Sylas<br>totalDamageDealtToChampions=%{x}<br>totalDamageTaken=%{y}<extra></extra>",
         "legendgroup": "Sylas",
         "marker": {
          "color": "#FF6692",
          "symbol": "circle"
         },
         "mode": "markers",
         "name": "Sylas",
         "orientation": "v",
         "showlegend": true,
         "type": "scatter",
         "x": [
          22639
         ],
         "xaxis": "x",
         "y": [
          31343
         ],
         "yaxis": "y"
        },
        {
         "hovertemplate": "championName=Syndra<br>totalDamageDealtToChampions=%{x}<br>totalDamageTaken=%{y}<extra></extra>",
         "legendgroup": "Syndra",
         "marker": {
          "color": "#B6E880",
          "symbol": "circle"
         },
         "mode": "markers",
         "name": "Syndra",
         "orientation": "v",
         "showlegend": true,
         "type": "scatter",
         "x": [
          23961
         ],
         "xaxis": "x",
         "y": [
          17997
         ],
         "yaxis": "y"
        },
        {
         "hovertemplate": "championName=TahmKench<br>totalDamageDealtToChampions=%{x}<br>totalDamageTaken=%{y}<extra></extra>",
         "legendgroup": "TahmKench",
         "marker": {
          "color": "#FF97FF",
          "symbol": "circle"
         },
         "mode": "markers",
         "name": "TahmKench",
         "orientation": "v",
         "showlegend": true,
         "type": "scatter",
         "x": [
          22474
         ],
         "xaxis": "x",
         "y": [
          45167
         ],
         "yaxis": "y"
        },
        {
         "hovertemplate": "championName=Taliyah<br>totalDamageDealtToChampions=%{x}<br>totalDamageTaken=%{y}<extra></extra>",
         "legendgroup": "Taliyah",
         "marker": {
          "color": "#FECB52",
          "symbol": "circle"
         },
         "mode": "markers",
         "name": "Taliyah",
         "orientation": "v",
         "showlegend": true,
         "type": "scatter",
         "x": [
          23978
         ],
         "xaxis": "x",
         "y": [
          22426
         ],
         "yaxis": "y"
        },
        {
         "hovertemplate": "championName=Talon<br>totalDamageDealtToChampions=%{x}<br>totalDamageTaken=%{y}<extra></extra>",
         "legendgroup": "Talon",
         "marker": {
          "color": "#636efa",
          "symbol": "circle"
         },
         "mode": "markers",
         "name": "Talon",
         "orientation": "v",
         "showlegend": true,
         "type": "scatter",
         "x": [
          23445
         ],
         "xaxis": "x",
         "y": [
          28008
         ],
         "yaxis": "y"
        },
        {
         "hovertemplate": "championName=Taric<br>totalDamageDealtToChampions=%{x}<br>totalDamageTaken=%{y}<extra></extra>",
         "legendgroup": "Taric",
         "marker": {
          "color": "#EF553B",
          "symbol": "circle"
         },
         "mode": "markers",
         "name": "Taric",
         "orientation": "v",
         "showlegend": true,
         "type": "scatter",
         "x": [
          8948
         ],
         "xaxis": "x",
         "y": [
          24227
         ],
         "yaxis": "y"
        },
        {
         "hovertemplate": "championName=Teemo<br>totalDamageDealtToChampions=%{x}<br>totalDamageTaken=%{y}<extra></extra>",
         "legendgroup": "Teemo",
         "marker": {
          "color": "#00cc96",
          "symbol": "circle"
         },
         "mode": "markers",
         "name": "Teemo",
         "orientation": "v",
         "showlegend": true,
         "type": "scatter",
         "x": [
          25398
         ],
         "xaxis": "x",
         "y": [
          22202
         ],
         "yaxis": "y"
        },
        {
         "hovertemplate": "championName=Thresh<br>totalDamageDealtToChampions=%{x}<br>totalDamageTaken=%{y}<extra></extra>",
         "legendgroup": "Thresh",
         "marker": {
          "color": "#ab63fa",
          "symbol": "circle"
         },
         "mode": "markers",
         "name": "Thresh",
         "orientation": "v",
         "showlegend": true,
         "type": "scatter",
         "x": [
          9188
         ],
         "xaxis": "x",
         "y": [
          22095
         ],
         "yaxis": "y"
        },
        {
         "hovertemplate": "championName=Tristana<br>totalDamageDealtToChampions=%{x}<br>totalDamageTaken=%{y}<extra></extra>",
         "legendgroup": "Tristana",
         "marker": {
          "color": "#FFA15A",
          "symbol": "circle"
         },
         "mode": "markers",
         "name": "Tristana",
         "orientation": "v",
         "showlegend": true,
         "type": "scatter",
         "x": [
          23386
         ],
         "xaxis": "x",
         "y": [
          21893
         ],
         "yaxis": "y"
        },
        {
         "hovertemplate": "championName=Trundle<br>totalDamageDealtToChampions=%{x}<br>totalDamageTaken=%{y}<extra></extra>",
         "legendgroup": "Trundle",
         "marker": {
          "color": "#19d3f3",
          "symbol": "circle"
         },
         "mode": "markers",
         "name": "Trundle",
         "orientation": "v",
         "showlegend": true,
         "type": "scatter",
         "x": [
          18830
         ],
         "xaxis": "x",
         "y": [
          33719
         ],
         "yaxis": "y"
        },
        {
         "hovertemplate": "championName=Tryndamere<br>totalDamageDealtToChampions=%{x}<br>totalDamageTaken=%{y}<extra></extra>",
         "legendgroup": "Tryndamere",
         "marker": {
          "color": "#FF6692",
          "symbol": "circle"
         },
         "mode": "markers",
         "name": "Tryndamere",
         "orientation": "v",
         "showlegend": true,
         "type": "scatter",
         "x": [
          21492
         ],
         "xaxis": "x",
         "y": [
          36430
         ],
         "yaxis": "y"
        },
        {
         "hovertemplate": "championName=TwistedFate<br>totalDamageDealtToChampions=%{x}<br>totalDamageTaken=%{y}<extra></extra>",
         "legendgroup": "TwistedFate",
         "marker": {
          "color": "#B6E880",
          "symbol": "circle"
         },
         "mode": "markers",
         "name": "TwistedFate",
         "orientation": "v",
         "showlegend": true,
         "type": "scatter",
         "x": [
          19742
         ],
         "xaxis": "x",
         "y": [
          21516
         ],
         "yaxis": "y"
        },
        {
         "hovertemplate": "championName=Twitch<br>totalDamageDealtToChampions=%{x}<br>totalDamageTaken=%{y}<extra></extra>",
         "legendgroup": "Twitch",
         "marker": {
          "color": "#FF97FF",
          "symbol": "circle"
         },
         "mode": "markers",
         "name": "Twitch",
         "orientation": "v",
         "showlegend": true,
         "type": "scatter",
         "x": [
          29894
         ],
         "xaxis": "x",
         "y": [
          23956
         ],
         "yaxis": "y"
        },
        {
         "hovertemplate": "championName=Udyr<br>totalDamageDealtToChampions=%{x}<br>totalDamageTaken=%{y}<extra></extra>",
         "legendgroup": "Udyr",
         "marker": {
          "color": "#FECB52",
          "symbol": "circle"
         },
         "mode": "markers",
         "name": "Udyr",
         "orientation": "v",
         "showlegend": true,
         "type": "scatter",
         "x": [
          24058
         ],
         "xaxis": "x",
         "y": [
          33400
         ],
         "yaxis": "y"
        },
        {
         "hovertemplate": "championName=Urgot<br>totalDamageDealtToChampions=%{x}<br>totalDamageTaken=%{y}<extra></extra>",
         "legendgroup": "Urgot",
         "marker": {
          "color": "#636efa",
          "symbol": "circle"
         },
         "mode": "markers",
         "name": "Urgot",
         "orientation": "v",
         "showlegend": true,
         "type": "scatter",
         "x": [
          24188
         ],
         "xaxis": "x",
         "y": [
          31478
         ],
         "yaxis": "y"
        },
        {
         "hovertemplate": "championName=Varus<br>totalDamageDealtToChampions=%{x}<br>totalDamageTaken=%{y}<extra></extra>",
         "legendgroup": "Varus",
         "marker": {
          "color": "#EF553B",
          "symbol": "circle"
         },
         "mode": "markers",
         "name": "Varus",
         "orientation": "v",
         "showlegend": true,
         "type": "scatter",
         "x": [
          22950
         ],
         "xaxis": "x",
         "y": [
          19551
         ],
         "yaxis": "y"
        },
        {
         "hovertemplate": "championName=Vayne<br>totalDamageDealtToChampions=%{x}<br>totalDamageTaken=%{y}<extra></extra>",
         "legendgroup": "Vayne",
         "marker": {
          "color": "#00cc96",
          "symbol": "circle"
         },
         "mode": "markers",
         "name": "Vayne",
         "orientation": "v",
         "showlegend": true,
         "type": "scatter",
         "x": [
          24802
         ],
         "xaxis": "x",
         "y": [
          22303
         ],
         "yaxis": "y"
        },
        {
         "hovertemplate": "championName=Veigar<br>totalDamageDealtToChampions=%{x}<br>totalDamageTaken=%{y}<extra></extra>",
         "legendgroup": "Veigar",
         "marker": {
          "color": "#ab63fa",
          "symbol": "circle"
         },
         "mode": "markers",
         "name": "Veigar",
         "orientation": "v",
         "showlegend": true,
         "type": "scatter",
         "x": [
          26164
         ],
         "xaxis": "x",
         "y": [
          23279
         ],
         "yaxis": "y"
        },
        {
         "hovertemplate": "championName=Velkoz<br>totalDamageDealtToChampions=%{x}<br>totalDamageTaken=%{y}<extra></extra>",
         "legendgroup": "Velkoz",
         "marker": {
          "color": "#FFA15A",
          "symbol": "circle"
         },
         "mode": "markers",
         "name": "Velkoz",
         "orientation": "v",
         "showlegend": true,
         "type": "scatter",
         "x": [
          28798
         ],
         "xaxis": "x",
         "y": [
          20093
         ],
         "yaxis": "y"
        },
        {
         "hovertemplate": "championName=Vex<br>totalDamageDealtToChampions=%{x}<br>totalDamageTaken=%{y}<extra></extra>",
         "legendgroup": "Vex",
         "marker": {
          "color": "#19d3f3",
          "symbol": "circle"
         },
         "mode": "markers",
         "name": "Vex",
         "orientation": "v",
         "showlegend": true,
         "type": "scatter",
         "x": [
          24795
         ],
         "xaxis": "x",
         "y": [
          19914
         ],
         "yaxis": "y"
        },
        {
         "hovertemplate": "championName=Vi<br>totalDamageDealtToChampions=%{x}<br>totalDamageTaken=%{y}<extra></extra>",
         "legendgroup": "Vi",
         "marker": {
          "color": "#FF6692",
          "symbol": "circle"
         },
         "mode": "markers",
         "name": "Vi",
         "orientation": "v",
         "showlegend": true,
         "type": "scatter",
         "x": [
          18263
         ],
         "xaxis": "x",
         "y": [
          26728
         ],
         "yaxis": "y"
        },
        {
         "hovertemplate": "championName=Viego<br>totalDamageDealtToChampions=%{x}<br>totalDamageTaken=%{y}<extra></extra>",
         "legendgroup": "Viego",
         "marker": {
          "color": "#B6E880",
          "symbol": "circle"
         },
         "mode": "markers",
         "name": "Viego",
         "orientation": "v",
         "showlegend": true,
         "type": "scatter",
         "x": [
          18097
         ],
         "xaxis": "x",
         "y": [
          30488
         ],
         "yaxis": "y"
        },
        {
         "hovertemplate": "championName=Viktor<br>totalDamageDealtToChampions=%{x}<br>totalDamageTaken=%{y}<extra></extra>",
         "legendgroup": "Viktor",
         "marker": {
          "color": "#FF97FF",
          "symbol": "circle"
         },
         "mode": "markers",
         "name": "Viktor",
         "orientation": "v",
         "showlegend": true,
         "type": "scatter",
         "x": [
          25842
         ],
         "xaxis": "x",
         "y": [
          18601
         ],
         "yaxis": "y"
        },
        {
         "hovertemplate": "championName=Vladimir<br>totalDamageDealtToChampions=%{x}<br>totalDamageTaken=%{y}<extra></extra>",
         "legendgroup": "Vladimir",
         "marker": {
          "color": "#FECB52",
          "symbol": "circle"
         },
         "mode": "markers",
         "name": "Vladimir",
         "orientation": "v",
         "showlegend": true,
         "type": "scatter",
         "x": [
          29616
         ],
         "xaxis": "x",
         "y": [
          35895
         ],
         "yaxis": "y"
        },
        {
         "hovertemplate": "championName=Volibear<br>totalDamageDealtToChampions=%{x}<br>totalDamageTaken=%{y}<extra></extra>",
         "legendgroup": "Volibear",
         "marker": {
          "color": "#636efa",
          "symbol": "circle"
         },
         "mode": "markers",
         "name": "Volibear",
         "orientation": "v",
         "showlegend": true,
         "type": "scatter",
         "x": [
          21719
         ],
         "xaxis": "x",
         "y": [
          35250
         ],
         "yaxis": "y"
        },
        {
         "hovertemplate": "championName=Warwick<br>totalDamageDealtToChampions=%{x}<br>totalDamageTaken=%{y}<extra></extra>",
         "legendgroup": "Warwick",
         "marker": {
          "color": "#EF553B",
          "symbol": "circle"
         },
         "mode": "markers",
         "name": "Warwick",
         "orientation": "v",
         "showlegend": true,
         "type": "scatter",
         "x": [
          18908
         ],
         "xaxis": "x",
         "y": [
          34968
         ],
         "yaxis": "y"
        },
        {
         "hovertemplate": "championName=Xayah<br>totalDamageDealtToChampions=%{x}<br>totalDamageTaken=%{y}<extra></extra>",
         "legendgroup": "Xayah",
         "marker": {
          "color": "#00cc96",
          "symbol": "circle"
         },
         "mode": "markers",
         "name": "Xayah",
         "orientation": "v",
         "showlegend": true,
         "type": "scatter",
         "x": [
          22364
         ],
         "xaxis": "x",
         "y": [
          19607
         ],
         "yaxis": "y"
        },
        {
         "hovertemplate": "championName=Xerath<br>totalDamageDealtToChampions=%{x}<br>totalDamageTaken=%{y}<extra></extra>",
         "legendgroup": "Xerath",
         "marker": {
          "color": "#ab63fa",
          "symbol": "circle"
         },
         "mode": "markers",
         "name": "Xerath",
         "orientation": "v",
         "showlegend": true,
         "type": "scatter",
         "x": [
          22619
         ],
         "xaxis": "x",
         "y": [
          15370
         ],
         "yaxis": "y"
        },
        {
         "hovertemplate": "championName=XinZhao<br>totalDamageDealtToChampions=%{x}<br>totalDamageTaken=%{y}<extra></extra>",
         "legendgroup": "XinZhao",
         "marker": {
          "color": "#FFA15A",
          "symbol": "circle"
         },
         "mode": "markers",
         "name": "XinZhao",
         "orientation": "v",
         "showlegend": true,
         "type": "scatter",
         "x": [
          20735
         ],
         "xaxis": "x",
         "y": [
          34367
         ],
         "yaxis": "y"
        },
        {
         "hovertemplate": "championName=Yasuo<br>totalDamageDealtToChampions=%{x}<br>totalDamageTaken=%{y}<extra></extra>",
         "legendgroup": "Yasuo",
         "marker": {
          "color": "#19d3f3",
          "symbol": "circle"
         },
         "mode": "markers",
         "name": "Yasuo",
         "orientation": "v",
         "showlegend": true,
         "type": "scatter",
         "x": [
          20468
         ],
         "xaxis": "x",
         "y": [
          24320
         ],
         "yaxis": "y"
        },
        {
         "hovertemplate": "championName=Yone<br>totalDamageDealtToChampions=%{x}<br>totalDamageTaken=%{y}<extra></extra>",
         "legendgroup": "Yone",
         "marker": {
          "color": "#FF6692",
          "symbol": "circle"
         },
         "mode": "markers",
         "name": "Yone",
         "orientation": "v",
         "showlegend": true,
         "type": "scatter",
         "x": [
          22316
         ],
         "xaxis": "x",
         "y": [
          24642
         ],
         "yaxis": "y"
        },
        {
         "hovertemplate": "championName=Yorick<br>totalDamageDealtToChampions=%{x}<br>totalDamageTaken=%{y}<extra></extra>",
         "legendgroup": "Yorick",
         "marker": {
          "color": "#B6E880",
          "symbol": "circle"
         },
         "mode": "markers",
         "name": "Yorick",
         "orientation": "v",
         "showlegend": true,
         "type": "scatter",
         "x": [
          23310
         ],
         "xaxis": "x",
         "y": [
          26369
         ],
         "yaxis": "y"
        },
        {
         "hovertemplate": "championName=Yuumi<br>totalDamageDealtToChampions=%{x}<br>totalDamageTaken=%{y}<extra></extra>",
         "legendgroup": "Yuumi",
         "marker": {
          "color": "#FF97FF",
          "symbol": "circle"
         },
         "mode": "markers",
         "name": "Yuumi",
         "orientation": "v",
         "showlegend": true,
         "type": "scatter",
         "x": [
          9831
         ],
         "xaxis": "x",
         "y": [
          8438
         ],
         "yaxis": "y"
        },
        {
         "hovertemplate": "championName=Zac<br>totalDamageDealtToChampions=%{x}<br>totalDamageTaken=%{y}<extra></extra>",
         "legendgroup": "Zac",
         "marker": {
          "color": "#FECB52",
          "symbol": "circle"
         },
         "mode": "markers",
         "name": "Zac",
         "orientation": "v",
         "showlegend": true,
         "type": "scatter",
         "x": [
          17485
         ],
         "xaxis": "x",
         "y": [
          40300
         ],
         "yaxis": "y"
        },
        {
         "hovertemplate": "championName=Zed<br>totalDamageDealtToChampions=%{x}<br>totalDamageTaken=%{y}<extra></extra>",
         "legendgroup": "Zed",
         "marker": {
          "color": "#636efa",
          "symbol": "circle"
         },
         "mode": "markers",
         "name": "Zed",
         "orientation": "v",
         "showlegend": true,
         "type": "scatter",
         "x": [
          27603
         ],
         "xaxis": "x",
         "y": [
          22026
         ],
         "yaxis": "y"
        },
        {
         "hovertemplate": "championName=Zeri<br>totalDamageDealtToChampions=%{x}<br>totalDamageTaken=%{y}<extra></extra>",
         "legendgroup": "Zeri",
         "marker": {
          "color": "#EF553B",
          "symbol": "circle"
         },
         "mode": "markers",
         "name": "Zeri",
         "orientation": "v",
         "showlegend": true,
         "type": "scatter",
         "x": [
          25238
         ],
         "xaxis": "x",
         "y": [
          22042
         ],
         "yaxis": "y"
        },
        {
         "hovertemplate": "championName=Ziggs<br>totalDamageDealtToChampions=%{x}<br>totalDamageTaken=%{y}<extra></extra>",
         "legendgroup": "Ziggs",
         "marker": {
          "color": "#00cc96",
          "symbol": "circle"
         },
         "mode": "markers",
         "name": "Ziggs",
         "orientation": "v",
         "showlegend": true,
         "type": "scatter",
         "x": [
          28127
         ],
         "xaxis": "x",
         "y": [
          18311
         ],
         "yaxis": "y"
        },
        {
         "hovertemplate": "championName=Zilean<br>totalDamageDealtToChampions=%{x}<br>totalDamageTaken=%{y}<extra></extra>",
         "legendgroup": "Zilean",
         "marker": {
          "color": "#ab63fa",
          "symbol": "circle"
         },
         "mode": "markers",
         "name": "Zilean",
         "orientation": "v",
         "showlegend": true,
         "type": "scatter",
         "x": [
          12849
         ],
         "xaxis": "x",
         "y": [
          19486
         ],
         "yaxis": "y"
        },
        {
         "hovertemplate": "championName=Zoe<br>totalDamageDealtToChampions=%{x}<br>totalDamageTaken=%{y}<extra></extra>",
         "legendgroup": "Zoe",
         "marker": {
          "color": "#FFA15A",
          "symbol": "circle"
         },
         "mode": "markers",
         "name": "Zoe",
         "orientation": "v",
         "showlegend": true,
         "type": "scatter",
         "x": [
          26343
         ],
         "xaxis": "x",
         "y": [
          20344
         ],
         "yaxis": "y"
        },
        {
         "hovertemplate": "championName=Zyra<br>totalDamageDealtToChampions=%{x}<br>totalDamageTaken=%{y}<extra></extra>",
         "legendgroup": "Zyra",
         "marker": {
          "color": "#19d3f3",
          "symbol": "circle"
         },
         "mode": "markers",
         "name": "Zyra",
         "orientation": "v",
         "showlegend": true,
         "type": "scatter",
         "x": [
          21559
         ],
         "xaxis": "x",
         "y": [
          17532
         ],
         "yaxis": "y"
        }
       ],
       "layout": {
        "legend": {
         "title": {
          "text": "championName"
         },
         "tracegroupgap": 0
        },
        "margin": {
         "t": 60
        },
        "template": {
         "data": {
          "bar": [
           {
            "error_x": {
             "color": "#2a3f5f"
            },
            "error_y": {
             "color": "#2a3f5f"
            },
            "marker": {
             "line": {
              "color": "#E5ECF6",
              "width": 0.5
             },
             "pattern": {
              "fillmode": "overlay",
              "size": 10,
              "solidity": 0.2
             }
            },
            "type": "bar"
           }
          ],
          "barpolar": [
           {
            "marker": {
             "line": {
              "color": "#E5ECF6",
              "width": 0.5
             },
             "pattern": {
              "fillmode": "overlay",
              "size": 10,
              "solidity": 0.2
             }
            },
            "type": "barpolar"
           }
          ],
          "carpet": [
           {
            "aaxis": {
             "endlinecolor": "#2a3f5f",
             "gridcolor": "white",
             "linecolor": "white",
             "minorgridcolor": "white",
             "startlinecolor": "#2a3f5f"
            },
            "baxis": {
             "endlinecolor": "#2a3f5f",
             "gridcolor": "white",
             "linecolor": "white",
             "minorgridcolor": "white",
             "startlinecolor": "#2a3f5f"
            },
            "type": "carpet"
           }
          ],
          "choropleth": [
           {
            "colorbar": {
             "outlinewidth": 0,
             "ticks": ""
            },
            "type": "choropleth"
           }
          ],
          "contour": [
           {
            "colorbar": {
             "outlinewidth": 0,
             "ticks": ""
            },
            "colorscale": [
             [
              0,
              "#0d0887"
             ],
             [
              0.1111111111111111,
              "#46039f"
             ],
             [
              0.2222222222222222,
              "#7201a8"
             ],
             [
              0.3333333333333333,
              "#9c179e"
             ],
             [
              0.4444444444444444,
              "#bd3786"
             ],
             [
              0.5555555555555556,
              "#d8576b"
             ],
             [
              0.6666666666666666,
              "#ed7953"
             ],
             [
              0.7777777777777778,
              "#fb9f3a"
             ],
             [
              0.8888888888888888,
              "#fdca26"
             ],
             [
              1,
              "#f0f921"
             ]
            ],
            "type": "contour"
           }
          ],
          "contourcarpet": [
           {
            "colorbar": {
             "outlinewidth": 0,
             "ticks": ""
            },
            "type": "contourcarpet"
           }
          ],
          "heatmap": [
           {
            "colorbar": {
             "outlinewidth": 0,
             "ticks": ""
            },
            "colorscale": [
             [
              0,
              "#0d0887"
             ],
             [
              0.1111111111111111,
              "#46039f"
             ],
             [
              0.2222222222222222,
              "#7201a8"
             ],
             [
              0.3333333333333333,
              "#9c179e"
             ],
             [
              0.4444444444444444,
              "#bd3786"
             ],
             [
              0.5555555555555556,
              "#d8576b"
             ],
             [
              0.6666666666666666,
              "#ed7953"
             ],
             [
              0.7777777777777778,
              "#fb9f3a"
             ],
             [
              0.8888888888888888,
              "#fdca26"
             ],
             [
              1,
              "#f0f921"
             ]
            ],
            "type": "heatmap"
           }
          ],
          "heatmapgl": [
           {
            "colorbar": {
             "outlinewidth": 0,
             "ticks": ""
            },
            "colorscale": [
             [
              0,
              "#0d0887"
             ],
             [
              0.1111111111111111,
              "#46039f"
             ],
             [
              0.2222222222222222,
              "#7201a8"
             ],
             [
              0.3333333333333333,
              "#9c179e"
             ],
             [
              0.4444444444444444,
              "#bd3786"
             ],
             [
              0.5555555555555556,
              "#d8576b"
             ],
             [
              0.6666666666666666,
              "#ed7953"
             ],
             [
              0.7777777777777778,
              "#fb9f3a"
             ],
             [
              0.8888888888888888,
              "#fdca26"
             ],
             [
              1,
              "#f0f921"
             ]
            ],
            "type": "heatmapgl"
           }
          ],
          "histogram": [
           {
            "marker": {
             "pattern": {
              "fillmode": "overlay",
              "size": 10,
              "solidity": 0.2
             }
            },
            "type": "histogram"
           }
          ],
          "histogram2d": [
           {
            "colorbar": {
             "outlinewidth": 0,
             "ticks": ""
            },
            "colorscale": [
             [
              0,
              "#0d0887"
             ],
             [
              0.1111111111111111,
              "#46039f"
             ],
             [
              0.2222222222222222,
              "#7201a8"
             ],
             [
              0.3333333333333333,
              "#9c179e"
             ],
             [
              0.4444444444444444,
              "#bd3786"
             ],
             [
              0.5555555555555556,
              "#d8576b"
             ],
             [
              0.6666666666666666,
              "#ed7953"
             ],
             [
              0.7777777777777778,
              "#fb9f3a"
             ],
             [
              0.8888888888888888,
              "#fdca26"
             ],
             [
              1,
              "#f0f921"
             ]
            ],
            "type": "histogram2d"
           }
          ],
          "histogram2dcontour": [
           {
            "colorbar": {
             "outlinewidth": 0,
             "ticks": ""
            },
            "colorscale": [
             [
              0,
              "#0d0887"
             ],
             [
              0.1111111111111111,
              "#46039f"
             ],
             [
              0.2222222222222222,
              "#7201a8"
             ],
             [
              0.3333333333333333,
              "#9c179e"
             ],
             [
              0.4444444444444444,
              "#bd3786"
             ],
             [
              0.5555555555555556,
              "#d8576b"
             ],
             [
              0.6666666666666666,
              "#ed7953"
             ],
             [
              0.7777777777777778,
              "#fb9f3a"
             ],
             [
              0.8888888888888888,
              "#fdca26"
             ],
             [
              1,
              "#f0f921"
             ]
            ],
            "type": "histogram2dcontour"
           }
          ],
          "mesh3d": [
           {
            "colorbar": {
             "outlinewidth": 0,
             "ticks": ""
            },
            "type": "mesh3d"
           }
          ],
          "parcoords": [
           {
            "line": {
             "colorbar": {
              "outlinewidth": 0,
              "ticks": ""
             }
            },
            "type": "parcoords"
           }
          ],
          "pie": [
           {
            "automargin": true,
            "type": "pie"
           }
          ],
          "scatter": [
           {
            "fillpattern": {
             "fillmode": "overlay",
             "size": 10,
             "solidity": 0.2
            },
            "type": "scatter"
           }
          ],
          "scatter3d": [
           {
            "line": {
             "colorbar": {
              "outlinewidth": 0,
              "ticks": ""
             }
            },
            "marker": {
             "colorbar": {
              "outlinewidth": 0,
              "ticks": ""
             }
            },
            "type": "scatter3d"
           }
          ],
          "scattercarpet": [
           {
            "marker": {
             "colorbar": {
              "outlinewidth": 0,
              "ticks": ""
             }
            },
            "type": "scattercarpet"
           }
          ],
          "scattergeo": [
           {
            "marker": {
             "colorbar": {
              "outlinewidth": 0,
              "ticks": ""
             }
            },
            "type": "scattergeo"
           }
          ],
          "scattergl": [
           {
            "marker": {
             "colorbar": {
              "outlinewidth": 0,
              "ticks": ""
             }
            },
            "type": "scattergl"
           }
          ],
          "scattermapbox": [
           {
            "marker": {
             "colorbar": {
              "outlinewidth": 0,
              "ticks": ""
             }
            },
            "type": "scattermapbox"
           }
          ],
          "scatterpolar": [
           {
            "marker": {
             "colorbar": {
              "outlinewidth": 0,
              "ticks": ""
             }
            },
            "type": "scatterpolar"
           }
          ],
          "scatterpolargl": [
           {
            "marker": {
             "colorbar": {
              "outlinewidth": 0,
              "ticks": ""
             }
            },
            "type": "scatterpolargl"
           }
          ],
          "scatterternary": [
           {
            "marker": {
             "colorbar": {
              "outlinewidth": 0,
              "ticks": ""
             }
            },
            "type": "scatterternary"
           }
          ],
          "surface": [
           {
            "colorbar": {
             "outlinewidth": 0,
             "ticks": ""
            },
            "colorscale": [
             [
              0,
              "#0d0887"
             ],
             [
              0.1111111111111111,
              "#46039f"
             ],
             [
              0.2222222222222222,
              "#7201a8"
             ],
             [
              0.3333333333333333,
              "#9c179e"
             ],
             [
              0.4444444444444444,
              "#bd3786"
             ],
             [
              0.5555555555555556,
              "#d8576b"
             ],
             [
              0.6666666666666666,
              "#ed7953"
             ],
             [
              0.7777777777777778,
              "#fb9f3a"
             ],
             [
              0.8888888888888888,
              "#fdca26"
             ],
             [
              1,
              "#f0f921"
             ]
            ],
            "type": "surface"
           }
          ],
          "table": [
           {
            "cells": {
             "fill": {
              "color": "#EBF0F8"
             },
             "line": {
              "color": "white"
             }
            },
            "header": {
             "fill": {
              "color": "#C8D4E3"
             },
             "line": {
              "color": "white"
             }
            },
            "type": "table"
           }
          ]
         },
         "layout": {
          "annotationdefaults": {
           "arrowcolor": "#2a3f5f",
           "arrowhead": 0,
           "arrowwidth": 1
          },
          "autotypenumbers": "strict",
          "coloraxis": {
           "colorbar": {
            "outlinewidth": 0,
            "ticks": ""
           }
          },
          "colorscale": {
           "diverging": [
            [
             0,
             "#8e0152"
            ],
            [
             0.1,
             "#c51b7d"
            ],
            [
             0.2,
             "#de77ae"
            ],
            [
             0.3,
             "#f1b6da"
            ],
            [
             0.4,
             "#fde0ef"
            ],
            [
             0.5,
             "#f7f7f7"
            ],
            [
             0.6,
             "#e6f5d0"
            ],
            [
             0.7,
             "#b8e186"
            ],
            [
             0.8,
             "#7fbc41"
            ],
            [
             0.9,
             "#4d9221"
            ],
            [
             1,
             "#276419"
            ]
           ],
           "sequential": [
            [
             0,
             "#0d0887"
            ],
            [
             0.1111111111111111,
             "#46039f"
            ],
            [
             0.2222222222222222,
             "#7201a8"
            ],
            [
             0.3333333333333333,
             "#9c179e"
            ],
            [
             0.4444444444444444,
             "#bd3786"
            ],
            [
             0.5555555555555556,
             "#d8576b"
            ],
            [
             0.6666666666666666,
             "#ed7953"
            ],
            [
             0.7777777777777778,
             "#fb9f3a"
            ],
            [
             0.8888888888888888,
             "#fdca26"
            ],
            [
             1,
             "#f0f921"
            ]
           ],
           "sequentialminus": [
            [
             0,
             "#0d0887"
            ],
            [
             0.1111111111111111,
             "#46039f"
            ],
            [
             0.2222222222222222,
             "#7201a8"
            ],
            [
             0.3333333333333333,
             "#9c179e"
            ],
            [
             0.4444444444444444,
             "#bd3786"
            ],
            [
             0.5555555555555556,
             "#d8576b"
            ],
            [
             0.6666666666666666,
             "#ed7953"
            ],
            [
             0.7777777777777778,
             "#fb9f3a"
            ],
            [
             0.8888888888888888,
             "#fdca26"
            ],
            [
             1,
             "#f0f921"
            ]
           ]
          },
          "colorway": [
           "#636efa",
           "#EF553B",
           "#00cc96",
           "#ab63fa",
           "#FFA15A",
           "#19d3f3",
           "#FF6692",
           "#B6E880",
           "#FF97FF",
           "#FECB52"
          ],
          "font": {
           "color": "#2a3f5f"
          },
          "geo": {
           "bgcolor": "white",
           "lakecolor": "white",
           "landcolor": "#E5ECF6",
           "showlakes": true,
           "showland": true,
           "subunitcolor": "white"
          },
          "hoverlabel": {
           "align": "left"
          },
          "hovermode": "closest",
          "mapbox": {
           "style": "light"
          },
          "paper_bgcolor": "white",
          "plot_bgcolor": "#E5ECF6",
          "polar": {
           "angularaxis": {
            "gridcolor": "white",
            "linecolor": "white",
            "ticks": ""
           },
           "bgcolor": "#E5ECF6",
           "radialaxis": {
            "gridcolor": "white",
            "linecolor": "white",
            "ticks": ""
           }
          },
          "scene": {
           "xaxis": {
            "backgroundcolor": "#E5ECF6",
            "gridcolor": "white",
            "gridwidth": 2,
            "linecolor": "white",
            "showbackground": true,
            "ticks": "",
            "zerolinecolor": "white"
           },
           "yaxis": {
            "backgroundcolor": "#E5ECF6",
            "gridcolor": "white",
            "gridwidth": 2,
            "linecolor": "white",
            "showbackground": true,
            "ticks": "",
            "zerolinecolor": "white"
           },
           "zaxis": {
            "backgroundcolor": "#E5ECF6",
            "gridcolor": "white",
            "gridwidth": 2,
            "linecolor": "white",
            "showbackground": true,
            "ticks": "",
            "zerolinecolor": "white"
           }
          },
          "shapedefaults": {
           "line": {
            "color": "#2a3f5f"
           }
          },
          "ternary": {
           "aaxis": {
            "gridcolor": "white",
            "linecolor": "white",
            "ticks": ""
           },
           "baxis": {
            "gridcolor": "white",
            "linecolor": "white",
            "ticks": ""
           },
           "bgcolor": "#E5ECF6",
           "caxis": {
            "gridcolor": "white",
            "linecolor": "white",
            "ticks": ""
           }
          },
          "title": {
           "x": 0.05
          },
          "xaxis": {
           "automargin": true,
           "gridcolor": "white",
           "linecolor": "white",
           "ticks": "",
           "title": {
            "standoff": 15
           },
           "zerolinecolor": "white",
           "zerolinewidth": 2
          },
          "yaxis": {
           "automargin": true,
           "gridcolor": "white",
           "linecolor": "white",
           "ticks": "",
           "title": {
            "standoff": 15
           },
           "zerolinecolor": "white",
           "zerolinewidth": 2
          }
         }
        },
        "xaxis": {
         "anchor": "y",
         "domain": [
          0,
          1
         ],
         "title": {
          "text": "totalDamageDealtToChampions"
         }
        },
        "yaxis": {
         "anchor": "x",
         "domain": [
          0,
          1
         ],
         "title": {
          "text": "totalDamageTaken"
         }
        }
       }
      },
      "text/html": [
       "<div>                            <div id=\"358868bf-d319-490c-bd2d-b691c060db47\" class=\"plotly-graph-div\" style=\"height:525px; width:100%;\"></div>            <script type=\"text/javascript\">                require([\"plotly\"], function(Plotly) {                    window.PLOTLYENV=window.PLOTLYENV || {};                                    if (document.getElementById(\"358868bf-d319-490c-bd2d-b691c060db47\")) {                    Plotly.newPlot(                        \"358868bf-d319-490c-bd2d-b691c060db47\",                        [{\"hovertemplate\":\"championName=Aatrox<br>totalDamageDealtToChampions=%{x}<br>totalDamageTaken=%{y}<extra></extra>\",\"legendgroup\":\"Aatrox\",\"marker\":{\"color\":\"#636efa\",\"symbol\":\"circle\"},\"mode\":\"markers\",\"name\":\"Aatrox\",\"orientation\":\"v\",\"showlegend\":true,\"x\":[22244.0],\"xaxis\":\"x\",\"y\":[33878.0],\"yaxis\":\"y\",\"type\":\"scatter\"},{\"hovertemplate\":\"championName=Ahri<br>totalDamageDealtToChampions=%{x}<br>totalDamageTaken=%{y}<extra></extra>\",\"legendgroup\":\"Ahri\",\"marker\":{\"color\":\"#EF553B\",\"symbol\":\"circle\"},\"mode\":\"markers\",\"name\":\"Ahri\",\"orientation\":\"v\",\"showlegend\":true,\"x\":[22302.0],\"xaxis\":\"x\",\"y\":[21309.0],\"yaxis\":\"y\",\"type\":\"scatter\"},{\"hovertemplate\":\"championName=Akali<br>totalDamageDealtToChampions=%{x}<br>totalDamageTaken=%{y}<extra></extra>\",\"legendgroup\":\"Akali\",\"marker\":{\"color\":\"#00cc96\",\"symbol\":\"circle\"},\"mode\":\"markers\",\"name\":\"Akali\",\"orientation\":\"v\",\"showlegend\":true,\"x\":[23199.0],\"xaxis\":\"x\",\"y\":[27813.0],\"yaxis\":\"y\",\"type\":\"scatter\"},{\"hovertemplate\":\"championName=Akshan<br>totalDamageDealtToChampions=%{x}<br>totalDamageTaken=%{y}<extra></extra>\",\"legendgroup\":\"Akshan\",\"marker\":{\"color\":\"#ab63fa\",\"symbol\":\"circle\"},\"mode\":\"markers\",\"name\":\"Akshan\",\"orientation\":\"v\",\"showlegend\":true,\"x\":[23246.0],\"xaxis\":\"x\",\"y\":[20725.0],\"yaxis\":\"y\",\"type\":\"scatter\"},{\"hovertemplate\":\"championName=Alistar<br>totalDamageDealtToChampions=%{x}<br>totalDamageTaken=%{y}<extra></extra>\",\"legendgroup\":\"Alistar\",\"marker\":{\"color\":\"#FFA15A\",\"symbol\":\"circle\"},\"mode\":\"markers\",\"name\":\"Alistar\",\"orientation\":\"v\",\"showlegend\":true,\"x\":[12142.0],\"xaxis\":\"x\",\"y\":[32355.0],\"yaxis\":\"y\",\"type\":\"scatter\"},{\"hovertemplate\":\"championName=Amumu<br>totalDamageDealtToChampions=%{x}<br>totalDamageTaken=%{y}<extra></extra>\",\"legendgroup\":\"Amumu\",\"marker\":{\"color\":\"#19d3f3\",\"symbol\":\"circle\"},\"mode\":\"markers\",\"name\":\"Amumu\",\"orientation\":\"v\",\"showlegend\":true,\"x\":[16975.0],\"xaxis\":\"x\",\"y\":[30142.0],\"yaxis\":\"y\",\"type\":\"scatter\"},{\"hovertemplate\":\"championName=Anivia<br>totalDamageDealtToChampions=%{x}<br>totalDamageTaken=%{y}<extra></extra>\",\"legendgroup\":\"Anivia\",\"marker\":{\"color\":\"#FF6692\",\"symbol\":\"circle\"},\"mode\":\"markers\",\"name\":\"Anivia\",\"orientation\":\"v\",\"showlegend\":true,\"x\":[21903.0],\"xaxis\":\"x\",\"y\":[26893.0],\"yaxis\":\"y\",\"type\":\"scatter\"},{\"hovertemplate\":\"championName=Annie<br>totalDamageDealtToChampions=%{x}<br>totalDamageTaken=%{y}<extra></extra>\",\"legendgroup\":\"Annie\",\"marker\":{\"color\":\"#B6E880\",\"symbol\":\"circle\"},\"mode\":\"markers\",\"name\":\"Annie\",\"orientation\":\"v\",\"showlegend\":true,\"x\":[26570.0],\"xaxis\":\"x\",\"y\":[20861.0],\"yaxis\":\"y\",\"type\":\"scatter\"},{\"hovertemplate\":\"championName=Aphelios<br>totalDamageDealtToChampions=%{x}<br>totalDamageTaken=%{y}<extra></extra>\",\"legendgroup\":\"Aphelios\",\"marker\":{\"color\":\"#FF97FF\",\"symbol\":\"circle\"},\"mode\":\"markers\",\"name\":\"Aphelios\",\"orientation\":\"v\",\"showlegend\":true,\"x\":[22402.0],\"xaxis\":\"x\",\"y\":[18175.0],\"yaxis\":\"y\",\"type\":\"scatter\"},{\"hovertemplate\":\"championName=Ashe<br>totalDamageDealtToChampions=%{x}<br>totalDamageTaken=%{y}<extra></extra>\",\"legendgroup\":\"Ashe\",\"marker\":{\"color\":\"#FECB52\",\"symbol\":\"circle\"},\"mode\":\"markers\",\"name\":\"Ashe\",\"orientation\":\"v\",\"showlegend\":true,\"x\":[19159.0],\"xaxis\":\"x\",\"y\":[18643.0],\"yaxis\":\"y\",\"type\":\"scatter\"},{\"hovertemplate\":\"championName=AurelionSol<br>totalDamageDealtToChampions=%{x}<br>totalDamageTaken=%{y}<extra></extra>\",\"legendgroup\":\"AurelionSol\",\"marker\":{\"color\":\"#636efa\",\"symbol\":\"circle\"},\"mode\":\"markers\",\"name\":\"AurelionSol\",\"orientation\":\"v\",\"showlegend\":true,\"x\":[28080.0],\"xaxis\":\"x\",\"y\":[23380.0],\"yaxis\":\"y\",\"type\":\"scatter\"},{\"hovertemplate\":\"championName=Azir<br>totalDamageDealtToChampions=%{x}<br>totalDamageTaken=%{y}<extra></extra>\",\"legendgroup\":\"Azir\",\"marker\":{\"color\":\"#EF553B\",\"symbol\":\"circle\"},\"mode\":\"markers\",\"name\":\"Azir\",\"orientation\":\"v\",\"showlegend\":true,\"x\":[23807.0],\"xaxis\":\"x\",\"y\":[20542.0],\"yaxis\":\"y\",\"type\":\"scatter\"},{\"hovertemplate\":\"championName=Bard<br>totalDamageDealtToChampions=%{x}<br>totalDamageTaken=%{y}<extra></extra>\",\"legendgroup\":\"Bard\",\"marker\":{\"color\":\"#00cc96\",\"symbol\":\"circle\"},\"mode\":\"markers\",\"name\":\"Bard\",\"orientation\":\"v\",\"showlegend\":true,\"x\":[13846.0],\"xaxis\":\"x\",\"y\":[21506.0],\"yaxis\":\"y\",\"type\":\"scatter\"},{\"hovertemplate\":\"championName=Belveth<br>totalDamageDealtToChampions=%{x}<br>totalDamageTaken=%{y}<extra></extra>\",\"legendgroup\":\"Belveth\",\"marker\":{\"color\":\"#ab63fa\",\"symbol\":\"circle\"},\"mode\":\"markers\",\"name\":\"Belveth\",\"orientation\":\"v\",\"showlegend\":true,\"x\":[16850.0],\"xaxis\":\"x\",\"y\":[27695.0],\"yaxis\":\"y\",\"type\":\"scatter\"},{\"hovertemplate\":\"championName=Blitzcrank<br>totalDamageDealtToChampions=%{x}<br>totalDamageTaken=%{y}<extra></extra>\",\"legendgroup\":\"Blitzcrank\",\"marker\":{\"color\":\"#FFA15A\",\"symbol\":\"circle\"},\"mode\":\"markers\",\"name\":\"Blitzcrank\",\"orientation\":\"v\",\"showlegend\":true,\"x\":[10670.0],\"xaxis\":\"x\",\"y\":[22619.0],\"yaxis\":\"y\",\"type\":\"scatter\"},{\"hovertemplate\":\"championName=Brand<br>totalDamageDealtToChampions=%{x}<br>totalDamageTaken=%{y}<extra></extra>\",\"legendgroup\":\"Brand\",\"marker\":{\"color\":\"#19d3f3\",\"symbol\":\"circle\"},\"mode\":\"markers\",\"name\":\"Brand\",\"orientation\":\"v\",\"showlegend\":true,\"x\":[25713.0],\"xaxis\":\"x\",\"y\":[23831.0],\"yaxis\":\"y\",\"type\":\"scatter\"},{\"hovertemplate\":\"championName=Braum<br>totalDamageDealtToChampions=%{x}<br>totalDamageTaken=%{y}<extra></extra>\",\"legendgroup\":\"Braum\",\"marker\":{\"color\":\"#FF6692\",\"symbol\":\"circle\"},\"mode\":\"markers\",\"name\":\"Braum\",\"orientation\":\"v\",\"showlegend\":true,\"x\":[9503.0],\"xaxis\":\"x\",\"y\":[25963.0],\"yaxis\":\"y\",\"type\":\"scatter\"},{\"hovertemplate\":\"championName=Briar<br>totalDamageDealtToChampions=%{x}<br>totalDamageTaken=%{y}<extra></extra>\",\"legendgroup\":\"Briar\",\"marker\":{\"color\":\"#B6E880\",\"symbol\":\"circle\"},\"mode\":\"markers\",\"name\":\"Briar\",\"orientation\":\"v\",\"showlegend\":true,\"x\":[21549.0],\"xaxis\":\"x\",\"y\":[32553.0],\"yaxis\":\"y\",\"type\":\"scatter\"},{\"hovertemplate\":\"championName=Caitlyn<br>totalDamageDealtToChampions=%{x}<br>totalDamageTaken=%{y}<extra></extra>\",\"legendgroup\":\"Caitlyn\",\"marker\":{\"color\":\"#FF97FF\",\"symbol\":\"circle\"},\"mode\":\"markers\",\"name\":\"Caitlyn\",\"orientation\":\"v\",\"showlegend\":true,\"x\":[23098.0],\"xaxis\":\"x\",\"y\":[19380.0],\"yaxis\":\"y\",\"type\":\"scatter\"},{\"hovertemplate\":\"championName=Camille<br>totalDamageDealtToChampions=%{x}<br>totalDamageTaken=%{y}<extra></extra>\",\"legendgroup\":\"Camille\",\"marker\":{\"color\":\"#FECB52\",\"symbol\":\"circle\"},\"mode\":\"markers\",\"name\":\"Camille\",\"orientation\":\"v\",\"showlegend\":true,\"x\":[22456.0],\"xaxis\":\"x\",\"y\":[29823.0],\"yaxis\":\"y\",\"type\":\"scatter\"},{\"hovertemplate\":\"championName=Cassiopeia<br>totalDamageDealtToChampions=%{x}<br>totalDamageTaken=%{y}<extra></extra>\",\"legendgroup\":\"Cassiopeia\",\"marker\":{\"color\":\"#636efa\",\"symbol\":\"circle\"},\"mode\":\"markers\",\"name\":\"Cassiopeia\",\"orientation\":\"v\",\"showlegend\":true,\"x\":[24443.0],\"xaxis\":\"x\",\"y\":[28279.0],\"yaxis\":\"y\",\"type\":\"scatter\"},{\"hovertemplate\":\"championName=Chogath<br>totalDamageDealtToChampions=%{x}<br>totalDamageTaken=%{y}<extra></extra>\",\"legendgroup\":\"Chogath\",\"marker\":{\"color\":\"#EF553B\",\"symbol\":\"circle\"},\"mode\":\"markers\",\"name\":\"Chogath\",\"orientation\":\"v\",\"showlegend\":true,\"x\":[24849.0],\"xaxis\":\"x\",\"y\":[47495.0],\"yaxis\":\"y\",\"type\":\"scatter\"},{\"hovertemplate\":\"championName=Corki<br>totalDamageDealtToChampions=%{x}<br>totalDamageTaken=%{y}<extra></extra>\",\"legendgroup\":\"Corki\",\"marker\":{\"color\":\"#00cc96\",\"symbol\":\"circle\"},\"mode\":\"markers\",\"name\":\"Corki\",\"orientation\":\"v\",\"showlegend\":true,\"x\":[29190.0],\"xaxis\":\"x\",\"y\":[22076.0],\"yaxis\":\"y\",\"type\":\"scatter\"},{\"hovertemplate\":\"championName=Darius<br>totalDamageDealtToChampions=%{x}<br>totalDamageTaken=%{y}<extra></extra>\",\"legendgroup\":\"Darius\",\"marker\":{\"color\":\"#ab63fa\",\"symbol\":\"circle\"},\"mode\":\"markers\",\"name\":\"Darius\",\"orientation\":\"v\",\"showlegend\":true,\"x\":[19130.0],\"xaxis\":\"x\",\"y\":[28669.0],\"yaxis\":\"y\",\"type\":\"scatter\"},{\"hovertemplate\":\"championName=Diana<br>totalDamageDealtToChampions=%{x}<br>totalDamageTaken=%{y}<extra></extra>\",\"legendgroup\":\"Diana\",\"marker\":{\"color\":\"#FFA15A\",\"symbol\":\"circle\"},\"mode\":\"markers\",\"name\":\"Diana\",\"orientation\":\"v\",\"showlegend\":true,\"x\":[22946.0],\"xaxis\":\"x\",\"y\":[25128.0],\"yaxis\":\"y\",\"type\":\"scatter\"},{\"hovertemplate\":\"championName=DrMundo<br>totalDamageDealtToChampions=%{x}<br>totalDamageTaken=%{y}<extra></extra>\",\"legendgroup\":\"DrMundo\",\"marker\":{\"color\":\"#19d3f3\",\"symbol\":\"circle\"},\"mode\":\"markers\",\"name\":\"DrMundo\",\"orientation\":\"v\",\"showlegend\":true,\"x\":[27720.0],\"xaxis\":\"x\",\"y\":[52274.0],\"yaxis\":\"y\",\"type\":\"scatter\"},{\"hovertemplate\":\"championName=Draven<br>totalDamageDealtToChampions=%{x}<br>totalDamageTaken=%{y}<extra></extra>\",\"legendgroup\":\"Draven\",\"marker\":{\"color\":\"#FF6692\",\"symbol\":\"circle\"},\"mode\":\"markers\",\"name\":\"Draven\",\"orientation\":\"v\",\"showlegend\":true,\"x\":[23636.0],\"xaxis\":\"x\",\"y\":[22863.0],\"yaxis\":\"y\",\"type\":\"scatter\"},{\"hovertemplate\":\"championName=Ekko<br>totalDamageDealtToChampions=%{x}<br>totalDamageTaken=%{y}<extra></extra>\",\"legendgroup\":\"Ekko\",\"marker\":{\"color\":\"#B6E880\",\"symbol\":\"circle\"},\"mode\":\"markers\",\"name\":\"Ekko\",\"orientation\":\"v\",\"showlegend\":true,\"x\":[22912.0],\"xaxis\":\"x\",\"y\":[31145.0],\"yaxis\":\"y\",\"type\":\"scatter\"},{\"hovertemplate\":\"championName=Elise<br>totalDamageDealtToChampions=%{x}<br>totalDamageTaken=%{y}<extra></extra>\",\"legendgroup\":\"Elise\",\"marker\":{\"color\":\"#FF97FF\",\"symbol\":\"circle\"},\"mode\":\"markers\",\"name\":\"Elise\",\"orientation\":\"v\",\"showlegend\":true,\"x\":[19938.0],\"xaxis\":\"x\",\"y\":[28125.0],\"yaxis\":\"y\",\"type\":\"scatter\"},{\"hovertemplate\":\"championName=Evelynn<br>totalDamageDealtToChampions=%{x}<br>totalDamageTaken=%{y}<extra></extra>\",\"legendgroup\":\"Evelynn\",\"marker\":{\"color\":\"#FECB52\",\"symbol\":\"circle\"},\"mode\":\"markers\",\"name\":\"Evelynn\",\"orientation\":\"v\",\"showlegend\":true,\"x\":[22224.0],\"xaxis\":\"x\",\"y\":[27959.0],\"yaxis\":\"y\",\"type\":\"scatter\"},{\"hovertemplate\":\"championName=Ezreal<br>totalDamageDealtToChampions=%{x}<br>totalDamageTaken=%{y}<extra></extra>\",\"legendgroup\":\"Ezreal\",\"marker\":{\"color\":\"#636efa\",\"symbol\":\"circle\"},\"mode\":\"markers\",\"name\":\"Ezreal\",\"orientation\":\"v\",\"showlegend\":true,\"x\":[24901.0],\"xaxis\":\"x\",\"y\":[20183.0],\"yaxis\":\"y\",\"type\":\"scatter\"},{\"hovertemplate\":\"championName=FiddleSticks<br>totalDamageDealtToChampions=%{x}<br>totalDamageTaken=%{y}<extra></extra>\",\"legendgroup\":\"FiddleSticks\",\"marker\":{\"color\":\"#EF553B\",\"symbol\":\"circle\"},\"mode\":\"markers\",\"name\":\"FiddleSticks\",\"orientation\":\"v\",\"showlegend\":true,\"x\":[20698.0],\"xaxis\":\"x\",\"y\":[30041.0],\"yaxis\":\"y\",\"type\":\"scatter\"},{\"hovertemplate\":\"championName=Fiora<br>totalDamageDealtToChampions=%{x}<br>totalDamageTaken=%{y}<extra></extra>\",\"legendgroup\":\"Fiora\",\"marker\":{\"color\":\"#00cc96\",\"symbol\":\"circle\"},\"mode\":\"markers\",\"name\":\"Fiora\",\"orientation\":\"v\",\"showlegend\":true,\"x\":[24701.0],\"xaxis\":\"x\",\"y\":[34066.0],\"yaxis\":\"y\",\"type\":\"scatter\"},{\"hovertemplate\":\"championName=Fizz<br>totalDamageDealtToChampions=%{x}<br>totalDamageTaken=%{y}<extra></extra>\",\"legendgroup\":\"Fizz\",\"marker\":{\"color\":\"#ab63fa\",\"symbol\":\"circle\"},\"mode\":\"markers\",\"name\":\"Fizz\",\"orientation\":\"v\",\"showlegend\":true,\"x\":[22557.0],\"xaxis\":\"x\",\"y\":[24247.0],\"yaxis\":\"y\",\"type\":\"scatter\"},{\"hovertemplate\":\"championName=Galio<br>totalDamageDealtToChampions=%{x}<br>totalDamageTaken=%{y}<extra></extra>\",\"legendgroup\":\"Galio\",\"marker\":{\"color\":\"#FFA15A\",\"symbol\":\"circle\"},\"mode\":\"markers\",\"name\":\"Galio\",\"orientation\":\"v\",\"showlegend\":true,\"x\":[18296.0],\"xaxis\":\"x\",\"y\":[26720.0],\"yaxis\":\"y\",\"type\":\"scatter\"},{\"hovertemplate\":\"championName=Gangplank<br>totalDamageDealtToChampions=%{x}<br>totalDamageTaken=%{y}<extra></extra>\",\"legendgroup\":\"Gangplank\",\"marker\":{\"color\":\"#19d3f3\",\"symbol\":\"circle\"},\"mode\":\"markers\",\"name\":\"Gangplank\",\"orientation\":\"v\",\"showlegend\":true,\"x\":[28286.0],\"xaxis\":\"x\",\"y\":[25433.0],\"yaxis\":\"y\",\"type\":\"scatter\"},{\"hovertemplate\":\"championName=Garen<br>totalDamageDealtToChampions=%{x}<br>totalDamageTaken=%{y}<extra></extra>\",\"legendgroup\":\"Garen\",\"marker\":{\"color\":\"#FF6692\",\"symbol\":\"circle\"},\"mode\":\"markers\",\"name\":\"Garen\",\"orientation\":\"v\",\"showlegend\":true,\"x\":[20497.0],\"xaxis\":\"x\",\"y\":[30445.0],\"yaxis\":\"y\",\"type\":\"scatter\"},{\"hovertemplate\":\"championName=Gnar<br>totalDamageDealtToChampions=%{x}<br>totalDamageTaken=%{y}<extra></extra>\",\"legendgroup\":\"Gnar\",\"marker\":{\"color\":\"#B6E880\",\"symbol\":\"circle\"},\"mode\":\"markers\",\"name\":\"Gnar\",\"orientation\":\"v\",\"showlegend\":true,\"x\":[22781.0],\"xaxis\":\"x\",\"y\":[28593.0],\"yaxis\":\"y\",\"type\":\"scatter\"},{\"hovertemplate\":\"championName=Gragas<br>totalDamageDealtToChampions=%{x}<br>totalDamageTaken=%{y}<extra></extra>\",\"legendgroup\":\"Gragas\",\"marker\":{\"color\":\"#FF97FF\",\"symbol\":\"circle\"},\"mode\":\"markers\",\"name\":\"Gragas\",\"orientation\":\"v\",\"showlegend\":true,\"x\":[23205.0],\"xaxis\":\"x\",\"y\":[31649.0],\"yaxis\":\"y\",\"type\":\"scatter\"},{\"hovertemplate\":\"championName=Graves<br>totalDamageDealtToChampions=%{x}<br>totalDamageTaken=%{y}<extra></extra>\",\"legendgroup\":\"Graves\",\"marker\":{\"color\":\"#FECB52\",\"symbol\":\"circle\"},\"mode\":\"markers\",\"name\":\"Graves\",\"orientation\":\"v\",\"showlegend\":true,\"x\":[21306.0],\"xaxis\":\"x\",\"y\":[26510.0],\"yaxis\":\"y\",\"type\":\"scatter\"},{\"hovertemplate\":\"championName=Gwen<br>totalDamageDealtToChampions=%{x}<br>totalDamageTaken=%{y}<extra></extra>\",\"legendgroup\":\"Gwen\",\"marker\":{\"color\":\"#636efa\",\"symbol\":\"circle\"},\"mode\":\"markers\",\"name\":\"Gwen\",\"orientation\":\"v\",\"showlegend\":true,\"x\":[26687.0],\"xaxis\":\"x\",\"y\":[31488.0],\"yaxis\":\"y\",\"type\":\"scatter\"},{\"hovertemplate\":\"championName=Hecarim<br>totalDamageDealtToChampions=%{x}<br>totalDamageTaken=%{y}<extra></extra>\",\"legendgroup\":\"Hecarim\",\"marker\":{\"color\":\"#EF553B\",\"symbol\":\"circle\"},\"mode\":\"markers\",\"name\":\"Hecarim\",\"orientation\":\"v\",\"showlegend\":true,\"x\":[17959.0],\"xaxis\":\"x\",\"y\":[38281.0],\"yaxis\":\"y\",\"type\":\"scatter\"},{\"hovertemplate\":\"championName=Heimerdinger<br>totalDamageDealtToChampions=%{x}<br>totalDamageTaken=%{y}<extra></extra>\",\"legendgroup\":\"Heimerdinger\",\"marker\":{\"color\":\"#00cc96\",\"symbol\":\"circle\"},\"mode\":\"markers\",\"name\":\"Heimerdinger\",\"orientation\":\"v\",\"showlegend\":true,\"x\":[25839.0],\"xaxis\":\"x\",\"y\":[19228.0],\"yaxis\":\"y\",\"type\":\"scatter\"},{\"hovertemplate\":\"championName=Hwei<br>totalDamageDealtToChampions=%{x}<br>totalDamageTaken=%{y}<extra></extra>\",\"legendgroup\":\"Hwei\",\"marker\":{\"color\":\"#ab63fa\",\"symbol\":\"circle\"},\"mode\":\"markers\",\"name\":\"Hwei\",\"orientation\":\"v\",\"showlegend\":true,\"x\":[22270.0],\"xaxis\":\"x\",\"y\":[17481.0],\"yaxis\":\"y\",\"type\":\"scatter\"},{\"hovertemplate\":\"championName=Illaoi<br>totalDamageDealtToChampions=%{x}<br>totalDamageTaken=%{y}<extra></extra>\",\"legendgroup\":\"Illaoi\",\"marker\":{\"color\":\"#FFA15A\",\"symbol\":\"circle\"},\"mode\":\"markers\",\"name\":\"Illaoi\",\"orientation\":\"v\",\"showlegend\":true,\"x\":[27968.0],\"xaxis\":\"x\",\"y\":[35434.0],\"yaxis\":\"y\",\"type\":\"scatter\"},{\"hovertemplate\":\"championName=Irelia<br>totalDamageDealtToChampions=%{x}<br>totalDamageTaken=%{y}<extra></extra>\",\"legendgroup\":\"Irelia\",\"marker\":{\"color\":\"#19d3f3\",\"symbol\":\"circle\"},\"mode\":\"markers\",\"name\":\"Irelia\",\"orientation\":\"v\",\"showlegend\":true,\"x\":[22677.0],\"xaxis\":\"x\",\"y\":[31063.0],\"yaxis\":\"y\",\"type\":\"scatter\"},{\"hovertemplate\":\"championName=Ivern<br>totalDamageDealtToChampions=%{x}<br>totalDamageTaken=%{y}<extra></extra>\",\"legendgroup\":\"Ivern\",\"marker\":{\"color\":\"#FF6692\",\"symbol\":\"circle\"},\"mode\":\"markers\",\"name\":\"Ivern\",\"orientation\":\"v\",\"showlegend\":true,\"x\":[9805.0],\"xaxis\":\"x\",\"y\":[16075.0],\"yaxis\":\"y\",\"type\":\"scatter\"},{\"hovertemplate\":\"championName=Janna<br>totalDamageDealtToChampions=%{x}<br>totalDamageTaken=%{y}<extra></extra>\",\"legendgroup\":\"Janna\",\"marker\":{\"color\":\"#B6E880\",\"symbol\":\"circle\"},\"mode\":\"markers\",\"name\":\"Janna\",\"orientation\":\"v\",\"showlegend\":true,\"x\":[10110.0],\"xaxis\":\"x\",\"y\":[17176.0],\"yaxis\":\"y\",\"type\":\"scatter\"},{\"hovertemplate\":\"championName=JarvanIV<br>totalDamageDealtToChampions=%{x}<br>totalDamageTaken=%{y}<extra></extra>\",\"legendgroup\":\"JarvanIV\",\"marker\":{\"color\":\"#FF97FF\",\"symbol\":\"circle\"},\"mode\":\"markers\",\"name\":\"JarvanIV\",\"orientation\":\"v\",\"showlegend\":true,\"x\":[15620.0],\"xaxis\":\"x\",\"y\":[30750.0],\"yaxis\":\"y\",\"type\":\"scatter\"},{\"hovertemplate\":\"championName=Jax<br>totalDamageDealtToChampions=%{x}<br>totalDamageTaken=%{y}<extra></extra>\",\"legendgroup\":\"Jax\",\"marker\":{\"color\":\"#FECB52\",\"symbol\":\"circle\"},\"mode\":\"markers\",\"name\":\"Jax\",\"orientation\":\"v\",\"showlegend\":true,\"x\":[20962.0],\"xaxis\":\"x\",\"y\":[28678.0],\"yaxis\":\"y\",\"type\":\"scatter\"},{\"hovertemplate\":\"championName=Jayce<br>totalDamageDealtToChampions=%{x}<br>totalDamageTaken=%{y}<extra></extra>\",\"legendgroup\":\"Jayce\",\"marker\":{\"color\":\"#636efa\",\"symbol\":\"circle\"},\"mode\":\"markers\",\"name\":\"Jayce\",\"orientation\":\"v\",\"showlegend\":true,\"x\":[26425.0],\"xaxis\":\"x\",\"y\":[20814.0],\"yaxis\":\"y\",\"type\":\"scatter\"},{\"hovertemplate\":\"championName=Jhin<br>totalDamageDealtToChampions=%{x}<br>totalDamageTaken=%{y}<extra></extra>\",\"legendgroup\":\"Jhin\",\"marker\":{\"color\":\"#EF553B\",\"symbol\":\"circle\"},\"mode\":\"markers\",\"name\":\"Jhin\",\"orientation\":\"v\",\"showlegend\":true,\"x\":[21879.0],\"xaxis\":\"x\",\"y\":[18240.0],\"yaxis\":\"y\",\"type\":\"scatter\"},{\"hovertemplate\":\"championName=Jinx<br>totalDamageDealtToChampions=%{x}<br>totalDamageTaken=%{y}<extra></extra>\",\"legendgroup\":\"Jinx\",\"marker\":{\"color\":\"#00cc96\",\"symbol\":\"circle\"},\"mode\":\"markers\",\"name\":\"Jinx\",\"orientation\":\"v\",\"showlegend\":true,\"x\":[23530.0],\"xaxis\":\"x\",\"y\":[19261.0],\"yaxis\":\"y\",\"type\":\"scatter\"},{\"hovertemplate\":\"championName=KSante<br>totalDamageDealtToChampions=%{x}<br>totalDamageTaken=%{y}<extra></extra>\",\"legendgroup\":\"KSante\",\"marker\":{\"color\":\"#ab63fa\",\"symbol\":\"circle\"},\"mode\":\"markers\",\"name\":\"KSante\",\"orientation\":\"v\",\"showlegend\":true,\"x\":[20461.0],\"xaxis\":\"x\",\"y\":[30433.0],\"yaxis\":\"y\",\"type\":\"scatter\"},{\"hovertemplate\":\"championName=Kaisa<br>totalDamageDealtToChampions=%{x}<br>totalDamageTaken=%{y}<extra></extra>\",\"legendgroup\":\"Kaisa\",\"marker\":{\"color\":\"#FFA15A\",\"symbol\":\"circle\"},\"mode\":\"markers\",\"name\":\"Kaisa\",\"orientation\":\"v\",\"showlegend\":true,\"x\":[22993.0],\"xaxis\":\"x\",\"y\":[18482.0],\"yaxis\":\"y\",\"type\":\"scatter\"},{\"hovertemplate\":\"championName=Kalista<br>totalDamageDealtToChampions=%{x}<br>totalDamageTaken=%{y}<extra></extra>\",\"legendgroup\":\"Kalista\",\"marker\":{\"color\":\"#19d3f3\",\"symbol\":\"circle\"},\"mode\":\"markers\",\"name\":\"Kalista\",\"orientation\":\"v\",\"showlegend\":true,\"x\":[21304.0],\"xaxis\":\"x\",\"y\":[22025.0],\"yaxis\":\"y\",\"type\":\"scatter\"},{\"hovertemplate\":\"championName=Karma<br>totalDamageDealtToChampions=%{x}<br>totalDamageTaken=%{y}<extra></extra>\",\"legendgroup\":\"Karma\",\"marker\":{\"color\":\"#FF6692\",\"symbol\":\"circle\"},\"mode\":\"markers\",\"name\":\"Karma\",\"orientation\":\"v\",\"showlegend\":true,\"x\":[14314.0],\"xaxis\":\"x\",\"y\":[19738.0],\"yaxis\":\"y\",\"type\":\"scatter\"},{\"hovertemplate\":\"championName=Karthus<br>totalDamageDealtToChampions=%{x}<br>totalDamageTaken=%{y}<extra></extra>\",\"legendgroup\":\"Karthus\",\"marker\":{\"color\":\"#B6E880\",\"symbol\":\"circle\"},\"mode\":\"markers\",\"name\":\"Karthus\",\"orientation\":\"v\",\"showlegend\":true,\"x\":[33759.0],\"xaxis\":\"x\",\"y\":[30673.0],\"yaxis\":\"y\",\"type\":\"scatter\"},{\"hovertemplate\":\"championName=Kassadin<br>totalDamageDealtToChampions=%{x}<br>totalDamageTaken=%{y}<extra></extra>\",\"legendgroup\":\"Kassadin\",\"marker\":{\"color\":\"#FF97FF\",\"symbol\":\"circle\"},\"mode\":\"markers\",\"name\":\"Kassadin\",\"orientation\":\"v\",\"showlegend\":true,\"x\":[24094.0],\"xaxis\":\"x\",\"y\":[31908.0],\"yaxis\":\"y\",\"type\":\"scatter\"},{\"hovertemplate\":\"championName=Katarina<br>totalDamageDealtToChampions=%{x}<br>totalDamageTaken=%{y}<extra></extra>\",\"legendgroup\":\"Katarina\",\"marker\":{\"color\":\"#FECB52\",\"symbol\":\"circle\"},\"mode\":\"markers\",\"name\":\"Katarina\",\"orientation\":\"v\",\"showlegend\":true,\"x\":[26101.0],\"xaxis\":\"x\",\"y\":[27126.0],\"yaxis\":\"y\",\"type\":\"scatter\"},{\"hovertemplate\":\"championName=Kayle<br>totalDamageDealtToChampions=%{x}<br>totalDamageTaken=%{y}<extra></extra>\",\"legendgroup\":\"Kayle\",\"marker\":{\"color\":\"#636efa\",\"symbol\":\"circle\"},\"mode\":\"markers\",\"name\":\"Kayle\",\"orientation\":\"v\",\"showlegend\":true,\"x\":[24571.0],\"xaxis\":\"x\",\"y\":[25013.0],\"yaxis\":\"y\",\"type\":\"scatter\"},{\"hovertemplate\":\"championName=Kayn<br>totalDamageDealtToChampions=%{x}<br>totalDamageTaken=%{y}<extra></extra>\",\"legendgroup\":\"Kayn\",\"marker\":{\"color\":\"#EF553B\",\"symbol\":\"circle\"},\"mode\":\"markers\",\"name\":\"Kayn\",\"orientation\":\"v\",\"showlegend\":true,\"x\":[23047.0],\"xaxis\":\"x\",\"y\":[34907.0],\"yaxis\":\"y\",\"type\":\"scatter\"},{\"hovertemplate\":\"championName=Kennen<br>totalDamageDealtToChampions=%{x}<br>totalDamageTaken=%{y}<extra></extra>\",\"legendgroup\":\"Kennen\",\"marker\":{\"color\":\"#00cc96\",\"symbol\":\"circle\"},\"mode\":\"markers\",\"name\":\"Kennen\",\"orientation\":\"v\",\"showlegend\":true,\"x\":[26092.0],\"xaxis\":\"x\",\"y\":[23395.0],\"yaxis\":\"y\",\"type\":\"scatter\"},{\"hovertemplate\":\"championName=Khazix<br>totalDamageDealtToChampions=%{x}<br>totalDamageTaken=%{y}<extra></extra>\",\"legendgroup\":\"Khazix\",\"marker\":{\"color\":\"#ab63fa\",\"symbol\":\"circle\"},\"mode\":\"markers\",\"name\":\"Khazix\",\"orientation\":\"v\",\"showlegend\":true,\"x\":[23168.0],\"xaxis\":\"x\",\"y\":[29232.0],\"yaxis\":\"y\",\"type\":\"scatter\"},{\"hovertemplate\":\"championName=Kindred<br>totalDamageDealtToChampions=%{x}<br>totalDamageTaken=%{y}<extra></extra>\",\"legendgroup\":\"Kindred\",\"marker\":{\"color\":\"#FFA15A\",\"symbol\":\"circle\"},\"mode\":\"markers\",\"name\":\"Kindred\",\"orientation\":\"v\",\"showlegend\":true,\"x\":[22541.0],\"xaxis\":\"x\",\"y\":[28235.0],\"yaxis\":\"y\",\"type\":\"scatter\"},{\"hovertemplate\":\"championName=Kled<br>totalDamageDealtToChampions=%{x}<br>totalDamageTaken=%{y}<extra></extra>\",\"legendgroup\":\"Kled\",\"marker\":{\"color\":\"#19d3f3\",\"symbol\":\"circle\"},\"mode\":\"markers\",\"name\":\"Kled\",\"orientation\":\"v\",\"showlegend\":true,\"x\":[20427.0],\"xaxis\":\"x\",\"y\":[35438.0],\"yaxis\":\"y\",\"type\":\"scatter\"},{\"hovertemplate\":\"championName=KogMaw<br>totalDamageDealtToChampions=%{x}<br>totalDamageTaken=%{y}<extra></extra>\",\"legendgroup\":\"KogMaw\",\"marker\":{\"color\":\"#FF6692\",\"symbol\":\"circle\"},\"mode\":\"markers\",\"name\":\"KogMaw\",\"orientation\":\"v\",\"showlegend\":true,\"x\":[33122.0],\"xaxis\":\"x\",\"y\":[23799.0],\"yaxis\":\"y\",\"type\":\"scatter\"},{\"hovertemplate\":\"championName=Leblanc<br>totalDamageDealtToChampions=%{x}<br>totalDamageTaken=%{y}<extra></extra>\",\"legendgroup\":\"Leblanc\",\"marker\":{\"color\":\"#B6E880\",\"symbol\":\"circle\"},\"mode\":\"markers\",\"name\":\"Leblanc\",\"orientation\":\"v\",\"showlegend\":true,\"x\":[24103.0],\"xaxis\":\"x\",\"y\":[22760.0],\"yaxis\":\"y\",\"type\":\"scatter\"},{\"hovertemplate\":\"championName=LeeSin<br>totalDamageDealtToChampions=%{x}<br>totalDamageTaken=%{y}<extra></extra>\",\"legendgroup\":\"LeeSin\",\"marker\":{\"color\":\"#FF97FF\",\"symbol\":\"circle\"},\"mode\":\"markers\",\"name\":\"LeeSin\",\"orientation\":\"v\",\"showlegend\":true,\"x\":[16703.0],\"xaxis\":\"x\",\"y\":[32139.0],\"yaxis\":\"y\",\"type\":\"scatter\"},{\"hovertemplate\":\"championName=Leona<br>totalDamageDealtToChampions=%{x}<br>totalDamageTaken=%{y}<extra></extra>\",\"legendgroup\":\"Leona\",\"marker\":{\"color\":\"#FECB52\",\"symbol\":\"circle\"},\"mode\":\"markers\",\"name\":\"Leona\",\"orientation\":\"v\",\"showlegend\":true,\"x\":[12377.0],\"xaxis\":\"x\",\"y\":[26184.0],\"yaxis\":\"y\",\"type\":\"scatter\"},{\"hovertemplate\":\"championName=Lillia<br>totalDamageDealtToChampions=%{x}<br>totalDamageTaken=%{y}<extra></extra>\",\"legendgroup\":\"Lillia\",\"marker\":{\"color\":\"#636efa\",\"symbol\":\"circle\"},\"mode\":\"markers\",\"name\":\"Lillia\",\"orientation\":\"v\",\"showlegend\":true,\"x\":[26549.0],\"xaxis\":\"x\",\"y\":[31742.0],\"yaxis\":\"y\",\"type\":\"scatter\"},{\"hovertemplate\":\"championName=Lissandra<br>totalDamageDealtToChampions=%{x}<br>totalDamageTaken=%{y}<extra></extra>\",\"legendgroup\":\"Lissandra\",\"marker\":{\"color\":\"#EF553B\",\"symbol\":\"circle\"},\"mode\":\"markers\",\"name\":\"Lissandra\",\"orientation\":\"v\",\"showlegend\":true,\"x\":[21423.0],\"xaxis\":\"x\",\"y\":[23089.0],\"yaxis\":\"y\",\"type\":\"scatter\"},{\"hovertemplate\":\"championName=Lucian<br>totalDamageDealtToChampions=%{x}<br>totalDamageTaken=%{y}<extra></extra>\",\"legendgroup\":\"Lucian\",\"marker\":{\"color\":\"#00cc96\",\"symbol\":\"circle\"},\"mode\":\"markers\",\"name\":\"Lucian\",\"orientation\":\"v\",\"showlegend\":true,\"x\":[23955.0],\"xaxis\":\"x\",\"y\":[20288.0],\"yaxis\":\"y\",\"type\":\"scatter\"},{\"hovertemplate\":\"championName=Lulu<br>totalDamageDealtToChampions=%{x}<br>totalDamageTaken=%{y}<extra></extra>\",\"legendgroup\":\"Lulu\",\"marker\":{\"color\":\"#ab63fa\",\"symbol\":\"circle\"},\"mode\":\"markers\",\"name\":\"Lulu\",\"orientation\":\"v\",\"showlegend\":true,\"x\":[7109.0],\"xaxis\":\"x\",\"y\":[15333.0],\"yaxis\":\"y\",\"type\":\"scatter\"},{\"hovertemplate\":\"championName=Lux<br>totalDamageDealtToChampions=%{x}<br>totalDamageTaken=%{y}<extra></extra>\",\"legendgroup\":\"Lux\",\"marker\":{\"color\":\"#FFA15A\",\"symbol\":\"circle\"},\"mode\":\"markers\",\"name\":\"Lux\",\"orientation\":\"v\",\"showlegend\":true,\"x\":[19420.0],\"xaxis\":\"x\",\"y\":[15501.0],\"yaxis\":\"y\",\"type\":\"scatter\"},{\"hovertemplate\":\"championName=Malphite<br>totalDamageDealtToChampions=%{x}<br>totalDamageTaken=%{y}<extra></extra>\",\"legendgroup\":\"Malphite\",\"marker\":{\"color\":\"#19d3f3\",\"symbol\":\"circle\"},\"mode\":\"markers\",\"name\":\"Malphite\",\"orientation\":\"v\",\"showlegend\":true,\"x\":[21086.0],\"xaxis\":\"x\",\"y\":[24463.0],\"yaxis\":\"y\",\"type\":\"scatter\"},{\"hovertemplate\":\"championName=Malzahar<br>totalDamageDealtToChampions=%{x}<br>totalDamageTaken=%{y}<extra></extra>\",\"legendgroup\":\"Malzahar\",\"marker\":{\"color\":\"#FF6692\",\"symbol\":\"circle\"},\"mode\":\"markers\",\"name\":\"Malzahar\",\"orientation\":\"v\",\"showlegend\":true,\"x\":[22033.0],\"xaxis\":\"x\",\"y\":[18008.0],\"yaxis\":\"y\",\"type\":\"scatter\"},{\"hovertemplate\":\"championName=Maokai<br>totalDamageDealtToChampions=%{x}<br>totalDamageTaken=%{y}<extra></extra>\",\"legendgroup\":\"Maokai\",\"marker\":{\"color\":\"#B6E880\",\"symbol\":\"circle\"},\"mode\":\"markers\",\"name\":\"Maokai\",\"orientation\":\"v\",\"showlegend\":true,\"x\":[17552.0],\"xaxis\":\"x\",\"y\":[34574.0],\"yaxis\":\"y\",\"type\":\"scatter\"},{\"hovertemplate\":\"championName=MasterYi<br>totalDamageDealtToChampions=%{x}<br>totalDamageTaken=%{y}<extra></extra>\",\"legendgroup\":\"MasterYi\",\"marker\":{\"color\":\"#FF97FF\",\"symbol\":\"circle\"},\"mode\":\"markers\",\"name\":\"MasterYi\",\"orientation\":\"v\",\"showlegend\":true,\"x\":[23999.0],\"xaxis\":\"x\",\"y\":[28393.0],\"yaxis\":\"y\",\"type\":\"scatter\"},{\"hovertemplate\":\"championName=Milio<br>totalDamageDealtToChampions=%{x}<br>totalDamageTaken=%{y}<extra></extra>\",\"legendgroup\":\"Milio\",\"marker\":{\"color\":\"#FECB52\",\"symbol\":\"circle\"},\"mode\":\"markers\",\"name\":\"Milio\",\"orientation\":\"v\",\"showlegend\":true,\"x\":[5647.0],\"xaxis\":\"x\",\"y\":[15216.0],\"yaxis\":\"y\",\"type\":\"scatter\"},{\"hovertemplate\":\"championName=MissFortune<br>totalDamageDealtToChampions=%{x}<br>totalDamageTaken=%{y}<extra></extra>\",\"legendgroup\":\"MissFortune\",\"marker\":{\"color\":\"#636efa\",\"symbol\":\"circle\"},\"mode\":\"markers\",\"name\":\"MissFortune\",\"orientation\":\"v\",\"showlegend\":true,\"x\":[25481.0],\"xaxis\":\"x\",\"y\":[20517.0],\"yaxis\":\"y\",\"type\":\"scatter\"},{\"hovertemplate\":\"championName=MonkeyKing<br>totalDamageDealtToChampions=%{x}<br>totalDamageTaken=%{y}<extra></extra>\",\"legendgroup\":\"MonkeyKing\",\"marker\":{\"color\":\"#EF553B\",\"symbol\":\"circle\"},\"mode\":\"markers\",\"name\":\"MonkeyKing\",\"orientation\":\"v\",\"showlegend\":true,\"x\":[21920.0],\"xaxis\":\"x\",\"y\":[31668.0],\"yaxis\":\"y\",\"type\":\"scatter\"},{\"hovertemplate\":\"championName=Mordekaiser<br>totalDamageDealtToChampions=%{x}<br>totalDamageTaken=%{y}<extra></extra>\",\"legendgroup\":\"Mordekaiser\",\"marker\":{\"color\":\"#00cc96\",\"symbol\":\"circle\"},\"mode\":\"markers\",\"name\":\"Mordekaiser\",\"orientation\":\"v\",\"showlegend\":true,\"x\":[25428.0],\"xaxis\":\"x\",\"y\":[33912.0],\"yaxis\":\"y\",\"type\":\"scatter\"},{\"hovertemplate\":\"championName=Morgana<br>totalDamageDealtToChampions=%{x}<br>totalDamageTaken=%{y}<extra></extra>\",\"legendgroup\":\"Morgana\",\"marker\":{\"color\":\"#ab63fa\",\"symbol\":\"circle\"},\"mode\":\"markers\",\"name\":\"Morgana\",\"orientation\":\"v\",\"showlegend\":true,\"x\":[18995.0],\"xaxis\":\"x\",\"y\":[21861.0],\"yaxis\":\"y\",\"type\":\"scatter\"},{\"hovertemplate\":\"championName=Naafiri<br>totalDamageDealtToChampions=%{x}<br>totalDamageTaken=%{y}<extra></extra>\",\"legendgroup\":\"Naafiri\",\"marker\":{\"color\":\"#FFA15A\",\"symbol\":\"circle\"},\"mode\":\"markers\",\"name\":\"Naafiri\",\"orientation\":\"v\",\"showlegend\":true,\"x\":[24322.0],\"xaxis\":\"x\",\"y\":[23875.0],\"yaxis\":\"y\",\"type\":\"scatter\"},{\"hovertemplate\":\"championName=Nami<br>totalDamageDealtToChampions=%{x}<br>totalDamageTaken=%{y}<extra></extra>\",\"legendgroup\":\"Nami\",\"marker\":{\"color\":\"#19d3f3\",\"symbol\":\"circle\"},\"mode\":\"markers\",\"name\":\"Nami\",\"orientation\":\"v\",\"showlegend\":true,\"x\":[9904.0],\"xaxis\":\"x\",\"y\":[15659.0],\"yaxis\":\"y\",\"type\":\"scatter\"},{\"hovertemplate\":\"championName=Nasus<br>totalDamageDealtToChampions=%{x}<br>totalDamageTaken=%{y}<extra></extra>\",\"legendgroup\":\"Nasus\",\"marker\":{\"color\":\"#FF6692\",\"symbol\":\"circle\"},\"mode\":\"markers\",\"name\":\"Nasus\",\"orientation\":\"v\",\"showlegend\":true,\"x\":[20421.0],\"xaxis\":\"x\",\"y\":[34892.0],\"yaxis\":\"y\",\"type\":\"scatter\"},{\"hovertemplate\":\"championName=Nautilus<br>totalDamageDealtToChampions=%{x}<br>totalDamageTaken=%{y}<extra></extra>\",\"legendgroup\":\"Nautilus\",\"marker\":{\"color\":\"#B6E880\",\"symbol\":\"circle\"},\"mode\":\"markers\",\"name\":\"Nautilus\",\"orientation\":\"v\",\"showlegend\":true,\"x\":[8558.0],\"xaxis\":\"x\",\"y\":[21121.0],\"yaxis\":\"y\",\"type\":\"scatter\"},{\"hovertemplate\":\"championName=Neeko<br>totalDamageDealtToChampions=%{x}<br>totalDamageTaken=%{y}<extra></extra>\",\"legendgroup\":\"Neeko\",\"marker\":{\"color\":\"#FF97FF\",\"symbol\":\"circle\"},\"mode\":\"markers\",\"name\":\"Neeko\",\"orientation\":\"v\",\"showlegend\":true,\"x\":[20505.0],\"xaxis\":\"x\",\"y\":[19745.0],\"yaxis\":\"y\",\"type\":\"scatter\"},{\"hovertemplate\":\"championName=Nidalee<br>totalDamageDealtToChampions=%{x}<br>totalDamageTaken=%{y}<extra></extra>\",\"legendgroup\":\"Nidalee\",\"marker\":{\"color\":\"#FECB52\",\"symbol\":\"circle\"},\"mode\":\"markers\",\"name\":\"Nidalee\",\"orientation\":\"v\",\"showlegend\":true,\"x\":[22053.0],\"xaxis\":\"x\",\"y\":[30213.0],\"yaxis\":\"y\",\"type\":\"scatter\"},{\"hovertemplate\":\"championName=Nilah<br>totalDamageDealtToChampions=%{x}<br>totalDamageTaken=%{y}<extra></extra>\",\"legendgroup\":\"Nilah\",\"marker\":{\"color\":\"#636efa\",\"symbol\":\"circle\"},\"mode\":\"markers\",\"name\":\"Nilah\",\"orientation\":\"v\",\"showlegend\":true,\"x\":[22373.0],\"xaxis\":\"x\",\"y\":[26655.0],\"yaxis\":\"y\",\"type\":\"scatter\"},{\"hovertemplate\":\"championName=Nocturne<br>totalDamageDealtToChampions=%{x}<br>totalDamageTaken=%{y}<extra></extra>\",\"legendgroup\":\"Nocturne\",\"marker\":{\"color\":\"#EF553B\",\"symbol\":\"circle\"},\"mode\":\"markers\",\"name\":\"Nocturne\",\"orientation\":\"v\",\"showlegend\":true,\"x\":[16319.0],\"xaxis\":\"x\",\"y\":[31387.0],\"yaxis\":\"y\",\"type\":\"scatter\"},{\"hovertemplate\":\"championName=Nunu<br>totalDamageDealtToChampions=%{x}<br>totalDamageTaken=%{y}<extra></extra>\",\"legendgroup\":\"Nunu\",\"marker\":{\"color\":\"#00cc96\",\"symbol\":\"circle\"},\"mode\":\"markers\",\"name\":\"Nunu\",\"orientation\":\"v\",\"showlegend\":true,\"x\":[18954.0],\"xaxis\":\"x\",\"y\":[35817.0],\"yaxis\":\"y\",\"type\":\"scatter\"},{\"hovertemplate\":\"championName=Olaf<br>totalDamageDealtToChampions=%{x}<br>totalDamageTaken=%{y}<extra></extra>\",\"legendgroup\":\"Olaf\",\"marker\":{\"color\":\"#ab63fa\",\"symbol\":\"circle\"},\"mode\":\"markers\",\"name\":\"Olaf\",\"orientation\":\"v\",\"showlegend\":true,\"x\":[24432.0],\"xaxis\":\"x\",\"y\":[29079.0],\"yaxis\":\"y\",\"type\":\"scatter\"},{\"hovertemplate\":\"championName=Orianna<br>totalDamageDealtToChampions=%{x}<br>totalDamageTaken=%{y}<extra></extra>\",\"legendgroup\":\"Orianna\",\"marker\":{\"color\":\"#FFA15A\",\"symbol\":\"circle\"},\"mode\":\"markers\",\"name\":\"Orianna\",\"orientation\":\"v\",\"showlegend\":true,\"x\":[22025.0],\"xaxis\":\"x\",\"y\":[18201.0],\"yaxis\":\"y\",\"type\":\"scatter\"},{\"hovertemplate\":\"championName=Ornn<br>totalDamageDealtToChampions=%{x}<br>totalDamageTaken=%{y}<extra></extra>\",\"legendgroup\":\"Ornn\",\"marker\":{\"color\":\"#19d3f3\",\"symbol\":\"circle\"},\"mode\":\"markers\",\"name\":\"Ornn\",\"orientation\":\"v\",\"showlegend\":true,\"x\":[18845.0],\"xaxis\":\"x\",\"y\":[33498.0],\"yaxis\":\"y\",\"type\":\"scatter\"},{\"hovertemplate\":\"championName=Pantheon<br>totalDamageDealtToChampions=%{x}<br>totalDamageTaken=%{y}<extra></extra>\",\"legendgroup\":\"Pantheon\",\"marker\":{\"color\":\"#FF6692\",\"symbol\":\"circle\"},\"mode\":\"markers\",\"name\":\"Pantheon\",\"orientation\":\"v\",\"showlegend\":true,\"x\":[23073.0],\"xaxis\":\"x\",\"y\":[24952.0],\"yaxis\":\"y\",\"type\":\"scatter\"},{\"hovertemplate\":\"championName=Poppy<br>totalDamageDealtToChampions=%{x}<br>totalDamageTaken=%{y}<extra></extra>\",\"legendgroup\":\"Poppy\",\"marker\":{\"color\":\"#B6E880\",\"symbol\":\"circle\"},\"mode\":\"markers\",\"name\":\"Poppy\",\"orientation\":\"v\",\"showlegend\":true,\"x\":[19747.0],\"xaxis\":\"x\",\"y\":[30645.0],\"yaxis\":\"y\",\"type\":\"scatter\"},{\"hovertemplate\":\"championName=Pyke<br>totalDamageDealtToChampions=%{x}<br>totalDamageTaken=%{y}<extra></extra>\",\"legendgroup\":\"Pyke\",\"marker\":{\"color\":\"#FF97FF\",\"symbol\":\"circle\"},\"mode\":\"markers\",\"name\":\"Pyke\",\"orientation\":\"v\",\"showlegend\":true,\"x\":[13244.0],\"xaxis\":\"x\",\"y\":[23086.0],\"yaxis\":\"y\",\"type\":\"scatter\"},{\"hovertemplate\":\"championName=Qiyana<br>totalDamageDealtToChampions=%{x}<br>totalDamageTaken=%{y}<extra></extra>\",\"legendgroup\":\"Qiyana\",\"marker\":{\"color\":\"#FECB52\",\"symbol\":\"circle\"},\"mode\":\"markers\",\"name\":\"Qiyana\",\"orientation\":\"v\",\"showlegend\":true,\"x\":[25197.0],\"xaxis\":\"x\",\"y\":[24486.0],\"yaxis\":\"y\",\"type\":\"scatter\"},{\"hovertemplate\":\"championName=Quinn<br>totalDamageDealtToChampions=%{x}<br>totalDamageTaken=%{y}<extra></extra>\",\"legendgroup\":\"Quinn\",\"marker\":{\"color\":\"#636efa\",\"symbol\":\"circle\"},\"mode\":\"markers\",\"name\":\"Quinn\",\"orientation\":\"v\",\"showlegend\":true,\"x\":[26565.0],\"xaxis\":\"x\",\"y\":[23394.0],\"yaxis\":\"y\",\"type\":\"scatter\"},{\"hovertemplate\":\"championName=Rakan<br>totalDamageDealtToChampions=%{x}<br>totalDamageTaken=%{y}<extra></extra>\",\"legendgroup\":\"Rakan\",\"marker\":{\"color\":\"#EF553B\",\"symbol\":\"circle\"},\"mode\":\"markers\",\"name\":\"Rakan\",\"orientation\":\"v\",\"showlegend\":true,\"x\":[6531.0],\"xaxis\":\"x\",\"y\":[19538.0],\"yaxis\":\"y\",\"type\":\"scatter\"},{\"hovertemplate\":\"championName=Rammus<br>totalDamageDealtToChampions=%{x}<br>totalDamageTaken=%{y}<extra></extra>\",\"legendgroup\":\"Rammus\",\"marker\":{\"color\":\"#00cc96\",\"symbol\":\"circle\"},\"mode\":\"markers\",\"name\":\"Rammus\",\"orientation\":\"v\",\"showlegend\":true,\"x\":[15332.0],\"xaxis\":\"x\",\"y\":[29931.0],\"yaxis\":\"y\",\"type\":\"scatter\"},{\"hovertemplate\":\"championName=RekSai<br>totalDamageDealtToChampions=%{x}<br>totalDamageTaken=%{y}<extra></extra>\",\"legendgroup\":\"RekSai\",\"marker\":{\"color\":\"#ab63fa\",\"symbol\":\"circle\"},\"mode\":\"markers\",\"name\":\"RekSai\",\"orientation\":\"v\",\"showlegend\":true,\"x\":[17658.0],\"xaxis\":\"x\",\"y\":[30637.0],\"yaxis\":\"y\",\"type\":\"scatter\"},{\"hovertemplate\":\"championName=Rell<br>totalDamageDealtToChampions=%{x}<br>totalDamageTaken=%{y}<extra></extra>\",\"legendgroup\":\"Rell\",\"marker\":{\"color\":\"#FFA15A\",\"symbol\":\"circle\"},\"mode\":\"markers\",\"name\":\"Rell\",\"orientation\":\"v\",\"showlegend\":true,\"x\":[7909.0],\"xaxis\":\"x\",\"y\":[22726.0],\"yaxis\":\"y\",\"type\":\"scatter\"},{\"hovertemplate\":\"championName=Renata<br>totalDamageDealtToChampions=%{x}<br>totalDamageTaken=%{y}<extra></extra>\",\"legendgroup\":\"Renata\",\"marker\":{\"color\":\"#19d3f3\",\"symbol\":\"circle\"},\"mode\":\"markers\",\"name\":\"Renata\",\"orientation\":\"v\",\"showlegend\":true,\"x\":[9302.0],\"xaxis\":\"x\",\"y\":[19443.0],\"yaxis\":\"y\",\"type\":\"scatter\"},{\"hovertemplate\":\"championName=Renekton<br>totalDamageDealtToChampions=%{x}<br>totalDamageTaken=%{y}<extra></extra>\",\"legendgroup\":\"Renekton\",\"marker\":{\"color\":\"#FF6692\",\"symbol\":\"circle\"},\"mode\":\"markers\",\"name\":\"Renekton\",\"orientation\":\"v\",\"showlegend\":true,\"x\":[20114.0],\"xaxis\":\"x\",\"y\":[37496.0],\"yaxis\":\"y\",\"type\":\"scatter\"},{\"hovertemplate\":\"championName=Rengar<br>totalDamageDealtToChampions=%{x}<br>totalDamageTaken=%{y}<extra></extra>\",\"legendgroup\":\"Rengar\",\"marker\":{\"color\":\"#B6E880\",\"symbol\":\"circle\"},\"mode\":\"markers\",\"name\":\"Rengar\",\"orientation\":\"v\",\"showlegend\":true,\"x\":[21312.0],\"xaxis\":\"x\",\"y\":[31181.0],\"yaxis\":\"y\",\"type\":\"scatter\"},{\"hovertemplate\":\"championName=Riven<br>totalDamageDealtToChampions=%{x}<br>totalDamageTaken=%{y}<extra></extra>\",\"legendgroup\":\"Riven\",\"marker\":{\"color\":\"#FF97FF\",\"symbol\":\"circle\"},\"mode\":\"markers\",\"name\":\"Riven\",\"orientation\":\"v\",\"showlegend\":true,\"x\":[21141.0],\"xaxis\":\"x\",\"y\":[26732.0],\"yaxis\":\"y\",\"type\":\"scatter\"},{\"hovertemplate\":\"championName=Rumble<br>totalDamageDealtToChampions=%{x}<br>totalDamageTaken=%{y}<extra></extra>\",\"legendgroup\":\"Rumble\",\"marker\":{\"color\":\"#FECB52\",\"symbol\":\"circle\"},\"mode\":\"markers\",\"name\":\"Rumble\",\"orientation\":\"v\",\"showlegend\":true,\"x\":[26351.0],\"xaxis\":\"x\",\"y\":[24169.0],\"yaxis\":\"y\",\"type\":\"scatter\"},{\"hovertemplate\":\"championName=Ryze<br>totalDamageDealtToChampions=%{x}<br>totalDamageTaken=%{y}<extra></extra>\",\"legendgroup\":\"Ryze\",\"marker\":{\"color\":\"#636efa\",\"symbol\":\"circle\"},\"mode\":\"markers\",\"name\":\"Ryze\",\"orientation\":\"v\",\"showlegend\":true,\"x\":[26601.0],\"xaxis\":\"x\",\"y\":[28688.0],\"yaxis\":\"y\",\"type\":\"scatter\"},{\"hovertemplate\":\"championName=Samira<br>totalDamageDealtToChampions=%{x}<br>totalDamageTaken=%{y}<extra></extra>\",\"legendgroup\":\"Samira\",\"marker\":{\"color\":\"#EF553B\",\"symbol\":\"circle\"},\"mode\":\"markers\",\"name\":\"Samira\",\"orientation\":\"v\",\"showlegend\":true,\"x\":[24357.0],\"xaxis\":\"x\",\"y\":[22958.0],\"yaxis\":\"y\",\"type\":\"scatter\"},{\"hovertemplate\":\"championName=Sejuani<br>totalDamageDealtToChampions=%{x}<br>totalDamageTaken=%{y}<extra></extra>\",\"legendgroup\":\"Sejuani\",\"marker\":{\"color\":\"#00cc96\",\"symbol\":\"circle\"},\"mode\":\"markers\",\"name\":\"Sejuani\",\"orientation\":\"v\",\"showlegend\":true,\"x\":[14603.0],\"xaxis\":\"x\",\"y\":[34360.0],\"yaxis\":\"y\",\"type\":\"scatter\"},{\"hovertemplate\":\"championName=Senna<br>totalDamageDealtToChampions=%{x}<br>totalDamageTaken=%{y}<extra></extra>\",\"legendgroup\":\"Senna\",\"marker\":{\"color\":\"#ab63fa\",\"symbol\":\"circle\"},\"mode\":\"markers\",\"name\":\"Senna\",\"orientation\":\"v\",\"showlegend\":true,\"x\":[19276.0],\"xaxis\":\"x\",\"y\":[18532.0],\"yaxis\":\"y\",\"type\":\"scatter\"},{\"hovertemplate\":\"championName=Seraphine<br>totalDamageDealtToChampions=%{x}<br>totalDamageTaken=%{y}<extra></extra>\",\"legendgroup\":\"Seraphine\",\"marker\":{\"color\":\"#FFA15A\",\"symbol\":\"circle\"},\"mode\":\"markers\",\"name\":\"Seraphine\",\"orientation\":\"v\",\"showlegend\":true,\"x\":[14673.0],\"xaxis\":\"x\",\"y\":[17479.0],\"yaxis\":\"y\",\"type\":\"scatter\"},{\"hovertemplate\":\"championName=Sett<br>totalDamageDealtToChampions=%{x}<br>totalDamageTaken=%{y}<extra></extra>\",\"legendgroup\":\"Sett\",\"marker\":{\"color\":\"#19d3f3\",\"symbol\":\"circle\"},\"mode\":\"markers\",\"name\":\"Sett\",\"orientation\":\"v\",\"showlegend\":true,\"x\":[23908.0],\"xaxis\":\"x\",\"y\":[37180.0],\"yaxis\":\"y\",\"type\":\"scatter\"},{\"hovertemplate\":\"championName=Shaco<br>totalDamageDealtToChampions=%{x}<br>totalDamageTaken=%{y}<extra></extra>\",\"legendgroup\":\"Shaco\",\"marker\":{\"color\":\"#FF6692\",\"symbol\":\"circle\"},\"mode\":\"markers\",\"name\":\"Shaco\",\"orientation\":\"v\",\"showlegend\":true,\"x\":[20436.0],\"xaxis\":\"x\",\"y\":[21925.0],\"yaxis\":\"y\",\"type\":\"scatter\"},{\"hovertemplate\":\"championName=Shen<br>totalDamageDealtToChampions=%{x}<br>totalDamageTaken=%{y}<extra></extra>\",\"legendgroup\":\"Shen\",\"marker\":{\"color\":\"#B6E880\",\"symbol\":\"circle\"},\"mode\":\"markers\",\"name\":\"Shen\",\"orientation\":\"v\",\"showlegend\":true,\"x\":[18052.0],\"xaxis\":\"x\",\"y\":[32453.0],\"yaxis\":\"y\",\"type\":\"scatter\"},{\"hovertemplate\":\"championName=Shyvana<br>totalDamageDealtToChampions=%{x}<br>totalDamageTaken=%{y}<extra></extra>\",\"legendgroup\":\"Shyvana\",\"marker\":{\"color\":\"#FF97FF\",\"symbol\":\"circle\"},\"mode\":\"markers\",\"name\":\"Shyvana\",\"orientation\":\"v\",\"showlegend\":true,\"x\":[27256.0],\"xaxis\":\"x\",\"y\":[33376.0],\"yaxis\":\"y\",\"type\":\"scatter\"},{\"hovertemplate\":\"championName=Singed<br>totalDamageDealtToChampions=%{x}<br>totalDamageTaken=%{y}<extra></extra>\",\"legendgroup\":\"Singed\",\"marker\":{\"color\":\"#FECB52\",\"symbol\":\"circle\"},\"mode\":\"markers\",\"name\":\"Singed\",\"orientation\":\"v\",\"showlegend\":true,\"x\":[21276.0],\"xaxis\":\"x\",\"y\":[34687.0],\"yaxis\":\"y\",\"type\":\"scatter\"},{\"hovertemplate\":\"championName=Sion<br>totalDamageDealtToChampions=%{x}<br>totalDamageTaken=%{y}<extra></extra>\",\"legendgroup\":\"Sion\",\"marker\":{\"color\":\"#636efa\",\"symbol\":\"circle\"},\"mode\":\"markers\",\"name\":\"Sion\",\"orientation\":\"v\",\"showlegend\":true,\"x\":[25372.0],\"xaxis\":\"x\",\"y\":[51982.0],\"yaxis\":\"y\",\"type\":\"scatter\"},{\"hovertemplate\":\"championName=Sivir<br>totalDamageDealtToChampions=%{x}<br>totalDamageTaken=%{y}<extra></extra>\",\"legendgroup\":\"Sivir\",\"marker\":{\"color\":\"#EF553B\",\"symbol\":\"circle\"},\"mode\":\"markers\",\"name\":\"Sivir\",\"orientation\":\"v\",\"showlegend\":true,\"x\":[25301.0],\"xaxis\":\"x\",\"y\":[21365.0],\"yaxis\":\"y\",\"type\":\"scatter\"},{\"hovertemplate\":\"championName=Skarner<br>totalDamageDealtToChampions=%{x}<br>totalDamageTaken=%{y}<extra></extra>\",\"legendgroup\":\"Skarner\",\"marker\":{\"color\":\"#00cc96\",\"symbol\":\"circle\"},\"mode\":\"markers\",\"name\":\"Skarner\",\"orientation\":\"v\",\"showlegend\":true,\"x\":[19576.0],\"xaxis\":\"x\",\"y\":[31546.0],\"yaxis\":\"y\",\"type\":\"scatter\"},{\"hovertemplate\":\"championName=Sona<br>totalDamageDealtToChampions=%{x}<br>totalDamageTaken=%{y}<extra></extra>\",\"legendgroup\":\"Sona\",\"marker\":{\"color\":\"#ab63fa\",\"symbol\":\"circle\"},\"mode\":\"markers\",\"name\":\"Sona\",\"orientation\":\"v\",\"showlegend\":true,\"x\":[13622.0],\"xaxis\":\"x\",\"y\":[22339.0],\"yaxis\":\"y\",\"type\":\"scatter\"},{\"hovertemplate\":\"championName=Soraka<br>totalDamageDealtToChampions=%{x}<br>totalDamageTaken=%{y}<extra></extra>\",\"legendgroup\":\"Soraka\",\"marker\":{\"color\":\"#FFA15A\",\"symbol\":\"circle\"},\"mode\":\"markers\",\"name\":\"Soraka\",\"orientation\":\"v\",\"showlegend\":true,\"x\":[6860.0],\"xaxis\":\"x\",\"y\":[17969.0],\"yaxis\":\"y\",\"type\":\"scatter\"},{\"hovertemplate\":\"championName=Swain<br>totalDamageDealtToChampions=%{x}<br>totalDamageTaken=%{y}<extra></extra>\",\"legendgroup\":\"Swain\",\"marker\":{\"color\":\"#19d3f3\",\"symbol\":\"circle\"},\"mode\":\"markers\",\"name\":\"Swain\",\"orientation\":\"v\",\"showlegend\":true,\"x\":[24859.0],\"xaxis\":\"x\",\"y\":[37951.0],\"yaxis\":\"y\",\"type\":\"scatter\"},{\"hovertemplate\":\"championName=Sylas<br>totalDamageDealtToChampions=%{x}<br>totalDamageTaken=%{y}<extra></extra>\",\"legendgroup\":\"Sylas\",\"marker\":{\"color\":\"#FF6692\",\"symbol\":\"circle\"},\"mode\":\"markers\",\"name\":\"Sylas\",\"orientation\":\"v\",\"showlegend\":true,\"x\":[22639.0],\"xaxis\":\"x\",\"y\":[31343.0],\"yaxis\":\"y\",\"type\":\"scatter\"},{\"hovertemplate\":\"championName=Syndra<br>totalDamageDealtToChampions=%{x}<br>totalDamageTaken=%{y}<extra></extra>\",\"legendgroup\":\"Syndra\",\"marker\":{\"color\":\"#B6E880\",\"symbol\":\"circle\"},\"mode\":\"markers\",\"name\":\"Syndra\",\"orientation\":\"v\",\"showlegend\":true,\"x\":[23961.0],\"xaxis\":\"x\",\"y\":[17997.0],\"yaxis\":\"y\",\"type\":\"scatter\"},{\"hovertemplate\":\"championName=TahmKench<br>totalDamageDealtToChampions=%{x}<br>totalDamageTaken=%{y}<extra></extra>\",\"legendgroup\":\"TahmKench\",\"marker\":{\"color\":\"#FF97FF\",\"symbol\":\"circle\"},\"mode\":\"markers\",\"name\":\"TahmKench\",\"orientation\":\"v\",\"showlegend\":true,\"x\":[22474.0],\"xaxis\":\"x\",\"y\":[45167.0],\"yaxis\":\"y\",\"type\":\"scatter\"},{\"hovertemplate\":\"championName=Taliyah<br>totalDamageDealtToChampions=%{x}<br>totalDamageTaken=%{y}<extra></extra>\",\"legendgroup\":\"Taliyah\",\"marker\":{\"color\":\"#FECB52\",\"symbol\":\"circle\"},\"mode\":\"markers\",\"name\":\"Taliyah\",\"orientation\":\"v\",\"showlegend\":true,\"x\":[23978.0],\"xaxis\":\"x\",\"y\":[22426.0],\"yaxis\":\"y\",\"type\":\"scatter\"},{\"hovertemplate\":\"championName=Talon<br>totalDamageDealtToChampions=%{x}<br>totalDamageTaken=%{y}<extra></extra>\",\"legendgroup\":\"Talon\",\"marker\":{\"color\":\"#636efa\",\"symbol\":\"circle\"},\"mode\":\"markers\",\"name\":\"Talon\",\"orientation\":\"v\",\"showlegend\":true,\"x\":[23445.0],\"xaxis\":\"x\",\"y\":[28008.0],\"yaxis\":\"y\",\"type\":\"scatter\"},{\"hovertemplate\":\"championName=Taric<br>totalDamageDealtToChampions=%{x}<br>totalDamageTaken=%{y}<extra></extra>\",\"legendgroup\":\"Taric\",\"marker\":{\"color\":\"#EF553B\",\"symbol\":\"circle\"},\"mode\":\"markers\",\"name\":\"Taric\",\"orientation\":\"v\",\"showlegend\":true,\"x\":[8948.0],\"xaxis\":\"x\",\"y\":[24227.0],\"yaxis\":\"y\",\"type\":\"scatter\"},{\"hovertemplate\":\"championName=Teemo<br>totalDamageDealtToChampions=%{x}<br>totalDamageTaken=%{y}<extra></extra>\",\"legendgroup\":\"Teemo\",\"marker\":{\"color\":\"#00cc96\",\"symbol\":\"circle\"},\"mode\":\"markers\",\"name\":\"Teemo\",\"orientation\":\"v\",\"showlegend\":true,\"x\":[25398.0],\"xaxis\":\"x\",\"y\":[22202.0],\"yaxis\":\"y\",\"type\":\"scatter\"},{\"hovertemplate\":\"championName=Thresh<br>totalDamageDealtToChampions=%{x}<br>totalDamageTaken=%{y}<extra></extra>\",\"legendgroup\":\"Thresh\",\"marker\":{\"color\":\"#ab63fa\",\"symbol\":\"circle\"},\"mode\":\"markers\",\"name\":\"Thresh\",\"orientation\":\"v\",\"showlegend\":true,\"x\":[9188.0],\"xaxis\":\"x\",\"y\":[22095.0],\"yaxis\":\"y\",\"type\":\"scatter\"},{\"hovertemplate\":\"championName=Tristana<br>totalDamageDealtToChampions=%{x}<br>totalDamageTaken=%{y}<extra></extra>\",\"legendgroup\":\"Tristana\",\"marker\":{\"color\":\"#FFA15A\",\"symbol\":\"circle\"},\"mode\":\"markers\",\"name\":\"Tristana\",\"orientation\":\"v\",\"showlegend\":true,\"x\":[23386.0],\"xaxis\":\"x\",\"y\":[21893.0],\"yaxis\":\"y\",\"type\":\"scatter\"},{\"hovertemplate\":\"championName=Trundle<br>totalDamageDealtToChampions=%{x}<br>totalDamageTaken=%{y}<extra></extra>\",\"legendgroup\":\"Trundle\",\"marker\":{\"color\":\"#19d3f3\",\"symbol\":\"circle\"},\"mode\":\"markers\",\"name\":\"Trundle\",\"orientation\":\"v\",\"showlegend\":true,\"x\":[18830.0],\"xaxis\":\"x\",\"y\":[33719.0],\"yaxis\":\"y\",\"type\":\"scatter\"},{\"hovertemplate\":\"championName=Tryndamere<br>totalDamageDealtToChampions=%{x}<br>totalDamageTaken=%{y}<extra></extra>\",\"legendgroup\":\"Tryndamere\",\"marker\":{\"color\":\"#FF6692\",\"symbol\":\"circle\"},\"mode\":\"markers\",\"name\":\"Tryndamere\",\"orientation\":\"v\",\"showlegend\":true,\"x\":[21492.0],\"xaxis\":\"x\",\"y\":[36430.0],\"yaxis\":\"y\",\"type\":\"scatter\"},{\"hovertemplate\":\"championName=TwistedFate<br>totalDamageDealtToChampions=%{x}<br>totalDamageTaken=%{y}<extra></extra>\",\"legendgroup\":\"TwistedFate\",\"marker\":{\"color\":\"#B6E880\",\"symbol\":\"circle\"},\"mode\":\"markers\",\"name\":\"TwistedFate\",\"orientation\":\"v\",\"showlegend\":true,\"x\":[19742.0],\"xaxis\":\"x\",\"y\":[21516.0],\"yaxis\":\"y\",\"type\":\"scatter\"},{\"hovertemplate\":\"championName=Twitch<br>totalDamageDealtToChampions=%{x}<br>totalDamageTaken=%{y}<extra></extra>\",\"legendgroup\":\"Twitch\",\"marker\":{\"color\":\"#FF97FF\",\"symbol\":\"circle\"},\"mode\":\"markers\",\"name\":\"Twitch\",\"orientation\":\"v\",\"showlegend\":true,\"x\":[29894.0],\"xaxis\":\"x\",\"y\":[23956.0],\"yaxis\":\"y\",\"type\":\"scatter\"},{\"hovertemplate\":\"championName=Udyr<br>totalDamageDealtToChampions=%{x}<br>totalDamageTaken=%{y}<extra></extra>\",\"legendgroup\":\"Udyr\",\"marker\":{\"color\":\"#FECB52\",\"symbol\":\"circle\"},\"mode\":\"markers\",\"name\":\"Udyr\",\"orientation\":\"v\",\"showlegend\":true,\"x\":[24058.0],\"xaxis\":\"x\",\"y\":[33400.0],\"yaxis\":\"y\",\"type\":\"scatter\"},{\"hovertemplate\":\"championName=Urgot<br>totalDamageDealtToChampions=%{x}<br>totalDamageTaken=%{y}<extra></extra>\",\"legendgroup\":\"Urgot\",\"marker\":{\"color\":\"#636efa\",\"symbol\":\"circle\"},\"mode\":\"markers\",\"name\":\"Urgot\",\"orientation\":\"v\",\"showlegend\":true,\"x\":[24188.0],\"xaxis\":\"x\",\"y\":[31478.0],\"yaxis\":\"y\",\"type\":\"scatter\"},{\"hovertemplate\":\"championName=Varus<br>totalDamageDealtToChampions=%{x}<br>totalDamageTaken=%{y}<extra></extra>\",\"legendgroup\":\"Varus\",\"marker\":{\"color\":\"#EF553B\",\"symbol\":\"circle\"},\"mode\":\"markers\",\"name\":\"Varus\",\"orientation\":\"v\",\"showlegend\":true,\"x\":[22950.0],\"xaxis\":\"x\",\"y\":[19551.0],\"yaxis\":\"y\",\"type\":\"scatter\"},{\"hovertemplate\":\"championName=Vayne<br>totalDamageDealtToChampions=%{x}<br>totalDamageTaken=%{y}<extra></extra>\",\"legendgroup\":\"Vayne\",\"marker\":{\"color\":\"#00cc96\",\"symbol\":\"circle\"},\"mode\":\"markers\",\"name\":\"Vayne\",\"orientation\":\"v\",\"showlegend\":true,\"x\":[24802.0],\"xaxis\":\"x\",\"y\":[22303.0],\"yaxis\":\"y\",\"type\":\"scatter\"},{\"hovertemplate\":\"championName=Veigar<br>totalDamageDealtToChampions=%{x}<br>totalDamageTaken=%{y}<extra></extra>\",\"legendgroup\":\"Veigar\",\"marker\":{\"color\":\"#ab63fa\",\"symbol\":\"circle\"},\"mode\":\"markers\",\"name\":\"Veigar\",\"orientation\":\"v\",\"showlegend\":true,\"x\":[26164.0],\"xaxis\":\"x\",\"y\":[23279.0],\"yaxis\":\"y\",\"type\":\"scatter\"},{\"hovertemplate\":\"championName=Velkoz<br>totalDamageDealtToChampions=%{x}<br>totalDamageTaken=%{y}<extra></extra>\",\"legendgroup\":\"Velkoz\",\"marker\":{\"color\":\"#FFA15A\",\"symbol\":\"circle\"},\"mode\":\"markers\",\"name\":\"Velkoz\",\"orientation\":\"v\",\"showlegend\":true,\"x\":[28798.0],\"xaxis\":\"x\",\"y\":[20093.0],\"yaxis\":\"y\",\"type\":\"scatter\"},{\"hovertemplate\":\"championName=Vex<br>totalDamageDealtToChampions=%{x}<br>totalDamageTaken=%{y}<extra></extra>\",\"legendgroup\":\"Vex\",\"marker\":{\"color\":\"#19d3f3\",\"symbol\":\"circle\"},\"mode\":\"markers\",\"name\":\"Vex\",\"orientation\":\"v\",\"showlegend\":true,\"x\":[24795.0],\"xaxis\":\"x\",\"y\":[19914.0],\"yaxis\":\"y\",\"type\":\"scatter\"},{\"hovertemplate\":\"championName=Vi<br>totalDamageDealtToChampions=%{x}<br>totalDamageTaken=%{y}<extra></extra>\",\"legendgroup\":\"Vi\",\"marker\":{\"color\":\"#FF6692\",\"symbol\":\"circle\"},\"mode\":\"markers\",\"name\":\"Vi\",\"orientation\":\"v\",\"showlegend\":true,\"x\":[18263.0],\"xaxis\":\"x\",\"y\":[26728.0],\"yaxis\":\"y\",\"type\":\"scatter\"},{\"hovertemplate\":\"championName=Viego<br>totalDamageDealtToChampions=%{x}<br>totalDamageTaken=%{y}<extra></extra>\",\"legendgroup\":\"Viego\",\"marker\":{\"color\":\"#B6E880\",\"symbol\":\"circle\"},\"mode\":\"markers\",\"name\":\"Viego\",\"orientation\":\"v\",\"showlegend\":true,\"x\":[18097.0],\"xaxis\":\"x\",\"y\":[30488.0],\"yaxis\":\"y\",\"type\":\"scatter\"},{\"hovertemplate\":\"championName=Viktor<br>totalDamageDealtToChampions=%{x}<br>totalDamageTaken=%{y}<extra></extra>\",\"legendgroup\":\"Viktor\",\"marker\":{\"color\":\"#FF97FF\",\"symbol\":\"circle\"},\"mode\":\"markers\",\"name\":\"Viktor\",\"orientation\":\"v\",\"showlegend\":true,\"x\":[25842.0],\"xaxis\":\"x\",\"y\":[18601.0],\"yaxis\":\"y\",\"type\":\"scatter\"},{\"hovertemplate\":\"championName=Vladimir<br>totalDamageDealtToChampions=%{x}<br>totalDamageTaken=%{y}<extra></extra>\",\"legendgroup\":\"Vladimir\",\"marker\":{\"color\":\"#FECB52\",\"symbol\":\"circle\"},\"mode\":\"markers\",\"name\":\"Vladimir\",\"orientation\":\"v\",\"showlegend\":true,\"x\":[29616.0],\"xaxis\":\"x\",\"y\":[35895.0],\"yaxis\":\"y\",\"type\":\"scatter\"},{\"hovertemplate\":\"championName=Volibear<br>totalDamageDealtToChampions=%{x}<br>totalDamageTaken=%{y}<extra></extra>\",\"legendgroup\":\"Volibear\",\"marker\":{\"color\":\"#636efa\",\"symbol\":\"circle\"},\"mode\":\"markers\",\"name\":\"Volibear\",\"orientation\":\"v\",\"showlegend\":true,\"x\":[21719.0],\"xaxis\":\"x\",\"y\":[35250.0],\"yaxis\":\"y\",\"type\":\"scatter\"},{\"hovertemplate\":\"championName=Warwick<br>totalDamageDealtToChampions=%{x}<br>totalDamageTaken=%{y}<extra></extra>\",\"legendgroup\":\"Warwick\",\"marker\":{\"color\":\"#EF553B\",\"symbol\":\"circle\"},\"mode\":\"markers\",\"name\":\"Warwick\",\"orientation\":\"v\",\"showlegend\":true,\"x\":[18908.0],\"xaxis\":\"x\",\"y\":[34968.0],\"yaxis\":\"y\",\"type\":\"scatter\"},{\"hovertemplate\":\"championName=Xayah<br>totalDamageDealtToChampions=%{x}<br>totalDamageTaken=%{y}<extra></extra>\",\"legendgroup\":\"Xayah\",\"marker\":{\"color\":\"#00cc96\",\"symbol\":\"circle\"},\"mode\":\"markers\",\"name\":\"Xayah\",\"orientation\":\"v\",\"showlegend\":true,\"x\":[22364.0],\"xaxis\":\"x\",\"y\":[19607.0],\"yaxis\":\"y\",\"type\":\"scatter\"},{\"hovertemplate\":\"championName=Xerath<br>totalDamageDealtToChampions=%{x}<br>totalDamageTaken=%{y}<extra></extra>\",\"legendgroup\":\"Xerath\",\"marker\":{\"color\":\"#ab63fa\",\"symbol\":\"circle\"},\"mode\":\"markers\",\"name\":\"Xerath\",\"orientation\":\"v\",\"showlegend\":true,\"x\":[22619.0],\"xaxis\":\"x\",\"y\":[15370.0],\"yaxis\":\"y\",\"type\":\"scatter\"},{\"hovertemplate\":\"championName=XinZhao<br>totalDamageDealtToChampions=%{x}<br>totalDamageTaken=%{y}<extra></extra>\",\"legendgroup\":\"XinZhao\",\"marker\":{\"color\":\"#FFA15A\",\"symbol\":\"circle\"},\"mode\":\"markers\",\"name\":\"XinZhao\",\"orientation\":\"v\",\"showlegend\":true,\"x\":[20735.0],\"xaxis\":\"x\",\"y\":[34367.0],\"yaxis\":\"y\",\"type\":\"scatter\"},{\"hovertemplate\":\"championName=Yasuo<br>totalDamageDealtToChampions=%{x}<br>totalDamageTaken=%{y}<extra></extra>\",\"legendgroup\":\"Yasuo\",\"marker\":{\"color\":\"#19d3f3\",\"symbol\":\"circle\"},\"mode\":\"markers\",\"name\":\"Yasuo\",\"orientation\":\"v\",\"showlegend\":true,\"x\":[20468.0],\"xaxis\":\"x\",\"y\":[24320.0],\"yaxis\":\"y\",\"type\":\"scatter\"},{\"hovertemplate\":\"championName=Yone<br>totalDamageDealtToChampions=%{x}<br>totalDamageTaken=%{y}<extra></extra>\",\"legendgroup\":\"Yone\",\"marker\":{\"color\":\"#FF6692\",\"symbol\":\"circle\"},\"mode\":\"markers\",\"name\":\"Yone\",\"orientation\":\"v\",\"showlegend\":true,\"x\":[22316.0],\"xaxis\":\"x\",\"y\":[24642.0],\"yaxis\":\"y\",\"type\":\"scatter\"},{\"hovertemplate\":\"championName=Yorick<br>totalDamageDealtToChampions=%{x}<br>totalDamageTaken=%{y}<extra></extra>\",\"legendgroup\":\"Yorick\",\"marker\":{\"color\":\"#B6E880\",\"symbol\":\"circle\"},\"mode\":\"markers\",\"name\":\"Yorick\",\"orientation\":\"v\",\"showlegend\":true,\"x\":[23310.0],\"xaxis\":\"x\",\"y\":[26369.0],\"yaxis\":\"y\",\"type\":\"scatter\"},{\"hovertemplate\":\"championName=Yuumi<br>totalDamageDealtToChampions=%{x}<br>totalDamageTaken=%{y}<extra></extra>\",\"legendgroup\":\"Yuumi\",\"marker\":{\"color\":\"#FF97FF\",\"symbol\":\"circle\"},\"mode\":\"markers\",\"name\":\"Yuumi\",\"orientation\":\"v\",\"showlegend\":true,\"x\":[9831.0],\"xaxis\":\"x\",\"y\":[8438.0],\"yaxis\":\"y\",\"type\":\"scatter\"},{\"hovertemplate\":\"championName=Zac<br>totalDamageDealtToChampions=%{x}<br>totalDamageTaken=%{y}<extra></extra>\",\"legendgroup\":\"Zac\",\"marker\":{\"color\":\"#FECB52\",\"symbol\":\"circle\"},\"mode\":\"markers\",\"name\":\"Zac\",\"orientation\":\"v\",\"showlegend\":true,\"x\":[17485.0],\"xaxis\":\"x\",\"y\":[40300.0],\"yaxis\":\"y\",\"type\":\"scatter\"},{\"hovertemplate\":\"championName=Zed<br>totalDamageDealtToChampions=%{x}<br>totalDamageTaken=%{y}<extra></extra>\",\"legendgroup\":\"Zed\",\"marker\":{\"color\":\"#636efa\",\"symbol\":\"circle\"},\"mode\":\"markers\",\"name\":\"Zed\",\"orientation\":\"v\",\"showlegend\":true,\"x\":[27603.0],\"xaxis\":\"x\",\"y\":[22026.0],\"yaxis\":\"y\",\"type\":\"scatter\"},{\"hovertemplate\":\"championName=Zeri<br>totalDamageDealtToChampions=%{x}<br>totalDamageTaken=%{y}<extra></extra>\",\"legendgroup\":\"Zeri\",\"marker\":{\"color\":\"#EF553B\",\"symbol\":\"circle\"},\"mode\":\"markers\",\"name\":\"Zeri\",\"orientation\":\"v\",\"showlegend\":true,\"x\":[25238.0],\"xaxis\":\"x\",\"y\":[22042.0],\"yaxis\":\"y\",\"type\":\"scatter\"},{\"hovertemplate\":\"championName=Ziggs<br>totalDamageDealtToChampions=%{x}<br>totalDamageTaken=%{y}<extra></extra>\",\"legendgroup\":\"Ziggs\",\"marker\":{\"color\":\"#00cc96\",\"symbol\":\"circle\"},\"mode\":\"markers\",\"name\":\"Ziggs\",\"orientation\":\"v\",\"showlegend\":true,\"x\":[28127.0],\"xaxis\":\"x\",\"y\":[18311.0],\"yaxis\":\"y\",\"type\":\"scatter\"},{\"hovertemplate\":\"championName=Zilean<br>totalDamageDealtToChampions=%{x}<br>totalDamageTaken=%{y}<extra></extra>\",\"legendgroup\":\"Zilean\",\"marker\":{\"color\":\"#ab63fa\",\"symbol\":\"circle\"},\"mode\":\"markers\",\"name\":\"Zilean\",\"orientation\":\"v\",\"showlegend\":true,\"x\":[12849.0],\"xaxis\":\"x\",\"y\":[19486.0],\"yaxis\":\"y\",\"type\":\"scatter\"},{\"hovertemplate\":\"championName=Zoe<br>totalDamageDealtToChampions=%{x}<br>totalDamageTaken=%{y}<extra></extra>\",\"legendgroup\":\"Zoe\",\"marker\":{\"color\":\"#FFA15A\",\"symbol\":\"circle\"},\"mode\":\"markers\",\"name\":\"Zoe\",\"orientation\":\"v\",\"showlegend\":true,\"x\":[26343.0],\"xaxis\":\"x\",\"y\":[20344.0],\"yaxis\":\"y\",\"type\":\"scatter\"},{\"hovertemplate\":\"championName=Zyra<br>totalDamageDealtToChampions=%{x}<br>totalDamageTaken=%{y}<extra></extra>\",\"legendgroup\":\"Zyra\",\"marker\":{\"color\":\"#19d3f3\",\"symbol\":\"circle\"},\"mode\":\"markers\",\"name\":\"Zyra\",\"orientation\":\"v\",\"showlegend\":true,\"x\":[21559.0],\"xaxis\":\"x\",\"y\":[17532.0],\"yaxis\":\"y\",\"type\":\"scatter\"}],                        {\"legend\":{\"title\":{\"text\":\"championName\"},\"tracegroupgap\":0},\"margin\":{\"t\":60},\"template\":{\"data\":{\"barpolar\":[{\"marker\":{\"line\":{\"color\":\"#E5ECF6\",\"width\":0.5},\"pattern\":{\"fillmode\":\"overlay\",\"size\":10,\"solidity\":0.2}},\"type\":\"barpolar\"}],\"bar\":[{\"error_x\":{\"color\":\"#2a3f5f\"},\"error_y\":{\"color\":\"#2a3f5f\"},\"marker\":{\"line\":{\"color\":\"#E5ECF6\",\"width\":0.5},\"pattern\":{\"fillmode\":\"overlay\",\"size\":10,\"solidity\":0.2}},\"type\":\"bar\"}],\"carpet\":[{\"aaxis\":{\"endlinecolor\":\"#2a3f5f\",\"gridcolor\":\"white\",\"linecolor\":\"white\",\"minorgridcolor\":\"white\",\"startlinecolor\":\"#2a3f5f\"},\"baxis\":{\"endlinecolor\":\"#2a3f5f\",\"gridcolor\":\"white\",\"linecolor\":\"white\",\"minorgridcolor\":\"white\",\"startlinecolor\":\"#2a3f5f\"},\"type\":\"carpet\"}],\"choropleth\":[{\"colorbar\":{\"outlinewidth\":0,\"ticks\":\"\"},\"type\":\"choropleth\"}],\"contourcarpet\":[{\"colorbar\":{\"outlinewidth\":0,\"ticks\":\"\"},\"type\":\"contourcarpet\"}],\"contour\":[{\"colorbar\":{\"outlinewidth\":0,\"ticks\":\"\"},\"colorscale\":[[0.0,\"#0d0887\"],[0.1111111111111111,\"#46039f\"],[0.2222222222222222,\"#7201a8\"],[0.3333333333333333,\"#9c179e\"],[0.4444444444444444,\"#bd3786\"],[0.5555555555555556,\"#d8576b\"],[0.6666666666666666,\"#ed7953\"],[0.7777777777777778,\"#fb9f3a\"],[0.8888888888888888,\"#fdca26\"],[1.0,\"#f0f921\"]],\"type\":\"contour\"}],\"heatmapgl\":[{\"colorbar\":{\"outlinewidth\":0,\"ticks\":\"\"},\"colorscale\":[[0.0,\"#0d0887\"],[0.1111111111111111,\"#46039f\"],[0.2222222222222222,\"#7201a8\"],[0.3333333333333333,\"#9c179e\"],[0.4444444444444444,\"#bd3786\"],[0.5555555555555556,\"#d8576b\"],[0.6666666666666666,\"#ed7953\"],[0.7777777777777778,\"#fb9f3a\"],[0.8888888888888888,\"#fdca26\"],[1.0,\"#f0f921\"]],\"type\":\"heatmapgl\"}],\"heatmap\":[{\"colorbar\":{\"outlinewidth\":0,\"ticks\":\"\"},\"colorscale\":[[0.0,\"#0d0887\"],[0.1111111111111111,\"#46039f\"],[0.2222222222222222,\"#7201a8\"],[0.3333333333333333,\"#9c179e\"],[0.4444444444444444,\"#bd3786\"],[0.5555555555555556,\"#d8576b\"],[0.6666666666666666,\"#ed7953\"],[0.7777777777777778,\"#fb9f3a\"],[0.8888888888888888,\"#fdca26\"],[1.0,\"#f0f921\"]],\"type\":\"heatmap\"}],\"histogram2dcontour\":[{\"colorbar\":{\"outlinewidth\":0,\"ticks\":\"\"},\"colorscale\":[[0.0,\"#0d0887\"],[0.1111111111111111,\"#46039f\"],[0.2222222222222222,\"#7201a8\"],[0.3333333333333333,\"#9c179e\"],[0.4444444444444444,\"#bd3786\"],[0.5555555555555556,\"#d8576b\"],[0.6666666666666666,\"#ed7953\"],[0.7777777777777778,\"#fb9f3a\"],[0.8888888888888888,\"#fdca26\"],[1.0,\"#f0f921\"]],\"type\":\"histogram2dcontour\"}],\"histogram2d\":[{\"colorbar\":{\"outlinewidth\":0,\"ticks\":\"\"},\"colorscale\":[[0.0,\"#0d0887\"],[0.1111111111111111,\"#46039f\"],[0.2222222222222222,\"#7201a8\"],[0.3333333333333333,\"#9c179e\"],[0.4444444444444444,\"#bd3786\"],[0.5555555555555556,\"#d8576b\"],[0.6666666666666666,\"#ed7953\"],[0.7777777777777778,\"#fb9f3a\"],[0.8888888888888888,\"#fdca26\"],[1.0,\"#f0f921\"]],\"type\":\"histogram2d\"}],\"histogram\":[{\"marker\":{\"pattern\":{\"fillmode\":\"overlay\",\"size\":10,\"solidity\":0.2}},\"type\":\"histogram\"}],\"mesh3d\":[{\"colorbar\":{\"outlinewidth\":0,\"ticks\":\"\"},\"type\":\"mesh3d\"}],\"parcoords\":[{\"line\":{\"colorbar\":{\"outlinewidth\":0,\"ticks\":\"\"}},\"type\":\"parcoords\"}],\"pie\":[{\"automargin\":true,\"type\":\"pie\"}],\"scatter3d\":[{\"line\":{\"colorbar\":{\"outlinewidth\":0,\"ticks\":\"\"}},\"marker\":{\"colorbar\":{\"outlinewidth\":0,\"ticks\":\"\"}},\"type\":\"scatter3d\"}],\"scattercarpet\":[{\"marker\":{\"colorbar\":{\"outlinewidth\":0,\"ticks\":\"\"}},\"type\":\"scattercarpet\"}],\"scattergeo\":[{\"marker\":{\"colorbar\":{\"outlinewidth\":0,\"ticks\":\"\"}},\"type\":\"scattergeo\"}],\"scattergl\":[{\"marker\":{\"colorbar\":{\"outlinewidth\":0,\"ticks\":\"\"}},\"type\":\"scattergl\"}],\"scattermapbox\":[{\"marker\":{\"colorbar\":{\"outlinewidth\":0,\"ticks\":\"\"}},\"type\":\"scattermapbox\"}],\"scatterpolargl\":[{\"marker\":{\"colorbar\":{\"outlinewidth\":0,\"ticks\":\"\"}},\"type\":\"scatterpolargl\"}],\"scatterpolar\":[{\"marker\":{\"colorbar\":{\"outlinewidth\":0,\"ticks\":\"\"}},\"type\":\"scatterpolar\"}],\"scatter\":[{\"fillpattern\":{\"fillmode\":\"overlay\",\"size\":10,\"solidity\":0.2},\"type\":\"scatter\"}],\"scatterternary\":[{\"marker\":{\"colorbar\":{\"outlinewidth\":0,\"ticks\":\"\"}},\"type\":\"scatterternary\"}],\"surface\":[{\"colorbar\":{\"outlinewidth\":0,\"ticks\":\"\"},\"colorscale\":[[0.0,\"#0d0887\"],[0.1111111111111111,\"#46039f\"],[0.2222222222222222,\"#7201a8\"],[0.3333333333333333,\"#9c179e\"],[0.4444444444444444,\"#bd3786\"],[0.5555555555555556,\"#d8576b\"],[0.6666666666666666,\"#ed7953\"],[0.7777777777777778,\"#fb9f3a\"],[0.8888888888888888,\"#fdca26\"],[1.0,\"#f0f921\"]],\"type\":\"surface\"}],\"table\":[{\"cells\":{\"fill\":{\"color\":\"#EBF0F8\"},\"line\":{\"color\":\"white\"}},\"header\":{\"fill\":{\"color\":\"#C8D4E3\"},\"line\":{\"color\":\"white\"}},\"type\":\"table\"}]},\"layout\":{\"annotationdefaults\":{\"arrowcolor\":\"#2a3f5f\",\"arrowhead\":0,\"arrowwidth\":1},\"autotypenumbers\":\"strict\",\"coloraxis\":{\"colorbar\":{\"outlinewidth\":0,\"ticks\":\"\"}},\"colorscale\":{\"diverging\":[[0,\"#8e0152\"],[0.1,\"#c51b7d\"],[0.2,\"#de77ae\"],[0.3,\"#f1b6da\"],[0.4,\"#fde0ef\"],[0.5,\"#f7f7f7\"],[0.6,\"#e6f5d0\"],[0.7,\"#b8e186\"],[0.8,\"#7fbc41\"],[0.9,\"#4d9221\"],[1,\"#276419\"]],\"sequential\":[[0.0,\"#0d0887\"],[0.1111111111111111,\"#46039f\"],[0.2222222222222222,\"#7201a8\"],[0.3333333333333333,\"#9c179e\"],[0.4444444444444444,\"#bd3786\"],[0.5555555555555556,\"#d8576b\"],[0.6666666666666666,\"#ed7953\"],[0.7777777777777778,\"#fb9f3a\"],[0.8888888888888888,\"#fdca26\"],[1.0,\"#f0f921\"]],\"sequentialminus\":[[0.0,\"#0d0887\"],[0.1111111111111111,\"#46039f\"],[0.2222222222222222,\"#7201a8\"],[0.3333333333333333,\"#9c179e\"],[0.4444444444444444,\"#bd3786\"],[0.5555555555555556,\"#d8576b\"],[0.6666666666666666,\"#ed7953\"],[0.7777777777777778,\"#fb9f3a\"],[0.8888888888888888,\"#fdca26\"],[1.0,\"#f0f921\"]]},\"colorway\":[\"#636efa\",\"#EF553B\",\"#00cc96\",\"#ab63fa\",\"#FFA15A\",\"#19d3f3\",\"#FF6692\",\"#B6E880\",\"#FF97FF\",\"#FECB52\"],\"font\":{\"color\":\"#2a3f5f\"},\"geo\":{\"bgcolor\":\"white\",\"lakecolor\":\"white\",\"landcolor\":\"#E5ECF6\",\"showlakes\":true,\"showland\":true,\"subunitcolor\":\"white\"},\"hoverlabel\":{\"align\":\"left\"},\"hovermode\":\"closest\",\"mapbox\":{\"style\":\"light\"},\"paper_bgcolor\":\"white\",\"plot_bgcolor\":\"#E5ECF6\",\"polar\":{\"angularaxis\":{\"gridcolor\":\"white\",\"linecolor\":\"white\",\"ticks\":\"\"},\"bgcolor\":\"#E5ECF6\",\"radialaxis\":{\"gridcolor\":\"white\",\"linecolor\":\"white\",\"ticks\":\"\"}},\"scene\":{\"xaxis\":{\"backgroundcolor\":\"#E5ECF6\",\"gridcolor\":\"white\",\"gridwidth\":2,\"linecolor\":\"white\",\"showbackground\":true,\"ticks\":\"\",\"zerolinecolor\":\"white\"},\"yaxis\":{\"backgroundcolor\":\"#E5ECF6\",\"gridcolor\":\"white\",\"gridwidth\":2,\"linecolor\":\"white\",\"showbackground\":true,\"ticks\":\"\",\"zerolinecolor\":\"white\"},\"zaxis\":{\"backgroundcolor\":\"#E5ECF6\",\"gridcolor\":\"white\",\"gridwidth\":2,\"linecolor\":\"white\",\"showbackground\":true,\"ticks\":\"\",\"zerolinecolor\":\"white\"}},\"shapedefaults\":{\"line\":{\"color\":\"#2a3f5f\"}},\"ternary\":{\"aaxis\":{\"gridcolor\":\"white\",\"linecolor\":\"white\",\"ticks\":\"\"},\"baxis\":{\"gridcolor\":\"white\",\"linecolor\":\"white\",\"ticks\":\"\"},\"bgcolor\":\"#E5ECF6\",\"caxis\":{\"gridcolor\":\"white\",\"linecolor\":\"white\",\"ticks\":\"\"}},\"title\":{\"x\":0.05},\"xaxis\":{\"automargin\":true,\"gridcolor\":\"white\",\"linecolor\":\"white\",\"ticks\":\"\",\"title\":{\"standoff\":15},\"zerolinecolor\":\"white\",\"zerolinewidth\":2},\"yaxis\":{\"automargin\":true,\"gridcolor\":\"white\",\"linecolor\":\"white\",\"ticks\":\"\",\"title\":{\"standoff\":15},\"zerolinecolor\":\"white\",\"zerolinewidth\":2}}},\"xaxis\":{\"anchor\":\"y\",\"domain\":[0.0,1.0],\"title\":{\"text\":\"totalDamageDealtToChampions\"}},\"yaxis\":{\"anchor\":\"x\",\"domain\":[0.0,1.0],\"title\":{\"text\":\"totalDamageTaken\"}}},                        {\"responsive\": true}                    ).then(function(){\n",
       "                            \n",
       "var gd = document.getElementById('358868bf-d319-490c-bd2d-b691c060db47');\n",
       "var x = new MutationObserver(function (mutations, observer) {{\n",
       "        var display = window.getComputedStyle(gd).display;\n",
       "        if (!display || display === 'none') {{\n",
       "            console.log([gd, 'removed!']);\n",
       "            Plotly.purge(gd);\n",
       "            observer.disconnect();\n",
       "        }}\n",
       "}});\n",
       "\n",
       "// Listen for the removal of the full notebook cells\n",
       "var notebookContainer = gd.closest('#notebook-container');\n",
       "if (notebookContainer) {{\n",
       "    x.observe(notebookContainer, {childList: true});\n",
       "}}\n",
       "\n",
       "// Listen for the clearing of the current output cell\n",
       "var outputEl = gd.closest('.output');\n",
       "if (outputEl) {{\n",
       "    x.observe(outputEl, {childList: true});\n",
       "}}\n",
       "\n",
       "                        })                };                });            </script>        </div>"
      ]
     },
     "metadata": {},
     "output_type": "display_data"
    }
   ],
   "source": [
    "fig = px.scatter(cmp_df,\n",
    "                x = 'totalDamageDealtToChampions',\n",
    "                y = 'totalDamageTaken',\n",
    "                color = 'championName')\n",
    "\n",
    "plotly.offline.iplot(fig)\n",
    "# = fig.show()"
   ]
  },
  {
   "cell_type": "markdown",
   "id": "a53ca954",
   "metadata": {},
   "source": [
    "# 챔피언 시너지 or 2:2 구도 분석"
   ]
  },
  {
   "cell_type": "markdown",
   "id": "baf9f18f",
   "metadata": {},
   "source": [
    "- blue팀 정글포지션인 사람들만 꺼내서 [GAMEID,CHAMPIONNAME,WIN].RENAME(CHAMPIONAME -> j_champ) (테이블 이름 - blue_jungle)\n",
    "- blue팀 탑포지션인 사람들만 꺼내서 [GAMEID,CHAMPIONNAME,WIN].RENAME(CHAMPIONAME -> t_champ) (테이블 이름 - blue_top)\n",
    "- blue팀끼리 merge \n",
    "\n",
    "- red 동일하게 정글, 탑 뽑아내서 merge\n",
    "\n",
    "\n",
    "- blue팀과 red팀의 데이터를 merge하기 위해서 enemy_blue / enemy_red 라는 데이터프레임 제작 \n",
    "- 이후 championName들을 rename을 통해 각각 enemy_j_champ_cham enemy_t_champ으로 변환\n",
    "\n",
    "\n",
    "- blue팀입장에서 red팀의 데이터 merge\n",
    "- red 팀 입장에서 blue팀 데이터 merge\n",
    "\n",
    "- 위에서 만들어진 merge테이블을 concat을 이용해서 하나의 데이터 테이블로 만들기\n",
    "- games와 win의 횟수를 구하고 win_rate(승률) 컬럼을 추가한 result 테이블 "
   ]
  },
  {
   "cell_type": "code",
   "execution_count": 333,
   "id": "2784c670",
   "metadata": {},
   "outputs": [
    {
     "data": {
      "text/plain": [
       "Index(['gameId', 'gameDuration', 'gameVersion', 'summonerName',\n",
       "       'summonerLevel', 'participantId', 'championName', 'champExperience',\n",
       "       'teamPosition', 'teamId', 'win', 'kills', 'deaths', 'assists',\n",
       "       'totalDamageDealtToChampions', 'totalDamageTaken', 'g_5', 'g_6', 'g_7',\n",
       "       'g_8', 'g_9', 'g_10', 'g_11', 'g_12', 'g_13', 'g_14', 'g_15', 'g_16',\n",
       "       'g_17', 'g_18', 'g_19', 'g_20', 'g_21', 'g_22', 'g_23', 'g_24', 'g_25'],\n",
       "      dtype='object')"
      ]
     },
     "execution_count": 333,
     "metadata": {},
     "output_type": "execute_result"
    }
   ],
   "source": [
    "lol_df.columns"
   ]
  },
  {
   "cell_type": "code",
   "execution_count": 284,
   "id": "295ed670",
   "metadata": {},
   "outputs": [],
   "source": [
    "blue_team = lol_df[lol_df.teamId == 100]"
   ]
  },
  {
   "cell_type": "code",
   "execution_count": 285,
   "id": "7da13984",
   "metadata": {},
   "outputs": [],
   "source": [
    "blue_j = blue_team[blue_team.teamPosition == 'JUNGLE']"
   ]
  },
  {
   "cell_type": "code",
   "execution_count": 286,
   "id": "e63e5db9",
   "metadata": {},
   "outputs": [],
   "source": [
    "blue_j = blue_j[['gameId','championName']]"
   ]
  },
  {
   "cell_type": "code",
   "execution_count": 287,
   "id": "cd675071",
   "metadata": {},
   "outputs": [],
   "source": [
    "blue_j.columns ='gameId','j_champ'"
   ]
  },
  {
   "cell_type": "code",
   "execution_count": 288,
   "id": "e3b8ab68",
   "metadata": {},
   "outputs": [],
   "source": [
    "blue_t = blue_team[blue_team.teamPosition == 'TOP']"
   ]
  },
  {
   "cell_type": "code",
   "execution_count": 289,
   "id": "2987599f",
   "metadata": {},
   "outputs": [],
   "source": [
    "blue_t = blue_t[['gameId','championName','win']]"
   ]
  },
  {
   "cell_type": "code",
   "execution_count": 290,
   "id": "f690dea4",
   "metadata": {},
   "outputs": [],
   "source": [
    "blue_t.columns ='gameId','t_champ','win'"
   ]
  },
  {
   "cell_type": "code",
   "execution_count": 307,
   "id": "4e5e43ad",
   "metadata": {},
   "outputs": [],
   "source": [
    "blue_merge = blue_j.merge(blue_t,on = ('gameId'))"
   ]
  },
  {
   "cell_type": "code",
   "execution_count": 308,
   "id": "caa2c97f",
   "metadata": {},
   "outputs": [
    {
     "data": {
      "text/html": [
       "<div>\n",
       "<style scoped>\n",
       "    .dataframe tbody tr th:only-of-type {\n",
       "        vertical-align: middle;\n",
       "    }\n",
       "\n",
       "    .dataframe tbody tr th {\n",
       "        vertical-align: top;\n",
       "    }\n",
       "\n",
       "    .dataframe thead th {\n",
       "        text-align: right;\n",
       "    }\n",
       "</style>\n",
       "<table border=\"1\" class=\"dataframe\">\n",
       "  <thead>\n",
       "    <tr style=\"text-align: right;\">\n",
       "      <th></th>\n",
       "      <th>gameId</th>\n",
       "      <th>j_champ</th>\n",
       "      <th>t_champ</th>\n",
       "      <th>win</th>\n",
       "    </tr>\n",
       "  </thead>\n",
       "  <tbody>\n",
       "    <tr>\n",
       "      <th>0</th>\n",
       "      <td>KR_6604309114</td>\n",
       "      <td>Trundle</td>\n",
       "      <td>KSante</td>\n",
       "      <td>False</td>\n",
       "    </tr>\n",
       "    <tr>\n",
       "      <th>1</th>\n",
       "      <td>KR_6606477334</td>\n",
       "      <td>Elise</td>\n",
       "      <td>Fiora</td>\n",
       "      <td>True</td>\n",
       "    </tr>\n",
       "    <tr>\n",
       "      <th>2</th>\n",
       "      <td>KR_6606877275</td>\n",
       "      <td>Zac</td>\n",
       "      <td>Darius</td>\n",
       "      <td>True</td>\n",
       "    </tr>\n",
       "    <tr>\n",
       "      <th>3</th>\n",
       "      <td>KR_6606923700</td>\n",
       "      <td>LeeSin</td>\n",
       "      <td>Yone</td>\n",
       "      <td>False</td>\n",
       "    </tr>\n",
       "    <tr>\n",
       "      <th>4</th>\n",
       "      <td>KR_6607288080</td>\n",
       "      <td>Karthus</td>\n",
       "      <td>Olaf</td>\n",
       "      <td>True</td>\n",
       "    </tr>\n",
       "    <tr>\n",
       "      <th>...</th>\n",
       "      <td>...</td>\n",
       "      <td>...</td>\n",
       "      <td>...</td>\n",
       "      <td>...</td>\n",
       "    </tr>\n",
       "    <tr>\n",
       "      <th>5645</th>\n",
       "      <td>KR_6871466214</td>\n",
       "      <td>Evelynn</td>\n",
       "      <td>Yasuo</td>\n",
       "      <td>True</td>\n",
       "    </tr>\n",
       "    <tr>\n",
       "      <th>5646</th>\n",
       "      <td>KR_6871473519</td>\n",
       "      <td>JarvanIV</td>\n",
       "      <td>Irelia</td>\n",
       "      <td>False</td>\n",
       "    </tr>\n",
       "    <tr>\n",
       "      <th>5647</th>\n",
       "      <td>KR_6871487336</td>\n",
       "      <td>Graves</td>\n",
       "      <td>Irelia</td>\n",
       "      <td>True</td>\n",
       "    </tr>\n",
       "    <tr>\n",
       "      <th>5648</th>\n",
       "      <td>KR_6871491916</td>\n",
       "      <td>Shaco</td>\n",
       "      <td>Irelia</td>\n",
       "      <td>True</td>\n",
       "    </tr>\n",
       "    <tr>\n",
       "      <th>5649</th>\n",
       "      <td>KR_6871519263</td>\n",
       "      <td>Graves</td>\n",
       "      <td>Nasus</td>\n",
       "      <td>False</td>\n",
       "    </tr>\n",
       "  </tbody>\n",
       "</table>\n",
       "<p>5650 rows × 4 columns</p>\n",
       "</div>"
      ],
      "text/plain": [
       "             gameId   j_champ t_champ    win\n",
       "0     KR_6604309114   Trundle  KSante  False\n",
       "1     KR_6606477334     Elise   Fiora   True\n",
       "2     KR_6606877275       Zac  Darius   True\n",
       "3     KR_6606923700    LeeSin    Yone  False\n",
       "4     KR_6607288080   Karthus    Olaf   True\n",
       "...             ...       ...     ...    ...\n",
       "5645  KR_6871466214   Evelynn   Yasuo   True\n",
       "5646  KR_6871473519  JarvanIV  Irelia  False\n",
       "5647  KR_6871487336    Graves  Irelia   True\n",
       "5648  KR_6871491916     Shaco  Irelia   True\n",
       "5649  KR_6871519263    Graves   Nasus  False\n",
       "\n",
       "[5650 rows x 4 columns]"
      ]
     },
     "execution_count": 308,
     "metadata": {},
     "output_type": "execute_result"
    }
   ],
   "source": [
    "blue_merge"
   ]
  },
  {
   "cell_type": "code",
   "execution_count": 293,
   "id": "d34104f5",
   "metadata": {},
   "outputs": [],
   "source": [
    "red_team = lol_df[lol_df.teamId == 200]"
   ]
  },
  {
   "cell_type": "code",
   "execution_count": 294,
   "id": "5961ba7c",
   "metadata": {},
   "outputs": [],
   "source": [
    "red_j = red_team[red_team.teamPosition == 'JUNGLE']"
   ]
  },
  {
   "cell_type": "code",
   "execution_count": 295,
   "id": "6e172b22",
   "metadata": {},
   "outputs": [],
   "source": [
    "red_j = red_j[['gameId','championName']]"
   ]
  },
  {
   "cell_type": "code",
   "execution_count": 296,
   "id": "243c15a1",
   "metadata": {},
   "outputs": [],
   "source": [
    "red_j.columns ='gameId','j_champ'"
   ]
  },
  {
   "cell_type": "code",
   "execution_count": 297,
   "id": "86447837",
   "metadata": {},
   "outputs": [],
   "source": [
    "red_t = red_team[red_team.teamPosition == 'TOP']"
   ]
  },
  {
   "cell_type": "code",
   "execution_count": 298,
   "id": "c0328915",
   "metadata": {},
   "outputs": [],
   "source": [
    "red_t = red_t[['gameId','championName','win']]"
   ]
  },
  {
   "cell_type": "code",
   "execution_count": 299,
   "id": "7200f3f3",
   "metadata": {},
   "outputs": [],
   "source": [
    "red_t.columns ='gameId','t_champ','win'"
   ]
  },
  {
   "cell_type": "code",
   "execution_count": 305,
   "id": "1a42d65d",
   "metadata": {},
   "outputs": [],
   "source": [
    "red_merge = red_j.merge(red_t,on = ('gameId'))"
   ]
  },
  {
   "cell_type": "code",
   "execution_count": 306,
   "id": "1000f99e",
   "metadata": {},
   "outputs": [
    {
     "data": {
      "text/html": [
       "<div>\n",
       "<style scoped>\n",
       "    .dataframe tbody tr th:only-of-type {\n",
       "        vertical-align: middle;\n",
       "    }\n",
       "\n",
       "    .dataframe tbody tr th {\n",
       "        vertical-align: top;\n",
       "    }\n",
       "\n",
       "    .dataframe thead th {\n",
       "        text-align: right;\n",
       "    }\n",
       "</style>\n",
       "<table border=\"1\" class=\"dataframe\">\n",
       "  <thead>\n",
       "    <tr style=\"text-align: right;\">\n",
       "      <th></th>\n",
       "      <th>gameId</th>\n",
       "      <th>j_champ</th>\n",
       "      <th>t_champ</th>\n",
       "      <th>win</th>\n",
       "    </tr>\n",
       "  </thead>\n",
       "  <tbody>\n",
       "    <tr>\n",
       "      <th>0</th>\n",
       "      <td>KR_6604309114</td>\n",
       "      <td>MasterYi</td>\n",
       "      <td>Illaoi</td>\n",
       "      <td>True</td>\n",
       "    </tr>\n",
       "    <tr>\n",
       "      <th>1</th>\n",
       "      <td>KR_6606477334</td>\n",
       "      <td>Lillia</td>\n",
       "      <td>Aatrox</td>\n",
       "      <td>False</td>\n",
       "    </tr>\n",
       "    <tr>\n",
       "      <th>2</th>\n",
       "      <td>KR_6606877275</td>\n",
       "      <td>Diana</td>\n",
       "      <td>Irelia</td>\n",
       "      <td>False</td>\n",
       "    </tr>\n",
       "    <tr>\n",
       "      <th>3</th>\n",
       "      <td>KR_6606923700</td>\n",
       "      <td>Sejuani</td>\n",
       "      <td>Varus</td>\n",
       "      <td>True</td>\n",
       "    </tr>\n",
       "    <tr>\n",
       "      <th>4</th>\n",
       "      <td>KR_6607288080</td>\n",
       "      <td>Sylas</td>\n",
       "      <td>Aatrox</td>\n",
       "      <td>False</td>\n",
       "    </tr>\n",
       "    <tr>\n",
       "      <th>...</th>\n",
       "      <td>...</td>\n",
       "      <td>...</td>\n",
       "      <td>...</td>\n",
       "      <td>...</td>\n",
       "    </tr>\n",
       "    <tr>\n",
       "      <th>5646</th>\n",
       "      <td>KR_6871466214</td>\n",
       "      <td>Sylas</td>\n",
       "      <td>Renekton</td>\n",
       "      <td>False</td>\n",
       "    </tr>\n",
       "    <tr>\n",
       "      <th>5647</th>\n",
       "      <td>KR_6871473519</td>\n",
       "      <td>Darius</td>\n",
       "      <td>Renekton</td>\n",
       "      <td>True</td>\n",
       "    </tr>\n",
       "    <tr>\n",
       "      <th>5648</th>\n",
       "      <td>KR_6871487336</td>\n",
       "      <td>Nocturne</td>\n",
       "      <td>Renekton</td>\n",
       "      <td>False</td>\n",
       "    </tr>\n",
       "    <tr>\n",
       "      <th>5649</th>\n",
       "      <td>KR_6871491916</td>\n",
       "      <td>Briar</td>\n",
       "      <td>Shaco</td>\n",
       "      <td>False</td>\n",
       "    </tr>\n",
       "    <tr>\n",
       "      <th>5650</th>\n",
       "      <td>KR_6871519263</td>\n",
       "      <td>Singed</td>\n",
       "      <td>Jax</td>\n",
       "      <td>True</td>\n",
       "    </tr>\n",
       "  </tbody>\n",
       "</table>\n",
       "<p>5651 rows × 4 columns</p>\n",
       "</div>"
      ],
      "text/plain": [
       "             gameId   j_champ   t_champ    win\n",
       "0     KR_6604309114  MasterYi    Illaoi   True\n",
       "1     KR_6606477334    Lillia    Aatrox  False\n",
       "2     KR_6606877275     Diana    Irelia  False\n",
       "3     KR_6606923700   Sejuani     Varus   True\n",
       "4     KR_6607288080     Sylas    Aatrox  False\n",
       "...             ...       ...       ...    ...\n",
       "5646  KR_6871466214     Sylas  Renekton  False\n",
       "5647  KR_6871473519    Darius  Renekton   True\n",
       "5648  KR_6871487336  Nocturne  Renekton  False\n",
       "5649  KR_6871491916     Briar     Shaco  False\n",
       "5650  KR_6871519263    Singed       Jax   True\n",
       "\n",
       "[5651 rows x 4 columns]"
      ]
     },
     "execution_count": 306,
     "metadata": {},
     "output_type": "execute_result"
    }
   ],
   "source": [
    "red_merge"
   ]
  },
  {
   "cell_type": "code",
   "execution_count": 310,
   "id": "ca88cd90",
   "metadata": {},
   "outputs": [],
   "source": [
    "enemy_blue = red_merge"
   ]
  },
  {
   "cell_type": "code",
   "execution_count": 311,
   "id": "7c49e309",
   "metadata": {},
   "outputs": [],
   "source": [
    "enemy_red = blue_merge"
   ]
  },
  {
   "cell_type": "code",
   "execution_count": 318,
   "id": "7c795d1c",
   "metadata": {},
   "outputs": [],
   "source": [
    "blue_team = enemy_blue.merge(enemy_red,on = ('gameId'))"
   ]
  },
  {
   "cell_type": "code",
   "execution_count": 319,
   "id": "87f1dd45",
   "metadata": {},
   "outputs": [
    {
     "data": {
      "text/html": [
       "<div>\n",
       "<style scoped>\n",
       "    .dataframe tbody tr th:only-of-type {\n",
       "        vertical-align: middle;\n",
       "    }\n",
       "\n",
       "    .dataframe tbody tr th {\n",
       "        vertical-align: top;\n",
       "    }\n",
       "\n",
       "    .dataframe thead th {\n",
       "        text-align: right;\n",
       "    }\n",
       "</style>\n",
       "<table border=\"1\" class=\"dataframe\">\n",
       "  <thead>\n",
       "    <tr style=\"text-align: right;\">\n",
       "      <th></th>\n",
       "      <th>gameId</th>\n",
       "      <th>j_champ_x</th>\n",
       "      <th>t_champ_x</th>\n",
       "      <th>win_x</th>\n",
       "      <th>j_champ_y</th>\n",
       "      <th>t_champ_y</th>\n",
       "      <th>win_y</th>\n",
       "    </tr>\n",
       "  </thead>\n",
       "  <tbody>\n",
       "    <tr>\n",
       "      <th>0</th>\n",
       "      <td>KR_6604309114</td>\n",
       "      <td>MasterYi</td>\n",
       "      <td>Illaoi</td>\n",
       "      <td>True</td>\n",
       "      <td>Trundle</td>\n",
       "      <td>KSante</td>\n",
       "      <td>False</td>\n",
       "    </tr>\n",
       "    <tr>\n",
       "      <th>1</th>\n",
       "      <td>KR_6606477334</td>\n",
       "      <td>Lillia</td>\n",
       "      <td>Aatrox</td>\n",
       "      <td>False</td>\n",
       "      <td>Elise</td>\n",
       "      <td>Fiora</td>\n",
       "      <td>True</td>\n",
       "    </tr>\n",
       "    <tr>\n",
       "      <th>2</th>\n",
       "      <td>KR_6606877275</td>\n",
       "      <td>Diana</td>\n",
       "      <td>Irelia</td>\n",
       "      <td>False</td>\n",
       "      <td>Zac</td>\n",
       "      <td>Darius</td>\n",
       "      <td>True</td>\n",
       "    </tr>\n",
       "    <tr>\n",
       "      <th>3</th>\n",
       "      <td>KR_6606923700</td>\n",
       "      <td>Sejuani</td>\n",
       "      <td>Varus</td>\n",
       "      <td>True</td>\n",
       "      <td>LeeSin</td>\n",
       "      <td>Yone</td>\n",
       "      <td>False</td>\n",
       "    </tr>\n",
       "    <tr>\n",
       "      <th>4</th>\n",
       "      <td>KR_6607288080</td>\n",
       "      <td>Sylas</td>\n",
       "      <td>Aatrox</td>\n",
       "      <td>False</td>\n",
       "      <td>Karthus</td>\n",
       "      <td>Olaf</td>\n",
       "      <td>True</td>\n",
       "    </tr>\n",
       "    <tr>\n",
       "      <th>...</th>\n",
       "      <td>...</td>\n",
       "      <td>...</td>\n",
       "      <td>...</td>\n",
       "      <td>...</td>\n",
       "      <td>...</td>\n",
       "      <td>...</td>\n",
       "      <td>...</td>\n",
       "    </tr>\n",
       "    <tr>\n",
       "      <th>5645</th>\n",
       "      <td>KR_6871466214</td>\n",
       "      <td>Sylas</td>\n",
       "      <td>Renekton</td>\n",
       "      <td>False</td>\n",
       "      <td>Evelynn</td>\n",
       "      <td>Yasuo</td>\n",
       "      <td>True</td>\n",
       "    </tr>\n",
       "    <tr>\n",
       "      <th>5646</th>\n",
       "      <td>KR_6871473519</td>\n",
       "      <td>Darius</td>\n",
       "      <td>Renekton</td>\n",
       "      <td>True</td>\n",
       "      <td>JarvanIV</td>\n",
       "      <td>Irelia</td>\n",
       "      <td>False</td>\n",
       "    </tr>\n",
       "    <tr>\n",
       "      <th>5647</th>\n",
       "      <td>KR_6871487336</td>\n",
       "      <td>Nocturne</td>\n",
       "      <td>Renekton</td>\n",
       "      <td>False</td>\n",
       "      <td>Graves</td>\n",
       "      <td>Irelia</td>\n",
       "      <td>True</td>\n",
       "    </tr>\n",
       "    <tr>\n",
       "      <th>5648</th>\n",
       "      <td>KR_6871491916</td>\n",
       "      <td>Briar</td>\n",
       "      <td>Shaco</td>\n",
       "      <td>False</td>\n",
       "      <td>Shaco</td>\n",
       "      <td>Irelia</td>\n",
       "      <td>True</td>\n",
       "    </tr>\n",
       "    <tr>\n",
       "      <th>5649</th>\n",
       "      <td>KR_6871519263</td>\n",
       "      <td>Singed</td>\n",
       "      <td>Jax</td>\n",
       "      <td>True</td>\n",
       "      <td>Graves</td>\n",
       "      <td>Nasus</td>\n",
       "      <td>False</td>\n",
       "    </tr>\n",
       "  </tbody>\n",
       "</table>\n",
       "<p>5650 rows × 7 columns</p>\n",
       "</div>"
      ],
      "text/plain": [
       "             gameId j_champ_x t_champ_x  win_x j_champ_y t_champ_y  win_y\n",
       "0     KR_6604309114  MasterYi    Illaoi   True   Trundle    KSante  False\n",
       "1     KR_6606477334    Lillia    Aatrox  False     Elise     Fiora   True\n",
       "2     KR_6606877275     Diana    Irelia  False       Zac    Darius   True\n",
       "3     KR_6606923700   Sejuani     Varus   True    LeeSin      Yone  False\n",
       "4     KR_6607288080     Sylas    Aatrox  False   Karthus      Olaf   True\n",
       "...             ...       ...       ...    ...       ...       ...    ...\n",
       "5645  KR_6871466214     Sylas  Renekton  False   Evelynn     Yasuo   True\n",
       "5646  KR_6871473519    Darius  Renekton   True  JarvanIV    Irelia  False\n",
       "5647  KR_6871487336  Nocturne  Renekton  False    Graves    Irelia   True\n",
       "5648  KR_6871491916     Briar     Shaco  False     Shaco    Irelia   True\n",
       "5649  KR_6871519263    Singed       Jax   True    Graves     Nasus  False\n",
       "\n",
       "[5650 rows x 7 columns]"
      ]
     },
     "execution_count": 319,
     "metadata": {},
     "output_type": "execute_result"
    }
   ],
   "source": [
    "blue_team"
   ]
  },
  {
   "cell_type": "code",
   "execution_count": 325,
   "id": "2ba30fb1",
   "metadata": {},
   "outputs": [],
   "source": [
    "blue_team.columns =['gameId','j_champ','t_champ','win','enemy_j_champ','enemy_t_champ','win']"
   ]
  },
  {
   "cell_type": "code",
   "execution_count": 326,
   "id": "1e0d341b",
   "metadata": {},
   "outputs": [
    {
     "data": {
      "text/html": [
       "<div>\n",
       "<style scoped>\n",
       "    .dataframe tbody tr th:only-of-type {\n",
       "        vertical-align: middle;\n",
       "    }\n",
       "\n",
       "    .dataframe tbody tr th {\n",
       "        vertical-align: top;\n",
       "    }\n",
       "\n",
       "    .dataframe thead th {\n",
       "        text-align: right;\n",
       "    }\n",
       "</style>\n",
       "<table border=\"1\" class=\"dataframe\">\n",
       "  <thead>\n",
       "    <tr style=\"text-align: right;\">\n",
       "      <th></th>\n",
       "      <th>gameId</th>\n",
       "      <th>j_champ</th>\n",
       "      <th>t_champ</th>\n",
       "      <th>win</th>\n",
       "      <th>enemy_j_champ</th>\n",
       "      <th>enemy_t_champ</th>\n",
       "      <th>win</th>\n",
       "    </tr>\n",
       "  </thead>\n",
       "  <tbody>\n",
       "    <tr>\n",
       "      <th>0</th>\n",
       "      <td>KR_6604309114</td>\n",
       "      <td>MasterYi</td>\n",
       "      <td>Illaoi</td>\n",
       "      <td>True</td>\n",
       "      <td>Trundle</td>\n",
       "      <td>KSante</td>\n",
       "      <td>False</td>\n",
       "    </tr>\n",
       "    <tr>\n",
       "      <th>1</th>\n",
       "      <td>KR_6606477334</td>\n",
       "      <td>Lillia</td>\n",
       "      <td>Aatrox</td>\n",
       "      <td>False</td>\n",
       "      <td>Elise</td>\n",
       "      <td>Fiora</td>\n",
       "      <td>True</td>\n",
       "    </tr>\n",
       "    <tr>\n",
       "      <th>2</th>\n",
       "      <td>KR_6606877275</td>\n",
       "      <td>Diana</td>\n",
       "      <td>Irelia</td>\n",
       "      <td>False</td>\n",
       "      <td>Zac</td>\n",
       "      <td>Darius</td>\n",
       "      <td>True</td>\n",
       "    </tr>\n",
       "    <tr>\n",
       "      <th>3</th>\n",
       "      <td>KR_6606923700</td>\n",
       "      <td>Sejuani</td>\n",
       "      <td>Varus</td>\n",
       "      <td>True</td>\n",
       "      <td>LeeSin</td>\n",
       "      <td>Yone</td>\n",
       "      <td>False</td>\n",
       "    </tr>\n",
       "    <tr>\n",
       "      <th>4</th>\n",
       "      <td>KR_6607288080</td>\n",
       "      <td>Sylas</td>\n",
       "      <td>Aatrox</td>\n",
       "      <td>False</td>\n",
       "      <td>Karthus</td>\n",
       "      <td>Olaf</td>\n",
       "      <td>True</td>\n",
       "    </tr>\n",
       "    <tr>\n",
       "      <th>...</th>\n",
       "      <td>...</td>\n",
       "      <td>...</td>\n",
       "      <td>...</td>\n",
       "      <td>...</td>\n",
       "      <td>...</td>\n",
       "      <td>...</td>\n",
       "      <td>...</td>\n",
       "    </tr>\n",
       "    <tr>\n",
       "      <th>5645</th>\n",
       "      <td>KR_6871466214</td>\n",
       "      <td>Sylas</td>\n",
       "      <td>Renekton</td>\n",
       "      <td>False</td>\n",
       "      <td>Evelynn</td>\n",
       "      <td>Yasuo</td>\n",
       "      <td>True</td>\n",
       "    </tr>\n",
       "    <tr>\n",
       "      <th>5646</th>\n",
       "      <td>KR_6871473519</td>\n",
       "      <td>Darius</td>\n",
       "      <td>Renekton</td>\n",
       "      <td>True</td>\n",
       "      <td>JarvanIV</td>\n",
       "      <td>Irelia</td>\n",
       "      <td>False</td>\n",
       "    </tr>\n",
       "    <tr>\n",
       "      <th>5647</th>\n",
       "      <td>KR_6871487336</td>\n",
       "      <td>Nocturne</td>\n",
       "      <td>Renekton</td>\n",
       "      <td>False</td>\n",
       "      <td>Graves</td>\n",
       "      <td>Irelia</td>\n",
       "      <td>True</td>\n",
       "    </tr>\n",
       "    <tr>\n",
       "      <th>5648</th>\n",
       "      <td>KR_6871491916</td>\n",
       "      <td>Briar</td>\n",
       "      <td>Shaco</td>\n",
       "      <td>False</td>\n",
       "      <td>Shaco</td>\n",
       "      <td>Irelia</td>\n",
       "      <td>True</td>\n",
       "    </tr>\n",
       "    <tr>\n",
       "      <th>5649</th>\n",
       "      <td>KR_6871519263</td>\n",
       "      <td>Singed</td>\n",
       "      <td>Jax</td>\n",
       "      <td>True</td>\n",
       "      <td>Graves</td>\n",
       "      <td>Nasus</td>\n",
       "      <td>False</td>\n",
       "    </tr>\n",
       "  </tbody>\n",
       "</table>\n",
       "<p>5650 rows × 7 columns</p>\n",
       "</div>"
      ],
      "text/plain": [
       "             gameId   j_champ   t_champ    win enemy_j_champ enemy_t_champ  \\\n",
       "0     KR_6604309114  MasterYi    Illaoi   True       Trundle        KSante   \n",
       "1     KR_6606477334    Lillia    Aatrox  False         Elise         Fiora   \n",
       "2     KR_6606877275     Diana    Irelia  False           Zac        Darius   \n",
       "3     KR_6606923700   Sejuani     Varus   True        LeeSin          Yone   \n",
       "4     KR_6607288080     Sylas    Aatrox  False       Karthus          Olaf   \n",
       "...             ...       ...       ...    ...           ...           ...   \n",
       "5645  KR_6871466214     Sylas  Renekton  False       Evelynn         Yasuo   \n",
       "5646  KR_6871473519    Darius  Renekton   True      JarvanIV        Irelia   \n",
       "5647  KR_6871487336  Nocturne  Renekton  False        Graves        Irelia   \n",
       "5648  KR_6871491916     Briar     Shaco  False         Shaco        Irelia   \n",
       "5649  KR_6871519263    Singed       Jax   True        Graves         Nasus   \n",
       "\n",
       "        win  \n",
       "0     False  \n",
       "1      True  \n",
       "2      True  \n",
       "3     False  \n",
       "4      True  \n",
       "...     ...  \n",
       "5645   True  \n",
       "5646  False  \n",
       "5647   True  \n",
       "5648   True  \n",
       "5649  False  \n",
       "\n",
       "[5650 rows x 7 columns]"
      ]
     },
     "execution_count": 326,
     "metadata": {},
     "output_type": "execute_result"
    }
   ],
   "source": [
    "blue_team"
   ]
  },
  {
   "cell_type": "code",
   "execution_count": 327,
   "id": "10f12d7c",
   "metadata": {},
   "outputs": [],
   "source": [
    "red_team = enemy_red.merge(enemy_blue,on = ('gameId'))"
   ]
  },
  {
   "cell_type": "code",
   "execution_count": 328,
   "id": "8b8b9975",
   "metadata": {},
   "outputs": [
    {
     "data": {
      "text/html": [
       "<div>\n",
       "<style scoped>\n",
       "    .dataframe tbody tr th:only-of-type {\n",
       "        vertical-align: middle;\n",
       "    }\n",
       "\n",
       "    .dataframe tbody tr th {\n",
       "        vertical-align: top;\n",
       "    }\n",
       "\n",
       "    .dataframe thead th {\n",
       "        text-align: right;\n",
       "    }\n",
       "</style>\n",
       "<table border=\"1\" class=\"dataframe\">\n",
       "  <thead>\n",
       "    <tr style=\"text-align: right;\">\n",
       "      <th></th>\n",
       "      <th>gameId</th>\n",
       "      <th>j_champ_x</th>\n",
       "      <th>t_champ_x</th>\n",
       "      <th>win_x</th>\n",
       "      <th>j_champ_y</th>\n",
       "      <th>t_champ_y</th>\n",
       "      <th>win_y</th>\n",
       "    </tr>\n",
       "  </thead>\n",
       "  <tbody>\n",
       "    <tr>\n",
       "      <th>0</th>\n",
       "      <td>KR_6604309114</td>\n",
       "      <td>Trundle</td>\n",
       "      <td>KSante</td>\n",
       "      <td>False</td>\n",
       "      <td>MasterYi</td>\n",
       "      <td>Illaoi</td>\n",
       "      <td>True</td>\n",
       "    </tr>\n",
       "    <tr>\n",
       "      <th>1</th>\n",
       "      <td>KR_6606477334</td>\n",
       "      <td>Elise</td>\n",
       "      <td>Fiora</td>\n",
       "      <td>True</td>\n",
       "      <td>Lillia</td>\n",
       "      <td>Aatrox</td>\n",
       "      <td>False</td>\n",
       "    </tr>\n",
       "    <tr>\n",
       "      <th>2</th>\n",
       "      <td>KR_6606877275</td>\n",
       "      <td>Zac</td>\n",
       "      <td>Darius</td>\n",
       "      <td>True</td>\n",
       "      <td>Diana</td>\n",
       "      <td>Irelia</td>\n",
       "      <td>False</td>\n",
       "    </tr>\n",
       "    <tr>\n",
       "      <th>3</th>\n",
       "      <td>KR_6606923700</td>\n",
       "      <td>LeeSin</td>\n",
       "      <td>Yone</td>\n",
       "      <td>False</td>\n",
       "      <td>Sejuani</td>\n",
       "      <td>Varus</td>\n",
       "      <td>True</td>\n",
       "    </tr>\n",
       "    <tr>\n",
       "      <th>4</th>\n",
       "      <td>KR_6607288080</td>\n",
       "      <td>Karthus</td>\n",
       "      <td>Olaf</td>\n",
       "      <td>True</td>\n",
       "      <td>Sylas</td>\n",
       "      <td>Aatrox</td>\n",
       "      <td>False</td>\n",
       "    </tr>\n",
       "    <tr>\n",
       "      <th>...</th>\n",
       "      <td>...</td>\n",
       "      <td>...</td>\n",
       "      <td>...</td>\n",
       "      <td>...</td>\n",
       "      <td>...</td>\n",
       "      <td>...</td>\n",
       "      <td>...</td>\n",
       "    </tr>\n",
       "    <tr>\n",
       "      <th>5645</th>\n",
       "      <td>KR_6871466214</td>\n",
       "      <td>Evelynn</td>\n",
       "      <td>Yasuo</td>\n",
       "      <td>True</td>\n",
       "      <td>Sylas</td>\n",
       "      <td>Renekton</td>\n",
       "      <td>False</td>\n",
       "    </tr>\n",
       "    <tr>\n",
       "      <th>5646</th>\n",
       "      <td>KR_6871473519</td>\n",
       "      <td>JarvanIV</td>\n",
       "      <td>Irelia</td>\n",
       "      <td>False</td>\n",
       "      <td>Darius</td>\n",
       "      <td>Renekton</td>\n",
       "      <td>True</td>\n",
       "    </tr>\n",
       "    <tr>\n",
       "      <th>5647</th>\n",
       "      <td>KR_6871487336</td>\n",
       "      <td>Graves</td>\n",
       "      <td>Irelia</td>\n",
       "      <td>True</td>\n",
       "      <td>Nocturne</td>\n",
       "      <td>Renekton</td>\n",
       "      <td>False</td>\n",
       "    </tr>\n",
       "    <tr>\n",
       "      <th>5648</th>\n",
       "      <td>KR_6871491916</td>\n",
       "      <td>Shaco</td>\n",
       "      <td>Irelia</td>\n",
       "      <td>True</td>\n",
       "      <td>Briar</td>\n",
       "      <td>Shaco</td>\n",
       "      <td>False</td>\n",
       "    </tr>\n",
       "    <tr>\n",
       "      <th>5649</th>\n",
       "      <td>KR_6871519263</td>\n",
       "      <td>Graves</td>\n",
       "      <td>Nasus</td>\n",
       "      <td>False</td>\n",
       "      <td>Singed</td>\n",
       "      <td>Jax</td>\n",
       "      <td>True</td>\n",
       "    </tr>\n",
       "  </tbody>\n",
       "</table>\n",
       "<p>5650 rows × 7 columns</p>\n",
       "</div>"
      ],
      "text/plain": [
       "             gameId j_champ_x t_champ_x  win_x j_champ_y t_champ_y  win_y\n",
       "0     KR_6604309114   Trundle    KSante  False  MasterYi    Illaoi   True\n",
       "1     KR_6606477334     Elise     Fiora   True    Lillia    Aatrox  False\n",
       "2     KR_6606877275       Zac    Darius   True     Diana    Irelia  False\n",
       "3     KR_6606923700    LeeSin      Yone  False   Sejuani     Varus   True\n",
       "4     KR_6607288080   Karthus      Olaf   True     Sylas    Aatrox  False\n",
       "...             ...       ...       ...    ...       ...       ...    ...\n",
       "5645  KR_6871466214   Evelynn     Yasuo   True     Sylas  Renekton  False\n",
       "5646  KR_6871473519  JarvanIV    Irelia  False    Darius  Renekton   True\n",
       "5647  KR_6871487336    Graves    Irelia   True  Nocturne  Renekton  False\n",
       "5648  KR_6871491916     Shaco    Irelia   True     Briar     Shaco  False\n",
       "5649  KR_6871519263    Graves     Nasus  False    Singed       Jax   True\n",
       "\n",
       "[5650 rows x 7 columns]"
      ]
     },
     "execution_count": 328,
     "metadata": {},
     "output_type": "execute_result"
    }
   ],
   "source": [
    "red_team"
   ]
  },
  {
   "cell_type": "code",
   "execution_count": 329,
   "id": "22044e5e",
   "metadata": {},
   "outputs": [],
   "source": [
    "red_team.columns =['gameId','j_champ','t_champ','win','enemy_j_champ','enemy_t_champ','win']"
   ]
  },
  {
   "cell_type": "code",
   "execution_count": 330,
   "id": "4644a7bf",
   "metadata": {},
   "outputs": [
    {
     "data": {
      "text/html": [
       "<div>\n",
       "<style scoped>\n",
       "    .dataframe tbody tr th:only-of-type {\n",
       "        vertical-align: middle;\n",
       "    }\n",
       "\n",
       "    .dataframe tbody tr th {\n",
       "        vertical-align: top;\n",
       "    }\n",
       "\n",
       "    .dataframe thead th {\n",
       "        text-align: right;\n",
       "    }\n",
       "</style>\n",
       "<table border=\"1\" class=\"dataframe\">\n",
       "  <thead>\n",
       "    <tr style=\"text-align: right;\">\n",
       "      <th></th>\n",
       "      <th>gameId</th>\n",
       "      <th>j_champ</th>\n",
       "      <th>t_champ</th>\n",
       "      <th>win</th>\n",
       "      <th>enemy_j_champ</th>\n",
       "      <th>enemy_t_champ</th>\n",
       "      <th>win</th>\n",
       "    </tr>\n",
       "  </thead>\n",
       "  <tbody>\n",
       "    <tr>\n",
       "      <th>0</th>\n",
       "      <td>KR_6604309114</td>\n",
       "      <td>Trundle</td>\n",
       "      <td>KSante</td>\n",
       "      <td>False</td>\n",
       "      <td>MasterYi</td>\n",
       "      <td>Illaoi</td>\n",
       "      <td>True</td>\n",
       "    </tr>\n",
       "    <tr>\n",
       "      <th>1</th>\n",
       "      <td>KR_6606477334</td>\n",
       "      <td>Elise</td>\n",
       "      <td>Fiora</td>\n",
       "      <td>True</td>\n",
       "      <td>Lillia</td>\n",
       "      <td>Aatrox</td>\n",
       "      <td>False</td>\n",
       "    </tr>\n",
       "    <tr>\n",
       "      <th>2</th>\n",
       "      <td>KR_6606877275</td>\n",
       "      <td>Zac</td>\n",
       "      <td>Darius</td>\n",
       "      <td>True</td>\n",
       "      <td>Diana</td>\n",
       "      <td>Irelia</td>\n",
       "      <td>False</td>\n",
       "    </tr>\n",
       "    <tr>\n",
       "      <th>3</th>\n",
       "      <td>KR_6606923700</td>\n",
       "      <td>LeeSin</td>\n",
       "      <td>Yone</td>\n",
       "      <td>False</td>\n",
       "      <td>Sejuani</td>\n",
       "      <td>Varus</td>\n",
       "      <td>True</td>\n",
       "    </tr>\n",
       "    <tr>\n",
       "      <th>4</th>\n",
       "      <td>KR_6607288080</td>\n",
       "      <td>Karthus</td>\n",
       "      <td>Olaf</td>\n",
       "      <td>True</td>\n",
       "      <td>Sylas</td>\n",
       "      <td>Aatrox</td>\n",
       "      <td>False</td>\n",
       "    </tr>\n",
       "    <tr>\n",
       "      <th>...</th>\n",
       "      <td>...</td>\n",
       "      <td>...</td>\n",
       "      <td>...</td>\n",
       "      <td>...</td>\n",
       "      <td>...</td>\n",
       "      <td>...</td>\n",
       "      <td>...</td>\n",
       "    </tr>\n",
       "    <tr>\n",
       "      <th>5645</th>\n",
       "      <td>KR_6871466214</td>\n",
       "      <td>Evelynn</td>\n",
       "      <td>Yasuo</td>\n",
       "      <td>True</td>\n",
       "      <td>Sylas</td>\n",
       "      <td>Renekton</td>\n",
       "      <td>False</td>\n",
       "    </tr>\n",
       "    <tr>\n",
       "      <th>5646</th>\n",
       "      <td>KR_6871473519</td>\n",
       "      <td>JarvanIV</td>\n",
       "      <td>Irelia</td>\n",
       "      <td>False</td>\n",
       "      <td>Darius</td>\n",
       "      <td>Renekton</td>\n",
       "      <td>True</td>\n",
       "    </tr>\n",
       "    <tr>\n",
       "      <th>5647</th>\n",
       "      <td>KR_6871487336</td>\n",
       "      <td>Graves</td>\n",
       "      <td>Irelia</td>\n",
       "      <td>True</td>\n",
       "      <td>Nocturne</td>\n",
       "      <td>Renekton</td>\n",
       "      <td>False</td>\n",
       "    </tr>\n",
       "    <tr>\n",
       "      <th>5648</th>\n",
       "      <td>KR_6871491916</td>\n",
       "      <td>Shaco</td>\n",
       "      <td>Irelia</td>\n",
       "      <td>True</td>\n",
       "      <td>Briar</td>\n",
       "      <td>Shaco</td>\n",
       "      <td>False</td>\n",
       "    </tr>\n",
       "    <tr>\n",
       "      <th>5649</th>\n",
       "      <td>KR_6871519263</td>\n",
       "      <td>Graves</td>\n",
       "      <td>Nasus</td>\n",
       "      <td>False</td>\n",
       "      <td>Singed</td>\n",
       "      <td>Jax</td>\n",
       "      <td>True</td>\n",
       "    </tr>\n",
       "  </tbody>\n",
       "</table>\n",
       "<p>5650 rows × 7 columns</p>\n",
       "</div>"
      ],
      "text/plain": [
       "             gameId   j_champ t_champ    win enemy_j_champ enemy_t_champ  \\\n",
       "0     KR_6604309114   Trundle  KSante  False      MasterYi        Illaoi   \n",
       "1     KR_6606477334     Elise   Fiora   True        Lillia        Aatrox   \n",
       "2     KR_6606877275       Zac  Darius   True         Diana        Irelia   \n",
       "3     KR_6606923700    LeeSin    Yone  False       Sejuani         Varus   \n",
       "4     KR_6607288080   Karthus    Olaf   True         Sylas        Aatrox   \n",
       "...             ...       ...     ...    ...           ...           ...   \n",
       "5645  KR_6871466214   Evelynn   Yasuo   True         Sylas      Renekton   \n",
       "5646  KR_6871473519  JarvanIV  Irelia  False        Darius      Renekton   \n",
       "5647  KR_6871487336    Graves  Irelia   True      Nocturne      Renekton   \n",
       "5648  KR_6871491916     Shaco  Irelia   True         Briar         Shaco   \n",
       "5649  KR_6871519263    Graves   Nasus  False        Singed           Jax   \n",
       "\n",
       "        win  \n",
       "0      True  \n",
       "1     False  \n",
       "2     False  \n",
       "3      True  \n",
       "4     False  \n",
       "...     ...  \n",
       "5645  False  \n",
       "5646   True  \n",
       "5647  False  \n",
       "5648  False  \n",
       "5649   True  \n",
       "\n",
       "[5650 rows x 7 columns]"
      ]
     },
     "execution_count": 330,
     "metadata": {},
     "output_type": "execute_result"
    }
   ],
   "source": [
    "red_team"
   ]
  },
  {
   "cell_type": "code",
   "execution_count": 331,
   "id": "79284635",
   "metadata": {},
   "outputs": [],
   "source": [
    "team_df = pd.concat([blue_team, red_team])"
   ]
  },
  {
   "cell_type": "code",
   "execution_count": 332,
   "id": "17cc43f2",
   "metadata": {},
   "outputs": [
    {
     "data": {
      "text/html": [
       "<div>\n",
       "<style scoped>\n",
       "    .dataframe tbody tr th:only-of-type {\n",
       "        vertical-align: middle;\n",
       "    }\n",
       "\n",
       "    .dataframe tbody tr th {\n",
       "        vertical-align: top;\n",
       "    }\n",
       "\n",
       "    .dataframe thead th {\n",
       "        text-align: right;\n",
       "    }\n",
       "</style>\n",
       "<table border=\"1\" class=\"dataframe\">\n",
       "  <thead>\n",
       "    <tr style=\"text-align: right;\">\n",
       "      <th></th>\n",
       "      <th>gameId</th>\n",
       "      <th>j_champ</th>\n",
       "      <th>t_champ</th>\n",
       "      <th>win</th>\n",
       "      <th>enemy_j_champ</th>\n",
       "      <th>enemy_t_champ</th>\n",
       "      <th>win</th>\n",
       "    </tr>\n",
       "  </thead>\n",
       "  <tbody>\n",
       "    <tr>\n",
       "      <th>0</th>\n",
       "      <td>KR_6604309114</td>\n",
       "      <td>MasterYi</td>\n",
       "      <td>Illaoi</td>\n",
       "      <td>True</td>\n",
       "      <td>Trundle</td>\n",
       "      <td>KSante</td>\n",
       "      <td>False</td>\n",
       "    </tr>\n",
       "    <tr>\n",
       "      <th>1</th>\n",
       "      <td>KR_6606477334</td>\n",
       "      <td>Lillia</td>\n",
       "      <td>Aatrox</td>\n",
       "      <td>False</td>\n",
       "      <td>Elise</td>\n",
       "      <td>Fiora</td>\n",
       "      <td>True</td>\n",
       "    </tr>\n",
       "    <tr>\n",
       "      <th>2</th>\n",
       "      <td>KR_6606877275</td>\n",
       "      <td>Diana</td>\n",
       "      <td>Irelia</td>\n",
       "      <td>False</td>\n",
       "      <td>Zac</td>\n",
       "      <td>Darius</td>\n",
       "      <td>True</td>\n",
       "    </tr>\n",
       "    <tr>\n",
       "      <th>3</th>\n",
       "      <td>KR_6606923700</td>\n",
       "      <td>Sejuani</td>\n",
       "      <td>Varus</td>\n",
       "      <td>True</td>\n",
       "      <td>LeeSin</td>\n",
       "      <td>Yone</td>\n",
       "      <td>False</td>\n",
       "    </tr>\n",
       "    <tr>\n",
       "      <th>4</th>\n",
       "      <td>KR_6607288080</td>\n",
       "      <td>Sylas</td>\n",
       "      <td>Aatrox</td>\n",
       "      <td>False</td>\n",
       "      <td>Karthus</td>\n",
       "      <td>Olaf</td>\n",
       "      <td>True</td>\n",
       "    </tr>\n",
       "    <tr>\n",
       "      <th>...</th>\n",
       "      <td>...</td>\n",
       "      <td>...</td>\n",
       "      <td>...</td>\n",
       "      <td>...</td>\n",
       "      <td>...</td>\n",
       "      <td>...</td>\n",
       "      <td>...</td>\n",
       "    </tr>\n",
       "    <tr>\n",
       "      <th>5645</th>\n",
       "      <td>KR_6871466214</td>\n",
       "      <td>Evelynn</td>\n",
       "      <td>Yasuo</td>\n",
       "      <td>True</td>\n",
       "      <td>Sylas</td>\n",
       "      <td>Renekton</td>\n",
       "      <td>False</td>\n",
       "    </tr>\n",
       "    <tr>\n",
       "      <th>5646</th>\n",
       "      <td>KR_6871473519</td>\n",
       "      <td>JarvanIV</td>\n",
       "      <td>Irelia</td>\n",
       "      <td>False</td>\n",
       "      <td>Darius</td>\n",
       "      <td>Renekton</td>\n",
       "      <td>True</td>\n",
       "    </tr>\n",
       "    <tr>\n",
       "      <th>5647</th>\n",
       "      <td>KR_6871487336</td>\n",
       "      <td>Graves</td>\n",
       "      <td>Irelia</td>\n",
       "      <td>True</td>\n",
       "      <td>Nocturne</td>\n",
       "      <td>Renekton</td>\n",
       "      <td>False</td>\n",
       "    </tr>\n",
       "    <tr>\n",
       "      <th>5648</th>\n",
       "      <td>KR_6871491916</td>\n",
       "      <td>Shaco</td>\n",
       "      <td>Irelia</td>\n",
       "      <td>True</td>\n",
       "      <td>Briar</td>\n",
       "      <td>Shaco</td>\n",
       "      <td>False</td>\n",
       "    </tr>\n",
       "    <tr>\n",
       "      <th>5649</th>\n",
       "      <td>KR_6871519263</td>\n",
       "      <td>Graves</td>\n",
       "      <td>Nasus</td>\n",
       "      <td>False</td>\n",
       "      <td>Singed</td>\n",
       "      <td>Jax</td>\n",
       "      <td>True</td>\n",
       "    </tr>\n",
       "  </tbody>\n",
       "</table>\n",
       "<p>11300 rows × 7 columns</p>\n",
       "</div>"
      ],
      "text/plain": [
       "             gameId   j_champ t_champ    win enemy_j_champ enemy_t_champ  \\\n",
       "0     KR_6604309114  MasterYi  Illaoi   True       Trundle        KSante   \n",
       "1     KR_6606477334    Lillia  Aatrox  False         Elise         Fiora   \n",
       "2     KR_6606877275     Diana  Irelia  False           Zac        Darius   \n",
       "3     KR_6606923700   Sejuani   Varus   True        LeeSin          Yone   \n",
       "4     KR_6607288080     Sylas  Aatrox  False       Karthus          Olaf   \n",
       "...             ...       ...     ...    ...           ...           ...   \n",
       "5645  KR_6871466214   Evelynn   Yasuo   True         Sylas      Renekton   \n",
       "5646  KR_6871473519  JarvanIV  Irelia  False        Darius      Renekton   \n",
       "5647  KR_6871487336    Graves  Irelia   True      Nocturne      Renekton   \n",
       "5648  KR_6871491916     Shaco  Irelia   True         Briar         Shaco   \n",
       "5649  KR_6871519263    Graves   Nasus  False        Singed           Jax   \n",
       "\n",
       "        win  \n",
       "0     False  \n",
       "1      True  \n",
       "2      True  \n",
       "3     False  \n",
       "4      True  \n",
       "...     ...  \n",
       "5645  False  \n",
       "5646   True  \n",
       "5647  False  \n",
       "5648  False  \n",
       "5649   True  \n",
       "\n",
       "[11300 rows x 7 columns]"
      ]
     },
     "execution_count": 332,
     "metadata": {},
     "output_type": "execute_result"
    }
   ],
   "source": [
    "team_df"
   ]
  },
  {
   "cell_type": "code",
   "execution_count": null,
   "id": "8f534b06",
   "metadata": {},
   "outputs": [],
   "source": []
  },
  {
   "cell_type": "code",
   "execution_count": null,
   "id": "f20ba904",
   "metadata": {},
   "outputs": [],
   "source": []
  },
  {
   "cell_type": "code",
   "execution_count": null,
   "id": "7ba9d296",
   "metadata": {},
   "outputs": [],
   "source": []
  }
 ],
 "metadata": {
  "kernelspec": {
   "display_name": "Python 3 (ipykernel)",
   "language": "python",
   "name": "python3"
  },
  "language_info": {
   "codemirror_mode": {
    "name": "ipython",
    "version": 3
   },
   "file_extension": ".py",
   "mimetype": "text/x-python",
   "name": "python",
   "nbconvert_exporter": "python",
   "pygments_lexer": "ipython3",
   "version": "3.11.5"
  }
 },
 "nbformat": 4,
 "nbformat_minor": 5
}
