{
 "cells": [
  {
   "cell_type": "code",
   "execution_count": 4,
   "id": "93cd07e6",
   "metadata": {},
   "outputs": [
    {
     "data": {
      "text/plain": [
       "2"
      ]
     },
     "execution_count": 4,
     "metadata": {},
     "output_type": "execute_result"
    }
   ],
   "source": [
    "1+1"
   ]
  },
  {
   "cell_type": "code",
   "execution_count": 6,
   "id": "084e44b4",
   "metadata": {},
   "outputs": [],
   "source": [
    "a=1"
   ]
  },
  {
   "cell_type": "code",
   "execution_count": 7,
   "id": "53f94b25",
   "metadata": {},
   "outputs": [],
   "source": [
    "b=1"
   ]
  },
  {
   "cell_type": "code",
   "execution_count": 8,
   "id": "ecbe2dc5",
   "metadata": {},
   "outputs": [
    {
     "data": {
      "text/plain": [
       "2"
      ]
     },
     "execution_count": 8,
     "metadata": {},
     "output_type": "execute_result"
    }
   ],
   "source": [
    "a+b"
   ]
  },
  {
   "cell_type": "code",
   "execution_count": 9,
   "id": "fa134bdf",
   "metadata": {},
   "outputs": [],
   "source": [
    "a=10"
   ]
  },
  {
   "cell_type": "code",
   "execution_count": 10,
   "id": "0a06b2e6",
   "metadata": {},
   "outputs": [],
   "source": [
    "b=20"
   ]
  },
  {
   "cell_type": "code",
   "execution_count": 11,
   "id": "8994b0ef",
   "metadata": {},
   "outputs": [
    {
     "data": {
      "text/plain": [
       "-10"
      ]
     },
     "execution_count": 11,
     "metadata": {},
     "output_type": "execute_result"
    }
   ],
   "source": [
    "a-b"
   ]
  },
  {
   "cell_type": "code",
   "execution_count": 12,
   "id": "2d6beae0",
   "metadata": {},
   "outputs": [
    {
     "data": {
      "text/plain": [
       "200"
      ]
     },
     "execution_count": 12,
     "metadata": {},
     "output_type": "execute_result"
    }
   ],
   "source": [
    "a*b"
   ]
  },
  {
   "cell_type": "code",
   "execution_count": 13,
   "id": "54051ffb",
   "metadata": {},
   "outputs": [
    {
     "data": {
      "text/plain": [
       "0.5"
      ]
     },
     "execution_count": 13,
     "metadata": {},
     "output_type": "execute_result"
    }
   ],
   "source": [
    "a/b"
   ]
  },
  {
   "cell_type": "code",
   "execution_count": 14,
   "id": "f14469a2",
   "metadata": {},
   "outputs": [],
   "source": [
    "c=2"
   ]
  },
  {
   "cell_type": "code",
   "execution_count": 15,
   "id": "0ae896c3",
   "metadata": {},
   "outputs": [
    {
     "data": {
      "text/plain": [
       "100"
      ]
     },
     "execution_count": 15,
     "metadata": {},
     "output_type": "execute_result"
    }
   ],
   "source": [
    "a**c"
   ]
  },
  {
   "cell_type": "code",
   "execution_count": 16,
   "id": "77c1c1c5",
   "metadata": {},
   "outputs": [
    {
     "data": {
      "text/plain": [
       "'ronaldo'"
      ]
     },
     "execution_count": 16,
     "metadata": {},
     "output_type": "execute_result"
    }
   ],
   "source": [
    "'ronaldo'"
   ]
  },
  {
   "cell_type": "code",
   "execution_count": 17,
   "id": "588af210",
   "metadata": {},
   "outputs": [
    {
     "data": {
      "text/plain": [
       "'ronaldo'"
      ]
     },
     "execution_count": 17,
     "metadata": {},
     "output_type": "execute_result"
    }
   ],
   "source": [
    "\"ronaldo\""
   ]
  },
  {
   "cell_type": "code",
   "execution_count": 18,
   "id": "17389b51",
   "metadata": {},
   "outputs": [
    {
     "data": {
      "text/plain": [
       "'You look so beutiful'"
      ]
     },
     "execution_count": 18,
     "metadata": {},
     "output_type": "execute_result"
    }
   ],
   "source": [
    "\"Life is egg\"\n",
    "\"You look so beutiful\""
   ]
  },
  {
   "cell_type": "code",
   "execution_count": 20,
   "id": "765efe6a",
   "metadata": {},
   "outputs": [],
   "source": [
    "a='ronaldo'"
   ]
  },
  {
   "cell_type": "code",
   "execution_count": 21,
   "id": "aa559f77",
   "metadata": {},
   "outputs": [],
   "source": [
    "b='siuuu'"
   ]
  },
  {
   "cell_type": "code",
   "execution_count": 22,
   "id": "89dc9002",
   "metadata": {},
   "outputs": [
    {
     "data": {
      "text/plain": [
       "5"
      ]
     },
     "execution_count": 22,
     "metadata": {},
     "output_type": "execute_result"
    }
   ],
   "source": [
    "len(b)"
   ]
  },
  {
   "cell_type": "code",
   "execution_count": 24,
   "id": "069c0c58",
   "metadata": {},
   "outputs": [],
   "source": [
    "c='Life is egg'"
   ]
  },
  {
   "cell_type": "code",
   "execution_count": 26,
   "id": "5a472a7a",
   "metadata": {},
   "outputs": [
    {
     "data": {
      "text/plain": [
       "'g'"
      ]
     },
     "execution_count": 26,
     "metadata": {},
     "output_type": "execute_result"
    }
   ],
   "source": [
    "c[-1]"
   ]
  },
  {
   "cell_type": "code",
   "execution_count": 27,
   "id": "c90c1482",
   "metadata": {},
   "outputs": [
    {
     "data": {
      "text/plain": [
       "'L'"
      ]
     },
     "execution_count": 27,
     "metadata": {},
     "output_type": "execute_result"
    }
   ],
   "source": [
    "c[0]"
   ]
  },
  {
   "cell_type": "code",
   "execution_count": 28,
   "id": "03dcef87",
   "metadata": {},
   "outputs": [
    {
     "data": {
      "text/plain": [
       "'Life'"
      ]
     },
     "execution_count": 28,
     "metadata": {},
     "output_type": "execute_result"
    }
   ],
   "source": [
    "c[0:4]"
   ]
  },
  {
   "cell_type": "code",
   "execution_count": 30,
   "id": "91d234df",
   "metadata": {},
   "outputs": [
    {
     "ename": "TypeError",
     "evalue": "slice indices must be integers or None or have an __index__ method",
     "output_type": "error",
     "traceback": [
      "\u001b[1;31m---------------------------------------------------------------------------\u001b[0m",
      "\u001b[1;31mTypeError\u001b[0m                                 Traceback (most recent call last)",
      "Cell \u001b[1;32mIn[30], line 1\u001b[0m\n\u001b[1;32m----> 1\u001b[0m c[\u001b[38;5;124m'\u001b[39m\u001b[38;5;124m'\u001b[39m:\u001b[38;5;241m-\u001b[39m\u001b[38;5;241m2\u001b[39m]\n",
      "\u001b[1;31mTypeError\u001b[0m: slice indices must be integers or None or have an __index__ method"
     ]
    }
   ],
   "source": [
    "c['':-2]"
   ]
  },
  {
   "cell_type": "code",
   "execution_count": 32,
   "id": "90dd581d",
   "metadata": {},
   "outputs": [
    {
     "data": {
      "text/plain": [
       "'I eat two banana'"
      ]
     },
     "execution_count": 32,
     "metadata": {},
     "output_type": "execute_result"
    }
   ],
   "source": [
    "\"I eat two banana\""
   ]
  },
  {
   "cell_type": "code",
   "execution_count": 33,
   "id": "bcf45174",
   "metadata": {},
   "outputs": [
    {
     "data": {
      "text/plain": [
       "'I eat five banana'"
      ]
     },
     "execution_count": 33,
     "metadata": {},
     "output_type": "execute_result"
    }
   ],
   "source": [
    "\"I eat %s banana\" % \"five\""
   ]
  },
  {
   "cell_type": "code",
   "execution_count": 34,
   "id": "aaf7dbb3",
   "metadata": {},
   "outputs": [],
   "source": [
    "a='five'"
   ]
  },
  {
   "cell_type": "code",
   "execution_count": 36,
   "id": "40b47da0",
   "metadata": {},
   "outputs": [
    {
     "data": {
      "text/plain": [
       "'I eat five banana'"
      ]
     },
     "execution_count": 36,
     "metadata": {},
     "output_type": "execute_result"
    }
   ],
   "source": [
    "\"I eat %s banana\" % a"
   ]
  },
  {
   "cell_type": "code",
   "execution_count": 37,
   "id": "86061084",
   "metadata": {},
   "outputs": [
    {
     "data": {
      "text/plain": [
       "'I eat 3 banana'"
      ]
     },
     "execution_count": 37,
     "metadata": {},
     "output_type": "execute_result"
    }
   ],
   "source": [
    "\"I eat %d banana\" % 3"
   ]
  },
  {
   "cell_type": "code",
   "execution_count": 38,
   "id": "954dea9d",
   "metadata": {},
   "outputs": [],
   "source": [
    "a='abcde'"
   ]
  },
  {
   "cell_type": "code",
   "execution_count": 40,
   "id": "a99d6211",
   "metadata": {},
   "outputs": [
    {
     "data": {
      "text/plain": [
       "1"
      ]
     },
     "execution_count": 40,
     "metadata": {},
     "output_type": "execute_result"
    }
   ],
   "source": [
    "'abcde'.count('b')"
   ]
  },
  {
   "cell_type": "code",
   "execution_count": 41,
   "id": "86685b05",
   "metadata": {},
   "outputs": [
    {
     "data": {
      "text/plain": [
       "'ABCDE'"
      ]
     },
     "execution_count": 41,
     "metadata": {},
     "output_type": "execute_result"
    }
   ],
   "source": [
    "'abcde'.upper()"
   ]
  },
  {
   "cell_type": "code",
   "execution_count": 42,
   "id": "0824eb87",
   "metadata": {},
   "outputs": [
    {
     "data": {
      "text/plain": [
       "'abcde'"
      ]
     },
     "execution_count": 42,
     "metadata": {},
     "output_type": "execute_result"
    }
   ],
   "source": [
    "'ABCDE'.lower()"
   ]
  },
  {
   "cell_type": "code",
   "execution_count": 43,
   "id": "ab81241b",
   "metadata": {},
   "outputs": [],
   "source": [
    "a='Python is best choice'"
   ]
  },
  {
   "cell_type": "code",
   "execution_count": 44,
   "id": "5557d173",
   "metadata": {},
   "outputs": [
    {
     "data": {
      "text/plain": [
       "15"
      ]
     },
     "execution_count": 44,
     "metadata": {},
     "output_type": "execute_result"
    }
   ],
   "source": [
    "a.find('c')"
   ]
  },
  {
   "cell_type": "code",
   "execution_count": 45,
   "id": "94a16218",
   "metadata": {},
   "outputs": [
    {
     "data": {
      "text/plain": [
       "15"
      ]
     },
     "execution_count": 45,
     "metadata": {},
     "output_type": "execute_result"
    }
   ],
   "source": [
    "a.index('c')"
   ]
  },
  {
   "cell_type": "code",
   "execution_count": 47,
   "id": "3843ed7e",
   "metadata": {},
   "outputs": [
    {
     "data": {
      "text/plain": [
       "'a/b/c/d'"
      ]
     },
     "execution_count": 47,
     "metadata": {},
     "output_type": "execute_result"
    }
   ],
   "source": [
    "\"/\".join('abcd')"
   ]
  },
  {
   "cell_type": "code",
   "execution_count": 54,
   "id": "07db716a",
   "metadata": {},
   "outputs": [
    {
     "data": {
      "text/plain": [
       "'보민♥지환'"
      ]
     },
     "execution_count": 54,
     "metadata": {},
     "output_type": "execute_result"
    }
   ],
   "source": [
    "\"보민 지환\".replace(' ','♥')"
   ]
  },
  {
   "cell_type": "code",
   "execution_count": 49,
   "id": "2bc2b91d",
   "metadata": {},
   "outputs": [
    {
     "data": {
      "text/plain": [
       "'기훈 지환 용현 예슬 지완'"
      ]
     },
     "execution_count": 49,
     "metadata": {},
     "output_type": "execute_result"
    }
   ],
   "source": [
    "\"태민 지환 용현 예슬 지완\".replace('태민','기훈')"
   ]
  },
  {
   "cell_type": "code",
   "execution_count": 57,
   "id": "ca2aa4b8",
   "metadata": {},
   "outputs": [
    {
     "data": {
      "text/plain": [
       "['태민', '지환', '용현', '예슬', '지완']"
      ]
     },
     "execution_count": 57,
     "metadata": {},
     "output_type": "execute_result"
    }
   ],
   "source": [
    "\"태민 지환 용현 예슬 지완\".split(' ')"
   ]
  },
  {
   "cell_type": "code",
   "execution_count": 60,
   "id": "cb70c0ca",
   "metadata": {},
   "outputs": [
    {
     "data": {
      "text/plain": [
       "['태민', '지환', '용현', '예슬', '지완']"
      ]
     },
     "execution_count": 60,
     "metadata": {},
     "output_type": "execute_result"
    }
   ],
   "source": [
    "cc"
   ]
  },
  {
   "cell_type": "code",
   "execution_count": 62,
   "id": "5c18318f",
   "metadata": {},
   "outputs": [],
   "source": [
    "d=['태민','지환','용현','예슬','지완']"
   ]
  },
  {
   "cell_type": "code",
   "execution_count": 63,
   "id": "85874419",
   "metadata": {},
   "outputs": [
    {
     "data": {
      "text/plain": [
       "['태민', '지환', '용현', '예슬', '지완']"
      ]
     },
     "execution_count": 63,
     "metadata": {},
     "output_type": "execute_result"
    }
   ],
   "source": [
    "d"
   ]
  },
  {
   "cell_type": "code",
   "execution_count": 66,
   "id": "cdaf7d6c",
   "metadata": {},
   "outputs": [
    {
     "data": {
      "text/plain": [
       "['태민', '지환', '용현', '예슬', '지완']"
      ]
     },
     "execution_count": 66,
     "metadata": {},
     "output_type": "execute_result"
    }
   ],
   "source": [
    "list(d)"
   ]
  },
  {
   "cell_type": "code",
   "execution_count": 67,
   "id": "0385a0bc",
   "metadata": {},
   "outputs": [
    {
     "data": {
      "text/plain": [
       "'태민'"
      ]
     },
     "execution_count": 67,
     "metadata": {},
     "output_type": "execute_result"
    }
   ],
   "source": [
    "d[0]"
   ]
  },
  {
   "cell_type": "code",
   "execution_count": 70,
   "id": "3af3f11f",
   "metadata": {},
   "outputs": [],
   "source": [
    "rr=['aaa',111,[1,2,3],{},{'a':'b'}]"
   ]
  },
  {
   "cell_type": "code",
   "execution_count": 72,
   "id": "ffc63a5b",
   "metadata": {},
   "outputs": [
    {
     "data": {
      "text/plain": [
       "2"
      ]
     },
     "execution_count": 72,
     "metadata": {},
     "output_type": "execute_result"
    }
   ],
   "source": [
    "rr[2][1]"
   ]
  },
  {
   "cell_type": "code",
   "execution_count": 76,
   "id": "b9461d09",
   "metadata": {},
   "outputs": [],
   "source": [
    "c=[1,2,3]\n",
    "d=[4,5,6]"
   ]
  },
  {
   "cell_type": "code",
   "execution_count": 75,
   "id": "029d55c2",
   "metadata": {},
   "outputs": [
    {
     "name": "stdout",
     "output_type": "stream",
     "text": [
      "0\n",
      "1\n",
      "2\n",
      "3\n",
      "4\n",
      "5\n",
      "6\n",
      "7\n",
      "8\n",
      "9\n"
     ]
    }
   ],
   "source": [
    "for i in range(10) : print(i)"
   ]
  },
  {
   "cell_type": "code",
   "execution_count": 77,
   "id": "9d4854e0",
   "metadata": {},
   "outputs": [
    {
     "data": {
      "text/plain": [
       "3"
      ]
     },
     "execution_count": 77,
     "metadata": {},
     "output_type": "execute_result"
    }
   ],
   "source": [
    "len(c)"
   ]
  },
  {
   "cell_type": "code",
   "execution_count": 82,
   "id": "c8ec7628",
   "metadata": {},
   "outputs": [],
   "source": [
    "c=[1,2,3]"
   ]
  },
  {
   "cell_type": "code",
   "execution_count": 84,
   "id": "6dbe4bf3",
   "metadata": {},
   "outputs": [],
   "source": [
    "c[0]=4"
   ]
  },
  {
   "cell_type": "code",
   "execution_count": 85,
   "id": "10ca5beb",
   "metadata": {},
   "outputs": [
    {
     "data": {
      "text/plain": [
       "[4, 2, 3]"
      ]
     },
     "execution_count": 85,
     "metadata": {},
     "output_type": "execute_result"
    }
   ],
   "source": [
    "c"
   ]
  },
  {
   "cell_type": "code",
   "execution_count": 86,
   "id": "57e3347c",
   "metadata": {},
   "outputs": [],
   "source": [
    "del c[1]"
   ]
  },
  {
   "cell_type": "code",
   "execution_count": 87,
   "id": "d27bc1d5",
   "metadata": {},
   "outputs": [
    {
     "data": {
      "text/plain": [
       "[4, 3]"
      ]
     },
     "execution_count": 87,
     "metadata": {},
     "output_type": "execute_result"
    }
   ],
   "source": [
    "c"
   ]
  },
  {
   "cell_type": "code",
   "execution_count": 88,
   "id": "e6fb341a",
   "metadata": {},
   "outputs": [],
   "source": [
    "c=[1,2,3,4,5,6]"
   ]
  },
  {
   "cell_type": "code",
   "execution_count": 89,
   "id": "1f8602ff",
   "metadata": {},
   "outputs": [],
   "source": [
    "del c[2:]"
   ]
  },
  {
   "cell_type": "code",
   "execution_count": 90,
   "id": "e2871a71",
   "metadata": {},
   "outputs": [
    {
     "data": {
      "text/plain": [
       "[1, 2]"
      ]
     },
     "execution_count": 90,
     "metadata": {},
     "output_type": "execute_result"
    }
   ],
   "source": [
    "c"
   ]
  },
  {
   "cell_type": "code",
   "execution_count": 92,
   "id": "17c439f9",
   "metadata": {},
   "outputs": [],
   "source": [
    "c.append(3)"
   ]
  },
  {
   "cell_type": "code",
   "execution_count": 96,
   "id": "c1b1e2cc",
   "metadata": {},
   "outputs": [],
   "source": [
    "c=[4,6,1,2]"
   ]
  },
  {
   "cell_type": "code",
   "execution_count": 97,
   "id": "f0d9cba6",
   "metadata": {},
   "outputs": [],
   "source": [
    "c.sort()"
   ]
  },
  {
   "cell_type": "code",
   "execution_count": 98,
   "id": "f437f85b",
   "metadata": {},
   "outputs": [
    {
     "data": {
      "text/plain": [
       "[1, 2, 4, 6]"
      ]
     },
     "execution_count": 98,
     "metadata": {},
     "output_type": "execute_result"
    }
   ],
   "source": [
    "c"
   ]
  },
  {
   "cell_type": "code",
   "execution_count": 99,
   "id": "da51021a",
   "metadata": {},
   "outputs": [],
   "source": [
    "c.reverse()"
   ]
  },
  {
   "cell_type": "code",
   "execution_count": 104,
   "id": "bd601eac",
   "metadata": {},
   "outputs": [
    {
     "data": {
      "text/plain": [
       "[6, 4, 2, 1]"
      ]
     },
     "execution_count": 104,
     "metadata": {},
     "output_type": "execute_result"
    }
   ],
   "source": [
    "c"
   ]
  },
  {
   "cell_type": "code",
   "execution_count": 105,
   "id": "ff1183b5",
   "metadata": {},
   "outputs": [
    {
     "data": {
      "text/plain": [
       "3"
      ]
     },
     "execution_count": 105,
     "metadata": {},
     "output_type": "execute_result"
    }
   ],
   "source": [
    "c.index(1)"
   ]
  },
  {
   "cell_type": "code",
   "execution_count": 106,
   "id": "430d8009",
   "metadata": {},
   "outputs": [],
   "source": [
    "c.insert(0,8)"
   ]
  },
  {
   "cell_type": "code",
   "execution_count": 107,
   "id": "54f652cd",
   "metadata": {},
   "outputs": [
    {
     "data": {
      "text/plain": [
       "[8, 6, 4, 2, 1]"
      ]
     },
     "execution_count": 107,
     "metadata": {},
     "output_type": "execute_result"
    }
   ],
   "source": [
    "c"
   ]
  },
  {
   "cell_type": "code",
   "execution_count": 108,
   "id": "18a2507b",
   "metadata": {},
   "outputs": [
    {
     "data": {
      "text/plain": [
       "1"
      ]
     },
     "execution_count": 108,
     "metadata": {},
     "output_type": "execute_result"
    }
   ],
   "source": [
    "c.pop()"
   ]
  },
  {
   "cell_type": "code",
   "execution_count": 109,
   "id": "752649f0",
   "metadata": {},
   "outputs": [
    {
     "data": {
      "text/plain": [
       "[8, 6, 4, 2]"
      ]
     },
     "execution_count": 109,
     "metadata": {},
     "output_type": "execute_result"
    }
   ],
   "source": [
    "c"
   ]
  },
  {
   "cell_type": "code",
   "execution_count": 110,
   "id": "33df1da6",
   "metadata": {},
   "outputs": [
    {
     "data": {
      "text/plain": [
       "6"
      ]
     },
     "execution_count": 110,
     "metadata": {},
     "output_type": "execute_result"
    }
   ],
   "source": [
    "c.pop(1)"
   ]
  },
  {
   "cell_type": "code",
   "execution_count": 111,
   "id": "19182854",
   "metadata": {},
   "outputs": [
    {
     "data": {
      "text/plain": [
       "[8, 4, 2]"
      ]
     },
     "execution_count": 111,
     "metadata": {},
     "output_type": "execute_result"
    }
   ],
   "source": [
    "c"
   ]
  },
  {
   "cell_type": "code",
   "execution_count": 116,
   "id": "29ab97c8",
   "metadata": {},
   "outputs": [],
   "source": [
    "c=[1,1,1,1,1,1,1,2,1,1,1,1,1]"
   ]
  },
  {
   "cell_type": "code",
   "execution_count": 117,
   "id": "0052407c",
   "metadata": {},
   "outputs": [
    {
     "data": {
      "text/plain": [
       "12"
      ]
     },
     "execution_count": 117,
     "metadata": {},
     "output_type": "execute_result"
    }
   ],
   "source": [
    "c.count(1)"
   ]
  },
  {
   "cell_type": "code",
   "execution_count": 133,
   "id": "8d582195",
   "metadata": {},
   "outputs": [],
   "source": [
    "a=[1,2,3]\n",
    "b=[4,5,6]"
   ]
  },
  {
   "cell_type": "code",
   "execution_count": 134,
   "id": "b8bbfc92",
   "metadata": {},
   "outputs": [],
   "source": [
    "a.extend(b)"
   ]
  },
  {
   "cell_type": "code",
   "execution_count": 135,
   "id": "fa48e467",
   "metadata": {},
   "outputs": [
    {
     "data": {
      "text/plain": [
       "[1, 2, 3, 4, 5, 6]"
      ]
     },
     "execution_count": 135,
     "metadata": {},
     "output_type": "execute_result"
    }
   ],
   "source": [
    "a"
   ]
  },
  {
   "cell_type": "markdown",
   "id": "5521cde5",
   "metadata": {},
   "source": [
    "튜플"
   ]
  },
  {
   "cell_type": "code",
   "execution_count": 142,
   "id": "1019b334",
   "metadata": {},
   "outputs": [],
   "source": [
    "t1=(1,2,3,4,5)"
   ]
  },
  {
   "cell_type": "code",
   "execution_count": 137,
   "id": "22fcf3e7",
   "metadata": {},
   "outputs": [
    {
     "ename": "SyntaxError",
     "evalue": "invalid syntax (1785103727.py, line 1)",
     "output_type": "error",
     "traceback": [
      "\u001b[1;36m  Cell \u001b[1;32mIn[137], line 1\u001b[1;36m\u001b[0m\n\u001b[1;33m    del t1 [1]=15\u001b[0m\n\u001b[1;37m              ^\u001b[0m\n\u001b[1;31mSyntaxError\u001b[0m\u001b[1;31m:\u001b[0m invalid syntax\n"
     ]
    }
   ],
   "source": [
    "del t1 [1]=15"
   ]
  },
  {
   "cell_type": "code",
   "execution_count": 143,
   "id": "085dd17b",
   "metadata": {},
   "outputs": [
    {
     "data": {
      "text/plain": [
       "tuple"
      ]
     },
     "execution_count": 143,
     "metadata": {},
     "output_type": "execute_result"
    }
   ],
   "source": [
    "type(t1)"
   ]
  },
  {
   "cell_type": "markdown",
   "id": "70e04b19",
   "metadata": {},
   "source": [
    "# 딕셔너리\n"
   ]
  },
  {
   "cell_type": "code",
   "execution_count": 145,
   "id": "3bf88590",
   "metadata": {},
   "outputs": [],
   "source": [
    "a={'이름':'박재범','회사':'일보'}"
   ]
  },
  {
   "cell_type": "code",
   "execution_count": 146,
   "id": "bf734a24",
   "metadata": {},
   "outputs": [
    {
     "data": {
      "text/plain": [
       "dict"
      ]
     },
     "execution_count": 146,
     "metadata": {},
     "output_type": "execute_result"
    }
   ],
   "source": [
    "type(a)"
   ]
  },
  {
   "cell_type": "code",
   "execution_count": 147,
   "id": "1f922c62",
   "metadata": {},
   "outputs": [],
   "source": [
    "a={'이름':'박재범','회사':'일보'}"
   ]
  },
  {
   "cell_type": "code",
   "execution_count": 150,
   "id": "dc39e696",
   "metadata": {},
   "outputs": [
    {
     "data": {
      "text/plain": [
       "'박재범'"
      ]
     },
     "execution_count": 150,
     "metadata": {},
     "output_type": "execute_result"
    }
   ],
   "source": [
    "a['이름']"
   ]
  },
  {
   "cell_type": "code",
   "execution_count": 153,
   "id": "640a0008",
   "metadata": {},
   "outputs": [
    {
     "data": {
      "text/plain": [
       "'일보'"
      ]
     },
     "execution_count": 153,
     "metadata": {},
     "output_type": "execute_result"
    }
   ],
   "source": [
    "a.get('회사')"
   ]
  },
  {
   "cell_type": "code",
   "execution_count": 154,
   "id": "538305ab",
   "metadata": {},
   "outputs": [],
   "source": [
    "a['좋아하는 챔피언']='파이크'"
   ]
  },
  {
   "cell_type": "code",
   "execution_count": 157,
   "id": "7f40c517",
   "metadata": {},
   "outputs": [],
   "source": [
    "a['라인전 주챔']={'탑':'아트록스','미드':'권은비','원딜':'자야'}"
   ]
  },
  {
   "cell_type": "code",
   "execution_count": 160,
   "id": "e78ec1bf",
   "metadata": {},
   "outputs": [
    {
     "data": {
      "text/plain": [
       "'권은비'"
      ]
     },
     "execution_count": 160,
     "metadata": {},
     "output_type": "execute_result"
    }
   ],
   "source": [
    "a['라인전 주챔']['미드']"
   ]
  },
  {
   "cell_type": "code",
   "execution_count": 161,
   "id": "1299751b",
   "metadata": {},
   "outputs": [
    {
     "data": {
      "text/plain": [
       "dict_keys(['이름', '회사', '좋아하는 챔피언', '라인전 주챔'])"
      ]
     },
     "execution_count": 161,
     "metadata": {},
     "output_type": "execute_result"
    }
   ],
   "source": [
    "a.keys()"
   ]
  },
  {
   "cell_type": "code",
   "execution_count": 162,
   "id": "df987ce3",
   "metadata": {},
   "outputs": [],
   "source": [
    "a.clear()"
   ]
  },
  {
   "cell_type": "code",
   "execution_count": 163,
   "id": "b509d018",
   "metadata": {},
   "outputs": [],
   "source": [
    "price=['20180728',100,130,140,150,160,170]"
   ]
  },
  {
   "cell_type": "code",
   "execution_count": 164,
   "id": "8a0e591a",
   "metadata": {},
   "outputs": [
    {
     "data": {
      "text/plain": [
       "[100, 130, 140, 150, 160, 170]"
      ]
     },
     "execution_count": 164,
     "metadata": {},
     "output_type": "execute_result"
    }
   ],
   "source": [
    "[100,130,140,150,160,170] #price_only 변수에 담기"
   ]
  },
  {
   "cell_type": "code",
   "execution_count": 172,
   "id": "c6080017",
   "metadata": {},
   "outputs": [],
   "source": [
    "interest = ['삼성','LG','naver']"
   ]
  },
  {
   "cell_type": "code",
   "execution_count": 166,
   "id": "fbd7ad60",
   "metadata": {},
   "outputs": [],
   "source": [
    "del price [0]"
   ]
  },
  {
   "cell_type": "code",
   "execution_count": 167,
   "id": "5a51d48e",
   "metadata": {},
   "outputs": [
    {
     "data": {
      "text/plain": [
       "[100, 130, 140, 150, 160, 170]"
      ]
     },
     "execution_count": 167,
     "metadata": {},
     "output_type": "execute_result"
    }
   ],
   "source": [
    "price"
   ]
  },
  {
   "cell_type": "code",
   "execution_count": 173,
   "id": "6a580248",
   "metadata": {},
   "outputs": [],
   "source": [
    "del interest [1] "
   ]
  },
  {
   "cell_type": "code",
   "execution_count": 174,
   "id": "1d2fcab6",
   "metadata": {},
   "outputs": [
    {
     "data": {
      "text/plain": [
       "['삼성', 'naver']"
      ]
     },
     "execution_count": 174,
     "metadata": {},
     "output_type": "execute_result"
    }
   ],
   "source": [
    "interest"
   ]
  },
  {
   "cell_type": "code",
   "execution_count": 184,
   "id": "e9286ce0",
   "metadata": {},
   "outputs": [],
   "source": [
    "icecream_price={'메로나':1000,'폴라포':1200,'빵빠레':1800}"
   ]
  },
  {
   "cell_type": "code",
   "execution_count": 185,
   "id": "6b123040",
   "metadata": {},
   "outputs": [
    {
     "data": {
      "text/plain": [
       "{'메로나': 1000, '폴라포': 1200, '빵빠레': 1800}"
      ]
     },
     "execution_count": 185,
     "metadata": {},
     "output_type": "execute_result"
    }
   ],
   "source": [
    "icecream_price"
   ]
  },
  {
   "cell_type": "code",
   "execution_count": 187,
   "id": "3abef2f2",
   "metadata": {},
   "outputs": [
    {
     "data": {
      "text/plain": [
       "1200"
      ]
     },
     "execution_count": 187,
     "metadata": {},
     "output_type": "execute_result"
    }
   ],
   "source": [
    "icecream_price['폴라포']"
   ]
  },
  {
   "cell_type": "code",
   "execution_count": 189,
   "id": "a4c962ea",
   "metadata": {},
   "outputs": [],
   "source": [
    "c={1,2,3,4,5,6}"
   ]
  },
  {
   "cell_type": "code",
   "execution_count": 190,
   "id": "aca05a3a",
   "metadata": {},
   "outputs": [
    {
     "data": {
      "text/plain": [
       "set"
      ]
     },
     "execution_count": 190,
     "metadata": {},
     "output_type": "execute_result"
    }
   ],
   "source": [
    "type(c)"
   ]
  },
  {
   "cell_type": "code",
   "execution_count": 191,
   "id": "eb74b042",
   "metadata": {},
   "outputs": [],
   "source": [
    "blue_ban=['파이크','자야','제드','그웬','크샨테']\n",
    "blue_ban=['아리','아지르','럭스','자야','블츠']"
   ]
  },
  {
   "cell_type": "code",
   "execution_count": 192,
   "id": "a5430999",
   "metadata": {},
   "outputs": [
    {
     "data": {
      "text/plain": [
       "{'그웬', '럭스', '블츠', '아리', '아지르', '자야', '제드', '크샨테', '파이크'}"
      ]
     },
     "execution_count": 192,
     "metadata": {},
     "output_type": "execute_result"
    }
   ],
   "source": [
    "set(blue_ban+red_ban)"
   ]
  },
  {
   "cell_type": "code",
   "execution_count": 197,
   "id": "0cfdf391",
   "metadata": {},
   "outputs": [],
   "source": [
    "money = False"
   ]
  },
  {
   "cell_type": "code",
   "execution_count": 198,
   "id": "ade91069",
   "metadata": {},
   "outputs": [
    {
     "name": "stdout",
     "output_type": "stream",
     "text": [
      "도보\n"
     ]
    }
   ],
   "source": [
    "if money:\n",
    "    print('택시')\n",
    "else:\n",
    "    print('도보')"
   ]
  },
  {
   "cell_type": "code",
   "execution_count": 207,
   "id": "45e889c9",
   "metadata": {},
   "outputs": [],
   "source": [
    "money = 4500"
   ]
  },
  {
   "cell_type": "code",
   "execution_count": 210,
   "id": "a4d13c97",
   "metadata": {},
   "outputs": [
    {
     "name": "stdout",
     "output_type": "stream",
     "text": [
      "버스 ㄱㄱ\n"
     ]
    }
   ],
   "source": [
    "if money > 6000:\n",
    "    print('택시 ㄱㄱ')\n",
    "elif money > 4000:\n",
    "    print('버스 ㄱㄱ')\n",
    "else:\n",
    "    print('도보 ㄱㄱ')"
   ]
  },
  {
   "cell_type": "code",
   "execution_count": 217,
   "id": "c48b74fc",
   "metadata": {},
   "outputs": [],
   "source": [
    "position = '탑'\n",
    "champion = '그웬'"
   ]
  },
  {
   "cell_type": "code",
   "execution_count": 220,
   "id": "ec6819a0",
   "metadata": {},
   "outputs": [
    {
     "name": "stdout",
     "output_type": "stream",
     "text": [
      "퀸\n"
     ]
    }
   ],
   "source": [
    "if position == '탑' or champion == '가렌':\n",
    "   print('퀸')\n",
    "else:\n",
    "    print('다리우스')"
   ]
  },
  {
   "cell_type": "code",
   "execution_count": 225,
   "id": "0ee12703",
   "metadata": {},
   "outputs": [],
   "source": [
    "a=3"
   ]
  },
  {
   "cell_type": "code",
   "execution_count": 224,
   "id": "f0475c7e",
   "metadata": {},
   "outputs": [
    {
     "name": "stdout",
     "output_type": "stream",
     "text": [
      "0\n"
     ]
    }
   ],
   "source": [
    "if a % 3 == 0:\n",
    "    print('3')\n",
    "else:\n",
    "    print('0')"
   ]
  },
  {
   "cell_type": "code",
   "execution_count": 253,
   "id": "a2a12b46",
   "metadata": {},
   "outputs": [],
   "source": [
    "a=0"
   ]
  },
  {
   "cell_type": "code",
   "execution_count": 254,
   "id": "3bacc59c",
   "metadata": {},
   "outputs": [
    {
     "name": "stdout",
     "output_type": "stream",
     "text": [
      "틀림\n"
     ]
    }
   ],
   "source": [
    "if a % 3 == 0 and a != 0 or a % 5 == 0 and a != 0:\n",
    "    print('정답')\n",
    "    \n",
    "else:\n",
    "    print('틀림')"
   ]
  },
  {
   "cell_type": "markdown",
   "id": "681835d0",
   "metadata": {},
   "source": [
    "# while문"
   ]
  },
  {
   "cell_type": "code",
   "execution_count": 263,
   "id": "6d452cb6",
   "metadata": {},
   "outputs": [],
   "source": [
    "a=2"
   ]
  },
  {
   "cell_type": "code",
   "execution_count": 264,
   "id": "e11e3633",
   "metadata": {},
   "outputs": [
    {
     "name": "stdout",
     "output_type": "stream",
     "text": [
      "2\n",
      "3\n",
      "4\n",
      "5\n",
      "6\n",
      "7\n",
      "8\n",
      "9\n"
     ]
    }
   ],
   "source": [
    "while a < 10:\n",
    "    print(a)\n",
    "    a +=1"
   ]
  },
  {
   "cell_type": "code",
   "execution_count": 265,
   "id": "fee570f2",
   "metadata": {},
   "outputs": [
    {
     "name": "stdout",
     "output_type": "stream",
     "text": [
      "0\n",
      "2\n",
      "4\n",
      "6\n",
      "8\n",
      "10\n",
      "12\n",
      "14\n",
      "16\n",
      "18\n",
      "20\n"
     ]
    }
   ],
   "source": [
    "a = 0\n",
    "while True:\n",
    "    print(a)\n",
    "    a += 2\n",
    "    if a>20:\n",
    "        break"
   ]
  },
  {
   "cell_type": "code",
   "execution_count": 266,
   "id": "ddeeffe4",
   "metadata": {},
   "outputs": [
    {
     "data": {
      "text/plain": [
       "22"
      ]
     },
     "execution_count": 266,
     "metadata": {},
     "output_type": "execute_result"
    }
   ],
   "source": [
    "a"
   ]
  },
  {
   "cell_type": "code",
   "execution_count": 274,
   "id": "fc5dd571",
   "metadata": {},
   "outputs": [
    {
     "name": "stdout",
     "output_type": "stream",
     "text": [
      "할메가 구매\n",
      "남은 커피 양은 9개입니다\n",
      "남은 돈은 250원 입니다\n",
      "할메가 구매\n",
      "남은 커피 양은 8개입니다\n",
      "남은 돈은 200원 입니다\n",
      "할메가 구매\n",
      "남은 커피 양은 7개입니다\n",
      "남은 돈은 150원 입니다\n",
      "할메가 구매\n",
      "남은 커피 양은 6개입니다\n",
      "남은 돈은 100원 입니다\n",
      "할메가 구매\n",
      "남은 커피 양은 5개입니다\n",
      "남은 돈은 50원 입니다\n",
      "할메가 구매\n",
      "남은 커피 양은 4개입니다\n",
      "남은 돈은 0원 입니다\n",
      "할메가 구매\n",
      "남은 커피 양은 3개입니다\n",
      "남은 돈은 -50원 입니다\n",
      "돈이 없어서 구매를 할 수 없어\n"
     ]
    }
   ],
   "source": [
    "coffee = 10\n",
    "money = 300\n",
    "\n",
    "while True:\n",
    "    print('할메가 구매')\n",
    "    coffee -= 1\n",
    "    money -= 50\n",
    "    print(\"남은 커피 양은 %d개입니다\"% coffee)\n",
    "    print(\"남은 돈은 %d원 입니다\"% money)\n",
    "    if coffee == 0:\n",
    "        print('재료 소진 판매 중지')\n",
    "        break\n",
    "    if money < 0:\n",
    "        print('돈이 없어서 구매를 할 수 없어')\n",
    "        break"
   ]
  },
  {
   "cell_type": "code",
   "execution_count": 277,
   "id": "aadd293c",
   "metadata": {},
   "outputs": [],
   "source": [
    "num_list = [1,2,3,4,5]"
   ]
  },
  {
   "cell_type": "code",
   "execution_count": 279,
   "id": "20e1ed26",
   "metadata": {},
   "outputs": [
    {
     "name": "stdout",
     "output_type": "stream",
     "text": [
      "6\n",
      "7\n",
      "8\n",
      "9\n",
      "10\n"
     ]
    }
   ],
   "source": [
    "for i in num_list:\n",
    "    print(i+5)"
   ]
  },
  {
   "cell_type": "code",
   "execution_count": 291,
   "id": "e93e307a",
   "metadata": {},
   "outputs": [],
   "source": [
    "score_list=[90,80,24,37,59]"
   ]
  },
  {
   "cell_type": "markdown",
   "id": "f849abc7",
   "metadata": {},
   "source": [
    "# 시험 점수 60이상이면 number번째 학생 합격\n",
    "# 미만이면 number번째 학생 불합격"
   ]
  },
  {
   "cell_type": "code",
   "execution_count": 282,
   "id": "b0e2ae04",
   "metadata": {},
   "outputs": [],
   "source": [
    "number = 0"
   ]
  },
  {
   "cell_type": "code",
   "execution_count": 300,
   "id": "3b6e9372",
   "metadata": {},
   "outputs": [
    {
     "name": "stdout",
     "output_type": "stream",
     "text": [
      "90 16번째 학생은 합격입니다\n",
      "80 17번째 학생은 합격입니다\n",
      "24 18번째 학생은 불합격입니다\n",
      "37 19번째 학생은 불합격입니다\n",
      "59 20번째 학생은 불합격입니다\n"
     ]
    }
   ],
   "source": [
    "for i in score_list:\n",
    "    number += 1\n",
    "    if(i >= 60):\n",
    "        print(i,\"%d번째 학생은 합격입니다\"% number)\n",
    "    else:\n",
    "        print(i,\"%d번째 학생은 불합격입니다\"% number)\n"
   ]
  },
  {
   "cell_type": "code",
   "execution_count": 301,
   "id": "67750b36",
   "metadata": {},
   "outputs": [
    {
     "name": "stdout",
     "output_type": "stream",
     "text": [
      "1\n",
      "2\n",
      "3\n",
      "4\n",
      "5\n",
      "6\n",
      "7\n",
      "8\n",
      "9\n"
     ]
    }
   ],
   "source": [
    "for i in range(1,10):\n",
    "    print(i)"
   ]
  },
  {
   "cell_type": "markdown",
   "id": "a8c911e6",
   "metadata": {},
   "source": [
    "for i in range(10):\n",
    "    for j in range(2,4):\n",
    "        print(i,j,i+j)"
   ]
  },
  {
   "cell_type": "markdown",
   "id": "2154113b",
   "metadata": {},
   "source": [
    "# 이중 for문 사용해서 2~9단까지 만들기"
   ]
  },
  {
   "cell_type": "code",
   "execution_count": 1,
   "id": "fb2aba65",
   "metadata": {},
   "outputs": [],
   "source": [
    "table=[]"
   ]
  },
  {
   "cell_type": "code",
   "execution_count": 2,
   "id": "ea0e5fe0",
   "metadata": {},
   "outputs": [],
   "source": [
    "for i in range(2,10):\n",
    "    num_list = []\n",
    "    for j in range(1,10):\n",
    "        num_list.append(i*j)  \n",
    "    table.append(num_list)"
   ]
  },
  {
   "cell_type": "code",
   "execution_count": 3,
   "id": "5a690257",
   "metadata": {},
   "outputs": [
    {
     "data": {
      "text/plain": [
       "[[2, 4, 6, 8, 10, 12, 14, 16, 18],\n",
       " [3, 6, 9, 12, 15, 18, 21, 24, 27],\n",
       " [4, 8, 12, 16, 20, 24, 28, 32, 36],\n",
       " [5, 10, 15, 20, 25, 30, 35, 40, 45],\n",
       " [6, 12, 18, 24, 30, 36, 42, 48, 54],\n",
       " [7, 14, 21, 28, 35, 42, 49, 56, 63],\n",
       " [8, 16, 24, 32, 40, 48, 56, 64, 72],\n",
       " [9, 18, 27, 36, 45, 54, 63, 72, 81]]"
      ]
     },
     "execution_count": 3,
     "metadata": {},
     "output_type": "execute_result"
    }
   ],
   "source": [
    "table"
   ]
  },
  {
   "cell_type": "markdown",
   "id": "d0543cd5",
   "metadata": {},
   "source": [
    "# 함수\n"
   ]
  },
  {
   "cell_type": "code",
   "execution_count": 1,
   "id": "bc9c51a9",
   "metadata": {},
   "outputs": [],
   "source": [
    "def test(a,b):\n",
    "    return a+b"
   ]
  },
  {
   "cell_type": "code",
   "execution_count": 2,
   "id": "76a34417",
   "metadata": {},
   "outputs": [
    {
     "data": {
      "text/plain": [
       "11"
      ]
     },
     "execution_count": 2,
     "metadata": {},
     "output_type": "execute_result"
    }
   ],
   "source": [
    "test(5,6)"
   ]
  },
  {
   "cell_type": "code",
   "execution_count": 3,
   "id": "cc9b43ef",
   "metadata": {},
   "outputs": [],
   "source": [
    "def test(a,b):\n",
    "    print(a+b) "
   ]
  },
  {
   "cell_type": "markdown",
   "id": "907fe9ab",
   "metadata": {},
   "source": [
    "test(5,6)"
   ]
  },
  {
   "cell_type": "markdown",
   "id": "142d0460",
   "metadata": {},
   "source": [
    "# 학생 한명의 점수를 매개변수로 받아서 80점 이상이면 합격//아님 불합격"
   ]
  },
  {
   "cell_type": "code",
   "execution_count": 32,
   "id": "c615bc15",
   "metadata": {},
   "outputs": [],
   "source": [
    "def test1(i):\n",
    "        if (i >= 80):\n",
    "            return(\"합격\")\n",
    "        else:\n",
    "              return(\"불합격\")"
   ]
  },
  {
   "cell_type": "code",
   "execution_count": 33,
   "id": "338975cb",
   "metadata": {},
   "outputs": [
    {
     "data": {
      "text/plain": [
       "'합격'"
      ]
     },
     "execution_count": 33,
     "metadata": {},
     "output_type": "execute_result"
    }
   ],
   "source": [
    "test1(80)"
   ]
  },
  {
   "cell_type": "code",
   "execution_count": 34,
   "id": "3084bd76",
   "metadata": {},
   "outputs": [],
   "source": [
    "def test1(i):\n",
    "    try:\n",
    "        if int(i) >= 80:\n",
    "            return(\"합격\")\n",
    "        else:\n",
    "              return(\"불합격\")\n",
    "    except:\n",
    "        print('숫자로 써라..')"
   ]
  },
  {
   "cell_type": "code",
   "execution_count": 35,
   "id": "077df1c2",
   "metadata": {},
   "outputs": [
    {
     "data": {
      "text/plain": [
       "'합격'"
      ]
     },
     "execution_count": 35,
     "metadata": {},
     "output_type": "execute_result"
    }
   ],
   "source": [
    "test1('80')"
   ]
  },
  {
   "cell_type": "code",
   "execution_count": 50,
   "id": "6090230a",
   "metadata": {},
   "outputs": [],
   "source": [
    "def test(*args):\n",
    "    sum_list = []\n",
    "    print(args)\n",
    "    for i in args:\n",
    "        sum_list.append(i+2)\n",
    "    return sum_list"
   ]
  },
  {
   "cell_type": "code",
   "execution_count": 53,
   "id": "2f37e636",
   "metadata": {},
   "outputs": [
    {
     "name": "stdout",
     "output_type": "stream",
     "text": [
      "(1, 2, 3, 4, 5, 6)\n"
     ]
    },
    {
     "data": {
      "text/plain": [
       "[3, 4, 5, 6, 7, 8]"
      ]
     },
     "execution_count": 53,
     "metadata": {},
     "output_type": "execute_result"
    }
   ],
   "source": [
    "test(1,2,3,4,5,6)"
   ]
  },
  {
   "cell_type": "code",
   "execution_count": 56,
   "id": "ba9e63a5",
   "metadata": {},
   "outputs": [
    {
     "name": "stdout",
     "output_type": "stream",
     "text": [
      "숫자를 입력해라: 50\n"
     ]
    }
   ],
   "source": [
    "aa = input(\"숫자를 입력해라: \")\n"
   ]
  },
  {
   "cell_type": "code",
   "execution_count": 57,
   "id": "acf3aea7",
   "metadata": {},
   "outputs": [
    {
     "data": {
      "text/plain": [
       "'50'"
      ]
     },
     "execution_count": 57,
     "metadata": {},
     "output_type": "execute_result"
    }
   ],
   "source": [
    "aa"
   ]
  },
  {
   "cell_type": "markdown",
   "id": "59def51b",
   "metadata": {},
   "source": [
    "# class"
   ]
  },
  {
   "cell_type": "code",
   "execution_count": 59,
   "id": "f48cfd1c",
   "metadata": {},
   "outputs": [],
   "source": [
    "class Test:\n",
    "    def __init__(self):\n",
    "        self.result = 0\n",
    "        \n",
    "    def add(self,num):\n",
    "        self.result += num\n",
    "        return self.result"
   ]
  },
  {
   "cell_type": "code",
   "execution_count": 60,
   "id": "fb52e491",
   "metadata": {},
   "outputs": [],
   "source": [
    "calc1 = Test()"
   ]
  },
  {
   "cell_type": "code",
   "execution_count": 61,
   "id": "10606d79",
   "metadata": {},
   "outputs": [
    {
     "data": {
      "text/plain": [
       "3"
      ]
     },
     "execution_count": 61,
     "metadata": {},
     "output_type": "execute_result"
    }
   ],
   "source": [
    "calc1.add(3)"
   ]
  },
  {
   "cell_type": "code",
   "execution_count": 62,
   "id": "d6c3ae89",
   "metadata": {},
   "outputs": [
    {
     "data": {
      "text/plain": [
       "8"
      ]
     },
     "execution_count": 62,
     "metadata": {},
     "output_type": "execute_result"
    }
   ],
   "source": [
    "calc1.add(5)"
   ]
  },
  {
   "cell_type": "code",
   "execution_count": 63,
   "id": "782dde09",
   "metadata": {},
   "outputs": [],
   "source": [
    "a = [1,2,3,4]"
   ]
  },
  {
   "cell_type": "code",
   "execution_count": 64,
   "id": "36669e30",
   "metadata": {},
   "outputs": [
    {
     "ename": "SyntaxError",
     "evalue": "incomplete input (2284282435.py, line 2)",
     "output_type": "error",
     "traceback": [
      "\u001b[1;36m  Cell \u001b[1;32mIn[64], line 2\u001b[1;36m\u001b[0m\n\u001b[1;33m    \u001b[0m\n\u001b[1;37m    ^\u001b[0m\n\u001b[1;31mSyntaxError\u001b[0m\u001b[1;31m:\u001b[0m incomplete input\n"
     ]
    }
   ],
   "source": [
    "class Test2(Test):\n",
    "    "
   ]
  },
  {
   "cell_type": "markdown",
   "id": "877d5a33",
   "metadata": {},
   "source": [
    "# lambda"
   ]
  },
  {
   "cell_type": "code",
   "execution_count": 67,
   "id": "ccfa664f",
   "metadata": {},
   "outputs": [
    {
     "data": {
      "text/plain": [
       "[1, 2, 3, 4, 5]"
      ]
     },
     "execution_count": 67,
     "metadata": {},
     "output_type": "execute_result"
    }
   ],
   "source": [
    "[i+1 for i in range(5)]"
   ]
  },
  {
   "cell_type": "code",
   "execution_count": null,
   "id": "f78ab467",
   "metadata": {},
   "outputs": [],
   "source": [
    "lst = ['파이크','트페','갈리오','트런들','카타리나']"
   ]
  },
  {
   "cell_type": "markdown",
   "id": "3dd79d44",
   "metadata": {},
   "source": [
    "# map"
   ]
  },
  {
   "cell_type": "code",
   "execution_count": 70,
   "id": "493dff26",
   "metadata": {},
   "outputs": [],
   "source": [
    "champ_lst"
   ]
  },
  {
   "cell_type": "code",
   "execution_count": 71,
   "id": "df8b1eb2",
   "metadata": {},
   "outputs": [
    {
     "data": {
      "text/plain": [
       "['챔피언:파이크', '챔피언:트페', '챔피언:갈리오', '챔피언:트런들', '챔피언:카타리나']"
      ]
     },
     "execution_count": 71,
     "metadata": {},
     "output_type": "execute_result"
    }
   ],
   "source": [
    "list(map(lambda x:'챔피언:'+x ,lst))"
   ]
  },
  {
   "cell_type": "markdown",
   "id": "c3421e2b",
   "metadata": {},
   "source": [
    "# filter"
   ]
  },
  {
   "cell_type": "code",
   "execution_count": 75,
   "id": "8de25fc0",
   "metadata": {},
   "outputs": [
    {
     "data": {
      "text/plain": [
       "['파이크', '갈리오', '트런들']"
      ]
     },
     "execution_count": 75,
     "metadata": {},
     "output_type": "execute_result"
    }
   ],
   "source": [
    "list(filter(lambda x:x if len(x)==3 else '',lst))"
   ]
  },
  {
   "cell_type": "code",
   "execution_count": null,
   "id": "adc0ca92",
   "metadata": {},
   "outputs": [],
   "source": [
    "num_list = [1,2,3,4,5,6,7,8,9,10]"
   ]
  },
  {
   "cell_type": "markdown",
   "id": "af6d8922",
   "metadata": {},
   "source": [
    "# map lambda로 각각의 값에 *3씩해서 리스트 담기\n",
    "# filter lambda로 짝수만 뽑아서 결과값에 *2 해서 리스트 담기"
   ]
  },
  {
   "cell_type": "code",
   "execution_count": null,
   "id": "a9b72d27",
   "metadata": {},
   "outputs": [],
   "source": [
    "list(map(lambda x:x * 3 ,num_list))"
   ]
  },
  {
   "cell_type": "code",
   "execution_count": null,
   "id": "31e16639",
   "metadata": {},
   "outputs": [],
   "source": [
    "list(map(lambda i:i*2, (filter(lambda x:x if x % 2 == 0  else '', num_list))))"
   ]
  },
  {
   "cell_type": "markdown",
   "id": "0191b016",
   "metadata": {},
   "source": [
    "주민등록번호 13자리를 문자열로 입력 받아, 받은 주민번호를 기반으로 남성인지 여성인지를 판별하여 반환하는 함수를 작성하시오.\n",
    "\n",
    "입력 문자열은 \"주민번호 앞자리 - 뒷자리\"로 구성됨 반환 문자열은 \"남성\", \"여성\" 둘중 하나\n",
    "\n",
    "주민번호 뒷자리중 첫번째 숫자가 1이면 남성, 2이면 여성"
   ]
  },
  {
   "cell_type": "code",
   "execution_count": 4,
   "id": "87152e85",
   "metadata": {},
   "outputs": [],
   "source": [
    "def num(i):\n",
    "        if i[8] == '1':\n",
    "            return(\"남자\")\n",
    "        else:\n",
    "              return(\"여자\")\n",
    "    "
   ]
  },
  {
   "cell_type": "code",
   "execution_count": 8,
   "id": "981d56a3",
   "metadata": {},
   "outputs": [],
   "source": [
    "다음 데이터를 함수 내에 딕셔너리 형태로 저장한 다음, 함수의 매개변수 입력으로 딕셔너리의 키에 해당하는 문자열을 받으면, 키에 해당하는 값을 반환하는 함수를 작성하시오.\n",
    "\n",
    "함수내 저장해야하는 데이터\n",
    "\n",
    "phones = {\"S5\": 2014, \"S7\": 2016, \"note8\": 2017, \"S9\": 2018, \"S10\": 2019}\n"
   ]
  },
  {
   "cell_type": "code",
   "execution_count": 9,
   "id": "b08d595f",
   "metadata": {},
   "outputs": [],
   "source": [
    "def phone(a):\n",
    "    phones ={\"S5\": 2014, \"S7\": 2016, \"note8\": 2017, \"S9\": 2018, \"S10\": 2019}\n",
    "    result = phones[a]\n",
    "    result = phones.get(a)\n",
    "    return result"
   ]
  },
  {
   "cell_type": "code",
   "execution_count": null,
   "id": "ca2ef005",
   "metadata": {},
   "outputs": [],
   "source": [
    "휴대전화 번호를 문자열 형태로 함수의 매개변수로 입력 받으면, 휴대전화 4개의 뒷자리를 ####으로 바꾸어 반환하는 함수를 작성하시오.\n",
    "\n",
    "예1)\n",
    "\n",
    "입력(문자열) : \"010-3222-1234\" 반환(문자열) : \"010-3222-####\""
   ]
  },
  {
   "cell_type": "code",
   "execution_count": 15,
   "id": "55cfce47",
   "metadata": {},
   "outputs": [],
   "source": [
    "def phone2(a):\n",
    "    b = a.split('-')\n",
    "    b[2] = '####'\n",
    "    result = '-'.join(b)\n",
    "    return result"
   ]
  },
  {
   "cell_type": "code",
   "execution_count": 16,
   "id": "075e5433",
   "metadata": {},
   "outputs": [],
   "source": [
    "a = \"010-2222-3333\""
   ]
  },
  {
   "cell_type": "code",
   "execution_count": 17,
   "id": "78e16dbb",
   "metadata": {},
   "outputs": [],
   "source": [
    "b = a.split('-')\n",
    "b[2] = \"####\""
   ]
  },
  {
   "cell_type": "code",
   "execution_count": 18,
   "id": "99342632",
   "metadata": {},
   "outputs": [
    {
     "data": {
      "text/plain": [
       "['010', '2222', '####']"
      ]
     },
     "execution_count": 18,
     "metadata": {},
     "output_type": "execute_result"
    }
   ],
   "source": [
    "b"
   ]
  },
  {
   "cell_type": "markdown",
   "id": "2ece07ee",
   "metadata": {},
   "source": [
    "# 데이터프레임"
   ]
  },
  {
   "cell_type": "code",
   "execution_count": 25,
   "id": "8c431a9a",
   "metadata": {},
   "outputs": [],
   "source": [
    "import pandas as pd"
   ]
  },
  {
   "cell_type": "code",
   "execution_count": 21,
   "id": "3108e012",
   "metadata": {},
   "outputs": [
    {
     "data": {
      "text/plain": [
       "['탑', '다리우스', '정글', '비에고']"
      ]
     },
     "execution_count": 21,
     "metadata": {},
     "output_type": "execute_result"
    }
   ],
   "source": [
    "lst"
   ]
  },
  {
   "cell_type": "code",
   "execution_count": 22,
   "id": "23a546ed",
   "metadata": {},
   "outputs": [],
   "source": [
    "series = pandas.Series(lst)"
   ]
  },
  {
   "cell_type": "code",
   "execution_count": 23,
   "id": "529ff214",
   "metadata": {},
   "outputs": [
    {
     "data": {
      "text/plain": [
       "0       탑\n",
       "1    다리우스\n",
       "2      정글\n",
       "3     비에고\n",
       "dtype: object"
      ]
     },
     "execution_count": 23,
     "metadata": {},
     "output_type": "execute_result"
    }
   ],
   "source": [
    "series"
   ]
  },
  {
   "cell_type": "code",
   "execution_count": 24,
   "id": "1dbb00f2",
   "metadata": {},
   "outputs": [
    {
     "data": {
      "text/plain": [
       "pandas.core.series.Series"
      ]
     },
     "execution_count": 24,
     "metadata": {},
     "output_type": "execute_result"
    }
   ],
   "source": [
    "type(series)"
   ]
  },
  {
   "cell_type": "code",
   "execution_count": 26,
   "id": "af1fd5a4",
   "metadata": {},
   "outputs": [
    {
     "data": {
      "text/plain": [
       "{'lane': 'TOP', 'champion': '올라프'}"
      ]
     },
     "execution_count": 26,
     "metadata": {},
     "output_type": "execute_result"
    }
   ],
   "source": [
    "dic = {}\n",
    "dic['lane'] = 'TOP'\n",
    "dic['champion']='올라프'\n",
    "dic"
   ]
  },
  {
   "cell_type": "code",
   "execution_count": 27,
   "id": "7db0891a",
   "metadata": {},
   "outputs": [],
   "source": [
    "series = pd.Series(dic)"
   ]
  },
  {
   "cell_type": "code",
   "execution_count": 28,
   "id": "48d16bec",
   "metadata": {},
   "outputs": [
    {
     "data": {
      "text/plain": [
       "lane        TOP\n",
       "champion    올라프\n",
       "dtype: object"
      ]
     },
     "execution_count": 28,
     "metadata": {},
     "output_type": "execute_result"
    }
   ],
   "source": [
    "series"
   ]
  },
  {
   "cell_type": "code",
   "execution_count": 29,
   "id": "c1735f8e",
   "metadata": {},
   "outputs": [
    {
     "data": {
      "text/plain": [
       "'올라프'"
      ]
     },
     "execution_count": 29,
     "metadata": {},
     "output_type": "execute_result"
    }
   ],
   "source": [
    "series.loc['champion']"
   ]
  },
  {
   "cell_type": "code",
   "execution_count": 30,
   "id": "0f796e78",
   "metadata": {},
   "outputs": [
    {
     "data": {
      "text/plain": [
       "'TOP'"
      ]
     },
     "execution_count": 30,
     "metadata": {},
     "output_type": "execute_result"
    }
   ],
   "source": [
    "series.iloc[0]"
   ]
  },
  {
   "cell_type": "code",
   "execution_count": 31,
   "id": "8fc5bbe4",
   "metadata": {},
   "outputs": [],
   "source": [
    "tmp=pd.Series([3,2,4],index=['kills','death','assists'])"
   ]
  },
  {
   "cell_type": "code",
   "execution_count": 32,
   "id": "39eae67e",
   "metadata": {},
   "outputs": [
    {
     "data": {
      "text/plain": [
       "kills      3\n",
       "death      2\n",
       "assists    4\n",
       "dtype: int64"
      ]
     },
     "execution_count": 32,
     "metadata": {},
     "output_type": "execute_result"
    }
   ],
   "source": [
    "tmp"
   ]
  },
  {
   "cell_type": "code",
   "execution_count": 34,
   "id": "a9883627",
   "metadata": {},
   "outputs": [],
   "source": [
    "new_series = pd.concat([series,tmp])"
   ]
  },
  {
   "cell_type": "code",
   "execution_count": 35,
   "id": "412bc9bb",
   "metadata": {},
   "outputs": [
    {
     "data": {
      "text/plain": [
       "lane        TOP\n",
       "champion    올라프\n",
       "kills         3\n",
       "death         2\n",
       "assists       4\n",
       "dtype: object"
      ]
     },
     "execution_count": 35,
     "metadata": {},
     "output_type": "execute_result"
    }
   ],
   "source": [
    "new_series "
   ]
  },
  {
   "cell_type": "code",
   "execution_count": 36,
   "id": "8527ce76",
   "metadata": {},
   "outputs": [],
   "source": [
    "df = pd.DataFrame(new_series)"
   ]
  },
  {
   "cell_type": "code",
   "execution_count": 37,
   "id": "56f1fd43",
   "metadata": {},
   "outputs": [
    {
     "data": {
      "text/html": [
       "<div>\n",
       "<style scoped>\n",
       "    .dataframe tbody tr th:only-of-type {\n",
       "        vertical-align: middle;\n",
       "    }\n",
       "\n",
       "    .dataframe tbody tr th {\n",
       "        vertical-align: top;\n",
       "    }\n",
       "\n",
       "    .dataframe thead th {\n",
       "        text-align: right;\n",
       "    }\n",
       "</style>\n",
       "<table border=\"1\" class=\"dataframe\">\n",
       "  <thead>\n",
       "    <tr style=\"text-align: right;\">\n",
       "      <th></th>\n",
       "      <th>0</th>\n",
       "    </tr>\n",
       "  </thead>\n",
       "  <tbody>\n",
       "    <tr>\n",
       "      <th>lane</th>\n",
       "      <td>TOP</td>\n",
       "    </tr>\n",
       "    <tr>\n",
       "      <th>champion</th>\n",
       "      <td>올라프</td>\n",
       "    </tr>\n",
       "    <tr>\n",
       "      <th>kills</th>\n",
       "      <td>3</td>\n",
       "    </tr>\n",
       "    <tr>\n",
       "      <th>death</th>\n",
       "      <td>2</td>\n",
       "    </tr>\n",
       "    <tr>\n",
       "      <th>assists</th>\n",
       "      <td>4</td>\n",
       "    </tr>\n",
       "  </tbody>\n",
       "</table>\n",
       "</div>"
      ],
      "text/plain": [
       "            0\n",
       "lane      TOP\n",
       "champion  올라프\n",
       "kills       3\n",
       "death       2\n",
       "assists     4"
      ]
     },
     "execution_count": 37,
     "metadata": {},
     "output_type": "execute_result"
    }
   ],
   "source": [
    "df"
   ]
  },
  {
   "cell_type": "code",
   "execution_count": 38,
   "id": "d1c876d3",
   "metadata": {},
   "outputs": [],
   "source": [
    "df = pd.DataFrame([new_series])"
   ]
  },
  {
   "cell_type": "code",
   "execution_count": 39,
   "id": "95742f29",
   "metadata": {},
   "outputs": [
    {
     "data": {
      "text/html": [
       "<div>\n",
       "<style scoped>\n",
       "    .dataframe tbody tr th:only-of-type {\n",
       "        vertical-align: middle;\n",
       "    }\n",
       "\n",
       "    .dataframe tbody tr th {\n",
       "        vertical-align: top;\n",
       "    }\n",
       "\n",
       "    .dataframe thead th {\n",
       "        text-align: right;\n",
       "    }\n",
       "</style>\n",
       "<table border=\"1\" class=\"dataframe\">\n",
       "  <thead>\n",
       "    <tr style=\"text-align: right;\">\n",
       "      <th></th>\n",
       "      <th>lane</th>\n",
       "      <th>champion</th>\n",
       "      <th>kills</th>\n",
       "      <th>death</th>\n",
       "      <th>assists</th>\n",
       "    </tr>\n",
       "  </thead>\n",
       "  <tbody>\n",
       "    <tr>\n",
       "      <th>0</th>\n",
       "      <td>TOP</td>\n",
       "      <td>올라프</td>\n",
       "      <td>3</td>\n",
       "      <td>2</td>\n",
       "      <td>4</td>\n",
       "    </tr>\n",
       "  </tbody>\n",
       "</table>\n",
       "</div>"
      ],
      "text/plain": [
       "  lane champion  kills  death  assists\n",
       "0  TOP      올라프      3      2        4"
      ]
     },
     "execution_count": 39,
     "metadata": {},
     "output_type": "execute_result"
    }
   ],
   "source": [
    "df"
   ]
  },
  {
   "cell_type": "code",
   "execution_count": 40,
   "id": "e1352851",
   "metadata": {},
   "outputs": [],
   "source": [
    "lst =[['jungle','리 신',0,5,3],['mid','신드라',8,2,0]]"
   ]
  },
  {
   "cell_type": "code",
   "execution_count": 41,
   "id": "1e222c13",
   "metadata": {},
   "outputs": [],
   "source": [
    "a_df = pd.DataFrame(lst,columns=['lane','champion','kills','death','assists'])"
   ]
  },
  {
   "cell_type": "code",
   "execution_count": 53,
   "id": "de52e013",
   "metadata": {},
   "outputs": [
    {
     "data": {
      "text/html": [
       "<div>\n",
       "<style scoped>\n",
       "    .dataframe tbody tr th:only-of-type {\n",
       "        vertical-align: middle;\n",
       "    }\n",
       "\n",
       "    .dataframe tbody tr th {\n",
       "        vertical-align: top;\n",
       "    }\n",
       "\n",
       "    .dataframe thead th {\n",
       "        text-align: right;\n",
       "    }\n",
       "</style>\n",
       "<table border=\"1\" class=\"dataframe\">\n",
       "  <thead>\n",
       "    <tr style=\"text-align: right;\">\n",
       "      <th></th>\n",
       "      <th>lane</th>\n",
       "      <th>champion</th>\n",
       "      <th>kills</th>\n",
       "      <th>death</th>\n",
       "      <th>assists</th>\n",
       "    </tr>\n",
       "  </thead>\n",
       "  <tbody>\n",
       "    <tr>\n",
       "      <th>0</th>\n",
       "      <td>jungle</td>\n",
       "      <td>리 신</td>\n",
       "      <td>0</td>\n",
       "      <td>5</td>\n",
       "      <td>3</td>\n",
       "    </tr>\n",
       "    <tr>\n",
       "      <th>1</th>\n",
       "      <td>mid</td>\n",
       "      <td>신드라</td>\n",
       "      <td>8</td>\n",
       "      <td>2</td>\n",
       "      <td>0</td>\n",
       "    </tr>\n",
       "  </tbody>\n",
       "</table>\n",
       "</div>"
      ],
      "text/plain": [
       "     lane champion  kills  death  assists\n",
       "0  jungle      리 신      0      5        3\n",
       "1     mid      신드라      8      2        0"
      ]
     },
     "execution_count": 53,
     "metadata": {},
     "output_type": "execute_result"
    }
   ],
   "source": [
    "a_df"
   ]
  },
  {
   "cell_type": "code",
   "execution_count": 54,
   "id": "5c1f8c01",
   "metadata": {},
   "outputs": [],
   "source": [
    "dic = {'lane':['bottom','supporter'],'champion':['이즈리얼','노틸러스'],'kills':[3,0],'death':[0,2],'assists':[2,5]}"
   ]
  },
  {
   "cell_type": "code",
   "execution_count": 58,
   "id": "910a98dc",
   "metadata": {},
   "outputs": [],
   "source": [
    "b_df = pd.DataFrame(dic)"
   ]
  },
  {
   "cell_type": "code",
   "execution_count": 59,
   "id": "fd8d1470",
   "metadata": {},
   "outputs": [],
   "source": [
    "new_df = pd.concat([a_df,b_df])"
   ]
  },
  {
   "cell_type": "code",
   "execution_count": 60,
   "id": "ac8187e4",
   "metadata": {},
   "outputs": [
    {
     "data": {
      "text/html": [
       "<div>\n",
       "<style scoped>\n",
       "    .dataframe tbody tr th:only-of-type {\n",
       "        vertical-align: middle;\n",
       "    }\n",
       "\n",
       "    .dataframe tbody tr th {\n",
       "        vertical-align: top;\n",
       "    }\n",
       "\n",
       "    .dataframe thead th {\n",
       "        text-align: right;\n",
       "    }\n",
       "</style>\n",
       "<table border=\"1\" class=\"dataframe\">\n",
       "  <thead>\n",
       "    <tr style=\"text-align: right;\">\n",
       "      <th></th>\n",
       "      <th>lane</th>\n",
       "      <th>champion</th>\n",
       "      <th>kills</th>\n",
       "      <th>death</th>\n",
       "      <th>assists</th>\n",
       "    </tr>\n",
       "  </thead>\n",
       "  <tbody>\n",
       "    <tr>\n",
       "      <th>0</th>\n",
       "      <td>bottom</td>\n",
       "      <td>이즈리얼</td>\n",
       "      <td>3</td>\n",
       "      <td>0</td>\n",
       "      <td>2</td>\n",
       "    </tr>\n",
       "    <tr>\n",
       "      <th>1</th>\n",
       "      <td>supporter</td>\n",
       "      <td>노틸러스</td>\n",
       "      <td>0</td>\n",
       "      <td>2</td>\n",
       "      <td>5</td>\n",
       "    </tr>\n",
       "  </tbody>\n",
       "</table>\n",
       "</div>"
      ],
      "text/plain": [
       "        lane champion  kills  death  assists\n",
       "0     bottom     이즈리얼      3      0        2\n",
       "1  supporter     노틸러스      0      2        5"
      ]
     },
     "execution_count": 60,
     "metadata": {},
     "output_type": "execute_result"
    }
   ],
   "source": [
    "b_df"
   ]
  },
  {
   "cell_type": "code",
   "execution_count": 63,
   "id": "15a1b01a",
   "metadata": {},
   "outputs": [
    {
     "data": {
      "text/html": [
       "<div>\n",
       "<style scoped>\n",
       "    .dataframe tbody tr th:only-of-type {\n",
       "        vertical-align: middle;\n",
       "    }\n",
       "\n",
       "    .dataframe tbody tr th {\n",
       "        vertical-align: top;\n",
       "    }\n",
       "\n",
       "    .dataframe thead th {\n",
       "        text-align: right;\n",
       "    }\n",
       "</style>\n",
       "<table border=\"1\" class=\"dataframe\">\n",
       "  <thead>\n",
       "    <tr style=\"text-align: right;\">\n",
       "      <th></th>\n",
       "      <th>lane</th>\n",
       "      <th>champion</th>\n",
       "      <th>kills</th>\n",
       "      <th>death</th>\n",
       "      <th>assists</th>\n",
       "    </tr>\n",
       "  </thead>\n",
       "  <tbody>\n",
       "    <tr>\n",
       "      <th>0</th>\n",
       "      <td>jungle</td>\n",
       "      <td>리 신</td>\n",
       "      <td>0</td>\n",
       "      <td>5</td>\n",
       "      <td>3</td>\n",
       "    </tr>\n",
       "    <tr>\n",
       "      <th>1</th>\n",
       "      <td>mid</td>\n",
       "      <td>신드라</td>\n",
       "      <td>8</td>\n",
       "      <td>2</td>\n",
       "      <td>0</td>\n",
       "    </tr>\n",
       "    <tr>\n",
       "      <th>0</th>\n",
       "      <td>bottom</td>\n",
       "      <td>이즈리얼</td>\n",
       "      <td>3</td>\n",
       "      <td>0</td>\n",
       "      <td>2</td>\n",
       "    </tr>\n",
       "    <tr>\n",
       "      <th>1</th>\n",
       "      <td>supporter</td>\n",
       "      <td>노틸러스</td>\n",
       "      <td>0</td>\n",
       "      <td>2</td>\n",
       "      <td>5</td>\n",
       "    </tr>\n",
       "  </tbody>\n",
       "</table>\n",
       "</div>"
      ],
      "text/plain": [
       "        lane champion  kills  death  assists\n",
       "0     jungle      리 신      0      5        3\n",
       "1        mid      신드라      8      2        0\n",
       "0     bottom     이즈리얼      3      0        2\n",
       "1  supporter     노틸러스      0      2        5"
      ]
     },
     "execution_count": 63,
     "metadata": {},
     "output_type": "execute_result"
    }
   ],
   "source": [
    "new_df"
   ]
  },
  {
   "cell_type": "code",
   "execution_count": 66,
   "id": "09f38bba",
   "metadata": {},
   "outputs": [],
   "source": [
    "new_df.reset_index(inplace = True)"
   ]
  },
  {
   "cell_type": "code",
   "execution_count": 67,
   "id": "532014ff",
   "metadata": {},
   "outputs": [
    {
     "data": {
      "text/html": [
       "<div>\n",
       "<style scoped>\n",
       "    .dataframe tbody tr th:only-of-type {\n",
       "        vertical-align: middle;\n",
       "    }\n",
       "\n",
       "    .dataframe tbody tr th {\n",
       "        vertical-align: top;\n",
       "    }\n",
       "\n",
       "    .dataframe thead th {\n",
       "        text-align: right;\n",
       "    }\n",
       "</style>\n",
       "<table border=\"1\" class=\"dataframe\">\n",
       "  <thead>\n",
       "    <tr style=\"text-align: right;\">\n",
       "      <th></th>\n",
       "      <th>level_0</th>\n",
       "      <th>index</th>\n",
       "      <th>lane</th>\n",
       "      <th>champion</th>\n",
       "      <th>kills</th>\n",
       "      <th>death</th>\n",
       "      <th>assists</th>\n",
       "    </tr>\n",
       "  </thead>\n",
       "  <tbody>\n",
       "    <tr>\n",
       "      <th>0</th>\n",
       "      <td>0</td>\n",
       "      <td>0</td>\n",
       "      <td>jungle</td>\n",
       "      <td>리 신</td>\n",
       "      <td>0</td>\n",
       "      <td>5</td>\n",
       "      <td>3</td>\n",
       "    </tr>\n",
       "    <tr>\n",
       "      <th>1</th>\n",
       "      <td>1</td>\n",
       "      <td>1</td>\n",
       "      <td>mid</td>\n",
       "      <td>신드라</td>\n",
       "      <td>8</td>\n",
       "      <td>2</td>\n",
       "      <td>0</td>\n",
       "    </tr>\n",
       "    <tr>\n",
       "      <th>2</th>\n",
       "      <td>2</td>\n",
       "      <td>0</td>\n",
       "      <td>bottom</td>\n",
       "      <td>이즈리얼</td>\n",
       "      <td>3</td>\n",
       "      <td>0</td>\n",
       "      <td>2</td>\n",
       "    </tr>\n",
       "    <tr>\n",
       "      <th>3</th>\n",
       "      <td>3</td>\n",
       "      <td>1</td>\n",
       "      <td>supporter</td>\n",
       "      <td>노틸러스</td>\n",
       "      <td>0</td>\n",
       "      <td>2</td>\n",
       "      <td>5</td>\n",
       "    </tr>\n",
       "  </tbody>\n",
       "</table>\n",
       "</div>"
      ],
      "text/plain": [
       "   level_0  index       lane champion  kills  death  assists\n",
       "0        0      0     jungle      리 신      0      5        3\n",
       "1        1      1        mid      신드라      8      2        0\n",
       "2        2      0     bottom     이즈리얼      3      0        2\n",
       "3        3      1  supporter     노틸러스      0      2        5"
      ]
     },
     "execution_count": 67,
     "metadata": {},
     "output_type": "execute_result"
    }
   ],
   "source": [
    "new_df"
   ]
  },
  {
   "cell_type": "code",
   "execution_count": 69,
   "id": "ab02c303",
   "metadata": {},
   "outputs": [],
   "source": [
    "new_df.drop('index',axis=1,inplace = True)"
   ]
  },
  {
   "cell_type": "code",
   "execution_count": 70,
   "id": "efae2248",
   "metadata": {},
   "outputs": [
    {
     "data": {
      "text/html": [
       "<div>\n",
       "<style scoped>\n",
       "    .dataframe tbody tr th:only-of-type {\n",
       "        vertical-align: middle;\n",
       "    }\n",
       "\n",
       "    .dataframe tbody tr th {\n",
       "        vertical-align: top;\n",
       "    }\n",
       "\n",
       "    .dataframe thead th {\n",
       "        text-align: right;\n",
       "    }\n",
       "</style>\n",
       "<table border=\"1\" class=\"dataframe\">\n",
       "  <thead>\n",
       "    <tr style=\"text-align: right;\">\n",
       "      <th></th>\n",
       "      <th>level_0</th>\n",
       "      <th>lane</th>\n",
       "      <th>champion</th>\n",
       "      <th>kills</th>\n",
       "      <th>death</th>\n",
       "      <th>assists</th>\n",
       "    </tr>\n",
       "  </thead>\n",
       "  <tbody>\n",
       "    <tr>\n",
       "      <th>0</th>\n",
       "      <td>0</td>\n",
       "      <td>jungle</td>\n",
       "      <td>리 신</td>\n",
       "      <td>0</td>\n",
       "      <td>5</td>\n",
       "      <td>3</td>\n",
       "    </tr>\n",
       "    <tr>\n",
       "      <th>1</th>\n",
       "      <td>1</td>\n",
       "      <td>mid</td>\n",
       "      <td>신드라</td>\n",
       "      <td>8</td>\n",
       "      <td>2</td>\n",
       "      <td>0</td>\n",
       "    </tr>\n",
       "    <tr>\n",
       "      <th>2</th>\n",
       "      <td>2</td>\n",
       "      <td>bottom</td>\n",
       "      <td>이즈리얼</td>\n",
       "      <td>3</td>\n",
       "      <td>0</td>\n",
       "      <td>2</td>\n",
       "    </tr>\n",
       "    <tr>\n",
       "      <th>3</th>\n",
       "      <td>3</td>\n",
       "      <td>supporter</td>\n",
       "      <td>노틸러스</td>\n",
       "      <td>0</td>\n",
       "      <td>2</td>\n",
       "      <td>5</td>\n",
       "    </tr>\n",
       "  </tbody>\n",
       "</table>\n",
       "</div>"
      ],
      "text/plain": [
       "   level_0       lane champion  kills  death  assists\n",
       "0        0     jungle      리 신      0      5        3\n",
       "1        1        mid      신드라      8      2        0\n",
       "2        2     bottom     이즈리얼      3      0        2\n",
       "3        3  supporter     노틸러스      0      2        5"
      ]
     },
     "execution_count": 70,
     "metadata": {},
     "output_type": "execute_result"
    }
   ],
   "source": [
    "new_df"
   ]
  },
  {
   "cell_type": "code",
   "execution_count": 73,
   "id": "473a7892",
   "metadata": {},
   "outputs": [
    {
     "data": {
      "text/html": [
       "<div>\n",
       "<style scoped>\n",
       "    .dataframe tbody tr th:only-of-type {\n",
       "        vertical-align: middle;\n",
       "    }\n",
       "\n",
       "    .dataframe tbody tr th {\n",
       "        vertical-align: top;\n",
       "    }\n",
       "\n",
       "    .dataframe thead th {\n",
       "        text-align: right;\n",
       "    }\n",
       "</style>\n",
       "<table border=\"1\" class=\"dataframe\">\n",
       "  <thead>\n",
       "    <tr style=\"text-align: right;\">\n",
       "      <th></th>\n",
       "      <th>level_0</th>\n",
       "      <th>lane</th>\n",
       "      <th>champion</th>\n",
       "      <th>kills</th>\n",
       "      <th>death</th>\n",
       "      <th>assists</th>\n",
       "    </tr>\n",
       "  </thead>\n",
       "  <tbody>\n",
       "    <tr>\n",
       "      <th>1</th>\n",
       "      <td>1</td>\n",
       "      <td>mid</td>\n",
       "      <td>신드라</td>\n",
       "      <td>8</td>\n",
       "      <td>2</td>\n",
       "      <td>0</td>\n",
       "    </tr>\n",
       "    <tr>\n",
       "      <th>2</th>\n",
       "      <td>2</td>\n",
       "      <td>bottom</td>\n",
       "      <td>이즈리얼</td>\n",
       "      <td>3</td>\n",
       "      <td>0</td>\n",
       "      <td>2</td>\n",
       "    </tr>\n",
       "    <tr>\n",
       "      <th>3</th>\n",
       "      <td>3</td>\n",
       "      <td>supporter</td>\n",
       "      <td>노틸러스</td>\n",
       "      <td>0</td>\n",
       "      <td>2</td>\n",
       "      <td>5</td>\n",
       "    </tr>\n",
       "    <tr>\n",
       "      <th>0</th>\n",
       "      <td>0</td>\n",
       "      <td>jungle</td>\n",
       "      <td>리 신</td>\n",
       "      <td>0</td>\n",
       "      <td>5</td>\n",
       "      <td>3</td>\n",
       "    </tr>\n",
       "  </tbody>\n",
       "</table>\n",
       "</div>"
      ],
      "text/plain": [
       "   level_0       lane champion  kills  death  assists\n",
       "1        1        mid      신드라      8      2        0\n",
       "2        2     bottom     이즈리얼      3      0        2\n",
       "3        3  supporter     노틸러스      0      2        5\n",
       "0        0     jungle      리 신      0      5        3"
      ]
     },
     "execution_count": 73,
     "metadata": {},
     "output_type": "execute_result"
    }
   ],
   "source": [
    "new_df.sort_values(by = ['kills','assists'],ascending = False)"
   ]
  },
  {
   "cell_type": "code",
   "execution_count": 5,
   "id": "53900bb4",
   "metadata": {},
   "outputs": [],
   "source": [
    "lst = [['TOP','blue','이렐리아',7,2,7],['MID','blue','바루스',18,0,4],\n",
    "       ['BOTTOM','blue','애쉬',1,5,15],['TOP','red','일라오이',3,9,0],\n",
    "       ['MID','red','벡스',1,10,3],['BOTTOM','red','제리',11,9,2]]"
   ]
  },
  {
   "cell_type": "code",
   "execution_count": 6,
   "id": "ca8bb6df",
   "metadata": {},
   "outputs": [],
   "source": [
    "df = pd.DataFrame(lst,columns = ['lane','team','champion','kills','deaths','assists'])"
   ]
  },
  {
   "cell_type": "code",
   "execution_count": 88,
   "id": "45ba180d",
   "metadata": {},
   "outputs": [],
   "source": [
    "df2 = df[['lane','kills','deaths','assists']]"
   ]
  },
  {
   "cell_type": "code",
   "execution_count": 89,
   "id": "81dd643c",
   "metadata": {},
   "outputs": [
    {
     "data": {
      "text/html": [
       "<div>\n",
       "<style scoped>\n",
       "    .dataframe tbody tr th:only-of-type {\n",
       "        vertical-align: middle;\n",
       "    }\n",
       "\n",
       "    .dataframe tbody tr th {\n",
       "        vertical-align: top;\n",
       "    }\n",
       "\n",
       "    .dataframe thead th {\n",
       "        text-align: right;\n",
       "    }\n",
       "</style>\n",
       "<table border=\"1\" class=\"dataframe\">\n",
       "  <thead>\n",
       "    <tr style=\"text-align: right;\">\n",
       "      <th></th>\n",
       "      <th>kills</th>\n",
       "      <th>deaths</th>\n",
       "      <th>assists</th>\n",
       "    </tr>\n",
       "    <tr>\n",
       "      <th>lane</th>\n",
       "      <th></th>\n",
       "      <th></th>\n",
       "      <th></th>\n",
       "    </tr>\n",
       "  </thead>\n",
       "  <tbody>\n",
       "    <tr>\n",
       "      <th>BOTTOM</th>\n",
       "      <td>6.0</td>\n",
       "      <td>7.0</td>\n",
       "      <td>8.5</td>\n",
       "    </tr>\n",
       "    <tr>\n",
       "      <th>MID</th>\n",
       "      <td>9.5</td>\n",
       "      <td>5.0</td>\n",
       "      <td>3.5</td>\n",
       "    </tr>\n",
       "    <tr>\n",
       "      <th>TOP</th>\n",
       "      <td>5.0</td>\n",
       "      <td>5.5</td>\n",
       "      <td>3.5</td>\n",
       "    </tr>\n",
       "  </tbody>\n",
       "</table>\n",
       "</div>"
      ],
      "text/plain": [
       "        kills  deaths  assists\n",
       "lane                          \n",
       "BOTTOM    6.0     7.0      8.5\n",
       "MID       9.5     5.0      3.5\n",
       "TOP       5.0     5.5      3.5"
      ]
     },
     "execution_count": 89,
     "metadata": {},
     "output_type": "execute_result"
    }
   ],
   "source": [
    "df2.groupby('lane').mean()"
   ]
  },
  {
   "cell_type": "code",
   "execution_count": 90,
   "id": "2baac5c5",
   "metadata": {},
   "outputs": [],
   "source": [
    "df['condition'] = 'none'"
   ]
  },
  {
   "cell_type": "code",
   "execution_count": 91,
   "id": "03ddafb6",
   "metadata": {},
   "outputs": [
    {
     "data": {
      "text/html": [
       "<div>\n",
       "<style scoped>\n",
       "    .dataframe tbody tr th:only-of-type {\n",
       "        vertical-align: middle;\n",
       "    }\n",
       "\n",
       "    .dataframe tbody tr th {\n",
       "        vertical-align: top;\n",
       "    }\n",
       "\n",
       "    .dataframe thead th {\n",
       "        text-align: right;\n",
       "    }\n",
       "</style>\n",
       "<table border=\"1\" class=\"dataframe\">\n",
       "  <thead>\n",
       "    <tr style=\"text-align: right;\">\n",
       "      <th></th>\n",
       "      <th>lane</th>\n",
       "      <th>team</th>\n",
       "      <th>champion</th>\n",
       "      <th>kills</th>\n",
       "      <th>deaths</th>\n",
       "      <th>assists</th>\n",
       "      <th>condition</th>\n",
       "    </tr>\n",
       "  </thead>\n",
       "  <tbody>\n",
       "    <tr>\n",
       "      <th>0</th>\n",
       "      <td>TOP</td>\n",
       "      <td>blue</td>\n",
       "      <td>이렐리아</td>\n",
       "      <td>7</td>\n",
       "      <td>2</td>\n",
       "      <td>7</td>\n",
       "      <td>none</td>\n",
       "    </tr>\n",
       "    <tr>\n",
       "      <th>1</th>\n",
       "      <td>MID</td>\n",
       "      <td>blue</td>\n",
       "      <td>바루스</td>\n",
       "      <td>18</td>\n",
       "      <td>0</td>\n",
       "      <td>4</td>\n",
       "      <td>none</td>\n",
       "    </tr>\n",
       "    <tr>\n",
       "      <th>2</th>\n",
       "      <td>BOTTOM</td>\n",
       "      <td>blue</td>\n",
       "      <td>애쉬</td>\n",
       "      <td>1</td>\n",
       "      <td>5</td>\n",
       "      <td>15</td>\n",
       "      <td>none</td>\n",
       "    </tr>\n",
       "    <tr>\n",
       "      <th>3</th>\n",
       "      <td>TOP</td>\n",
       "      <td>red</td>\n",
       "      <td>일라오이</td>\n",
       "      <td>3</td>\n",
       "      <td>9</td>\n",
       "      <td>0</td>\n",
       "      <td>none</td>\n",
       "    </tr>\n",
       "    <tr>\n",
       "      <th>4</th>\n",
       "      <td>MID</td>\n",
       "      <td>red</td>\n",
       "      <td>벡스</td>\n",
       "      <td>1</td>\n",
       "      <td>10</td>\n",
       "      <td>3</td>\n",
       "      <td>none</td>\n",
       "    </tr>\n",
       "    <tr>\n",
       "      <th>5</th>\n",
       "      <td>BOTTOM</td>\n",
       "      <td>red</td>\n",
       "      <td>제리</td>\n",
       "      <td>11</td>\n",
       "      <td>9</td>\n",
       "      <td>2</td>\n",
       "      <td>none</td>\n",
       "    </tr>\n",
       "  </tbody>\n",
       "</table>\n",
       "</div>"
      ],
      "text/plain": [
       "     lane  team champion  kills  deaths  assists condition\n",
       "0     TOP  blue     이렐리아      7       2        7      none\n",
       "1     MID  blue      바루스     18       0        4      none\n",
       "2  BOTTOM  blue       애쉬      1       5       15      none\n",
       "3     TOP   red     일라오이      3       9        0      none\n",
       "4     MID   red       벡스      1      10        3      none\n",
       "5  BOTTOM   red       제리     11       9        2      none"
      ]
     },
     "execution_count": 91,
     "metadata": {},
     "output_type": "execute_result"
    }
   ],
   "source": [
    "df"
   ]
  },
  {
   "cell_type": "code",
   "execution_count": 93,
   "id": "609369a0",
   "metadata": {},
   "outputs": [],
   "source": [
    "df['condition']= df.apply(lambda x:'good' if x.deaths < 6 else 'bad',axis = 1)"
   ]
  },
  {
   "cell_type": "code",
   "execution_count": 94,
   "id": "066966b8",
   "metadata": {},
   "outputs": [
    {
     "data": {
      "text/html": [
       "<div>\n",
       "<style scoped>\n",
       "    .dataframe tbody tr th:only-of-type {\n",
       "        vertical-align: middle;\n",
       "    }\n",
       "\n",
       "    .dataframe tbody tr th {\n",
       "        vertical-align: top;\n",
       "    }\n",
       "\n",
       "    .dataframe thead th {\n",
       "        text-align: right;\n",
       "    }\n",
       "</style>\n",
       "<table border=\"1\" class=\"dataframe\">\n",
       "  <thead>\n",
       "    <tr style=\"text-align: right;\">\n",
       "      <th></th>\n",
       "      <th>lane</th>\n",
       "      <th>team</th>\n",
       "      <th>champion</th>\n",
       "      <th>kills</th>\n",
       "      <th>deaths</th>\n",
       "      <th>assists</th>\n",
       "      <th>condition</th>\n",
       "    </tr>\n",
       "  </thead>\n",
       "  <tbody>\n",
       "    <tr>\n",
       "      <th>0</th>\n",
       "      <td>TOP</td>\n",
       "      <td>blue</td>\n",
       "      <td>이렐리아</td>\n",
       "      <td>7</td>\n",
       "      <td>2</td>\n",
       "      <td>7</td>\n",
       "      <td>good</td>\n",
       "    </tr>\n",
       "    <tr>\n",
       "      <th>1</th>\n",
       "      <td>MID</td>\n",
       "      <td>blue</td>\n",
       "      <td>바루스</td>\n",
       "      <td>18</td>\n",
       "      <td>0</td>\n",
       "      <td>4</td>\n",
       "      <td>good</td>\n",
       "    </tr>\n",
       "    <tr>\n",
       "      <th>2</th>\n",
       "      <td>BOTTOM</td>\n",
       "      <td>blue</td>\n",
       "      <td>애쉬</td>\n",
       "      <td>1</td>\n",
       "      <td>5</td>\n",
       "      <td>15</td>\n",
       "      <td>good</td>\n",
       "    </tr>\n",
       "    <tr>\n",
       "      <th>3</th>\n",
       "      <td>TOP</td>\n",
       "      <td>red</td>\n",
       "      <td>일라오이</td>\n",
       "      <td>3</td>\n",
       "      <td>9</td>\n",
       "      <td>0</td>\n",
       "      <td>bad</td>\n",
       "    </tr>\n",
       "    <tr>\n",
       "      <th>4</th>\n",
       "      <td>MID</td>\n",
       "      <td>red</td>\n",
       "      <td>벡스</td>\n",
       "      <td>1</td>\n",
       "      <td>10</td>\n",
       "      <td>3</td>\n",
       "      <td>bad</td>\n",
       "    </tr>\n",
       "    <tr>\n",
       "      <th>5</th>\n",
       "      <td>BOTTOM</td>\n",
       "      <td>red</td>\n",
       "      <td>제리</td>\n",
       "      <td>11</td>\n",
       "      <td>9</td>\n",
       "      <td>2</td>\n",
       "      <td>bad</td>\n",
       "    </tr>\n",
       "  </tbody>\n",
       "</table>\n",
       "</div>"
      ],
      "text/plain": [
       "     lane  team champion  kills  deaths  assists condition\n",
       "0     TOP  blue     이렐리아      7       2        7      good\n",
       "1     MID  blue      바루스     18       0        4      good\n",
       "2  BOTTOM  blue       애쉬      1       5       15      good\n",
       "3     TOP   red     일라오이      3       9        0       bad\n",
       "4     MID   red       벡스      1      10        3       bad\n",
       "5  BOTTOM   red       제리     11       9        2       bad"
      ]
     },
     "execution_count": 94,
     "metadata": {},
     "output_type": "execute_result"
    }
   ],
   "source": [
    "df"
   ]
  },
  {
   "cell_type": "code",
   "execution_count": 119,
   "id": "abd4440d",
   "metadata": {},
   "outputs": [],
   "source": [
    "df['kda'] = 'none'"
   ]
  },
  {
   "cell_type": "code",
   "execution_count": 7,
   "id": "736ab2a6",
   "metadata": {},
   "outputs": [
    {
     "data": {
      "text/html": [
       "<div>\n",
       "<style scoped>\n",
       "    .dataframe tbody tr th:only-of-type {\n",
       "        vertical-align: middle;\n",
       "    }\n",
       "\n",
       "    .dataframe tbody tr th {\n",
       "        vertical-align: top;\n",
       "    }\n",
       "\n",
       "    .dataframe thead th {\n",
       "        text-align: right;\n",
       "    }\n",
       "</style>\n",
       "<table border=\"1\" class=\"dataframe\">\n",
       "  <thead>\n",
       "    <tr style=\"text-align: right;\">\n",
       "      <th></th>\n",
       "      <th>lane</th>\n",
       "      <th>team</th>\n",
       "      <th>champion</th>\n",
       "      <th>kills</th>\n",
       "      <th>deaths</th>\n",
       "      <th>assists</th>\n",
       "    </tr>\n",
       "  </thead>\n",
       "  <tbody>\n",
       "    <tr>\n",
       "      <th>0</th>\n",
       "      <td>TOP</td>\n",
       "      <td>blue</td>\n",
       "      <td>이렐리아</td>\n",
       "      <td>7</td>\n",
       "      <td>2</td>\n",
       "      <td>7</td>\n",
       "    </tr>\n",
       "    <tr>\n",
       "      <th>1</th>\n",
       "      <td>MID</td>\n",
       "      <td>blue</td>\n",
       "      <td>바루스</td>\n",
       "      <td>18</td>\n",
       "      <td>0</td>\n",
       "      <td>4</td>\n",
       "    </tr>\n",
       "    <tr>\n",
       "      <th>2</th>\n",
       "      <td>BOTTOM</td>\n",
       "      <td>blue</td>\n",
       "      <td>애쉬</td>\n",
       "      <td>1</td>\n",
       "      <td>5</td>\n",
       "      <td>15</td>\n",
       "    </tr>\n",
       "    <tr>\n",
       "      <th>3</th>\n",
       "      <td>TOP</td>\n",
       "      <td>red</td>\n",
       "      <td>일라오이</td>\n",
       "      <td>3</td>\n",
       "      <td>9</td>\n",
       "      <td>0</td>\n",
       "    </tr>\n",
       "    <tr>\n",
       "      <th>4</th>\n",
       "      <td>MID</td>\n",
       "      <td>red</td>\n",
       "      <td>벡스</td>\n",
       "      <td>1</td>\n",
       "      <td>10</td>\n",
       "      <td>3</td>\n",
       "    </tr>\n",
       "    <tr>\n",
       "      <th>5</th>\n",
       "      <td>BOTTOM</td>\n",
       "      <td>red</td>\n",
       "      <td>제리</td>\n",
       "      <td>11</td>\n",
       "      <td>9</td>\n",
       "      <td>2</td>\n",
       "    </tr>\n",
       "  </tbody>\n",
       "</table>\n",
       "</div>"
      ],
      "text/plain": [
       "     lane  team champion  kills  deaths  assists\n",
       "0     TOP  blue     이렐리아      7       2        7\n",
       "1     MID  blue      바루스     18       0        4\n",
       "2  BOTTOM  blue       애쉬      1       5       15\n",
       "3     TOP   red     일라오이      3       9        0\n",
       "4     MID   red       벡스      1      10        3\n",
       "5  BOTTOM   red       제리     11       9        2"
      ]
     },
     "execution_count": 7,
     "metadata": {},
     "output_type": "execute_result"
    }
   ],
   "source": [
    "df"
   ]
  },
  {
   "cell_type": "code",
   "execution_count": 9,
   "id": "66a8e6a3",
   "metadata": {},
   "outputs": [],
   "source": [
    "df['kda']= df.apply(lambda x: round((x.kills+x.assists)/x.deaths,2) if x.deaths != 0 else x.kills+x.assists,axis = 1)"
   ]
  },
  {
   "cell_type": "code",
   "execution_count": 18,
   "id": "8773161e",
   "metadata": {},
   "outputs": [
    {
     "data": {
      "text/html": [
       "<div>\n",
       "<style scoped>\n",
       "    .dataframe tbody tr th:only-of-type {\n",
       "        vertical-align: middle;\n",
       "    }\n",
       "\n",
       "    .dataframe tbody tr th {\n",
       "        vertical-align: top;\n",
       "    }\n",
       "\n",
       "    .dataframe thead th {\n",
       "        text-align: right;\n",
       "    }\n",
       "</style>\n",
       "<table border=\"1\" class=\"dataframe\">\n",
       "  <thead>\n",
       "    <tr style=\"text-align: right;\">\n",
       "      <th></th>\n",
       "      <th>lane</th>\n",
       "      <th>team</th>\n",
       "      <th>champion</th>\n",
       "      <th>kills</th>\n",
       "      <th>deaths</th>\n",
       "      <th>assists</th>\n",
       "      <th>kda</th>\n",
       "    </tr>\n",
       "  </thead>\n",
       "  <tbody>\n",
       "    <tr>\n",
       "      <th>1</th>\n",
       "      <td>MID</td>\n",
       "      <td>blue</td>\n",
       "      <td>바루스</td>\n",
       "      <td>18</td>\n",
       "      <td>0</td>\n",
       "      <td>4</td>\n",
       "      <td>22.00</td>\n",
       "    </tr>\n",
       "    <tr>\n",
       "      <th>0</th>\n",
       "      <td>TOP</td>\n",
       "      <td>blue</td>\n",
       "      <td>이렐리아</td>\n",
       "      <td>7</td>\n",
       "      <td>2</td>\n",
       "      <td>7</td>\n",
       "      <td>7.00</td>\n",
       "    </tr>\n",
       "    <tr>\n",
       "      <th>2</th>\n",
       "      <td>BOTTOM</td>\n",
       "      <td>blue</td>\n",
       "      <td>애쉬</td>\n",
       "      <td>1</td>\n",
       "      <td>5</td>\n",
       "      <td>15</td>\n",
       "      <td>3.20</td>\n",
       "    </tr>\n",
       "    <tr>\n",
       "      <th>5</th>\n",
       "      <td>BOTTOM</td>\n",
       "      <td>red</td>\n",
       "      <td>제리</td>\n",
       "      <td>11</td>\n",
       "      <td>9</td>\n",
       "      <td>2</td>\n",
       "      <td>1.44</td>\n",
       "    </tr>\n",
       "    <tr>\n",
       "      <th>4</th>\n",
       "      <td>MID</td>\n",
       "      <td>red</td>\n",
       "      <td>벡스</td>\n",
       "      <td>1</td>\n",
       "      <td>10</td>\n",
       "      <td>3</td>\n",
       "      <td>0.40</td>\n",
       "    </tr>\n",
       "    <tr>\n",
       "      <th>3</th>\n",
       "      <td>TOP</td>\n",
       "      <td>red</td>\n",
       "      <td>일라오이</td>\n",
       "      <td>3</td>\n",
       "      <td>9</td>\n",
       "      <td>0</td>\n",
       "      <td>0.33</td>\n",
       "    </tr>\n",
       "  </tbody>\n",
       "</table>\n",
       "</div>"
      ],
      "text/plain": [
       "     lane  team champion  kills  deaths  assists    kda\n",
       "1     MID  blue      바루스     18       0        4  22.00\n",
       "0     TOP  blue     이렐리아      7       2        7   7.00\n",
       "2  BOTTOM  blue       애쉬      1       5       15   3.20\n",
       "5  BOTTOM   red       제리     11       9        2   1.44\n",
       "4     MID   red       벡스      1      10        3   0.40\n",
       "3     TOP   red     일라오이      3       9        0   0.33"
      ]
     },
     "execution_count": 18,
     "metadata": {},
     "output_type": "execute_result"
    }
   ],
   "source": [
    "df.sort_values(by = ['kda'],ascending = False)"
   ]
  },
  {
   "cell_type": "markdown",
   "id": "a0918f9b",
   "metadata": {},
   "source": [
    "# Divide"
   ]
  },
  {
   "cell_type": "code",
   "execution_count": 4,
   "id": "638fd407",
   "metadata": {},
   "outputs": [],
   "source": [
    "import pandas as pd"
   ]
  },
  {
   "cell_type": "code",
   "execution_count": 10,
   "id": "2c7dcc67",
   "metadata": {},
   "outputs": [
    {
     "data": {
      "text/html": [
       "<div>\n",
       "<style scoped>\n",
       "    .dataframe tbody tr th:only-of-type {\n",
       "        vertical-align: middle;\n",
       "    }\n",
       "\n",
       "    .dataframe tbody tr th {\n",
       "        vertical-align: top;\n",
       "    }\n",
       "\n",
       "    .dataframe thead th {\n",
       "        text-align: right;\n",
       "    }\n",
       "</style>\n",
       "<table border=\"1\" class=\"dataframe\">\n",
       "  <thead>\n",
       "    <tr style=\"text-align: right;\">\n",
       "      <th></th>\n",
       "      <th>lane</th>\n",
       "      <th>team</th>\n",
       "      <th>champion</th>\n",
       "      <th>kills</th>\n",
       "      <th>deaths</th>\n",
       "      <th>assists</th>\n",
       "      <th>kda</th>\n",
       "    </tr>\n",
       "  </thead>\n",
       "  <tbody>\n",
       "    <tr>\n",
       "      <th>1</th>\n",
       "      <td>MID</td>\n",
       "      <td>blue</td>\n",
       "      <td>바루스</td>\n",
       "      <td>18</td>\n",
       "      <td>0</td>\n",
       "      <td>4</td>\n",
       "      <td>22.00</td>\n",
       "    </tr>\n",
       "    <tr>\n",
       "      <th>0</th>\n",
       "      <td>TOP</td>\n",
       "      <td>blue</td>\n",
       "      <td>이렐리아</td>\n",
       "      <td>7</td>\n",
       "      <td>2</td>\n",
       "      <td>7</td>\n",
       "      <td>7.00</td>\n",
       "    </tr>\n",
       "    <tr>\n",
       "      <th>2</th>\n",
       "      <td>BOTTOM</td>\n",
       "      <td>blue</td>\n",
       "      <td>애쉬</td>\n",
       "      <td>1</td>\n",
       "      <td>5</td>\n",
       "      <td>15</td>\n",
       "      <td>3.20</td>\n",
       "    </tr>\n",
       "    <tr>\n",
       "      <th>5</th>\n",
       "      <td>BOTTOM</td>\n",
       "      <td>red</td>\n",
       "      <td>제리</td>\n",
       "      <td>11</td>\n",
       "      <td>9</td>\n",
       "      <td>2</td>\n",
       "      <td>1.44</td>\n",
       "    </tr>\n",
       "    <tr>\n",
       "      <th>4</th>\n",
       "      <td>MID</td>\n",
       "      <td>red</td>\n",
       "      <td>벡스</td>\n",
       "      <td>1</td>\n",
       "      <td>10</td>\n",
       "      <td>3</td>\n",
       "      <td>0.40</td>\n",
       "    </tr>\n",
       "    <tr>\n",
       "      <th>3</th>\n",
       "      <td>TOP</td>\n",
       "      <td>red</td>\n",
       "      <td>일라오이</td>\n",
       "      <td>3</td>\n",
       "      <td>9</td>\n",
       "      <td>0</td>\n",
       "      <td>0.33</td>\n",
       "    </tr>\n",
       "  </tbody>\n",
       "</table>\n",
       "</div>"
      ],
      "text/plain": [
       "     lane  team champion  kills  deaths  assists    kda\n",
       "1     MID  blue      바루스     18       0        4  22.00\n",
       "0     TOP  blue     이렐리아      7       2        7   7.00\n",
       "2  BOTTOM  blue       애쉬      1       5       15   3.20\n",
       "5  BOTTOM   red       제리     11       9        2   1.44\n",
       "4     MID   red       벡스      1      10        3   0.40\n",
       "3     TOP   red     일라오이      3       9        0   0.33"
      ]
     },
     "execution_count": 10,
     "metadata": {},
     "output_type": "execute_result"
    }
   ],
   "source": [
    "df.sort_values(by = ['kda'],ascending = False)"
   ]
  },
  {
   "cell_type": "code",
   "execution_count": 11,
   "id": "40dd8597",
   "metadata": {},
   "outputs": [],
   "source": [
    "blue_team = df[df.team == 'blue']\n",
    "red_team = df[df['team'] == 'red']"
   ]
  },
  {
   "cell_type": "code",
   "execution_count": 12,
   "id": "2b49ceb1",
   "metadata": {},
   "outputs": [
    {
     "data": {
      "text/html": [
       "<div>\n",
       "<style scoped>\n",
       "    .dataframe tbody tr th:only-of-type {\n",
       "        vertical-align: middle;\n",
       "    }\n",
       "\n",
       "    .dataframe tbody tr th {\n",
       "        vertical-align: top;\n",
       "    }\n",
       "\n",
       "    .dataframe thead th {\n",
       "        text-align: right;\n",
       "    }\n",
       "</style>\n",
       "<table border=\"1\" class=\"dataframe\">\n",
       "  <thead>\n",
       "    <tr style=\"text-align: right;\">\n",
       "      <th></th>\n",
       "      <th>lane</th>\n",
       "      <th>team</th>\n",
       "      <th>champion</th>\n",
       "      <th>kills</th>\n",
       "      <th>deaths</th>\n",
       "      <th>assists</th>\n",
       "      <th>kda</th>\n",
       "    </tr>\n",
       "  </thead>\n",
       "  <tbody>\n",
       "    <tr>\n",
       "      <th>0</th>\n",
       "      <td>TOP</td>\n",
       "      <td>blue</td>\n",
       "      <td>이렐리아</td>\n",
       "      <td>7</td>\n",
       "      <td>2</td>\n",
       "      <td>7</td>\n",
       "      <td>7.0</td>\n",
       "    </tr>\n",
       "    <tr>\n",
       "      <th>1</th>\n",
       "      <td>MID</td>\n",
       "      <td>blue</td>\n",
       "      <td>바루스</td>\n",
       "      <td>18</td>\n",
       "      <td>0</td>\n",
       "      <td>4</td>\n",
       "      <td>22.0</td>\n",
       "    </tr>\n",
       "    <tr>\n",
       "      <th>2</th>\n",
       "      <td>BOTTOM</td>\n",
       "      <td>blue</td>\n",
       "      <td>애쉬</td>\n",
       "      <td>1</td>\n",
       "      <td>5</td>\n",
       "      <td>15</td>\n",
       "      <td>3.2</td>\n",
       "    </tr>\n",
       "  </tbody>\n",
       "</table>\n",
       "</div>"
      ],
      "text/plain": [
       "     lane  team champion  kills  deaths  assists   kda\n",
       "0     TOP  blue     이렐리아      7       2        7   7.0\n",
       "1     MID  blue      바루스     18       0        4  22.0\n",
       "2  BOTTOM  blue       애쉬      1       5       15   3.2"
      ]
     },
     "execution_count": 12,
     "metadata": {},
     "output_type": "execute_result"
    }
   ],
   "source": [
    "blue_team"
   ]
  },
  {
   "cell_type": "code",
   "execution_count": 13,
   "id": "9da4571c",
   "metadata": {},
   "outputs": [
    {
     "data": {
      "text/html": [
       "<div>\n",
       "<style scoped>\n",
       "    .dataframe tbody tr th:only-of-type {\n",
       "        vertical-align: middle;\n",
       "    }\n",
       "\n",
       "    .dataframe tbody tr th {\n",
       "        vertical-align: top;\n",
       "    }\n",
       "\n",
       "    .dataframe thead th {\n",
       "        text-align: right;\n",
       "    }\n",
       "</style>\n",
       "<table border=\"1\" class=\"dataframe\">\n",
       "  <thead>\n",
       "    <tr style=\"text-align: right;\">\n",
       "      <th></th>\n",
       "      <th>lane</th>\n",
       "      <th>team</th>\n",
       "      <th>champion</th>\n",
       "      <th>kills</th>\n",
       "      <th>deaths</th>\n",
       "      <th>assists</th>\n",
       "      <th>kda</th>\n",
       "    </tr>\n",
       "  </thead>\n",
       "  <tbody>\n",
       "    <tr>\n",
       "      <th>3</th>\n",
       "      <td>TOP</td>\n",
       "      <td>red</td>\n",
       "      <td>일라오이</td>\n",
       "      <td>3</td>\n",
       "      <td>9</td>\n",
       "      <td>0</td>\n",
       "      <td>0.33</td>\n",
       "    </tr>\n",
       "    <tr>\n",
       "      <th>4</th>\n",
       "      <td>MID</td>\n",
       "      <td>red</td>\n",
       "      <td>벡스</td>\n",
       "      <td>1</td>\n",
       "      <td>10</td>\n",
       "      <td>3</td>\n",
       "      <td>0.40</td>\n",
       "    </tr>\n",
       "    <tr>\n",
       "      <th>5</th>\n",
       "      <td>BOTTOM</td>\n",
       "      <td>red</td>\n",
       "      <td>제리</td>\n",
       "      <td>11</td>\n",
       "      <td>9</td>\n",
       "      <td>2</td>\n",
       "      <td>1.44</td>\n",
       "    </tr>\n",
       "  </tbody>\n",
       "</table>\n",
       "</div>"
      ],
      "text/plain": [
       "     lane team champion  kills  deaths  assists   kda\n",
       "3     TOP  red     일라오이      3       9        0  0.33\n",
       "4     MID  red       벡스      1      10        3  0.40\n",
       "5  BOTTOM  red       제리     11       9        2  1.44"
      ]
     },
     "execution_count": 13,
     "metadata": {},
     "output_type": "execute_result"
    }
   ],
   "source": [
    "red_team"
   ]
  },
  {
   "cell_type": "code",
   "execution_count": 14,
   "id": "b85cddc8",
   "metadata": {},
   "outputs": [],
   "source": [
    "concat_df = pd.concat([red_team,blue_team],ignore_index = True)"
   ]
  },
  {
   "cell_type": "code",
   "execution_count": 15,
   "id": "b8a97d9b",
   "metadata": {},
   "outputs": [
    {
     "data": {
      "text/html": [
       "<div>\n",
       "<style scoped>\n",
       "    .dataframe tbody tr th:only-of-type {\n",
       "        vertical-align: middle;\n",
       "    }\n",
       "\n",
       "    .dataframe tbody tr th {\n",
       "        vertical-align: top;\n",
       "    }\n",
       "\n",
       "    .dataframe thead th {\n",
       "        text-align: right;\n",
       "    }\n",
       "</style>\n",
       "<table border=\"1\" class=\"dataframe\">\n",
       "  <thead>\n",
       "    <tr style=\"text-align: right;\">\n",
       "      <th></th>\n",
       "      <th>lane</th>\n",
       "      <th>team</th>\n",
       "      <th>champion</th>\n",
       "      <th>kills</th>\n",
       "      <th>deaths</th>\n",
       "      <th>assists</th>\n",
       "      <th>kda</th>\n",
       "    </tr>\n",
       "  </thead>\n",
       "  <tbody>\n",
       "    <tr>\n",
       "      <th>0</th>\n",
       "      <td>TOP</td>\n",
       "      <td>red</td>\n",
       "      <td>일라오이</td>\n",
       "      <td>3</td>\n",
       "      <td>9</td>\n",
       "      <td>0</td>\n",
       "      <td>0.33</td>\n",
       "    </tr>\n",
       "    <tr>\n",
       "      <th>1</th>\n",
       "      <td>MID</td>\n",
       "      <td>red</td>\n",
       "      <td>벡스</td>\n",
       "      <td>1</td>\n",
       "      <td>10</td>\n",
       "      <td>3</td>\n",
       "      <td>0.40</td>\n",
       "    </tr>\n",
       "    <tr>\n",
       "      <th>2</th>\n",
       "      <td>BOTTOM</td>\n",
       "      <td>red</td>\n",
       "      <td>제리</td>\n",
       "      <td>11</td>\n",
       "      <td>9</td>\n",
       "      <td>2</td>\n",
       "      <td>1.44</td>\n",
       "    </tr>\n",
       "    <tr>\n",
       "      <th>3</th>\n",
       "      <td>TOP</td>\n",
       "      <td>blue</td>\n",
       "      <td>이렐리아</td>\n",
       "      <td>7</td>\n",
       "      <td>2</td>\n",
       "      <td>7</td>\n",
       "      <td>7.00</td>\n",
       "    </tr>\n",
       "    <tr>\n",
       "      <th>4</th>\n",
       "      <td>MID</td>\n",
       "      <td>blue</td>\n",
       "      <td>바루스</td>\n",
       "      <td>18</td>\n",
       "      <td>0</td>\n",
       "      <td>4</td>\n",
       "      <td>22.00</td>\n",
       "    </tr>\n",
       "    <tr>\n",
       "      <th>5</th>\n",
       "      <td>BOTTOM</td>\n",
       "      <td>blue</td>\n",
       "      <td>애쉬</td>\n",
       "      <td>1</td>\n",
       "      <td>5</td>\n",
       "      <td>15</td>\n",
       "      <td>3.20</td>\n",
       "    </tr>\n",
       "  </tbody>\n",
       "</table>\n",
       "</div>"
      ],
      "text/plain": [
       "     lane  team champion  kills  deaths  assists    kda\n",
       "0     TOP   red     일라오이      3       9        0   0.33\n",
       "1     MID   red       벡스      1      10        3   0.40\n",
       "2  BOTTOM   red       제리     11       9        2   1.44\n",
       "3     TOP  blue     이렐리아      7       2        7   7.00\n",
       "4     MID  blue      바루스     18       0        4  22.00\n",
       "5  BOTTOM  blue       애쉬      1       5       15   3.20"
      ]
     },
     "execution_count": 15,
     "metadata": {},
     "output_type": "execute_result"
    }
   ],
   "source": [
    "concat_df"
   ]
  },
  {
   "cell_type": "markdown",
   "id": "15803eac",
   "metadata": {},
   "source": [
    "# Merge"
   ]
  },
  {
   "cell_type": "code",
   "execution_count": 16,
   "id": "6e900a78",
   "metadata": {},
   "outputs": [],
   "source": [
    "merge_df = pd.merge(blue_team,red_team,on =['lane'])"
   ]
  },
  {
   "cell_type": "code",
   "execution_count": 19,
   "id": "2564810e",
   "metadata": {},
   "outputs": [
    {
     "data": {
      "text/html": [
       "<div>\n",
       "<style scoped>\n",
       "    .dataframe tbody tr th:only-of-type {\n",
       "        vertical-align: middle;\n",
       "    }\n",
       "\n",
       "    .dataframe tbody tr th {\n",
       "        vertical-align: top;\n",
       "    }\n",
       "\n",
       "    .dataframe thead th {\n",
       "        text-align: right;\n",
       "    }\n",
       "</style>\n",
       "<table border=\"1\" class=\"dataframe\">\n",
       "  <thead>\n",
       "    <tr style=\"text-align: right;\">\n",
       "      <th></th>\n",
       "      <th>lane</th>\n",
       "      <th>team_x</th>\n",
       "      <th>champion_x</th>\n",
       "      <th>kills_x</th>\n",
       "      <th>deaths_x</th>\n",
       "      <th>assists_x</th>\n",
       "      <th>kda_x</th>\n",
       "      <th>team_y</th>\n",
       "      <th>champion_y</th>\n",
       "      <th>kills_y</th>\n",
       "      <th>deaths_y</th>\n",
       "      <th>assists_y</th>\n",
       "      <th>kda_y</th>\n",
       "    </tr>\n",
       "  </thead>\n",
       "  <tbody>\n",
       "    <tr>\n",
       "      <th>0</th>\n",
       "      <td>TOP</td>\n",
       "      <td>blue</td>\n",
       "      <td>이렐리아</td>\n",
       "      <td>7</td>\n",
       "      <td>2</td>\n",
       "      <td>7</td>\n",
       "      <td>7.0</td>\n",
       "      <td>red</td>\n",
       "      <td>일라오이</td>\n",
       "      <td>3</td>\n",
       "      <td>9</td>\n",
       "      <td>0</td>\n",
       "      <td>0.33</td>\n",
       "    </tr>\n",
       "    <tr>\n",
       "      <th>1</th>\n",
       "      <td>MID</td>\n",
       "      <td>blue</td>\n",
       "      <td>바루스</td>\n",
       "      <td>18</td>\n",
       "      <td>0</td>\n",
       "      <td>4</td>\n",
       "      <td>22.0</td>\n",
       "      <td>red</td>\n",
       "      <td>벡스</td>\n",
       "      <td>1</td>\n",
       "      <td>10</td>\n",
       "      <td>3</td>\n",
       "      <td>0.40</td>\n",
       "    </tr>\n",
       "    <tr>\n",
       "      <th>2</th>\n",
       "      <td>BOTTOM</td>\n",
       "      <td>blue</td>\n",
       "      <td>애쉬</td>\n",
       "      <td>1</td>\n",
       "      <td>5</td>\n",
       "      <td>15</td>\n",
       "      <td>3.2</td>\n",
       "      <td>red</td>\n",
       "      <td>제리</td>\n",
       "      <td>11</td>\n",
       "      <td>9</td>\n",
       "      <td>2</td>\n",
       "      <td>1.44</td>\n",
       "    </tr>\n",
       "  </tbody>\n",
       "</table>\n",
       "</div>"
      ],
      "text/plain": [
       "     lane team_x champion_x  kills_x  deaths_x  assists_x  kda_x team_y  \\\n",
       "0     TOP   blue       이렐리아        7         2          7    7.0    red   \n",
       "1     MID   blue        바루스       18         0          4   22.0    red   \n",
       "2  BOTTOM   blue         애쉬        1         5         15    3.2    red   \n",
       "\n",
       "  champion_y  kills_y  deaths_y  assists_y  kda_y  \n",
       "0       일라오이        3         9          0   0.33  \n",
       "1         벡스        1        10          3   0.40  \n",
       "2         제리       11         9          2   1.44  "
      ]
     },
     "execution_count": 19,
     "metadata": {},
     "output_type": "execute_result"
    }
   ],
   "source": [
    "merge_df"
   ]
  },
  {
   "cell_type": "code",
   "execution_count": 38,
   "id": "14fbda09",
   "metadata": {},
   "outputs": [],
   "source": [
    "col = ['lane','blue_team','champName_blue','kills_blue','deaths_blue','assists_blue','kda_blue',\n",
    "      'red_team','champName_red','kills_red','deaths_red','assists_red','kda_red']"
   ]
  },
  {
   "cell_type": "code",
   "execution_count": 39,
   "id": "945f7a2f",
   "metadata": {},
   "outputs": [],
   "source": [
    "merge_df.columns = col"
   ]
  },
  {
   "cell_type": "code",
   "execution_count": 40,
   "id": "248c79f7",
   "metadata": {},
   "outputs": [
    {
     "data": {
      "text/html": [
       "<div>\n",
       "<style scoped>\n",
       "    .dataframe tbody tr th:only-of-type {\n",
       "        vertical-align: middle;\n",
       "    }\n",
       "\n",
       "    .dataframe tbody tr th {\n",
       "        vertical-align: top;\n",
       "    }\n",
       "\n",
       "    .dataframe thead th {\n",
       "        text-align: right;\n",
       "    }\n",
       "</style>\n",
       "<table border=\"1\" class=\"dataframe\">\n",
       "  <thead>\n",
       "    <tr style=\"text-align: right;\">\n",
       "      <th></th>\n",
       "      <th>lane</th>\n",
       "      <th>blue_team</th>\n",
       "      <th>champName_blue</th>\n",
       "      <th>kills_blue</th>\n",
       "      <th>deaths_blue</th>\n",
       "      <th>assists_blue</th>\n",
       "      <th>kda_blue</th>\n",
       "      <th>red_team</th>\n",
       "      <th>champName_red</th>\n",
       "      <th>kills_red</th>\n",
       "      <th>deaths_red</th>\n",
       "      <th>assists_red</th>\n",
       "      <th>kda_red</th>\n",
       "    </tr>\n",
       "  </thead>\n",
       "  <tbody>\n",
       "    <tr>\n",
       "      <th>0</th>\n",
       "      <td>TOP</td>\n",
       "      <td>blue</td>\n",
       "      <td>이렐리아</td>\n",
       "      <td>7</td>\n",
       "      <td>2</td>\n",
       "      <td>7</td>\n",
       "      <td>7.0</td>\n",
       "      <td>red</td>\n",
       "      <td>일라오이</td>\n",
       "      <td>3</td>\n",
       "      <td>9</td>\n",
       "      <td>0</td>\n",
       "      <td>0.33</td>\n",
       "    </tr>\n",
       "    <tr>\n",
       "      <th>1</th>\n",
       "      <td>MID</td>\n",
       "      <td>blue</td>\n",
       "      <td>바루스</td>\n",
       "      <td>18</td>\n",
       "      <td>0</td>\n",
       "      <td>4</td>\n",
       "      <td>22.0</td>\n",
       "      <td>red</td>\n",
       "      <td>벡스</td>\n",
       "      <td>1</td>\n",
       "      <td>10</td>\n",
       "      <td>3</td>\n",
       "      <td>0.40</td>\n",
       "    </tr>\n",
       "    <tr>\n",
       "      <th>2</th>\n",
       "      <td>BOTTOM</td>\n",
       "      <td>blue</td>\n",
       "      <td>애쉬</td>\n",
       "      <td>1</td>\n",
       "      <td>5</td>\n",
       "      <td>15</td>\n",
       "      <td>3.2</td>\n",
       "      <td>red</td>\n",
       "      <td>제리</td>\n",
       "      <td>11</td>\n",
       "      <td>9</td>\n",
       "      <td>2</td>\n",
       "      <td>1.44</td>\n",
       "    </tr>\n",
       "  </tbody>\n",
       "</table>\n",
       "</div>"
      ],
      "text/plain": [
       "     lane blue_team champName_blue  kills_blue  deaths_blue  assists_blue  \\\n",
       "0     TOP      blue           이렐리아           7            2             7   \n",
       "1     MID      blue            바루스          18            0             4   \n",
       "2  BOTTOM      blue             애쉬           1            5            15   \n",
       "\n",
       "   kda_blue red_team champName_red  kills_red  deaths_red  assists_red  \\\n",
       "0       7.0      red          일라오이          3           9            0   \n",
       "1      22.0      red            벡스          1          10            3   \n",
       "2       3.2      red            제리         11           9            2   \n",
       "\n",
       "   kda_red  \n",
       "0     0.33  \n",
       "1     0.40  \n",
       "2     1.44  "
      ]
     },
     "execution_count": 40,
     "metadata": {},
     "output_type": "execute_result"
    }
   ],
   "source": [
    "merge_df"
   ]
  },
  {
   "cell_type": "code",
   "execution_count": 41,
   "id": "221355ae",
   "metadata": {},
   "outputs": [],
   "source": [
    "dup_df = pd.concat([merge_df,merge_df])"
   ]
  },
  {
   "cell_type": "code",
   "execution_count": 42,
   "id": "4d8a60ce",
   "metadata": {},
   "outputs": [
    {
     "data": {
      "text/html": [
       "<div>\n",
       "<style scoped>\n",
       "    .dataframe tbody tr th:only-of-type {\n",
       "        vertical-align: middle;\n",
       "    }\n",
       "\n",
       "    .dataframe tbody tr th {\n",
       "        vertical-align: top;\n",
       "    }\n",
       "\n",
       "    .dataframe thead th {\n",
       "        text-align: right;\n",
       "    }\n",
       "</style>\n",
       "<table border=\"1\" class=\"dataframe\">\n",
       "  <thead>\n",
       "    <tr style=\"text-align: right;\">\n",
       "      <th></th>\n",
       "      <th>lane</th>\n",
       "      <th>blue_team</th>\n",
       "      <th>champName_blue</th>\n",
       "      <th>kills_blue</th>\n",
       "      <th>deaths_blue</th>\n",
       "      <th>assists_blue</th>\n",
       "      <th>kda_blue</th>\n",
       "      <th>red_team</th>\n",
       "      <th>champName_red</th>\n",
       "      <th>kills_red</th>\n",
       "      <th>deaths_red</th>\n",
       "      <th>assists_red</th>\n",
       "      <th>kda_red</th>\n",
       "    </tr>\n",
       "  </thead>\n",
       "  <tbody>\n",
       "    <tr>\n",
       "      <th>0</th>\n",
       "      <td>TOP</td>\n",
       "      <td>blue</td>\n",
       "      <td>이렐리아</td>\n",
       "      <td>7</td>\n",
       "      <td>2</td>\n",
       "      <td>7</td>\n",
       "      <td>7.0</td>\n",
       "      <td>red</td>\n",
       "      <td>일라오이</td>\n",
       "      <td>3</td>\n",
       "      <td>9</td>\n",
       "      <td>0</td>\n",
       "      <td>0.33</td>\n",
       "    </tr>\n",
       "    <tr>\n",
       "      <th>1</th>\n",
       "      <td>MID</td>\n",
       "      <td>blue</td>\n",
       "      <td>바루스</td>\n",
       "      <td>18</td>\n",
       "      <td>0</td>\n",
       "      <td>4</td>\n",
       "      <td>22.0</td>\n",
       "      <td>red</td>\n",
       "      <td>벡스</td>\n",
       "      <td>1</td>\n",
       "      <td>10</td>\n",
       "      <td>3</td>\n",
       "      <td>0.40</td>\n",
       "    </tr>\n",
       "    <tr>\n",
       "      <th>2</th>\n",
       "      <td>BOTTOM</td>\n",
       "      <td>blue</td>\n",
       "      <td>애쉬</td>\n",
       "      <td>1</td>\n",
       "      <td>5</td>\n",
       "      <td>15</td>\n",
       "      <td>3.2</td>\n",
       "      <td>red</td>\n",
       "      <td>제리</td>\n",
       "      <td>11</td>\n",
       "      <td>9</td>\n",
       "      <td>2</td>\n",
       "      <td>1.44</td>\n",
       "    </tr>\n",
       "    <tr>\n",
       "      <th>0</th>\n",
       "      <td>TOP</td>\n",
       "      <td>blue</td>\n",
       "      <td>이렐리아</td>\n",
       "      <td>7</td>\n",
       "      <td>2</td>\n",
       "      <td>7</td>\n",
       "      <td>7.0</td>\n",
       "      <td>red</td>\n",
       "      <td>일라오이</td>\n",
       "      <td>3</td>\n",
       "      <td>9</td>\n",
       "      <td>0</td>\n",
       "      <td>0.33</td>\n",
       "    </tr>\n",
       "    <tr>\n",
       "      <th>1</th>\n",
       "      <td>MID</td>\n",
       "      <td>blue</td>\n",
       "      <td>바루스</td>\n",
       "      <td>18</td>\n",
       "      <td>0</td>\n",
       "      <td>4</td>\n",
       "      <td>22.0</td>\n",
       "      <td>red</td>\n",
       "      <td>벡스</td>\n",
       "      <td>1</td>\n",
       "      <td>10</td>\n",
       "      <td>3</td>\n",
       "      <td>0.40</td>\n",
       "    </tr>\n",
       "    <tr>\n",
       "      <th>2</th>\n",
       "      <td>BOTTOM</td>\n",
       "      <td>blue</td>\n",
       "      <td>애쉬</td>\n",
       "      <td>1</td>\n",
       "      <td>5</td>\n",
       "      <td>15</td>\n",
       "      <td>3.2</td>\n",
       "      <td>red</td>\n",
       "      <td>제리</td>\n",
       "      <td>11</td>\n",
       "      <td>9</td>\n",
       "      <td>2</td>\n",
       "      <td>1.44</td>\n",
       "    </tr>\n",
       "  </tbody>\n",
       "</table>\n",
       "</div>"
      ],
      "text/plain": [
       "     lane blue_team champName_blue  kills_blue  deaths_blue  assists_blue  \\\n",
       "0     TOP      blue           이렐리아           7            2             7   \n",
       "1     MID      blue            바루스          18            0             4   \n",
       "2  BOTTOM      blue             애쉬           1            5            15   \n",
       "0     TOP      blue           이렐리아           7            2             7   \n",
       "1     MID      blue            바루스          18            0             4   \n",
       "2  BOTTOM      blue             애쉬           1            5            15   \n",
       "\n",
       "   kda_blue red_team champName_red  kills_red  deaths_red  assists_red  \\\n",
       "0       7.0      red          일라오이          3           9            0   \n",
       "1      22.0      red            벡스          1          10            3   \n",
       "2       3.2      red            제리         11           9            2   \n",
       "0       7.0      red          일라오이          3           9            0   \n",
       "1      22.0      red            벡스          1          10            3   \n",
       "2       3.2      red            제리         11           9            2   \n",
       "\n",
       "   kda_red  \n",
       "0     0.33  \n",
       "1     0.40  \n",
       "2     1.44  \n",
       "0     0.33  \n",
       "1     0.40  \n",
       "2     1.44  "
      ]
     },
     "execution_count": 42,
     "metadata": {},
     "output_type": "execute_result"
    }
   ],
   "source": [
    "dup_df"
   ]
  },
  {
   "cell_type": "code",
   "execution_count": 44,
   "id": "fa33f0f0",
   "metadata": {},
   "outputs": [],
   "source": [
    "dup_df.drop_duplicates(['champName_blue'],inplace = True)"
   ]
  },
  {
   "cell_type": "code",
   "execution_count": 45,
   "id": "35e974e3",
   "metadata": {},
   "outputs": [
    {
     "data": {
      "text/html": [
       "<div>\n",
       "<style scoped>\n",
       "    .dataframe tbody tr th:only-of-type {\n",
       "        vertical-align: middle;\n",
       "    }\n",
       "\n",
       "    .dataframe tbody tr th {\n",
       "        vertical-align: top;\n",
       "    }\n",
       "\n",
       "    .dataframe thead th {\n",
       "        text-align: right;\n",
       "    }\n",
       "</style>\n",
       "<table border=\"1\" class=\"dataframe\">\n",
       "  <thead>\n",
       "    <tr style=\"text-align: right;\">\n",
       "      <th></th>\n",
       "      <th>lane</th>\n",
       "      <th>blue_team</th>\n",
       "      <th>champName_blue</th>\n",
       "      <th>kills_blue</th>\n",
       "      <th>deaths_blue</th>\n",
       "      <th>assists_blue</th>\n",
       "      <th>kda_blue</th>\n",
       "      <th>red_team</th>\n",
       "      <th>champName_red</th>\n",
       "      <th>kills_red</th>\n",
       "      <th>deaths_red</th>\n",
       "      <th>assists_red</th>\n",
       "      <th>kda_red</th>\n",
       "    </tr>\n",
       "  </thead>\n",
       "  <tbody>\n",
       "    <tr>\n",
       "      <th>0</th>\n",
       "      <td>TOP</td>\n",
       "      <td>blue</td>\n",
       "      <td>이렐리아</td>\n",
       "      <td>7</td>\n",
       "      <td>2</td>\n",
       "      <td>7</td>\n",
       "      <td>7.0</td>\n",
       "      <td>red</td>\n",
       "      <td>일라오이</td>\n",
       "      <td>3</td>\n",
       "      <td>9</td>\n",
       "      <td>0</td>\n",
       "      <td>0.33</td>\n",
       "    </tr>\n",
       "    <tr>\n",
       "      <th>1</th>\n",
       "      <td>MID</td>\n",
       "      <td>blue</td>\n",
       "      <td>바루스</td>\n",
       "      <td>18</td>\n",
       "      <td>0</td>\n",
       "      <td>4</td>\n",
       "      <td>22.0</td>\n",
       "      <td>red</td>\n",
       "      <td>벡스</td>\n",
       "      <td>1</td>\n",
       "      <td>10</td>\n",
       "      <td>3</td>\n",
       "      <td>0.40</td>\n",
       "    </tr>\n",
       "    <tr>\n",
       "      <th>2</th>\n",
       "      <td>BOTTOM</td>\n",
       "      <td>blue</td>\n",
       "      <td>애쉬</td>\n",
       "      <td>1</td>\n",
       "      <td>5</td>\n",
       "      <td>15</td>\n",
       "      <td>3.2</td>\n",
       "      <td>red</td>\n",
       "      <td>제리</td>\n",
       "      <td>11</td>\n",
       "      <td>9</td>\n",
       "      <td>2</td>\n",
       "      <td>1.44</td>\n",
       "    </tr>\n",
       "  </tbody>\n",
       "</table>\n",
       "</div>"
      ],
      "text/plain": [
       "     lane blue_team champName_blue  kills_blue  deaths_blue  assists_blue  \\\n",
       "0     TOP      blue           이렐리아           7            2             7   \n",
       "1     MID      blue            바루스          18            0             4   \n",
       "2  BOTTOM      blue             애쉬           1            5            15   \n",
       "\n",
       "   kda_blue red_team champName_red  kills_red  deaths_red  assists_red  \\\n",
       "0       7.0      red          일라오이          3           9            0   \n",
       "1      22.0      red            벡스          1          10            3   \n",
       "2       3.2      red            제리         11           9            2   \n",
       "\n",
       "   kda_red  \n",
       "0     0.33  \n",
       "1     0.40  \n",
       "2     1.44  "
      ]
     },
     "execution_count": 45,
     "metadata": {},
     "output_type": "execute_result"
    }
   ],
   "source": [
    "dup_df"
   ]
  },
  {
   "cell_type": "markdown",
   "id": "51ca64cb",
   "metadata": {},
   "source": [
    "# read_csv / to_csv"
   ]
  },
  {
   "cell_type": "code",
   "execution_count": 48,
   "id": "6847345f",
   "metadata": {},
   "outputs": [],
   "source": [
    "merge_df.to_csv('test.csv',index = False, encoding = 'utf-8')"
   ]
  },
  {
   "cell_type": "code",
   "execution_count": 49,
   "id": "6e6db8b4",
   "metadata": {},
   "outputs": [],
   "source": [
    "champion_df = pd.read_csv('cn_kr.csv')"
   ]
  },
  {
   "cell_type": "code",
   "execution_count": 50,
   "id": "8f2fedb2",
   "metadata": {},
   "outputs": [
    {
     "data": {
      "text/html": [
       "<div>\n",
       "<style scoped>\n",
       "    .dataframe tbody tr th:only-of-type {\n",
       "        vertical-align: middle;\n",
       "    }\n",
       "\n",
       "    .dataframe tbody tr th {\n",
       "        vertical-align: top;\n",
       "    }\n",
       "\n",
       "    .dataframe thead th {\n",
       "        text-align: right;\n",
       "    }\n",
       "</style>\n",
       "<table border=\"1\" class=\"dataframe\">\n",
       "  <thead>\n",
       "    <tr style=\"text-align: right;\">\n",
       "      <th></th>\n",
       "      <th>championId</th>\n",
       "      <th>champion_name_kr</th>\n",
       "    </tr>\n",
       "  </thead>\n",
       "  <tbody>\n",
       "    <tr>\n",
       "      <th>0</th>\n",
       "      <td>1</td>\n",
       "      <td>애니</td>\n",
       "    </tr>\n",
       "    <tr>\n",
       "      <th>1</th>\n",
       "      <td>2</td>\n",
       "      <td>올라프</td>\n",
       "    </tr>\n",
       "    <tr>\n",
       "      <th>2</th>\n",
       "      <td>3</td>\n",
       "      <td>갈리오</td>\n",
       "    </tr>\n",
       "    <tr>\n",
       "      <th>3</th>\n",
       "      <td>4</td>\n",
       "      <td>트위스티드 페이트</td>\n",
       "    </tr>\n",
       "    <tr>\n",
       "      <th>4</th>\n",
       "      <td>5</td>\n",
       "      <td>신 짜오</td>\n",
       "    </tr>\n",
       "    <tr>\n",
       "      <th>...</th>\n",
       "      <td>...</td>\n",
       "      <td>...</td>\n",
       "    </tr>\n",
       "    <tr>\n",
       "      <th>154</th>\n",
       "      <td>777</td>\n",
       "      <td>요네</td>\n",
       "    </tr>\n",
       "    <tr>\n",
       "      <th>155</th>\n",
       "      <td>875</td>\n",
       "      <td>세트</td>\n",
       "    </tr>\n",
       "    <tr>\n",
       "      <th>156</th>\n",
       "      <td>876</td>\n",
       "      <td>릴리아</td>\n",
       "    </tr>\n",
       "    <tr>\n",
       "      <th>157</th>\n",
       "      <td>887</td>\n",
       "      <td>그웬</td>\n",
       "    </tr>\n",
       "    <tr>\n",
       "      <th>158</th>\n",
       "      <td>888</td>\n",
       "      <td>레나타 글라스크</td>\n",
       "    </tr>\n",
       "  </tbody>\n",
       "</table>\n",
       "<p>159 rows × 2 columns</p>\n",
       "</div>"
      ],
      "text/plain": [
       "     championId champion_name_kr\n",
       "0             1               애니\n",
       "1             2              올라프\n",
       "2             3              갈리오\n",
       "3             4        트위스티드 페이트\n",
       "4             5             신 짜오\n",
       "..          ...              ...\n",
       "154         777               요네\n",
       "155         875               세트\n",
       "156         876              릴리아\n",
       "157         887               그웬\n",
       "158         888         레나타 글라스크\n",
       "\n",
       "[159 rows x 2 columns]"
      ]
     },
     "execution_count": 50,
     "metadata": {},
     "output_type": "execute_result"
    }
   ],
   "source": [
    "champion_df"
   ]
  },
  {
   "cell_type": "code",
   "execution_count": 53,
   "id": "dd92dcee",
   "metadata": {},
   "outputs": [],
   "source": [
    "dsr_df = pd.read_csv('dsr.csv')"
   ]
  },
  {
   "cell_type": "code",
   "execution_count": 54,
   "id": "3a96ef59",
   "metadata": {},
   "outputs": [
    {
     "data": {
      "text/html": [
       "<div>\n",
       "<style scoped>\n",
       "    .dataframe tbody tr th:only-of-type {\n",
       "        vertical-align: middle;\n",
       "    }\n",
       "\n",
       "    .dataframe tbody tr th {\n",
       "        vertical-align: top;\n",
       "    }\n",
       "\n",
       "    .dataframe thead th {\n",
       "        text-align: right;\n",
       "    }\n",
       "</style>\n",
       "<table border=\"1\" class=\"dataframe\">\n",
       "  <thead>\n",
       "    <tr style=\"text-align: right;\">\n",
       "      <th></th>\n",
       "      <th>gameId</th>\n",
       "      <th>duration</th>\n",
       "      <th>participantId</th>\n",
       "      <th>championId</th>\n",
       "      <th>lane</th>\n",
       "      <th>side</th>\n",
       "      <th>win</th>\n",
       "      <th>damageDealt</th>\n",
       "      <th>damageTaken</th>\n",
       "      <th>gold</th>\n",
       "      <th>...</th>\n",
       "      <th>g21</th>\n",
       "      <th>g22</th>\n",
       "      <th>g23</th>\n",
       "      <th>g24</th>\n",
       "      <th>g25</th>\n",
       "      <th>g26</th>\n",
       "      <th>g27</th>\n",
       "      <th>g28</th>\n",
       "      <th>g29</th>\n",
       "      <th>g30</th>\n",
       "    </tr>\n",
       "  </thead>\n",
       "  <tbody>\n",
       "    <tr>\n",
       "      <th>0</th>\n",
       "      <td>5311499506</td>\n",
       "      <td>2196</td>\n",
       "      <td>1</td>\n",
       "      <td>412</td>\n",
       "      <td>Supporter</td>\n",
       "      <td>blue</td>\n",
       "      <td>True</td>\n",
       "      <td>5969</td>\n",
       "      <td>16076</td>\n",
       "      <td>9634</td>\n",
       "      <td>...</td>\n",
       "      <td>5256</td>\n",
       "      <td>5426</td>\n",
       "      <td>5647</td>\n",
       "      <td>6123</td>\n",
       "      <td>6411</td>\n",
       "      <td>7078</td>\n",
       "      <td>7228</td>\n",
       "      <td>7418</td>\n",
       "      <td>7619</td>\n",
       "      <td>7789</td>\n",
       "    </tr>\n",
       "    <tr>\n",
       "      <th>1</th>\n",
       "      <td>5311499506</td>\n",
       "      <td>2196</td>\n",
       "      <td>2</td>\n",
       "      <td>517</td>\n",
       "      <td>Middle</td>\n",
       "      <td>blue</td>\n",
       "      <td>True</td>\n",
       "      <td>21107</td>\n",
       "      <td>26083</td>\n",
       "      <td>13317</td>\n",
       "      <td>...</td>\n",
       "      <td>7191</td>\n",
       "      <td>7550</td>\n",
       "      <td>7779</td>\n",
       "      <td>8656</td>\n",
       "      <td>9200</td>\n",
       "      <td>9724</td>\n",
       "      <td>10002</td>\n",
       "      <td>10856</td>\n",
       "      <td>11142</td>\n",
       "      <td>11348</td>\n",
       "    </tr>\n",
       "    <tr>\n",
       "      <th>2</th>\n",
       "      <td>5311499506</td>\n",
       "      <td>2196</td>\n",
       "      <td>3</td>\n",
       "      <td>145</td>\n",
       "      <td>Bot</td>\n",
       "      <td>blue</td>\n",
       "      <td>True</td>\n",
       "      <td>28755</td>\n",
       "      <td>16542</td>\n",
       "      <td>19154</td>\n",
       "      <td>...</td>\n",
       "      <td>9180</td>\n",
       "      <td>9616</td>\n",
       "      <td>10379</td>\n",
       "      <td>11657</td>\n",
       "      <td>12485</td>\n",
       "      <td>13660</td>\n",
       "      <td>14015</td>\n",
       "      <td>14644</td>\n",
       "      <td>14961</td>\n",
       "      <td>15434</td>\n",
       "    </tr>\n",
       "    <tr>\n",
       "      <th>3</th>\n",
       "      <td>5311499506</td>\n",
       "      <td>2196</td>\n",
       "      <td>4</td>\n",
       "      <td>234</td>\n",
       "      <td>Jungle</td>\n",
       "      <td>blue</td>\n",
       "      <td>True</td>\n",
       "      <td>18808</td>\n",
       "      <td>31963</td>\n",
       "      <td>15297</td>\n",
       "      <td>...</td>\n",
       "      <td>8705</td>\n",
       "      <td>8958</td>\n",
       "      <td>9253</td>\n",
       "      <td>9962</td>\n",
       "      <td>10525</td>\n",
       "      <td>10972</td>\n",
       "      <td>11258</td>\n",
       "      <td>11755</td>\n",
       "      <td>12062</td>\n",
       "      <td>12229</td>\n",
       "    </tr>\n",
       "    <tr>\n",
       "      <th>4</th>\n",
       "      <td>5311499506</td>\n",
       "      <td>2196</td>\n",
       "      <td>5</td>\n",
       "      <td>266</td>\n",
       "      <td>Top</td>\n",
       "      <td>blue</td>\n",
       "      <td>True</td>\n",
       "      <td>15994</td>\n",
       "      <td>41212</td>\n",
       "      <td>13551</td>\n",
       "      <td>...</td>\n",
       "      <td>8364</td>\n",
       "      <td>8661</td>\n",
       "      <td>9182</td>\n",
       "      <td>9839</td>\n",
       "      <td>10084</td>\n",
       "      <td>10329</td>\n",
       "      <td>10667</td>\n",
       "      <td>10839</td>\n",
       "      <td>11118</td>\n",
       "      <td>11345</td>\n",
       "    </tr>\n",
       "    <tr>\n",
       "      <th>...</th>\n",
       "      <td>...</td>\n",
       "      <td>...</td>\n",
       "      <td>...</td>\n",
       "      <td>...</td>\n",
       "      <td>...</td>\n",
       "      <td>...</td>\n",
       "      <td>...</td>\n",
       "      <td>...</td>\n",
       "      <td>...</td>\n",
       "      <td>...</td>\n",
       "      <td>...</td>\n",
       "      <td>...</td>\n",
       "      <td>...</td>\n",
       "      <td>...</td>\n",
       "      <td>...</td>\n",
       "      <td>...</td>\n",
       "      <td>...</td>\n",
       "      <td>...</td>\n",
       "      <td>...</td>\n",
       "      <td>...</td>\n",
       "      <td>...</td>\n",
       "    </tr>\n",
       "    <tr>\n",
       "      <th>999995</th>\n",
       "      <td>5346520241</td>\n",
       "      <td>1786</td>\n",
       "      <td>6</td>\n",
       "      <td>89</td>\n",
       "      <td>Supporter</td>\n",
       "      <td>red</td>\n",
       "      <td>True</td>\n",
       "      <td>7562</td>\n",
       "      <td>22776</td>\n",
       "      <td>8885</td>\n",
       "      <td>...</td>\n",
       "      <td>5593</td>\n",
       "      <td>5976</td>\n",
       "      <td>6241</td>\n",
       "      <td>6457</td>\n",
       "      <td>6597</td>\n",
       "      <td>6737</td>\n",
       "      <td>7958</td>\n",
       "      <td>8299</td>\n",
       "      <td>8564</td>\n",
       "      <td>8885</td>\n",
       "    </tr>\n",
       "    <tr>\n",
       "      <th>999996</th>\n",
       "      <td>5346520241</td>\n",
       "      <td>1786</td>\n",
       "      <td>7</td>\n",
       "      <td>92</td>\n",
       "      <td>Top</td>\n",
       "      <td>red</td>\n",
       "      <td>True</td>\n",
       "      <td>15334</td>\n",
       "      <td>24188</td>\n",
       "      <td>11123</td>\n",
       "      <td>...</td>\n",
       "      <td>7571</td>\n",
       "      <td>7897</td>\n",
       "      <td>8243</td>\n",
       "      <td>8625</td>\n",
       "      <td>8747</td>\n",
       "      <td>9022</td>\n",
       "      <td>9340</td>\n",
       "      <td>10084</td>\n",
       "      <td>10726</td>\n",
       "      <td>11123</td>\n",
       "    </tr>\n",
       "    <tr>\n",
       "      <th>999997</th>\n",
       "      <td>5346520241</td>\n",
       "      <td>1786</td>\n",
       "      <td>8</td>\n",
       "      <td>91</td>\n",
       "      <td>Middle</td>\n",
       "      <td>red</td>\n",
       "      <td>True</td>\n",
       "      <td>27626</td>\n",
       "      <td>23651</td>\n",
       "      <td>13600</td>\n",
       "      <td>...</td>\n",
       "      <td>9610</td>\n",
       "      <td>9733</td>\n",
       "      <td>10676</td>\n",
       "      <td>10798</td>\n",
       "      <td>10984</td>\n",
       "      <td>11120</td>\n",
       "      <td>12223</td>\n",
       "      <td>12729</td>\n",
       "      <td>13306</td>\n",
       "      <td>13600</td>\n",
       "    </tr>\n",
       "    <tr>\n",
       "      <th>999998</th>\n",
       "      <td>5346520241</td>\n",
       "      <td>1786</td>\n",
       "      <td>9</td>\n",
       "      <td>141</td>\n",
       "      <td>Jungle</td>\n",
       "      <td>red</td>\n",
       "      <td>True</td>\n",
       "      <td>23209</td>\n",
       "      <td>25823</td>\n",
       "      <td>15988</td>\n",
       "      <td>...</td>\n",
       "      <td>10375</td>\n",
       "      <td>10932</td>\n",
       "      <td>11994</td>\n",
       "      <td>12548</td>\n",
       "      <td>12887</td>\n",
       "      <td>13039</td>\n",
       "      <td>13967</td>\n",
       "      <td>14756</td>\n",
       "      <td>15506</td>\n",
       "      <td>15988</td>\n",
       "    </tr>\n",
       "    <tr>\n",
       "      <th>999999</th>\n",
       "      <td>5346520241</td>\n",
       "      <td>1786</td>\n",
       "      <td>10</td>\n",
       "      <td>202</td>\n",
       "      <td>Bot</td>\n",
       "      <td>red</td>\n",
       "      <td>True</td>\n",
       "      <td>20059</td>\n",
       "      <td>21011</td>\n",
       "      <td>12671</td>\n",
       "      <td>...</td>\n",
       "      <td>8701</td>\n",
       "      <td>9169</td>\n",
       "      <td>9918</td>\n",
       "      <td>10116</td>\n",
       "      <td>10385</td>\n",
       "      <td>10507</td>\n",
       "      <td>11158</td>\n",
       "      <td>11380</td>\n",
       "      <td>12196</td>\n",
       "      <td>12671</td>\n",
       "    </tr>\n",
       "  </tbody>\n",
       "</table>\n",
       "<p>1000000 rows × 39 columns</p>\n",
       "</div>"
      ],
      "text/plain": [
       "            gameId  duration  participantId  championId       lane  side  \\\n",
       "0       5311499506      2196              1         412  Supporter  blue   \n",
       "1       5311499506      2196              2         517     Middle  blue   \n",
       "2       5311499506      2196              3         145        Bot  blue   \n",
       "3       5311499506      2196              4         234     Jungle  blue   \n",
       "4       5311499506      2196              5         266        Top  blue   \n",
       "...            ...       ...            ...         ...        ...   ...   \n",
       "999995  5346520241      1786              6          89  Supporter   red   \n",
       "999996  5346520241      1786              7          92        Top   red   \n",
       "999997  5346520241      1786              8          91     Middle   red   \n",
       "999998  5346520241      1786              9         141     Jungle   red   \n",
       "999999  5346520241      1786             10         202        Bot   red   \n",
       "\n",
       "         win  damageDealt  damageTaken   gold  ...    g21    g22    g23  \\\n",
       "0       True         5969        16076   9634  ...   5256   5426   5647   \n",
       "1       True        21107        26083  13317  ...   7191   7550   7779   \n",
       "2       True        28755        16542  19154  ...   9180   9616  10379   \n",
       "3       True        18808        31963  15297  ...   8705   8958   9253   \n",
       "4       True        15994        41212  13551  ...   8364   8661   9182   \n",
       "...      ...          ...          ...    ...  ...    ...    ...    ...   \n",
       "999995  True         7562        22776   8885  ...   5593   5976   6241   \n",
       "999996  True        15334        24188  11123  ...   7571   7897   8243   \n",
       "999997  True        27626        23651  13600  ...   9610   9733  10676   \n",
       "999998  True        23209        25823  15988  ...  10375  10932  11994   \n",
       "999999  True        20059        21011  12671  ...   8701   9169   9918   \n",
       "\n",
       "          g24    g25    g26    g27    g28    g29    g30  \n",
       "0        6123   6411   7078   7228   7418   7619   7789  \n",
       "1        8656   9200   9724  10002  10856  11142  11348  \n",
       "2       11657  12485  13660  14015  14644  14961  15434  \n",
       "3        9962  10525  10972  11258  11755  12062  12229  \n",
       "4        9839  10084  10329  10667  10839  11118  11345  \n",
       "...       ...    ...    ...    ...    ...    ...    ...  \n",
       "999995   6457   6597   6737   7958   8299   8564   8885  \n",
       "999996   8625   8747   9022   9340  10084  10726  11123  \n",
       "999997  10798  10984  11120  12223  12729  13306  13600  \n",
       "999998  12548  12887  13039  13967  14756  15506  15988  \n",
       "999999  10116  10385  10507  11158  11380  12196  12671  \n",
       "\n",
       "[1000000 rows x 39 columns]"
      ]
     },
     "execution_count": 54,
     "metadata": {},
     "output_type": "execute_result"
    }
   ],
   "source": [
    "dsr_df"
   ]
  },
  {
   "cell_type": "code",
   "execution_count": 55,
   "id": "bf510b8a",
   "metadata": {},
   "outputs": [
    {
     "data": {
      "text/plain": [
       "Index(['gameId', 'duration', 'participantId', 'championId', 'lane', 'side',\n",
       "       'win', 'damageDealt', 'damageTaken', 'gold', 'kills', 'deaths',\n",
       "       'assists', 'g5', 'g6', 'g7', 'g8', 'g9', 'g10', 'g11', 'g12', 'g13',\n",
       "       'g14', 'g15', 'g16', 'g17', 'g18', 'g19', 'g20', 'g21', 'g22', 'g23',\n",
       "       'g24', 'g25', 'g26', 'g27', 'g28', 'g29', 'g30'],\n",
       "      dtype='object')"
      ]
     },
     "execution_count": 55,
     "metadata": {},
     "output_type": "execute_result"
    }
   ],
   "source": [
    "dsr_df.columns"
   ]
  },
  {
   "cell_type": "code",
   "execution_count": 99,
   "id": "44498a6d",
   "metadata": {},
   "outputs": [],
   "source": [
    "my_df = dsr_df[['gameId', 'duration', 'participantId', 'championId', 'lane',\n",
    "       'side', 'win', 'damageDealt', 'damageTaken', 'gold', 'kills', 'deaths',\n",
    "       'assists']]"
   ]
  },
  {
   "cell_type": "code",
   "execution_count": 100,
   "id": "a466a07b",
   "metadata": {},
   "outputs": [
    {
     "data": {
      "text/html": [
       "<div>\n",
       "<style scoped>\n",
       "    .dataframe tbody tr th:only-of-type {\n",
       "        vertical-align: middle;\n",
       "    }\n",
       "\n",
       "    .dataframe tbody tr th {\n",
       "        vertical-align: top;\n",
       "    }\n",
       "\n",
       "    .dataframe thead th {\n",
       "        text-align: right;\n",
       "    }\n",
       "</style>\n",
       "<table border=\"1\" class=\"dataframe\">\n",
       "  <thead>\n",
       "    <tr style=\"text-align: right;\">\n",
       "      <th></th>\n",
       "      <th>gameId</th>\n",
       "      <th>duration</th>\n",
       "      <th>participantId</th>\n",
       "      <th>championId</th>\n",
       "      <th>lane</th>\n",
       "      <th>side</th>\n",
       "      <th>win</th>\n",
       "      <th>damageDealt</th>\n",
       "      <th>damageTaken</th>\n",
       "      <th>gold</th>\n",
       "      <th>kills</th>\n",
       "      <th>deaths</th>\n",
       "      <th>assists</th>\n",
       "    </tr>\n",
       "  </thead>\n",
       "  <tbody>\n",
       "    <tr>\n",
       "      <th>0</th>\n",
       "      <td>5311499506</td>\n",
       "      <td>2196</td>\n",
       "      <td>1</td>\n",
       "      <td>412</td>\n",
       "      <td>Supporter</td>\n",
       "      <td>blue</td>\n",
       "      <td>True</td>\n",
       "      <td>5969</td>\n",
       "      <td>16076</td>\n",
       "      <td>9634</td>\n",
       "      <td>0</td>\n",
       "      <td>3</td>\n",
       "      <td>20</td>\n",
       "    </tr>\n",
       "    <tr>\n",
       "      <th>1</th>\n",
       "      <td>5311499506</td>\n",
       "      <td>2196</td>\n",
       "      <td>2</td>\n",
       "      <td>517</td>\n",
       "      <td>Middle</td>\n",
       "      <td>blue</td>\n",
       "      <td>True</td>\n",
       "      <td>21107</td>\n",
       "      <td>26083</td>\n",
       "      <td>13317</td>\n",
       "      <td>5</td>\n",
       "      <td>3</td>\n",
       "      <td>11</td>\n",
       "    </tr>\n",
       "    <tr>\n",
       "      <th>2</th>\n",
       "      <td>5311499506</td>\n",
       "      <td>2196</td>\n",
       "      <td>3</td>\n",
       "      <td>145</td>\n",
       "      <td>Bot</td>\n",
       "      <td>blue</td>\n",
       "      <td>True</td>\n",
       "      <td>28755</td>\n",
       "      <td>16542</td>\n",
       "      <td>19154</td>\n",
       "      <td>11</td>\n",
       "      <td>2</td>\n",
       "      <td>10</td>\n",
       "    </tr>\n",
       "    <tr>\n",
       "      <th>3</th>\n",
       "      <td>5311499506</td>\n",
       "      <td>2196</td>\n",
       "      <td>4</td>\n",
       "      <td>234</td>\n",
       "      <td>Jungle</td>\n",
       "      <td>blue</td>\n",
       "      <td>True</td>\n",
       "      <td>18808</td>\n",
       "      <td>31963</td>\n",
       "      <td>15297</td>\n",
       "      <td>9</td>\n",
       "      <td>4</td>\n",
       "      <td>10</td>\n",
       "    </tr>\n",
       "    <tr>\n",
       "      <th>4</th>\n",
       "      <td>5311499506</td>\n",
       "      <td>2196</td>\n",
       "      <td>5</td>\n",
       "      <td>266</td>\n",
       "      <td>Top</td>\n",
       "      <td>blue</td>\n",
       "      <td>True</td>\n",
       "      <td>15994</td>\n",
       "      <td>41212</td>\n",
       "      <td>13551</td>\n",
       "      <td>3</td>\n",
       "      <td>4</td>\n",
       "      <td>13</td>\n",
       "    </tr>\n",
       "    <tr>\n",
       "      <th>...</th>\n",
       "      <td>...</td>\n",
       "      <td>...</td>\n",
       "      <td>...</td>\n",
       "      <td>...</td>\n",
       "      <td>...</td>\n",
       "      <td>...</td>\n",
       "      <td>...</td>\n",
       "      <td>...</td>\n",
       "      <td>...</td>\n",
       "      <td>...</td>\n",
       "      <td>...</td>\n",
       "      <td>...</td>\n",
       "      <td>...</td>\n",
       "    </tr>\n",
       "    <tr>\n",
       "      <th>999995</th>\n",
       "      <td>5346520241</td>\n",
       "      <td>1786</td>\n",
       "      <td>6</td>\n",
       "      <td>89</td>\n",
       "      <td>Supporter</td>\n",
       "      <td>red</td>\n",
       "      <td>True</td>\n",
       "      <td>7562</td>\n",
       "      <td>22776</td>\n",
       "      <td>8885</td>\n",
       "      <td>2</td>\n",
       "      <td>8</td>\n",
       "      <td>19</td>\n",
       "    </tr>\n",
       "    <tr>\n",
       "      <th>999996</th>\n",
       "      <td>5346520241</td>\n",
       "      <td>1786</td>\n",
       "      <td>7</td>\n",
       "      <td>92</td>\n",
       "      <td>Top</td>\n",
       "      <td>red</td>\n",
       "      <td>True</td>\n",
       "      <td>15334</td>\n",
       "      <td>24188</td>\n",
       "      <td>11123</td>\n",
       "      <td>3</td>\n",
       "      <td>5</td>\n",
       "      <td>7</td>\n",
       "    </tr>\n",
       "    <tr>\n",
       "      <th>999997</th>\n",
       "      <td>5346520241</td>\n",
       "      <td>1786</td>\n",
       "      <td>8</td>\n",
       "      <td>91</td>\n",
       "      <td>Middle</td>\n",
       "      <td>red</td>\n",
       "      <td>True</td>\n",
       "      <td>27626</td>\n",
       "      <td>23651</td>\n",
       "      <td>13600</td>\n",
       "      <td>9</td>\n",
       "      <td>11</td>\n",
       "      <td>9</td>\n",
       "    </tr>\n",
       "    <tr>\n",
       "      <th>999998</th>\n",
       "      <td>5346520241</td>\n",
       "      <td>1786</td>\n",
       "      <td>9</td>\n",
       "      <td>141</td>\n",
       "      <td>Jungle</td>\n",
       "      <td>red</td>\n",
       "      <td>True</td>\n",
       "      <td>23209</td>\n",
       "      <td>25823</td>\n",
       "      <td>15988</td>\n",
       "      <td>15</td>\n",
       "      <td>3</td>\n",
       "      <td>7</td>\n",
       "    </tr>\n",
       "    <tr>\n",
       "      <th>999999</th>\n",
       "      <td>5346520241</td>\n",
       "      <td>1786</td>\n",
       "      <td>10</td>\n",
       "      <td>202</td>\n",
       "      <td>Bot</td>\n",
       "      <td>red</td>\n",
       "      <td>True</td>\n",
       "      <td>20059</td>\n",
       "      <td>21011</td>\n",
       "      <td>12671</td>\n",
       "      <td>8</td>\n",
       "      <td>7</td>\n",
       "      <td>8</td>\n",
       "    </tr>\n",
       "  </tbody>\n",
       "</table>\n",
       "<p>1000000 rows × 13 columns</p>\n",
       "</div>"
      ],
      "text/plain": [
       "            gameId  duration  participantId  championId       lane  side  \\\n",
       "0       5311499506      2196              1         412  Supporter  blue   \n",
       "1       5311499506      2196              2         517     Middle  blue   \n",
       "2       5311499506      2196              3         145        Bot  blue   \n",
       "3       5311499506      2196              4         234     Jungle  blue   \n",
       "4       5311499506      2196              5         266        Top  blue   \n",
       "...            ...       ...            ...         ...        ...   ...   \n",
       "999995  5346520241      1786              6          89  Supporter   red   \n",
       "999996  5346520241      1786              7          92        Top   red   \n",
       "999997  5346520241      1786              8          91     Middle   red   \n",
       "999998  5346520241      1786              9         141     Jungle   red   \n",
       "999999  5346520241      1786             10         202        Bot   red   \n",
       "\n",
       "         win  damageDealt  damageTaken   gold  kills  deaths  assists  \n",
       "0       True         5969        16076   9634      0       3       20  \n",
       "1       True        21107        26083  13317      5       3       11  \n",
       "2       True        28755        16542  19154     11       2       10  \n",
       "3       True        18808        31963  15297      9       4       10  \n",
       "4       True        15994        41212  13551      3       4       13  \n",
       "...      ...          ...          ...    ...    ...     ...      ...  \n",
       "999995  True         7562        22776   8885      2       8       19  \n",
       "999996  True        15334        24188  11123      3       5        7  \n",
       "999997  True        27626        23651  13600      9      11        9  \n",
       "999998  True        23209        25823  15988     15       3        7  \n",
       "999999  True        20059        21011  12671      8       7        8  \n",
       "\n",
       "[1000000 rows x 13 columns]"
      ]
     },
     "execution_count": 100,
     "metadata": {},
     "output_type": "execute_result"
    }
   ],
   "source": [
    "my_df"
   ]
  },
  {
   "cell_type": "markdown",
   "id": "733687de",
   "metadata": {},
   "source": [
    "# 딜량\n",
    "# 받은 피해량\n",
    "# 딜량 / 받은 피해량 -> apply 만들어보기\n",
    "# dm_per 컬럼"
   ]
  },
  {
   "cell_type": "code",
   "execution_count": 65,
   "id": "1b9115fa",
   "metadata": {
    "scrolled": true
   },
   "outputs": [
    {
     "name": "stderr",
     "output_type": "stream",
     "text": [
      "C:\\Users\\user\\AppData\\Local\\Temp\\ipykernel_19388\\2117201859.py:1: SettingWithCopyWarning: \n",
      "A value is trying to be set on a copy of a slice from a DataFrame.\n",
      "Try using .loc[row_indexer,col_indexer] = value instead\n",
      "\n",
      "See the caveats in the documentation: https://pandas.pydata.org/pandas-docs/stable/user_guide/indexing.html#returning-a-view-versus-a-copy\n",
      "  my_df['dm_per'] = 'none'\n"
     ]
    }
   ],
   "source": [
    "my_df['dm_per'] = 'none'"
   ]
  },
  {
   "cell_type": "code",
   "execution_count": 66,
   "id": "3740bbba",
   "metadata": {
    "scrolled": false
   },
   "outputs": [
    {
     "data": {
      "text/html": [
       "<div>\n",
       "<style scoped>\n",
       "    .dataframe tbody tr th:only-of-type {\n",
       "        vertical-align: middle;\n",
       "    }\n",
       "\n",
       "    .dataframe tbody tr th {\n",
       "        vertical-align: top;\n",
       "    }\n",
       "\n",
       "    .dataframe thead th {\n",
       "        text-align: right;\n",
       "    }\n",
       "</style>\n",
       "<table border=\"1\" class=\"dataframe\">\n",
       "  <thead>\n",
       "    <tr style=\"text-align: right;\">\n",
       "      <th></th>\n",
       "      <th>gameId</th>\n",
       "      <th>duration</th>\n",
       "      <th>participantId</th>\n",
       "      <th>championId</th>\n",
       "      <th>lane</th>\n",
       "      <th>side</th>\n",
       "      <th>win</th>\n",
       "      <th>damageDealt</th>\n",
       "      <th>damageTaken</th>\n",
       "      <th>gold</th>\n",
       "      <th>kills</th>\n",
       "      <th>deaths</th>\n",
       "      <th>assists</th>\n",
       "      <th>dm_per</th>\n",
       "    </tr>\n",
       "  </thead>\n",
       "  <tbody>\n",
       "    <tr>\n",
       "      <th>0</th>\n",
       "      <td>5311499506</td>\n",
       "      <td>2196</td>\n",
       "      <td>1</td>\n",
       "      <td>412</td>\n",
       "      <td>Supporter</td>\n",
       "      <td>blue</td>\n",
       "      <td>True</td>\n",
       "      <td>5969</td>\n",
       "      <td>16076</td>\n",
       "      <td>9634</td>\n",
       "      <td>0</td>\n",
       "      <td>3</td>\n",
       "      <td>20</td>\n",
       "      <td>none</td>\n",
       "    </tr>\n",
       "    <tr>\n",
       "      <th>1</th>\n",
       "      <td>5311499506</td>\n",
       "      <td>2196</td>\n",
       "      <td>2</td>\n",
       "      <td>517</td>\n",
       "      <td>Middle</td>\n",
       "      <td>blue</td>\n",
       "      <td>True</td>\n",
       "      <td>21107</td>\n",
       "      <td>26083</td>\n",
       "      <td>13317</td>\n",
       "      <td>5</td>\n",
       "      <td>3</td>\n",
       "      <td>11</td>\n",
       "      <td>none</td>\n",
       "    </tr>\n",
       "    <tr>\n",
       "      <th>2</th>\n",
       "      <td>5311499506</td>\n",
       "      <td>2196</td>\n",
       "      <td>3</td>\n",
       "      <td>145</td>\n",
       "      <td>Bot</td>\n",
       "      <td>blue</td>\n",
       "      <td>True</td>\n",
       "      <td>28755</td>\n",
       "      <td>16542</td>\n",
       "      <td>19154</td>\n",
       "      <td>11</td>\n",
       "      <td>2</td>\n",
       "      <td>10</td>\n",
       "      <td>none</td>\n",
       "    </tr>\n",
       "    <tr>\n",
       "      <th>3</th>\n",
       "      <td>5311499506</td>\n",
       "      <td>2196</td>\n",
       "      <td>4</td>\n",
       "      <td>234</td>\n",
       "      <td>Jungle</td>\n",
       "      <td>blue</td>\n",
       "      <td>True</td>\n",
       "      <td>18808</td>\n",
       "      <td>31963</td>\n",
       "      <td>15297</td>\n",
       "      <td>9</td>\n",
       "      <td>4</td>\n",
       "      <td>10</td>\n",
       "      <td>none</td>\n",
       "    </tr>\n",
       "    <tr>\n",
       "      <th>4</th>\n",
       "      <td>5311499506</td>\n",
       "      <td>2196</td>\n",
       "      <td>5</td>\n",
       "      <td>266</td>\n",
       "      <td>Top</td>\n",
       "      <td>blue</td>\n",
       "      <td>True</td>\n",
       "      <td>15994</td>\n",
       "      <td>41212</td>\n",
       "      <td>13551</td>\n",
       "      <td>3</td>\n",
       "      <td>4</td>\n",
       "      <td>13</td>\n",
       "      <td>none</td>\n",
       "    </tr>\n",
       "    <tr>\n",
       "      <th>...</th>\n",
       "      <td>...</td>\n",
       "      <td>...</td>\n",
       "      <td>...</td>\n",
       "      <td>...</td>\n",
       "      <td>...</td>\n",
       "      <td>...</td>\n",
       "      <td>...</td>\n",
       "      <td>...</td>\n",
       "      <td>...</td>\n",
       "      <td>...</td>\n",
       "      <td>...</td>\n",
       "      <td>...</td>\n",
       "      <td>...</td>\n",
       "      <td>...</td>\n",
       "    </tr>\n",
       "    <tr>\n",
       "      <th>999995</th>\n",
       "      <td>5346520241</td>\n",
       "      <td>1786</td>\n",
       "      <td>6</td>\n",
       "      <td>89</td>\n",
       "      <td>Supporter</td>\n",
       "      <td>red</td>\n",
       "      <td>True</td>\n",
       "      <td>7562</td>\n",
       "      <td>22776</td>\n",
       "      <td>8885</td>\n",
       "      <td>2</td>\n",
       "      <td>8</td>\n",
       "      <td>19</td>\n",
       "      <td>none</td>\n",
       "    </tr>\n",
       "    <tr>\n",
       "      <th>999996</th>\n",
       "      <td>5346520241</td>\n",
       "      <td>1786</td>\n",
       "      <td>7</td>\n",
       "      <td>92</td>\n",
       "      <td>Top</td>\n",
       "      <td>red</td>\n",
       "      <td>True</td>\n",
       "      <td>15334</td>\n",
       "      <td>24188</td>\n",
       "      <td>11123</td>\n",
       "      <td>3</td>\n",
       "      <td>5</td>\n",
       "      <td>7</td>\n",
       "      <td>none</td>\n",
       "    </tr>\n",
       "    <tr>\n",
       "      <th>999997</th>\n",
       "      <td>5346520241</td>\n",
       "      <td>1786</td>\n",
       "      <td>8</td>\n",
       "      <td>91</td>\n",
       "      <td>Middle</td>\n",
       "      <td>red</td>\n",
       "      <td>True</td>\n",
       "      <td>27626</td>\n",
       "      <td>23651</td>\n",
       "      <td>13600</td>\n",
       "      <td>9</td>\n",
       "      <td>11</td>\n",
       "      <td>9</td>\n",
       "      <td>none</td>\n",
       "    </tr>\n",
       "    <tr>\n",
       "      <th>999998</th>\n",
       "      <td>5346520241</td>\n",
       "      <td>1786</td>\n",
       "      <td>9</td>\n",
       "      <td>141</td>\n",
       "      <td>Jungle</td>\n",
       "      <td>red</td>\n",
       "      <td>True</td>\n",
       "      <td>23209</td>\n",
       "      <td>25823</td>\n",
       "      <td>15988</td>\n",
       "      <td>15</td>\n",
       "      <td>3</td>\n",
       "      <td>7</td>\n",
       "      <td>none</td>\n",
       "    </tr>\n",
       "    <tr>\n",
       "      <th>999999</th>\n",
       "      <td>5346520241</td>\n",
       "      <td>1786</td>\n",
       "      <td>10</td>\n",
       "      <td>202</td>\n",
       "      <td>Bot</td>\n",
       "      <td>red</td>\n",
       "      <td>True</td>\n",
       "      <td>20059</td>\n",
       "      <td>21011</td>\n",
       "      <td>12671</td>\n",
       "      <td>8</td>\n",
       "      <td>7</td>\n",
       "      <td>8</td>\n",
       "      <td>none</td>\n",
       "    </tr>\n",
       "  </tbody>\n",
       "</table>\n",
       "<p>1000000 rows × 14 columns</p>\n",
       "</div>"
      ],
      "text/plain": [
       "            gameId  duration  participantId  championId       lane  side  \\\n",
       "0       5311499506      2196              1         412  Supporter  blue   \n",
       "1       5311499506      2196              2         517     Middle  blue   \n",
       "2       5311499506      2196              3         145        Bot  blue   \n",
       "3       5311499506      2196              4         234     Jungle  blue   \n",
       "4       5311499506      2196              5         266        Top  blue   \n",
       "...            ...       ...            ...         ...        ...   ...   \n",
       "999995  5346520241      1786              6          89  Supporter   red   \n",
       "999996  5346520241      1786              7          92        Top   red   \n",
       "999997  5346520241      1786              8          91     Middle   red   \n",
       "999998  5346520241      1786              9         141     Jungle   red   \n",
       "999999  5346520241      1786             10         202        Bot   red   \n",
       "\n",
       "         win  damageDealt  damageTaken   gold  kills  deaths  assists dm_per  \n",
       "0       True         5969        16076   9634      0       3       20   none  \n",
       "1       True        21107        26083  13317      5       3       11   none  \n",
       "2       True        28755        16542  19154     11       2       10   none  \n",
       "3       True        18808        31963  15297      9       4       10   none  \n",
       "4       True        15994        41212  13551      3       4       13   none  \n",
       "...      ...          ...          ...    ...    ...     ...      ...    ...  \n",
       "999995  True         7562        22776   8885      2       8       19   none  \n",
       "999996  True        15334        24188  11123      3       5        7   none  \n",
       "999997  True        27626        23651  13600      9      11        9   none  \n",
       "999998  True        23209        25823  15988     15       3        7   none  \n",
       "999999  True        20059        21011  12671      8       7        8   none  \n",
       "\n",
       "[1000000 rows x 14 columns]"
      ]
     },
     "execution_count": 66,
     "metadata": {},
     "output_type": "execute_result"
    }
   ],
   "source": [
    "my_df"
   ]
  },
  {
   "cell_type": "code",
   "execution_count": 125,
   "id": "0a01530a",
   "metadata": {},
   "outputs": [
    {
     "name": "stderr",
     "output_type": "stream",
     "text": [
      "C:\\Users\\user\\AppData\\Local\\Temp\\ipykernel_19388\\2833575701.py:1: SettingWithCopyWarning: \n",
      "A value is trying to be set on a copy of a slice from a DataFrame.\n",
      "Try using .loc[row_indexer,col_indexer] = value instead\n",
      "\n",
      "See the caveats in the documentation: https://pandas.pydata.org/pandas-docs/stable/user_guide/indexing.html#returning-a-view-versus-a-copy\n",
      "  my_df['dm_per']= my_df.apply(lambda x: x.damageDealt/x.damageTaken if x.damageTaken != 0 else 0,axis = 1)\n"
     ]
    }
   ],
   "source": [
    "my_df['dm_per']= my_df.apply(lambda x: x.damageDealt/x.damageTaken if x.damageTaken != 0 else 0,axis = 1)"
   ]
  },
  {
   "cell_type": "code",
   "execution_count": 90,
   "id": "e2df9f2c",
   "metadata": {},
   "outputs": [
    {
     "data": {
      "text/html": [
       "<div>\n",
       "<style scoped>\n",
       "    .dataframe tbody tr th:only-of-type {\n",
       "        vertical-align: middle;\n",
       "    }\n",
       "\n",
       "    .dataframe tbody tr th {\n",
       "        vertical-align: top;\n",
       "    }\n",
       "\n",
       "    .dataframe thead th {\n",
       "        text-align: right;\n",
       "    }\n",
       "</style>\n",
       "<table border=\"1\" class=\"dataframe\">\n",
       "  <thead>\n",
       "    <tr style=\"text-align: right;\">\n",
       "      <th></th>\n",
       "      <th>gameId</th>\n",
       "      <th>duration</th>\n",
       "      <th>participantId</th>\n",
       "      <th>championId</th>\n",
       "      <th>lane</th>\n",
       "      <th>side</th>\n",
       "      <th>win</th>\n",
       "      <th>damageDealt</th>\n",
       "      <th>damageTaken</th>\n",
       "      <th>gold</th>\n",
       "      <th>kills</th>\n",
       "      <th>deaths</th>\n",
       "      <th>assists</th>\n",
       "      <th>dm_per</th>\n",
       "      <th>dm_gold</th>\n",
       "    </tr>\n",
       "  </thead>\n",
       "  <tbody>\n",
       "    <tr>\n",
       "      <th>0</th>\n",
       "      <td>5311499506</td>\n",
       "      <td>2196</td>\n",
       "      <td>1</td>\n",
       "      <td>412</td>\n",
       "      <td>Supporter</td>\n",
       "      <td>blue</td>\n",
       "      <td>True</td>\n",
       "      <td>5969</td>\n",
       "      <td>16076</td>\n",
       "      <td>9634</td>\n",
       "      <td>0</td>\n",
       "      <td>3</td>\n",
       "      <td>20</td>\n",
       "      <td>0.371299</td>\n",
       "      <td>none</td>\n",
       "    </tr>\n",
       "    <tr>\n",
       "      <th>1</th>\n",
       "      <td>5311499506</td>\n",
       "      <td>2196</td>\n",
       "      <td>2</td>\n",
       "      <td>517</td>\n",
       "      <td>Middle</td>\n",
       "      <td>blue</td>\n",
       "      <td>True</td>\n",
       "      <td>21107</td>\n",
       "      <td>26083</td>\n",
       "      <td>13317</td>\n",
       "      <td>5</td>\n",
       "      <td>3</td>\n",
       "      <td>11</td>\n",
       "      <td>0.809224</td>\n",
       "      <td>none</td>\n",
       "    </tr>\n",
       "    <tr>\n",
       "      <th>2</th>\n",
       "      <td>5311499506</td>\n",
       "      <td>2196</td>\n",
       "      <td>3</td>\n",
       "      <td>145</td>\n",
       "      <td>Bot</td>\n",
       "      <td>blue</td>\n",
       "      <td>True</td>\n",
       "      <td>28755</td>\n",
       "      <td>16542</td>\n",
       "      <td>19154</td>\n",
       "      <td>11</td>\n",
       "      <td>2</td>\n",
       "      <td>10</td>\n",
       "      <td>1.738303</td>\n",
       "      <td>none</td>\n",
       "    </tr>\n",
       "    <tr>\n",
       "      <th>3</th>\n",
       "      <td>5311499506</td>\n",
       "      <td>2196</td>\n",
       "      <td>4</td>\n",
       "      <td>234</td>\n",
       "      <td>Jungle</td>\n",
       "      <td>blue</td>\n",
       "      <td>True</td>\n",
       "      <td>18808</td>\n",
       "      <td>31963</td>\n",
       "      <td>15297</td>\n",
       "      <td>9</td>\n",
       "      <td>4</td>\n",
       "      <td>10</td>\n",
       "      <td>0.588430</td>\n",
       "      <td>none</td>\n",
       "    </tr>\n",
       "    <tr>\n",
       "      <th>4</th>\n",
       "      <td>5311499506</td>\n",
       "      <td>2196</td>\n",
       "      <td>5</td>\n",
       "      <td>266</td>\n",
       "      <td>Top</td>\n",
       "      <td>blue</td>\n",
       "      <td>True</td>\n",
       "      <td>15994</td>\n",
       "      <td>41212</td>\n",
       "      <td>13551</td>\n",
       "      <td>3</td>\n",
       "      <td>4</td>\n",
       "      <td>13</td>\n",
       "      <td>0.388091</td>\n",
       "      <td>none</td>\n",
       "    </tr>\n",
       "    <tr>\n",
       "      <th>...</th>\n",
       "      <td>...</td>\n",
       "      <td>...</td>\n",
       "      <td>...</td>\n",
       "      <td>...</td>\n",
       "      <td>...</td>\n",
       "      <td>...</td>\n",
       "      <td>...</td>\n",
       "      <td>...</td>\n",
       "      <td>...</td>\n",
       "      <td>...</td>\n",
       "      <td>...</td>\n",
       "      <td>...</td>\n",
       "      <td>...</td>\n",
       "      <td>...</td>\n",
       "      <td>...</td>\n",
       "    </tr>\n",
       "    <tr>\n",
       "      <th>999995</th>\n",
       "      <td>5346520241</td>\n",
       "      <td>1786</td>\n",
       "      <td>6</td>\n",
       "      <td>89</td>\n",
       "      <td>Supporter</td>\n",
       "      <td>red</td>\n",
       "      <td>True</td>\n",
       "      <td>7562</td>\n",
       "      <td>22776</td>\n",
       "      <td>8885</td>\n",
       "      <td>2</td>\n",
       "      <td>8</td>\n",
       "      <td>19</td>\n",
       "      <td>0.332016</td>\n",
       "      <td>none</td>\n",
       "    </tr>\n",
       "    <tr>\n",
       "      <th>999996</th>\n",
       "      <td>5346520241</td>\n",
       "      <td>1786</td>\n",
       "      <td>7</td>\n",
       "      <td>92</td>\n",
       "      <td>Top</td>\n",
       "      <td>red</td>\n",
       "      <td>True</td>\n",
       "      <td>15334</td>\n",
       "      <td>24188</td>\n",
       "      <td>11123</td>\n",
       "      <td>3</td>\n",
       "      <td>5</td>\n",
       "      <td>7</td>\n",
       "      <td>0.633951</td>\n",
       "      <td>none</td>\n",
       "    </tr>\n",
       "    <tr>\n",
       "      <th>999997</th>\n",
       "      <td>5346520241</td>\n",
       "      <td>1786</td>\n",
       "      <td>8</td>\n",
       "      <td>91</td>\n",
       "      <td>Middle</td>\n",
       "      <td>red</td>\n",
       "      <td>True</td>\n",
       "      <td>27626</td>\n",
       "      <td>23651</td>\n",
       "      <td>13600</td>\n",
       "      <td>9</td>\n",
       "      <td>11</td>\n",
       "      <td>9</td>\n",
       "      <td>1.168069</td>\n",
       "      <td>none</td>\n",
       "    </tr>\n",
       "    <tr>\n",
       "      <th>999998</th>\n",
       "      <td>5346520241</td>\n",
       "      <td>1786</td>\n",
       "      <td>9</td>\n",
       "      <td>141</td>\n",
       "      <td>Jungle</td>\n",
       "      <td>red</td>\n",
       "      <td>True</td>\n",
       "      <td>23209</td>\n",
       "      <td>25823</td>\n",
       "      <td>15988</td>\n",
       "      <td>15</td>\n",
       "      <td>3</td>\n",
       "      <td>7</td>\n",
       "      <td>0.898772</td>\n",
       "      <td>none</td>\n",
       "    </tr>\n",
       "    <tr>\n",
       "      <th>999999</th>\n",
       "      <td>5346520241</td>\n",
       "      <td>1786</td>\n",
       "      <td>10</td>\n",
       "      <td>202</td>\n",
       "      <td>Bot</td>\n",
       "      <td>red</td>\n",
       "      <td>True</td>\n",
       "      <td>20059</td>\n",
       "      <td>21011</td>\n",
       "      <td>12671</td>\n",
       "      <td>8</td>\n",
       "      <td>7</td>\n",
       "      <td>8</td>\n",
       "      <td>0.954690</td>\n",
       "      <td>none</td>\n",
       "    </tr>\n",
       "  </tbody>\n",
       "</table>\n",
       "<p>1000000 rows × 15 columns</p>\n",
       "</div>"
      ],
      "text/plain": [
       "            gameId  duration  participantId  championId       lane  side  \\\n",
       "0       5311499506      2196              1         412  Supporter  blue   \n",
       "1       5311499506      2196              2         517     Middle  blue   \n",
       "2       5311499506      2196              3         145        Bot  blue   \n",
       "3       5311499506      2196              4         234     Jungle  blue   \n",
       "4       5311499506      2196              5         266        Top  blue   \n",
       "...            ...       ...            ...         ...        ...   ...   \n",
       "999995  5346520241      1786              6          89  Supporter   red   \n",
       "999996  5346520241      1786              7          92        Top   red   \n",
       "999997  5346520241      1786              8          91     Middle   red   \n",
       "999998  5346520241      1786              9         141     Jungle   red   \n",
       "999999  5346520241      1786             10         202        Bot   red   \n",
       "\n",
       "         win  damageDealt  damageTaken   gold  kills  deaths  assists  \\\n",
       "0       True         5969        16076   9634      0       3       20   \n",
       "1       True        21107        26083  13317      5       3       11   \n",
       "2       True        28755        16542  19154     11       2       10   \n",
       "3       True        18808        31963  15297      9       4       10   \n",
       "4       True        15994        41212  13551      3       4       13   \n",
       "...      ...          ...          ...    ...    ...     ...      ...   \n",
       "999995  True         7562        22776   8885      2       8       19   \n",
       "999996  True        15334        24188  11123      3       5        7   \n",
       "999997  True        27626        23651  13600      9      11        9   \n",
       "999998  True        23209        25823  15988     15       3        7   \n",
       "999999  True        20059        21011  12671      8       7        8   \n",
       "\n",
       "          dm_per dm_gold  \n",
       "0       0.371299    none  \n",
       "1       0.809224    none  \n",
       "2       1.738303    none  \n",
       "3       0.588430    none  \n",
       "4       0.388091    none  \n",
       "...          ...     ...  \n",
       "999995  0.332016    none  \n",
       "999996  0.633951    none  \n",
       "999997  1.168069    none  \n",
       "999998  0.898772    none  \n",
       "999999  0.954690    none  \n",
       "\n",
       "[1000000 rows x 15 columns]"
      ]
     },
     "execution_count": 90,
     "metadata": {},
     "output_type": "execute_result"
    }
   ],
   "source": [
    "my_df"
   ]
  },
  {
   "cell_type": "code",
   "execution_count": 68,
   "id": "30cda722",
   "metadata": {},
   "outputs": [
    {
     "name": "stderr",
     "output_type": "stream",
     "text": [
      "C:\\Users\\user\\AppData\\Local\\Temp\\ipykernel_19388\\755468147.py:1: SettingWithCopyWarning: \n",
      "A value is trying to be set on a copy of a slice from a DataFrame.\n",
      "Try using .loc[row_indexer,col_indexer] = value instead\n",
      "\n",
      "See the caveats in the documentation: https://pandas.pydata.org/pandas-docs/stable/user_guide/indexing.html#returning-a-view-versus-a-copy\n",
      "  my_df['dm_gold'] = 'none'\n"
     ]
    }
   ],
   "source": [
    "my_df['dm_gold'] = 'none'"
   ]
  },
  {
   "cell_type": "code",
   "execution_count": 69,
   "id": "248e65e9",
   "metadata": {},
   "outputs": [
    {
     "data": {
      "text/html": [
       "<div>\n",
       "<style scoped>\n",
       "    .dataframe tbody tr th:only-of-type {\n",
       "        vertical-align: middle;\n",
       "    }\n",
       "\n",
       "    .dataframe tbody tr th {\n",
       "        vertical-align: top;\n",
       "    }\n",
       "\n",
       "    .dataframe thead th {\n",
       "        text-align: right;\n",
       "    }\n",
       "</style>\n",
       "<table border=\"1\" class=\"dataframe\">\n",
       "  <thead>\n",
       "    <tr style=\"text-align: right;\">\n",
       "      <th></th>\n",
       "      <th>gameId</th>\n",
       "      <th>duration</th>\n",
       "      <th>participantId</th>\n",
       "      <th>championId</th>\n",
       "      <th>lane</th>\n",
       "      <th>side</th>\n",
       "      <th>win</th>\n",
       "      <th>damageDealt</th>\n",
       "      <th>damageTaken</th>\n",
       "      <th>gold</th>\n",
       "      <th>kills</th>\n",
       "      <th>deaths</th>\n",
       "      <th>assists</th>\n",
       "      <th>dm_per</th>\n",
       "      <th>dm_gold</th>\n",
       "    </tr>\n",
       "  </thead>\n",
       "  <tbody>\n",
       "    <tr>\n",
       "      <th>0</th>\n",
       "      <td>5311499506</td>\n",
       "      <td>2196</td>\n",
       "      <td>1</td>\n",
       "      <td>412</td>\n",
       "      <td>Supporter</td>\n",
       "      <td>blue</td>\n",
       "      <td>True</td>\n",
       "      <td>5969</td>\n",
       "      <td>16076</td>\n",
       "      <td>9634</td>\n",
       "      <td>0</td>\n",
       "      <td>3</td>\n",
       "      <td>20</td>\n",
       "      <td>none</td>\n",
       "      <td>none</td>\n",
       "    </tr>\n",
       "    <tr>\n",
       "      <th>1</th>\n",
       "      <td>5311499506</td>\n",
       "      <td>2196</td>\n",
       "      <td>2</td>\n",
       "      <td>517</td>\n",
       "      <td>Middle</td>\n",
       "      <td>blue</td>\n",
       "      <td>True</td>\n",
       "      <td>21107</td>\n",
       "      <td>26083</td>\n",
       "      <td>13317</td>\n",
       "      <td>5</td>\n",
       "      <td>3</td>\n",
       "      <td>11</td>\n",
       "      <td>none</td>\n",
       "      <td>none</td>\n",
       "    </tr>\n",
       "    <tr>\n",
       "      <th>2</th>\n",
       "      <td>5311499506</td>\n",
       "      <td>2196</td>\n",
       "      <td>3</td>\n",
       "      <td>145</td>\n",
       "      <td>Bot</td>\n",
       "      <td>blue</td>\n",
       "      <td>True</td>\n",
       "      <td>28755</td>\n",
       "      <td>16542</td>\n",
       "      <td>19154</td>\n",
       "      <td>11</td>\n",
       "      <td>2</td>\n",
       "      <td>10</td>\n",
       "      <td>none</td>\n",
       "      <td>none</td>\n",
       "    </tr>\n",
       "    <tr>\n",
       "      <th>3</th>\n",
       "      <td>5311499506</td>\n",
       "      <td>2196</td>\n",
       "      <td>4</td>\n",
       "      <td>234</td>\n",
       "      <td>Jungle</td>\n",
       "      <td>blue</td>\n",
       "      <td>True</td>\n",
       "      <td>18808</td>\n",
       "      <td>31963</td>\n",
       "      <td>15297</td>\n",
       "      <td>9</td>\n",
       "      <td>4</td>\n",
       "      <td>10</td>\n",
       "      <td>none</td>\n",
       "      <td>none</td>\n",
       "    </tr>\n",
       "    <tr>\n",
       "      <th>4</th>\n",
       "      <td>5311499506</td>\n",
       "      <td>2196</td>\n",
       "      <td>5</td>\n",
       "      <td>266</td>\n",
       "      <td>Top</td>\n",
       "      <td>blue</td>\n",
       "      <td>True</td>\n",
       "      <td>15994</td>\n",
       "      <td>41212</td>\n",
       "      <td>13551</td>\n",
       "      <td>3</td>\n",
       "      <td>4</td>\n",
       "      <td>13</td>\n",
       "      <td>none</td>\n",
       "      <td>none</td>\n",
       "    </tr>\n",
       "    <tr>\n",
       "      <th>...</th>\n",
       "      <td>...</td>\n",
       "      <td>...</td>\n",
       "      <td>...</td>\n",
       "      <td>...</td>\n",
       "      <td>...</td>\n",
       "      <td>...</td>\n",
       "      <td>...</td>\n",
       "      <td>...</td>\n",
       "      <td>...</td>\n",
       "      <td>...</td>\n",
       "      <td>...</td>\n",
       "      <td>...</td>\n",
       "      <td>...</td>\n",
       "      <td>...</td>\n",
       "      <td>...</td>\n",
       "    </tr>\n",
       "    <tr>\n",
       "      <th>999995</th>\n",
       "      <td>5346520241</td>\n",
       "      <td>1786</td>\n",
       "      <td>6</td>\n",
       "      <td>89</td>\n",
       "      <td>Supporter</td>\n",
       "      <td>red</td>\n",
       "      <td>True</td>\n",
       "      <td>7562</td>\n",
       "      <td>22776</td>\n",
       "      <td>8885</td>\n",
       "      <td>2</td>\n",
       "      <td>8</td>\n",
       "      <td>19</td>\n",
       "      <td>none</td>\n",
       "      <td>none</td>\n",
       "    </tr>\n",
       "    <tr>\n",
       "      <th>999996</th>\n",
       "      <td>5346520241</td>\n",
       "      <td>1786</td>\n",
       "      <td>7</td>\n",
       "      <td>92</td>\n",
       "      <td>Top</td>\n",
       "      <td>red</td>\n",
       "      <td>True</td>\n",
       "      <td>15334</td>\n",
       "      <td>24188</td>\n",
       "      <td>11123</td>\n",
       "      <td>3</td>\n",
       "      <td>5</td>\n",
       "      <td>7</td>\n",
       "      <td>none</td>\n",
       "      <td>none</td>\n",
       "    </tr>\n",
       "    <tr>\n",
       "      <th>999997</th>\n",
       "      <td>5346520241</td>\n",
       "      <td>1786</td>\n",
       "      <td>8</td>\n",
       "      <td>91</td>\n",
       "      <td>Middle</td>\n",
       "      <td>red</td>\n",
       "      <td>True</td>\n",
       "      <td>27626</td>\n",
       "      <td>23651</td>\n",
       "      <td>13600</td>\n",
       "      <td>9</td>\n",
       "      <td>11</td>\n",
       "      <td>9</td>\n",
       "      <td>none</td>\n",
       "      <td>none</td>\n",
       "    </tr>\n",
       "    <tr>\n",
       "      <th>999998</th>\n",
       "      <td>5346520241</td>\n",
       "      <td>1786</td>\n",
       "      <td>9</td>\n",
       "      <td>141</td>\n",
       "      <td>Jungle</td>\n",
       "      <td>red</td>\n",
       "      <td>True</td>\n",
       "      <td>23209</td>\n",
       "      <td>25823</td>\n",
       "      <td>15988</td>\n",
       "      <td>15</td>\n",
       "      <td>3</td>\n",
       "      <td>7</td>\n",
       "      <td>none</td>\n",
       "      <td>none</td>\n",
       "    </tr>\n",
       "    <tr>\n",
       "      <th>999999</th>\n",
       "      <td>5346520241</td>\n",
       "      <td>1786</td>\n",
       "      <td>10</td>\n",
       "      <td>202</td>\n",
       "      <td>Bot</td>\n",
       "      <td>red</td>\n",
       "      <td>True</td>\n",
       "      <td>20059</td>\n",
       "      <td>21011</td>\n",
       "      <td>12671</td>\n",
       "      <td>8</td>\n",
       "      <td>7</td>\n",
       "      <td>8</td>\n",
       "      <td>none</td>\n",
       "      <td>none</td>\n",
       "    </tr>\n",
       "  </tbody>\n",
       "</table>\n",
       "<p>1000000 rows × 15 columns</p>\n",
       "</div>"
      ],
      "text/plain": [
       "            gameId  duration  participantId  championId       lane  side  \\\n",
       "0       5311499506      2196              1         412  Supporter  blue   \n",
       "1       5311499506      2196              2         517     Middle  blue   \n",
       "2       5311499506      2196              3         145        Bot  blue   \n",
       "3       5311499506      2196              4         234     Jungle  blue   \n",
       "4       5311499506      2196              5         266        Top  blue   \n",
       "...            ...       ...            ...         ...        ...   ...   \n",
       "999995  5346520241      1786              6          89  Supporter   red   \n",
       "999996  5346520241      1786              7          92        Top   red   \n",
       "999997  5346520241      1786              8          91     Middle   red   \n",
       "999998  5346520241      1786              9         141     Jungle   red   \n",
       "999999  5346520241      1786             10         202        Bot   red   \n",
       "\n",
       "         win  damageDealt  damageTaken   gold  kills  deaths  assists dm_per  \\\n",
       "0       True         5969        16076   9634      0       3       20   none   \n",
       "1       True        21107        26083  13317      5       3       11   none   \n",
       "2       True        28755        16542  19154     11       2       10   none   \n",
       "3       True        18808        31963  15297      9       4       10   none   \n",
       "4       True        15994        41212  13551      3       4       13   none   \n",
       "...      ...          ...          ...    ...    ...     ...      ...    ...   \n",
       "999995  True         7562        22776   8885      2       8       19   none   \n",
       "999996  True        15334        24188  11123      3       5        7   none   \n",
       "999997  True        27626        23651  13600      9      11        9   none   \n",
       "999998  True        23209        25823  15988     15       3        7   none   \n",
       "999999  True        20059        21011  12671      8       7        8   none   \n",
       "\n",
       "       dm_gold  \n",
       "0         none  \n",
       "1         none  \n",
       "2         none  \n",
       "3         none  \n",
       "4         none  \n",
       "...        ...  \n",
       "999995    none  \n",
       "999996    none  \n",
       "999997    none  \n",
       "999998    none  \n",
       "999999    none  \n",
       "\n",
       "[1000000 rows x 15 columns]"
      ]
     },
     "execution_count": 69,
     "metadata": {},
     "output_type": "execute_result"
    }
   ],
   "source": [
    "my_df"
   ]
  },
  {
   "cell_type": "code",
   "execution_count": 101,
   "id": "eef17e58",
   "metadata": {},
   "outputs": [],
   "source": [
    "blue_team = my_df[my_df.side == 'blue'].copy()"
   ]
  },
  {
   "cell_type": "code",
   "execution_count": 102,
   "id": "12d4d72a",
   "metadata": {},
   "outputs": [
    {
     "data": {
      "text/html": [
       "<div>\n",
       "<style scoped>\n",
       "    .dataframe tbody tr th:only-of-type {\n",
       "        vertical-align: middle;\n",
       "    }\n",
       "\n",
       "    .dataframe tbody tr th {\n",
       "        vertical-align: top;\n",
       "    }\n",
       "\n",
       "    .dataframe thead th {\n",
       "        text-align: right;\n",
       "    }\n",
       "</style>\n",
       "<table border=\"1\" class=\"dataframe\">\n",
       "  <thead>\n",
       "    <tr style=\"text-align: right;\">\n",
       "      <th></th>\n",
       "      <th>gameId</th>\n",
       "      <th>duration</th>\n",
       "      <th>participantId</th>\n",
       "      <th>championId</th>\n",
       "      <th>lane</th>\n",
       "      <th>side</th>\n",
       "      <th>win</th>\n",
       "      <th>damageDealt</th>\n",
       "      <th>damageTaken</th>\n",
       "      <th>gold</th>\n",
       "      <th>kills</th>\n",
       "      <th>deaths</th>\n",
       "      <th>assists</th>\n",
       "    </tr>\n",
       "  </thead>\n",
       "  <tbody>\n",
       "    <tr>\n",
       "      <th>0</th>\n",
       "      <td>5311499506</td>\n",
       "      <td>2196</td>\n",
       "      <td>1</td>\n",
       "      <td>412</td>\n",
       "      <td>Supporter</td>\n",
       "      <td>blue</td>\n",
       "      <td>True</td>\n",
       "      <td>5969</td>\n",
       "      <td>16076</td>\n",
       "      <td>9634</td>\n",
       "      <td>0</td>\n",
       "      <td>3</td>\n",
       "      <td>20</td>\n",
       "    </tr>\n",
       "    <tr>\n",
       "      <th>1</th>\n",
       "      <td>5311499506</td>\n",
       "      <td>2196</td>\n",
       "      <td>2</td>\n",
       "      <td>517</td>\n",
       "      <td>Middle</td>\n",
       "      <td>blue</td>\n",
       "      <td>True</td>\n",
       "      <td>21107</td>\n",
       "      <td>26083</td>\n",
       "      <td>13317</td>\n",
       "      <td>5</td>\n",
       "      <td>3</td>\n",
       "      <td>11</td>\n",
       "    </tr>\n",
       "    <tr>\n",
       "      <th>2</th>\n",
       "      <td>5311499506</td>\n",
       "      <td>2196</td>\n",
       "      <td>3</td>\n",
       "      <td>145</td>\n",
       "      <td>Bot</td>\n",
       "      <td>blue</td>\n",
       "      <td>True</td>\n",
       "      <td>28755</td>\n",
       "      <td>16542</td>\n",
       "      <td>19154</td>\n",
       "      <td>11</td>\n",
       "      <td>2</td>\n",
       "      <td>10</td>\n",
       "    </tr>\n",
       "    <tr>\n",
       "      <th>3</th>\n",
       "      <td>5311499506</td>\n",
       "      <td>2196</td>\n",
       "      <td>4</td>\n",
       "      <td>234</td>\n",
       "      <td>Jungle</td>\n",
       "      <td>blue</td>\n",
       "      <td>True</td>\n",
       "      <td>18808</td>\n",
       "      <td>31963</td>\n",
       "      <td>15297</td>\n",
       "      <td>9</td>\n",
       "      <td>4</td>\n",
       "      <td>10</td>\n",
       "    </tr>\n",
       "    <tr>\n",
       "      <th>4</th>\n",
       "      <td>5311499506</td>\n",
       "      <td>2196</td>\n",
       "      <td>5</td>\n",
       "      <td>266</td>\n",
       "      <td>Top</td>\n",
       "      <td>blue</td>\n",
       "      <td>True</td>\n",
       "      <td>15994</td>\n",
       "      <td>41212</td>\n",
       "      <td>13551</td>\n",
       "      <td>3</td>\n",
       "      <td>4</td>\n",
       "      <td>13</td>\n",
       "    </tr>\n",
       "    <tr>\n",
       "      <th>...</th>\n",
       "      <td>...</td>\n",
       "      <td>...</td>\n",
       "      <td>...</td>\n",
       "      <td>...</td>\n",
       "      <td>...</td>\n",
       "      <td>...</td>\n",
       "      <td>...</td>\n",
       "      <td>...</td>\n",
       "      <td>...</td>\n",
       "      <td>...</td>\n",
       "      <td>...</td>\n",
       "      <td>...</td>\n",
       "      <td>...</td>\n",
       "    </tr>\n",
       "    <tr>\n",
       "      <th>999990</th>\n",
       "      <td>5346520241</td>\n",
       "      <td>1786</td>\n",
       "      <td>1</td>\n",
       "      <td>163</td>\n",
       "      <td>Jungle</td>\n",
       "      <td>blue</td>\n",
       "      <td>False</td>\n",
       "      <td>18635</td>\n",
       "      <td>24301</td>\n",
       "      <td>13457</td>\n",
       "      <td>7</td>\n",
       "      <td>7</td>\n",
       "      <td>11</td>\n",
       "    </tr>\n",
       "    <tr>\n",
       "      <th>999991</th>\n",
       "      <td>5346520241</td>\n",
       "      <td>1786</td>\n",
       "      <td>2</td>\n",
       "      <td>106</td>\n",
       "      <td>Top</td>\n",
       "      <td>blue</td>\n",
       "      <td>False</td>\n",
       "      <td>20092</td>\n",
       "      <td>31179</td>\n",
       "      <td>10901</td>\n",
       "      <td>4</td>\n",
       "      <td>7</td>\n",
       "      <td>15</td>\n",
       "    </tr>\n",
       "    <tr>\n",
       "      <th>999992</th>\n",
       "      <td>5346520241</td>\n",
       "      <td>1786</td>\n",
       "      <td>3</td>\n",
       "      <td>236</td>\n",
       "      <td>Middle</td>\n",
       "      <td>blue</td>\n",
       "      <td>False</td>\n",
       "      <td>17375</td>\n",
       "      <td>16639</td>\n",
       "      <td>14392</td>\n",
       "      <td>14</td>\n",
       "      <td>7</td>\n",
       "      <td>6</td>\n",
       "    </tr>\n",
       "    <tr>\n",
       "      <th>999993</th>\n",
       "      <td>5346520241</td>\n",
       "      <td>1786</td>\n",
       "      <td>4</td>\n",
       "      <td>40</td>\n",
       "      <td>Supporter</td>\n",
       "      <td>blue</td>\n",
       "      <td>False</td>\n",
       "      <td>6657</td>\n",
       "      <td>15788</td>\n",
       "      <td>7315</td>\n",
       "      <td>1</td>\n",
       "      <td>6</td>\n",
       "      <td>18</td>\n",
       "    </tr>\n",
       "    <tr>\n",
       "      <th>999994</th>\n",
       "      <td>5346520241</td>\n",
       "      <td>1786</td>\n",
       "      <td>5</td>\n",
       "      <td>21</td>\n",
       "      <td>Bot</td>\n",
       "      <td>blue</td>\n",
       "      <td>False</td>\n",
       "      <td>25028</td>\n",
       "      <td>24984</td>\n",
       "      <td>13221</td>\n",
       "      <td>8</td>\n",
       "      <td>10</td>\n",
       "      <td>11</td>\n",
       "    </tr>\n",
       "  </tbody>\n",
       "</table>\n",
       "<p>500000 rows × 13 columns</p>\n",
       "</div>"
      ],
      "text/plain": [
       "            gameId  duration  participantId  championId       lane  side  \\\n",
       "0       5311499506      2196              1         412  Supporter  blue   \n",
       "1       5311499506      2196              2         517     Middle  blue   \n",
       "2       5311499506      2196              3         145        Bot  blue   \n",
       "3       5311499506      2196              4         234     Jungle  blue   \n",
       "4       5311499506      2196              5         266        Top  blue   \n",
       "...            ...       ...            ...         ...        ...   ...   \n",
       "999990  5346520241      1786              1         163     Jungle  blue   \n",
       "999991  5346520241      1786              2         106        Top  blue   \n",
       "999992  5346520241      1786              3         236     Middle  blue   \n",
       "999993  5346520241      1786              4          40  Supporter  blue   \n",
       "999994  5346520241      1786              5          21        Bot  blue   \n",
       "\n",
       "          win  damageDealt  damageTaken   gold  kills  deaths  assists  \n",
       "0        True         5969        16076   9634      0       3       20  \n",
       "1        True        21107        26083  13317      5       3       11  \n",
       "2        True        28755        16542  19154     11       2       10  \n",
       "3        True        18808        31963  15297      9       4       10  \n",
       "4        True        15994        41212  13551      3       4       13  \n",
       "...       ...          ...          ...    ...    ...     ...      ...  \n",
       "999990  False        18635        24301  13457      7       7       11  \n",
       "999991  False        20092        31179  10901      4       7       15  \n",
       "999992  False        17375        16639  14392     14       7        6  \n",
       "999993  False         6657        15788   7315      1       6       18  \n",
       "999994  False        25028        24984  13221      8      10       11  \n",
       "\n",
       "[500000 rows x 13 columns]"
      ]
     },
     "execution_count": 102,
     "metadata": {},
     "output_type": "execute_result"
    }
   ],
   "source": [
    "blue_team"
   ]
  },
  {
   "cell_type": "code",
   "execution_count": 103,
   "id": "ff7b467f",
   "metadata": {},
   "outputs": [],
   "source": [
    "blue_team['dm_gold']= blue_team.apply(lambda i: i.damageDealt/i.gold ,axis = 1)"
   ]
  },
  {
   "cell_type": "code",
   "execution_count": 104,
   "id": "83d45f64",
   "metadata": {},
   "outputs": [
    {
     "data": {
      "text/html": [
       "<div>\n",
       "<style scoped>\n",
       "    .dataframe tbody tr th:only-of-type {\n",
       "        vertical-align: middle;\n",
       "    }\n",
       "\n",
       "    .dataframe tbody tr th {\n",
       "        vertical-align: top;\n",
       "    }\n",
       "\n",
       "    .dataframe thead th {\n",
       "        text-align: right;\n",
       "    }\n",
       "</style>\n",
       "<table border=\"1\" class=\"dataframe\">\n",
       "  <thead>\n",
       "    <tr style=\"text-align: right;\">\n",
       "      <th></th>\n",
       "      <th>gameId</th>\n",
       "      <th>duration</th>\n",
       "      <th>participantId</th>\n",
       "      <th>championId</th>\n",
       "      <th>lane</th>\n",
       "      <th>side</th>\n",
       "      <th>win</th>\n",
       "      <th>damageDealt</th>\n",
       "      <th>damageTaken</th>\n",
       "      <th>gold</th>\n",
       "      <th>kills</th>\n",
       "      <th>deaths</th>\n",
       "      <th>assists</th>\n",
       "      <th>dm_gold</th>\n",
       "    </tr>\n",
       "  </thead>\n",
       "  <tbody>\n",
       "    <tr>\n",
       "      <th>0</th>\n",
       "      <td>5311499506</td>\n",
       "      <td>2196</td>\n",
       "      <td>1</td>\n",
       "      <td>412</td>\n",
       "      <td>Supporter</td>\n",
       "      <td>blue</td>\n",
       "      <td>True</td>\n",
       "      <td>5969</td>\n",
       "      <td>16076</td>\n",
       "      <td>9634</td>\n",
       "      <td>0</td>\n",
       "      <td>3</td>\n",
       "      <td>20</td>\n",
       "      <td>0.619576</td>\n",
       "    </tr>\n",
       "    <tr>\n",
       "      <th>1</th>\n",
       "      <td>5311499506</td>\n",
       "      <td>2196</td>\n",
       "      <td>2</td>\n",
       "      <td>517</td>\n",
       "      <td>Middle</td>\n",
       "      <td>blue</td>\n",
       "      <td>True</td>\n",
       "      <td>21107</td>\n",
       "      <td>26083</td>\n",
       "      <td>13317</td>\n",
       "      <td>5</td>\n",
       "      <td>3</td>\n",
       "      <td>11</td>\n",
       "      <td>1.584967</td>\n",
       "    </tr>\n",
       "    <tr>\n",
       "      <th>2</th>\n",
       "      <td>5311499506</td>\n",
       "      <td>2196</td>\n",
       "      <td>3</td>\n",
       "      <td>145</td>\n",
       "      <td>Bot</td>\n",
       "      <td>blue</td>\n",
       "      <td>True</td>\n",
       "      <td>28755</td>\n",
       "      <td>16542</td>\n",
       "      <td>19154</td>\n",
       "      <td>11</td>\n",
       "      <td>2</td>\n",
       "      <td>10</td>\n",
       "      <td>1.501253</td>\n",
       "    </tr>\n",
       "    <tr>\n",
       "      <th>3</th>\n",
       "      <td>5311499506</td>\n",
       "      <td>2196</td>\n",
       "      <td>4</td>\n",
       "      <td>234</td>\n",
       "      <td>Jungle</td>\n",
       "      <td>blue</td>\n",
       "      <td>True</td>\n",
       "      <td>18808</td>\n",
       "      <td>31963</td>\n",
       "      <td>15297</td>\n",
       "      <td>9</td>\n",
       "      <td>4</td>\n",
       "      <td>10</td>\n",
       "      <td>1.229522</td>\n",
       "    </tr>\n",
       "    <tr>\n",
       "      <th>4</th>\n",
       "      <td>5311499506</td>\n",
       "      <td>2196</td>\n",
       "      <td>5</td>\n",
       "      <td>266</td>\n",
       "      <td>Top</td>\n",
       "      <td>blue</td>\n",
       "      <td>True</td>\n",
       "      <td>15994</td>\n",
       "      <td>41212</td>\n",
       "      <td>13551</td>\n",
       "      <td>3</td>\n",
       "      <td>4</td>\n",
       "      <td>13</td>\n",
       "      <td>1.180282</td>\n",
       "    </tr>\n",
       "    <tr>\n",
       "      <th>...</th>\n",
       "      <td>...</td>\n",
       "      <td>...</td>\n",
       "      <td>...</td>\n",
       "      <td>...</td>\n",
       "      <td>...</td>\n",
       "      <td>...</td>\n",
       "      <td>...</td>\n",
       "      <td>...</td>\n",
       "      <td>...</td>\n",
       "      <td>...</td>\n",
       "      <td>...</td>\n",
       "      <td>...</td>\n",
       "      <td>...</td>\n",
       "      <td>...</td>\n",
       "    </tr>\n",
       "    <tr>\n",
       "      <th>999990</th>\n",
       "      <td>5346520241</td>\n",
       "      <td>1786</td>\n",
       "      <td>1</td>\n",
       "      <td>163</td>\n",
       "      <td>Jungle</td>\n",
       "      <td>blue</td>\n",
       "      <td>False</td>\n",
       "      <td>18635</td>\n",
       "      <td>24301</td>\n",
       "      <td>13457</td>\n",
       "      <td>7</td>\n",
       "      <td>7</td>\n",
       "      <td>11</td>\n",
       "      <td>1.384781</td>\n",
       "    </tr>\n",
       "    <tr>\n",
       "      <th>999991</th>\n",
       "      <td>5346520241</td>\n",
       "      <td>1786</td>\n",
       "      <td>2</td>\n",
       "      <td>106</td>\n",
       "      <td>Top</td>\n",
       "      <td>blue</td>\n",
       "      <td>False</td>\n",
       "      <td>20092</td>\n",
       "      <td>31179</td>\n",
       "      <td>10901</td>\n",
       "      <td>4</td>\n",
       "      <td>7</td>\n",
       "      <td>15</td>\n",
       "      <td>1.843134</td>\n",
       "    </tr>\n",
       "    <tr>\n",
       "      <th>999992</th>\n",
       "      <td>5346520241</td>\n",
       "      <td>1786</td>\n",
       "      <td>3</td>\n",
       "      <td>236</td>\n",
       "      <td>Middle</td>\n",
       "      <td>blue</td>\n",
       "      <td>False</td>\n",
       "      <td>17375</td>\n",
       "      <td>16639</td>\n",
       "      <td>14392</td>\n",
       "      <td>14</td>\n",
       "      <td>7</td>\n",
       "      <td>6</td>\n",
       "      <td>1.207268</td>\n",
       "    </tr>\n",
       "    <tr>\n",
       "      <th>999993</th>\n",
       "      <td>5346520241</td>\n",
       "      <td>1786</td>\n",
       "      <td>4</td>\n",
       "      <td>40</td>\n",
       "      <td>Supporter</td>\n",
       "      <td>blue</td>\n",
       "      <td>False</td>\n",
       "      <td>6657</td>\n",
       "      <td>15788</td>\n",
       "      <td>7315</td>\n",
       "      <td>1</td>\n",
       "      <td>6</td>\n",
       "      <td>18</td>\n",
       "      <td>0.910048</td>\n",
       "    </tr>\n",
       "    <tr>\n",
       "      <th>999994</th>\n",
       "      <td>5346520241</td>\n",
       "      <td>1786</td>\n",
       "      <td>5</td>\n",
       "      <td>21</td>\n",
       "      <td>Bot</td>\n",
       "      <td>blue</td>\n",
       "      <td>False</td>\n",
       "      <td>25028</td>\n",
       "      <td>24984</td>\n",
       "      <td>13221</td>\n",
       "      <td>8</td>\n",
       "      <td>10</td>\n",
       "      <td>11</td>\n",
       "      <td>1.893049</td>\n",
       "    </tr>\n",
       "  </tbody>\n",
       "</table>\n",
       "<p>500000 rows × 14 columns</p>\n",
       "</div>"
      ],
      "text/plain": [
       "            gameId  duration  participantId  championId       lane  side  \\\n",
       "0       5311499506      2196              1         412  Supporter  blue   \n",
       "1       5311499506      2196              2         517     Middle  blue   \n",
       "2       5311499506      2196              3         145        Bot  blue   \n",
       "3       5311499506      2196              4         234     Jungle  blue   \n",
       "4       5311499506      2196              5         266        Top  blue   \n",
       "...            ...       ...            ...         ...        ...   ...   \n",
       "999990  5346520241      1786              1         163     Jungle  blue   \n",
       "999991  5346520241      1786              2         106        Top  blue   \n",
       "999992  5346520241      1786              3         236     Middle  blue   \n",
       "999993  5346520241      1786              4          40  Supporter  blue   \n",
       "999994  5346520241      1786              5          21        Bot  blue   \n",
       "\n",
       "          win  damageDealt  damageTaken   gold  kills  deaths  assists  \\\n",
       "0        True         5969        16076   9634      0       3       20   \n",
       "1        True        21107        26083  13317      5       3       11   \n",
       "2        True        28755        16542  19154     11       2       10   \n",
       "3        True        18808        31963  15297      9       4       10   \n",
       "4        True        15994        41212  13551      3       4       13   \n",
       "...       ...          ...          ...    ...    ...     ...      ...   \n",
       "999990  False        18635        24301  13457      7       7       11   \n",
       "999991  False        20092        31179  10901      4       7       15   \n",
       "999992  False        17375        16639  14392     14       7        6   \n",
       "999993  False         6657        15788   7315      1       6       18   \n",
       "999994  False        25028        24984  13221      8      10       11   \n",
       "\n",
       "         dm_gold  \n",
       "0       0.619576  \n",
       "1       1.584967  \n",
       "2       1.501253  \n",
       "3       1.229522  \n",
       "4       1.180282  \n",
       "...          ...  \n",
       "999990  1.384781  \n",
       "999991  1.843134  \n",
       "999992  1.207268  \n",
       "999993  0.910048  \n",
       "999994  1.893049  \n",
       "\n",
       "[500000 rows x 14 columns]"
      ]
     },
     "execution_count": 104,
     "metadata": {},
     "output_type": "execute_result"
    }
   ],
   "source": [
    "blue_team"
   ]
  },
  {
   "cell_type": "code",
   "execution_count": 105,
   "id": "c8ed9ef2",
   "metadata": {},
   "outputs": [],
   "source": [
    "red_team = my_df[my_df.side == 'red'].copy()"
   ]
  },
  {
   "cell_type": "code",
   "execution_count": 106,
   "id": "c0938b15",
   "metadata": {},
   "outputs": [
    {
     "data": {
      "text/html": [
       "<div>\n",
       "<style scoped>\n",
       "    .dataframe tbody tr th:only-of-type {\n",
       "        vertical-align: middle;\n",
       "    }\n",
       "\n",
       "    .dataframe tbody tr th {\n",
       "        vertical-align: top;\n",
       "    }\n",
       "\n",
       "    .dataframe thead th {\n",
       "        text-align: right;\n",
       "    }\n",
       "</style>\n",
       "<table border=\"1\" class=\"dataframe\">\n",
       "  <thead>\n",
       "    <tr style=\"text-align: right;\">\n",
       "      <th></th>\n",
       "      <th>gameId</th>\n",
       "      <th>duration</th>\n",
       "      <th>participantId</th>\n",
       "      <th>championId</th>\n",
       "      <th>lane</th>\n",
       "      <th>side</th>\n",
       "      <th>win</th>\n",
       "      <th>damageDealt</th>\n",
       "      <th>damageTaken</th>\n",
       "      <th>gold</th>\n",
       "      <th>kills</th>\n",
       "      <th>deaths</th>\n",
       "      <th>assists</th>\n",
       "    </tr>\n",
       "  </thead>\n",
       "  <tbody>\n",
       "    <tr>\n",
       "      <th>5</th>\n",
       "      <td>5311499506</td>\n",
       "      <td>2196</td>\n",
       "      <td>6</td>\n",
       "      <td>64</td>\n",
       "      <td>Jungle</td>\n",
       "      <td>red</td>\n",
       "      <td>False</td>\n",
       "      <td>10114</td>\n",
       "      <td>35296</td>\n",
       "      <td>11089</td>\n",
       "      <td>1</td>\n",
       "      <td>6</td>\n",
       "      <td>10</td>\n",
       "    </tr>\n",
       "    <tr>\n",
       "      <th>6</th>\n",
       "      <td>5311499506</td>\n",
       "      <td>2196</td>\n",
       "      <td>7</td>\n",
       "      <td>111</td>\n",
       "      <td>Supporter</td>\n",
       "      <td>red</td>\n",
       "      <td>False</td>\n",
       "      <td>9023</td>\n",
       "      <td>21849</td>\n",
       "      <td>7477</td>\n",
       "      <td>1</td>\n",
       "      <td>9</td>\n",
       "      <td>10</td>\n",
       "    </tr>\n",
       "    <tr>\n",
       "      <th>7</th>\n",
       "      <td>5311499506</td>\n",
       "      <td>2196</td>\n",
       "      <td>8</td>\n",
       "      <td>523</td>\n",
       "      <td>Bot</td>\n",
       "      <td>red</td>\n",
       "      <td>False</td>\n",
       "      <td>24162</td>\n",
       "      <td>9262</td>\n",
       "      <td>15054</td>\n",
       "      <td>4</td>\n",
       "      <td>4</td>\n",
       "      <td>5</td>\n",
       "    </tr>\n",
       "    <tr>\n",
       "      <th>8</th>\n",
       "      <td>5311499506</td>\n",
       "      <td>2196</td>\n",
       "      <td>9</td>\n",
       "      <td>86</td>\n",
       "      <td>Middle</td>\n",
       "      <td>red</td>\n",
       "      <td>False</td>\n",
       "      <td>32308</td>\n",
       "      <td>24620</td>\n",
       "      <td>17633</td>\n",
       "      <td>8</td>\n",
       "      <td>2</td>\n",
       "      <td>5</td>\n",
       "    </tr>\n",
       "    <tr>\n",
       "      <th>9</th>\n",
       "      <td>5311499506</td>\n",
       "      <td>2196</td>\n",
       "      <td>10</td>\n",
       "      <td>85</td>\n",
       "      <td>Top</td>\n",
       "      <td>red</td>\n",
       "      <td>False</td>\n",
       "      <td>17896</td>\n",
       "      <td>22636</td>\n",
       "      <td>10931</td>\n",
       "      <td>2</td>\n",
       "      <td>7</td>\n",
       "      <td>6</td>\n",
       "    </tr>\n",
       "    <tr>\n",
       "      <th>...</th>\n",
       "      <td>...</td>\n",
       "      <td>...</td>\n",
       "      <td>...</td>\n",
       "      <td>...</td>\n",
       "      <td>...</td>\n",
       "      <td>...</td>\n",
       "      <td>...</td>\n",
       "      <td>...</td>\n",
       "      <td>...</td>\n",
       "      <td>...</td>\n",
       "      <td>...</td>\n",
       "      <td>...</td>\n",
       "      <td>...</td>\n",
       "    </tr>\n",
       "    <tr>\n",
       "      <th>999995</th>\n",
       "      <td>5346520241</td>\n",
       "      <td>1786</td>\n",
       "      <td>6</td>\n",
       "      <td>89</td>\n",
       "      <td>Supporter</td>\n",
       "      <td>red</td>\n",
       "      <td>True</td>\n",
       "      <td>7562</td>\n",
       "      <td>22776</td>\n",
       "      <td>8885</td>\n",
       "      <td>2</td>\n",
       "      <td>8</td>\n",
       "      <td>19</td>\n",
       "    </tr>\n",
       "    <tr>\n",
       "      <th>999996</th>\n",
       "      <td>5346520241</td>\n",
       "      <td>1786</td>\n",
       "      <td>7</td>\n",
       "      <td>92</td>\n",
       "      <td>Top</td>\n",
       "      <td>red</td>\n",
       "      <td>True</td>\n",
       "      <td>15334</td>\n",
       "      <td>24188</td>\n",
       "      <td>11123</td>\n",
       "      <td>3</td>\n",
       "      <td>5</td>\n",
       "      <td>7</td>\n",
       "    </tr>\n",
       "    <tr>\n",
       "      <th>999997</th>\n",
       "      <td>5346520241</td>\n",
       "      <td>1786</td>\n",
       "      <td>8</td>\n",
       "      <td>91</td>\n",
       "      <td>Middle</td>\n",
       "      <td>red</td>\n",
       "      <td>True</td>\n",
       "      <td>27626</td>\n",
       "      <td>23651</td>\n",
       "      <td>13600</td>\n",
       "      <td>9</td>\n",
       "      <td>11</td>\n",
       "      <td>9</td>\n",
       "    </tr>\n",
       "    <tr>\n",
       "      <th>999998</th>\n",
       "      <td>5346520241</td>\n",
       "      <td>1786</td>\n",
       "      <td>9</td>\n",
       "      <td>141</td>\n",
       "      <td>Jungle</td>\n",
       "      <td>red</td>\n",
       "      <td>True</td>\n",
       "      <td>23209</td>\n",
       "      <td>25823</td>\n",
       "      <td>15988</td>\n",
       "      <td>15</td>\n",
       "      <td>3</td>\n",
       "      <td>7</td>\n",
       "    </tr>\n",
       "    <tr>\n",
       "      <th>999999</th>\n",
       "      <td>5346520241</td>\n",
       "      <td>1786</td>\n",
       "      <td>10</td>\n",
       "      <td>202</td>\n",
       "      <td>Bot</td>\n",
       "      <td>red</td>\n",
       "      <td>True</td>\n",
       "      <td>20059</td>\n",
       "      <td>21011</td>\n",
       "      <td>12671</td>\n",
       "      <td>8</td>\n",
       "      <td>7</td>\n",
       "      <td>8</td>\n",
       "    </tr>\n",
       "  </tbody>\n",
       "</table>\n",
       "<p>500000 rows × 13 columns</p>\n",
       "</div>"
      ],
      "text/plain": [
       "            gameId  duration  participantId  championId       lane side  \\\n",
       "5       5311499506      2196              6          64     Jungle  red   \n",
       "6       5311499506      2196              7         111  Supporter  red   \n",
       "7       5311499506      2196              8         523        Bot  red   \n",
       "8       5311499506      2196              9          86     Middle  red   \n",
       "9       5311499506      2196             10          85        Top  red   \n",
       "...            ...       ...            ...         ...        ...  ...   \n",
       "999995  5346520241      1786              6          89  Supporter  red   \n",
       "999996  5346520241      1786              7          92        Top  red   \n",
       "999997  5346520241      1786              8          91     Middle  red   \n",
       "999998  5346520241      1786              9         141     Jungle  red   \n",
       "999999  5346520241      1786             10         202        Bot  red   \n",
       "\n",
       "          win  damageDealt  damageTaken   gold  kills  deaths  assists  \n",
       "5       False        10114        35296  11089      1       6       10  \n",
       "6       False         9023        21849   7477      1       9       10  \n",
       "7       False        24162         9262  15054      4       4        5  \n",
       "8       False        32308        24620  17633      8       2        5  \n",
       "9       False        17896        22636  10931      2       7        6  \n",
       "...       ...          ...          ...    ...    ...     ...      ...  \n",
       "999995   True         7562        22776   8885      2       8       19  \n",
       "999996   True        15334        24188  11123      3       5        7  \n",
       "999997   True        27626        23651  13600      9      11        9  \n",
       "999998   True        23209        25823  15988     15       3        7  \n",
       "999999   True        20059        21011  12671      8       7        8  \n",
       "\n",
       "[500000 rows x 13 columns]"
      ]
     },
     "execution_count": 106,
     "metadata": {},
     "output_type": "execute_result"
    }
   ],
   "source": [
    "red_team"
   ]
  },
  {
   "cell_type": "code",
   "execution_count": 107,
   "id": "8255d879",
   "metadata": {},
   "outputs": [],
   "source": [
    "red_team['dm_gold']= red_team.apply (lambda j:round(j.damageTaken/j.gold,2) ,axis = 1)"
   ]
  },
  {
   "cell_type": "code",
   "execution_count": 109,
   "id": "fef0a46b",
   "metadata": {},
   "outputs": [
    {
     "data": {
      "text/html": [
       "<div>\n",
       "<style scoped>\n",
       "    .dataframe tbody tr th:only-of-type {\n",
       "        vertical-align: middle;\n",
       "    }\n",
       "\n",
       "    .dataframe tbody tr th {\n",
       "        vertical-align: top;\n",
       "    }\n",
       "\n",
       "    .dataframe thead th {\n",
       "        text-align: right;\n",
       "    }\n",
       "</style>\n",
       "<table border=\"1\" class=\"dataframe\">\n",
       "  <thead>\n",
       "    <tr style=\"text-align: right;\">\n",
       "      <th></th>\n",
       "      <th>gameId</th>\n",
       "      <th>duration</th>\n",
       "      <th>participantId</th>\n",
       "      <th>championId</th>\n",
       "      <th>lane</th>\n",
       "      <th>side</th>\n",
       "      <th>win</th>\n",
       "      <th>damageDealt</th>\n",
       "      <th>damageTaken</th>\n",
       "      <th>gold</th>\n",
       "      <th>kills</th>\n",
       "      <th>deaths</th>\n",
       "      <th>assists</th>\n",
       "      <th>dm_gold</th>\n",
       "    </tr>\n",
       "  </thead>\n",
       "  <tbody>\n",
       "    <tr>\n",
       "      <th>5</th>\n",
       "      <td>5311499506</td>\n",
       "      <td>2196</td>\n",
       "      <td>6</td>\n",
       "      <td>64</td>\n",
       "      <td>Jungle</td>\n",
       "      <td>red</td>\n",
       "      <td>False</td>\n",
       "      <td>10114</td>\n",
       "      <td>35296</td>\n",
       "      <td>11089</td>\n",
       "      <td>1</td>\n",
       "      <td>6</td>\n",
       "      <td>10</td>\n",
       "      <td>3.18</td>\n",
       "    </tr>\n",
       "    <tr>\n",
       "      <th>6</th>\n",
       "      <td>5311499506</td>\n",
       "      <td>2196</td>\n",
       "      <td>7</td>\n",
       "      <td>111</td>\n",
       "      <td>Supporter</td>\n",
       "      <td>red</td>\n",
       "      <td>False</td>\n",
       "      <td>9023</td>\n",
       "      <td>21849</td>\n",
       "      <td>7477</td>\n",
       "      <td>1</td>\n",
       "      <td>9</td>\n",
       "      <td>10</td>\n",
       "      <td>2.92</td>\n",
       "    </tr>\n",
       "    <tr>\n",
       "      <th>7</th>\n",
       "      <td>5311499506</td>\n",
       "      <td>2196</td>\n",
       "      <td>8</td>\n",
       "      <td>523</td>\n",
       "      <td>Bot</td>\n",
       "      <td>red</td>\n",
       "      <td>False</td>\n",
       "      <td>24162</td>\n",
       "      <td>9262</td>\n",
       "      <td>15054</td>\n",
       "      <td>4</td>\n",
       "      <td>4</td>\n",
       "      <td>5</td>\n",
       "      <td>0.62</td>\n",
       "    </tr>\n",
       "    <tr>\n",
       "      <th>8</th>\n",
       "      <td>5311499506</td>\n",
       "      <td>2196</td>\n",
       "      <td>9</td>\n",
       "      <td>86</td>\n",
       "      <td>Middle</td>\n",
       "      <td>red</td>\n",
       "      <td>False</td>\n",
       "      <td>32308</td>\n",
       "      <td>24620</td>\n",
       "      <td>17633</td>\n",
       "      <td>8</td>\n",
       "      <td>2</td>\n",
       "      <td>5</td>\n",
       "      <td>1.40</td>\n",
       "    </tr>\n",
       "    <tr>\n",
       "      <th>9</th>\n",
       "      <td>5311499506</td>\n",
       "      <td>2196</td>\n",
       "      <td>10</td>\n",
       "      <td>85</td>\n",
       "      <td>Top</td>\n",
       "      <td>red</td>\n",
       "      <td>False</td>\n",
       "      <td>17896</td>\n",
       "      <td>22636</td>\n",
       "      <td>10931</td>\n",
       "      <td>2</td>\n",
       "      <td>7</td>\n",
       "      <td>6</td>\n",
       "      <td>2.07</td>\n",
       "    </tr>\n",
       "    <tr>\n",
       "      <th>...</th>\n",
       "      <td>...</td>\n",
       "      <td>...</td>\n",
       "      <td>...</td>\n",
       "      <td>...</td>\n",
       "      <td>...</td>\n",
       "      <td>...</td>\n",
       "      <td>...</td>\n",
       "      <td>...</td>\n",
       "      <td>...</td>\n",
       "      <td>...</td>\n",
       "      <td>...</td>\n",
       "      <td>...</td>\n",
       "      <td>...</td>\n",
       "      <td>...</td>\n",
       "    </tr>\n",
       "    <tr>\n",
       "      <th>999995</th>\n",
       "      <td>5346520241</td>\n",
       "      <td>1786</td>\n",
       "      <td>6</td>\n",
       "      <td>89</td>\n",
       "      <td>Supporter</td>\n",
       "      <td>red</td>\n",
       "      <td>True</td>\n",
       "      <td>7562</td>\n",
       "      <td>22776</td>\n",
       "      <td>8885</td>\n",
       "      <td>2</td>\n",
       "      <td>8</td>\n",
       "      <td>19</td>\n",
       "      <td>2.56</td>\n",
       "    </tr>\n",
       "    <tr>\n",
       "      <th>999996</th>\n",
       "      <td>5346520241</td>\n",
       "      <td>1786</td>\n",
       "      <td>7</td>\n",
       "      <td>92</td>\n",
       "      <td>Top</td>\n",
       "      <td>red</td>\n",
       "      <td>True</td>\n",
       "      <td>15334</td>\n",
       "      <td>24188</td>\n",
       "      <td>11123</td>\n",
       "      <td>3</td>\n",
       "      <td>5</td>\n",
       "      <td>7</td>\n",
       "      <td>2.17</td>\n",
       "    </tr>\n",
       "    <tr>\n",
       "      <th>999997</th>\n",
       "      <td>5346520241</td>\n",
       "      <td>1786</td>\n",
       "      <td>8</td>\n",
       "      <td>91</td>\n",
       "      <td>Middle</td>\n",
       "      <td>red</td>\n",
       "      <td>True</td>\n",
       "      <td>27626</td>\n",
       "      <td>23651</td>\n",
       "      <td>13600</td>\n",
       "      <td>9</td>\n",
       "      <td>11</td>\n",
       "      <td>9</td>\n",
       "      <td>1.74</td>\n",
       "    </tr>\n",
       "    <tr>\n",
       "      <th>999998</th>\n",
       "      <td>5346520241</td>\n",
       "      <td>1786</td>\n",
       "      <td>9</td>\n",
       "      <td>141</td>\n",
       "      <td>Jungle</td>\n",
       "      <td>red</td>\n",
       "      <td>True</td>\n",
       "      <td>23209</td>\n",
       "      <td>25823</td>\n",
       "      <td>15988</td>\n",
       "      <td>15</td>\n",
       "      <td>3</td>\n",
       "      <td>7</td>\n",
       "      <td>1.62</td>\n",
       "    </tr>\n",
       "    <tr>\n",
       "      <th>999999</th>\n",
       "      <td>5346520241</td>\n",
       "      <td>1786</td>\n",
       "      <td>10</td>\n",
       "      <td>202</td>\n",
       "      <td>Bot</td>\n",
       "      <td>red</td>\n",
       "      <td>True</td>\n",
       "      <td>20059</td>\n",
       "      <td>21011</td>\n",
       "      <td>12671</td>\n",
       "      <td>8</td>\n",
       "      <td>7</td>\n",
       "      <td>8</td>\n",
       "      <td>1.66</td>\n",
       "    </tr>\n",
       "  </tbody>\n",
       "</table>\n",
       "<p>500000 rows × 14 columns</p>\n",
       "</div>"
      ],
      "text/plain": [
       "            gameId  duration  participantId  championId       lane side  \\\n",
       "5       5311499506      2196              6          64     Jungle  red   \n",
       "6       5311499506      2196              7         111  Supporter  red   \n",
       "7       5311499506      2196              8         523        Bot  red   \n",
       "8       5311499506      2196              9          86     Middle  red   \n",
       "9       5311499506      2196             10          85        Top  red   \n",
       "...            ...       ...            ...         ...        ...  ...   \n",
       "999995  5346520241      1786              6          89  Supporter  red   \n",
       "999996  5346520241      1786              7          92        Top  red   \n",
       "999997  5346520241      1786              8          91     Middle  red   \n",
       "999998  5346520241      1786              9         141     Jungle  red   \n",
       "999999  5346520241      1786             10         202        Bot  red   \n",
       "\n",
       "          win  damageDealt  damageTaken   gold  kills  deaths  assists  \\\n",
       "5       False        10114        35296  11089      1       6       10   \n",
       "6       False         9023        21849   7477      1       9       10   \n",
       "7       False        24162         9262  15054      4       4        5   \n",
       "8       False        32308        24620  17633      8       2        5   \n",
       "9       False        17896        22636  10931      2       7        6   \n",
       "...       ...          ...          ...    ...    ...     ...      ...   \n",
       "999995   True         7562        22776   8885      2       8       19   \n",
       "999996   True        15334        24188  11123      3       5        7   \n",
       "999997   True        27626        23651  13600      9      11        9   \n",
       "999998   True        23209        25823  15988     15       3        7   \n",
       "999999   True        20059        21011  12671      8       7        8   \n",
       "\n",
       "        dm_gold  \n",
       "5          3.18  \n",
       "6          2.92  \n",
       "7          0.62  \n",
       "8          1.40  \n",
       "9          2.07  \n",
       "...         ...  \n",
       "999995     2.56  \n",
       "999996     2.17  \n",
       "999997     1.74  \n",
       "999998     1.62  \n",
       "999999     1.66  \n",
       "\n",
       "[500000 rows x 14 columns]"
      ]
     },
     "execution_count": 109,
     "metadata": {},
     "output_type": "execute_result"
    }
   ],
   "source": [
    "red_team"
   ]
  },
  {
   "cell_type": "code",
   "execution_count": 110,
   "id": "1136f0ae",
   "metadata": {},
   "outputs": [
    {
     "data": {
      "text/html": [
       "<div>\n",
       "<style scoped>\n",
       "    .dataframe tbody tr th:only-of-type {\n",
       "        vertical-align: middle;\n",
       "    }\n",
       "\n",
       "    .dataframe tbody tr th {\n",
       "        vertical-align: top;\n",
       "    }\n",
       "\n",
       "    .dataframe thead th {\n",
       "        text-align: right;\n",
       "    }\n",
       "</style>\n",
       "<table border=\"1\" class=\"dataframe\">\n",
       "  <thead>\n",
       "    <tr style=\"text-align: right;\">\n",
       "      <th></th>\n",
       "      <th>gameId</th>\n",
       "      <th>duration</th>\n",
       "      <th>participantId</th>\n",
       "      <th>championId</th>\n",
       "      <th>lane</th>\n",
       "      <th>side</th>\n",
       "      <th>win</th>\n",
       "      <th>damageDealt</th>\n",
       "      <th>damageTaken</th>\n",
       "      <th>gold</th>\n",
       "      <th>kills</th>\n",
       "      <th>deaths</th>\n",
       "      <th>assists</th>\n",
       "    </tr>\n",
       "  </thead>\n",
       "  <tbody>\n",
       "    <tr>\n",
       "      <th>0</th>\n",
       "      <td>5311499506</td>\n",
       "      <td>2196</td>\n",
       "      <td>1</td>\n",
       "      <td>412</td>\n",
       "      <td>Supporter</td>\n",
       "      <td>blue</td>\n",
       "      <td>True</td>\n",
       "      <td>5969</td>\n",
       "      <td>16076</td>\n",
       "      <td>9634</td>\n",
       "      <td>0</td>\n",
       "      <td>3</td>\n",
       "      <td>20</td>\n",
       "    </tr>\n",
       "    <tr>\n",
       "      <th>1</th>\n",
       "      <td>5311499506</td>\n",
       "      <td>2196</td>\n",
       "      <td>2</td>\n",
       "      <td>517</td>\n",
       "      <td>Middle</td>\n",
       "      <td>blue</td>\n",
       "      <td>True</td>\n",
       "      <td>21107</td>\n",
       "      <td>26083</td>\n",
       "      <td>13317</td>\n",
       "      <td>5</td>\n",
       "      <td>3</td>\n",
       "      <td>11</td>\n",
       "    </tr>\n",
       "    <tr>\n",
       "      <th>2</th>\n",
       "      <td>5311499506</td>\n",
       "      <td>2196</td>\n",
       "      <td>3</td>\n",
       "      <td>145</td>\n",
       "      <td>Bot</td>\n",
       "      <td>blue</td>\n",
       "      <td>True</td>\n",
       "      <td>28755</td>\n",
       "      <td>16542</td>\n",
       "      <td>19154</td>\n",
       "      <td>11</td>\n",
       "      <td>2</td>\n",
       "      <td>10</td>\n",
       "    </tr>\n",
       "    <tr>\n",
       "      <th>3</th>\n",
       "      <td>5311499506</td>\n",
       "      <td>2196</td>\n",
       "      <td>4</td>\n",
       "      <td>234</td>\n",
       "      <td>Jungle</td>\n",
       "      <td>blue</td>\n",
       "      <td>True</td>\n",
       "      <td>18808</td>\n",
       "      <td>31963</td>\n",
       "      <td>15297</td>\n",
       "      <td>9</td>\n",
       "      <td>4</td>\n",
       "      <td>10</td>\n",
       "    </tr>\n",
       "    <tr>\n",
       "      <th>4</th>\n",
       "      <td>5311499506</td>\n",
       "      <td>2196</td>\n",
       "      <td>5</td>\n",
       "      <td>266</td>\n",
       "      <td>Top</td>\n",
       "      <td>blue</td>\n",
       "      <td>True</td>\n",
       "      <td>15994</td>\n",
       "      <td>41212</td>\n",
       "      <td>13551</td>\n",
       "      <td>3</td>\n",
       "      <td>4</td>\n",
       "      <td>13</td>\n",
       "    </tr>\n",
       "    <tr>\n",
       "      <th>...</th>\n",
       "      <td>...</td>\n",
       "      <td>...</td>\n",
       "      <td>...</td>\n",
       "      <td>...</td>\n",
       "      <td>...</td>\n",
       "      <td>...</td>\n",
       "      <td>...</td>\n",
       "      <td>...</td>\n",
       "      <td>...</td>\n",
       "      <td>...</td>\n",
       "      <td>...</td>\n",
       "      <td>...</td>\n",
       "      <td>...</td>\n",
       "    </tr>\n",
       "    <tr>\n",
       "      <th>999995</th>\n",
       "      <td>5346520241</td>\n",
       "      <td>1786</td>\n",
       "      <td>6</td>\n",
       "      <td>89</td>\n",
       "      <td>Supporter</td>\n",
       "      <td>red</td>\n",
       "      <td>True</td>\n",
       "      <td>7562</td>\n",
       "      <td>22776</td>\n",
       "      <td>8885</td>\n",
       "      <td>2</td>\n",
       "      <td>8</td>\n",
       "      <td>19</td>\n",
       "    </tr>\n",
       "    <tr>\n",
       "      <th>999996</th>\n",
       "      <td>5346520241</td>\n",
       "      <td>1786</td>\n",
       "      <td>7</td>\n",
       "      <td>92</td>\n",
       "      <td>Top</td>\n",
       "      <td>red</td>\n",
       "      <td>True</td>\n",
       "      <td>15334</td>\n",
       "      <td>24188</td>\n",
       "      <td>11123</td>\n",
       "      <td>3</td>\n",
       "      <td>5</td>\n",
       "      <td>7</td>\n",
       "    </tr>\n",
       "    <tr>\n",
       "      <th>999997</th>\n",
       "      <td>5346520241</td>\n",
       "      <td>1786</td>\n",
       "      <td>8</td>\n",
       "      <td>91</td>\n",
       "      <td>Middle</td>\n",
       "      <td>red</td>\n",
       "      <td>True</td>\n",
       "      <td>27626</td>\n",
       "      <td>23651</td>\n",
       "      <td>13600</td>\n",
       "      <td>9</td>\n",
       "      <td>11</td>\n",
       "      <td>9</td>\n",
       "    </tr>\n",
       "    <tr>\n",
       "      <th>999998</th>\n",
       "      <td>5346520241</td>\n",
       "      <td>1786</td>\n",
       "      <td>9</td>\n",
       "      <td>141</td>\n",
       "      <td>Jungle</td>\n",
       "      <td>red</td>\n",
       "      <td>True</td>\n",
       "      <td>23209</td>\n",
       "      <td>25823</td>\n",
       "      <td>15988</td>\n",
       "      <td>15</td>\n",
       "      <td>3</td>\n",
       "      <td>7</td>\n",
       "    </tr>\n",
       "    <tr>\n",
       "      <th>999999</th>\n",
       "      <td>5346520241</td>\n",
       "      <td>1786</td>\n",
       "      <td>10</td>\n",
       "      <td>202</td>\n",
       "      <td>Bot</td>\n",
       "      <td>red</td>\n",
       "      <td>True</td>\n",
       "      <td>20059</td>\n",
       "      <td>21011</td>\n",
       "      <td>12671</td>\n",
       "      <td>8</td>\n",
       "      <td>7</td>\n",
       "      <td>8</td>\n",
       "    </tr>\n",
       "  </tbody>\n",
       "</table>\n",
       "<p>1000000 rows × 13 columns</p>\n",
       "</div>"
      ],
      "text/plain": [
       "            gameId  duration  participantId  championId       lane  side  \\\n",
       "0       5311499506      2196              1         412  Supporter  blue   \n",
       "1       5311499506      2196              2         517     Middle  blue   \n",
       "2       5311499506      2196              3         145        Bot  blue   \n",
       "3       5311499506      2196              4         234     Jungle  blue   \n",
       "4       5311499506      2196              5         266        Top  blue   \n",
       "...            ...       ...            ...         ...        ...   ...   \n",
       "999995  5346520241      1786              6          89  Supporter   red   \n",
       "999996  5346520241      1786              7          92        Top   red   \n",
       "999997  5346520241      1786              8          91     Middle   red   \n",
       "999998  5346520241      1786              9         141     Jungle   red   \n",
       "999999  5346520241      1786             10         202        Bot   red   \n",
       "\n",
       "         win  damageDealt  damageTaken   gold  kills  deaths  assists  \n",
       "0       True         5969        16076   9634      0       3       20  \n",
       "1       True        21107        26083  13317      5       3       11  \n",
       "2       True        28755        16542  19154     11       2       10  \n",
       "3       True        18808        31963  15297      9       4       10  \n",
       "4       True        15994        41212  13551      3       4       13  \n",
       "...      ...          ...          ...    ...    ...     ...      ...  \n",
       "999995  True         7562        22776   8885      2       8       19  \n",
       "999996  True        15334        24188  11123      3       5        7  \n",
       "999997  True        27626        23651  13600      9      11        9  \n",
       "999998  True        23209        25823  15988     15       3        7  \n",
       "999999  True        20059        21011  12671      8       7        8  \n",
       "\n",
       "[1000000 rows x 13 columns]"
      ]
     },
     "execution_count": 110,
     "metadata": {},
     "output_type": "execute_result"
    }
   ],
   "source": [
    "my_df"
   ]
  },
  {
   "cell_type": "code",
   "execution_count": 111,
   "id": "1fd87aae",
   "metadata": {},
   "outputs": [
    {
     "data": {
      "text/html": [
       "<div>\n",
       "<style scoped>\n",
       "    .dataframe tbody tr th:only-of-type {\n",
       "        vertical-align: middle;\n",
       "    }\n",
       "\n",
       "    .dataframe tbody tr th {\n",
       "        vertical-align: top;\n",
       "    }\n",
       "\n",
       "    .dataframe thead th {\n",
       "        text-align: right;\n",
       "    }\n",
       "</style>\n",
       "<table border=\"1\" class=\"dataframe\">\n",
       "  <thead>\n",
       "    <tr style=\"text-align: right;\">\n",
       "      <th></th>\n",
       "      <th>championId</th>\n",
       "      <th>champion_name_kr</th>\n",
       "    </tr>\n",
       "  </thead>\n",
       "  <tbody>\n",
       "    <tr>\n",
       "      <th>0</th>\n",
       "      <td>1</td>\n",
       "      <td>애니</td>\n",
       "    </tr>\n",
       "    <tr>\n",
       "      <th>1</th>\n",
       "      <td>2</td>\n",
       "      <td>올라프</td>\n",
       "    </tr>\n",
       "    <tr>\n",
       "      <th>2</th>\n",
       "      <td>3</td>\n",
       "      <td>갈리오</td>\n",
       "    </tr>\n",
       "    <tr>\n",
       "      <th>3</th>\n",
       "      <td>4</td>\n",
       "      <td>트위스티드 페이트</td>\n",
       "    </tr>\n",
       "    <tr>\n",
       "      <th>4</th>\n",
       "      <td>5</td>\n",
       "      <td>신 짜오</td>\n",
       "    </tr>\n",
       "    <tr>\n",
       "      <th>...</th>\n",
       "      <td>...</td>\n",
       "      <td>...</td>\n",
       "    </tr>\n",
       "    <tr>\n",
       "      <th>154</th>\n",
       "      <td>777</td>\n",
       "      <td>요네</td>\n",
       "    </tr>\n",
       "    <tr>\n",
       "      <th>155</th>\n",
       "      <td>875</td>\n",
       "      <td>세트</td>\n",
       "    </tr>\n",
       "    <tr>\n",
       "      <th>156</th>\n",
       "      <td>876</td>\n",
       "      <td>릴리아</td>\n",
       "    </tr>\n",
       "    <tr>\n",
       "      <th>157</th>\n",
       "      <td>887</td>\n",
       "      <td>그웬</td>\n",
       "    </tr>\n",
       "    <tr>\n",
       "      <th>158</th>\n",
       "      <td>888</td>\n",
       "      <td>레나타 글라스크</td>\n",
       "    </tr>\n",
       "  </tbody>\n",
       "</table>\n",
       "<p>159 rows × 2 columns</p>\n",
       "</div>"
      ],
      "text/plain": [
       "     championId champion_name_kr\n",
       "0             1               애니\n",
       "1             2              올라프\n",
       "2             3              갈리오\n",
       "3             4        트위스티드 페이트\n",
       "4             5             신 짜오\n",
       "..          ...              ...\n",
       "154         777               요네\n",
       "155         875               세트\n",
       "156         876              릴리아\n",
       "157         887               그웬\n",
       "158         888         레나타 글라스크\n",
       "\n",
       "[159 rows x 2 columns]"
      ]
     },
     "execution_count": 111,
     "metadata": {},
     "output_type": "execute_result"
    }
   ],
   "source": [
    "champion_df"
   ]
  },
  {
   "cell_type": "code",
   "execution_count": 114,
   "id": "7aeeb8db",
   "metadata": {},
   "outputs": [],
   "source": [
    "new_df = pd.merge(my_df,champion_df,on = ['championId'],how = 'left')"
   ]
  },
  {
   "cell_type": "code",
   "execution_count": 115,
   "id": "1179c569",
   "metadata": {},
   "outputs": [
    {
     "data": {
      "text/html": [
       "<div>\n",
       "<style scoped>\n",
       "    .dataframe tbody tr th:only-of-type {\n",
       "        vertical-align: middle;\n",
       "    }\n",
       "\n",
       "    .dataframe tbody tr th {\n",
       "        vertical-align: top;\n",
       "    }\n",
       "\n",
       "    .dataframe thead th {\n",
       "        text-align: right;\n",
       "    }\n",
       "</style>\n",
       "<table border=\"1\" class=\"dataframe\">\n",
       "  <thead>\n",
       "    <tr style=\"text-align: right;\">\n",
       "      <th></th>\n",
       "      <th>gameId</th>\n",
       "      <th>duration</th>\n",
       "      <th>participantId</th>\n",
       "      <th>championId</th>\n",
       "      <th>lane</th>\n",
       "      <th>side</th>\n",
       "      <th>win</th>\n",
       "      <th>damageDealt</th>\n",
       "      <th>damageTaken</th>\n",
       "      <th>gold</th>\n",
       "      <th>kills</th>\n",
       "      <th>deaths</th>\n",
       "      <th>assists</th>\n",
       "      <th>champion_name_kr</th>\n",
       "    </tr>\n",
       "  </thead>\n",
       "  <tbody>\n",
       "    <tr>\n",
       "      <th>0</th>\n",
       "      <td>5311499506</td>\n",
       "      <td>2196</td>\n",
       "      <td>1</td>\n",
       "      <td>412</td>\n",
       "      <td>Supporter</td>\n",
       "      <td>blue</td>\n",
       "      <td>True</td>\n",
       "      <td>5969</td>\n",
       "      <td>16076</td>\n",
       "      <td>9634</td>\n",
       "      <td>0</td>\n",
       "      <td>3</td>\n",
       "      <td>20</td>\n",
       "      <td>쓰레쉬</td>\n",
       "    </tr>\n",
       "    <tr>\n",
       "      <th>1</th>\n",
       "      <td>5311499506</td>\n",
       "      <td>2196</td>\n",
       "      <td>2</td>\n",
       "      <td>517</td>\n",
       "      <td>Middle</td>\n",
       "      <td>blue</td>\n",
       "      <td>True</td>\n",
       "      <td>21107</td>\n",
       "      <td>26083</td>\n",
       "      <td>13317</td>\n",
       "      <td>5</td>\n",
       "      <td>3</td>\n",
       "      <td>11</td>\n",
       "      <td>사일러스</td>\n",
       "    </tr>\n",
       "    <tr>\n",
       "      <th>2</th>\n",
       "      <td>5311499506</td>\n",
       "      <td>2196</td>\n",
       "      <td>3</td>\n",
       "      <td>145</td>\n",
       "      <td>Bot</td>\n",
       "      <td>blue</td>\n",
       "      <td>True</td>\n",
       "      <td>28755</td>\n",
       "      <td>16542</td>\n",
       "      <td>19154</td>\n",
       "      <td>11</td>\n",
       "      <td>2</td>\n",
       "      <td>10</td>\n",
       "      <td>카이사</td>\n",
       "    </tr>\n",
       "    <tr>\n",
       "      <th>3</th>\n",
       "      <td>5311499506</td>\n",
       "      <td>2196</td>\n",
       "      <td>4</td>\n",
       "      <td>234</td>\n",
       "      <td>Jungle</td>\n",
       "      <td>blue</td>\n",
       "      <td>True</td>\n",
       "      <td>18808</td>\n",
       "      <td>31963</td>\n",
       "      <td>15297</td>\n",
       "      <td>9</td>\n",
       "      <td>4</td>\n",
       "      <td>10</td>\n",
       "      <td>비에고</td>\n",
       "    </tr>\n",
       "    <tr>\n",
       "      <th>4</th>\n",
       "      <td>5311499506</td>\n",
       "      <td>2196</td>\n",
       "      <td>5</td>\n",
       "      <td>266</td>\n",
       "      <td>Top</td>\n",
       "      <td>blue</td>\n",
       "      <td>True</td>\n",
       "      <td>15994</td>\n",
       "      <td>41212</td>\n",
       "      <td>13551</td>\n",
       "      <td>3</td>\n",
       "      <td>4</td>\n",
       "      <td>13</td>\n",
       "      <td>아트록스</td>\n",
       "    </tr>\n",
       "    <tr>\n",
       "      <th>...</th>\n",
       "      <td>...</td>\n",
       "      <td>...</td>\n",
       "      <td>...</td>\n",
       "      <td>...</td>\n",
       "      <td>...</td>\n",
       "      <td>...</td>\n",
       "      <td>...</td>\n",
       "      <td>...</td>\n",
       "      <td>...</td>\n",
       "      <td>...</td>\n",
       "      <td>...</td>\n",
       "      <td>...</td>\n",
       "      <td>...</td>\n",
       "      <td>...</td>\n",
       "    </tr>\n",
       "    <tr>\n",
       "      <th>999995</th>\n",
       "      <td>5346520241</td>\n",
       "      <td>1786</td>\n",
       "      <td>6</td>\n",
       "      <td>89</td>\n",
       "      <td>Supporter</td>\n",
       "      <td>red</td>\n",
       "      <td>True</td>\n",
       "      <td>7562</td>\n",
       "      <td>22776</td>\n",
       "      <td>8885</td>\n",
       "      <td>2</td>\n",
       "      <td>8</td>\n",
       "      <td>19</td>\n",
       "      <td>레오나</td>\n",
       "    </tr>\n",
       "    <tr>\n",
       "      <th>999996</th>\n",
       "      <td>5346520241</td>\n",
       "      <td>1786</td>\n",
       "      <td>7</td>\n",
       "      <td>92</td>\n",
       "      <td>Top</td>\n",
       "      <td>red</td>\n",
       "      <td>True</td>\n",
       "      <td>15334</td>\n",
       "      <td>24188</td>\n",
       "      <td>11123</td>\n",
       "      <td>3</td>\n",
       "      <td>5</td>\n",
       "      <td>7</td>\n",
       "      <td>리븐</td>\n",
       "    </tr>\n",
       "    <tr>\n",
       "      <th>999997</th>\n",
       "      <td>5346520241</td>\n",
       "      <td>1786</td>\n",
       "      <td>8</td>\n",
       "      <td>91</td>\n",
       "      <td>Middle</td>\n",
       "      <td>red</td>\n",
       "      <td>True</td>\n",
       "      <td>27626</td>\n",
       "      <td>23651</td>\n",
       "      <td>13600</td>\n",
       "      <td>9</td>\n",
       "      <td>11</td>\n",
       "      <td>9</td>\n",
       "      <td>탈론</td>\n",
       "    </tr>\n",
       "    <tr>\n",
       "      <th>999998</th>\n",
       "      <td>5346520241</td>\n",
       "      <td>1786</td>\n",
       "      <td>9</td>\n",
       "      <td>141</td>\n",
       "      <td>Jungle</td>\n",
       "      <td>red</td>\n",
       "      <td>True</td>\n",
       "      <td>23209</td>\n",
       "      <td>25823</td>\n",
       "      <td>15988</td>\n",
       "      <td>15</td>\n",
       "      <td>3</td>\n",
       "      <td>7</td>\n",
       "      <td>케인</td>\n",
       "    </tr>\n",
       "    <tr>\n",
       "      <th>999999</th>\n",
       "      <td>5346520241</td>\n",
       "      <td>1786</td>\n",
       "      <td>10</td>\n",
       "      <td>202</td>\n",
       "      <td>Bot</td>\n",
       "      <td>red</td>\n",
       "      <td>True</td>\n",
       "      <td>20059</td>\n",
       "      <td>21011</td>\n",
       "      <td>12671</td>\n",
       "      <td>8</td>\n",
       "      <td>7</td>\n",
       "      <td>8</td>\n",
       "      <td>진</td>\n",
       "    </tr>\n",
       "  </tbody>\n",
       "</table>\n",
       "<p>1000000 rows × 14 columns</p>\n",
       "</div>"
      ],
      "text/plain": [
       "            gameId  duration  participantId  championId       lane  side  \\\n",
       "0       5311499506      2196              1         412  Supporter  blue   \n",
       "1       5311499506      2196              2         517     Middle  blue   \n",
       "2       5311499506      2196              3         145        Bot  blue   \n",
       "3       5311499506      2196              4         234     Jungle  blue   \n",
       "4       5311499506      2196              5         266        Top  blue   \n",
       "...            ...       ...            ...         ...        ...   ...   \n",
       "999995  5346520241      1786              6          89  Supporter   red   \n",
       "999996  5346520241      1786              7          92        Top   red   \n",
       "999997  5346520241      1786              8          91     Middle   red   \n",
       "999998  5346520241      1786              9         141     Jungle   red   \n",
       "999999  5346520241      1786             10         202        Bot   red   \n",
       "\n",
       "         win  damageDealt  damageTaken   gold  kills  deaths  assists  \\\n",
       "0       True         5969        16076   9634      0       3       20   \n",
       "1       True        21107        26083  13317      5       3       11   \n",
       "2       True        28755        16542  19154     11       2       10   \n",
       "3       True        18808        31963  15297      9       4       10   \n",
       "4       True        15994        41212  13551      3       4       13   \n",
       "...      ...          ...          ...    ...    ...     ...      ...   \n",
       "999995  True         7562        22776   8885      2       8       19   \n",
       "999996  True        15334        24188  11123      3       5        7   \n",
       "999997  True        27626        23651  13600      9      11        9   \n",
       "999998  True        23209        25823  15988     15       3        7   \n",
       "999999  True        20059        21011  12671      8       7        8   \n",
       "\n",
       "       champion_name_kr  \n",
       "0                   쓰레쉬  \n",
       "1                  사일러스  \n",
       "2                   카이사  \n",
       "3                   비에고  \n",
       "4                  아트록스  \n",
       "...                 ...  \n",
       "999995              레오나  \n",
       "999996               리븐  \n",
       "999997               탈론  \n",
       "999998               케인  \n",
       "999999                진  \n",
       "\n",
       "[1000000 rows x 14 columns]"
      ]
     },
     "execution_count": 115,
     "metadata": {},
     "output_type": "execute_result"
    }
   ],
   "source": [
    "new_df"
   ]
  },
  {
   "cell_type": "code",
   "execution_count": 121,
   "id": "31b05dfd",
   "metadata": {},
   "outputs": [],
   "source": [
    "new_df['dm_per'] = new_df.damageDealt / new_df.damageTaken "
   ]
  },
  {
   "cell_type": "markdown",
   "id": "46327f55",
   "metadata": {},
   "source": [
    "# na값 찾기"
   ]
  },
  {
   "cell_type": "code",
   "execution_count": 117,
   "id": "60fc53a3",
   "metadata": {},
   "outputs": [],
   "source": [
    "new_df.fillna(0,inplace = True)"
   ]
  },
  {
   "cell_type": "code",
   "execution_count": 118,
   "id": "28f51115",
   "metadata": {},
   "outputs": [
    {
     "data": {
      "text/html": [
       "<div>\n",
       "<style scoped>\n",
       "    .dataframe tbody tr th:only-of-type {\n",
       "        vertical-align: middle;\n",
       "    }\n",
       "\n",
       "    .dataframe tbody tr th {\n",
       "        vertical-align: top;\n",
       "    }\n",
       "\n",
       "    .dataframe thead th {\n",
       "        text-align: right;\n",
       "    }\n",
       "</style>\n",
       "<table border=\"1\" class=\"dataframe\">\n",
       "  <thead>\n",
       "    <tr style=\"text-align: right;\">\n",
       "      <th></th>\n",
       "      <th>gameId</th>\n",
       "      <th>duration</th>\n",
       "      <th>participantId</th>\n",
       "      <th>championId</th>\n",
       "      <th>lane</th>\n",
       "      <th>side</th>\n",
       "      <th>win</th>\n",
       "      <th>damageDealt</th>\n",
       "      <th>damageTaken</th>\n",
       "      <th>gold</th>\n",
       "      <th>kills</th>\n",
       "      <th>deaths</th>\n",
       "      <th>assists</th>\n",
       "      <th>champion_name_kr</th>\n",
       "      <th>dm_per</th>\n",
       "    </tr>\n",
       "  </thead>\n",
       "  <tbody>\n",
       "    <tr>\n",
       "      <th>1722</th>\n",
       "      <td>5311611620</td>\n",
       "      <td>194</td>\n",
       "      <td>3</td>\n",
       "      <td>81</td>\n",
       "      <td>Middle</td>\n",
       "      <td>blue</td>\n",
       "      <td>False</td>\n",
       "      <td>0</td>\n",
       "      <td>0</td>\n",
       "      <td>672</td>\n",
       "      <td>0</td>\n",
       "      <td>0</td>\n",
       "      <td>0</td>\n",
       "      <td>이즈리얼</td>\n",
       "      <td>0.0</td>\n",
       "    </tr>\n",
       "    <tr>\n",
       "      <th>1726</th>\n",
       "      <td>5311611620</td>\n",
       "      <td>194</td>\n",
       "      <td>7</td>\n",
       "      <td>201</td>\n",
       "      <td>Jungle</td>\n",
       "      <td>red</td>\n",
       "      <td>True</td>\n",
       "      <td>0</td>\n",
       "      <td>62</td>\n",
       "      <td>791</td>\n",
       "      <td>0</td>\n",
       "      <td>0</td>\n",
       "      <td>0</td>\n",
       "      <td>브라움</td>\n",
       "      <td>0.0</td>\n",
       "    </tr>\n",
       "    <tr>\n",
       "      <th>1729</th>\n",
       "      <td>5311611620</td>\n",
       "      <td>194</td>\n",
       "      <td>10</td>\n",
       "      <td>523</td>\n",
       "      <td>Supporter</td>\n",
       "      <td>red</td>\n",
       "      <td>True</td>\n",
       "      <td>0</td>\n",
       "      <td>0</td>\n",
       "      <td>1165</td>\n",
       "      <td>0</td>\n",
       "      <td>0</td>\n",
       "      <td>0</td>\n",
       "      <td>아펠리오스</td>\n",
       "      <td>0.0</td>\n",
       "    </tr>\n",
       "    <tr>\n",
       "      <th>2415</th>\n",
       "      <td>5311627282</td>\n",
       "      <td>551</td>\n",
       "      <td>6</td>\n",
       "      <td>119</td>\n",
       "      <td>Top</td>\n",
       "      <td>red</td>\n",
       "      <td>False</td>\n",
       "      <td>0</td>\n",
       "      <td>0</td>\n",
       "      <td>1401</td>\n",
       "      <td>0</td>\n",
       "      <td>0</td>\n",
       "      <td>0</td>\n",
       "      <td>드레이븐</td>\n",
       "      <td>0.0</td>\n",
       "    </tr>\n",
       "    <tr>\n",
       "      <th>2861</th>\n",
       "      <td>5311636686</td>\n",
       "      <td>193</td>\n",
       "      <td>2</td>\n",
       "      <td>91</td>\n",
       "      <td>Jungle</td>\n",
       "      <td>blue</td>\n",
       "      <td>True</td>\n",
       "      <td>0</td>\n",
       "      <td>152</td>\n",
       "      <td>968</td>\n",
       "      <td>0</td>\n",
       "      <td>0</td>\n",
       "      <td>0</td>\n",
       "      <td>탈론</td>\n",
       "      <td>0.0</td>\n",
       "    </tr>\n",
       "    <tr>\n",
       "      <th>...</th>\n",
       "      <td>...</td>\n",
       "      <td>...</td>\n",
       "      <td>...</td>\n",
       "      <td>...</td>\n",
       "      <td>...</td>\n",
       "      <td>...</td>\n",
       "      <td>...</td>\n",
       "      <td>...</td>\n",
       "      <td>...</td>\n",
       "      <td>...</td>\n",
       "      <td>...</td>\n",
       "      <td>...</td>\n",
       "      <td>...</td>\n",
       "      <td>...</td>\n",
       "      <td>...</td>\n",
       "    </tr>\n",
       "    <tr>\n",
       "      <th>994232</th>\n",
       "      <td>5346316642</td>\n",
       "      <td>192</td>\n",
       "      <td>3</td>\n",
       "      <td>68</td>\n",
       "      <td>Middle</td>\n",
       "      <td>blue</td>\n",
       "      <td>False</td>\n",
       "      <td>0</td>\n",
       "      <td>0</td>\n",
       "      <td>669</td>\n",
       "      <td>0</td>\n",
       "      <td>0</td>\n",
       "      <td>0</td>\n",
       "      <td>럼블</td>\n",
       "      <td>0.0</td>\n",
       "    </tr>\n",
       "    <tr>\n",
       "      <th>994239</th>\n",
       "      <td>5346316642</td>\n",
       "      <td>192</td>\n",
       "      <td>10</td>\n",
       "      <td>56</td>\n",
       "      <td>Supporter</td>\n",
       "      <td>red</td>\n",
       "      <td>True</td>\n",
       "      <td>0</td>\n",
       "      <td>1422</td>\n",
       "      <td>1114</td>\n",
       "      <td>0</td>\n",
       "      <td>0</td>\n",
       "      <td>0</td>\n",
       "      <td>녹턴</td>\n",
       "      <td>0.0</td>\n",
       "    </tr>\n",
       "    <tr>\n",
       "      <th>996124</th>\n",
       "      <td>5346378491</td>\n",
       "      <td>192</td>\n",
       "      <td>5</td>\n",
       "      <td>421</td>\n",
       "      <td>Supporter</td>\n",
       "      <td>blue</td>\n",
       "      <td>True</td>\n",
       "      <td>0</td>\n",
       "      <td>1413</td>\n",
       "      <td>985</td>\n",
       "      <td>0</td>\n",
       "      <td>0</td>\n",
       "      <td>0</td>\n",
       "      <td>렉사이</td>\n",
       "      <td>0.0</td>\n",
       "    </tr>\n",
       "    <tr>\n",
       "      <th>996128</th>\n",
       "      <td>5346378491</td>\n",
       "      <td>192</td>\n",
       "      <td>9</td>\n",
       "      <td>163</td>\n",
       "      <td>Bot</td>\n",
       "      <td>red</td>\n",
       "      <td>False</td>\n",
       "      <td>0</td>\n",
       "      <td>41</td>\n",
       "      <td>669</td>\n",
       "      <td>0</td>\n",
       "      <td>0</td>\n",
       "      <td>0</td>\n",
       "      <td>탈리야</td>\n",
       "      <td>0.0</td>\n",
       "    </tr>\n",
       "    <tr>\n",
       "      <th>998202</th>\n",
       "      <td>5346457671</td>\n",
       "      <td>192</td>\n",
       "      <td>3</td>\n",
       "      <td>81</td>\n",
       "      <td>Middle</td>\n",
       "      <td>blue</td>\n",
       "      <td>False</td>\n",
       "      <td>0</td>\n",
       "      <td>0</td>\n",
       "      <td>669</td>\n",
       "      <td>0</td>\n",
       "      <td>0</td>\n",
       "      <td>0</td>\n",
       "      <td>이즈리얼</td>\n",
       "      <td>0.0</td>\n",
       "    </tr>\n",
       "  </tbody>\n",
       "</table>\n",
       "<p>1830 rows × 15 columns</p>\n",
       "</div>"
      ],
      "text/plain": [
       "            gameId  duration  participantId  championId       lane  side  \\\n",
       "1722    5311611620       194              3          81     Middle  blue   \n",
       "1726    5311611620       194              7         201     Jungle   red   \n",
       "1729    5311611620       194             10         523  Supporter   red   \n",
       "2415    5311627282       551              6         119        Top   red   \n",
       "2861    5311636686       193              2          91     Jungle  blue   \n",
       "...            ...       ...            ...         ...        ...   ...   \n",
       "994232  5346316642       192              3          68     Middle  blue   \n",
       "994239  5346316642       192             10          56  Supporter   red   \n",
       "996124  5346378491       192              5         421  Supporter  blue   \n",
       "996128  5346378491       192              9         163        Bot   red   \n",
       "998202  5346457671       192              3          81     Middle  blue   \n",
       "\n",
       "          win  damageDealt  damageTaken  gold  kills  deaths  assists  \\\n",
       "1722    False            0            0   672      0       0        0   \n",
       "1726     True            0           62   791      0       0        0   \n",
       "1729     True            0            0  1165      0       0        0   \n",
       "2415    False            0            0  1401      0       0        0   \n",
       "2861     True            0          152   968      0       0        0   \n",
       "...       ...          ...          ...   ...    ...     ...      ...   \n",
       "994232  False            0            0   669      0       0        0   \n",
       "994239   True            0         1422  1114      0       0        0   \n",
       "996124   True            0         1413   985      0       0        0   \n",
       "996128  False            0           41   669      0       0        0   \n",
       "998202  False            0            0   669      0       0        0   \n",
       "\n",
       "       champion_name_kr  dm_per  \n",
       "1722               이즈리얼     0.0  \n",
       "1726                브라움     0.0  \n",
       "1729              아펠리오스     0.0  \n",
       "2415               드레이븐     0.0  \n",
       "2861                 탈론     0.0  \n",
       "...                 ...     ...  \n",
       "994232               럼블     0.0  \n",
       "994239               녹턴     0.0  \n",
       "996124              렉사이     0.0  \n",
       "996128              탈리야     0.0  \n",
       "998202             이즈리얼     0.0  \n",
       "\n",
       "[1830 rows x 15 columns]"
      ]
     },
     "execution_count": 118,
     "metadata": {},
     "output_type": "execute_result"
    }
   ],
   "source": [
    "new_df[new_df.dm_per == 0]"
   ]
  },
  {
   "cell_type": "code",
   "execution_count": 120,
   "id": "7f56d65f",
   "metadata": {},
   "outputs": [],
   "source": [
    "from numpy import inf"
   ]
  },
  {
   "cell_type": "code",
   "execution_count": 123,
   "id": "25d8448c",
   "metadata": {},
   "outputs": [],
   "source": [
    "new_df.replace(inf,'perfect',inplace=True)"
   ]
  },
  {
   "cell_type": "code",
   "execution_count": 124,
   "id": "ab7a41d3",
   "metadata": {},
   "outputs": [
    {
     "data": {
      "text/html": [
       "<div>\n",
       "<style scoped>\n",
       "    .dataframe tbody tr th:only-of-type {\n",
       "        vertical-align: middle;\n",
       "    }\n",
       "\n",
       "    .dataframe tbody tr th {\n",
       "        vertical-align: top;\n",
       "    }\n",
       "\n",
       "    .dataframe thead th {\n",
       "        text-align: right;\n",
       "    }\n",
       "</style>\n",
       "<table border=\"1\" class=\"dataframe\">\n",
       "  <thead>\n",
       "    <tr style=\"text-align: right;\">\n",
       "      <th></th>\n",
       "      <th>gameId</th>\n",
       "      <th>duration</th>\n",
       "      <th>participantId</th>\n",
       "      <th>championId</th>\n",
       "      <th>lane</th>\n",
       "      <th>side</th>\n",
       "      <th>win</th>\n",
       "      <th>damageDealt</th>\n",
       "      <th>damageTaken</th>\n",
       "      <th>gold</th>\n",
       "      <th>kills</th>\n",
       "      <th>deaths</th>\n",
       "      <th>assists</th>\n",
       "      <th>champion_name_kr</th>\n",
       "      <th>dm_per</th>\n",
       "    </tr>\n",
       "  </thead>\n",
       "  <tbody>\n",
       "    <tr>\n",
       "      <th>11023</th>\n",
       "      <td>5311782587</td>\n",
       "      <td>192</td>\n",
       "      <td>4</td>\n",
       "      <td>202</td>\n",
       "      <td>Bot</td>\n",
       "      <td>blue</td>\n",
       "      <td>False</td>\n",
       "      <td>239</td>\n",
       "      <td>0</td>\n",
       "      <td>962</td>\n",
       "      <td>0</td>\n",
       "      <td>0</td>\n",
       "      <td>0</td>\n",
       "      <td>진</td>\n",
       "      <td>perfect</td>\n",
       "    </tr>\n",
       "    <tr>\n",
       "      <th>17293</th>\n",
       "      <td>5311871136</td>\n",
       "      <td>196</td>\n",
       "      <td>4</td>\n",
       "      <td>81</td>\n",
       "      <td>Bot</td>\n",
       "      <td>blue</td>\n",
       "      <td>False</td>\n",
       "      <td>198</td>\n",
       "      <td>0</td>\n",
       "      <td>773</td>\n",
       "      <td>0</td>\n",
       "      <td>0</td>\n",
       "      <td>0</td>\n",
       "      <td>이즈리얼</td>\n",
       "      <td>perfect</td>\n",
       "    </tr>\n",
       "    <tr>\n",
       "      <th>28065</th>\n",
       "      <td>5312151091</td>\n",
       "      <td>195</td>\n",
       "      <td>6</td>\n",
       "      <td>117</td>\n",
       "      <td>Top</td>\n",
       "      <td>red</td>\n",
       "      <td>False</td>\n",
       "      <td>57</td>\n",
       "      <td>0</td>\n",
       "      <td>768</td>\n",
       "      <td>0</td>\n",
       "      <td>0</td>\n",
       "      <td>0</td>\n",
       "      <td>룰루</td>\n",
       "      <td>perfect</td>\n",
       "    </tr>\n",
       "    <tr>\n",
       "      <th>44246</th>\n",
       "      <td>5312901676</td>\n",
       "      <td>665</td>\n",
       "      <td>7</td>\n",
       "      <td>350</td>\n",
       "      <td>Jungle</td>\n",
       "      <td>red</td>\n",
       "      <td>False</td>\n",
       "      <td>200</td>\n",
       "      <td>0</td>\n",
       "      <td>2005</td>\n",
       "      <td>0</td>\n",
       "      <td>0</td>\n",
       "      <td>3</td>\n",
       "      <td>유미</td>\n",
       "      <td>perfect</td>\n",
       "    </tr>\n",
       "    <tr>\n",
       "      <th>48310</th>\n",
       "      <td>5313043535</td>\n",
       "      <td>196</td>\n",
       "      <td>1</td>\n",
       "      <td>111</td>\n",
       "      <td>Top</td>\n",
       "      <td>blue</td>\n",
       "      <td>True</td>\n",
       "      <td>111</td>\n",
       "      <td>0</td>\n",
       "      <td>1024</td>\n",
       "      <td>1</td>\n",
       "      <td>0</td>\n",
       "      <td>0</td>\n",
       "      <td>노틸러스</td>\n",
       "      <td>perfect</td>\n",
       "    </tr>\n",
       "    <tr>\n",
       "      <th>65591</th>\n",
       "      <td>5313664883</td>\n",
       "      <td>191</td>\n",
       "      <td>2</td>\n",
       "      <td>40</td>\n",
       "      <td>Jungle</td>\n",
       "      <td>blue</td>\n",
       "      <td>True</td>\n",
       "      <td>527</td>\n",
       "      <td>0</td>\n",
       "      <td>940</td>\n",
       "      <td>0</td>\n",
       "      <td>0</td>\n",
       "      <td>2</td>\n",
       "      <td>잔나</td>\n",
       "      <td>perfect</td>\n",
       "    </tr>\n",
       "    <tr>\n",
       "      <th>67610</th>\n",
       "      <td>5313714690</td>\n",
       "      <td>194</td>\n",
       "      <td>1</td>\n",
       "      <td>20</td>\n",
       "      <td>Top</td>\n",
       "      <td>blue</td>\n",
       "      <td>False</td>\n",
       "      <td>309</td>\n",
       "      <td>0</td>\n",
       "      <td>1112</td>\n",
       "      <td>1</td>\n",
       "      <td>0</td>\n",
       "      <td>1</td>\n",
       "      <td>누누와 윌럼프</td>\n",
       "      <td>perfect</td>\n",
       "    </tr>\n",
       "    <tr>\n",
       "      <th>116359</th>\n",
       "      <td>5315781379</td>\n",
       "      <td>616</td>\n",
       "      <td>10</td>\n",
       "      <td>13</td>\n",
       "      <td>Supporter</td>\n",
       "      <td>red</td>\n",
       "      <td>False</td>\n",
       "      <td>72</td>\n",
       "      <td>0</td>\n",
       "      <td>1533</td>\n",
       "      <td>0</td>\n",
       "      <td>0</td>\n",
       "      <td>0</td>\n",
       "      <td>라이즈</td>\n",
       "      <td>perfect</td>\n",
       "    </tr>\n",
       "    <tr>\n",
       "      <th>236691</th>\n",
       "      <td>5320319024</td>\n",
       "      <td>191</td>\n",
       "      <td>2</td>\n",
       "      <td>34</td>\n",
       "      <td>Jungle</td>\n",
       "      <td>blue</td>\n",
       "      <td>True</td>\n",
       "      <td>103</td>\n",
       "      <td>0</td>\n",
       "      <td>956</td>\n",
       "      <td>0</td>\n",
       "      <td>0</td>\n",
       "      <td>1</td>\n",
       "      <td>애니비아</td>\n",
       "      <td>perfect</td>\n",
       "    </tr>\n",
       "    <tr>\n",
       "      <th>257901</th>\n",
       "      <td>5320923695</td>\n",
       "      <td>191</td>\n",
       "      <td>2</td>\n",
       "      <td>43</td>\n",
       "      <td>Jungle</td>\n",
       "      <td>blue</td>\n",
       "      <td>False</td>\n",
       "      <td>700</td>\n",
       "      <td>0</td>\n",
       "      <td>1607</td>\n",
       "      <td>2</td>\n",
       "      <td>0</td>\n",
       "      <td>0</td>\n",
       "      <td>카르마</td>\n",
       "      <td>perfect</td>\n",
       "    </tr>\n",
       "    <tr>\n",
       "      <th>266079</th>\n",
       "      <td>5321325072</td>\n",
       "      <td>196</td>\n",
       "      <td>10</td>\n",
       "      <td>777</td>\n",
       "      <td>Supporter</td>\n",
       "      <td>red</td>\n",
       "      <td>False</td>\n",
       "      <td>164</td>\n",
       "      <td>0</td>\n",
       "      <td>830</td>\n",
       "      <td>0</td>\n",
       "      <td>0</td>\n",
       "      <td>0</td>\n",
       "      <td>요네</td>\n",
       "      <td>perfect</td>\n",
       "    </tr>\n",
       "    <tr>\n",
       "      <th>286036</th>\n",
       "      <td>5321762704</td>\n",
       "      <td>191</td>\n",
       "      <td>7</td>\n",
       "      <td>429</td>\n",
       "      <td>Jungle</td>\n",
       "      <td>red</td>\n",
       "      <td>False</td>\n",
       "      <td>55</td>\n",
       "      <td>0</td>\n",
       "      <td>1041</td>\n",
       "      <td>1</td>\n",
       "      <td>0</td>\n",
       "      <td>1</td>\n",
       "      <td>칼리스타</td>\n",
       "      <td>perfect</td>\n",
       "    </tr>\n",
       "    <tr>\n",
       "      <th>309660</th>\n",
       "      <td>5322722549</td>\n",
       "      <td>193</td>\n",
       "      <td>1</td>\n",
       "      <td>163</td>\n",
       "      <td>Top</td>\n",
       "      <td>blue</td>\n",
       "      <td>False</td>\n",
       "      <td>586</td>\n",
       "      <td>0</td>\n",
       "      <td>1132</td>\n",
       "      <td>1</td>\n",
       "      <td>0</td>\n",
       "      <td>1</td>\n",
       "      <td>탈리야</td>\n",
       "      <td>perfect</td>\n",
       "    </tr>\n",
       "    <tr>\n",
       "      <th>313973</th>\n",
       "      <td>5322810421</td>\n",
       "      <td>193</td>\n",
       "      <td>4</td>\n",
       "      <td>360</td>\n",
       "      <td>Bot</td>\n",
       "      <td>blue</td>\n",
       "      <td>False</td>\n",
       "      <td>69</td>\n",
       "      <td>0</td>\n",
       "      <td>671</td>\n",
       "      <td>0</td>\n",
       "      <td>0</td>\n",
       "      <td>0</td>\n",
       "      <td>사미라</td>\n",
       "      <td>perfect</td>\n",
       "    </tr>\n",
       "    <tr>\n",
       "      <th>318853</th>\n",
       "      <td>5323338057</td>\n",
       "      <td>199</td>\n",
       "      <td>4</td>\n",
       "      <td>350</td>\n",
       "      <td>Bot</td>\n",
       "      <td>blue</td>\n",
       "      <td>True</td>\n",
       "      <td>262</td>\n",
       "      <td>0</td>\n",
       "      <td>780</td>\n",
       "      <td>0</td>\n",
       "      <td>0</td>\n",
       "      <td>0</td>\n",
       "      <td>유미</td>\n",
       "      <td>perfect</td>\n",
       "    </tr>\n",
       "    <tr>\n",
       "      <th>364713</th>\n",
       "      <td>5324802883</td>\n",
       "      <td>191</td>\n",
       "      <td>4</td>\n",
       "      <td>81</td>\n",
       "      <td>Bot</td>\n",
       "      <td>blue</td>\n",
       "      <td>False</td>\n",
       "      <td>77</td>\n",
       "      <td>0</td>\n",
       "      <td>716</td>\n",
       "      <td>0</td>\n",
       "      <td>0</td>\n",
       "      <td>0</td>\n",
       "      <td>이즈리얼</td>\n",
       "      <td>perfect</td>\n",
       "    </tr>\n",
       "    <tr>\n",
       "      <th>377481</th>\n",
       "      <td>5325039923</td>\n",
       "      <td>196</td>\n",
       "      <td>2</td>\n",
       "      <td>101</td>\n",
       "      <td>Jungle</td>\n",
       "      <td>blue</td>\n",
       "      <td>False</td>\n",
       "      <td>96</td>\n",
       "      <td>0</td>\n",
       "      <td>713</td>\n",
       "      <td>0</td>\n",
       "      <td>0</td>\n",
       "      <td>0</td>\n",
       "      <td>제라스</td>\n",
       "      <td>perfect</td>\n",
       "    </tr>\n",
       "    <tr>\n",
       "      <th>411028</th>\n",
       "      <td>5326171285</td>\n",
       "      <td>194</td>\n",
       "      <td>9</td>\n",
       "      <td>236</td>\n",
       "      <td>Bot</td>\n",
       "      <td>red</td>\n",
       "      <td>False</td>\n",
       "      <td>244</td>\n",
       "      <td>0</td>\n",
       "      <td>683</td>\n",
       "      <td>0</td>\n",
       "      <td>0</td>\n",
       "      <td>0</td>\n",
       "      <td>루시안</td>\n",
       "      <td>perfect</td>\n",
       "    </tr>\n",
       "    <tr>\n",
       "      <th>423640</th>\n",
       "      <td>5326545654</td>\n",
       "      <td>192</td>\n",
       "      <td>1</td>\n",
       "      <td>350</td>\n",
       "      <td>Top</td>\n",
       "      <td>blue</td>\n",
       "      <td>False</td>\n",
       "      <td>250</td>\n",
       "      <td>0</td>\n",
       "      <td>755</td>\n",
       "      <td>0</td>\n",
       "      <td>0</td>\n",
       "      <td>0</td>\n",
       "      <td>유미</td>\n",
       "      <td>perfect</td>\n",
       "    </tr>\n",
       "    <tr>\n",
       "      <th>429929</th>\n",
       "      <td>5326679669</td>\n",
       "      <td>191</td>\n",
       "      <td>10</td>\n",
       "      <td>29</td>\n",
       "      <td>Supporter</td>\n",
       "      <td>red</td>\n",
       "      <td>False</td>\n",
       "      <td>75</td>\n",
       "      <td>0</td>\n",
       "      <td>1066</td>\n",
       "      <td>1</td>\n",
       "      <td>0</td>\n",
       "      <td>0</td>\n",
       "      <td>트위치</td>\n",
       "      <td>perfect</td>\n",
       "    </tr>\n",
       "    <tr>\n",
       "      <th>459574</th>\n",
       "      <td>5327715999</td>\n",
       "      <td>197</td>\n",
       "      <td>5</td>\n",
       "      <td>518</td>\n",
       "      <td>Supporter</td>\n",
       "      <td>blue</td>\n",
       "      <td>False</td>\n",
       "      <td>253</td>\n",
       "      <td>0</td>\n",
       "      <td>755</td>\n",
       "      <td>0</td>\n",
       "      <td>0</td>\n",
       "      <td>0</td>\n",
       "      <td>니코</td>\n",
       "      <td>perfect</td>\n",
       "    </tr>\n",
       "    <tr>\n",
       "      <th>469815</th>\n",
       "      <td>5327980475</td>\n",
       "      <td>191</td>\n",
       "      <td>6</td>\n",
       "      <td>43</td>\n",
       "      <td>Top</td>\n",
       "      <td>red</td>\n",
       "      <td>False</td>\n",
       "      <td>95</td>\n",
       "      <td>0</td>\n",
       "      <td>682</td>\n",
       "      <td>0</td>\n",
       "      <td>0</td>\n",
       "      <td>0</td>\n",
       "      <td>카르마</td>\n",
       "      <td>perfect</td>\n",
       "    </tr>\n",
       "    <tr>\n",
       "      <th>471426</th>\n",
       "      <td>5328285690</td>\n",
       "      <td>193</td>\n",
       "      <td>7</td>\n",
       "      <td>7</td>\n",
       "      <td>Jungle</td>\n",
       "      <td>red</td>\n",
       "      <td>True</td>\n",
       "      <td>18</td>\n",
       "      <td>0</td>\n",
       "      <td>810</td>\n",
       "      <td>0</td>\n",
       "      <td>0</td>\n",
       "      <td>0</td>\n",
       "      <td>르블랑</td>\n",
       "      <td>perfect</td>\n",
       "    </tr>\n",
       "    <tr>\n",
       "      <th>504160</th>\n",
       "      <td>5329222679</td>\n",
       "      <td>191</td>\n",
       "      <td>1</td>\n",
       "      <td>202</td>\n",
       "      <td>Top</td>\n",
       "      <td>blue</td>\n",
       "      <td>False</td>\n",
       "      <td>356</td>\n",
       "      <td>0</td>\n",
       "      <td>1066</td>\n",
       "      <td>1</td>\n",
       "      <td>0</td>\n",
       "      <td>0</td>\n",
       "      <td>진</td>\n",
       "      <td>perfect</td>\n",
       "    </tr>\n",
       "    <tr>\n",
       "      <th>504164</th>\n",
       "      <td>5329222679</td>\n",
       "      <td>191</td>\n",
       "      <td>5</td>\n",
       "      <td>26</td>\n",
       "      <td>Supporter</td>\n",
       "      <td>blue</td>\n",
       "      <td>False</td>\n",
       "      <td>135</td>\n",
       "      <td>0</td>\n",
       "      <td>796</td>\n",
       "      <td>0</td>\n",
       "      <td>0</td>\n",
       "      <td>1</td>\n",
       "      <td>질리언</td>\n",
       "      <td>perfect</td>\n",
       "    </tr>\n",
       "    <tr>\n",
       "      <th>538354</th>\n",
       "      <td>5330490242</td>\n",
       "      <td>482</td>\n",
       "      <td>5</td>\n",
       "      <td>25</td>\n",
       "      <td>Supporter</td>\n",
       "      <td>blue</td>\n",
       "      <td>False</td>\n",
       "      <td>75</td>\n",
       "      <td>0</td>\n",
       "      <td>1405</td>\n",
       "      <td>0</td>\n",
       "      <td>0</td>\n",
       "      <td>0</td>\n",
       "      <td>모르가나</td>\n",
       "      <td>perfect</td>\n",
       "    </tr>\n",
       "    <tr>\n",
       "      <th>541637</th>\n",
       "      <td>5330652464</td>\n",
       "      <td>199</td>\n",
       "      <td>8</td>\n",
       "      <td>203</td>\n",
       "      <td>Middle</td>\n",
       "      <td>red</td>\n",
       "      <td>False</td>\n",
       "      <td>46</td>\n",
       "      <td>0</td>\n",
       "      <td>777</td>\n",
       "      <td>0</td>\n",
       "      <td>0</td>\n",
       "      <td>1</td>\n",
       "      <td>킨드레드</td>\n",
       "      <td>perfect</td>\n",
       "    </tr>\n",
       "    <tr>\n",
       "      <th>689172</th>\n",
       "      <td>5335868319</td>\n",
       "      <td>194</td>\n",
       "      <td>3</td>\n",
       "      <td>350</td>\n",
       "      <td>Middle</td>\n",
       "      <td>blue</td>\n",
       "      <td>True</td>\n",
       "      <td>153</td>\n",
       "      <td>0</td>\n",
       "      <td>895</td>\n",
       "      <td>0</td>\n",
       "      <td>0</td>\n",
       "      <td>1</td>\n",
       "      <td>유미</td>\n",
       "      <td>perfect</td>\n",
       "    </tr>\n",
       "    <tr>\n",
       "      <th>753693</th>\n",
       "      <td>5337854432</td>\n",
       "      <td>195</td>\n",
       "      <td>4</td>\n",
       "      <td>350</td>\n",
       "      <td>Bot</td>\n",
       "      <td>blue</td>\n",
       "      <td>True</td>\n",
       "      <td>266</td>\n",
       "      <td>0</td>\n",
       "      <td>772</td>\n",
       "      <td>0</td>\n",
       "      <td>0</td>\n",
       "      <td>0</td>\n",
       "      <td>유미</td>\n",
       "      <td>perfect</td>\n",
       "    </tr>\n",
       "    <tr>\n",
       "      <th>753732</th>\n",
       "      <td>5337855175</td>\n",
       "      <td>205</td>\n",
       "      <td>3</td>\n",
       "      <td>145</td>\n",
       "      <td>Middle</td>\n",
       "      <td>blue</td>\n",
       "      <td>True</td>\n",
       "      <td>104</td>\n",
       "      <td>0</td>\n",
       "      <td>1104</td>\n",
       "      <td>0</td>\n",
       "      <td>0</td>\n",
       "      <td>0</td>\n",
       "      <td>카이사</td>\n",
       "      <td>perfect</td>\n",
       "    </tr>\n",
       "    <tr>\n",
       "      <th>769128</th>\n",
       "      <td>5338716043</td>\n",
       "      <td>194</td>\n",
       "      <td>9</td>\n",
       "      <td>81</td>\n",
       "      <td>Bot</td>\n",
       "      <td>red</td>\n",
       "      <td>False</td>\n",
       "      <td>52</td>\n",
       "      <td>0</td>\n",
       "      <td>729</td>\n",
       "      <td>0</td>\n",
       "      <td>0</td>\n",
       "      <td>0</td>\n",
       "      <td>이즈리얼</td>\n",
       "      <td>perfect</td>\n",
       "    </tr>\n",
       "    <tr>\n",
       "      <th>791987</th>\n",
       "      <td>5339214577</td>\n",
       "      <td>195</td>\n",
       "      <td>8</td>\n",
       "      <td>21</td>\n",
       "      <td>Middle</td>\n",
       "      <td>red</td>\n",
       "      <td>True</td>\n",
       "      <td>240</td>\n",
       "      <td>0</td>\n",
       "      <td>1000</td>\n",
       "      <td>0</td>\n",
       "      <td>0</td>\n",
       "      <td>0</td>\n",
       "      <td>미스 포츈</td>\n",
       "      <td>perfect</td>\n",
       "    </tr>\n",
       "    <tr>\n",
       "      <th>795770</th>\n",
       "      <td>5339322021</td>\n",
       "      <td>713</td>\n",
       "      <td>1</td>\n",
       "      <td>350</td>\n",
       "      <td>Top</td>\n",
       "      <td>blue</td>\n",
       "      <td>False</td>\n",
       "      <td>359</td>\n",
       "      <td>0</td>\n",
       "      <td>2067</td>\n",
       "      <td>0</td>\n",
       "      <td>0</td>\n",
       "      <td>1</td>\n",
       "      <td>유미</td>\n",
       "      <td>perfect</td>\n",
       "    </tr>\n",
       "    <tr>\n",
       "      <th>806651</th>\n",
       "      <td>5339959759</td>\n",
       "      <td>191</td>\n",
       "      <td>2</td>\n",
       "      <td>67</td>\n",
       "      <td>Jungle</td>\n",
       "      <td>blue</td>\n",
       "      <td>True</td>\n",
       "      <td>416</td>\n",
       "      <td>0</td>\n",
       "      <td>1364</td>\n",
       "      <td>1</td>\n",
       "      <td>0</td>\n",
       "      <td>0</td>\n",
       "      <td>베인</td>\n",
       "      <td>perfect</td>\n",
       "    </tr>\n",
       "    <tr>\n",
       "      <th>880563</th>\n",
       "      <td>5342031036</td>\n",
       "      <td>194</td>\n",
       "      <td>4</td>\n",
       "      <td>523</td>\n",
       "      <td>Bot</td>\n",
       "      <td>blue</td>\n",
       "      <td>True</td>\n",
       "      <td>110</td>\n",
       "      <td>0</td>\n",
       "      <td>1113</td>\n",
       "      <td>0</td>\n",
       "      <td>0</td>\n",
       "      <td>0</td>\n",
       "      <td>아펠리오스</td>\n",
       "      <td>perfect</td>\n",
       "    </tr>\n",
       "    <tr>\n",
       "      <th>895979</th>\n",
       "      <td>5342683183</td>\n",
       "      <td>193</td>\n",
       "      <td>10</td>\n",
       "      <td>86</td>\n",
       "      <td>Supporter</td>\n",
       "      <td>red</td>\n",
       "      <td>False</td>\n",
       "      <td>219</td>\n",
       "      <td>0</td>\n",
       "      <td>670</td>\n",
       "      <td>0</td>\n",
       "      <td>0</td>\n",
       "      <td>0</td>\n",
       "      <td>가렌</td>\n",
       "      <td>perfect</td>\n",
       "    </tr>\n",
       "    <tr>\n",
       "      <th>909799</th>\n",
       "      <td>5343028767</td>\n",
       "      <td>192</td>\n",
       "      <td>10</td>\n",
       "      <td>26</td>\n",
       "      <td>Supporter</td>\n",
       "      <td>red</td>\n",
       "      <td>False</td>\n",
       "      <td>122</td>\n",
       "      <td>0</td>\n",
       "      <td>753</td>\n",
       "      <td>0</td>\n",
       "      <td>0</td>\n",
       "      <td>0</td>\n",
       "      <td>질리언</td>\n",
       "      <td>perfect</td>\n",
       "    </tr>\n",
       "    <tr>\n",
       "      <th>962902</th>\n",
       "      <td>5345082074</td>\n",
       "      <td>194</td>\n",
       "      <td>3</td>\n",
       "      <td>427</td>\n",
       "      <td>Middle</td>\n",
       "      <td>blue</td>\n",
       "      <td>False</td>\n",
       "      <td>64</td>\n",
       "      <td>0</td>\n",
       "      <td>1108</td>\n",
       "      <td>0</td>\n",
       "      <td>0</td>\n",
       "      <td>1</td>\n",
       "      <td>아이번</td>\n",
       "      <td>perfect</td>\n",
       "    </tr>\n",
       "  </tbody>\n",
       "</table>\n",
       "</div>"
      ],
      "text/plain": [
       "            gameId  duration  participantId  championId       lane  side  \\\n",
       "11023   5311782587       192              4         202        Bot  blue   \n",
       "17293   5311871136       196              4          81        Bot  blue   \n",
       "28065   5312151091       195              6         117        Top   red   \n",
       "44246   5312901676       665              7         350     Jungle   red   \n",
       "48310   5313043535       196              1         111        Top  blue   \n",
       "65591   5313664883       191              2          40     Jungle  blue   \n",
       "67610   5313714690       194              1          20        Top  blue   \n",
       "116359  5315781379       616             10          13  Supporter   red   \n",
       "236691  5320319024       191              2          34     Jungle  blue   \n",
       "257901  5320923695       191              2          43     Jungle  blue   \n",
       "266079  5321325072       196             10         777  Supporter   red   \n",
       "286036  5321762704       191              7         429     Jungle   red   \n",
       "309660  5322722549       193              1         163        Top  blue   \n",
       "313973  5322810421       193              4         360        Bot  blue   \n",
       "318853  5323338057       199              4         350        Bot  blue   \n",
       "364713  5324802883       191              4          81        Bot  blue   \n",
       "377481  5325039923       196              2         101     Jungle  blue   \n",
       "411028  5326171285       194              9         236        Bot   red   \n",
       "423640  5326545654       192              1         350        Top  blue   \n",
       "429929  5326679669       191             10          29  Supporter   red   \n",
       "459574  5327715999       197              5         518  Supporter  blue   \n",
       "469815  5327980475       191              6          43        Top   red   \n",
       "471426  5328285690       193              7           7     Jungle   red   \n",
       "504160  5329222679       191              1         202        Top  blue   \n",
       "504164  5329222679       191              5          26  Supporter  blue   \n",
       "538354  5330490242       482              5          25  Supporter  blue   \n",
       "541637  5330652464       199              8         203     Middle   red   \n",
       "689172  5335868319       194              3         350     Middle  blue   \n",
       "753693  5337854432       195              4         350        Bot  blue   \n",
       "753732  5337855175       205              3         145     Middle  blue   \n",
       "769128  5338716043       194              9          81        Bot   red   \n",
       "791987  5339214577       195              8          21     Middle   red   \n",
       "795770  5339322021       713              1         350        Top  blue   \n",
       "806651  5339959759       191              2          67     Jungle  blue   \n",
       "880563  5342031036       194              4         523        Bot  blue   \n",
       "895979  5342683183       193             10          86  Supporter   red   \n",
       "909799  5343028767       192             10          26  Supporter   red   \n",
       "962902  5345082074       194              3         427     Middle  blue   \n",
       "\n",
       "          win  damageDealt  damageTaken  gold  kills  deaths  assists  \\\n",
       "11023   False          239            0   962      0       0        0   \n",
       "17293   False          198            0   773      0       0        0   \n",
       "28065   False           57            0   768      0       0        0   \n",
       "44246   False          200            0  2005      0       0        3   \n",
       "48310    True          111            0  1024      1       0        0   \n",
       "65591    True          527            0   940      0       0        2   \n",
       "67610   False          309            0  1112      1       0        1   \n",
       "116359  False           72            0  1533      0       0        0   \n",
       "236691   True          103            0   956      0       0        1   \n",
       "257901  False          700            0  1607      2       0        0   \n",
       "266079  False          164            0   830      0       0        0   \n",
       "286036  False           55            0  1041      1       0        1   \n",
       "309660  False          586            0  1132      1       0        1   \n",
       "313973  False           69            0   671      0       0        0   \n",
       "318853   True          262            0   780      0       0        0   \n",
       "364713  False           77            0   716      0       0        0   \n",
       "377481  False           96            0   713      0       0        0   \n",
       "411028  False          244            0   683      0       0        0   \n",
       "423640  False          250            0   755      0       0        0   \n",
       "429929  False           75            0  1066      1       0        0   \n",
       "459574  False          253            0   755      0       0        0   \n",
       "469815  False           95            0   682      0       0        0   \n",
       "471426   True           18            0   810      0       0        0   \n",
       "504160  False          356            0  1066      1       0        0   \n",
       "504164  False          135            0   796      0       0        1   \n",
       "538354  False           75            0  1405      0       0        0   \n",
       "541637  False           46            0   777      0       0        1   \n",
       "689172   True          153            0   895      0       0        1   \n",
       "753693   True          266            0   772      0       0        0   \n",
       "753732   True          104            0  1104      0       0        0   \n",
       "769128  False           52            0   729      0       0        0   \n",
       "791987   True          240            0  1000      0       0        0   \n",
       "795770  False          359            0  2067      0       0        1   \n",
       "806651   True          416            0  1364      1       0        0   \n",
       "880563   True          110            0  1113      0       0        0   \n",
       "895979  False          219            0   670      0       0        0   \n",
       "909799  False          122            0   753      0       0        0   \n",
       "962902  False           64            0  1108      0       0        1   \n",
       "\n",
       "       champion_name_kr   dm_per  \n",
       "11023                 진  perfect  \n",
       "17293              이즈리얼  perfect  \n",
       "28065                룰루  perfect  \n",
       "44246                유미  perfect  \n",
       "48310              노틸러스  perfect  \n",
       "65591                잔나  perfect  \n",
       "67610           누누와 윌럼프  perfect  \n",
       "116359              라이즈  perfect  \n",
       "236691             애니비아  perfect  \n",
       "257901              카르마  perfect  \n",
       "266079               요네  perfect  \n",
       "286036             칼리스타  perfect  \n",
       "309660              탈리야  perfect  \n",
       "313973              사미라  perfect  \n",
       "318853               유미  perfect  \n",
       "364713             이즈리얼  perfect  \n",
       "377481              제라스  perfect  \n",
       "411028              루시안  perfect  \n",
       "423640               유미  perfect  \n",
       "429929              트위치  perfect  \n",
       "459574               니코  perfect  \n",
       "469815              카르마  perfect  \n",
       "471426              르블랑  perfect  \n",
       "504160                진  perfect  \n",
       "504164              질리언  perfect  \n",
       "538354             모르가나  perfect  \n",
       "541637             킨드레드  perfect  \n",
       "689172               유미  perfect  \n",
       "753693               유미  perfect  \n",
       "753732              카이사  perfect  \n",
       "769128             이즈리얼  perfect  \n",
       "791987            미스 포츈  perfect  \n",
       "795770               유미  perfect  \n",
       "806651               베인  perfect  \n",
       "880563            아펠리오스  perfect  \n",
       "895979               가렌  perfect  \n",
       "909799              질리언  perfect  \n",
       "962902              아이번  perfect  "
      ]
     },
     "execution_count": 124,
     "metadata": {},
     "output_type": "execute_result"
    }
   ],
   "source": [
    "new_df[new_df.dm_per == 'perfect']"
   ]
  },
  {
   "cell_type": "code",
   "execution_count": null,
   "id": "3c2df2f9",
   "metadata": {},
   "outputs": [],
   "source": []
  },
  {
   "cell_type": "code",
   "execution_count": null,
   "id": "217f2a56",
   "metadata": {},
   "outputs": [],
   "source": []
  },
  {
   "cell_type": "code",
   "execution_count": null,
   "id": "ff04f8fe",
   "metadata": {},
   "outputs": [],
   "source": []
  },
  {
   "cell_type": "code",
   "execution_count": null,
   "id": "36d2c8f9",
   "metadata": {},
   "outputs": [],
   "source": []
  },
  {
   "cell_type": "code",
   "execution_count": null,
   "id": "c8f2d23b",
   "metadata": {},
   "outputs": [],
   "source": []
  },
  {
   "cell_type": "code",
   "execution_count": null,
   "id": "bff76dd2",
   "metadata": {},
   "outputs": [],
   "source": []
  },
  {
   "cell_type": "code",
   "execution_count": null,
   "id": "2e447f6f",
   "metadata": {},
   "outputs": [],
   "source": []
  },
  {
   "cell_type": "code",
   "execution_count": null,
   "id": "d1c7d6ad",
   "metadata": {},
   "outputs": [],
   "source": []
  },
  {
   "cell_type": "code",
   "execution_count": null,
   "id": "4015584c",
   "metadata": {},
   "outputs": [],
   "source": []
  },
  {
   "cell_type": "code",
   "execution_count": null,
   "id": "86cd2323",
   "metadata": {},
   "outputs": [],
   "source": []
  },
  {
   "cell_type": "code",
   "execution_count": null,
   "id": "1af46aca",
   "metadata": {},
   "outputs": [],
   "source": []
  }
 ],
 "metadata": {
  "kernelspec": {
   "display_name": "Python 3 (ipykernel)",
   "language": "python",
   "name": "python3"
  },
  "language_info": {
   "codemirror_mode": {
    "name": "ipython",
    "version": 3
   },
   "file_extension": ".py",
   "mimetype": "text/x-python",
   "name": "python",
   "nbconvert_exporter": "python",
   "pygments_lexer": "ipython3",
   "version": "3.11.5"
  }
 },
 "nbformat": 4,
 "nbformat_minor": 5
}
